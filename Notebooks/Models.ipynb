{
 "cells": [
  {
   "cell_type": "markdown",
   "metadata": {},
   "source": [
    "# **BUSINESS CASE 2: SIEMENS ADVANTA SALES FORECASTING**  \n",
    "\n",
    "\n",
    "## 🎓 Master’s Program in Data Science & Advanced Analytics \n",
    "**Nova IMS** | March 2025   \n",
    "**Course:** Business Cases with Data Science\n",
    "\n",
    "## 👥 Team **Group A**  \n",
    "- **Alice Viegas** | 20240572  \n",
    "- **Bernardo Faria** | 20240579  \n",
    "- **Dinis Pinto** | 20240612  \n",
    "- **Daan van Holten** | 20240681\n",
    "- **Philippe Dutranoit** | 20240518"
   ]
  },
  {
   "cell_type": "markdown",
   "metadata": {},
   "source": [
    "## 📊 Goal of the notebook\n",
    "\n",
    "in this notebook we make the build and test the models for forcasting <br>\n",
    "<br>\n",
    "=> for each product group\n",
    "1. we fist evaluate the best model and the best hyper parameter, using grid_search, selected features from feeature selection and, actual data that was provided \n",
    "2. we make the prediction with the best model and best parameter \n",
    "3. we put the forcast in the test_set\n",
    "\n",
    "=> we concate all the test set together"
   ]
  },
  {
   "cell_type": "markdown",
   "metadata": {},
   "source": [
    "# Imports"
   ]
  },
  {
   "cell_type": "code",
   "execution_count": 6,
   "metadata": {},
   "outputs": [
    {
     "data": {
      "text/plain": [
       "<module 'Model_Functions' from '/Users/philippedutranoit/document_ordi/nova/business_case_for_data_sciense/cases/BC_DA_Siemens/Notebooks/Model_Functions.py'>"
      ]
     },
     "execution_count": 6,
     "metadata": {},
     "output_type": "execute_result"
    }
   ],
   "source": [
    "import os\n",
    "import numpy as np\n",
    "import pandas as pd\n",
    "import matplotlib.pyplot as plt\n",
    "from datetime import datetime\n",
    "from sklearn.model_selection import TimeSeriesSplit, GridSearchCV\n",
    "import itertools\n",
    "from sklearn.metrics import mean_squared_error\n",
    "from xgboost import XGBRegressor\n",
    "from prophet import Prophet\n",
    "\n",
    "\n",
    "from Model_Functions import *\n",
    "\n",
    "import importlib\n",
    "imported_module = importlib.import_module(\"Model_Functions\")\n",
    "importlib.reload(imported_module)\n"
   ]
  },
  {
   "cell_type": "code",
   "execution_count": 25,
   "metadata": {},
   "outputs": [
    {
     "name": "stdout",
     "output_type": "stream",
     "text": [
      "               Sales_EUR\n",
      "DATE                    \n",
      "2018-10-01  3.609892e+07\n",
      "2018-11-01  3.699427e+07\n",
      "2018-12-01  3.788961e+07\n",
      "2019-01-01  2.772815e+07\n",
      "2019-02-01  3.479316e+07\n"
     ]
    },
    {
     "data": {
      "text/html": [
       "<div>\n",
       "<style scoped>\n",
       "    .dataframe tbody tr th:only-of-type {\n",
       "        vertical-align: middle;\n",
       "    }\n",
       "\n",
       "    .dataframe tbody tr th {\n",
       "        vertical-align: top;\n",
       "    }\n",
       "\n",
       "    .dataframe thead th {\n",
       "        text-align: right;\n",
       "    }\n",
       "</style>\n",
       "<table border=\"1\" class=\"dataframe\">\n",
       "  <thead>\n",
       "    <tr style=\"text-align: right;\">\n",
       "      <th></th>\n",
       "      <th>MAB_ELE_PRO156</th>\n",
       "      <th>MAB_ELE_SHP156</th>\n",
       "      <th>MAB_ELE_SHP250</th>\n",
       "      <th>MAB_ELE_PRO392</th>\n",
       "      <th>MAB_ELE_SHP392</th>\n",
       "      <th>MAB_ELE_PRO756</th>\n",
       "      <th>MAB_ELE_SHP756</th>\n",
       "      <th>MAB_ELE_PRO826</th>\n",
       "      <th>MAB_ELE_SHP826</th>\n",
       "      <th>MAB_ELE_SHP840</th>\n",
       "      <th>...</th>\n",
       "      <th>PRI27380_org</th>\n",
       "      <th>PRI27250_org</th>\n",
       "      <th>PRI27276_org</th>\n",
       "      <th>PRO28756_org</th>\n",
       "      <th>PRO28392_org</th>\n",
       "      <th>PRO271000_org</th>\n",
       "      <th>PRO27756_org</th>\n",
       "      <th>PRO27826_org</th>\n",
       "      <th>PRO27392_org</th>\n",
       "      <th>PRO27276_org</th>\n",
       "    </tr>\n",
       "    <tr>\n",
       "      <th>date</th>\n",
       "      <th></th>\n",
       "      <th></th>\n",
       "      <th></th>\n",
       "      <th></th>\n",
       "      <th></th>\n",
       "      <th></th>\n",
       "      <th></th>\n",
       "      <th></th>\n",
       "      <th></th>\n",
       "      <th></th>\n",
       "      <th></th>\n",
       "      <th></th>\n",
       "      <th></th>\n",
       "      <th></th>\n",
       "      <th></th>\n",
       "      <th></th>\n",
       "      <th></th>\n",
       "      <th></th>\n",
       "      <th></th>\n",
       "      <th></th>\n",
       "      <th></th>\n",
       "    </tr>\n",
       "  </thead>\n",
       "  <tbody>\n",
       "    <tr>\n",
       "      <th>2004-02-01</th>\n",
       "      <td>16.940704</td>\n",
       "      <td>16.940704</td>\n",
       "      <td>83.458866</td>\n",
       "      <td>109.334010</td>\n",
       "      <td>110.495272</td>\n",
       "      <td>86.074496</td>\n",
       "      <td>80.962532</td>\n",
       "      <td>111.353812</td>\n",
       "      <td>77.766367</td>\n",
       "      <td>90.442749</td>\n",
       "      <td>...</td>\n",
       "      <td>93.020027</td>\n",
       "      <td>96.864647</td>\n",
       "      <td>93.230453</td>\n",
       "      <td>96.177481</td>\n",
       "      <td>110.890034</td>\n",
       "      <td>91.390440</td>\n",
       "      <td>68.677657</td>\n",
       "      <td>120.706516</td>\n",
       "      <td>106.161262</td>\n",
       "      <td>85.913200</td>\n",
       "    </tr>\n",
       "    <tr>\n",
       "      <th>2004-03-01</th>\n",
       "      <td>23.711852</td>\n",
       "      <td>23.711852</td>\n",
       "      <td>106.168192</td>\n",
       "      <td>140.884616</td>\n",
       "      <td>144.686166</td>\n",
       "      <td>86.038258</td>\n",
       "      <td>80.912352</td>\n",
       "      <td>127.558608</td>\n",
       "      <td>77.829225</td>\n",
       "      <td>90.580357</td>\n",
       "      <td>...</td>\n",
       "      <td>93.540268</td>\n",
       "      <td>96.864653</td>\n",
       "      <td>93.335678</td>\n",
       "      <td>96.250927</td>\n",
       "      <td>141.176853</td>\n",
       "      <td>91.511498</td>\n",
       "      <td>68.452548</td>\n",
       "      <td>138.309550</td>\n",
       "      <td>140.288741</td>\n",
       "      <td>97.670815</td>\n",
       "    </tr>\n",
       "    <tr>\n",
       "      <th>2004-04-01</th>\n",
       "      <td>24.435235</td>\n",
       "      <td>24.435235</td>\n",
       "      <td>92.007646</td>\n",
       "      <td>105.853579</td>\n",
       "      <td>102.655769</td>\n",
       "      <td>85.997063</td>\n",
       "      <td>80.857863</td>\n",
       "      <td>108.732297</td>\n",
       "      <td>77.904642</td>\n",
       "      <td>90.751805</td>\n",
       "      <td>...</td>\n",
       "      <td>93.852425</td>\n",
       "      <td>96.864659</td>\n",
       "      <td>93.440903</td>\n",
       "      <td>96.330211</td>\n",
       "      <td>105.648765</td>\n",
       "      <td>91.666790</td>\n",
       "      <td>68.203892</td>\n",
       "      <td>115.557330</td>\n",
       "      <td>106.271197</td>\n",
       "      <td>87.253983</td>\n",
       "    </tr>\n",
       "    <tr>\n",
       "      <th>2004-05-01</th>\n",
       "      <td>23.708115</td>\n",
       "      <td>23.708115</td>\n",
       "      <td>85.696486</td>\n",
       "      <td>101.864777</td>\n",
       "      <td>100.305285</td>\n",
       "      <td>85.951483</td>\n",
       "      <td>80.800601</td>\n",
       "      <td>110.645200</td>\n",
       "      <td>77.993606</td>\n",
       "      <td>90.961426</td>\n",
       "      <td>...</td>\n",
       "      <td>93.852425</td>\n",
       "      <td>96.864666</td>\n",
       "      <td>93.546127</td>\n",
       "      <td>96.413549</td>\n",
       "      <td>101.990361</td>\n",
       "      <td>91.861457</td>\n",
       "      <td>67.936322</td>\n",
       "      <td>119.269534</td>\n",
       "      <td>101.608710</td>\n",
       "      <td>84.675552</td>\n",
       "    </tr>\n",
       "    <tr>\n",
       "      <th>2004-06-01</th>\n",
       "      <td>27.009138</td>\n",
       "      <td>27.009138</td>\n",
       "      <td>106.641482</td>\n",
       "      <td>120.332920</td>\n",
       "      <td>119.616380</td>\n",
       "      <td>85.902640</td>\n",
       "      <td>80.742724</td>\n",
       "      <td>122.020960</td>\n",
       "      <td>78.096995</td>\n",
       "      <td>91.213203</td>\n",
       "      <td>...</td>\n",
       "      <td>93.956467</td>\n",
       "      <td>96.864672</td>\n",
       "      <td>93.440903</td>\n",
       "      <td>96.499291</td>\n",
       "      <td>122.136575</td>\n",
       "      <td>92.100289</td>\n",
       "      <td>67.655734</td>\n",
       "      <td>128.849416</td>\n",
       "      <td>116.655248</td>\n",
       "      <td>95.401802</td>\n",
       "    </tr>\n",
       "  </tbody>\n",
       "</table>\n",
       "<p>5 rows × 24 columns</p>\n",
       "</div>"
      ],
      "text/plain": [
       "            MAB_ELE_PRO156  MAB_ELE_SHP156  MAB_ELE_SHP250  MAB_ELE_PRO392  \\\n",
       "date                                                                         \n",
       "2004-02-01       16.940704       16.940704       83.458866      109.334010   \n",
       "2004-03-01       23.711852       23.711852      106.168192      140.884616   \n",
       "2004-04-01       24.435235       24.435235       92.007646      105.853579   \n",
       "2004-05-01       23.708115       23.708115       85.696486      101.864777   \n",
       "2004-06-01       27.009138       27.009138      106.641482      120.332920   \n",
       "\n",
       "            MAB_ELE_SHP392  MAB_ELE_PRO756  MAB_ELE_SHP756  MAB_ELE_PRO826  \\\n",
       "date                                                                         \n",
       "2004-02-01      110.495272       86.074496       80.962532      111.353812   \n",
       "2004-03-01      144.686166       86.038258       80.912352      127.558608   \n",
       "2004-04-01      102.655769       85.997063       80.857863      108.732297   \n",
       "2004-05-01      100.305285       85.951483       80.800601      110.645200   \n",
       "2004-06-01      119.616380       85.902640       80.742724      122.020960   \n",
       "\n",
       "            MAB_ELE_SHP826  MAB_ELE_SHP840  ...  PRI27380_org  PRI27250_org  \\\n",
       "date                                        ...                               \n",
       "2004-02-01       77.766367       90.442749  ...     93.020027     96.864647   \n",
       "2004-03-01       77.829225       90.580357  ...     93.540268     96.864653   \n",
       "2004-04-01       77.904642       90.751805  ...     93.852425     96.864659   \n",
       "2004-05-01       77.993606       90.961426  ...     93.852425     96.864666   \n",
       "2004-06-01       78.096995       91.213203  ...     93.956467     96.864672   \n",
       "\n",
       "            PRI27276_org  PRO28756_org  PRO28392_org  PRO271000_org  \\\n",
       "date                                                                  \n",
       "2004-02-01     93.230453     96.177481    110.890034      91.390440   \n",
       "2004-03-01     93.335678     96.250927    141.176853      91.511498   \n",
       "2004-04-01     93.440903     96.330211    105.648765      91.666790   \n",
       "2004-05-01     93.546127     96.413549    101.990361      91.861457   \n",
       "2004-06-01     93.440903     96.499291    122.136575      92.100289   \n",
       "\n",
       "            PRO27756_org  PRO27826_org  PRO27392_org  PRO27276_org  \n",
       "date                                                                \n",
       "2004-02-01     68.677657    120.706516    106.161262     85.913200  \n",
       "2004-03-01     68.452548    138.309550    140.288741     97.670815  \n",
       "2004-04-01     68.203892    115.557330    106.271197     87.253983  \n",
       "2004-05-01     67.936322    119.269534    101.608710     84.675552  \n",
       "2004-06-01     67.655734    128.849416    116.655248     95.401802  \n",
       "\n",
       "[5 rows x 24 columns]"
      ]
     },
     "execution_count": 25,
     "metadata": {},
     "output_type": "execute_result"
    }
   ],
   "source": [
    "sales_agg1 = pd.read_csv('../data/sales_agg1.csv').set_index('DATE')\n",
    "sales_agg3 = pd.read_csv('../data/sales_agg3.csv').set_index('DATE')\n",
    "sales_agg4 = pd.read_csv('../data/sales_agg4.csv').set_index('DATE')\n",
    "sales_agg5 = pd.read_csv('../data/sales_agg5.csv').set_index('DATE')\n",
    "sales_agg6 = pd.read_csv('../data/sales_agg6.csv').set_index('DATE')\n",
    "sales_agg8 = pd.read_csv('../data/sales_agg8.csv').set_index('DATE')\n",
    "sales_agg9 = pd.read_csv('../data/sales_agg9.csv').set_index('DATE')\n",
    "sales_agg11 = pd.read_csv('../data/sales_agg11.csv').set_index('DATE')\n",
    "sales_agg12 = pd.read_csv('../data/sales_agg12.csv').set_index('DATE')\n",
    "sales_agg13 = pd.read_csv('../data/sales_agg13.csv').set_index('DATE')\n",
    "sales_agg14 = pd.read_csv('../data/sales_agg14.csv').set_index('DATE')\n",
    "sales_agg16 = pd.read_csv('../data/sales_agg16.csv').set_index('DATE')\n",
    "sales_agg20 = pd.read_csv('../data/sales_agg20.csv').set_index('DATE')\n",
    "sales_agg36 = pd.read_csv('../data/sales_agg36.csv').set_index('DATE')\n",
    "\n",
    "# extract the selected features list build in the feature selection step\n",
    "selected_features_1 = pd.read_csv('../data/selected_features_1.csv')['selected_features'].tolist()\n",
    "selected_features_3 = pd.read_csv('../data/selected_features_3.csv')['selected_features'].tolist()\n",
    "selected_features_4 = pd.read_csv('../data/selected_features_4.csv')['selected_features'].tolist()\n",
    "selected_features_5 = pd.read_csv('../data/selected_features_5.csv')['selected_features'].tolist()\n",
    "selected_features_6 = pd.read_csv('../data/selected_features_6.csv')['selected_features'].tolist()\n",
    "selected_features_8 = pd.read_csv('../data/selected_features_8.csv')['selected_features'].tolist()\n",
    "selected_features_9 = pd.read_csv('../data/selected_features_9.csv')['selected_features'].tolist()\n",
    "selected_features_11 = pd.read_csv('../data/selected_features_11.csv')['selected_features'].tolist()\n",
    "selected_features_12 = pd.read_csv('../data/selected_features_12.csv')['selected_features'].tolist()\n",
    "selected_features_13 = pd.read_csv('../data/selected_features_13.csv')['selected_features'].tolist()\n",
    "selected_features_14 = pd.read_csv('../data/selected_features_14.csv')['selected_features'].tolist()\n",
    "selected_features_16 = pd.read_csv('../data/selected_features_16.csv')['selected_features'].tolist()\n",
    "selected_features_20 = pd.read_csv('../data/selected_features_20.csv')['selected_features'].tolist()\n",
    "selected_features_36 = pd.read_csv('../data/selected_features_36.csv')['selected_features'].tolist()\n",
    "\n",
    "\n",
    "# load the market data\n",
    "df_market = pd.read_csv('../data/Market_data_predicted.csv').set_index('date')\n",
    "test_set = pd.read_csv('../Data/Case2_Test Set Template.csv', sep=';')\n",
    "print(sales_agg1.head())\n",
    "df_market.head()\n"
   ]
  },
  {
   "cell_type": "code",
   "execution_count": 27,
   "metadata": {},
   "outputs": [],
   "source": [
    "def parse_month_year(date_string):\n",
    "    month_map = {\n",
    "    \"Jan\": 1,\n",
    "    \"Feb\": 2,\n",
    "    \"Mai\": 5,\n",
    "    \"Jun\": 6,\n",
    "    \"Jul\": 7,\n",
    "    \"Aug\": 8,\n",
    "    \"Sep\": 9,\n",
    "    \"Okt\": 10,\n",
    "    \"Nov\": 11,\n",
    "    \"Dez\": 12\n",
    "    }\n",
    "\n",
    "    month_abbr = date_string[:3]\n",
    "    year_suffix = date_string[-2:]\n",
    "    month_num = month_map.get(month_abbr)\n",
    "\n",
    "    if not month_num:\n",
    "        raise ValueError(f\"Unknown month abbreviation: {month_abbr}\")\n",
    "    \n",
    "    return datetime.strptime(f\"{month_num} 01 {year_suffix}\", \"%m %d %y\").date()\n",
    "# Apply conversion safely\n",
    "test_set['Month Year'] = test_set['Month Year'].apply(parse_month_year)"
   ]
  },
  {
   "cell_type": "markdown",
   "metadata": {},
   "source": [
    "# Preparation "
   ]
  },
  {
   "cell_type": "markdown",
   "metadata": {},
   "source": [
    "## Create the lag market data feature needed for the model"
   ]
  },
  {
   "cell_type": "code",
   "execution_count": 10,
   "metadata": {},
   "outputs": [
    {
     "name": "stderr",
     "output_type": "stream",
     "text": [
      "/Users/philippedutranoit/document_ordi/nova/business_case_for_data_sciense/cases/BC_DA_Siemens/Notebooks/Model_Functions.py:30: PerformanceWarning: DataFrame is highly fragmented.  This is usually the result of calling `frame.insert` many times, which has poor performance.  Consider joining all columns at once using pd.concat(axis=1) instead. To get a de-fragmented frame, use `newframe = frame.copy()`\n",
      "  df_lagging[f'{col}_lag_{lag}'] = df_lagging[col].shift(lag)\n",
      "/Users/philippedutranoit/document_ordi/nova/business_case_for_data_sciense/cases/BC_DA_Siemens/Notebooks/Model_Functions.py:30: PerformanceWarning: DataFrame is highly fragmented.  This is usually the result of calling `frame.insert` many times, which has poor performance.  Consider joining all columns at once using pd.concat(axis=1) instead. To get a de-fragmented frame, use `newframe = frame.copy()`\n",
      "  df_lagging[f'{col}_lag_{lag}'] = df_lagging[col].shift(lag)\n",
      "/Users/philippedutranoit/document_ordi/nova/business_case_for_data_sciense/cases/BC_DA_Siemens/Notebooks/Model_Functions.py:30: PerformanceWarning: DataFrame is highly fragmented.  This is usually the result of calling `frame.insert` many times, which has poor performance.  Consider joining all columns at once using pd.concat(axis=1) instead. To get a de-fragmented frame, use `newframe = frame.copy()`\n",
      "  df_lagging[f'{col}_lag_{lag}'] = df_lagging[col].shift(lag)\n",
      "/Users/philippedutranoit/document_ordi/nova/business_case_for_data_sciense/cases/BC_DA_Siemens/Notebooks/Model_Functions.py:30: PerformanceWarning: DataFrame is highly fragmented.  This is usually the result of calling `frame.insert` many times, which has poor performance.  Consider joining all columns at once using pd.concat(axis=1) instead. To get a de-fragmented frame, use `newframe = frame.copy()`\n",
      "  df_lagging[f'{col}_lag_{lag}'] = df_lagging[col].shift(lag)\n",
      "/Users/philippedutranoit/document_ordi/nova/business_case_for_data_sciense/cases/BC_DA_Siemens/Notebooks/Model_Functions.py:30: PerformanceWarning: DataFrame is highly fragmented.  This is usually the result of calling `frame.insert` many times, which has poor performance.  Consider joining all columns at once using pd.concat(axis=1) instead. To get a de-fragmented frame, use `newframe = frame.copy()`\n",
      "  df_lagging[f'{col}_lag_{lag}'] = df_lagging[col].shift(lag)\n",
      "/Users/philippedutranoit/document_ordi/nova/business_case_for_data_sciense/cases/BC_DA_Siemens/Notebooks/Model_Functions.py:30: PerformanceWarning: DataFrame is highly fragmented.  This is usually the result of calling `frame.insert` many times, which has poor performance.  Consider joining all columns at once using pd.concat(axis=1) instead. To get a de-fragmented frame, use `newframe = frame.copy()`\n",
      "  df_lagging[f'{col}_lag_{lag}'] = df_lagging[col].shift(lag)\n",
      "/Users/philippedutranoit/document_ordi/nova/business_case_for_data_sciense/cases/BC_DA_Siemens/Notebooks/Model_Functions.py:30: PerformanceWarning: DataFrame is highly fragmented.  This is usually the result of calling `frame.insert` many times, which has poor performance.  Consider joining all columns at once using pd.concat(axis=1) instead. To get a de-fragmented frame, use `newframe = frame.copy()`\n",
      "  df_lagging[f'{col}_lag_{lag}'] = df_lagging[col].shift(lag)\n",
      "/Users/philippedutranoit/document_ordi/nova/business_case_for_data_sciense/cases/BC_DA_Siemens/Notebooks/Model_Functions.py:30: PerformanceWarning: DataFrame is highly fragmented.  This is usually the result of calling `frame.insert` many times, which has poor performance.  Consider joining all columns at once using pd.concat(axis=1) instead. To get a de-fragmented frame, use `newframe = frame.copy()`\n",
      "  df_lagging[f'{col}_lag_{lag}'] = df_lagging[col].shift(lag)\n",
      "/Users/philippedutranoit/document_ordi/nova/business_case_for_data_sciense/cases/BC_DA_Siemens/Notebooks/Model_Functions.py:30: PerformanceWarning: DataFrame is highly fragmented.  This is usually the result of calling `frame.insert` many times, which has poor performance.  Consider joining all columns at once using pd.concat(axis=1) instead. To get a de-fragmented frame, use `newframe = frame.copy()`\n",
      "  df_lagging[f'{col}_lag_{lag}'] = df_lagging[col].shift(lag)\n",
      "/Users/philippedutranoit/document_ordi/nova/business_case_for_data_sciense/cases/BC_DA_Siemens/Notebooks/Model_Functions.py:30: PerformanceWarning: DataFrame is highly fragmented.  This is usually the result of calling `frame.insert` many times, which has poor performance.  Consider joining all columns at once using pd.concat(axis=1) instead. To get a de-fragmented frame, use `newframe = frame.copy()`\n",
      "  df_lagging[f'{col}_lag_{lag}'] = df_lagging[col].shift(lag)\n",
      "/Users/philippedutranoit/document_ordi/nova/business_case_for_data_sciense/cases/BC_DA_Siemens/Notebooks/Model_Functions.py:30: PerformanceWarning: DataFrame is highly fragmented.  This is usually the result of calling `frame.insert` many times, which has poor performance.  Consider joining all columns at once using pd.concat(axis=1) instead. To get a de-fragmented frame, use `newframe = frame.copy()`\n",
      "  df_lagging[f'{col}_lag_{lag}'] = df_lagging[col].shift(lag)\n",
      "/Users/philippedutranoit/document_ordi/nova/business_case_for_data_sciense/cases/BC_DA_Siemens/Notebooks/Model_Functions.py:30: PerformanceWarning: DataFrame is highly fragmented.  This is usually the result of calling `frame.insert` many times, which has poor performance.  Consider joining all columns at once using pd.concat(axis=1) instead. To get a de-fragmented frame, use `newframe = frame.copy()`\n",
      "  df_lagging[f'{col}_lag_{lag}'] = df_lagging[col].shift(lag)\n",
      "/Users/philippedutranoit/document_ordi/nova/business_case_for_data_sciense/cases/BC_DA_Siemens/Notebooks/Model_Functions.py:30: PerformanceWarning: DataFrame is highly fragmented.  This is usually the result of calling `frame.insert` many times, which has poor performance.  Consider joining all columns at once using pd.concat(axis=1) instead. To get a de-fragmented frame, use `newframe = frame.copy()`\n",
      "  df_lagging[f'{col}_lag_{lag}'] = df_lagging[col].shift(lag)\n",
      "/Users/philippedutranoit/document_ordi/nova/business_case_for_data_sciense/cases/BC_DA_Siemens/Notebooks/Model_Functions.py:30: PerformanceWarning: DataFrame is highly fragmented.  This is usually the result of calling `frame.insert` many times, which has poor performance.  Consider joining all columns at once using pd.concat(axis=1) instead. To get a de-fragmented frame, use `newframe = frame.copy()`\n",
      "  df_lagging[f'{col}_lag_{lag}'] = df_lagging[col].shift(lag)\n",
      "/Users/philippedutranoit/document_ordi/nova/business_case_for_data_sciense/cases/BC_DA_Siemens/Notebooks/Model_Functions.py:30: PerformanceWarning: DataFrame is highly fragmented.  This is usually the result of calling `frame.insert` many times, which has poor performance.  Consider joining all columns at once using pd.concat(axis=1) instead. To get a de-fragmented frame, use `newframe = frame.copy()`\n",
      "  df_lagging[f'{col}_lag_{lag}'] = df_lagging[col].shift(lag)\n",
      "/Users/philippedutranoit/document_ordi/nova/business_case_for_data_sciense/cases/BC_DA_Siemens/Notebooks/Model_Functions.py:30: PerformanceWarning: DataFrame is highly fragmented.  This is usually the result of calling `frame.insert` many times, which has poor performance.  Consider joining all columns at once using pd.concat(axis=1) instead. To get a de-fragmented frame, use `newframe = frame.copy()`\n",
      "  df_lagging[f'{col}_lag_{lag}'] = df_lagging[col].shift(lag)\n",
      "/Users/philippedutranoit/document_ordi/nova/business_case_for_data_sciense/cases/BC_DA_Siemens/Notebooks/Model_Functions.py:30: PerformanceWarning: DataFrame is highly fragmented.  This is usually the result of calling `frame.insert` many times, which has poor performance.  Consider joining all columns at once using pd.concat(axis=1) instead. To get a de-fragmented frame, use `newframe = frame.copy()`\n",
      "  df_lagging[f'{col}_lag_{lag}'] = df_lagging[col].shift(lag)\n",
      "/Users/philippedutranoit/document_ordi/nova/business_case_for_data_sciense/cases/BC_DA_Siemens/Notebooks/Model_Functions.py:30: PerformanceWarning: DataFrame is highly fragmented.  This is usually the result of calling `frame.insert` many times, which has poor performance.  Consider joining all columns at once using pd.concat(axis=1) instead. To get a de-fragmented frame, use `newframe = frame.copy()`\n",
      "  df_lagging[f'{col}_lag_{lag}'] = df_lagging[col].shift(lag)\n",
      "/Users/philippedutranoit/document_ordi/nova/business_case_for_data_sciense/cases/BC_DA_Siemens/Notebooks/Model_Functions.py:30: PerformanceWarning: DataFrame is highly fragmented.  This is usually the result of calling `frame.insert` many times, which has poor performance.  Consider joining all columns at once using pd.concat(axis=1) instead. To get a de-fragmented frame, use `newframe = frame.copy()`\n",
      "  df_lagging[f'{col}_lag_{lag}'] = df_lagging[col].shift(lag)\n",
      "/Users/philippedutranoit/document_ordi/nova/business_case_for_data_sciense/cases/BC_DA_Siemens/Notebooks/Model_Functions.py:30: PerformanceWarning: DataFrame is highly fragmented.  This is usually the result of calling `frame.insert` many times, which has poor performance.  Consider joining all columns at once using pd.concat(axis=1) instead. To get a de-fragmented frame, use `newframe = frame.copy()`\n",
      "  df_lagging[f'{col}_lag_{lag}'] = df_lagging[col].shift(lag)\n",
      "/Users/philippedutranoit/document_ordi/nova/business_case_for_data_sciense/cases/BC_DA_Siemens/Notebooks/Model_Functions.py:30: PerformanceWarning: DataFrame is highly fragmented.  This is usually the result of calling `frame.insert` many times, which has poor performance.  Consider joining all columns at once using pd.concat(axis=1) instead. To get a de-fragmented frame, use `newframe = frame.copy()`\n",
      "  df_lagging[f'{col}_lag_{lag}'] = df_lagging[col].shift(lag)\n",
      "/Users/philippedutranoit/document_ordi/nova/business_case_for_data_sciense/cases/BC_DA_Siemens/Notebooks/Model_Functions.py:30: PerformanceWarning: DataFrame is highly fragmented.  This is usually the result of calling `frame.insert` many times, which has poor performance.  Consider joining all columns at once using pd.concat(axis=1) instead. To get a de-fragmented frame, use `newframe = frame.copy()`\n",
      "  df_lagging[f'{col}_lag_{lag}'] = df_lagging[col].shift(lag)\n",
      "/Users/philippedutranoit/document_ordi/nova/business_case_for_data_sciense/cases/BC_DA_Siemens/Notebooks/Model_Functions.py:30: PerformanceWarning: DataFrame is highly fragmented.  This is usually the result of calling `frame.insert` many times, which has poor performance.  Consider joining all columns at once using pd.concat(axis=1) instead. To get a de-fragmented frame, use `newframe = frame.copy()`\n",
      "  df_lagging[f'{col}_lag_{lag}'] = df_lagging[col].shift(lag)\n",
      "/Users/philippedutranoit/document_ordi/nova/business_case_for_data_sciense/cases/BC_DA_Siemens/Notebooks/Model_Functions.py:30: PerformanceWarning: DataFrame is highly fragmented.  This is usually the result of calling `frame.insert` many times, which has poor performance.  Consider joining all columns at once using pd.concat(axis=1) instead. To get a de-fragmented frame, use `newframe = frame.copy()`\n",
      "  df_lagging[f'{col}_lag_{lag}'] = df_lagging[col].shift(lag)\n",
      "/Users/philippedutranoit/document_ordi/nova/business_case_for_data_sciense/cases/BC_DA_Siemens/Notebooks/Model_Functions.py:30: PerformanceWarning: DataFrame is highly fragmented.  This is usually the result of calling `frame.insert` many times, which has poor performance.  Consider joining all columns at once using pd.concat(axis=1) instead. To get a de-fragmented frame, use `newframe = frame.copy()`\n",
      "  df_lagging[f'{col}_lag_{lag}'] = df_lagging[col].shift(lag)\n",
      "/Users/philippedutranoit/document_ordi/nova/business_case_for_data_sciense/cases/BC_DA_Siemens/Notebooks/Model_Functions.py:30: PerformanceWarning: DataFrame is highly fragmented.  This is usually the result of calling `frame.insert` many times, which has poor performance.  Consider joining all columns at once using pd.concat(axis=1) instead. To get a de-fragmented frame, use `newframe = frame.copy()`\n",
      "  df_lagging[f'{col}_lag_{lag}'] = df_lagging[col].shift(lag)\n",
      "/Users/philippedutranoit/document_ordi/nova/business_case_for_data_sciense/cases/BC_DA_Siemens/Notebooks/Model_Functions.py:30: PerformanceWarning: DataFrame is highly fragmented.  This is usually the result of calling `frame.insert` many times, which has poor performance.  Consider joining all columns at once using pd.concat(axis=1) instead. To get a de-fragmented frame, use `newframe = frame.copy()`\n",
      "  df_lagging[f'{col}_lag_{lag}'] = df_lagging[col].shift(lag)\n",
      "/Users/philippedutranoit/document_ordi/nova/business_case_for_data_sciense/cases/BC_DA_Siemens/Notebooks/Model_Functions.py:30: PerformanceWarning: DataFrame is highly fragmented.  This is usually the result of calling `frame.insert` many times, which has poor performance.  Consider joining all columns at once using pd.concat(axis=1) instead. To get a de-fragmented frame, use `newframe = frame.copy()`\n",
      "  df_lagging[f'{col}_lag_{lag}'] = df_lagging[col].shift(lag)\n",
      "/Users/philippedutranoit/document_ordi/nova/business_case_for_data_sciense/cases/BC_DA_Siemens/Notebooks/Model_Functions.py:30: PerformanceWarning: DataFrame is highly fragmented.  This is usually the result of calling `frame.insert` many times, which has poor performance.  Consider joining all columns at once using pd.concat(axis=1) instead. To get a de-fragmented frame, use `newframe = frame.copy()`\n",
      "  df_lagging[f'{col}_lag_{lag}'] = df_lagging[col].shift(lag)\n",
      "/Users/philippedutranoit/document_ordi/nova/business_case_for_data_sciense/cases/BC_DA_Siemens/Notebooks/Model_Functions.py:30: PerformanceWarning: DataFrame is highly fragmented.  This is usually the result of calling `frame.insert` many times, which has poor performance.  Consider joining all columns at once using pd.concat(axis=1) instead. To get a de-fragmented frame, use `newframe = frame.copy()`\n",
      "  df_lagging[f'{col}_lag_{lag}'] = df_lagging[col].shift(lag)\n",
      "/Users/philippedutranoit/document_ordi/nova/business_case_for_data_sciense/cases/BC_DA_Siemens/Notebooks/Model_Functions.py:30: PerformanceWarning: DataFrame is highly fragmented.  This is usually the result of calling `frame.insert` many times, which has poor performance.  Consider joining all columns at once using pd.concat(axis=1) instead. To get a de-fragmented frame, use `newframe = frame.copy()`\n",
      "  df_lagging[f'{col}_lag_{lag}'] = df_lagging[col].shift(lag)\n",
      "/Users/philippedutranoit/document_ordi/nova/business_case_for_data_sciense/cases/BC_DA_Siemens/Notebooks/Model_Functions.py:30: PerformanceWarning: DataFrame is highly fragmented.  This is usually the result of calling `frame.insert` many times, which has poor performance.  Consider joining all columns at once using pd.concat(axis=1) instead. To get a de-fragmented frame, use `newframe = frame.copy()`\n",
      "  df_lagging[f'{col}_lag_{lag}'] = df_lagging[col].shift(lag)\n",
      "/Users/philippedutranoit/document_ordi/nova/business_case_for_data_sciense/cases/BC_DA_Siemens/Notebooks/Model_Functions.py:30: PerformanceWarning: DataFrame is highly fragmented.  This is usually the result of calling `frame.insert` many times, which has poor performance.  Consider joining all columns at once using pd.concat(axis=1) instead. To get a de-fragmented frame, use `newframe = frame.copy()`\n",
      "  df_lagging[f'{col}_lag_{lag}'] = df_lagging[col].shift(lag)\n",
      "/Users/philippedutranoit/document_ordi/nova/business_case_for_data_sciense/cases/BC_DA_Siemens/Notebooks/Model_Functions.py:30: PerformanceWarning: DataFrame is highly fragmented.  This is usually the result of calling `frame.insert` many times, which has poor performance.  Consider joining all columns at once using pd.concat(axis=1) instead. To get a de-fragmented frame, use `newframe = frame.copy()`\n",
      "  df_lagging[f'{col}_lag_{lag}'] = df_lagging[col].shift(lag)\n",
      "/Users/philippedutranoit/document_ordi/nova/business_case_for_data_sciense/cases/BC_DA_Siemens/Notebooks/Model_Functions.py:30: PerformanceWarning: DataFrame is highly fragmented.  This is usually the result of calling `frame.insert` many times, which has poor performance.  Consider joining all columns at once using pd.concat(axis=1) instead. To get a de-fragmented frame, use `newframe = frame.copy()`\n",
      "  df_lagging[f'{col}_lag_{lag}'] = df_lagging[col].shift(lag)\n",
      "/Users/philippedutranoit/document_ordi/nova/business_case_for_data_sciense/cases/BC_DA_Siemens/Notebooks/Model_Functions.py:30: PerformanceWarning: DataFrame is highly fragmented.  This is usually the result of calling `frame.insert` many times, which has poor performance.  Consider joining all columns at once using pd.concat(axis=1) instead. To get a de-fragmented frame, use `newframe = frame.copy()`\n",
      "  df_lagging[f'{col}_lag_{lag}'] = df_lagging[col].shift(lag)\n",
      "/Users/philippedutranoit/document_ordi/nova/business_case_for_data_sciense/cases/BC_DA_Siemens/Notebooks/Model_Functions.py:30: PerformanceWarning: DataFrame is highly fragmented.  This is usually the result of calling `frame.insert` many times, which has poor performance.  Consider joining all columns at once using pd.concat(axis=1) instead. To get a de-fragmented frame, use `newframe = frame.copy()`\n",
      "  df_lagging[f'{col}_lag_{lag}'] = df_lagging[col].shift(lag)\n",
      "/Users/philippedutranoit/document_ordi/nova/business_case_for_data_sciense/cases/BC_DA_Siemens/Notebooks/Model_Functions.py:30: PerformanceWarning: DataFrame is highly fragmented.  This is usually the result of calling `frame.insert` many times, which has poor performance.  Consider joining all columns at once using pd.concat(axis=1) instead. To get a de-fragmented frame, use `newframe = frame.copy()`\n",
      "  df_lagging[f'{col}_lag_{lag}'] = df_lagging[col].shift(lag)\n",
      "/Users/philippedutranoit/document_ordi/nova/business_case_for_data_sciense/cases/BC_DA_Siemens/Notebooks/Model_Functions.py:30: PerformanceWarning: DataFrame is highly fragmented.  This is usually the result of calling `frame.insert` many times, which has poor performance.  Consider joining all columns at once using pd.concat(axis=1) instead. To get a de-fragmented frame, use `newframe = frame.copy()`\n",
      "  df_lagging[f'{col}_lag_{lag}'] = df_lagging[col].shift(lag)\n",
      "/Users/philippedutranoit/document_ordi/nova/business_case_for_data_sciense/cases/BC_DA_Siemens/Notebooks/Model_Functions.py:30: PerformanceWarning: DataFrame is highly fragmented.  This is usually the result of calling `frame.insert` many times, which has poor performance.  Consider joining all columns at once using pd.concat(axis=1) instead. To get a de-fragmented frame, use `newframe = frame.copy()`\n",
      "  df_lagging[f'{col}_lag_{lag}'] = df_lagging[col].shift(lag)\n",
      "/Users/philippedutranoit/document_ordi/nova/business_case_for_data_sciense/cases/BC_DA_Siemens/Notebooks/Model_Functions.py:30: PerformanceWarning: DataFrame is highly fragmented.  This is usually the result of calling `frame.insert` many times, which has poor performance.  Consider joining all columns at once using pd.concat(axis=1) instead. To get a de-fragmented frame, use `newframe = frame.copy()`\n",
      "  df_lagging[f'{col}_lag_{lag}'] = df_lagging[col].shift(lag)\n",
      "/Users/philippedutranoit/document_ordi/nova/business_case_for_data_sciense/cases/BC_DA_Siemens/Notebooks/Model_Functions.py:30: PerformanceWarning: DataFrame is highly fragmented.  This is usually the result of calling `frame.insert` many times, which has poor performance.  Consider joining all columns at once using pd.concat(axis=1) instead. To get a de-fragmented frame, use `newframe = frame.copy()`\n",
      "  df_lagging[f'{col}_lag_{lag}'] = df_lagging[col].shift(lag)\n",
      "/Users/philippedutranoit/document_ordi/nova/business_case_for_data_sciense/cases/BC_DA_Siemens/Notebooks/Model_Functions.py:30: PerformanceWarning: DataFrame is highly fragmented.  This is usually the result of calling `frame.insert` many times, which has poor performance.  Consider joining all columns at once using pd.concat(axis=1) instead. To get a de-fragmented frame, use `newframe = frame.copy()`\n",
      "  df_lagging[f'{col}_lag_{lag}'] = df_lagging[col].shift(lag)\n",
      "/Users/philippedutranoit/document_ordi/nova/business_case_for_data_sciense/cases/BC_DA_Siemens/Notebooks/Model_Functions.py:30: PerformanceWarning: DataFrame is highly fragmented.  This is usually the result of calling `frame.insert` many times, which has poor performance.  Consider joining all columns at once using pd.concat(axis=1) instead. To get a de-fragmented frame, use `newframe = frame.copy()`\n",
      "  df_lagging[f'{col}_lag_{lag}'] = df_lagging[col].shift(lag)\n",
      "/Users/philippedutranoit/document_ordi/nova/business_case_for_data_sciense/cases/BC_DA_Siemens/Notebooks/Model_Functions.py:30: PerformanceWarning: DataFrame is highly fragmented.  This is usually the result of calling `frame.insert` many times, which has poor performance.  Consider joining all columns at once using pd.concat(axis=1) instead. To get a de-fragmented frame, use `newframe = frame.copy()`\n",
      "  df_lagging[f'{col}_lag_{lag}'] = df_lagging[col].shift(lag)\n"
     ]
    },
    {
     "data": {
      "text/html": [
       "<div>\n",
       "<style scoped>\n",
       "    .dataframe tbody tr th:only-of-type {\n",
       "        vertical-align: middle;\n",
       "    }\n",
       "\n",
       "    .dataframe tbody tr th {\n",
       "        vertical-align: top;\n",
       "    }\n",
       "\n",
       "    .dataframe thead th {\n",
       "        text-align: right;\n",
       "    }\n",
       "</style>\n",
       "<table border=\"1\" class=\"dataframe\">\n",
       "  <thead>\n",
       "    <tr style=\"text-align: right;\">\n",
       "      <th></th>\n",
       "      <th>MAB_ELE_PRO156</th>\n",
       "      <th>MAB_ELE_SHP156</th>\n",
       "      <th>MAB_ELE_SHP250</th>\n",
       "      <th>MAB_ELE_PRO392</th>\n",
       "      <th>MAB_ELE_SHP392</th>\n",
       "      <th>MAB_ELE_PRO756</th>\n",
       "      <th>MAB_ELE_SHP756</th>\n",
       "      <th>MAB_ELE_PRO826</th>\n",
       "      <th>MAB_ELE_SHP826</th>\n",
       "      <th>MAB_ELE_SHP840</th>\n",
       "      <th>...</th>\n",
       "      <th>PRI27380_org_lag_6</th>\n",
       "      <th>PRI27250_org_lag_6</th>\n",
       "      <th>PRI27276_org_lag_6</th>\n",
       "      <th>PRO28756_org_lag_6</th>\n",
       "      <th>PRO28392_org_lag_6</th>\n",
       "      <th>PRO271000_org_lag_6</th>\n",
       "      <th>PRO27756_org_lag_6</th>\n",
       "      <th>PRO27826_org_lag_6</th>\n",
       "      <th>PRO27392_org_lag_6</th>\n",
       "      <th>PRO27276_org_lag_6</th>\n",
       "    </tr>\n",
       "    <tr>\n",
       "      <th>date</th>\n",
       "      <th></th>\n",
       "      <th></th>\n",
       "      <th></th>\n",
       "      <th></th>\n",
       "      <th></th>\n",
       "      <th></th>\n",
       "      <th></th>\n",
       "      <th></th>\n",
       "      <th></th>\n",
       "      <th></th>\n",
       "      <th></th>\n",
       "      <th></th>\n",
       "      <th></th>\n",
       "      <th></th>\n",
       "      <th></th>\n",
       "      <th></th>\n",
       "      <th></th>\n",
       "      <th></th>\n",
       "      <th></th>\n",
       "      <th></th>\n",
       "      <th></th>\n",
       "    </tr>\n",
       "  </thead>\n",
       "  <tbody>\n",
       "    <tr>\n",
       "      <th>2004-02-01</th>\n",
       "      <td>16.940704</td>\n",
       "      <td>16.940704</td>\n",
       "      <td>83.458866</td>\n",
       "      <td>109.334010</td>\n",
       "      <td>110.495272</td>\n",
       "      <td>86.074496</td>\n",
       "      <td>80.962532</td>\n",
       "      <td>111.353812</td>\n",
       "      <td>77.766367</td>\n",
       "      <td>90.442749</td>\n",
       "      <td>...</td>\n",
       "      <td>NaN</td>\n",
       "      <td>NaN</td>\n",
       "      <td>NaN</td>\n",
       "      <td>NaN</td>\n",
       "      <td>NaN</td>\n",
       "      <td>NaN</td>\n",
       "      <td>NaN</td>\n",
       "      <td>NaN</td>\n",
       "      <td>NaN</td>\n",
       "      <td>NaN</td>\n",
       "    </tr>\n",
       "    <tr>\n",
       "      <th>2004-03-01</th>\n",
       "      <td>23.711852</td>\n",
       "      <td>23.711852</td>\n",
       "      <td>106.168192</td>\n",
       "      <td>140.884616</td>\n",
       "      <td>144.686166</td>\n",
       "      <td>86.038258</td>\n",
       "      <td>80.912352</td>\n",
       "      <td>127.558608</td>\n",
       "      <td>77.829225</td>\n",
       "      <td>90.580357</td>\n",
       "      <td>...</td>\n",
       "      <td>NaN</td>\n",
       "      <td>NaN</td>\n",
       "      <td>NaN</td>\n",
       "      <td>NaN</td>\n",
       "      <td>NaN</td>\n",
       "      <td>NaN</td>\n",
       "      <td>NaN</td>\n",
       "      <td>NaN</td>\n",
       "      <td>NaN</td>\n",
       "      <td>NaN</td>\n",
       "    </tr>\n",
       "    <tr>\n",
       "      <th>2004-04-01</th>\n",
       "      <td>24.435235</td>\n",
       "      <td>24.435235</td>\n",
       "      <td>92.007646</td>\n",
       "      <td>105.853579</td>\n",
       "      <td>102.655769</td>\n",
       "      <td>85.997063</td>\n",
       "      <td>80.857863</td>\n",
       "      <td>108.732297</td>\n",
       "      <td>77.904642</td>\n",
       "      <td>90.751805</td>\n",
       "      <td>...</td>\n",
       "      <td>NaN</td>\n",
       "      <td>NaN</td>\n",
       "      <td>NaN</td>\n",
       "      <td>NaN</td>\n",
       "      <td>NaN</td>\n",
       "      <td>NaN</td>\n",
       "      <td>NaN</td>\n",
       "      <td>NaN</td>\n",
       "      <td>NaN</td>\n",
       "      <td>NaN</td>\n",
       "    </tr>\n",
       "    <tr>\n",
       "      <th>2004-05-01</th>\n",
       "      <td>23.708115</td>\n",
       "      <td>23.708115</td>\n",
       "      <td>85.696486</td>\n",
       "      <td>101.864777</td>\n",
       "      <td>100.305285</td>\n",
       "      <td>85.951483</td>\n",
       "      <td>80.800601</td>\n",
       "      <td>110.645200</td>\n",
       "      <td>77.993606</td>\n",
       "      <td>90.961426</td>\n",
       "      <td>...</td>\n",
       "      <td>NaN</td>\n",
       "      <td>NaN</td>\n",
       "      <td>NaN</td>\n",
       "      <td>NaN</td>\n",
       "      <td>NaN</td>\n",
       "      <td>NaN</td>\n",
       "      <td>NaN</td>\n",
       "      <td>NaN</td>\n",
       "      <td>NaN</td>\n",
       "      <td>NaN</td>\n",
       "    </tr>\n",
       "    <tr>\n",
       "      <th>2004-06-01</th>\n",
       "      <td>27.009138</td>\n",
       "      <td>27.009138</td>\n",
       "      <td>106.641482</td>\n",
       "      <td>120.332920</td>\n",
       "      <td>119.616380</td>\n",
       "      <td>85.902640</td>\n",
       "      <td>80.742724</td>\n",
       "      <td>122.020960</td>\n",
       "      <td>78.096995</td>\n",
       "      <td>91.213203</td>\n",
       "      <td>...</td>\n",
       "      <td>NaN</td>\n",
       "      <td>NaN</td>\n",
       "      <td>NaN</td>\n",
       "      <td>NaN</td>\n",
       "      <td>NaN</td>\n",
       "      <td>NaN</td>\n",
       "      <td>NaN</td>\n",
       "      <td>NaN</td>\n",
       "      <td>NaN</td>\n",
       "      <td>NaN</td>\n",
       "    </tr>\n",
       "  </tbody>\n",
       "</table>\n",
       "<p>5 rows × 168 columns</p>\n",
       "</div>"
      ],
      "text/plain": [
       "            MAB_ELE_PRO156  MAB_ELE_SHP156  MAB_ELE_SHP250  MAB_ELE_PRO392  \\\n",
       "date                                                                         \n",
       "2004-02-01       16.940704       16.940704       83.458866      109.334010   \n",
       "2004-03-01       23.711852       23.711852      106.168192      140.884616   \n",
       "2004-04-01       24.435235       24.435235       92.007646      105.853579   \n",
       "2004-05-01       23.708115       23.708115       85.696486      101.864777   \n",
       "2004-06-01       27.009138       27.009138      106.641482      120.332920   \n",
       "\n",
       "            MAB_ELE_SHP392  MAB_ELE_PRO756  MAB_ELE_SHP756  MAB_ELE_PRO826  \\\n",
       "date                                                                         \n",
       "2004-02-01      110.495272       86.074496       80.962532      111.353812   \n",
       "2004-03-01      144.686166       86.038258       80.912352      127.558608   \n",
       "2004-04-01      102.655769       85.997063       80.857863      108.732297   \n",
       "2004-05-01      100.305285       85.951483       80.800601      110.645200   \n",
       "2004-06-01      119.616380       85.902640       80.742724      122.020960   \n",
       "\n",
       "            MAB_ELE_SHP826  MAB_ELE_SHP840  ...  PRI27380_org_lag_6  \\\n",
       "date                                        ...                       \n",
       "2004-02-01       77.766367       90.442749  ...                 NaN   \n",
       "2004-03-01       77.829225       90.580357  ...                 NaN   \n",
       "2004-04-01       77.904642       90.751805  ...                 NaN   \n",
       "2004-05-01       77.993606       90.961426  ...                 NaN   \n",
       "2004-06-01       78.096995       91.213203  ...                 NaN   \n",
       "\n",
       "            PRI27250_org_lag_6  PRI27276_org_lag_6  PRO28756_org_lag_6  \\\n",
       "date                                                                     \n",
       "2004-02-01                 NaN                 NaN                 NaN   \n",
       "2004-03-01                 NaN                 NaN                 NaN   \n",
       "2004-04-01                 NaN                 NaN                 NaN   \n",
       "2004-05-01                 NaN                 NaN                 NaN   \n",
       "2004-06-01                 NaN                 NaN                 NaN   \n",
       "\n",
       "            PRO28392_org_lag_6  PRO271000_org_lag_6  PRO27756_org_lag_6  \\\n",
       "date                                                                      \n",
       "2004-02-01                 NaN                  NaN                 NaN   \n",
       "2004-03-01                 NaN                  NaN                 NaN   \n",
       "2004-04-01                 NaN                  NaN                 NaN   \n",
       "2004-05-01                 NaN                  NaN                 NaN   \n",
       "2004-06-01                 NaN                  NaN                 NaN   \n",
       "\n",
       "            PRO27826_org_lag_6  PRO27392_org_lag_6  PRO27276_org_lag_6  \n",
       "date                                                                    \n",
       "2004-02-01                 NaN                 NaN                 NaN  \n",
       "2004-03-01                 NaN                 NaN                 NaN  \n",
       "2004-04-01                 NaN                 NaN                 NaN  \n",
       "2004-05-01                 NaN                 NaN                 NaN  \n",
       "2004-06-01                 NaN                 NaN                 NaN  \n",
       "\n",
       "[5 rows x 168 columns]"
      ]
     },
     "execution_count": 10,
     "metadata": {},
     "output_type": "execute_result"
    }
   ],
   "source": [
    "df_market = create_lag_features(df_market, 6)\n",
    "df_market.head()"
   ]
  },
  {
   "cell_type": "markdown",
   "metadata": {},
   "source": [
    "## Define the parameter grid to run"
   ]
  },
  {
   "cell_type": "code",
   "execution_count": null,
   "metadata": {},
   "outputs": [],
   "source": [
    "xgboost_param_grid = {\n",
    "    'n_estimators': [100, 200],\n",
    "    'max_depth': [5, 7],\n",
    "    'learning_rate': [0.01, 0.1, 0.3],\n",
    "    'subsample': [0.5, 0.7],\n",
    "    'colsample_bytree': [0.5, 0.7, 1],\n",
    "    'gamma': [0, 0.1, 0.3],\n",
    "    'reg_alpha': [0, 0.1, 0.3],\n",
    "    'reg_lambda': [0, 0.1, 0.3]\n",
    "}\n",
    "\n",
    "prophet_param_grid = {\n",
    "    'seasonality_mode': ['additive', 'multiplicative'],\n",
    "    'yearly_seasonality': [True, False],\n",
    "    'monthly_seasonality': [True, False],\n",
    "    'seasonality_prior_scale': [0.1, 1.0, 10.0],\n",
    "    'changepoint_prior_scale': [0.01, 0.1, 0.5]\n",
    "}"
   ]
  },
  {
   "cell_type": "markdown",
   "metadata": {},
   "source": [
    "# Product 1"
   ]
  },
  {
   "cell_type": "code",
   "execution_count": 12,
   "metadata": {},
   "outputs": [
    {
     "data": {
      "text/html": [
       "<div>\n",
       "<style scoped>\n",
       "    .dataframe tbody tr th:only-of-type {\n",
       "        vertical-align: middle;\n",
       "    }\n",
       "\n",
       "    .dataframe tbody tr th {\n",
       "        vertical-align: top;\n",
       "    }\n",
       "\n",
       "    .dataframe thead th {\n",
       "        text-align: right;\n",
       "    }\n",
       "</style>\n",
       "<table border=\"1\" class=\"dataframe\">\n",
       "  <thead>\n",
       "    <tr style=\"text-align: right;\">\n",
       "      <th></th>\n",
       "      <th>PRO27826_org_lag_1</th>\n",
       "      <th>PRO27826_org</th>\n",
       "      <th>MAB_ELE_PRO756_lag_1</th>\n",
       "      <th>PRI27380_org</th>\n",
       "      <th>PRO271000_org_lag_5</th>\n",
       "      <th>PRO27392_org_lag_3</th>\n",
       "      <th>PRO28392_org_lag_6</th>\n",
       "    </tr>\n",
       "    <tr>\n",
       "      <th>date</th>\n",
       "      <th></th>\n",
       "      <th></th>\n",
       "      <th></th>\n",
       "      <th></th>\n",
       "      <th></th>\n",
       "      <th></th>\n",
       "      <th></th>\n",
       "    </tr>\n",
       "  </thead>\n",
       "  <tbody>\n",
       "    <tr>\n",
       "      <th>2004-02-01</th>\n",
       "      <td>NaN</td>\n",
       "      <td>120.706516</td>\n",
       "      <td>NaN</td>\n",
       "      <td>93.020027</td>\n",
       "      <td>NaN</td>\n",
       "      <td>NaN</td>\n",
       "      <td>NaN</td>\n",
       "    </tr>\n",
       "    <tr>\n",
       "      <th>2004-03-01</th>\n",
       "      <td>120.706516</td>\n",
       "      <td>138.309550</td>\n",
       "      <td>86.074496</td>\n",
       "      <td>93.540268</td>\n",
       "      <td>NaN</td>\n",
       "      <td>NaN</td>\n",
       "      <td>NaN</td>\n",
       "    </tr>\n",
       "    <tr>\n",
       "      <th>2004-04-01</th>\n",
       "      <td>138.309550</td>\n",
       "      <td>115.557330</td>\n",
       "      <td>86.038258</td>\n",
       "      <td>93.852425</td>\n",
       "      <td>NaN</td>\n",
       "      <td>NaN</td>\n",
       "      <td>NaN</td>\n",
       "    </tr>\n",
       "    <tr>\n",
       "      <th>2004-05-01</th>\n",
       "      <td>115.557330</td>\n",
       "      <td>119.269534</td>\n",
       "      <td>85.997063</td>\n",
       "      <td>93.852425</td>\n",
       "      <td>NaN</td>\n",
       "      <td>106.161262</td>\n",
       "      <td>NaN</td>\n",
       "    </tr>\n",
       "    <tr>\n",
       "      <th>2004-06-01</th>\n",
       "      <td>119.269534</td>\n",
       "      <td>128.849416</td>\n",
       "      <td>85.951483</td>\n",
       "      <td>93.956467</td>\n",
       "      <td>NaN</td>\n",
       "      <td>140.288741</td>\n",
       "      <td>NaN</td>\n",
       "    </tr>\n",
       "  </tbody>\n",
       "</table>\n",
       "</div>"
      ],
      "text/plain": [
       "            PRO27826_org_lag_1  PRO27826_org  MAB_ELE_PRO756_lag_1  \\\n",
       "date                                                                 \n",
       "2004-02-01                 NaN    120.706516                   NaN   \n",
       "2004-03-01          120.706516    138.309550             86.074496   \n",
       "2004-04-01          138.309550    115.557330             86.038258   \n",
       "2004-05-01          115.557330    119.269534             85.997063   \n",
       "2004-06-01          119.269534    128.849416             85.951483   \n",
       "\n",
       "            PRI27380_org  PRO271000_org_lag_5  PRO27392_org_lag_3  \\\n",
       "date                                                                \n",
       "2004-02-01     93.020027                  NaN                 NaN   \n",
       "2004-03-01     93.540268                  NaN                 NaN   \n",
       "2004-04-01     93.852425                  NaN                 NaN   \n",
       "2004-05-01     93.852425                  NaN          106.161262   \n",
       "2004-06-01     93.956467                  NaN          140.288741   \n",
       "\n",
       "            PRO28392_org_lag_6  \n",
       "date                            \n",
       "2004-02-01                 NaN  \n",
       "2004-03-01                 NaN  \n",
       "2004-04-01                 NaN  \n",
       "2004-05-01                 NaN  \n",
       "2004-06-01                 NaN  "
      ]
     },
     "execution_count": 12,
     "metadata": {},
     "output_type": "execute_result"
    }
   ],
   "source": [
    "# selecte only the features that are selected in the feature selection step\n",
    "test_set_1 = test_set[test_set['Mapped_GCK'] == '#1']\n",
    "df_market_1 = df_market[selected_features_1]\n",
    "df_market_1.head()"
   ]
  },
  {
   "cell_type": "markdown",
   "metadata": {},
   "source": [
    "## Xgboost"
   ]
  },
  {
   "cell_type": "code",
   "execution_count": 13,
   "metadata": {},
   "outputs": [
    {
     "name": "stdout",
     "output_type": "stream",
     "text": [
      "<class 'pandas.core.frame.DataFrame'>\n",
      "Index: 9 entries, 2021-08-01 to 2022-04-01\n",
      "Data columns (total 7 columns):\n",
      " #   Column                Non-Null Count  Dtype  \n",
      "---  ------                --------------  -----  \n",
      " 0   PRO27826_org_lag_1    9 non-null      float64\n",
      " 1   PRO27826_org          9 non-null      float64\n",
      " 2   MAB_ELE_PRO756_lag_1  9 non-null      float64\n",
      " 3   PRI27380_org          9 non-null      float64\n",
      " 4   PRO271000_org_lag_5   9 non-null      float64\n",
      " 5   PRO27392_org_lag_3    9 non-null      float64\n",
      " 6   PRO28392_org_lag_6    9 non-null      float64\n",
      "dtypes: float64(7)\n",
      "memory usage: 576.0+ bytes\n",
      "Params: {'n_estimators': 100, 'max_depth': 5, 'learning_rate': 0.01, 'subsample': 0.5, 'colsample_bytree': 0.5, 'gamma': 0, 'reg_alpha': 0, 'reg_lambda': 0} => RMSE: 3139955.7876, Relative RMSE: 0.0829\n",
      "Params: {'n_estimators': 100, 'max_depth': 5, 'learning_rate': 0.01, 'subsample': 0.5, 'colsample_bytree': 0.5, 'gamma': 0, 'reg_alpha': 0, 'reg_lambda': 0.1} => RMSE: 3161485.3536, Relative RMSE: 0.0835\n",
      "Params: {'n_estimators': 100, 'max_depth': 5, 'learning_rate': 0.01, 'subsample': 0.5, 'colsample_bytree': 0.5, 'gamma': 0, 'reg_alpha': 0, 'reg_lambda': 0.3} => RMSE: 3273225.3893, Relative RMSE: 0.0865\n",
      "Params: {'n_estimators': 100, 'max_depth': 5, 'learning_rate': 0.01, 'subsample': 0.5, 'colsample_bytree': 0.5, 'gamma': 0, 'reg_alpha': 0.1, 'reg_lambda': 0} => RMSE: 3139955.7876, Relative RMSE: 0.0829\n",
      "Params: {'n_estimators': 100, 'max_depth': 5, 'learning_rate': 0.01, 'subsample': 0.5, 'colsample_bytree': 0.5, 'gamma': 0, 'reg_alpha': 0.1, 'reg_lambda': 0.1} => RMSE: 3161485.3536, Relative RMSE: 0.0835\n",
      "Params: {'n_estimators': 100, 'max_depth': 5, 'learning_rate': 0.01, 'subsample': 0.5, 'colsample_bytree': 0.5, 'gamma': 0, 'reg_alpha': 0.1, 'reg_lambda': 0.3} => RMSE: 3273225.9546, Relative RMSE: 0.0865\n",
      "Params: {'n_estimators': 100, 'max_depth': 5, 'learning_rate': 0.01, 'subsample': 0.5, 'colsample_bytree': 0.5, 'gamma': 0, 'reg_alpha': 0.3, 'reg_lambda': 0} => RMSE: 3139955.6513, Relative RMSE: 0.0829\n",
      "Params: {'n_estimators': 100, 'max_depth': 5, 'learning_rate': 0.01, 'subsample': 0.5, 'colsample_bytree': 0.5, 'gamma': 0, 'reg_alpha': 0.3, 'reg_lambda': 0.1} => RMSE: 3161485.3536, Relative RMSE: 0.0835\n",
      "Params: {'n_estimators': 100, 'max_depth': 5, 'learning_rate': 0.01, 'subsample': 0.5, 'colsample_bytree': 0.5, 'gamma': 0, 'reg_alpha': 0.3, 'reg_lambda': 0.3} => RMSE: 3273225.6004, Relative RMSE: 0.0865\n",
      "Params: {'n_estimators': 100, 'max_depth': 5, 'learning_rate': 0.01, 'subsample': 0.5, 'colsample_bytree': 0.5, 'gamma': 0.1, 'reg_alpha': 0, 'reg_lambda': 0} => RMSE: 3139955.7876, Relative RMSE: 0.0829\n",
      "Params: {'n_estimators': 100, 'max_depth': 5, 'learning_rate': 0.01, 'subsample': 0.5, 'colsample_bytree': 0.5, 'gamma': 0.1, 'reg_alpha': 0, 'reg_lambda': 0.1} => RMSE: 3161485.3536, Relative RMSE: 0.0835\n",
      "Params: {'n_estimators': 100, 'max_depth': 5, 'learning_rate': 0.01, 'subsample': 0.5, 'colsample_bytree': 0.5, 'gamma': 0.1, 'reg_alpha': 0, 'reg_lambda': 0.3} => RMSE: 3273225.3893, Relative RMSE: 0.0865\n",
      "Params: {'n_estimators': 100, 'max_depth': 5, 'learning_rate': 0.01, 'subsample': 0.5, 'colsample_bytree': 0.5, 'gamma': 0.1, 'reg_alpha': 0.1, 'reg_lambda': 0} => RMSE: 3139955.7876, Relative RMSE: 0.0829\n",
      "Params: {'n_estimators': 100, 'max_depth': 5, 'learning_rate': 0.01, 'subsample': 0.5, 'colsample_bytree': 0.5, 'gamma': 0.1, 'reg_alpha': 0.1, 'reg_lambda': 0.1} => RMSE: 3161485.3536, Relative RMSE: 0.0835\n",
      "Params: {'n_estimators': 100, 'max_depth': 5, 'learning_rate': 0.01, 'subsample': 0.5, 'colsample_bytree': 0.5, 'gamma': 0.1, 'reg_alpha': 0.1, 'reg_lambda': 0.3} => RMSE: 3273225.9546, Relative RMSE: 0.0865\n",
      "Params: {'n_estimators': 100, 'max_depth': 5, 'learning_rate': 0.01, 'subsample': 0.5, 'colsample_bytree': 0.5, 'gamma': 0.1, 'reg_alpha': 0.3, 'reg_lambda': 0} => RMSE: 3139955.6513, Relative RMSE: 0.0829\n",
      "Params: {'n_estimators': 100, 'max_depth': 5, 'learning_rate': 0.01, 'subsample': 0.5, 'colsample_bytree': 0.5, 'gamma': 0.1, 'reg_alpha': 0.3, 'reg_lambda': 0.1} => RMSE: 3161485.3536, Relative RMSE: 0.0835\n",
      "Params: {'n_estimators': 100, 'max_depth': 5, 'learning_rate': 0.01, 'subsample': 0.5, 'colsample_bytree': 0.5, 'gamma': 0.1, 'reg_alpha': 0.3, 'reg_lambda': 0.3} => RMSE: 3273225.6004, Relative RMSE: 0.0865\n",
      "Params: {'n_estimators': 100, 'max_depth': 5, 'learning_rate': 0.01, 'subsample': 0.5, 'colsample_bytree': 0.5, 'gamma': 0.3, 'reg_alpha': 0, 'reg_lambda': 0} => RMSE: 3139955.7876, Relative RMSE: 0.0829\n",
      "Params: {'n_estimators': 100, 'max_depth': 5, 'learning_rate': 0.01, 'subsample': 0.5, 'colsample_bytree': 0.5, 'gamma': 0.3, 'reg_alpha': 0, 'reg_lambda': 0.1} => RMSE: 3161485.3536, Relative RMSE: 0.0835\n",
      "Params: {'n_estimators': 100, 'max_depth': 5, 'learning_rate': 0.01, 'subsample': 0.5, 'colsample_bytree': 0.5, 'gamma': 0.3, 'reg_alpha': 0, 'reg_lambda': 0.3} => RMSE: 3273225.3893, Relative RMSE: 0.0865\n",
      "Params: {'n_estimators': 100, 'max_depth': 5, 'learning_rate': 0.01, 'subsample': 0.5, 'colsample_bytree': 0.5, 'gamma': 0.3, 'reg_alpha': 0.1, 'reg_lambda': 0} => RMSE: 3139955.7876, Relative RMSE: 0.0829\n",
      "Params: {'n_estimators': 100, 'max_depth': 5, 'learning_rate': 0.01, 'subsample': 0.5, 'colsample_bytree': 0.5, 'gamma': 0.3, 'reg_alpha': 0.1, 'reg_lambda': 0.1} => RMSE: 3161485.3536, Relative RMSE: 0.0835\n",
      "Params: {'n_estimators': 100, 'max_depth': 5, 'learning_rate': 0.01, 'subsample': 0.5, 'colsample_bytree': 0.5, 'gamma': 0.3, 'reg_alpha': 0.1, 'reg_lambda': 0.3} => RMSE: 3273225.9546, Relative RMSE: 0.0865\n",
      "Params: {'n_estimators': 100, 'max_depth': 5, 'learning_rate': 0.01, 'subsample': 0.5, 'colsample_bytree': 0.5, 'gamma': 0.3, 'reg_alpha': 0.3, 'reg_lambda': 0} => RMSE: 3139955.6513, Relative RMSE: 0.0829\n",
      "Params: {'n_estimators': 100, 'max_depth': 5, 'learning_rate': 0.01, 'subsample': 0.5, 'colsample_bytree': 0.5, 'gamma': 0.3, 'reg_alpha': 0.3, 'reg_lambda': 0.1} => RMSE: 3161485.3536, Relative RMSE: 0.0835\n",
      "Params: {'n_estimators': 100, 'max_depth': 5, 'learning_rate': 0.01, 'subsample': 0.5, 'colsample_bytree': 0.5, 'gamma': 0.3, 'reg_alpha': 0.3, 'reg_lambda': 0.3} => RMSE: 3273225.6004, Relative RMSE: 0.0865\n",
      "Params: {'n_estimators': 100, 'max_depth': 5, 'learning_rate': 0.01, 'subsample': 0.5, 'colsample_bytree': 0.7, 'gamma': 0, 'reg_alpha': 0, 'reg_lambda': 0} => RMSE: 3152835.3098, Relative RMSE: 0.0833\n",
      "Params: {'n_estimators': 100, 'max_depth': 5, 'learning_rate': 0.01, 'subsample': 0.5, 'colsample_bytree': 0.7, 'gamma': 0, 'reg_alpha': 0, 'reg_lambda': 0.1} => RMSE: 3195704.2685, Relative RMSE: 0.0844\n",
      "Params: {'n_estimators': 100, 'max_depth': 5, 'learning_rate': 0.01, 'subsample': 0.5, 'colsample_bytree': 0.7, 'gamma': 0, 'reg_alpha': 0, 'reg_lambda': 0.3} => RMSE: 3318378.2760, Relative RMSE: 0.0877\n",
      "Params: {'n_estimators': 100, 'max_depth': 5, 'learning_rate': 0.01, 'subsample': 0.5, 'colsample_bytree': 0.7, 'gamma': 0, 'reg_alpha': 0.1, 'reg_lambda': 0} => RMSE: 3152835.1145, Relative RMSE: 0.0833\n",
      "Params: {'n_estimators': 100, 'max_depth': 5, 'learning_rate': 0.01, 'subsample': 0.5, 'colsample_bytree': 0.7, 'gamma': 0, 'reg_alpha': 0.1, 'reg_lambda': 0.1} => RMSE: 3195704.3432, Relative RMSE: 0.0844\n",
      "Params: {'n_estimators': 100, 'max_depth': 5, 'learning_rate': 0.01, 'subsample': 0.5, 'colsample_bytree': 0.7, 'gamma': 0, 'reg_alpha': 0.1, 'reg_lambda': 0.3} => RMSE: 3318377.6937, Relative RMSE: 0.0877\n",
      "Params: {'n_estimators': 100, 'max_depth': 5, 'learning_rate': 0.01, 'subsample': 0.5, 'colsample_bytree': 0.7, 'gamma': 0, 'reg_alpha': 0.3, 'reg_lambda': 0} => RMSE: 3152835.1145, Relative RMSE: 0.0833\n",
      "Params: {'n_estimators': 100, 'max_depth': 5, 'learning_rate': 0.01, 'subsample': 0.5, 'colsample_bytree': 0.7, 'gamma': 0, 'reg_alpha': 0.3, 'reg_lambda': 0.1} => RMSE: 3195704.8520, Relative RMSE: 0.0844\n",
      "Params: {'n_estimators': 100, 'max_depth': 5, 'learning_rate': 0.01, 'subsample': 0.5, 'colsample_bytree': 0.7, 'gamma': 0, 'reg_alpha': 0.3, 'reg_lambda': 0.3} => RMSE: 3318378.3175, Relative RMSE: 0.0877\n",
      "Params: {'n_estimators': 100, 'max_depth': 5, 'learning_rate': 0.01, 'subsample': 0.5, 'colsample_bytree': 0.7, 'gamma': 0.1, 'reg_alpha': 0, 'reg_lambda': 0} => RMSE: 3152835.3098, Relative RMSE: 0.0833\n",
      "Params: {'n_estimators': 100, 'max_depth': 5, 'learning_rate': 0.01, 'subsample': 0.5, 'colsample_bytree': 0.7, 'gamma': 0.1, 'reg_alpha': 0, 'reg_lambda': 0.1} => RMSE: 3195704.2685, Relative RMSE: 0.0844\n",
      "Params: {'n_estimators': 100, 'max_depth': 5, 'learning_rate': 0.01, 'subsample': 0.5, 'colsample_bytree': 0.7, 'gamma': 0.1, 'reg_alpha': 0, 'reg_lambda': 0.3} => RMSE: 3318378.2760, Relative RMSE: 0.0877\n",
      "Params: {'n_estimators': 100, 'max_depth': 5, 'learning_rate': 0.01, 'subsample': 0.5, 'colsample_bytree': 0.7, 'gamma': 0.1, 'reg_alpha': 0.1, 'reg_lambda': 0} => RMSE: 3152835.1145, Relative RMSE: 0.0833\n",
      "Params: {'n_estimators': 100, 'max_depth': 5, 'learning_rate': 0.01, 'subsample': 0.5, 'colsample_bytree': 0.7, 'gamma': 0.1, 'reg_alpha': 0.1, 'reg_lambda': 0.1} => RMSE: 3195704.3432, Relative RMSE: 0.0844\n",
      "Params: {'n_estimators': 100, 'max_depth': 5, 'learning_rate': 0.01, 'subsample': 0.5, 'colsample_bytree': 0.7, 'gamma': 0.1, 'reg_alpha': 0.1, 'reg_lambda': 0.3} => RMSE: 3318377.6937, Relative RMSE: 0.0877\n",
      "Params: {'n_estimators': 100, 'max_depth': 5, 'learning_rate': 0.01, 'subsample': 0.5, 'colsample_bytree': 0.7, 'gamma': 0.1, 'reg_alpha': 0.3, 'reg_lambda': 0} => RMSE: 3152835.1145, Relative RMSE: 0.0833\n",
      "Params: {'n_estimators': 100, 'max_depth': 5, 'learning_rate': 0.01, 'subsample': 0.5, 'colsample_bytree': 0.7, 'gamma': 0.1, 'reg_alpha': 0.3, 'reg_lambda': 0.1} => RMSE: 3195704.8520, Relative RMSE: 0.0844\n",
      "Params: {'n_estimators': 100, 'max_depth': 5, 'learning_rate': 0.01, 'subsample': 0.5, 'colsample_bytree': 0.7, 'gamma': 0.1, 'reg_alpha': 0.3, 'reg_lambda': 0.3} => RMSE: 3318378.3175, Relative RMSE: 0.0877\n",
      "Params: {'n_estimators': 100, 'max_depth': 5, 'learning_rate': 0.01, 'subsample': 0.5, 'colsample_bytree': 0.7, 'gamma': 0.3, 'reg_alpha': 0, 'reg_lambda': 0} => RMSE: 3152835.3098, Relative RMSE: 0.0833\n",
      "Params: {'n_estimators': 100, 'max_depth': 5, 'learning_rate': 0.01, 'subsample': 0.5, 'colsample_bytree': 0.7, 'gamma': 0.3, 'reg_alpha': 0, 'reg_lambda': 0.1} => RMSE: 3195704.2685, Relative RMSE: 0.0844\n",
      "Params: {'n_estimators': 100, 'max_depth': 5, 'learning_rate': 0.01, 'subsample': 0.5, 'colsample_bytree': 0.7, 'gamma': 0.3, 'reg_alpha': 0, 'reg_lambda': 0.3} => RMSE: 3318378.2760, Relative RMSE: 0.0877\n",
      "Params: {'n_estimators': 100, 'max_depth': 5, 'learning_rate': 0.01, 'subsample': 0.5, 'colsample_bytree': 0.7, 'gamma': 0.3, 'reg_alpha': 0.1, 'reg_lambda': 0} => RMSE: 3152835.1145, Relative RMSE: 0.0833\n",
      "Params: {'n_estimators': 100, 'max_depth': 5, 'learning_rate': 0.01, 'subsample': 0.5, 'colsample_bytree': 0.7, 'gamma': 0.3, 'reg_alpha': 0.1, 'reg_lambda': 0.1} => RMSE: 3195704.3432, Relative RMSE: 0.0844\n",
      "Params: {'n_estimators': 100, 'max_depth': 5, 'learning_rate': 0.01, 'subsample': 0.5, 'colsample_bytree': 0.7, 'gamma': 0.3, 'reg_alpha': 0.1, 'reg_lambda': 0.3} => RMSE: 3318377.6937, Relative RMSE: 0.0877\n",
      "Params: {'n_estimators': 100, 'max_depth': 5, 'learning_rate': 0.01, 'subsample': 0.5, 'colsample_bytree': 0.7, 'gamma': 0.3, 'reg_alpha': 0.3, 'reg_lambda': 0} => RMSE: 3152835.1145, Relative RMSE: 0.0833\n",
      "Params: {'n_estimators': 100, 'max_depth': 5, 'learning_rate': 0.01, 'subsample': 0.5, 'colsample_bytree': 0.7, 'gamma': 0.3, 'reg_alpha': 0.3, 'reg_lambda': 0.1} => RMSE: 3195704.8520, Relative RMSE: 0.0844\n",
      "Params: {'n_estimators': 100, 'max_depth': 5, 'learning_rate': 0.01, 'subsample': 0.5, 'colsample_bytree': 0.7, 'gamma': 0.3, 'reg_alpha': 0.3, 'reg_lambda': 0.3} => RMSE: 3318378.3175, Relative RMSE: 0.0877\n",
      "Params: {'n_estimators': 100, 'max_depth': 5, 'learning_rate': 0.01, 'subsample': 0.5, 'colsample_bytree': 1, 'gamma': 0, 'reg_alpha': 0, 'reg_lambda': 0} => RMSE: 2880575.9188, Relative RMSE: 0.0761\n",
      "Params: {'n_estimators': 100, 'max_depth': 5, 'learning_rate': 0.01, 'subsample': 0.5, 'colsample_bytree': 1, 'gamma': 0, 'reg_alpha': 0, 'reg_lambda': 0.1} => RMSE: 2961962.0629, Relative RMSE: 0.0782\n",
      "Params: {'n_estimators': 100, 'max_depth': 5, 'learning_rate': 0.01, 'subsample': 0.5, 'colsample_bytree': 1, 'gamma': 0, 'reg_alpha': 0, 'reg_lambda': 0.3} => RMSE: 3050671.9973, Relative RMSE: 0.0806\n",
      "Params: {'n_estimators': 100, 'max_depth': 5, 'learning_rate': 0.01, 'subsample': 0.5, 'colsample_bytree': 1, 'gamma': 0, 'reg_alpha': 0.1, 'reg_lambda': 0} => RMSE: 2880575.6011, Relative RMSE: 0.0761\n",
      "Params: {'n_estimators': 100, 'max_depth': 5, 'learning_rate': 0.01, 'subsample': 0.5, 'colsample_bytree': 1, 'gamma': 0, 'reg_alpha': 0.1, 'reg_lambda': 0.1} => RMSE: 2961961.1219, Relative RMSE: 0.0782\n",
      "Params: {'n_estimators': 100, 'max_depth': 5, 'learning_rate': 0.01, 'subsample': 0.5, 'colsample_bytree': 1, 'gamma': 0, 'reg_alpha': 0.1, 'reg_lambda': 0.3} => RMSE: 3050671.9357, Relative RMSE: 0.0806\n",
      "Params: {'n_estimators': 100, 'max_depth': 5, 'learning_rate': 0.01, 'subsample': 0.5, 'colsample_bytree': 1, 'gamma': 0, 'reg_alpha': 0.3, 'reg_lambda': 0} => RMSE: 2880575.6011, Relative RMSE: 0.0761\n",
      "Params: {'n_estimators': 100, 'max_depth': 5, 'learning_rate': 0.01, 'subsample': 0.5, 'colsample_bytree': 1, 'gamma': 0, 'reg_alpha': 0.3, 'reg_lambda': 0.1} => RMSE: 2961961.1219, Relative RMSE: 0.0782\n",
      "Params: {'n_estimators': 100, 'max_depth': 5, 'learning_rate': 0.01, 'subsample': 0.5, 'colsample_bytree': 1, 'gamma': 0, 'reg_alpha': 0.3, 'reg_lambda': 0.3} => RMSE: 3050671.9357, Relative RMSE: 0.0806\n",
      "Params: {'n_estimators': 100, 'max_depth': 5, 'learning_rate': 0.01, 'subsample': 0.5, 'colsample_bytree': 1, 'gamma': 0.1, 'reg_alpha': 0, 'reg_lambda': 0} => RMSE: 2880575.9188, Relative RMSE: 0.0761\n",
      "Params: {'n_estimators': 100, 'max_depth': 5, 'learning_rate': 0.01, 'subsample': 0.5, 'colsample_bytree': 1, 'gamma': 0.1, 'reg_alpha': 0, 'reg_lambda': 0.1} => RMSE: 2961962.0629, Relative RMSE: 0.0782\n",
      "Params: {'n_estimators': 100, 'max_depth': 5, 'learning_rate': 0.01, 'subsample': 0.5, 'colsample_bytree': 1, 'gamma': 0.1, 'reg_alpha': 0, 'reg_lambda': 0.3} => RMSE: 3050671.9973, Relative RMSE: 0.0806\n",
      "Params: {'n_estimators': 100, 'max_depth': 5, 'learning_rate': 0.01, 'subsample': 0.5, 'colsample_bytree': 1, 'gamma': 0.1, 'reg_alpha': 0.1, 'reg_lambda': 0} => RMSE: 2880575.6011, Relative RMSE: 0.0761\n",
      "Params: {'n_estimators': 100, 'max_depth': 5, 'learning_rate': 0.01, 'subsample': 0.5, 'colsample_bytree': 1, 'gamma': 0.1, 'reg_alpha': 0.1, 'reg_lambda': 0.1} => RMSE: 2961961.1219, Relative RMSE: 0.0782\n",
      "Params: {'n_estimators': 100, 'max_depth': 5, 'learning_rate': 0.01, 'subsample': 0.5, 'colsample_bytree': 1, 'gamma': 0.1, 'reg_alpha': 0.1, 'reg_lambda': 0.3} => RMSE: 3050671.9357, Relative RMSE: 0.0806\n",
      "Params: {'n_estimators': 100, 'max_depth': 5, 'learning_rate': 0.01, 'subsample': 0.5, 'colsample_bytree': 1, 'gamma': 0.1, 'reg_alpha': 0.3, 'reg_lambda': 0} => RMSE: 2880575.6011, Relative RMSE: 0.0761\n",
      "Params: {'n_estimators': 100, 'max_depth': 5, 'learning_rate': 0.01, 'subsample': 0.5, 'colsample_bytree': 1, 'gamma': 0.1, 'reg_alpha': 0.3, 'reg_lambda': 0.1} => RMSE: 2961961.1219, Relative RMSE: 0.0782\n",
      "Params: {'n_estimators': 100, 'max_depth': 5, 'learning_rate': 0.01, 'subsample': 0.5, 'colsample_bytree': 1, 'gamma': 0.1, 'reg_alpha': 0.3, 'reg_lambda': 0.3} => RMSE: 3050671.9357, Relative RMSE: 0.0806\n",
      "Params: {'n_estimators': 100, 'max_depth': 5, 'learning_rate': 0.01, 'subsample': 0.5, 'colsample_bytree': 1, 'gamma': 0.3, 'reg_alpha': 0, 'reg_lambda': 0} => RMSE: 2880575.9188, Relative RMSE: 0.0761\n",
      "Params: {'n_estimators': 100, 'max_depth': 5, 'learning_rate': 0.01, 'subsample': 0.5, 'colsample_bytree': 1, 'gamma': 0.3, 'reg_alpha': 0, 'reg_lambda': 0.1} => RMSE: 2961962.0629, Relative RMSE: 0.0782\n",
      "Params: {'n_estimators': 100, 'max_depth': 5, 'learning_rate': 0.01, 'subsample': 0.5, 'colsample_bytree': 1, 'gamma': 0.3, 'reg_alpha': 0, 'reg_lambda': 0.3} => RMSE: 3050671.9973, Relative RMSE: 0.0806\n",
      "Params: {'n_estimators': 100, 'max_depth': 5, 'learning_rate': 0.01, 'subsample': 0.5, 'colsample_bytree': 1, 'gamma': 0.3, 'reg_alpha': 0.1, 'reg_lambda': 0} => RMSE: 2880575.6011, Relative RMSE: 0.0761\n",
      "Params: {'n_estimators': 100, 'max_depth': 5, 'learning_rate': 0.01, 'subsample': 0.5, 'colsample_bytree': 1, 'gamma': 0.3, 'reg_alpha': 0.1, 'reg_lambda': 0.1} => RMSE: 2961961.1219, Relative RMSE: 0.0782\n",
      "Params: {'n_estimators': 100, 'max_depth': 5, 'learning_rate': 0.01, 'subsample': 0.5, 'colsample_bytree': 1, 'gamma': 0.3, 'reg_alpha': 0.1, 'reg_lambda': 0.3} => RMSE: 3050671.9357, Relative RMSE: 0.0806\n",
      "Params: {'n_estimators': 100, 'max_depth': 5, 'learning_rate': 0.01, 'subsample': 0.5, 'colsample_bytree': 1, 'gamma': 0.3, 'reg_alpha': 0.3, 'reg_lambda': 0} => RMSE: 2880575.6011, Relative RMSE: 0.0761\n",
      "Params: {'n_estimators': 100, 'max_depth': 5, 'learning_rate': 0.01, 'subsample': 0.5, 'colsample_bytree': 1, 'gamma': 0.3, 'reg_alpha': 0.3, 'reg_lambda': 0.1} => RMSE: 2961961.1219, Relative RMSE: 0.0782\n",
      "Params: {'n_estimators': 100, 'max_depth': 5, 'learning_rate': 0.01, 'subsample': 0.5, 'colsample_bytree': 1, 'gamma': 0.3, 'reg_alpha': 0.3, 'reg_lambda': 0.3} => RMSE: 3050671.9357, Relative RMSE: 0.0806\n",
      "Params: {'n_estimators': 100, 'max_depth': 5, 'learning_rate': 0.01, 'subsample': 0.7, 'colsample_bytree': 0.5, 'gamma': 0, 'reg_alpha': 0, 'reg_lambda': 0} => RMSE: 3083251.7249, Relative RMSE: 0.0814\n",
      "Params: {'n_estimators': 100, 'max_depth': 5, 'learning_rate': 0.01, 'subsample': 0.7, 'colsample_bytree': 0.5, 'gamma': 0, 'reg_alpha': 0, 'reg_lambda': 0.1} => RMSE: 3120626.5135, Relative RMSE: 0.0824\n",
      "Params: {'n_estimators': 100, 'max_depth': 5, 'learning_rate': 0.01, 'subsample': 0.7, 'colsample_bytree': 0.5, 'gamma': 0, 'reg_alpha': 0, 'reg_lambda': 0.3} => RMSE: 3179542.7091, Relative RMSE: 0.0840\n",
      "Params: {'n_estimators': 100, 'max_depth': 5, 'learning_rate': 0.01, 'subsample': 0.7, 'colsample_bytree': 0.5, 'gamma': 0, 'reg_alpha': 0.1, 'reg_lambda': 0} => RMSE: 3083252.4897, Relative RMSE: 0.0814\n",
      "Params: {'n_estimators': 100, 'max_depth': 5, 'learning_rate': 0.01, 'subsample': 0.7, 'colsample_bytree': 0.5, 'gamma': 0, 'reg_alpha': 0.1, 'reg_lambda': 0.1} => RMSE: 3120626.9019, Relative RMSE: 0.0824\n",
      "Params: {'n_estimators': 100, 'max_depth': 5, 'learning_rate': 0.01, 'subsample': 0.7, 'colsample_bytree': 0.5, 'gamma': 0, 'reg_alpha': 0.1, 'reg_lambda': 0.3} => RMSE: 3179542.7091, Relative RMSE: 0.0840\n",
      "Params: {'n_estimators': 100, 'max_depth': 5, 'learning_rate': 0.01, 'subsample': 0.7, 'colsample_bytree': 0.5, 'gamma': 0, 'reg_alpha': 0.3, 'reg_lambda': 0} => RMSE: 3083252.3819, Relative RMSE: 0.0814\n",
      "Params: {'n_estimators': 100, 'max_depth': 5, 'learning_rate': 0.01, 'subsample': 0.7, 'colsample_bytree': 0.5, 'gamma': 0, 'reg_alpha': 0.3, 'reg_lambda': 0.1} => RMSE: 3120626.9019, Relative RMSE: 0.0824\n",
      "Params: {'n_estimators': 100, 'max_depth': 5, 'learning_rate': 0.01, 'subsample': 0.7, 'colsample_bytree': 0.5, 'gamma': 0, 'reg_alpha': 0.3, 'reg_lambda': 0.3} => RMSE: 3179543.6659, Relative RMSE: 0.0840\n",
      "Params: {'n_estimators': 100, 'max_depth': 5, 'learning_rate': 0.01, 'subsample': 0.7, 'colsample_bytree': 0.5, 'gamma': 0.1, 'reg_alpha': 0, 'reg_lambda': 0} => RMSE: 3083251.7249, Relative RMSE: 0.0814\n",
      "Params: {'n_estimators': 100, 'max_depth': 5, 'learning_rate': 0.01, 'subsample': 0.7, 'colsample_bytree': 0.5, 'gamma': 0.1, 'reg_alpha': 0, 'reg_lambda': 0.1} => RMSE: 3120626.5135, Relative RMSE: 0.0824\n",
      "Params: {'n_estimators': 100, 'max_depth': 5, 'learning_rate': 0.01, 'subsample': 0.7, 'colsample_bytree': 0.5, 'gamma': 0.1, 'reg_alpha': 0, 'reg_lambda': 0.3} => RMSE: 3179542.7091, Relative RMSE: 0.0840\n",
      "Params: {'n_estimators': 100, 'max_depth': 5, 'learning_rate': 0.01, 'subsample': 0.7, 'colsample_bytree': 0.5, 'gamma': 0.1, 'reg_alpha': 0.1, 'reg_lambda': 0} => RMSE: 3083252.4897, Relative RMSE: 0.0814\n",
      "Params: {'n_estimators': 100, 'max_depth': 5, 'learning_rate': 0.01, 'subsample': 0.7, 'colsample_bytree': 0.5, 'gamma': 0.1, 'reg_alpha': 0.1, 'reg_lambda': 0.1} => RMSE: 3120626.9019, Relative RMSE: 0.0824\n",
      "Params: {'n_estimators': 100, 'max_depth': 5, 'learning_rate': 0.01, 'subsample': 0.7, 'colsample_bytree': 0.5, 'gamma': 0.1, 'reg_alpha': 0.1, 'reg_lambda': 0.3} => RMSE: 3179542.7091, Relative RMSE: 0.0840\n",
      "Params: {'n_estimators': 100, 'max_depth': 5, 'learning_rate': 0.01, 'subsample': 0.7, 'colsample_bytree': 0.5, 'gamma': 0.1, 'reg_alpha': 0.3, 'reg_lambda': 0} => RMSE: 3083252.3819, Relative RMSE: 0.0814\n",
      "Params: {'n_estimators': 100, 'max_depth': 5, 'learning_rate': 0.01, 'subsample': 0.7, 'colsample_bytree': 0.5, 'gamma': 0.1, 'reg_alpha': 0.3, 'reg_lambda': 0.1} => RMSE: 3120626.9019, Relative RMSE: 0.0824\n",
      "Params: {'n_estimators': 100, 'max_depth': 5, 'learning_rate': 0.01, 'subsample': 0.7, 'colsample_bytree': 0.5, 'gamma': 0.1, 'reg_alpha': 0.3, 'reg_lambda': 0.3} => RMSE: 3179543.6659, Relative RMSE: 0.0840\n",
      "Params: {'n_estimators': 100, 'max_depth': 5, 'learning_rate': 0.01, 'subsample': 0.7, 'colsample_bytree': 0.5, 'gamma': 0.3, 'reg_alpha': 0, 'reg_lambda': 0} => RMSE: 3083251.7249, Relative RMSE: 0.0814\n",
      "Params: {'n_estimators': 100, 'max_depth': 5, 'learning_rate': 0.01, 'subsample': 0.7, 'colsample_bytree': 0.5, 'gamma': 0.3, 'reg_alpha': 0, 'reg_lambda': 0.1} => RMSE: 3120626.5135, Relative RMSE: 0.0824\n",
      "Params: {'n_estimators': 100, 'max_depth': 5, 'learning_rate': 0.01, 'subsample': 0.7, 'colsample_bytree': 0.5, 'gamma': 0.3, 'reg_alpha': 0, 'reg_lambda': 0.3} => RMSE: 3179542.7091, Relative RMSE: 0.0840\n",
      "Params: {'n_estimators': 100, 'max_depth': 5, 'learning_rate': 0.01, 'subsample': 0.7, 'colsample_bytree': 0.5, 'gamma': 0.3, 'reg_alpha': 0.1, 'reg_lambda': 0} => RMSE: 3083252.4897, Relative RMSE: 0.0814\n",
      "Params: {'n_estimators': 100, 'max_depth': 5, 'learning_rate': 0.01, 'subsample': 0.7, 'colsample_bytree': 0.5, 'gamma': 0.3, 'reg_alpha': 0.1, 'reg_lambda': 0.1} => RMSE: 3120626.9019, Relative RMSE: 0.0824\n",
      "Params: {'n_estimators': 100, 'max_depth': 5, 'learning_rate': 0.01, 'subsample': 0.7, 'colsample_bytree': 0.5, 'gamma': 0.3, 'reg_alpha': 0.1, 'reg_lambda': 0.3} => RMSE: 3179542.7091, Relative RMSE: 0.0840\n",
      "Params: {'n_estimators': 100, 'max_depth': 5, 'learning_rate': 0.01, 'subsample': 0.7, 'colsample_bytree': 0.5, 'gamma': 0.3, 'reg_alpha': 0.3, 'reg_lambda': 0} => RMSE: 3083252.3819, Relative RMSE: 0.0814\n",
      "Params: {'n_estimators': 100, 'max_depth': 5, 'learning_rate': 0.01, 'subsample': 0.7, 'colsample_bytree': 0.5, 'gamma': 0.3, 'reg_alpha': 0.3, 'reg_lambda': 0.1} => RMSE: 3120626.9019, Relative RMSE: 0.0824\n",
      "Params: {'n_estimators': 100, 'max_depth': 5, 'learning_rate': 0.01, 'subsample': 0.7, 'colsample_bytree': 0.5, 'gamma': 0.3, 'reg_alpha': 0.3, 'reg_lambda': 0.3} => RMSE: 3179543.6659, Relative RMSE: 0.0840\n",
      "Params: {'n_estimators': 100, 'max_depth': 5, 'learning_rate': 0.01, 'subsample': 0.7, 'colsample_bytree': 0.7, 'gamma': 0, 'reg_alpha': 0, 'reg_lambda': 0} => RMSE: 2985786.9403, Relative RMSE: 0.0789\n",
      "Params: {'n_estimators': 100, 'max_depth': 5, 'learning_rate': 0.01, 'subsample': 0.7, 'colsample_bytree': 0.7, 'gamma': 0, 'reg_alpha': 0, 'reg_lambda': 0.1} => RMSE: 3014871.7749, Relative RMSE: 0.0796\n",
      "Params: {'n_estimators': 100, 'max_depth': 5, 'learning_rate': 0.01, 'subsample': 0.7, 'colsample_bytree': 0.7, 'gamma': 0, 'reg_alpha': 0, 'reg_lambda': 0.3} => RMSE: 3094303.4058, Relative RMSE: 0.0817\n",
      "Params: {'n_estimators': 100, 'max_depth': 5, 'learning_rate': 0.01, 'subsample': 0.7, 'colsample_bytree': 0.7, 'gamma': 0, 'reg_alpha': 0.1, 'reg_lambda': 0} => RMSE: 2985786.8336, Relative RMSE: 0.0789\n",
      "Params: {'n_estimators': 100, 'max_depth': 5, 'learning_rate': 0.01, 'subsample': 0.7, 'colsample_bytree': 0.7, 'gamma': 0, 'reg_alpha': 0.1, 'reg_lambda': 0.1} => RMSE: 3014871.3228, Relative RMSE: 0.0796\n",
      "Params: {'n_estimators': 100, 'max_depth': 5, 'learning_rate': 0.01, 'subsample': 0.7, 'colsample_bytree': 0.7, 'gamma': 0, 'reg_alpha': 0.1, 'reg_lambda': 0.3} => RMSE: 3094303.4058, Relative RMSE: 0.0817\n",
      "Params: {'n_estimators': 100, 'max_depth': 5, 'learning_rate': 0.01, 'subsample': 0.7, 'colsample_bytree': 0.7, 'gamma': 0, 'reg_alpha': 0.3, 'reg_lambda': 0} => RMSE: 2985787.5855, Relative RMSE: 0.0789\n",
      "Params: {'n_estimators': 100, 'max_depth': 5, 'learning_rate': 0.01, 'subsample': 0.7, 'colsample_bytree': 0.7, 'gamma': 0, 'reg_alpha': 0.3, 'reg_lambda': 0.1} => RMSE: 3014871.3228, Relative RMSE: 0.0796\n",
      "Params: {'n_estimators': 100, 'max_depth': 5, 'learning_rate': 0.01, 'subsample': 0.7, 'colsample_bytree': 0.7, 'gamma': 0, 'reg_alpha': 0.3, 'reg_lambda': 0.3} => RMSE: 3094303.3025, Relative RMSE: 0.0817\n",
      "Params: {'n_estimators': 100, 'max_depth': 5, 'learning_rate': 0.01, 'subsample': 0.7, 'colsample_bytree': 0.7, 'gamma': 0.1, 'reg_alpha': 0, 'reg_lambda': 0} => RMSE: 2985786.9403, Relative RMSE: 0.0789\n",
      "Params: {'n_estimators': 100, 'max_depth': 5, 'learning_rate': 0.01, 'subsample': 0.7, 'colsample_bytree': 0.7, 'gamma': 0.1, 'reg_alpha': 0, 'reg_lambda': 0.1} => RMSE: 3014871.7749, Relative RMSE: 0.0796\n",
      "Params: {'n_estimators': 100, 'max_depth': 5, 'learning_rate': 0.01, 'subsample': 0.7, 'colsample_bytree': 0.7, 'gamma': 0.1, 'reg_alpha': 0, 'reg_lambda': 0.3} => RMSE: 3094303.4058, Relative RMSE: 0.0817\n",
      "Params: {'n_estimators': 100, 'max_depth': 5, 'learning_rate': 0.01, 'subsample': 0.7, 'colsample_bytree': 0.7, 'gamma': 0.1, 'reg_alpha': 0.1, 'reg_lambda': 0} => RMSE: 2985786.8336, Relative RMSE: 0.0789\n",
      "Params: {'n_estimators': 100, 'max_depth': 5, 'learning_rate': 0.01, 'subsample': 0.7, 'colsample_bytree': 0.7, 'gamma': 0.1, 'reg_alpha': 0.1, 'reg_lambda': 0.1} => RMSE: 3014871.3228, Relative RMSE: 0.0796\n",
      "Params: {'n_estimators': 100, 'max_depth': 5, 'learning_rate': 0.01, 'subsample': 0.7, 'colsample_bytree': 0.7, 'gamma': 0.1, 'reg_alpha': 0.1, 'reg_lambda': 0.3} => RMSE: 3094303.4058, Relative RMSE: 0.0817\n",
      "Params: {'n_estimators': 100, 'max_depth': 5, 'learning_rate': 0.01, 'subsample': 0.7, 'colsample_bytree': 0.7, 'gamma': 0.1, 'reg_alpha': 0.3, 'reg_lambda': 0} => RMSE: 2985787.5855, Relative RMSE: 0.0789\n",
      "Params: {'n_estimators': 100, 'max_depth': 5, 'learning_rate': 0.01, 'subsample': 0.7, 'colsample_bytree': 0.7, 'gamma': 0.1, 'reg_alpha': 0.3, 'reg_lambda': 0.1} => RMSE: 3014871.3228, Relative RMSE: 0.0796\n",
      "Params: {'n_estimators': 100, 'max_depth': 5, 'learning_rate': 0.01, 'subsample': 0.7, 'colsample_bytree': 0.7, 'gamma': 0.1, 'reg_alpha': 0.3, 'reg_lambda': 0.3} => RMSE: 3094303.3025, Relative RMSE: 0.0817\n",
      "Params: {'n_estimators': 100, 'max_depth': 5, 'learning_rate': 0.01, 'subsample': 0.7, 'colsample_bytree': 0.7, 'gamma': 0.3, 'reg_alpha': 0, 'reg_lambda': 0} => RMSE: 2985786.9403, Relative RMSE: 0.0789\n",
      "Params: {'n_estimators': 100, 'max_depth': 5, 'learning_rate': 0.01, 'subsample': 0.7, 'colsample_bytree': 0.7, 'gamma': 0.3, 'reg_alpha': 0, 'reg_lambda': 0.1} => RMSE: 3014871.7749, Relative RMSE: 0.0796\n",
      "Params: {'n_estimators': 100, 'max_depth': 5, 'learning_rate': 0.01, 'subsample': 0.7, 'colsample_bytree': 0.7, 'gamma': 0.3, 'reg_alpha': 0, 'reg_lambda': 0.3} => RMSE: 3094303.4058, Relative RMSE: 0.0817\n",
      "Params: {'n_estimators': 100, 'max_depth': 5, 'learning_rate': 0.01, 'subsample': 0.7, 'colsample_bytree': 0.7, 'gamma': 0.3, 'reg_alpha': 0.1, 'reg_lambda': 0} => RMSE: 2985786.8336, Relative RMSE: 0.0789\n",
      "Params: {'n_estimators': 100, 'max_depth': 5, 'learning_rate': 0.01, 'subsample': 0.7, 'colsample_bytree': 0.7, 'gamma': 0.3, 'reg_alpha': 0.1, 'reg_lambda': 0.1} => RMSE: 3014871.3228, Relative RMSE: 0.0796\n",
      "Params: {'n_estimators': 100, 'max_depth': 5, 'learning_rate': 0.01, 'subsample': 0.7, 'colsample_bytree': 0.7, 'gamma': 0.3, 'reg_alpha': 0.1, 'reg_lambda': 0.3} => RMSE: 3094303.4058, Relative RMSE: 0.0817\n",
      "Params: {'n_estimators': 100, 'max_depth': 5, 'learning_rate': 0.01, 'subsample': 0.7, 'colsample_bytree': 0.7, 'gamma': 0.3, 'reg_alpha': 0.3, 'reg_lambda': 0} => RMSE: 2985787.5855, Relative RMSE: 0.0789\n",
      "Params: {'n_estimators': 100, 'max_depth': 5, 'learning_rate': 0.01, 'subsample': 0.7, 'colsample_bytree': 0.7, 'gamma': 0.3, 'reg_alpha': 0.3, 'reg_lambda': 0.1} => RMSE: 3014871.3228, Relative RMSE: 0.0796\n",
      "Params: {'n_estimators': 100, 'max_depth': 5, 'learning_rate': 0.01, 'subsample': 0.7, 'colsample_bytree': 0.7, 'gamma': 0.3, 'reg_alpha': 0.3, 'reg_lambda': 0.3} => RMSE: 3094303.3025, Relative RMSE: 0.0817\n",
      "Params: {'n_estimators': 100, 'max_depth': 5, 'learning_rate': 0.01, 'subsample': 0.7, 'colsample_bytree': 1, 'gamma': 0, 'reg_alpha': 0, 'reg_lambda': 0} => RMSE: 2683200.6003, Relative RMSE: 0.0709\n",
      "Params: {'n_estimators': 100, 'max_depth': 5, 'learning_rate': 0.01, 'subsample': 0.7, 'colsample_bytree': 1, 'gamma': 0, 'reg_alpha': 0, 'reg_lambda': 0.1} => RMSE: 2724659.4566, Relative RMSE: 0.0720\n",
      "Params: {'n_estimators': 100, 'max_depth': 5, 'learning_rate': 0.01, 'subsample': 0.7, 'colsample_bytree': 1, 'gamma': 0, 'reg_alpha': 0, 'reg_lambda': 0.3} => RMSE: 2896288.9853, Relative RMSE: 0.0765\n",
      "Params: {'n_estimators': 100, 'max_depth': 5, 'learning_rate': 0.01, 'subsample': 0.7, 'colsample_bytree': 1, 'gamma': 0, 'reg_alpha': 0.1, 'reg_lambda': 0} => RMSE: 2683200.6003, Relative RMSE: 0.0709\n",
      "Params: {'n_estimators': 100, 'max_depth': 5, 'learning_rate': 0.01, 'subsample': 0.7, 'colsample_bytree': 1, 'gamma': 0, 'reg_alpha': 0.1, 'reg_lambda': 0.1} => RMSE: 2724659.4566, Relative RMSE: 0.0720\n",
      "Params: {'n_estimators': 100, 'max_depth': 5, 'learning_rate': 0.01, 'subsample': 0.7, 'colsample_bytree': 1, 'gamma': 0, 'reg_alpha': 0.1, 'reg_lambda': 0.3} => RMSE: 2896288.9853, Relative RMSE: 0.0765\n",
      "Params: {'n_estimators': 100, 'max_depth': 5, 'learning_rate': 0.01, 'subsample': 0.7, 'colsample_bytree': 1, 'gamma': 0, 'reg_alpha': 0.3, 'reg_lambda': 0} => RMSE: 2683200.6003, Relative RMSE: 0.0709\n",
      "Params: {'n_estimators': 100, 'max_depth': 5, 'learning_rate': 0.01, 'subsample': 0.7, 'colsample_bytree': 1, 'gamma': 0, 'reg_alpha': 0.3, 'reg_lambda': 0.1} => RMSE: 2724660.3880, Relative RMSE: 0.0720\n",
      "Params: {'n_estimators': 100, 'max_depth': 5, 'learning_rate': 0.01, 'subsample': 0.7, 'colsample_bytree': 1, 'gamma': 0, 'reg_alpha': 0.3, 'reg_lambda': 0.3} => RMSE: 2896288.9853, Relative RMSE: 0.0765\n",
      "Params: {'n_estimators': 100, 'max_depth': 5, 'learning_rate': 0.01, 'subsample': 0.7, 'colsample_bytree': 1, 'gamma': 0.1, 'reg_alpha': 0, 'reg_lambda': 0} => RMSE: 2683200.6003, Relative RMSE: 0.0709\n",
      "Params: {'n_estimators': 100, 'max_depth': 5, 'learning_rate': 0.01, 'subsample': 0.7, 'colsample_bytree': 1, 'gamma': 0.1, 'reg_alpha': 0, 'reg_lambda': 0.1} => RMSE: 2724659.4566, Relative RMSE: 0.0720\n",
      "Params: {'n_estimators': 100, 'max_depth': 5, 'learning_rate': 0.01, 'subsample': 0.7, 'colsample_bytree': 1, 'gamma': 0.1, 'reg_alpha': 0, 'reg_lambda': 0.3} => RMSE: 2896288.9853, Relative RMSE: 0.0765\n",
      "Params: {'n_estimators': 100, 'max_depth': 5, 'learning_rate': 0.01, 'subsample': 0.7, 'colsample_bytree': 1, 'gamma': 0.1, 'reg_alpha': 0.1, 'reg_lambda': 0} => RMSE: 2683200.6003, Relative RMSE: 0.0709\n",
      "Params: {'n_estimators': 100, 'max_depth': 5, 'learning_rate': 0.01, 'subsample': 0.7, 'colsample_bytree': 1, 'gamma': 0.1, 'reg_alpha': 0.1, 'reg_lambda': 0.1} => RMSE: 2724659.4566, Relative RMSE: 0.0720\n",
      "Params: {'n_estimators': 100, 'max_depth': 5, 'learning_rate': 0.01, 'subsample': 0.7, 'colsample_bytree': 1, 'gamma': 0.1, 'reg_alpha': 0.1, 'reg_lambda': 0.3} => RMSE: 2896288.9853, Relative RMSE: 0.0765\n",
      "Params: {'n_estimators': 100, 'max_depth': 5, 'learning_rate': 0.01, 'subsample': 0.7, 'colsample_bytree': 1, 'gamma': 0.1, 'reg_alpha': 0.3, 'reg_lambda': 0} => RMSE: 2683200.6003, Relative RMSE: 0.0709\n",
      "Params: {'n_estimators': 100, 'max_depth': 5, 'learning_rate': 0.01, 'subsample': 0.7, 'colsample_bytree': 1, 'gamma': 0.1, 'reg_alpha': 0.3, 'reg_lambda': 0.1} => RMSE: 2724660.3880, Relative RMSE: 0.0720\n",
      "Params: {'n_estimators': 100, 'max_depth': 5, 'learning_rate': 0.01, 'subsample': 0.7, 'colsample_bytree': 1, 'gamma': 0.1, 'reg_alpha': 0.3, 'reg_lambda': 0.3} => RMSE: 2896288.9853, Relative RMSE: 0.0765\n",
      "Params: {'n_estimators': 100, 'max_depth': 5, 'learning_rate': 0.01, 'subsample': 0.7, 'colsample_bytree': 1, 'gamma': 0.3, 'reg_alpha': 0, 'reg_lambda': 0} => RMSE: 2683200.6003, Relative RMSE: 0.0709\n",
      "Params: {'n_estimators': 100, 'max_depth': 5, 'learning_rate': 0.01, 'subsample': 0.7, 'colsample_bytree': 1, 'gamma': 0.3, 'reg_alpha': 0, 'reg_lambda': 0.1} => RMSE: 2724659.4566, Relative RMSE: 0.0720\n",
      "Params: {'n_estimators': 100, 'max_depth': 5, 'learning_rate': 0.01, 'subsample': 0.7, 'colsample_bytree': 1, 'gamma': 0.3, 'reg_alpha': 0, 'reg_lambda': 0.3} => RMSE: 2896288.9853, Relative RMSE: 0.0765\n",
      "Params: {'n_estimators': 100, 'max_depth': 5, 'learning_rate': 0.01, 'subsample': 0.7, 'colsample_bytree': 1, 'gamma': 0.3, 'reg_alpha': 0.1, 'reg_lambda': 0} => RMSE: 2683200.6003, Relative RMSE: 0.0709\n",
      "Params: {'n_estimators': 100, 'max_depth': 5, 'learning_rate': 0.01, 'subsample': 0.7, 'colsample_bytree': 1, 'gamma': 0.3, 'reg_alpha': 0.1, 'reg_lambda': 0.1} => RMSE: 2724659.4566, Relative RMSE: 0.0720\n",
      "Params: {'n_estimators': 100, 'max_depth': 5, 'learning_rate': 0.01, 'subsample': 0.7, 'colsample_bytree': 1, 'gamma': 0.3, 'reg_alpha': 0.1, 'reg_lambda': 0.3} => RMSE: 2896288.9853, Relative RMSE: 0.0765\n",
      "Params: {'n_estimators': 100, 'max_depth': 5, 'learning_rate': 0.01, 'subsample': 0.7, 'colsample_bytree': 1, 'gamma': 0.3, 'reg_alpha': 0.3, 'reg_lambda': 0} => RMSE: 2683200.6003, Relative RMSE: 0.0709\n",
      "Params: {'n_estimators': 100, 'max_depth': 5, 'learning_rate': 0.01, 'subsample': 0.7, 'colsample_bytree': 1, 'gamma': 0.3, 'reg_alpha': 0.3, 'reg_lambda': 0.1} => RMSE: 2724660.3880, Relative RMSE: 0.0720\n",
      "Params: {'n_estimators': 100, 'max_depth': 5, 'learning_rate': 0.01, 'subsample': 0.7, 'colsample_bytree': 1, 'gamma': 0.3, 'reg_alpha': 0.3, 'reg_lambda': 0.3} => RMSE: 2896288.9853, Relative RMSE: 0.0765\n",
      "Params: {'n_estimators': 100, 'max_depth': 5, 'learning_rate': 0.1, 'subsample': 0.5, 'colsample_bytree': 0.5, 'gamma': 0, 'reg_alpha': 0, 'reg_lambda': 0} => RMSE: 2987061.5090, Relative RMSE: 0.0789\n",
      "Params: {'n_estimators': 100, 'max_depth': 5, 'learning_rate': 0.1, 'subsample': 0.5, 'colsample_bytree': 0.5, 'gamma': 0, 'reg_alpha': 0, 'reg_lambda': 0.1} => RMSE: 3089405.3107, Relative RMSE: 0.0816\n",
      "Params: {'n_estimators': 100, 'max_depth': 5, 'learning_rate': 0.1, 'subsample': 0.5, 'colsample_bytree': 0.5, 'gamma': 0, 'reg_alpha': 0, 'reg_lambda': 0.3} => RMSE: 3181884.1113, Relative RMSE: 0.0840\n",
      "Params: {'n_estimators': 100, 'max_depth': 5, 'learning_rate': 0.1, 'subsample': 0.5, 'colsample_bytree': 0.5, 'gamma': 0, 'reg_alpha': 0.1, 'reg_lambda': 0} => RMSE: 2987065.9194, Relative RMSE: 0.0789\n",
      "Params: {'n_estimators': 100, 'max_depth': 5, 'learning_rate': 0.1, 'subsample': 0.5, 'colsample_bytree': 0.5, 'gamma': 0, 'reg_alpha': 0.1, 'reg_lambda': 0.1} => RMSE: 3089405.8437, Relative RMSE: 0.0816\n",
      "Params: {'n_estimators': 100, 'max_depth': 5, 'learning_rate': 0.1, 'subsample': 0.5, 'colsample_bytree': 0.5, 'gamma': 0, 'reg_alpha': 0.1, 'reg_lambda': 0.3} => RMSE: 3181886.0960, Relative RMSE: 0.0840\n",
      "Params: {'n_estimators': 100, 'max_depth': 5, 'learning_rate': 0.1, 'subsample': 0.5, 'colsample_bytree': 0.5, 'gamma': 0, 'reg_alpha': 0.3, 'reg_lambda': 0} => RMSE: 2987068.4812, Relative RMSE: 0.0789\n",
      "Params: {'n_estimators': 100, 'max_depth': 5, 'learning_rate': 0.1, 'subsample': 0.5, 'colsample_bytree': 0.5, 'gamma': 0, 'reg_alpha': 0.3, 'reg_lambda': 0.1} => RMSE: 3089405.8437, Relative RMSE: 0.0816\n",
      "Params: {'n_estimators': 100, 'max_depth': 5, 'learning_rate': 0.1, 'subsample': 0.5, 'colsample_bytree': 0.5, 'gamma': 0, 'reg_alpha': 0.3, 'reg_lambda': 0.3} => RMSE: 3181884.7053, Relative RMSE: 0.0840\n",
      "Params: {'n_estimators': 100, 'max_depth': 5, 'learning_rate': 0.1, 'subsample': 0.5, 'colsample_bytree': 0.5, 'gamma': 0.1, 'reg_alpha': 0, 'reg_lambda': 0} => RMSE: 2987061.5090, Relative RMSE: 0.0789\n",
      "Params: {'n_estimators': 100, 'max_depth': 5, 'learning_rate': 0.1, 'subsample': 0.5, 'colsample_bytree': 0.5, 'gamma': 0.1, 'reg_alpha': 0, 'reg_lambda': 0.1} => RMSE: 3089405.3107, Relative RMSE: 0.0816\n",
      "Params: {'n_estimators': 100, 'max_depth': 5, 'learning_rate': 0.1, 'subsample': 0.5, 'colsample_bytree': 0.5, 'gamma': 0.1, 'reg_alpha': 0, 'reg_lambda': 0.3} => RMSE: 3181884.1113, Relative RMSE: 0.0840\n",
      "Params: {'n_estimators': 100, 'max_depth': 5, 'learning_rate': 0.1, 'subsample': 0.5, 'colsample_bytree': 0.5, 'gamma': 0.1, 'reg_alpha': 0.1, 'reg_lambda': 0} => RMSE: 2987065.9194, Relative RMSE: 0.0789\n",
      "Params: {'n_estimators': 100, 'max_depth': 5, 'learning_rate': 0.1, 'subsample': 0.5, 'colsample_bytree': 0.5, 'gamma': 0.1, 'reg_alpha': 0.1, 'reg_lambda': 0.1} => RMSE: 3089405.8437, Relative RMSE: 0.0816\n",
      "Params: {'n_estimators': 100, 'max_depth': 5, 'learning_rate': 0.1, 'subsample': 0.5, 'colsample_bytree': 0.5, 'gamma': 0.1, 'reg_alpha': 0.1, 'reg_lambda': 0.3} => RMSE: 3181886.0960, Relative RMSE: 0.0840\n",
      "Params: {'n_estimators': 100, 'max_depth': 5, 'learning_rate': 0.1, 'subsample': 0.5, 'colsample_bytree': 0.5, 'gamma': 0.1, 'reg_alpha': 0.3, 'reg_lambda': 0} => RMSE: 2987068.4812, Relative RMSE: 0.0789\n",
      "Params: {'n_estimators': 100, 'max_depth': 5, 'learning_rate': 0.1, 'subsample': 0.5, 'colsample_bytree': 0.5, 'gamma': 0.1, 'reg_alpha': 0.3, 'reg_lambda': 0.1} => RMSE: 3089405.8437, Relative RMSE: 0.0816\n",
      "Params: {'n_estimators': 100, 'max_depth': 5, 'learning_rate': 0.1, 'subsample': 0.5, 'colsample_bytree': 0.5, 'gamma': 0.1, 'reg_alpha': 0.3, 'reg_lambda': 0.3} => RMSE: 3181884.7053, Relative RMSE: 0.0840\n",
      "Params: {'n_estimators': 100, 'max_depth': 5, 'learning_rate': 0.1, 'subsample': 0.5, 'colsample_bytree': 0.5, 'gamma': 0.3, 'reg_alpha': 0, 'reg_lambda': 0} => RMSE: 2987061.5090, Relative RMSE: 0.0789\n",
      "Params: {'n_estimators': 100, 'max_depth': 5, 'learning_rate': 0.1, 'subsample': 0.5, 'colsample_bytree': 0.5, 'gamma': 0.3, 'reg_alpha': 0, 'reg_lambda': 0.1} => RMSE: 3089405.3107, Relative RMSE: 0.0816\n",
      "Params: {'n_estimators': 100, 'max_depth': 5, 'learning_rate': 0.1, 'subsample': 0.5, 'colsample_bytree': 0.5, 'gamma': 0.3, 'reg_alpha': 0, 'reg_lambda': 0.3} => RMSE: 3181884.1113, Relative RMSE: 0.0840\n",
      "Params: {'n_estimators': 100, 'max_depth': 5, 'learning_rate': 0.1, 'subsample': 0.5, 'colsample_bytree': 0.5, 'gamma': 0.3, 'reg_alpha': 0.1, 'reg_lambda': 0} => RMSE: 2987065.9194, Relative RMSE: 0.0789\n",
      "Params: {'n_estimators': 100, 'max_depth': 5, 'learning_rate': 0.1, 'subsample': 0.5, 'colsample_bytree': 0.5, 'gamma': 0.3, 'reg_alpha': 0.1, 'reg_lambda': 0.1} => RMSE: 3089405.8437, Relative RMSE: 0.0816\n",
      "Params: {'n_estimators': 100, 'max_depth': 5, 'learning_rate': 0.1, 'subsample': 0.5, 'colsample_bytree': 0.5, 'gamma': 0.3, 'reg_alpha': 0.1, 'reg_lambda': 0.3} => RMSE: 3181886.0960, Relative RMSE: 0.0840\n",
      "Params: {'n_estimators': 100, 'max_depth': 5, 'learning_rate': 0.1, 'subsample': 0.5, 'colsample_bytree': 0.5, 'gamma': 0.3, 'reg_alpha': 0.3, 'reg_lambda': 0} => RMSE: 2987068.4812, Relative RMSE: 0.0789\n",
      "Params: {'n_estimators': 100, 'max_depth': 5, 'learning_rate': 0.1, 'subsample': 0.5, 'colsample_bytree': 0.5, 'gamma': 0.3, 'reg_alpha': 0.3, 'reg_lambda': 0.1} => RMSE: 3089405.8437, Relative RMSE: 0.0816\n",
      "Params: {'n_estimators': 100, 'max_depth': 5, 'learning_rate': 0.1, 'subsample': 0.5, 'colsample_bytree': 0.5, 'gamma': 0.3, 'reg_alpha': 0.3, 'reg_lambda': 0.3} => RMSE: 3181884.7053, Relative RMSE: 0.0840\n",
      "Params: {'n_estimators': 100, 'max_depth': 5, 'learning_rate': 0.1, 'subsample': 0.5, 'colsample_bytree': 0.7, 'gamma': 0, 'reg_alpha': 0, 'reg_lambda': 0} => RMSE: 2846858.6591, Relative RMSE: 0.0752\n",
      "Params: {'n_estimators': 100, 'max_depth': 5, 'learning_rate': 0.1, 'subsample': 0.5, 'colsample_bytree': 0.7, 'gamma': 0, 'reg_alpha': 0, 'reg_lambda': 0.1} => RMSE: 2810046.4985, Relative RMSE: 0.0742\n",
      "Params: {'n_estimators': 100, 'max_depth': 5, 'learning_rate': 0.1, 'subsample': 0.5, 'colsample_bytree': 0.7, 'gamma': 0, 'reg_alpha': 0, 'reg_lambda': 0.3} => RMSE: 2963784.6552, Relative RMSE: 0.0783\n",
      "Params: {'n_estimators': 100, 'max_depth': 5, 'learning_rate': 0.1, 'subsample': 0.5, 'colsample_bytree': 0.7, 'gamma': 0, 'reg_alpha': 0.1, 'reg_lambda': 0} => RMSE: 2846859.6245, Relative RMSE: 0.0752\n",
      "Params: {'n_estimators': 100, 'max_depth': 5, 'learning_rate': 0.1, 'subsample': 0.5, 'colsample_bytree': 0.7, 'gamma': 0, 'reg_alpha': 0.1, 'reg_lambda': 0.1} => RMSE: 2810046.4985, Relative RMSE: 0.0742\n",
      "Params: {'n_estimators': 100, 'max_depth': 5, 'learning_rate': 0.1, 'subsample': 0.5, 'colsample_bytree': 0.7, 'gamma': 0, 'reg_alpha': 0.1, 'reg_lambda': 0.3} => RMSE: 2963785.7676, Relative RMSE: 0.0783\n",
      "Params: {'n_estimators': 100, 'max_depth': 5, 'learning_rate': 0.1, 'subsample': 0.5, 'colsample_bytree': 0.7, 'gamma': 0, 'reg_alpha': 0.3, 'reg_lambda': 0} => RMSE: 2846860.4975, Relative RMSE: 0.0752\n",
      "Params: {'n_estimators': 100, 'max_depth': 5, 'learning_rate': 0.1, 'subsample': 0.5, 'colsample_bytree': 0.7, 'gamma': 0, 'reg_alpha': 0.3, 'reg_lambda': 0.1} => RMSE: 2810046.1364, Relative RMSE: 0.0742\n",
      "Params: {'n_estimators': 100, 'max_depth': 5, 'learning_rate': 0.1, 'subsample': 0.5, 'colsample_bytree': 0.7, 'gamma': 0, 'reg_alpha': 0.3, 'reg_lambda': 0.3} => RMSE: 2963785.7329, Relative RMSE: 0.0783\n",
      "Params: {'n_estimators': 100, 'max_depth': 5, 'learning_rate': 0.1, 'subsample': 0.5, 'colsample_bytree': 0.7, 'gamma': 0.1, 'reg_alpha': 0, 'reg_lambda': 0} => RMSE: 2846858.6591, Relative RMSE: 0.0752\n",
      "Params: {'n_estimators': 100, 'max_depth': 5, 'learning_rate': 0.1, 'subsample': 0.5, 'colsample_bytree': 0.7, 'gamma': 0.1, 'reg_alpha': 0, 'reg_lambda': 0.1} => RMSE: 2810046.4985, Relative RMSE: 0.0742\n",
      "Params: {'n_estimators': 100, 'max_depth': 5, 'learning_rate': 0.1, 'subsample': 0.5, 'colsample_bytree': 0.7, 'gamma': 0.1, 'reg_alpha': 0, 'reg_lambda': 0.3} => RMSE: 2963784.6552, Relative RMSE: 0.0783\n",
      "Params: {'n_estimators': 100, 'max_depth': 5, 'learning_rate': 0.1, 'subsample': 0.5, 'colsample_bytree': 0.7, 'gamma': 0.1, 'reg_alpha': 0.1, 'reg_lambda': 0} => RMSE: 2846859.6245, Relative RMSE: 0.0752\n",
      "Params: {'n_estimators': 100, 'max_depth': 5, 'learning_rate': 0.1, 'subsample': 0.5, 'colsample_bytree': 0.7, 'gamma': 0.1, 'reg_alpha': 0.1, 'reg_lambda': 0.1} => RMSE: 2810046.4985, Relative RMSE: 0.0742\n",
      "Params: {'n_estimators': 100, 'max_depth': 5, 'learning_rate': 0.1, 'subsample': 0.5, 'colsample_bytree': 0.7, 'gamma': 0.1, 'reg_alpha': 0.1, 'reg_lambda': 0.3} => RMSE: 2963785.7676, Relative RMSE: 0.0783\n",
      "Params: {'n_estimators': 100, 'max_depth': 5, 'learning_rate': 0.1, 'subsample': 0.5, 'colsample_bytree': 0.7, 'gamma': 0.1, 'reg_alpha': 0.3, 'reg_lambda': 0} => RMSE: 2846860.4975, Relative RMSE: 0.0752\n",
      "Params: {'n_estimators': 100, 'max_depth': 5, 'learning_rate': 0.1, 'subsample': 0.5, 'colsample_bytree': 0.7, 'gamma': 0.1, 'reg_alpha': 0.3, 'reg_lambda': 0.1} => RMSE: 2810046.1364, Relative RMSE: 0.0742\n",
      "Params: {'n_estimators': 100, 'max_depth': 5, 'learning_rate': 0.1, 'subsample': 0.5, 'colsample_bytree': 0.7, 'gamma': 0.1, 'reg_alpha': 0.3, 'reg_lambda': 0.3} => RMSE: 2963785.7329, Relative RMSE: 0.0783\n",
      "Params: {'n_estimators': 100, 'max_depth': 5, 'learning_rate': 0.1, 'subsample': 0.5, 'colsample_bytree': 0.7, 'gamma': 0.3, 'reg_alpha': 0, 'reg_lambda': 0} => RMSE: 2846858.6591, Relative RMSE: 0.0752\n",
      "Params: {'n_estimators': 100, 'max_depth': 5, 'learning_rate': 0.1, 'subsample': 0.5, 'colsample_bytree': 0.7, 'gamma': 0.3, 'reg_alpha': 0, 'reg_lambda': 0.1} => RMSE: 2810046.4985, Relative RMSE: 0.0742\n",
      "Params: {'n_estimators': 100, 'max_depth': 5, 'learning_rate': 0.1, 'subsample': 0.5, 'colsample_bytree': 0.7, 'gamma': 0.3, 'reg_alpha': 0, 'reg_lambda': 0.3} => RMSE: 2963784.6552, Relative RMSE: 0.0783\n",
      "Params: {'n_estimators': 100, 'max_depth': 5, 'learning_rate': 0.1, 'subsample': 0.5, 'colsample_bytree': 0.7, 'gamma': 0.3, 'reg_alpha': 0.1, 'reg_lambda': 0} => RMSE: 2846859.6245, Relative RMSE: 0.0752\n",
      "Params: {'n_estimators': 100, 'max_depth': 5, 'learning_rate': 0.1, 'subsample': 0.5, 'colsample_bytree': 0.7, 'gamma': 0.3, 'reg_alpha': 0.1, 'reg_lambda': 0.1} => RMSE: 2810046.4985, Relative RMSE: 0.0742\n",
      "Params: {'n_estimators': 100, 'max_depth': 5, 'learning_rate': 0.1, 'subsample': 0.5, 'colsample_bytree': 0.7, 'gamma': 0.3, 'reg_alpha': 0.1, 'reg_lambda': 0.3} => RMSE: 2963785.7676, Relative RMSE: 0.0783\n",
      "Params: {'n_estimators': 100, 'max_depth': 5, 'learning_rate': 0.1, 'subsample': 0.5, 'colsample_bytree': 0.7, 'gamma': 0.3, 'reg_alpha': 0.3, 'reg_lambda': 0} => RMSE: 2846860.4975, Relative RMSE: 0.0752\n",
      "Params: {'n_estimators': 100, 'max_depth': 5, 'learning_rate': 0.1, 'subsample': 0.5, 'colsample_bytree': 0.7, 'gamma': 0.3, 'reg_alpha': 0.3, 'reg_lambda': 0.1} => RMSE: 2810046.1364, Relative RMSE: 0.0742\n",
      "Params: {'n_estimators': 100, 'max_depth': 5, 'learning_rate': 0.1, 'subsample': 0.5, 'colsample_bytree': 0.7, 'gamma': 0.3, 'reg_alpha': 0.3, 'reg_lambda': 0.3} => RMSE: 2963785.7329, Relative RMSE: 0.0783\n",
      "Params: {'n_estimators': 100, 'max_depth': 5, 'learning_rate': 0.1, 'subsample': 0.5, 'colsample_bytree': 1, 'gamma': 0, 'reg_alpha': 0, 'reg_lambda': 0} => RMSE: 2384819.8466, Relative RMSE: 0.0630\n",
      "Params: {'n_estimators': 100, 'max_depth': 5, 'learning_rate': 0.1, 'subsample': 0.5, 'colsample_bytree': 1, 'gamma': 0, 'reg_alpha': 0, 'reg_lambda': 0.1} => RMSE: 2500374.8320, Relative RMSE: 0.0660\n",
      "Params: {'n_estimators': 100, 'max_depth': 5, 'learning_rate': 0.1, 'subsample': 0.5, 'colsample_bytree': 1, 'gamma': 0, 'reg_alpha': 0, 'reg_lambda': 0.3} => RMSE: 2767330.8829, Relative RMSE: 0.0731\n",
      "Params: {'n_estimators': 100, 'max_depth': 5, 'learning_rate': 0.1, 'subsample': 0.5, 'colsample_bytree': 1, 'gamma': 0, 'reg_alpha': 0.1, 'reg_lambda': 0} => RMSE: 2384823.4008, Relative RMSE: 0.0630\n",
      "Params: {'n_estimators': 100, 'max_depth': 5, 'learning_rate': 0.1, 'subsample': 0.5, 'colsample_bytree': 1, 'gamma': 0, 'reg_alpha': 0.1, 'reg_lambda': 0.1} => RMSE: 2500371.8561, Relative RMSE: 0.0660\n",
      "Params: {'n_estimators': 100, 'max_depth': 5, 'learning_rate': 0.1, 'subsample': 0.5, 'colsample_bytree': 1, 'gamma': 0, 'reg_alpha': 0.1, 'reg_lambda': 0.3} => RMSE: 2767331.0134, Relative RMSE: 0.0731\n",
      "Params: {'n_estimators': 100, 'max_depth': 5, 'learning_rate': 0.1, 'subsample': 0.5, 'colsample_bytree': 1, 'gamma': 0, 'reg_alpha': 0.3, 'reg_lambda': 0} => RMSE: 2384821.5437, Relative RMSE: 0.0630\n",
      "Params: {'n_estimators': 100, 'max_depth': 5, 'learning_rate': 0.1, 'subsample': 0.5, 'colsample_bytree': 1, 'gamma': 0, 'reg_alpha': 0.3, 'reg_lambda': 0.1} => RMSE: 2500371.8561, Relative RMSE: 0.0660\n",
      "Params: {'n_estimators': 100, 'max_depth': 5, 'learning_rate': 0.1, 'subsample': 0.5, 'colsample_bytree': 1, 'gamma': 0, 'reg_alpha': 0.3, 'reg_lambda': 0.3} => RMSE: 2767332.9374, Relative RMSE: 0.0731\n",
      "Params: {'n_estimators': 100, 'max_depth': 5, 'learning_rate': 0.1, 'subsample': 0.5, 'colsample_bytree': 1, 'gamma': 0.1, 'reg_alpha': 0, 'reg_lambda': 0} => RMSE: 2384819.8466, Relative RMSE: 0.0630\n",
      "Params: {'n_estimators': 100, 'max_depth': 5, 'learning_rate': 0.1, 'subsample': 0.5, 'colsample_bytree': 1, 'gamma': 0.1, 'reg_alpha': 0, 'reg_lambda': 0.1} => RMSE: 2500374.8320, Relative RMSE: 0.0660\n",
      "Params: {'n_estimators': 100, 'max_depth': 5, 'learning_rate': 0.1, 'subsample': 0.5, 'colsample_bytree': 1, 'gamma': 0.1, 'reg_alpha': 0, 'reg_lambda': 0.3} => RMSE: 2767330.8829, Relative RMSE: 0.0731\n",
      "Params: {'n_estimators': 100, 'max_depth': 5, 'learning_rate': 0.1, 'subsample': 0.5, 'colsample_bytree': 1, 'gamma': 0.1, 'reg_alpha': 0.1, 'reg_lambda': 0} => RMSE: 2384823.4008, Relative RMSE: 0.0630\n",
      "Params: {'n_estimators': 100, 'max_depth': 5, 'learning_rate': 0.1, 'subsample': 0.5, 'colsample_bytree': 1, 'gamma': 0.1, 'reg_alpha': 0.1, 'reg_lambda': 0.1} => RMSE: 2500371.8561, Relative RMSE: 0.0660\n",
      "Params: {'n_estimators': 100, 'max_depth': 5, 'learning_rate': 0.1, 'subsample': 0.5, 'colsample_bytree': 1, 'gamma': 0.1, 'reg_alpha': 0.1, 'reg_lambda': 0.3} => RMSE: 2767331.0134, Relative RMSE: 0.0731\n",
      "Params: {'n_estimators': 100, 'max_depth': 5, 'learning_rate': 0.1, 'subsample': 0.5, 'colsample_bytree': 1, 'gamma': 0.1, 'reg_alpha': 0.3, 'reg_lambda': 0} => RMSE: 2384821.5437, Relative RMSE: 0.0630\n",
      "Params: {'n_estimators': 100, 'max_depth': 5, 'learning_rate': 0.1, 'subsample': 0.5, 'colsample_bytree': 1, 'gamma': 0.1, 'reg_alpha': 0.3, 'reg_lambda': 0.1} => RMSE: 2500371.8561, Relative RMSE: 0.0660\n",
      "Params: {'n_estimators': 100, 'max_depth': 5, 'learning_rate': 0.1, 'subsample': 0.5, 'colsample_bytree': 1, 'gamma': 0.1, 'reg_alpha': 0.3, 'reg_lambda': 0.3} => RMSE: 2767332.9374, Relative RMSE: 0.0731\n",
      "Params: {'n_estimators': 100, 'max_depth': 5, 'learning_rate': 0.1, 'subsample': 0.5, 'colsample_bytree': 1, 'gamma': 0.3, 'reg_alpha': 0, 'reg_lambda': 0} => RMSE: 2384819.8466, Relative RMSE: 0.0630\n",
      "Params: {'n_estimators': 100, 'max_depth': 5, 'learning_rate': 0.1, 'subsample': 0.5, 'colsample_bytree': 1, 'gamma': 0.3, 'reg_alpha': 0, 'reg_lambda': 0.1} => RMSE: 2500374.8320, Relative RMSE: 0.0660\n",
      "Params: {'n_estimators': 100, 'max_depth': 5, 'learning_rate': 0.1, 'subsample': 0.5, 'colsample_bytree': 1, 'gamma': 0.3, 'reg_alpha': 0, 'reg_lambda': 0.3} => RMSE: 2767330.8829, Relative RMSE: 0.0731\n",
      "Params: {'n_estimators': 100, 'max_depth': 5, 'learning_rate': 0.1, 'subsample': 0.5, 'colsample_bytree': 1, 'gamma': 0.3, 'reg_alpha': 0.1, 'reg_lambda': 0} => RMSE: 2384823.4008, Relative RMSE: 0.0630\n",
      "Params: {'n_estimators': 100, 'max_depth': 5, 'learning_rate': 0.1, 'subsample': 0.5, 'colsample_bytree': 1, 'gamma': 0.3, 'reg_alpha': 0.1, 'reg_lambda': 0.1} => RMSE: 2500371.8561, Relative RMSE: 0.0660\n",
      "Params: {'n_estimators': 100, 'max_depth': 5, 'learning_rate': 0.1, 'subsample': 0.5, 'colsample_bytree': 1, 'gamma': 0.3, 'reg_alpha': 0.1, 'reg_lambda': 0.3} => RMSE: 2767331.0134, Relative RMSE: 0.0731\n",
      "Params: {'n_estimators': 100, 'max_depth': 5, 'learning_rate': 0.1, 'subsample': 0.5, 'colsample_bytree': 1, 'gamma': 0.3, 'reg_alpha': 0.3, 'reg_lambda': 0} => RMSE: 2384821.5437, Relative RMSE: 0.0630\n",
      "Params: {'n_estimators': 100, 'max_depth': 5, 'learning_rate': 0.1, 'subsample': 0.5, 'colsample_bytree': 1, 'gamma': 0.3, 'reg_alpha': 0.3, 'reg_lambda': 0.1} => RMSE: 2500371.8561, Relative RMSE: 0.0660\n",
      "Params: {'n_estimators': 100, 'max_depth': 5, 'learning_rate': 0.1, 'subsample': 0.5, 'colsample_bytree': 1, 'gamma': 0.3, 'reg_alpha': 0.3, 'reg_lambda': 0.3} => RMSE: 2767332.9374, Relative RMSE: 0.0731\n",
      "Params: {'n_estimators': 100, 'max_depth': 5, 'learning_rate': 0.1, 'subsample': 0.7, 'colsample_bytree': 0.5, 'gamma': 0, 'reg_alpha': 0, 'reg_lambda': 0} => RMSE: 3038060.9635, Relative RMSE: 0.0802\n",
      "Params: {'n_estimators': 100, 'max_depth': 5, 'learning_rate': 0.1, 'subsample': 0.7, 'colsample_bytree': 0.5, 'gamma': 0, 'reg_alpha': 0, 'reg_lambda': 0.1} => RMSE: 3035963.8537, Relative RMSE: 0.0802\n",
      "Params: {'n_estimators': 100, 'max_depth': 5, 'learning_rate': 0.1, 'subsample': 0.7, 'colsample_bytree': 0.5, 'gamma': 0, 'reg_alpha': 0, 'reg_lambda': 0.3} => RMSE: 3158899.6806, Relative RMSE: 0.0834\n",
      "Params: {'n_estimators': 100, 'max_depth': 5, 'learning_rate': 0.1, 'subsample': 0.7, 'colsample_bytree': 0.5, 'gamma': 0, 'reg_alpha': 0.1, 'reg_lambda': 0} => RMSE: 3038064.9929, Relative RMSE: 0.0802\n",
      "Params: {'n_estimators': 100, 'max_depth': 5, 'learning_rate': 0.1, 'subsample': 0.7, 'colsample_bytree': 0.5, 'gamma': 0, 'reg_alpha': 0.1, 'reg_lambda': 0.1} => RMSE: 3035963.8537, Relative RMSE: 0.0802\n",
      "Params: {'n_estimators': 100, 'max_depth': 5, 'learning_rate': 0.1, 'subsample': 0.7, 'colsample_bytree': 0.5, 'gamma': 0, 'reg_alpha': 0.1, 'reg_lambda': 0.3} => RMSE: 3158899.2966, Relative RMSE: 0.0834\n",
      "Params: {'n_estimators': 100, 'max_depth': 5, 'learning_rate': 0.1, 'subsample': 0.7, 'colsample_bytree': 0.5, 'gamma': 0, 'reg_alpha': 0.3, 'reg_lambda': 0} => RMSE: 3038064.9929, Relative RMSE: 0.0802\n",
      "Params: {'n_estimators': 100, 'max_depth': 5, 'learning_rate': 0.1, 'subsample': 0.7, 'colsample_bytree': 0.5, 'gamma': 0, 'reg_alpha': 0.3, 'reg_lambda': 0.1} => RMSE: 3035963.8537, Relative RMSE: 0.0802\n",
      "Params: {'n_estimators': 100, 'max_depth': 5, 'learning_rate': 0.1, 'subsample': 0.7, 'colsample_bytree': 0.5, 'gamma': 0, 'reg_alpha': 0.3, 'reg_lambda': 0.3} => RMSE: 3158899.2966, Relative RMSE: 0.0834\n",
      "Params: {'n_estimators': 100, 'max_depth': 5, 'learning_rate': 0.1, 'subsample': 0.7, 'colsample_bytree': 0.5, 'gamma': 0.1, 'reg_alpha': 0, 'reg_lambda': 0} => RMSE: 3038060.9635, Relative RMSE: 0.0802\n",
      "Params: {'n_estimators': 100, 'max_depth': 5, 'learning_rate': 0.1, 'subsample': 0.7, 'colsample_bytree': 0.5, 'gamma': 0.1, 'reg_alpha': 0, 'reg_lambda': 0.1} => RMSE: 3035963.8537, Relative RMSE: 0.0802\n",
      "Params: {'n_estimators': 100, 'max_depth': 5, 'learning_rate': 0.1, 'subsample': 0.7, 'colsample_bytree': 0.5, 'gamma': 0.1, 'reg_alpha': 0, 'reg_lambda': 0.3} => RMSE: 3158899.6806, Relative RMSE: 0.0834\n",
      "Params: {'n_estimators': 100, 'max_depth': 5, 'learning_rate': 0.1, 'subsample': 0.7, 'colsample_bytree': 0.5, 'gamma': 0.1, 'reg_alpha': 0.1, 'reg_lambda': 0} => RMSE: 3038064.9929, Relative RMSE: 0.0802\n",
      "Params: {'n_estimators': 100, 'max_depth': 5, 'learning_rate': 0.1, 'subsample': 0.7, 'colsample_bytree': 0.5, 'gamma': 0.1, 'reg_alpha': 0.1, 'reg_lambda': 0.1} => RMSE: 3035963.8537, Relative RMSE: 0.0802\n",
      "Params: {'n_estimators': 100, 'max_depth': 5, 'learning_rate': 0.1, 'subsample': 0.7, 'colsample_bytree': 0.5, 'gamma': 0.1, 'reg_alpha': 0.1, 'reg_lambda': 0.3} => RMSE: 3158899.2966, Relative RMSE: 0.0834\n",
      "Params: {'n_estimators': 100, 'max_depth': 5, 'learning_rate': 0.1, 'subsample': 0.7, 'colsample_bytree': 0.5, 'gamma': 0.1, 'reg_alpha': 0.3, 'reg_lambda': 0} => RMSE: 3038064.9929, Relative RMSE: 0.0802\n",
      "Params: {'n_estimators': 100, 'max_depth': 5, 'learning_rate': 0.1, 'subsample': 0.7, 'colsample_bytree': 0.5, 'gamma': 0.1, 'reg_alpha': 0.3, 'reg_lambda': 0.1} => RMSE: 3035963.8537, Relative RMSE: 0.0802\n",
      "Params: {'n_estimators': 100, 'max_depth': 5, 'learning_rate': 0.1, 'subsample': 0.7, 'colsample_bytree': 0.5, 'gamma': 0.1, 'reg_alpha': 0.3, 'reg_lambda': 0.3} => RMSE: 3158899.2966, Relative RMSE: 0.0834\n",
      "Params: {'n_estimators': 100, 'max_depth': 5, 'learning_rate': 0.1, 'subsample': 0.7, 'colsample_bytree': 0.5, 'gamma': 0.3, 'reg_alpha': 0, 'reg_lambda': 0} => RMSE: 3038060.9635, Relative RMSE: 0.0802\n",
      "Params: {'n_estimators': 100, 'max_depth': 5, 'learning_rate': 0.1, 'subsample': 0.7, 'colsample_bytree': 0.5, 'gamma': 0.3, 'reg_alpha': 0, 'reg_lambda': 0.1} => RMSE: 3035963.8537, Relative RMSE: 0.0802\n",
      "Params: {'n_estimators': 100, 'max_depth': 5, 'learning_rate': 0.1, 'subsample': 0.7, 'colsample_bytree': 0.5, 'gamma': 0.3, 'reg_alpha': 0, 'reg_lambda': 0.3} => RMSE: 3158899.6806, Relative RMSE: 0.0834\n",
      "Params: {'n_estimators': 100, 'max_depth': 5, 'learning_rate': 0.1, 'subsample': 0.7, 'colsample_bytree': 0.5, 'gamma': 0.3, 'reg_alpha': 0.1, 'reg_lambda': 0} => RMSE: 3038064.9929, Relative RMSE: 0.0802\n",
      "Params: {'n_estimators': 100, 'max_depth': 5, 'learning_rate': 0.1, 'subsample': 0.7, 'colsample_bytree': 0.5, 'gamma': 0.3, 'reg_alpha': 0.1, 'reg_lambda': 0.1} => RMSE: 3035963.8537, Relative RMSE: 0.0802\n",
      "Params: {'n_estimators': 100, 'max_depth': 5, 'learning_rate': 0.1, 'subsample': 0.7, 'colsample_bytree': 0.5, 'gamma': 0.3, 'reg_alpha': 0.1, 'reg_lambda': 0.3} => RMSE: 3158899.2966, Relative RMSE: 0.0834\n",
      "Params: {'n_estimators': 100, 'max_depth': 5, 'learning_rate': 0.1, 'subsample': 0.7, 'colsample_bytree': 0.5, 'gamma': 0.3, 'reg_alpha': 0.3, 'reg_lambda': 0} => RMSE: 3038064.9929, Relative RMSE: 0.0802\n",
      "Params: {'n_estimators': 100, 'max_depth': 5, 'learning_rate': 0.1, 'subsample': 0.7, 'colsample_bytree': 0.5, 'gamma': 0.3, 'reg_alpha': 0.3, 'reg_lambda': 0.1} => RMSE: 3035963.8537, Relative RMSE: 0.0802\n",
      "Params: {'n_estimators': 100, 'max_depth': 5, 'learning_rate': 0.1, 'subsample': 0.7, 'colsample_bytree': 0.5, 'gamma': 0.3, 'reg_alpha': 0.3, 'reg_lambda': 0.3} => RMSE: 3158899.2966, Relative RMSE: 0.0834\n",
      "Params: {'n_estimators': 100, 'max_depth': 5, 'learning_rate': 0.1, 'subsample': 0.7, 'colsample_bytree': 0.7, 'gamma': 0, 'reg_alpha': 0, 'reg_lambda': 0} => RMSE: 2959183.8798, Relative RMSE: 0.0782\n",
      "Params: {'n_estimators': 100, 'max_depth': 5, 'learning_rate': 0.1, 'subsample': 0.7, 'colsample_bytree': 0.7, 'gamma': 0, 'reg_alpha': 0, 'reg_lambda': 0.1} => RMSE: 2975755.2833, Relative RMSE: 0.0786\n",
      "Params: {'n_estimators': 100, 'max_depth': 5, 'learning_rate': 0.1, 'subsample': 0.7, 'colsample_bytree': 0.7, 'gamma': 0, 'reg_alpha': 0, 'reg_lambda': 0.3} => RMSE: 2875551.4937, Relative RMSE: 0.0760\n",
      "Params: {'n_estimators': 100, 'max_depth': 5, 'learning_rate': 0.1, 'subsample': 0.7, 'colsample_bytree': 0.7, 'gamma': 0, 'reg_alpha': 0.1, 'reg_lambda': 0} => RMSE: 2959189.6147, Relative RMSE: 0.0782\n",
      "Params: {'n_estimators': 100, 'max_depth': 5, 'learning_rate': 0.1, 'subsample': 0.7, 'colsample_bytree': 0.7, 'gamma': 0, 'reg_alpha': 0.1, 'reg_lambda': 0.1} => RMSE: 2975753.3144, Relative RMSE: 0.0786\n",
      "Params: {'n_estimators': 100, 'max_depth': 5, 'learning_rate': 0.1, 'subsample': 0.7, 'colsample_bytree': 0.7, 'gamma': 0, 'reg_alpha': 0.1, 'reg_lambda': 0.3} => RMSE: 2875438.5283, Relative RMSE: 0.0760\n",
      "Params: {'n_estimators': 100, 'max_depth': 5, 'learning_rate': 0.1, 'subsample': 0.7, 'colsample_bytree': 0.7, 'gamma': 0, 'reg_alpha': 0.3, 'reg_lambda': 0} => RMSE: 2959188.5843, Relative RMSE: 0.0782\n",
      "Params: {'n_estimators': 100, 'max_depth': 5, 'learning_rate': 0.1, 'subsample': 0.7, 'colsample_bytree': 0.7, 'gamma': 0, 'reg_alpha': 0.3, 'reg_lambda': 0.1} => RMSE: 2975753.3144, Relative RMSE: 0.0786\n",
      "Params: {'n_estimators': 100, 'max_depth': 5, 'learning_rate': 0.1, 'subsample': 0.7, 'colsample_bytree': 0.7, 'gamma': 0, 'reg_alpha': 0.3, 'reg_lambda': 0.3} => RMSE: 2875438.5283, Relative RMSE: 0.0760\n",
      "Params: {'n_estimators': 100, 'max_depth': 5, 'learning_rate': 0.1, 'subsample': 0.7, 'colsample_bytree': 0.7, 'gamma': 0.1, 'reg_alpha': 0, 'reg_lambda': 0} => RMSE: 2959183.8798, Relative RMSE: 0.0782\n",
      "Params: {'n_estimators': 100, 'max_depth': 5, 'learning_rate': 0.1, 'subsample': 0.7, 'colsample_bytree': 0.7, 'gamma': 0.1, 'reg_alpha': 0, 'reg_lambda': 0.1} => RMSE: 2975755.2833, Relative RMSE: 0.0786\n",
      "Params: {'n_estimators': 100, 'max_depth': 5, 'learning_rate': 0.1, 'subsample': 0.7, 'colsample_bytree': 0.7, 'gamma': 0.1, 'reg_alpha': 0, 'reg_lambda': 0.3} => RMSE: 2875551.4937, Relative RMSE: 0.0760\n",
      "Params: {'n_estimators': 100, 'max_depth': 5, 'learning_rate': 0.1, 'subsample': 0.7, 'colsample_bytree': 0.7, 'gamma': 0.1, 'reg_alpha': 0.1, 'reg_lambda': 0} => RMSE: 2959189.6147, Relative RMSE: 0.0782\n",
      "Params: {'n_estimators': 100, 'max_depth': 5, 'learning_rate': 0.1, 'subsample': 0.7, 'colsample_bytree': 0.7, 'gamma': 0.1, 'reg_alpha': 0.1, 'reg_lambda': 0.1} => RMSE: 2975753.3144, Relative RMSE: 0.0786\n",
      "Params: {'n_estimators': 100, 'max_depth': 5, 'learning_rate': 0.1, 'subsample': 0.7, 'colsample_bytree': 0.7, 'gamma': 0.1, 'reg_alpha': 0.1, 'reg_lambda': 0.3} => RMSE: 2875438.5283, Relative RMSE: 0.0760\n",
      "Params: {'n_estimators': 100, 'max_depth': 5, 'learning_rate': 0.1, 'subsample': 0.7, 'colsample_bytree': 0.7, 'gamma': 0.1, 'reg_alpha': 0.3, 'reg_lambda': 0} => RMSE: 2959188.5843, Relative RMSE: 0.0782\n",
      "Params: {'n_estimators': 100, 'max_depth': 5, 'learning_rate': 0.1, 'subsample': 0.7, 'colsample_bytree': 0.7, 'gamma': 0.1, 'reg_alpha': 0.3, 'reg_lambda': 0.1} => RMSE: 2975753.3144, Relative RMSE: 0.0786\n",
      "Params: {'n_estimators': 100, 'max_depth': 5, 'learning_rate': 0.1, 'subsample': 0.7, 'colsample_bytree': 0.7, 'gamma': 0.1, 'reg_alpha': 0.3, 'reg_lambda': 0.3} => RMSE: 2875438.5283, Relative RMSE: 0.0760\n",
      "Params: {'n_estimators': 100, 'max_depth': 5, 'learning_rate': 0.1, 'subsample': 0.7, 'colsample_bytree': 0.7, 'gamma': 0.3, 'reg_alpha': 0, 'reg_lambda': 0} => RMSE: 2959183.8798, Relative RMSE: 0.0782\n",
      "Params: {'n_estimators': 100, 'max_depth': 5, 'learning_rate': 0.1, 'subsample': 0.7, 'colsample_bytree': 0.7, 'gamma': 0.3, 'reg_alpha': 0, 'reg_lambda': 0.1} => RMSE: 2975755.2833, Relative RMSE: 0.0786\n",
      "Params: {'n_estimators': 100, 'max_depth': 5, 'learning_rate': 0.1, 'subsample': 0.7, 'colsample_bytree': 0.7, 'gamma': 0.3, 'reg_alpha': 0, 'reg_lambda': 0.3} => RMSE: 2875551.4937, Relative RMSE: 0.0760\n",
      "Params: {'n_estimators': 100, 'max_depth': 5, 'learning_rate': 0.1, 'subsample': 0.7, 'colsample_bytree': 0.7, 'gamma': 0.3, 'reg_alpha': 0.1, 'reg_lambda': 0} => RMSE: 2959189.6147, Relative RMSE: 0.0782\n",
      "Params: {'n_estimators': 100, 'max_depth': 5, 'learning_rate': 0.1, 'subsample': 0.7, 'colsample_bytree': 0.7, 'gamma': 0.3, 'reg_alpha': 0.1, 'reg_lambda': 0.1} => RMSE: 2975753.3144, Relative RMSE: 0.0786\n",
      "Params: {'n_estimators': 100, 'max_depth': 5, 'learning_rate': 0.1, 'subsample': 0.7, 'colsample_bytree': 0.7, 'gamma': 0.3, 'reg_alpha': 0.1, 'reg_lambda': 0.3} => RMSE: 2875438.5283, Relative RMSE: 0.0760\n",
      "Params: {'n_estimators': 100, 'max_depth': 5, 'learning_rate': 0.1, 'subsample': 0.7, 'colsample_bytree': 0.7, 'gamma': 0.3, 'reg_alpha': 0.3, 'reg_lambda': 0} => RMSE: 2959188.5843, Relative RMSE: 0.0782\n",
      "Params: {'n_estimators': 100, 'max_depth': 5, 'learning_rate': 0.1, 'subsample': 0.7, 'colsample_bytree': 0.7, 'gamma': 0.3, 'reg_alpha': 0.3, 'reg_lambda': 0.1} => RMSE: 2975753.3144, Relative RMSE: 0.0786\n",
      "Params: {'n_estimators': 100, 'max_depth': 5, 'learning_rate': 0.1, 'subsample': 0.7, 'colsample_bytree': 0.7, 'gamma': 0.3, 'reg_alpha': 0.3, 'reg_lambda': 0.3} => RMSE: 2875438.5283, Relative RMSE: 0.0760\n",
      "Params: {'n_estimators': 100, 'max_depth': 5, 'learning_rate': 0.1, 'subsample': 0.7, 'colsample_bytree': 1, 'gamma': 0, 'reg_alpha': 0, 'reg_lambda': 0} => RMSE: 2649903.6464, Relative RMSE: 0.0700\n",
      "Params: {'n_estimators': 100, 'max_depth': 5, 'learning_rate': 0.1, 'subsample': 0.7, 'colsample_bytree': 1, 'gamma': 0, 'reg_alpha': 0, 'reg_lambda': 0.1} => RMSE: 2540516.3070, Relative RMSE: 0.0671\n",
      "Params: {'n_estimators': 100, 'max_depth': 5, 'learning_rate': 0.1, 'subsample': 0.7, 'colsample_bytree': 1, 'gamma': 0, 'reg_alpha': 0, 'reg_lambda': 0.3} => RMSE: 2689013.3731, Relative RMSE: 0.0710\n",
      "Params: {'n_estimators': 100, 'max_depth': 5, 'learning_rate': 0.1, 'subsample': 0.7, 'colsample_bytree': 1, 'gamma': 0, 'reg_alpha': 0.1, 'reg_lambda': 0} => RMSE: 2649302.0029, Relative RMSE: 0.0700\n",
      "Params: {'n_estimators': 100, 'max_depth': 5, 'learning_rate': 0.1, 'subsample': 0.7, 'colsample_bytree': 1, 'gamma': 0, 'reg_alpha': 0.1, 'reg_lambda': 0.1} => RMSE: 2540516.3070, Relative RMSE: 0.0671\n",
      "Params: {'n_estimators': 100, 'max_depth': 5, 'learning_rate': 0.1, 'subsample': 0.7, 'colsample_bytree': 1, 'gamma': 0, 'reg_alpha': 0.1, 'reg_lambda': 0.3} => RMSE: 2689013.9670, Relative RMSE: 0.0710\n",
      "Params: {'n_estimators': 100, 'max_depth': 5, 'learning_rate': 0.1, 'subsample': 0.7, 'colsample_bytree': 1, 'gamma': 0, 'reg_alpha': 0.3, 'reg_lambda': 0} => RMSE: 2649301.9247, Relative RMSE: 0.0700\n",
      "Params: {'n_estimators': 100, 'max_depth': 5, 'learning_rate': 0.1, 'subsample': 0.7, 'colsample_bytree': 1, 'gamma': 0, 'reg_alpha': 0.3, 'reg_lambda': 0.1} => RMSE: 2540515.6449, Relative RMSE: 0.0671\n",
      "Params: {'n_estimators': 100, 'max_depth': 5, 'learning_rate': 0.1, 'subsample': 0.7, 'colsample_bytree': 1, 'gamma': 0, 'reg_alpha': 0.3, 'reg_lambda': 0.3} => RMSE: 2689013.9670, Relative RMSE: 0.0710\n",
      "Params: {'n_estimators': 100, 'max_depth': 5, 'learning_rate': 0.1, 'subsample': 0.7, 'colsample_bytree': 1, 'gamma': 0.1, 'reg_alpha': 0, 'reg_lambda': 0} => RMSE: 2649903.6464, Relative RMSE: 0.0700\n",
      "Params: {'n_estimators': 100, 'max_depth': 5, 'learning_rate': 0.1, 'subsample': 0.7, 'colsample_bytree': 1, 'gamma': 0.1, 'reg_alpha': 0, 'reg_lambda': 0.1} => RMSE: 2540516.3070, Relative RMSE: 0.0671\n",
      "Params: {'n_estimators': 100, 'max_depth': 5, 'learning_rate': 0.1, 'subsample': 0.7, 'colsample_bytree': 1, 'gamma': 0.1, 'reg_alpha': 0, 'reg_lambda': 0.3} => RMSE: 2689013.3731, Relative RMSE: 0.0710\n",
      "Params: {'n_estimators': 100, 'max_depth': 5, 'learning_rate': 0.1, 'subsample': 0.7, 'colsample_bytree': 1, 'gamma': 0.1, 'reg_alpha': 0.1, 'reg_lambda': 0} => RMSE: 2649302.0029, Relative RMSE: 0.0700\n",
      "Params: {'n_estimators': 100, 'max_depth': 5, 'learning_rate': 0.1, 'subsample': 0.7, 'colsample_bytree': 1, 'gamma': 0.1, 'reg_alpha': 0.1, 'reg_lambda': 0.1} => RMSE: 2540516.3070, Relative RMSE: 0.0671\n",
      "Params: {'n_estimators': 100, 'max_depth': 5, 'learning_rate': 0.1, 'subsample': 0.7, 'colsample_bytree': 1, 'gamma': 0.1, 'reg_alpha': 0.1, 'reg_lambda': 0.3} => RMSE: 2689013.9670, Relative RMSE: 0.0710\n",
      "Params: {'n_estimators': 100, 'max_depth': 5, 'learning_rate': 0.1, 'subsample': 0.7, 'colsample_bytree': 1, 'gamma': 0.1, 'reg_alpha': 0.3, 'reg_lambda': 0} => RMSE: 2649301.9247, Relative RMSE: 0.0700\n",
      "Params: {'n_estimators': 100, 'max_depth': 5, 'learning_rate': 0.1, 'subsample': 0.7, 'colsample_bytree': 1, 'gamma': 0.1, 'reg_alpha': 0.3, 'reg_lambda': 0.1} => RMSE: 2540515.6449, Relative RMSE: 0.0671\n",
      "Params: {'n_estimators': 100, 'max_depth': 5, 'learning_rate': 0.1, 'subsample': 0.7, 'colsample_bytree': 1, 'gamma': 0.1, 'reg_alpha': 0.3, 'reg_lambda': 0.3} => RMSE: 2689013.9670, Relative RMSE: 0.0710\n",
      "Params: {'n_estimators': 100, 'max_depth': 5, 'learning_rate': 0.1, 'subsample': 0.7, 'colsample_bytree': 1, 'gamma': 0.3, 'reg_alpha': 0, 'reg_lambda': 0} => RMSE: 2649903.6464, Relative RMSE: 0.0700\n",
      "Params: {'n_estimators': 100, 'max_depth': 5, 'learning_rate': 0.1, 'subsample': 0.7, 'colsample_bytree': 1, 'gamma': 0.3, 'reg_alpha': 0, 'reg_lambda': 0.1} => RMSE: 2540516.3070, Relative RMSE: 0.0671\n",
      "Params: {'n_estimators': 100, 'max_depth': 5, 'learning_rate': 0.1, 'subsample': 0.7, 'colsample_bytree': 1, 'gamma': 0.3, 'reg_alpha': 0, 'reg_lambda': 0.3} => RMSE: 2689013.3731, Relative RMSE: 0.0710\n",
      "Params: {'n_estimators': 100, 'max_depth': 5, 'learning_rate': 0.1, 'subsample': 0.7, 'colsample_bytree': 1, 'gamma': 0.3, 'reg_alpha': 0.1, 'reg_lambda': 0} => RMSE: 2649302.0029, Relative RMSE: 0.0700\n",
      "Params: {'n_estimators': 100, 'max_depth': 5, 'learning_rate': 0.1, 'subsample': 0.7, 'colsample_bytree': 1, 'gamma': 0.3, 'reg_alpha': 0.1, 'reg_lambda': 0.1} => RMSE: 2540516.3070, Relative RMSE: 0.0671\n",
      "Params: {'n_estimators': 100, 'max_depth': 5, 'learning_rate': 0.1, 'subsample': 0.7, 'colsample_bytree': 1, 'gamma': 0.3, 'reg_alpha': 0.1, 'reg_lambda': 0.3} => RMSE: 2689013.9670, Relative RMSE: 0.0710\n",
      "Params: {'n_estimators': 100, 'max_depth': 5, 'learning_rate': 0.1, 'subsample': 0.7, 'colsample_bytree': 1, 'gamma': 0.3, 'reg_alpha': 0.3, 'reg_lambda': 0} => RMSE: 2649301.9247, Relative RMSE: 0.0700\n",
      "Params: {'n_estimators': 100, 'max_depth': 5, 'learning_rate': 0.1, 'subsample': 0.7, 'colsample_bytree': 1, 'gamma': 0.3, 'reg_alpha': 0.3, 'reg_lambda': 0.1} => RMSE: 2540515.6449, Relative RMSE: 0.0671\n",
      "Params: {'n_estimators': 100, 'max_depth': 5, 'learning_rate': 0.1, 'subsample': 0.7, 'colsample_bytree': 1, 'gamma': 0.3, 'reg_alpha': 0.3, 'reg_lambda': 0.3} => RMSE: 2689013.9670, Relative RMSE: 0.0710\n",
      "Params: {'n_estimators': 100, 'max_depth': 5, 'learning_rate': 0.3, 'subsample': 0.5, 'colsample_bytree': 0.5, 'gamma': 0, 'reg_alpha': 0, 'reg_lambda': 0} => RMSE: 3069865.1555, Relative RMSE: 0.0811\n",
      "Params: {'n_estimators': 100, 'max_depth': 5, 'learning_rate': 0.3, 'subsample': 0.5, 'colsample_bytree': 0.5, 'gamma': 0, 'reg_alpha': 0, 'reg_lambda': 0.1} => RMSE: 2929877.0630, Relative RMSE: 0.0774\n",
      "Params: {'n_estimators': 100, 'max_depth': 5, 'learning_rate': 0.3, 'subsample': 0.5, 'colsample_bytree': 0.5, 'gamma': 0, 'reg_alpha': 0, 'reg_lambda': 0.3} => RMSE: 2849535.0356, Relative RMSE: 0.0753\n",
      "Params: {'n_estimators': 100, 'max_depth': 5, 'learning_rate': 0.3, 'subsample': 0.5, 'colsample_bytree': 0.5, 'gamma': 0, 'reg_alpha': 0.1, 'reg_lambda': 0} => RMSE: 3069814.2557, Relative RMSE: 0.0811\n",
      "Params: {'n_estimators': 100, 'max_depth': 5, 'learning_rate': 0.3, 'subsample': 0.5, 'colsample_bytree': 0.5, 'gamma': 0, 'reg_alpha': 0.1, 'reg_lambda': 0.1} => RMSE: 2929878.5902, Relative RMSE: 0.0774\n",
      "Params: {'n_estimators': 100, 'max_depth': 5, 'learning_rate': 0.3, 'subsample': 0.5, 'colsample_bytree': 0.5, 'gamma': 0, 'reg_alpha': 0.1, 'reg_lambda': 0.3} => RMSE: 2849533.9726, Relative RMSE: 0.0753\n",
      "Params: {'n_estimators': 100, 'max_depth': 5, 'learning_rate': 0.3, 'subsample': 0.5, 'colsample_bytree': 0.5, 'gamma': 0, 'reg_alpha': 0.3, 'reg_lambda': 0} => RMSE: 3069894.5560, Relative RMSE: 0.0811\n",
      "Params: {'n_estimators': 100, 'max_depth': 5, 'learning_rate': 0.3, 'subsample': 0.5, 'colsample_bytree': 0.5, 'gamma': 0, 'reg_alpha': 0.3, 'reg_lambda': 0.1} => RMSE: 2929880.3540, Relative RMSE: 0.0774\n",
      "Params: {'n_estimators': 100, 'max_depth': 5, 'learning_rate': 0.3, 'subsample': 0.5, 'colsample_bytree': 0.5, 'gamma': 0, 'reg_alpha': 0.3, 'reg_lambda': 0.3} => RMSE: 2846129.6227, Relative RMSE: 0.0752\n",
      "Params: {'n_estimators': 100, 'max_depth': 5, 'learning_rate': 0.3, 'subsample': 0.5, 'colsample_bytree': 0.5, 'gamma': 0.1, 'reg_alpha': 0, 'reg_lambda': 0} => RMSE: 3069865.1555, Relative RMSE: 0.0811\n",
      "Params: {'n_estimators': 100, 'max_depth': 5, 'learning_rate': 0.3, 'subsample': 0.5, 'colsample_bytree': 0.5, 'gamma': 0.1, 'reg_alpha': 0, 'reg_lambda': 0.1} => RMSE: 2929877.0630, Relative RMSE: 0.0774\n",
      "Params: {'n_estimators': 100, 'max_depth': 5, 'learning_rate': 0.3, 'subsample': 0.5, 'colsample_bytree': 0.5, 'gamma': 0.1, 'reg_alpha': 0, 'reg_lambda': 0.3} => RMSE: 2849535.0356, Relative RMSE: 0.0753\n",
      "Params: {'n_estimators': 100, 'max_depth': 5, 'learning_rate': 0.3, 'subsample': 0.5, 'colsample_bytree': 0.5, 'gamma': 0.1, 'reg_alpha': 0.1, 'reg_lambda': 0} => RMSE: 3069814.2557, Relative RMSE: 0.0811\n",
      "Params: {'n_estimators': 100, 'max_depth': 5, 'learning_rate': 0.3, 'subsample': 0.5, 'colsample_bytree': 0.5, 'gamma': 0.1, 'reg_alpha': 0.1, 'reg_lambda': 0.1} => RMSE: 2929878.5902, Relative RMSE: 0.0774\n",
      "Params: {'n_estimators': 100, 'max_depth': 5, 'learning_rate': 0.3, 'subsample': 0.5, 'colsample_bytree': 0.5, 'gamma': 0.1, 'reg_alpha': 0.1, 'reg_lambda': 0.3} => RMSE: 2849533.9726, Relative RMSE: 0.0753\n",
      "Params: {'n_estimators': 100, 'max_depth': 5, 'learning_rate': 0.3, 'subsample': 0.5, 'colsample_bytree': 0.5, 'gamma': 0.1, 'reg_alpha': 0.3, 'reg_lambda': 0} => RMSE: 3069894.5560, Relative RMSE: 0.0811\n",
      "Params: {'n_estimators': 100, 'max_depth': 5, 'learning_rate': 0.3, 'subsample': 0.5, 'colsample_bytree': 0.5, 'gamma': 0.1, 'reg_alpha': 0.3, 'reg_lambda': 0.1} => RMSE: 2929880.3540, Relative RMSE: 0.0774\n",
      "Params: {'n_estimators': 100, 'max_depth': 5, 'learning_rate': 0.3, 'subsample': 0.5, 'colsample_bytree': 0.5, 'gamma': 0.1, 'reg_alpha': 0.3, 'reg_lambda': 0.3} => RMSE: 2846129.6227, Relative RMSE: 0.0752\n",
      "Params: {'n_estimators': 100, 'max_depth': 5, 'learning_rate': 0.3, 'subsample': 0.5, 'colsample_bytree': 0.5, 'gamma': 0.3, 'reg_alpha': 0, 'reg_lambda': 0} => RMSE: 3069865.1555, Relative RMSE: 0.0811\n",
      "Params: {'n_estimators': 100, 'max_depth': 5, 'learning_rate': 0.3, 'subsample': 0.5, 'colsample_bytree': 0.5, 'gamma': 0.3, 'reg_alpha': 0, 'reg_lambda': 0.1} => RMSE: 2929877.0630, Relative RMSE: 0.0774\n",
      "Params: {'n_estimators': 100, 'max_depth': 5, 'learning_rate': 0.3, 'subsample': 0.5, 'colsample_bytree': 0.5, 'gamma': 0.3, 'reg_alpha': 0, 'reg_lambda': 0.3} => RMSE: 2849535.0356, Relative RMSE: 0.0753\n",
      "Params: {'n_estimators': 100, 'max_depth': 5, 'learning_rate': 0.3, 'subsample': 0.5, 'colsample_bytree': 0.5, 'gamma': 0.3, 'reg_alpha': 0.1, 'reg_lambda': 0} => RMSE: 3069814.2557, Relative RMSE: 0.0811\n",
      "Params: {'n_estimators': 100, 'max_depth': 5, 'learning_rate': 0.3, 'subsample': 0.5, 'colsample_bytree': 0.5, 'gamma': 0.3, 'reg_alpha': 0.1, 'reg_lambda': 0.1} => RMSE: 2929878.5902, Relative RMSE: 0.0774\n",
      "Params: {'n_estimators': 100, 'max_depth': 5, 'learning_rate': 0.3, 'subsample': 0.5, 'colsample_bytree': 0.5, 'gamma': 0.3, 'reg_alpha': 0.1, 'reg_lambda': 0.3} => RMSE: 2849533.9726, Relative RMSE: 0.0753\n",
      "Params: {'n_estimators': 100, 'max_depth': 5, 'learning_rate': 0.3, 'subsample': 0.5, 'colsample_bytree': 0.5, 'gamma': 0.3, 'reg_alpha': 0.3, 'reg_lambda': 0} => RMSE: 3069894.5560, Relative RMSE: 0.0811\n",
      "Params: {'n_estimators': 100, 'max_depth': 5, 'learning_rate': 0.3, 'subsample': 0.5, 'colsample_bytree': 0.5, 'gamma': 0.3, 'reg_alpha': 0.3, 'reg_lambda': 0.1} => RMSE: 2929880.3540, Relative RMSE: 0.0774\n",
      "Params: {'n_estimators': 100, 'max_depth': 5, 'learning_rate': 0.3, 'subsample': 0.5, 'colsample_bytree': 0.5, 'gamma': 0.3, 'reg_alpha': 0.3, 'reg_lambda': 0.3} => RMSE: 2846129.6227, Relative RMSE: 0.0752\n",
      "Params: {'n_estimators': 100, 'max_depth': 5, 'learning_rate': 0.3, 'subsample': 0.5, 'colsample_bytree': 0.7, 'gamma': 0, 'reg_alpha': 0, 'reg_lambda': 0} => RMSE: 3014085.0675, Relative RMSE: 0.0796\n",
      "Params: {'n_estimators': 100, 'max_depth': 5, 'learning_rate': 0.3, 'subsample': 0.5, 'colsample_bytree': 0.7, 'gamma': 0, 'reg_alpha': 0, 'reg_lambda': 0.1} => RMSE: 3244128.9184, Relative RMSE: 0.0857\n",
      "Params: {'n_estimators': 100, 'max_depth': 5, 'learning_rate': 0.3, 'subsample': 0.5, 'colsample_bytree': 0.7, 'gamma': 0, 'reg_alpha': 0, 'reg_lambda': 0.3} => RMSE: 3090203.1514, Relative RMSE: 0.0816\n",
      "Params: {'n_estimators': 100, 'max_depth': 5, 'learning_rate': 0.3, 'subsample': 0.5, 'colsample_bytree': 0.7, 'gamma': 0, 'reg_alpha': 0.1, 'reg_lambda': 0} => RMSE: 3014003.2796, Relative RMSE: 0.0796\n",
      "Params: {'n_estimators': 100, 'max_depth': 5, 'learning_rate': 0.3, 'subsample': 0.5, 'colsample_bytree': 0.7, 'gamma': 0, 'reg_alpha': 0.1, 'reg_lambda': 0.1} => RMSE: 3244158.2074, Relative RMSE: 0.0857\n",
      "Params: {'n_estimators': 100, 'max_depth': 5, 'learning_rate': 0.3, 'subsample': 0.5, 'colsample_bytree': 0.7, 'gamma': 0, 'reg_alpha': 0.1, 'reg_lambda': 0.3} => RMSE: 3090203.2727, Relative RMSE: 0.0816\n",
      "Params: {'n_estimators': 100, 'max_depth': 5, 'learning_rate': 0.3, 'subsample': 0.5, 'colsample_bytree': 0.7, 'gamma': 0, 'reg_alpha': 0.3, 'reg_lambda': 0} => RMSE: 3014028.3432, Relative RMSE: 0.0796\n",
      "Params: {'n_estimators': 100, 'max_depth': 5, 'learning_rate': 0.3, 'subsample': 0.5, 'colsample_bytree': 0.7, 'gamma': 0, 'reg_alpha': 0.3, 'reg_lambda': 0.1} => RMSE: 3244130.3813, Relative RMSE: 0.0857\n",
      "Params: {'n_estimators': 100, 'max_depth': 5, 'learning_rate': 0.3, 'subsample': 0.5, 'colsample_bytree': 0.7, 'gamma': 0, 'reg_alpha': 0.3, 'reg_lambda': 0.3} => RMSE: 3090203.2727, Relative RMSE: 0.0816\n",
      "Params: {'n_estimators': 100, 'max_depth': 5, 'learning_rate': 0.3, 'subsample': 0.5, 'colsample_bytree': 0.7, 'gamma': 0.1, 'reg_alpha': 0, 'reg_lambda': 0} => RMSE: 3014085.0675, Relative RMSE: 0.0796\n",
      "Params: {'n_estimators': 100, 'max_depth': 5, 'learning_rate': 0.3, 'subsample': 0.5, 'colsample_bytree': 0.7, 'gamma': 0.1, 'reg_alpha': 0, 'reg_lambda': 0.1} => RMSE: 3244128.9184, Relative RMSE: 0.0857\n",
      "Params: {'n_estimators': 100, 'max_depth': 5, 'learning_rate': 0.3, 'subsample': 0.5, 'colsample_bytree': 0.7, 'gamma': 0.1, 'reg_alpha': 0, 'reg_lambda': 0.3} => RMSE: 3090203.1514, Relative RMSE: 0.0816\n",
      "Params: {'n_estimators': 100, 'max_depth': 5, 'learning_rate': 0.3, 'subsample': 0.5, 'colsample_bytree': 0.7, 'gamma': 0.1, 'reg_alpha': 0.1, 'reg_lambda': 0} => RMSE: 3014003.2796, Relative RMSE: 0.0796\n",
      "Params: {'n_estimators': 100, 'max_depth': 5, 'learning_rate': 0.3, 'subsample': 0.5, 'colsample_bytree': 0.7, 'gamma': 0.1, 'reg_alpha': 0.1, 'reg_lambda': 0.1} => RMSE: 3244158.2074, Relative RMSE: 0.0857\n",
      "Params: {'n_estimators': 100, 'max_depth': 5, 'learning_rate': 0.3, 'subsample': 0.5, 'colsample_bytree': 0.7, 'gamma': 0.1, 'reg_alpha': 0.1, 'reg_lambda': 0.3} => RMSE: 3090203.2727, Relative RMSE: 0.0816\n",
      "Params: {'n_estimators': 100, 'max_depth': 5, 'learning_rate': 0.3, 'subsample': 0.5, 'colsample_bytree': 0.7, 'gamma': 0.1, 'reg_alpha': 0.3, 'reg_lambda': 0} => RMSE: 3014028.3432, Relative RMSE: 0.0796\n",
      "Params: {'n_estimators': 100, 'max_depth': 5, 'learning_rate': 0.3, 'subsample': 0.5, 'colsample_bytree': 0.7, 'gamma': 0.1, 'reg_alpha': 0.3, 'reg_lambda': 0.1} => RMSE: 3244130.3813, Relative RMSE: 0.0857\n",
      "Params: {'n_estimators': 100, 'max_depth': 5, 'learning_rate': 0.3, 'subsample': 0.5, 'colsample_bytree': 0.7, 'gamma': 0.1, 'reg_alpha': 0.3, 'reg_lambda': 0.3} => RMSE: 3090203.2727, Relative RMSE: 0.0816\n",
      "Params: {'n_estimators': 100, 'max_depth': 5, 'learning_rate': 0.3, 'subsample': 0.5, 'colsample_bytree': 0.7, 'gamma': 0.3, 'reg_alpha': 0, 'reg_lambda': 0} => RMSE: 3014085.0675, Relative RMSE: 0.0796\n",
      "Params: {'n_estimators': 100, 'max_depth': 5, 'learning_rate': 0.3, 'subsample': 0.5, 'colsample_bytree': 0.7, 'gamma': 0.3, 'reg_alpha': 0, 'reg_lambda': 0.1} => RMSE: 3244128.9184, Relative RMSE: 0.0857\n",
      "Params: {'n_estimators': 100, 'max_depth': 5, 'learning_rate': 0.3, 'subsample': 0.5, 'colsample_bytree': 0.7, 'gamma': 0.3, 'reg_alpha': 0, 'reg_lambda': 0.3} => RMSE: 3090203.1514, Relative RMSE: 0.0816\n",
      "Params: {'n_estimators': 100, 'max_depth': 5, 'learning_rate': 0.3, 'subsample': 0.5, 'colsample_bytree': 0.7, 'gamma': 0.3, 'reg_alpha': 0.1, 'reg_lambda': 0} => RMSE: 3014003.2796, Relative RMSE: 0.0796\n",
      "Params: {'n_estimators': 100, 'max_depth': 5, 'learning_rate': 0.3, 'subsample': 0.5, 'colsample_bytree': 0.7, 'gamma': 0.3, 'reg_alpha': 0.1, 'reg_lambda': 0.1} => RMSE: 3244158.2074, Relative RMSE: 0.0857\n",
      "Params: {'n_estimators': 100, 'max_depth': 5, 'learning_rate': 0.3, 'subsample': 0.5, 'colsample_bytree': 0.7, 'gamma': 0.3, 'reg_alpha': 0.1, 'reg_lambda': 0.3} => RMSE: 3090203.2727, Relative RMSE: 0.0816\n",
      "Params: {'n_estimators': 100, 'max_depth': 5, 'learning_rate': 0.3, 'subsample': 0.5, 'colsample_bytree': 0.7, 'gamma': 0.3, 'reg_alpha': 0.3, 'reg_lambda': 0} => RMSE: 3014028.3432, Relative RMSE: 0.0796\n",
      "Params: {'n_estimators': 100, 'max_depth': 5, 'learning_rate': 0.3, 'subsample': 0.5, 'colsample_bytree': 0.7, 'gamma': 0.3, 'reg_alpha': 0.3, 'reg_lambda': 0.1} => RMSE: 3244130.3813, Relative RMSE: 0.0857\n",
      "Params: {'n_estimators': 100, 'max_depth': 5, 'learning_rate': 0.3, 'subsample': 0.5, 'colsample_bytree': 0.7, 'gamma': 0.3, 'reg_alpha': 0.3, 'reg_lambda': 0.3} => RMSE: 3090203.2727, Relative RMSE: 0.0816\n",
      "Params: {'n_estimators': 100, 'max_depth': 5, 'learning_rate': 0.3, 'subsample': 0.5, 'colsample_bytree': 1, 'gamma': 0, 'reg_alpha': 0, 'reg_lambda': 0} => RMSE: 2816236.6102, Relative RMSE: 0.0744\n",
      "Params: {'n_estimators': 100, 'max_depth': 5, 'learning_rate': 0.3, 'subsample': 0.5, 'colsample_bytree': 1, 'gamma': 0, 'reg_alpha': 0, 'reg_lambda': 0.1} => RMSE: 2662030.0270, Relative RMSE: 0.0703\n",
      "Params: {'n_estimators': 100, 'max_depth': 5, 'learning_rate': 0.3, 'subsample': 0.5, 'colsample_bytree': 1, 'gamma': 0, 'reg_alpha': 0, 'reg_lambda': 0.3} => RMSE: 2893323.7092, Relative RMSE: 0.0764\n",
      "Params: {'n_estimators': 100, 'max_depth': 5, 'learning_rate': 0.3, 'subsample': 0.5, 'colsample_bytree': 1, 'gamma': 0, 'reg_alpha': 0.1, 'reg_lambda': 0} => RMSE: 2816223.1177, Relative RMSE: 0.0744\n",
      "Params: {'n_estimators': 100, 'max_depth': 5, 'learning_rate': 0.3, 'subsample': 0.5, 'colsample_bytree': 1, 'gamma': 0, 'reg_alpha': 0.1, 'reg_lambda': 0.1} => RMSE: 2662007.9716, Relative RMSE: 0.0703\n",
      "Params: {'n_estimators': 100, 'max_depth': 5, 'learning_rate': 0.3, 'subsample': 0.5, 'colsample_bytree': 1, 'gamma': 0, 'reg_alpha': 0.1, 'reg_lambda': 0.3} => RMSE: 2893324.1396, Relative RMSE: 0.0764\n",
      "Params: {'n_estimators': 100, 'max_depth': 5, 'learning_rate': 0.3, 'subsample': 0.5, 'colsample_bytree': 1, 'gamma': 0, 'reg_alpha': 0.3, 'reg_lambda': 0} => RMSE: 2816237.7176, Relative RMSE: 0.0744\n",
      "Params: {'n_estimators': 100, 'max_depth': 5, 'learning_rate': 0.3, 'subsample': 0.5, 'colsample_bytree': 1, 'gamma': 0, 'reg_alpha': 0.3, 'reg_lambda': 0.1} => RMSE: 2662009.9226, Relative RMSE: 0.0703\n",
      "Params: {'n_estimators': 100, 'max_depth': 5, 'learning_rate': 0.3, 'subsample': 0.5, 'colsample_bytree': 1, 'gamma': 0, 'reg_alpha': 0.3, 'reg_lambda': 0.3} => RMSE: 2893324.1396, Relative RMSE: 0.0764\n",
      "Params: {'n_estimators': 100, 'max_depth': 5, 'learning_rate': 0.3, 'subsample': 0.5, 'colsample_bytree': 1, 'gamma': 0.1, 'reg_alpha': 0, 'reg_lambda': 0} => RMSE: 2816236.6102, Relative RMSE: 0.0744\n",
      "Params: {'n_estimators': 100, 'max_depth': 5, 'learning_rate': 0.3, 'subsample': 0.5, 'colsample_bytree': 1, 'gamma': 0.1, 'reg_alpha': 0, 'reg_lambda': 0.1} => RMSE: 2662030.0270, Relative RMSE: 0.0703\n",
      "Params: {'n_estimators': 100, 'max_depth': 5, 'learning_rate': 0.3, 'subsample': 0.5, 'colsample_bytree': 1, 'gamma': 0.1, 'reg_alpha': 0, 'reg_lambda': 0.3} => RMSE: 2893323.7092, Relative RMSE: 0.0764\n",
      "Params: {'n_estimators': 100, 'max_depth': 5, 'learning_rate': 0.3, 'subsample': 0.5, 'colsample_bytree': 1, 'gamma': 0.1, 'reg_alpha': 0.1, 'reg_lambda': 0} => RMSE: 2816223.1177, Relative RMSE: 0.0744\n",
      "Params: {'n_estimators': 100, 'max_depth': 5, 'learning_rate': 0.3, 'subsample': 0.5, 'colsample_bytree': 1, 'gamma': 0.1, 'reg_alpha': 0.1, 'reg_lambda': 0.1} => RMSE: 2662007.9716, Relative RMSE: 0.0703\n",
      "Params: {'n_estimators': 100, 'max_depth': 5, 'learning_rate': 0.3, 'subsample': 0.5, 'colsample_bytree': 1, 'gamma': 0.1, 'reg_alpha': 0.1, 'reg_lambda': 0.3} => RMSE: 2893324.1396, Relative RMSE: 0.0764\n",
      "Params: {'n_estimators': 100, 'max_depth': 5, 'learning_rate': 0.3, 'subsample': 0.5, 'colsample_bytree': 1, 'gamma': 0.1, 'reg_alpha': 0.3, 'reg_lambda': 0} => RMSE: 2816237.7176, Relative RMSE: 0.0744\n",
      "Params: {'n_estimators': 100, 'max_depth': 5, 'learning_rate': 0.3, 'subsample': 0.5, 'colsample_bytree': 1, 'gamma': 0.1, 'reg_alpha': 0.3, 'reg_lambda': 0.1} => RMSE: 2662009.9226, Relative RMSE: 0.0703\n",
      "Params: {'n_estimators': 100, 'max_depth': 5, 'learning_rate': 0.3, 'subsample': 0.5, 'colsample_bytree': 1, 'gamma': 0.1, 'reg_alpha': 0.3, 'reg_lambda': 0.3} => RMSE: 2893324.1396, Relative RMSE: 0.0764\n",
      "Params: {'n_estimators': 100, 'max_depth': 5, 'learning_rate': 0.3, 'subsample': 0.5, 'colsample_bytree': 1, 'gamma': 0.3, 'reg_alpha': 0, 'reg_lambda': 0} => RMSE: 2816236.6102, Relative RMSE: 0.0744\n",
      "Params: {'n_estimators': 100, 'max_depth': 5, 'learning_rate': 0.3, 'subsample': 0.5, 'colsample_bytree': 1, 'gamma': 0.3, 'reg_alpha': 0, 'reg_lambda': 0.1} => RMSE: 2662030.0270, Relative RMSE: 0.0703\n",
      "Params: {'n_estimators': 100, 'max_depth': 5, 'learning_rate': 0.3, 'subsample': 0.5, 'colsample_bytree': 1, 'gamma': 0.3, 'reg_alpha': 0, 'reg_lambda': 0.3} => RMSE: 2893323.7092, Relative RMSE: 0.0764\n",
      "Params: {'n_estimators': 100, 'max_depth': 5, 'learning_rate': 0.3, 'subsample': 0.5, 'colsample_bytree': 1, 'gamma': 0.3, 'reg_alpha': 0.1, 'reg_lambda': 0} => RMSE: 2816223.1177, Relative RMSE: 0.0744\n",
      "Params: {'n_estimators': 100, 'max_depth': 5, 'learning_rate': 0.3, 'subsample': 0.5, 'colsample_bytree': 1, 'gamma': 0.3, 'reg_alpha': 0.1, 'reg_lambda': 0.1} => RMSE: 2662007.9716, Relative RMSE: 0.0703\n",
      "Params: {'n_estimators': 100, 'max_depth': 5, 'learning_rate': 0.3, 'subsample': 0.5, 'colsample_bytree': 1, 'gamma': 0.3, 'reg_alpha': 0.1, 'reg_lambda': 0.3} => RMSE: 2893324.1396, Relative RMSE: 0.0764\n",
      "Params: {'n_estimators': 100, 'max_depth': 5, 'learning_rate': 0.3, 'subsample': 0.5, 'colsample_bytree': 1, 'gamma': 0.3, 'reg_alpha': 0.3, 'reg_lambda': 0} => RMSE: 2816237.7176, Relative RMSE: 0.0744\n",
      "Params: {'n_estimators': 100, 'max_depth': 5, 'learning_rate': 0.3, 'subsample': 0.5, 'colsample_bytree': 1, 'gamma': 0.3, 'reg_alpha': 0.3, 'reg_lambda': 0.1} => RMSE: 2662009.9226, Relative RMSE: 0.0703\n",
      "Params: {'n_estimators': 100, 'max_depth': 5, 'learning_rate': 0.3, 'subsample': 0.5, 'colsample_bytree': 1, 'gamma': 0.3, 'reg_alpha': 0.3, 'reg_lambda': 0.3} => RMSE: 2893324.1396, Relative RMSE: 0.0764\n",
      "Params: {'n_estimators': 100, 'max_depth': 5, 'learning_rate': 0.3, 'subsample': 0.7, 'colsample_bytree': 0.5, 'gamma': 0, 'reg_alpha': 0, 'reg_lambda': 0} => RMSE: 3443587.8787, Relative RMSE: 0.0910\n",
      "Params: {'n_estimators': 100, 'max_depth': 5, 'learning_rate': 0.3, 'subsample': 0.7, 'colsample_bytree': 0.5, 'gamma': 0, 'reg_alpha': 0, 'reg_lambda': 0.1} => RMSE: 3404418.9610, Relative RMSE: 0.0899\n",
      "Params: {'n_estimators': 100, 'max_depth': 5, 'learning_rate': 0.3, 'subsample': 0.7, 'colsample_bytree': 0.5, 'gamma': 0, 'reg_alpha': 0, 'reg_lambda': 0.3} => RMSE: 3530468.3423, Relative RMSE: 0.0933\n",
      "Params: {'n_estimators': 100, 'max_depth': 5, 'learning_rate': 0.3, 'subsample': 0.7, 'colsample_bytree': 0.5, 'gamma': 0, 'reg_alpha': 0.1, 'reg_lambda': 0} => RMSE: 3443536.3624, Relative RMSE: 0.0910\n",
      "Params: {'n_estimators': 100, 'max_depth': 5, 'learning_rate': 0.3, 'subsample': 0.7, 'colsample_bytree': 0.5, 'gamma': 0, 'reg_alpha': 0.1, 'reg_lambda': 0.1} => RMSE: 3404422.2937, Relative RMSE: 0.0899\n",
      "Params: {'n_estimators': 100, 'max_depth': 5, 'learning_rate': 0.3, 'subsample': 0.7, 'colsample_bytree': 0.5, 'gamma': 0, 'reg_alpha': 0.1, 'reg_lambda': 0.3} => RMSE: 3530473.8378, Relative RMSE: 0.0933\n",
      "Params: {'n_estimators': 100, 'max_depth': 5, 'learning_rate': 0.3, 'subsample': 0.7, 'colsample_bytree': 0.5, 'gamma': 0, 'reg_alpha': 0.3, 'reg_lambda': 0} => RMSE: 3443536.7476, Relative RMSE: 0.0910\n",
      "Params: {'n_estimators': 100, 'max_depth': 5, 'learning_rate': 0.3, 'subsample': 0.7, 'colsample_bytree': 0.5, 'gamma': 0, 'reg_alpha': 0.3, 'reg_lambda': 0.1} => RMSE: 3404420.8255, Relative RMSE: 0.0899\n",
      "Params: {'n_estimators': 100, 'max_depth': 5, 'learning_rate': 0.3, 'subsample': 0.7, 'colsample_bytree': 0.5, 'gamma': 0, 'reg_alpha': 0.3, 'reg_lambda': 0.3} => RMSE: 3530469.2451, Relative RMSE: 0.0933\n",
      "Params: {'n_estimators': 100, 'max_depth': 5, 'learning_rate': 0.3, 'subsample': 0.7, 'colsample_bytree': 0.5, 'gamma': 0.1, 'reg_alpha': 0, 'reg_lambda': 0} => RMSE: 3443587.8787, Relative RMSE: 0.0910\n",
      "Params: {'n_estimators': 100, 'max_depth': 5, 'learning_rate': 0.3, 'subsample': 0.7, 'colsample_bytree': 0.5, 'gamma': 0.1, 'reg_alpha': 0, 'reg_lambda': 0.1} => RMSE: 3404418.9610, Relative RMSE: 0.0899\n",
      "Params: {'n_estimators': 100, 'max_depth': 5, 'learning_rate': 0.3, 'subsample': 0.7, 'colsample_bytree': 0.5, 'gamma': 0.1, 'reg_alpha': 0, 'reg_lambda': 0.3} => RMSE: 3530468.3423, Relative RMSE: 0.0933\n",
      "Params: {'n_estimators': 100, 'max_depth': 5, 'learning_rate': 0.3, 'subsample': 0.7, 'colsample_bytree': 0.5, 'gamma': 0.1, 'reg_alpha': 0.1, 'reg_lambda': 0} => RMSE: 3443536.3624, Relative RMSE: 0.0910\n",
      "Params: {'n_estimators': 100, 'max_depth': 5, 'learning_rate': 0.3, 'subsample': 0.7, 'colsample_bytree': 0.5, 'gamma': 0.1, 'reg_alpha': 0.1, 'reg_lambda': 0.1} => RMSE: 3404422.2937, Relative RMSE: 0.0899\n",
      "Params: {'n_estimators': 100, 'max_depth': 5, 'learning_rate': 0.3, 'subsample': 0.7, 'colsample_bytree': 0.5, 'gamma': 0.1, 'reg_alpha': 0.1, 'reg_lambda': 0.3} => RMSE: 3530473.8378, Relative RMSE: 0.0933\n",
      "Params: {'n_estimators': 100, 'max_depth': 5, 'learning_rate': 0.3, 'subsample': 0.7, 'colsample_bytree': 0.5, 'gamma': 0.1, 'reg_alpha': 0.3, 'reg_lambda': 0} => RMSE: 3443536.7476, Relative RMSE: 0.0910\n",
      "Params: {'n_estimators': 100, 'max_depth': 5, 'learning_rate': 0.3, 'subsample': 0.7, 'colsample_bytree': 0.5, 'gamma': 0.1, 'reg_alpha': 0.3, 'reg_lambda': 0.1} => RMSE: 3404420.8255, Relative RMSE: 0.0899\n",
      "Params: {'n_estimators': 100, 'max_depth': 5, 'learning_rate': 0.3, 'subsample': 0.7, 'colsample_bytree': 0.5, 'gamma': 0.1, 'reg_alpha': 0.3, 'reg_lambda': 0.3} => RMSE: 3530469.2451, Relative RMSE: 0.0933\n",
      "Params: {'n_estimators': 100, 'max_depth': 5, 'learning_rate': 0.3, 'subsample': 0.7, 'colsample_bytree': 0.5, 'gamma': 0.3, 'reg_alpha': 0, 'reg_lambda': 0} => RMSE: 3443587.8787, Relative RMSE: 0.0910\n",
      "Params: {'n_estimators': 100, 'max_depth': 5, 'learning_rate': 0.3, 'subsample': 0.7, 'colsample_bytree': 0.5, 'gamma': 0.3, 'reg_alpha': 0, 'reg_lambda': 0.1} => RMSE: 3404418.9610, Relative RMSE: 0.0899\n",
      "Params: {'n_estimators': 100, 'max_depth': 5, 'learning_rate': 0.3, 'subsample': 0.7, 'colsample_bytree': 0.5, 'gamma': 0.3, 'reg_alpha': 0, 'reg_lambda': 0.3} => RMSE: 3530468.3423, Relative RMSE: 0.0933\n",
      "Params: {'n_estimators': 100, 'max_depth': 5, 'learning_rate': 0.3, 'subsample': 0.7, 'colsample_bytree': 0.5, 'gamma': 0.3, 'reg_alpha': 0.1, 'reg_lambda': 0} => RMSE: 3443536.3624, Relative RMSE: 0.0910\n",
      "Params: {'n_estimators': 100, 'max_depth': 5, 'learning_rate': 0.3, 'subsample': 0.7, 'colsample_bytree': 0.5, 'gamma': 0.3, 'reg_alpha': 0.1, 'reg_lambda': 0.1} => RMSE: 3404427.7837, Relative RMSE: 0.0899\n",
      "Params: {'n_estimators': 100, 'max_depth': 5, 'learning_rate': 0.3, 'subsample': 0.7, 'colsample_bytree': 0.5, 'gamma': 0.3, 'reg_alpha': 0.1, 'reg_lambda': 0.3} => RMSE: 3530473.8378, Relative RMSE: 0.0933\n",
      "Params: {'n_estimators': 100, 'max_depth': 5, 'learning_rate': 0.3, 'subsample': 0.7, 'colsample_bytree': 0.5, 'gamma': 0.3, 'reg_alpha': 0.3, 'reg_lambda': 0} => RMSE: 3443536.7476, Relative RMSE: 0.0910\n",
      "Params: {'n_estimators': 100, 'max_depth': 5, 'learning_rate': 0.3, 'subsample': 0.7, 'colsample_bytree': 0.5, 'gamma': 0.3, 'reg_alpha': 0.3, 'reg_lambda': 0.1} => RMSE: 3404420.8255, Relative RMSE: 0.0899\n",
      "Params: {'n_estimators': 100, 'max_depth': 5, 'learning_rate': 0.3, 'subsample': 0.7, 'colsample_bytree': 0.5, 'gamma': 0.3, 'reg_alpha': 0.3, 'reg_lambda': 0.3} => RMSE: 3530469.2451, Relative RMSE: 0.0933\n",
      "Params: {'n_estimators': 100, 'max_depth': 5, 'learning_rate': 0.3, 'subsample': 0.7, 'colsample_bytree': 0.7, 'gamma': 0, 'reg_alpha': 0, 'reg_lambda': 0} => RMSE: 3421724.1668, Relative RMSE: 0.0904\n",
      "Params: {'n_estimators': 100, 'max_depth': 5, 'learning_rate': 0.3, 'subsample': 0.7, 'colsample_bytree': 0.7, 'gamma': 0, 'reg_alpha': 0, 'reg_lambda': 0.1} => RMSE: 3398629.1121, Relative RMSE: 0.0898\n",
      "Params: {'n_estimators': 100, 'max_depth': 5, 'learning_rate': 0.3, 'subsample': 0.7, 'colsample_bytree': 0.7, 'gamma': 0, 'reg_alpha': 0, 'reg_lambda': 0.3} => RMSE: 3398734.2960, Relative RMSE: 0.0898\n",
      "Params: {'n_estimators': 100, 'max_depth': 5, 'learning_rate': 0.3, 'subsample': 0.7, 'colsample_bytree': 0.7, 'gamma': 0, 'reg_alpha': 0.1, 'reg_lambda': 0} => RMSE: 3421821.1025, Relative RMSE: 0.0904\n",
      "Params: {'n_estimators': 100, 'max_depth': 5, 'learning_rate': 0.3, 'subsample': 0.7, 'colsample_bytree': 0.7, 'gamma': 0, 'reg_alpha': 0.1, 'reg_lambda': 0.1} => RMSE: 3398644.1119, Relative RMSE: 0.0898\n",
      "Params: {'n_estimators': 100, 'max_depth': 5, 'learning_rate': 0.3, 'subsample': 0.7, 'colsample_bytree': 0.7, 'gamma': 0, 'reg_alpha': 0.1, 'reg_lambda': 0.3} => RMSE: 3398651.2958, Relative RMSE: 0.0898\n",
      "Params: {'n_estimators': 100, 'max_depth': 5, 'learning_rate': 0.3, 'subsample': 0.7, 'colsample_bytree': 0.7, 'gamma': 0, 'reg_alpha': 0.3, 'reg_lambda': 0} => RMSE: 3421831.2440, Relative RMSE: 0.0904\n",
      "Params: {'n_estimators': 100, 'max_depth': 5, 'learning_rate': 0.3, 'subsample': 0.7, 'colsample_bytree': 0.7, 'gamma': 0, 'reg_alpha': 0.3, 'reg_lambda': 0.1} => RMSE: 3398643.4080, Relative RMSE: 0.0898\n",
      "Params: {'n_estimators': 100, 'max_depth': 5, 'learning_rate': 0.3, 'subsample': 0.7, 'colsample_bytree': 0.7, 'gamma': 0, 'reg_alpha': 0.3, 'reg_lambda': 0.3} => RMSE: 3398720.9587, Relative RMSE: 0.0898\n",
      "Params: {'n_estimators': 100, 'max_depth': 5, 'learning_rate': 0.3, 'subsample': 0.7, 'colsample_bytree': 0.7, 'gamma': 0.1, 'reg_alpha': 0, 'reg_lambda': 0} => RMSE: 3421724.1668, Relative RMSE: 0.0904\n",
      "Params: {'n_estimators': 100, 'max_depth': 5, 'learning_rate': 0.3, 'subsample': 0.7, 'colsample_bytree': 0.7, 'gamma': 0.1, 'reg_alpha': 0, 'reg_lambda': 0.1} => RMSE: 3398629.1121, Relative RMSE: 0.0898\n",
      "Params: {'n_estimators': 100, 'max_depth': 5, 'learning_rate': 0.3, 'subsample': 0.7, 'colsample_bytree': 0.7, 'gamma': 0.1, 'reg_alpha': 0, 'reg_lambda': 0.3} => RMSE: 3398734.2960, Relative RMSE: 0.0898\n",
      "Params: {'n_estimators': 100, 'max_depth': 5, 'learning_rate': 0.3, 'subsample': 0.7, 'colsample_bytree': 0.7, 'gamma': 0.1, 'reg_alpha': 0.1, 'reg_lambda': 0} => RMSE: 3421821.1025, Relative RMSE: 0.0904\n",
      "Params: {'n_estimators': 100, 'max_depth': 5, 'learning_rate': 0.3, 'subsample': 0.7, 'colsample_bytree': 0.7, 'gamma': 0.1, 'reg_alpha': 0.1, 'reg_lambda': 0.1} => RMSE: 3398644.1119, Relative RMSE: 0.0898\n",
      "Params: {'n_estimators': 100, 'max_depth': 5, 'learning_rate': 0.3, 'subsample': 0.7, 'colsample_bytree': 0.7, 'gamma': 0.1, 'reg_alpha': 0.1, 'reg_lambda': 0.3} => RMSE: 3398651.2958, Relative RMSE: 0.0898\n",
      "Params: {'n_estimators': 100, 'max_depth': 5, 'learning_rate': 0.3, 'subsample': 0.7, 'colsample_bytree': 0.7, 'gamma': 0.1, 'reg_alpha': 0.3, 'reg_lambda': 0} => RMSE: 3421831.2440, Relative RMSE: 0.0904\n",
      "Params: {'n_estimators': 100, 'max_depth': 5, 'learning_rate': 0.3, 'subsample': 0.7, 'colsample_bytree': 0.7, 'gamma': 0.1, 'reg_alpha': 0.3, 'reg_lambda': 0.1} => RMSE: 3398643.4080, Relative RMSE: 0.0898\n",
      "Params: {'n_estimators': 100, 'max_depth': 5, 'learning_rate': 0.3, 'subsample': 0.7, 'colsample_bytree': 0.7, 'gamma': 0.1, 'reg_alpha': 0.3, 'reg_lambda': 0.3} => RMSE: 3398720.9587, Relative RMSE: 0.0898\n",
      "Params: {'n_estimators': 100, 'max_depth': 5, 'learning_rate': 0.3, 'subsample': 0.7, 'colsample_bytree': 0.7, 'gamma': 0.3, 'reg_alpha': 0, 'reg_lambda': 0} => RMSE: 3421724.1668, Relative RMSE: 0.0904\n",
      "Params: {'n_estimators': 100, 'max_depth': 5, 'learning_rate': 0.3, 'subsample': 0.7, 'colsample_bytree': 0.7, 'gamma': 0.3, 'reg_alpha': 0, 'reg_lambda': 0.1} => RMSE: 3398629.1121, Relative RMSE: 0.0898\n",
      "Params: {'n_estimators': 100, 'max_depth': 5, 'learning_rate': 0.3, 'subsample': 0.7, 'colsample_bytree': 0.7, 'gamma': 0.3, 'reg_alpha': 0, 'reg_lambda': 0.3} => RMSE: 3398734.2960, Relative RMSE: 0.0898\n",
      "Params: {'n_estimators': 100, 'max_depth': 5, 'learning_rate': 0.3, 'subsample': 0.7, 'colsample_bytree': 0.7, 'gamma': 0.3, 'reg_alpha': 0.1, 'reg_lambda': 0} => RMSE: 3421821.1025, Relative RMSE: 0.0904\n",
      "Params: {'n_estimators': 100, 'max_depth': 5, 'learning_rate': 0.3, 'subsample': 0.7, 'colsample_bytree': 0.7, 'gamma': 0.3, 'reg_alpha': 0.1, 'reg_lambda': 0.1} => RMSE: 3398644.1119, Relative RMSE: 0.0898\n",
      "Params: {'n_estimators': 100, 'max_depth': 5, 'learning_rate': 0.3, 'subsample': 0.7, 'colsample_bytree': 0.7, 'gamma': 0.3, 'reg_alpha': 0.1, 'reg_lambda': 0.3} => RMSE: 3398651.2958, Relative RMSE: 0.0898\n",
      "Params: {'n_estimators': 100, 'max_depth': 5, 'learning_rate': 0.3, 'subsample': 0.7, 'colsample_bytree': 0.7, 'gamma': 0.3, 'reg_alpha': 0.3, 'reg_lambda': 0} => RMSE: 3421831.2440, Relative RMSE: 0.0904\n",
      "Params: {'n_estimators': 100, 'max_depth': 5, 'learning_rate': 0.3, 'subsample': 0.7, 'colsample_bytree': 0.7, 'gamma': 0.3, 'reg_alpha': 0.3, 'reg_lambda': 0.1} => RMSE: 3398643.4080, Relative RMSE: 0.0898\n",
      "Params: {'n_estimators': 100, 'max_depth': 5, 'learning_rate': 0.3, 'subsample': 0.7, 'colsample_bytree': 0.7, 'gamma': 0.3, 'reg_alpha': 0.3, 'reg_lambda': 0.3} => RMSE: 3398720.9587, Relative RMSE: 0.0898\n",
      "Params: {'n_estimators': 100, 'max_depth': 5, 'learning_rate': 0.3, 'subsample': 0.7, 'colsample_bytree': 1, 'gamma': 0, 'reg_alpha': 0, 'reg_lambda': 0} => RMSE: 3058553.9120, Relative RMSE: 0.0808\n",
      "Params: {'n_estimators': 100, 'max_depth': 5, 'learning_rate': 0.3, 'subsample': 0.7, 'colsample_bytree': 1, 'gamma': 0, 'reg_alpha': 0, 'reg_lambda': 0.1} => RMSE: 3276391.1745, Relative RMSE: 0.0865\n",
      "Params: {'n_estimators': 100, 'max_depth': 5, 'learning_rate': 0.3, 'subsample': 0.7, 'colsample_bytree': 1, 'gamma': 0, 'reg_alpha': 0, 'reg_lambda': 0.3} => RMSE: 3176399.5669, Relative RMSE: 0.0839\n",
      "Params: {'n_estimators': 100, 'max_depth': 5, 'learning_rate': 0.3, 'subsample': 0.7, 'colsample_bytree': 1, 'gamma': 0, 'reg_alpha': 0.1, 'reg_lambda': 0} => RMSE: 3058578.8803, Relative RMSE: 0.0808\n",
      "Params: {'n_estimators': 100, 'max_depth': 5, 'learning_rate': 0.3, 'subsample': 0.7, 'colsample_bytree': 1, 'gamma': 0, 'reg_alpha': 0.1, 'reg_lambda': 0.1} => RMSE: 3276157.1170, Relative RMSE: 0.0865\n",
      "Params: {'n_estimators': 100, 'max_depth': 5, 'learning_rate': 0.3, 'subsample': 0.7, 'colsample_bytree': 1, 'gamma': 0, 'reg_alpha': 0.1, 'reg_lambda': 0.3} => RMSE: 3176376.8583, Relative RMSE: 0.0839\n",
      "Params: {'n_estimators': 100, 'max_depth': 5, 'learning_rate': 0.3, 'subsample': 0.7, 'colsample_bytree': 1, 'gamma': 0, 'reg_alpha': 0.3, 'reg_lambda': 0} => RMSE: 3058580.5939, Relative RMSE: 0.0808\n",
      "Params: {'n_estimators': 100, 'max_depth': 5, 'learning_rate': 0.3, 'subsample': 0.7, 'colsample_bytree': 1, 'gamma': 0, 'reg_alpha': 0.3, 'reg_lambda': 0.1} => RMSE: 3276397.4212, Relative RMSE: 0.0865\n",
      "Params: {'n_estimators': 100, 'max_depth': 5, 'learning_rate': 0.3, 'subsample': 0.7, 'colsample_bytree': 1, 'gamma': 0, 'reg_alpha': 0.3, 'reg_lambda': 0.3} => RMSE: 3176375.1300, Relative RMSE: 0.0839\n",
      "Params: {'n_estimators': 100, 'max_depth': 5, 'learning_rate': 0.3, 'subsample': 0.7, 'colsample_bytree': 1, 'gamma': 0.1, 'reg_alpha': 0, 'reg_lambda': 0} => RMSE: 3058553.9120, Relative RMSE: 0.0808\n",
      "Params: {'n_estimators': 100, 'max_depth': 5, 'learning_rate': 0.3, 'subsample': 0.7, 'colsample_bytree': 1, 'gamma': 0.1, 'reg_alpha': 0, 'reg_lambda': 0.1} => RMSE: 3276391.1745, Relative RMSE: 0.0865\n",
      "Params: {'n_estimators': 100, 'max_depth': 5, 'learning_rate': 0.3, 'subsample': 0.7, 'colsample_bytree': 1, 'gamma': 0.1, 'reg_alpha': 0, 'reg_lambda': 0.3} => RMSE: 3176399.5669, Relative RMSE: 0.0839\n",
      "Params: {'n_estimators': 100, 'max_depth': 5, 'learning_rate': 0.3, 'subsample': 0.7, 'colsample_bytree': 1, 'gamma': 0.1, 'reg_alpha': 0.1, 'reg_lambda': 0} => RMSE: 3058578.8803, Relative RMSE: 0.0808\n",
      "Params: {'n_estimators': 100, 'max_depth': 5, 'learning_rate': 0.3, 'subsample': 0.7, 'colsample_bytree': 1, 'gamma': 0.1, 'reg_alpha': 0.1, 'reg_lambda': 0.1} => RMSE: 3276157.1170, Relative RMSE: 0.0865\n",
      "Params: {'n_estimators': 100, 'max_depth': 5, 'learning_rate': 0.3, 'subsample': 0.7, 'colsample_bytree': 1, 'gamma': 0.1, 'reg_alpha': 0.1, 'reg_lambda': 0.3} => RMSE: 3176376.8583, Relative RMSE: 0.0839\n",
      "Params: {'n_estimators': 100, 'max_depth': 5, 'learning_rate': 0.3, 'subsample': 0.7, 'colsample_bytree': 1, 'gamma': 0.1, 'reg_alpha': 0.3, 'reg_lambda': 0} => RMSE: 3058580.5939, Relative RMSE: 0.0808\n",
      "Params: {'n_estimators': 100, 'max_depth': 5, 'learning_rate': 0.3, 'subsample': 0.7, 'colsample_bytree': 1, 'gamma': 0.1, 'reg_alpha': 0.3, 'reg_lambda': 0.1} => RMSE: 3276397.4212, Relative RMSE: 0.0865\n",
      "Params: {'n_estimators': 100, 'max_depth': 5, 'learning_rate': 0.3, 'subsample': 0.7, 'colsample_bytree': 1, 'gamma': 0.1, 'reg_alpha': 0.3, 'reg_lambda': 0.3} => RMSE: 3176375.1300, Relative RMSE: 0.0839\n",
      "Params: {'n_estimators': 100, 'max_depth': 5, 'learning_rate': 0.3, 'subsample': 0.7, 'colsample_bytree': 1, 'gamma': 0.3, 'reg_alpha': 0, 'reg_lambda': 0} => RMSE: 3058553.9120, Relative RMSE: 0.0808\n",
      "Params: {'n_estimators': 100, 'max_depth': 5, 'learning_rate': 0.3, 'subsample': 0.7, 'colsample_bytree': 1, 'gamma': 0.3, 'reg_alpha': 0, 'reg_lambda': 0.1} => RMSE: 3276391.1745, Relative RMSE: 0.0865\n",
      "Params: {'n_estimators': 100, 'max_depth': 5, 'learning_rate': 0.3, 'subsample': 0.7, 'colsample_bytree': 1, 'gamma': 0.3, 'reg_alpha': 0, 'reg_lambda': 0.3} => RMSE: 3176399.5669, Relative RMSE: 0.0839\n",
      "Params: {'n_estimators': 100, 'max_depth': 5, 'learning_rate': 0.3, 'subsample': 0.7, 'colsample_bytree': 1, 'gamma': 0.3, 'reg_alpha': 0.1, 'reg_lambda': 0} => RMSE: 3058578.8803, Relative RMSE: 0.0808\n",
      "Params: {'n_estimators': 100, 'max_depth': 5, 'learning_rate': 0.3, 'subsample': 0.7, 'colsample_bytree': 1, 'gamma': 0.3, 'reg_alpha': 0.1, 'reg_lambda': 0.1} => RMSE: 3276157.1170, Relative RMSE: 0.0865\n",
      "Params: {'n_estimators': 100, 'max_depth': 5, 'learning_rate': 0.3, 'subsample': 0.7, 'colsample_bytree': 1, 'gamma': 0.3, 'reg_alpha': 0.1, 'reg_lambda': 0.3} => RMSE: 3176376.8583, Relative RMSE: 0.0839\n",
      "Params: {'n_estimators': 100, 'max_depth': 5, 'learning_rate': 0.3, 'subsample': 0.7, 'colsample_bytree': 1, 'gamma': 0.3, 'reg_alpha': 0.3, 'reg_lambda': 0} => RMSE: 3058580.5939, Relative RMSE: 0.0808\n",
      "Params: {'n_estimators': 100, 'max_depth': 5, 'learning_rate': 0.3, 'subsample': 0.7, 'colsample_bytree': 1, 'gamma': 0.3, 'reg_alpha': 0.3, 'reg_lambda': 0.1} => RMSE: 3276397.4212, Relative RMSE: 0.0865\n",
      "Params: {'n_estimators': 100, 'max_depth': 5, 'learning_rate': 0.3, 'subsample': 0.7, 'colsample_bytree': 1, 'gamma': 0.3, 'reg_alpha': 0.3, 'reg_lambda': 0.3} => RMSE: 3176375.1300, Relative RMSE: 0.0839\n",
      "Params: {'n_estimators': 100, 'max_depth': 7, 'learning_rate': 0.01, 'subsample': 0.5, 'colsample_bytree': 0.5, 'gamma': 0, 'reg_alpha': 0, 'reg_lambda': 0} => RMSE: 3130562.6432, Relative RMSE: 0.0827\n",
      "Params: {'n_estimators': 100, 'max_depth': 7, 'learning_rate': 0.01, 'subsample': 0.5, 'colsample_bytree': 0.5, 'gamma': 0, 'reg_alpha': 0, 'reg_lambda': 0.1} => RMSE: 3159801.4858, Relative RMSE: 0.0835\n",
      "Params: {'n_estimators': 100, 'max_depth': 7, 'learning_rate': 0.01, 'subsample': 0.5, 'colsample_bytree': 0.5, 'gamma': 0, 'reg_alpha': 0, 'reg_lambda': 0.3} => RMSE: 3264035.3319, Relative RMSE: 0.0862\n",
      "Params: {'n_estimators': 100, 'max_depth': 7, 'learning_rate': 0.01, 'subsample': 0.5, 'colsample_bytree': 0.5, 'gamma': 0, 'reg_alpha': 0.1, 'reg_lambda': 0} => RMSE: 3130563.0467, Relative RMSE: 0.0827\n",
      "Params: {'n_estimators': 100, 'max_depth': 7, 'learning_rate': 0.01, 'subsample': 0.5, 'colsample_bytree': 0.5, 'gamma': 0, 'reg_alpha': 0.1, 'reg_lambda': 0.1} => RMSE: 3159801.0200, Relative RMSE: 0.0835\n",
      "Params: {'n_estimators': 100, 'max_depth': 7, 'learning_rate': 0.01, 'subsample': 0.5, 'colsample_bytree': 0.5, 'gamma': 0, 'reg_alpha': 0.1, 'reg_lambda': 0.3} => RMSE: 3264035.3787, Relative RMSE: 0.0862\n",
      "Params: {'n_estimators': 100, 'max_depth': 7, 'learning_rate': 0.01, 'subsample': 0.5, 'colsample_bytree': 0.5, 'gamma': 0, 'reg_alpha': 0.3, 'reg_lambda': 0} => RMSE: 3130562.5809, Relative RMSE: 0.0827\n",
      "Params: {'n_estimators': 100, 'max_depth': 7, 'learning_rate': 0.01, 'subsample': 0.5, 'colsample_bytree': 0.5, 'gamma': 0, 'reg_alpha': 0.3, 'reg_lambda': 0.1} => RMSE: 3159800.8167, Relative RMSE: 0.0835\n",
      "Params: {'n_estimators': 100, 'max_depth': 7, 'learning_rate': 0.01, 'subsample': 0.5, 'colsample_bytree': 0.5, 'gamma': 0, 'reg_alpha': 0.3, 'reg_lambda': 0.3} => RMSE: 3264035.3787, Relative RMSE: 0.0862\n",
      "Params: {'n_estimators': 100, 'max_depth': 7, 'learning_rate': 0.01, 'subsample': 0.5, 'colsample_bytree': 0.5, 'gamma': 0.1, 'reg_alpha': 0, 'reg_lambda': 0} => RMSE: 3130562.6432, Relative RMSE: 0.0827\n",
      "Params: {'n_estimators': 100, 'max_depth': 7, 'learning_rate': 0.01, 'subsample': 0.5, 'colsample_bytree': 0.5, 'gamma': 0.1, 'reg_alpha': 0, 'reg_lambda': 0.1} => RMSE: 3159801.4858, Relative RMSE: 0.0835\n",
      "Params: {'n_estimators': 100, 'max_depth': 7, 'learning_rate': 0.01, 'subsample': 0.5, 'colsample_bytree': 0.5, 'gamma': 0.1, 'reg_alpha': 0, 'reg_lambda': 0.3} => RMSE: 3264035.3319, Relative RMSE: 0.0862\n",
      "Params: {'n_estimators': 100, 'max_depth': 7, 'learning_rate': 0.01, 'subsample': 0.5, 'colsample_bytree': 0.5, 'gamma': 0.1, 'reg_alpha': 0.1, 'reg_lambda': 0} => RMSE: 3130563.0467, Relative RMSE: 0.0827\n",
      "Params: {'n_estimators': 100, 'max_depth': 7, 'learning_rate': 0.01, 'subsample': 0.5, 'colsample_bytree': 0.5, 'gamma': 0.1, 'reg_alpha': 0.1, 'reg_lambda': 0.1} => RMSE: 3159801.0200, Relative RMSE: 0.0835\n",
      "Params: {'n_estimators': 100, 'max_depth': 7, 'learning_rate': 0.01, 'subsample': 0.5, 'colsample_bytree': 0.5, 'gamma': 0.1, 'reg_alpha': 0.1, 'reg_lambda': 0.3} => RMSE: 3264035.3787, Relative RMSE: 0.0862\n",
      "Params: {'n_estimators': 100, 'max_depth': 7, 'learning_rate': 0.01, 'subsample': 0.5, 'colsample_bytree': 0.5, 'gamma': 0.1, 'reg_alpha': 0.3, 'reg_lambda': 0} => RMSE: 3130562.5809, Relative RMSE: 0.0827\n",
      "Params: {'n_estimators': 100, 'max_depth': 7, 'learning_rate': 0.01, 'subsample': 0.5, 'colsample_bytree': 0.5, 'gamma': 0.1, 'reg_alpha': 0.3, 'reg_lambda': 0.1} => RMSE: 3159800.8167, Relative RMSE: 0.0835\n",
      "Params: {'n_estimators': 100, 'max_depth': 7, 'learning_rate': 0.01, 'subsample': 0.5, 'colsample_bytree': 0.5, 'gamma': 0.1, 'reg_alpha': 0.3, 'reg_lambda': 0.3} => RMSE: 3264035.3787, Relative RMSE: 0.0862\n",
      "Params: {'n_estimators': 100, 'max_depth': 7, 'learning_rate': 0.01, 'subsample': 0.5, 'colsample_bytree': 0.5, 'gamma': 0.3, 'reg_alpha': 0, 'reg_lambda': 0} => RMSE: 3130562.6432, Relative RMSE: 0.0827\n",
      "Params: {'n_estimators': 100, 'max_depth': 7, 'learning_rate': 0.01, 'subsample': 0.5, 'colsample_bytree': 0.5, 'gamma': 0.3, 'reg_alpha': 0, 'reg_lambda': 0.1} => RMSE: 3159801.4858, Relative RMSE: 0.0835\n",
      "Params: {'n_estimators': 100, 'max_depth': 7, 'learning_rate': 0.01, 'subsample': 0.5, 'colsample_bytree': 0.5, 'gamma': 0.3, 'reg_alpha': 0, 'reg_lambda': 0.3} => RMSE: 3264035.3319, Relative RMSE: 0.0862\n",
      "Params: {'n_estimators': 100, 'max_depth': 7, 'learning_rate': 0.01, 'subsample': 0.5, 'colsample_bytree': 0.5, 'gamma': 0.3, 'reg_alpha': 0.1, 'reg_lambda': 0} => RMSE: 3130563.0467, Relative RMSE: 0.0827\n",
      "Params: {'n_estimators': 100, 'max_depth': 7, 'learning_rate': 0.01, 'subsample': 0.5, 'colsample_bytree': 0.5, 'gamma': 0.3, 'reg_alpha': 0.1, 'reg_lambda': 0.1} => RMSE: 3159801.0200, Relative RMSE: 0.0835\n",
      "Params: {'n_estimators': 100, 'max_depth': 7, 'learning_rate': 0.01, 'subsample': 0.5, 'colsample_bytree': 0.5, 'gamma': 0.3, 'reg_alpha': 0.1, 'reg_lambda': 0.3} => RMSE: 3264035.3787, Relative RMSE: 0.0862\n",
      "Params: {'n_estimators': 100, 'max_depth': 7, 'learning_rate': 0.01, 'subsample': 0.5, 'colsample_bytree': 0.5, 'gamma': 0.3, 'reg_alpha': 0.3, 'reg_lambda': 0} => RMSE: 3130562.5809, Relative RMSE: 0.0827\n",
      "Params: {'n_estimators': 100, 'max_depth': 7, 'learning_rate': 0.01, 'subsample': 0.5, 'colsample_bytree': 0.5, 'gamma': 0.3, 'reg_alpha': 0.3, 'reg_lambda': 0.1} => RMSE: 3159800.8167, Relative RMSE: 0.0835\n",
      "Params: {'n_estimators': 100, 'max_depth': 7, 'learning_rate': 0.01, 'subsample': 0.5, 'colsample_bytree': 0.5, 'gamma': 0.3, 'reg_alpha': 0.3, 'reg_lambda': 0.3} => RMSE: 3264035.3787, Relative RMSE: 0.0862\n",
      "Params: {'n_estimators': 100, 'max_depth': 7, 'learning_rate': 0.01, 'subsample': 0.5, 'colsample_bytree': 0.7, 'gamma': 0, 'reg_alpha': 0, 'reg_lambda': 0} => RMSE: 3135899.7526, Relative RMSE: 0.0828\n",
      "Params: {'n_estimators': 100, 'max_depth': 7, 'learning_rate': 0.01, 'subsample': 0.5, 'colsample_bytree': 0.7, 'gamma': 0, 'reg_alpha': 0, 'reg_lambda': 0.1} => RMSE: 3196708.8558, Relative RMSE: 0.0844\n",
      "Params: {'n_estimators': 100, 'max_depth': 7, 'learning_rate': 0.01, 'subsample': 0.5, 'colsample_bytree': 0.7, 'gamma': 0, 'reg_alpha': 0, 'reg_lambda': 0.3} => RMSE: 3325916.6949, Relative RMSE: 0.0879\n",
      "Params: {'n_estimators': 100, 'max_depth': 7, 'learning_rate': 0.01, 'subsample': 0.5, 'colsample_bytree': 0.7, 'gamma': 0, 'reg_alpha': 0.1, 'reg_lambda': 0} => RMSE: 3135900.9409, Relative RMSE: 0.0828\n",
      "Params: {'n_estimators': 100, 'max_depth': 7, 'learning_rate': 0.01, 'subsample': 0.5, 'colsample_bytree': 0.7, 'gamma': 0, 'reg_alpha': 0.1, 'reg_lambda': 0.1} => RMSE: 3196707.5148, Relative RMSE: 0.0844\n",
      "Params: {'n_estimators': 100, 'max_depth': 7, 'learning_rate': 0.01, 'subsample': 0.5, 'colsample_bytree': 0.7, 'gamma': 0, 'reg_alpha': 0.1, 'reg_lambda': 0.3} => RMSE: 3325916.3362, Relative RMSE: 0.0879\n",
      "Params: {'n_estimators': 100, 'max_depth': 7, 'learning_rate': 0.01, 'subsample': 0.5, 'colsample_bytree': 0.7, 'gamma': 0, 'reg_alpha': 0.3, 'reg_lambda': 0} => RMSE: 3135899.8767, Relative RMSE: 0.0828\n",
      "Params: {'n_estimators': 100, 'max_depth': 7, 'learning_rate': 0.01, 'subsample': 0.5, 'colsample_bytree': 0.7, 'gamma': 0, 'reg_alpha': 0.3, 'reg_lambda': 0.1} => RMSE: 3196707.5148, Relative RMSE: 0.0844\n",
      "Params: {'n_estimators': 100, 'max_depth': 7, 'learning_rate': 0.01, 'subsample': 0.5, 'colsample_bytree': 0.7, 'gamma': 0, 'reg_alpha': 0.3, 'reg_lambda': 0.3} => RMSE: 3325916.3362, Relative RMSE: 0.0879\n",
      "Params: {'n_estimators': 100, 'max_depth': 7, 'learning_rate': 0.01, 'subsample': 0.5, 'colsample_bytree': 0.7, 'gamma': 0.1, 'reg_alpha': 0, 'reg_lambda': 0} => RMSE: 3135899.7526, Relative RMSE: 0.0828\n",
      "Params: {'n_estimators': 100, 'max_depth': 7, 'learning_rate': 0.01, 'subsample': 0.5, 'colsample_bytree': 0.7, 'gamma': 0.1, 'reg_alpha': 0, 'reg_lambda': 0.1} => RMSE: 3196708.8558, Relative RMSE: 0.0844\n",
      "Params: {'n_estimators': 100, 'max_depth': 7, 'learning_rate': 0.01, 'subsample': 0.5, 'colsample_bytree': 0.7, 'gamma': 0.1, 'reg_alpha': 0, 'reg_lambda': 0.3} => RMSE: 3325916.6949, Relative RMSE: 0.0879\n",
      "Params: {'n_estimators': 100, 'max_depth': 7, 'learning_rate': 0.01, 'subsample': 0.5, 'colsample_bytree': 0.7, 'gamma': 0.1, 'reg_alpha': 0.1, 'reg_lambda': 0} => RMSE: 3135900.9409, Relative RMSE: 0.0828\n",
      "Params: {'n_estimators': 100, 'max_depth': 7, 'learning_rate': 0.01, 'subsample': 0.5, 'colsample_bytree': 0.7, 'gamma': 0.1, 'reg_alpha': 0.1, 'reg_lambda': 0.1} => RMSE: 3196707.5148, Relative RMSE: 0.0844\n",
      "Params: {'n_estimators': 100, 'max_depth': 7, 'learning_rate': 0.01, 'subsample': 0.5, 'colsample_bytree': 0.7, 'gamma': 0.1, 'reg_alpha': 0.1, 'reg_lambda': 0.3} => RMSE: 3325916.3362, Relative RMSE: 0.0879\n",
      "Params: {'n_estimators': 100, 'max_depth': 7, 'learning_rate': 0.01, 'subsample': 0.5, 'colsample_bytree': 0.7, 'gamma': 0.1, 'reg_alpha': 0.3, 'reg_lambda': 0} => RMSE: 3135899.8767, Relative RMSE: 0.0828\n",
      "Params: {'n_estimators': 100, 'max_depth': 7, 'learning_rate': 0.01, 'subsample': 0.5, 'colsample_bytree': 0.7, 'gamma': 0.1, 'reg_alpha': 0.3, 'reg_lambda': 0.1} => RMSE: 3196707.5148, Relative RMSE: 0.0844\n",
      "Params: {'n_estimators': 100, 'max_depth': 7, 'learning_rate': 0.01, 'subsample': 0.5, 'colsample_bytree': 0.7, 'gamma': 0.1, 'reg_alpha': 0.3, 'reg_lambda': 0.3} => RMSE: 3325916.3362, Relative RMSE: 0.0879\n",
      "Params: {'n_estimators': 100, 'max_depth': 7, 'learning_rate': 0.01, 'subsample': 0.5, 'colsample_bytree': 0.7, 'gamma': 0.3, 'reg_alpha': 0, 'reg_lambda': 0} => RMSE: 3135899.7526, Relative RMSE: 0.0828\n",
      "Params: {'n_estimators': 100, 'max_depth': 7, 'learning_rate': 0.01, 'subsample': 0.5, 'colsample_bytree': 0.7, 'gamma': 0.3, 'reg_alpha': 0, 'reg_lambda': 0.1} => RMSE: 3196708.8558, Relative RMSE: 0.0844\n",
      "Params: {'n_estimators': 100, 'max_depth': 7, 'learning_rate': 0.01, 'subsample': 0.5, 'colsample_bytree': 0.7, 'gamma': 0.3, 'reg_alpha': 0, 'reg_lambda': 0.3} => RMSE: 3325916.6949, Relative RMSE: 0.0879\n",
      "Params: {'n_estimators': 100, 'max_depth': 7, 'learning_rate': 0.01, 'subsample': 0.5, 'colsample_bytree': 0.7, 'gamma': 0.3, 'reg_alpha': 0.1, 'reg_lambda': 0} => RMSE: 3135900.9409, Relative RMSE: 0.0828\n",
      "Params: {'n_estimators': 100, 'max_depth': 7, 'learning_rate': 0.01, 'subsample': 0.5, 'colsample_bytree': 0.7, 'gamma': 0.3, 'reg_alpha': 0.1, 'reg_lambda': 0.1} => RMSE: 3196707.5148, Relative RMSE: 0.0844\n",
      "Params: {'n_estimators': 100, 'max_depth': 7, 'learning_rate': 0.01, 'subsample': 0.5, 'colsample_bytree': 0.7, 'gamma': 0.3, 'reg_alpha': 0.1, 'reg_lambda': 0.3} => RMSE: 3325916.3362, Relative RMSE: 0.0879\n",
      "Params: {'n_estimators': 100, 'max_depth': 7, 'learning_rate': 0.01, 'subsample': 0.5, 'colsample_bytree': 0.7, 'gamma': 0.3, 'reg_alpha': 0.3, 'reg_lambda': 0} => RMSE: 3135899.8767, Relative RMSE: 0.0828\n",
      "Params: {'n_estimators': 100, 'max_depth': 7, 'learning_rate': 0.01, 'subsample': 0.5, 'colsample_bytree': 0.7, 'gamma': 0.3, 'reg_alpha': 0.3, 'reg_lambda': 0.1} => RMSE: 3196707.5148, Relative RMSE: 0.0844\n",
      "Params: {'n_estimators': 100, 'max_depth': 7, 'learning_rate': 0.01, 'subsample': 0.5, 'colsample_bytree': 0.7, 'gamma': 0.3, 'reg_alpha': 0.3, 'reg_lambda': 0.3} => RMSE: 3325916.3362, Relative RMSE: 0.0879\n",
      "Params: {'n_estimators': 100, 'max_depth': 7, 'learning_rate': 0.01, 'subsample': 0.5, 'colsample_bytree': 1, 'gamma': 0, 'reg_alpha': 0, 'reg_lambda': 0} => RMSE: 2871001.3011, Relative RMSE: 0.0758\n",
      "Params: {'n_estimators': 100, 'max_depth': 7, 'learning_rate': 0.01, 'subsample': 0.5, 'colsample_bytree': 1, 'gamma': 0, 'reg_alpha': 0, 'reg_lambda': 0.1} => RMSE: 2949928.6351, Relative RMSE: 0.0779\n",
      "Params: {'n_estimators': 100, 'max_depth': 7, 'learning_rate': 0.01, 'subsample': 0.5, 'colsample_bytree': 1, 'gamma': 0, 'reg_alpha': 0, 'reg_lambda': 0.3} => RMSE: 3071788.3536, Relative RMSE: 0.0811\n",
      "Params: {'n_estimators': 100, 'max_depth': 7, 'learning_rate': 0.01, 'subsample': 0.5, 'colsample_bytree': 1, 'gamma': 0, 'reg_alpha': 0.1, 'reg_lambda': 0} => RMSE: 2871001.9182, Relative RMSE: 0.0758\n",
      "Params: {'n_estimators': 100, 'max_depth': 7, 'learning_rate': 0.01, 'subsample': 0.5, 'colsample_bytree': 1, 'gamma': 0, 'reg_alpha': 0.1, 'reg_lambda': 0.1} => RMSE: 2949927.7573, Relative RMSE: 0.0779\n",
      "Params: {'n_estimators': 100, 'max_depth': 7, 'learning_rate': 0.01, 'subsample': 0.5, 'colsample_bytree': 1, 'gamma': 0, 'reg_alpha': 0.1, 'reg_lambda': 0.3} => RMSE: 3071788.3536, Relative RMSE: 0.0811\n",
      "Params: {'n_estimators': 100, 'max_depth': 7, 'learning_rate': 0.01, 'subsample': 0.5, 'colsample_bytree': 1, 'gamma': 0, 'reg_alpha': 0.3, 'reg_lambda': 0} => RMSE: 2871001.6904, Relative RMSE: 0.0758\n",
      "Params: {'n_estimators': 100, 'max_depth': 7, 'learning_rate': 0.01, 'subsample': 0.5, 'colsample_bytree': 1, 'gamma': 0, 'reg_alpha': 0.3, 'reg_lambda': 0.1} => RMSE: 2949929.1240, Relative RMSE: 0.0779\n",
      "Params: {'n_estimators': 100, 'max_depth': 7, 'learning_rate': 0.01, 'subsample': 0.5, 'colsample_bytree': 1, 'gamma': 0, 'reg_alpha': 0.3, 'reg_lambda': 0.3} => RMSE: 3071789.7438, Relative RMSE: 0.0811\n",
      "Params: {'n_estimators': 100, 'max_depth': 7, 'learning_rate': 0.01, 'subsample': 0.5, 'colsample_bytree': 1, 'gamma': 0.1, 'reg_alpha': 0, 'reg_lambda': 0} => RMSE: 2871001.3011, Relative RMSE: 0.0758\n",
      "Params: {'n_estimators': 100, 'max_depth': 7, 'learning_rate': 0.01, 'subsample': 0.5, 'colsample_bytree': 1, 'gamma': 0.1, 'reg_alpha': 0, 'reg_lambda': 0.1} => RMSE: 2949928.6351, Relative RMSE: 0.0779\n",
      "Params: {'n_estimators': 100, 'max_depth': 7, 'learning_rate': 0.01, 'subsample': 0.5, 'colsample_bytree': 1, 'gamma': 0.1, 'reg_alpha': 0, 'reg_lambda': 0.3} => RMSE: 3071788.3536, Relative RMSE: 0.0811\n",
      "Params: {'n_estimators': 100, 'max_depth': 7, 'learning_rate': 0.01, 'subsample': 0.5, 'colsample_bytree': 1, 'gamma': 0.1, 'reg_alpha': 0.1, 'reg_lambda': 0} => RMSE: 2871001.9182, Relative RMSE: 0.0758\n",
      "Params: {'n_estimators': 100, 'max_depth': 7, 'learning_rate': 0.01, 'subsample': 0.5, 'colsample_bytree': 1, 'gamma': 0.1, 'reg_alpha': 0.1, 'reg_lambda': 0.1} => RMSE: 2949927.7573, Relative RMSE: 0.0779\n",
      "Params: {'n_estimators': 100, 'max_depth': 7, 'learning_rate': 0.01, 'subsample': 0.5, 'colsample_bytree': 1, 'gamma': 0.1, 'reg_alpha': 0.1, 'reg_lambda': 0.3} => RMSE: 3071788.3536, Relative RMSE: 0.0811\n",
      "Params: {'n_estimators': 100, 'max_depth': 7, 'learning_rate': 0.01, 'subsample': 0.5, 'colsample_bytree': 1, 'gamma': 0.1, 'reg_alpha': 0.3, 'reg_lambda': 0} => RMSE: 2871001.6904, Relative RMSE: 0.0758\n",
      "Params: {'n_estimators': 100, 'max_depth': 7, 'learning_rate': 0.01, 'subsample': 0.5, 'colsample_bytree': 1, 'gamma': 0.1, 'reg_alpha': 0.3, 'reg_lambda': 0.1} => RMSE: 2949929.1240, Relative RMSE: 0.0779\n",
      "Params: {'n_estimators': 100, 'max_depth': 7, 'learning_rate': 0.01, 'subsample': 0.5, 'colsample_bytree': 1, 'gamma': 0.1, 'reg_alpha': 0.3, 'reg_lambda': 0.3} => RMSE: 3071789.7438, Relative RMSE: 0.0811\n",
      "Params: {'n_estimators': 100, 'max_depth': 7, 'learning_rate': 0.01, 'subsample': 0.5, 'colsample_bytree': 1, 'gamma': 0.3, 'reg_alpha': 0, 'reg_lambda': 0} => RMSE: 2871001.3011, Relative RMSE: 0.0758\n",
      "Params: {'n_estimators': 100, 'max_depth': 7, 'learning_rate': 0.01, 'subsample': 0.5, 'colsample_bytree': 1, 'gamma': 0.3, 'reg_alpha': 0, 'reg_lambda': 0.1} => RMSE: 2949928.6351, Relative RMSE: 0.0779\n",
      "Params: {'n_estimators': 100, 'max_depth': 7, 'learning_rate': 0.01, 'subsample': 0.5, 'colsample_bytree': 1, 'gamma': 0.3, 'reg_alpha': 0, 'reg_lambda': 0.3} => RMSE: 3071788.3536, Relative RMSE: 0.0811\n",
      "Params: {'n_estimators': 100, 'max_depth': 7, 'learning_rate': 0.01, 'subsample': 0.5, 'colsample_bytree': 1, 'gamma': 0.3, 'reg_alpha': 0.1, 'reg_lambda': 0} => RMSE: 2871001.9182, Relative RMSE: 0.0758\n",
      "Params: {'n_estimators': 100, 'max_depth': 7, 'learning_rate': 0.01, 'subsample': 0.5, 'colsample_bytree': 1, 'gamma': 0.3, 'reg_alpha': 0.1, 'reg_lambda': 0.1} => RMSE: 2949927.7573, Relative RMSE: 0.0779\n",
      "Params: {'n_estimators': 100, 'max_depth': 7, 'learning_rate': 0.01, 'subsample': 0.5, 'colsample_bytree': 1, 'gamma': 0.3, 'reg_alpha': 0.1, 'reg_lambda': 0.3} => RMSE: 3071788.3536, Relative RMSE: 0.0811\n",
      "Params: {'n_estimators': 100, 'max_depth': 7, 'learning_rate': 0.01, 'subsample': 0.5, 'colsample_bytree': 1, 'gamma': 0.3, 'reg_alpha': 0.3, 'reg_lambda': 0} => RMSE: 2871001.6904, Relative RMSE: 0.0758\n",
      "Params: {'n_estimators': 100, 'max_depth': 7, 'learning_rate': 0.01, 'subsample': 0.5, 'colsample_bytree': 1, 'gamma': 0.3, 'reg_alpha': 0.3, 'reg_lambda': 0.1} => RMSE: 2949929.1240, Relative RMSE: 0.0779\n",
      "Params: {'n_estimators': 100, 'max_depth': 7, 'learning_rate': 0.01, 'subsample': 0.5, 'colsample_bytree': 1, 'gamma': 0.3, 'reg_alpha': 0.3, 'reg_lambda': 0.3} => RMSE: 3071789.7438, Relative RMSE: 0.0811\n",
      "Params: {'n_estimators': 100, 'max_depth': 7, 'learning_rate': 0.01, 'subsample': 0.7, 'colsample_bytree': 0.5, 'gamma': 0, 'reg_alpha': 0, 'reg_lambda': 0} => RMSE: 3076108.3106, Relative RMSE: 0.0813\n",
      "Params: {'n_estimators': 100, 'max_depth': 7, 'learning_rate': 0.01, 'subsample': 0.7, 'colsample_bytree': 0.5, 'gamma': 0, 'reg_alpha': 0, 'reg_lambda': 0.1} => RMSE: 3102097.0250, Relative RMSE: 0.0819\n",
      "Params: {'n_estimators': 100, 'max_depth': 7, 'learning_rate': 0.01, 'subsample': 0.7, 'colsample_bytree': 0.5, 'gamma': 0, 'reg_alpha': 0, 'reg_lambda': 0.3} => RMSE: 3171262.2700, Relative RMSE: 0.0838\n",
      "Params: {'n_estimators': 100, 'max_depth': 7, 'learning_rate': 0.01, 'subsample': 0.7, 'colsample_bytree': 0.5, 'gamma': 0, 'reg_alpha': 0.1, 'reg_lambda': 0} => RMSE: 3076107.4457, Relative RMSE: 0.0813\n",
      "Params: {'n_estimators': 100, 'max_depth': 7, 'learning_rate': 0.01, 'subsample': 0.7, 'colsample_bytree': 0.5, 'gamma': 0, 'reg_alpha': 0.1, 'reg_lambda': 0.1} => RMSE: 3102096.0657, Relative RMSE: 0.0819\n",
      "Params: {'n_estimators': 100, 'max_depth': 7, 'learning_rate': 0.01, 'subsample': 0.7, 'colsample_bytree': 0.5, 'gamma': 0, 'reg_alpha': 0.1, 'reg_lambda': 0.3} => RMSE: 3171260.3594, Relative RMSE: 0.0838\n",
      "Params: {'n_estimators': 100, 'max_depth': 7, 'learning_rate': 0.01, 'subsample': 0.7, 'colsample_bytree': 0.5, 'gamma': 0, 'reg_alpha': 0.3, 'reg_lambda': 0} => RMSE: 3076108.3051, Relative RMSE: 0.0813\n",
      "Params: {'n_estimators': 100, 'max_depth': 7, 'learning_rate': 0.01, 'subsample': 0.7, 'colsample_bytree': 0.5, 'gamma': 0, 'reg_alpha': 0.3, 'reg_lambda': 0.1} => RMSE: 3102096.0657, Relative RMSE: 0.0819\n",
      "Params: {'n_estimators': 100, 'max_depth': 7, 'learning_rate': 0.01, 'subsample': 0.7, 'colsample_bytree': 0.5, 'gamma': 0, 'reg_alpha': 0.3, 'reg_lambda': 0.3} => RMSE: 3171260.3594, Relative RMSE: 0.0838\n",
      "Params: {'n_estimators': 100, 'max_depth': 7, 'learning_rate': 0.01, 'subsample': 0.7, 'colsample_bytree': 0.5, 'gamma': 0.1, 'reg_alpha': 0, 'reg_lambda': 0} => RMSE: 3076108.3106, Relative RMSE: 0.0813\n",
      "Params: {'n_estimators': 100, 'max_depth': 7, 'learning_rate': 0.01, 'subsample': 0.7, 'colsample_bytree': 0.5, 'gamma': 0.1, 'reg_alpha': 0, 'reg_lambda': 0.1} => RMSE: 3102097.0250, Relative RMSE: 0.0819\n",
      "Params: {'n_estimators': 100, 'max_depth': 7, 'learning_rate': 0.01, 'subsample': 0.7, 'colsample_bytree': 0.5, 'gamma': 0.1, 'reg_alpha': 0, 'reg_lambda': 0.3} => RMSE: 3171262.2700, Relative RMSE: 0.0838\n",
      "Params: {'n_estimators': 100, 'max_depth': 7, 'learning_rate': 0.01, 'subsample': 0.7, 'colsample_bytree': 0.5, 'gamma': 0.1, 'reg_alpha': 0.1, 'reg_lambda': 0} => RMSE: 3076107.4457, Relative RMSE: 0.0813\n",
      "Params: {'n_estimators': 100, 'max_depth': 7, 'learning_rate': 0.01, 'subsample': 0.7, 'colsample_bytree': 0.5, 'gamma': 0.1, 'reg_alpha': 0.1, 'reg_lambda': 0.1} => RMSE: 3102096.0657, Relative RMSE: 0.0819\n",
      "Params: {'n_estimators': 100, 'max_depth': 7, 'learning_rate': 0.01, 'subsample': 0.7, 'colsample_bytree': 0.5, 'gamma': 0.1, 'reg_alpha': 0.1, 'reg_lambda': 0.3} => RMSE: 3171260.3594, Relative RMSE: 0.0838\n",
      "Params: {'n_estimators': 100, 'max_depth': 7, 'learning_rate': 0.01, 'subsample': 0.7, 'colsample_bytree': 0.5, 'gamma': 0.1, 'reg_alpha': 0.3, 'reg_lambda': 0} => RMSE: 3076108.3051, Relative RMSE: 0.0813\n",
      "Params: {'n_estimators': 100, 'max_depth': 7, 'learning_rate': 0.01, 'subsample': 0.7, 'colsample_bytree': 0.5, 'gamma': 0.1, 'reg_alpha': 0.3, 'reg_lambda': 0.1} => RMSE: 3102096.0657, Relative RMSE: 0.0819\n",
      "Params: {'n_estimators': 100, 'max_depth': 7, 'learning_rate': 0.01, 'subsample': 0.7, 'colsample_bytree': 0.5, 'gamma': 0.1, 'reg_alpha': 0.3, 'reg_lambda': 0.3} => RMSE: 3171260.3594, Relative RMSE: 0.0838\n",
      "Params: {'n_estimators': 100, 'max_depth': 7, 'learning_rate': 0.01, 'subsample': 0.7, 'colsample_bytree': 0.5, 'gamma': 0.3, 'reg_alpha': 0, 'reg_lambda': 0} => RMSE: 3076108.3106, Relative RMSE: 0.0813\n",
      "Params: {'n_estimators': 100, 'max_depth': 7, 'learning_rate': 0.01, 'subsample': 0.7, 'colsample_bytree': 0.5, 'gamma': 0.3, 'reg_alpha': 0, 'reg_lambda': 0.1} => RMSE: 3102097.0250, Relative RMSE: 0.0819\n",
      "Params: {'n_estimators': 100, 'max_depth': 7, 'learning_rate': 0.01, 'subsample': 0.7, 'colsample_bytree': 0.5, 'gamma': 0.3, 'reg_alpha': 0, 'reg_lambda': 0.3} => RMSE: 3171262.2700, Relative RMSE: 0.0838\n",
      "Params: {'n_estimators': 100, 'max_depth': 7, 'learning_rate': 0.01, 'subsample': 0.7, 'colsample_bytree': 0.5, 'gamma': 0.3, 'reg_alpha': 0.1, 'reg_lambda': 0} => RMSE: 3076107.4457, Relative RMSE: 0.0813\n",
      "Params: {'n_estimators': 100, 'max_depth': 7, 'learning_rate': 0.01, 'subsample': 0.7, 'colsample_bytree': 0.5, 'gamma': 0.3, 'reg_alpha': 0.1, 'reg_lambda': 0.1} => RMSE: 3102096.0657, Relative RMSE: 0.0819\n",
      "Params: {'n_estimators': 100, 'max_depth': 7, 'learning_rate': 0.01, 'subsample': 0.7, 'colsample_bytree': 0.5, 'gamma': 0.3, 'reg_alpha': 0.1, 'reg_lambda': 0.3} => RMSE: 3171260.3594, Relative RMSE: 0.0838\n",
      "Params: {'n_estimators': 100, 'max_depth': 7, 'learning_rate': 0.01, 'subsample': 0.7, 'colsample_bytree': 0.5, 'gamma': 0.3, 'reg_alpha': 0.3, 'reg_lambda': 0} => RMSE: 3076108.3051, Relative RMSE: 0.0813\n",
      "Params: {'n_estimators': 100, 'max_depth': 7, 'learning_rate': 0.01, 'subsample': 0.7, 'colsample_bytree': 0.5, 'gamma': 0.3, 'reg_alpha': 0.3, 'reg_lambda': 0.1} => RMSE: 3102096.0657, Relative RMSE: 0.0819\n",
      "Params: {'n_estimators': 100, 'max_depth': 7, 'learning_rate': 0.01, 'subsample': 0.7, 'colsample_bytree': 0.5, 'gamma': 0.3, 'reg_alpha': 0.3, 'reg_lambda': 0.3} => RMSE: 3171260.3594, Relative RMSE: 0.0838\n",
      "Params: {'n_estimators': 100, 'max_depth': 7, 'learning_rate': 0.01, 'subsample': 0.7, 'colsample_bytree': 0.7, 'gamma': 0, 'reg_alpha': 0, 'reg_lambda': 0} => RMSE: 2998070.6100, Relative RMSE: 0.0792\n",
      "Params: {'n_estimators': 100, 'max_depth': 7, 'learning_rate': 0.01, 'subsample': 0.7, 'colsample_bytree': 0.7, 'gamma': 0, 'reg_alpha': 0, 'reg_lambda': 0.1} => RMSE: 3024844.8307, Relative RMSE: 0.0799\n",
      "Params: {'n_estimators': 100, 'max_depth': 7, 'learning_rate': 0.01, 'subsample': 0.7, 'colsample_bytree': 0.7, 'gamma': 0, 'reg_alpha': 0, 'reg_lambda': 0.3} => RMSE: 3109394.8121, Relative RMSE: 0.0821\n",
      "Params: {'n_estimators': 100, 'max_depth': 7, 'learning_rate': 0.01, 'subsample': 0.7, 'colsample_bytree': 0.7, 'gamma': 0, 'reg_alpha': 0.1, 'reg_lambda': 0} => RMSE: 2998071.9251, Relative RMSE: 0.0792\n",
      "Params: {'n_estimators': 100, 'max_depth': 7, 'learning_rate': 0.01, 'subsample': 0.7, 'colsample_bytree': 0.7, 'gamma': 0, 'reg_alpha': 0.1, 'reg_lambda': 0.1} => RMSE: 3024844.5726, Relative RMSE: 0.0799\n",
      "Params: {'n_estimators': 100, 'max_depth': 7, 'learning_rate': 0.01, 'subsample': 0.7, 'colsample_bytree': 0.7, 'gamma': 0, 'reg_alpha': 0.1, 'reg_lambda': 0.3} => RMSE: 3109394.8121, Relative RMSE: 0.0821\n",
      "Params: {'n_estimators': 100, 'max_depth': 7, 'learning_rate': 0.01, 'subsample': 0.7, 'colsample_bytree': 0.7, 'gamma': 0, 'reg_alpha': 0.3, 'reg_lambda': 0} => RMSE: 2998071.9251, Relative RMSE: 0.0792\n",
      "Params: {'n_estimators': 100, 'max_depth': 7, 'learning_rate': 0.01, 'subsample': 0.7, 'colsample_bytree': 0.7, 'gamma': 0, 'reg_alpha': 0.3, 'reg_lambda': 0.1} => RMSE: 3024844.4938, Relative RMSE: 0.0799\n",
      "Params: {'n_estimators': 100, 'max_depth': 7, 'learning_rate': 0.01, 'subsample': 0.7, 'colsample_bytree': 0.7, 'gamma': 0, 'reg_alpha': 0.3, 'reg_lambda': 0.3} => RMSE: 3109394.8121, Relative RMSE: 0.0821\n",
      "Params: {'n_estimators': 100, 'max_depth': 7, 'learning_rate': 0.01, 'subsample': 0.7, 'colsample_bytree': 0.7, 'gamma': 0.1, 'reg_alpha': 0, 'reg_lambda': 0} => RMSE: 2998070.6100, Relative RMSE: 0.0792\n",
      "Params: {'n_estimators': 100, 'max_depth': 7, 'learning_rate': 0.01, 'subsample': 0.7, 'colsample_bytree': 0.7, 'gamma': 0.1, 'reg_alpha': 0, 'reg_lambda': 0.1} => RMSE: 3024844.8307, Relative RMSE: 0.0799\n",
      "Params: {'n_estimators': 100, 'max_depth': 7, 'learning_rate': 0.01, 'subsample': 0.7, 'colsample_bytree': 0.7, 'gamma': 0.1, 'reg_alpha': 0, 'reg_lambda': 0.3} => RMSE: 3109394.8121, Relative RMSE: 0.0821\n",
      "Params: {'n_estimators': 100, 'max_depth': 7, 'learning_rate': 0.01, 'subsample': 0.7, 'colsample_bytree': 0.7, 'gamma': 0.1, 'reg_alpha': 0.1, 'reg_lambda': 0} => RMSE: 2998071.9251, Relative RMSE: 0.0792\n",
      "Params: {'n_estimators': 100, 'max_depth': 7, 'learning_rate': 0.01, 'subsample': 0.7, 'colsample_bytree': 0.7, 'gamma': 0.1, 'reg_alpha': 0.1, 'reg_lambda': 0.1} => RMSE: 3024844.5726, Relative RMSE: 0.0799\n",
      "Params: {'n_estimators': 100, 'max_depth': 7, 'learning_rate': 0.01, 'subsample': 0.7, 'colsample_bytree': 0.7, 'gamma': 0.1, 'reg_alpha': 0.1, 'reg_lambda': 0.3} => RMSE: 3109394.8121, Relative RMSE: 0.0821\n",
      "Params: {'n_estimators': 100, 'max_depth': 7, 'learning_rate': 0.01, 'subsample': 0.7, 'colsample_bytree': 0.7, 'gamma': 0.1, 'reg_alpha': 0.3, 'reg_lambda': 0} => RMSE: 2998071.9251, Relative RMSE: 0.0792\n",
      "Params: {'n_estimators': 100, 'max_depth': 7, 'learning_rate': 0.01, 'subsample': 0.7, 'colsample_bytree': 0.7, 'gamma': 0.1, 'reg_alpha': 0.3, 'reg_lambda': 0.1} => RMSE: 3024844.4938, Relative RMSE: 0.0799\n",
      "Params: {'n_estimators': 100, 'max_depth': 7, 'learning_rate': 0.01, 'subsample': 0.7, 'colsample_bytree': 0.7, 'gamma': 0.1, 'reg_alpha': 0.3, 'reg_lambda': 0.3} => RMSE: 3109394.8121, Relative RMSE: 0.0821\n",
      "Params: {'n_estimators': 100, 'max_depth': 7, 'learning_rate': 0.01, 'subsample': 0.7, 'colsample_bytree': 0.7, 'gamma': 0.3, 'reg_alpha': 0, 'reg_lambda': 0} => RMSE: 2998070.6100, Relative RMSE: 0.0792\n",
      "Params: {'n_estimators': 100, 'max_depth': 7, 'learning_rate': 0.01, 'subsample': 0.7, 'colsample_bytree': 0.7, 'gamma': 0.3, 'reg_alpha': 0, 'reg_lambda': 0.1} => RMSE: 3024844.8307, Relative RMSE: 0.0799\n",
      "Params: {'n_estimators': 100, 'max_depth': 7, 'learning_rate': 0.01, 'subsample': 0.7, 'colsample_bytree': 0.7, 'gamma': 0.3, 'reg_alpha': 0, 'reg_lambda': 0.3} => RMSE: 3109394.8121, Relative RMSE: 0.0821\n",
      "Params: {'n_estimators': 100, 'max_depth': 7, 'learning_rate': 0.01, 'subsample': 0.7, 'colsample_bytree': 0.7, 'gamma': 0.3, 'reg_alpha': 0.1, 'reg_lambda': 0} => RMSE: 2998071.9251, Relative RMSE: 0.0792\n",
      "Params: {'n_estimators': 100, 'max_depth': 7, 'learning_rate': 0.01, 'subsample': 0.7, 'colsample_bytree': 0.7, 'gamma': 0.3, 'reg_alpha': 0.1, 'reg_lambda': 0.1} => RMSE: 3024844.5726, Relative RMSE: 0.0799\n",
      "Params: {'n_estimators': 100, 'max_depth': 7, 'learning_rate': 0.01, 'subsample': 0.7, 'colsample_bytree': 0.7, 'gamma': 0.3, 'reg_alpha': 0.1, 'reg_lambda': 0.3} => RMSE: 3109394.8121, Relative RMSE: 0.0821\n",
      "Params: {'n_estimators': 100, 'max_depth': 7, 'learning_rate': 0.01, 'subsample': 0.7, 'colsample_bytree': 0.7, 'gamma': 0.3, 'reg_alpha': 0.3, 'reg_lambda': 0} => RMSE: 2998071.9251, Relative RMSE: 0.0792\n",
      "Params: {'n_estimators': 100, 'max_depth': 7, 'learning_rate': 0.01, 'subsample': 0.7, 'colsample_bytree': 0.7, 'gamma': 0.3, 'reg_alpha': 0.3, 'reg_lambda': 0.1} => RMSE: 3024844.4938, Relative RMSE: 0.0799\n",
      "Params: {'n_estimators': 100, 'max_depth': 7, 'learning_rate': 0.01, 'subsample': 0.7, 'colsample_bytree': 0.7, 'gamma': 0.3, 'reg_alpha': 0.3, 'reg_lambda': 0.3} => RMSE: 3109394.8121, Relative RMSE: 0.0821\n",
      "Params: {'n_estimators': 100, 'max_depth': 7, 'learning_rate': 0.01, 'subsample': 0.7, 'colsample_bytree': 1, 'gamma': 0, 'reg_alpha': 0, 'reg_lambda': 0} => RMSE: 2661520.0346, Relative RMSE: 0.0703\n",
      "Params: {'n_estimators': 100, 'max_depth': 7, 'learning_rate': 0.01, 'subsample': 0.7, 'colsample_bytree': 1, 'gamma': 0, 'reg_alpha': 0, 'reg_lambda': 0.1} => RMSE: 2703118.2224, Relative RMSE: 0.0714\n",
      "Params: {'n_estimators': 100, 'max_depth': 7, 'learning_rate': 0.01, 'subsample': 0.7, 'colsample_bytree': 1, 'gamma': 0, 'reg_alpha': 0, 'reg_lambda': 0.3} => RMSE: 2885377.8951, Relative RMSE: 0.0762\n",
      "Params: {'n_estimators': 100, 'max_depth': 7, 'learning_rate': 0.01, 'subsample': 0.7, 'colsample_bytree': 1, 'gamma': 0, 'reg_alpha': 0.1, 'reg_lambda': 0} => RMSE: 2661519.3663, Relative RMSE: 0.0703\n",
      "Params: {'n_estimators': 100, 'max_depth': 7, 'learning_rate': 0.01, 'subsample': 0.7, 'colsample_bytree': 1, 'gamma': 0, 'reg_alpha': 0.1, 'reg_lambda': 0.1} => RMSE: 2703119.1435, Relative RMSE: 0.0714\n",
      "Params: {'n_estimators': 100, 'max_depth': 7, 'learning_rate': 0.01, 'subsample': 0.7, 'colsample_bytree': 1, 'gamma': 0, 'reg_alpha': 0.1, 'reg_lambda': 0.3} => RMSE: 2885377.6138, Relative RMSE: 0.0762\n",
      "Params: {'n_estimators': 100, 'max_depth': 7, 'learning_rate': 0.01, 'subsample': 0.7, 'colsample_bytree': 1, 'gamma': 0, 'reg_alpha': 0.3, 'reg_lambda': 0} => RMSE: 2661519.5575, Relative RMSE: 0.0703\n",
      "Params: {'n_estimators': 100, 'max_depth': 7, 'learning_rate': 0.01, 'subsample': 0.7, 'colsample_bytree': 1, 'gamma': 0, 'reg_alpha': 0.3, 'reg_lambda': 0.1} => RMSE: 2703119.1435, Relative RMSE: 0.0714\n",
      "Params: {'n_estimators': 100, 'max_depth': 7, 'learning_rate': 0.01, 'subsample': 0.7, 'colsample_bytree': 1, 'gamma': 0, 'reg_alpha': 0.3, 'reg_lambda': 0.3} => RMSE: 2885377.6138, Relative RMSE: 0.0762\n",
      "Params: {'n_estimators': 100, 'max_depth': 7, 'learning_rate': 0.01, 'subsample': 0.7, 'colsample_bytree': 1, 'gamma': 0.1, 'reg_alpha': 0, 'reg_lambda': 0} => RMSE: 2661520.0346, Relative RMSE: 0.0703\n",
      "Params: {'n_estimators': 100, 'max_depth': 7, 'learning_rate': 0.01, 'subsample': 0.7, 'colsample_bytree': 1, 'gamma': 0.1, 'reg_alpha': 0, 'reg_lambda': 0.1} => RMSE: 2703118.2224, Relative RMSE: 0.0714\n",
      "Params: {'n_estimators': 100, 'max_depth': 7, 'learning_rate': 0.01, 'subsample': 0.7, 'colsample_bytree': 1, 'gamma': 0.1, 'reg_alpha': 0, 'reg_lambda': 0.3} => RMSE: 2885377.8951, Relative RMSE: 0.0762\n",
      "Params: {'n_estimators': 100, 'max_depth': 7, 'learning_rate': 0.01, 'subsample': 0.7, 'colsample_bytree': 1, 'gamma': 0.1, 'reg_alpha': 0.1, 'reg_lambda': 0} => RMSE: 2661519.3663, Relative RMSE: 0.0703\n",
      "Params: {'n_estimators': 100, 'max_depth': 7, 'learning_rate': 0.01, 'subsample': 0.7, 'colsample_bytree': 1, 'gamma': 0.1, 'reg_alpha': 0.1, 'reg_lambda': 0.1} => RMSE: 2703119.1435, Relative RMSE: 0.0714\n",
      "Params: {'n_estimators': 100, 'max_depth': 7, 'learning_rate': 0.01, 'subsample': 0.7, 'colsample_bytree': 1, 'gamma': 0.1, 'reg_alpha': 0.1, 'reg_lambda': 0.3} => RMSE: 2885377.6138, Relative RMSE: 0.0762\n",
      "Params: {'n_estimators': 100, 'max_depth': 7, 'learning_rate': 0.01, 'subsample': 0.7, 'colsample_bytree': 1, 'gamma': 0.1, 'reg_alpha': 0.3, 'reg_lambda': 0} => RMSE: 2661519.5575, Relative RMSE: 0.0703\n",
      "Params: {'n_estimators': 100, 'max_depth': 7, 'learning_rate': 0.01, 'subsample': 0.7, 'colsample_bytree': 1, 'gamma': 0.1, 'reg_alpha': 0.3, 'reg_lambda': 0.1} => RMSE: 2703119.1435, Relative RMSE: 0.0714\n",
      "Params: {'n_estimators': 100, 'max_depth': 7, 'learning_rate': 0.01, 'subsample': 0.7, 'colsample_bytree': 1, 'gamma': 0.1, 'reg_alpha': 0.3, 'reg_lambda': 0.3} => RMSE: 2885377.6138, Relative RMSE: 0.0762\n",
      "Params: {'n_estimators': 100, 'max_depth': 7, 'learning_rate': 0.01, 'subsample': 0.7, 'colsample_bytree': 1, 'gamma': 0.3, 'reg_alpha': 0, 'reg_lambda': 0} => RMSE: 2661520.0346, Relative RMSE: 0.0703\n",
      "Params: {'n_estimators': 100, 'max_depth': 7, 'learning_rate': 0.01, 'subsample': 0.7, 'colsample_bytree': 1, 'gamma': 0.3, 'reg_alpha': 0, 'reg_lambda': 0.1} => RMSE: 2703118.2224, Relative RMSE: 0.0714\n",
      "Params: {'n_estimators': 100, 'max_depth': 7, 'learning_rate': 0.01, 'subsample': 0.7, 'colsample_bytree': 1, 'gamma': 0.3, 'reg_alpha': 0, 'reg_lambda': 0.3} => RMSE: 2885377.8951, Relative RMSE: 0.0762\n",
      "Params: {'n_estimators': 100, 'max_depth': 7, 'learning_rate': 0.01, 'subsample': 0.7, 'colsample_bytree': 1, 'gamma': 0.3, 'reg_alpha': 0.1, 'reg_lambda': 0} => RMSE: 2661519.3663, Relative RMSE: 0.0703\n",
      "Params: {'n_estimators': 100, 'max_depth': 7, 'learning_rate': 0.01, 'subsample': 0.7, 'colsample_bytree': 1, 'gamma': 0.3, 'reg_alpha': 0.1, 'reg_lambda': 0.1} => RMSE: 2703119.1435, Relative RMSE: 0.0714\n",
      "Params: {'n_estimators': 100, 'max_depth': 7, 'learning_rate': 0.01, 'subsample': 0.7, 'colsample_bytree': 1, 'gamma': 0.3, 'reg_alpha': 0.1, 'reg_lambda': 0.3} => RMSE: 2885377.6138, Relative RMSE: 0.0762\n",
      "Params: {'n_estimators': 100, 'max_depth': 7, 'learning_rate': 0.01, 'subsample': 0.7, 'colsample_bytree': 1, 'gamma': 0.3, 'reg_alpha': 0.3, 'reg_lambda': 0} => RMSE: 2661519.5575, Relative RMSE: 0.0703\n",
      "Params: {'n_estimators': 100, 'max_depth': 7, 'learning_rate': 0.01, 'subsample': 0.7, 'colsample_bytree': 1, 'gamma': 0.3, 'reg_alpha': 0.3, 'reg_lambda': 0.1} => RMSE: 2703119.1435, Relative RMSE: 0.0714\n",
      "Params: {'n_estimators': 100, 'max_depth': 7, 'learning_rate': 0.01, 'subsample': 0.7, 'colsample_bytree': 1, 'gamma': 0.3, 'reg_alpha': 0.3, 'reg_lambda': 0.3} => RMSE: 2885377.6138, Relative RMSE: 0.0762\n",
      "Params: {'n_estimators': 100, 'max_depth': 7, 'learning_rate': 0.1, 'subsample': 0.5, 'colsample_bytree': 0.5, 'gamma': 0, 'reg_alpha': 0, 'reg_lambda': 0} => RMSE: 3176933.5762, Relative RMSE: 0.0839\n",
      "Params: {'n_estimators': 100, 'max_depth': 7, 'learning_rate': 0.1, 'subsample': 0.5, 'colsample_bytree': 0.5, 'gamma': 0, 'reg_alpha': 0, 'reg_lambda': 0.1} => RMSE: 3088446.5108, Relative RMSE: 0.0816\n",
      "Params: {'n_estimators': 100, 'max_depth': 7, 'learning_rate': 0.1, 'subsample': 0.5, 'colsample_bytree': 0.5, 'gamma': 0, 'reg_alpha': 0, 'reg_lambda': 0.3} => RMSE: 3092126.5227, Relative RMSE: 0.0817\n",
      "Params: {'n_estimators': 100, 'max_depth': 7, 'learning_rate': 0.1, 'subsample': 0.5, 'colsample_bytree': 0.5, 'gamma': 0, 'reg_alpha': 0.1, 'reg_lambda': 0} => RMSE: 3176933.7325, Relative RMSE: 0.0839\n",
      "Params: {'n_estimators': 100, 'max_depth': 7, 'learning_rate': 0.1, 'subsample': 0.5, 'colsample_bytree': 0.5, 'gamma': 0, 'reg_alpha': 0.1, 'reg_lambda': 0.1} => RMSE: 3088446.5108, Relative RMSE: 0.0816\n",
      "Params: {'n_estimators': 100, 'max_depth': 7, 'learning_rate': 0.1, 'subsample': 0.5, 'colsample_bytree': 0.5, 'gamma': 0, 'reg_alpha': 0.1, 'reg_lambda': 0.3} => RMSE: 3092126.2264, Relative RMSE: 0.0817\n",
      "Params: {'n_estimators': 100, 'max_depth': 7, 'learning_rate': 0.1, 'subsample': 0.5, 'colsample_bytree': 0.5, 'gamma': 0, 'reg_alpha': 0.3, 'reg_lambda': 0} => RMSE: 3176933.4526, Relative RMSE: 0.0839\n",
      "Params: {'n_estimators': 100, 'max_depth': 7, 'learning_rate': 0.1, 'subsample': 0.5, 'colsample_bytree': 0.5, 'gamma': 0, 'reg_alpha': 0.3, 'reg_lambda': 0.1} => RMSE: 3088446.5108, Relative RMSE: 0.0816\n",
      "Params: {'n_estimators': 100, 'max_depth': 7, 'learning_rate': 0.1, 'subsample': 0.5, 'colsample_bytree': 0.5, 'gamma': 0, 'reg_alpha': 0.3, 'reg_lambda': 0.3} => RMSE: 3092126.2264, Relative RMSE: 0.0817\n",
      "Params: {'n_estimators': 100, 'max_depth': 7, 'learning_rate': 0.1, 'subsample': 0.5, 'colsample_bytree': 0.5, 'gamma': 0.1, 'reg_alpha': 0, 'reg_lambda': 0} => RMSE: 3176933.5762, Relative RMSE: 0.0839\n",
      "Params: {'n_estimators': 100, 'max_depth': 7, 'learning_rate': 0.1, 'subsample': 0.5, 'colsample_bytree': 0.5, 'gamma': 0.1, 'reg_alpha': 0, 'reg_lambda': 0.1} => RMSE: 3088446.5108, Relative RMSE: 0.0816\n",
      "Params: {'n_estimators': 100, 'max_depth': 7, 'learning_rate': 0.1, 'subsample': 0.5, 'colsample_bytree': 0.5, 'gamma': 0.1, 'reg_alpha': 0, 'reg_lambda': 0.3} => RMSE: 3092126.5227, Relative RMSE: 0.0817\n",
      "Params: {'n_estimators': 100, 'max_depth': 7, 'learning_rate': 0.1, 'subsample': 0.5, 'colsample_bytree': 0.5, 'gamma': 0.1, 'reg_alpha': 0.1, 'reg_lambda': 0} => RMSE: 3176933.7325, Relative RMSE: 0.0839\n",
      "Params: {'n_estimators': 100, 'max_depth': 7, 'learning_rate': 0.1, 'subsample': 0.5, 'colsample_bytree': 0.5, 'gamma': 0.1, 'reg_alpha': 0.1, 'reg_lambda': 0.1} => RMSE: 3088446.5108, Relative RMSE: 0.0816\n",
      "Params: {'n_estimators': 100, 'max_depth': 7, 'learning_rate': 0.1, 'subsample': 0.5, 'colsample_bytree': 0.5, 'gamma': 0.1, 'reg_alpha': 0.1, 'reg_lambda': 0.3} => RMSE: 3092126.2264, Relative RMSE: 0.0817\n",
      "Params: {'n_estimators': 100, 'max_depth': 7, 'learning_rate': 0.1, 'subsample': 0.5, 'colsample_bytree': 0.5, 'gamma': 0.1, 'reg_alpha': 0.3, 'reg_lambda': 0} => RMSE: 3176933.4526, Relative RMSE: 0.0839\n",
      "Params: {'n_estimators': 100, 'max_depth': 7, 'learning_rate': 0.1, 'subsample': 0.5, 'colsample_bytree': 0.5, 'gamma': 0.1, 'reg_alpha': 0.3, 'reg_lambda': 0.1} => RMSE: 3088446.5108, Relative RMSE: 0.0816\n",
      "Params: {'n_estimators': 100, 'max_depth': 7, 'learning_rate': 0.1, 'subsample': 0.5, 'colsample_bytree': 0.5, 'gamma': 0.1, 'reg_alpha': 0.3, 'reg_lambda': 0.3} => RMSE: 3092126.2264, Relative RMSE: 0.0817\n",
      "Params: {'n_estimators': 100, 'max_depth': 7, 'learning_rate': 0.1, 'subsample': 0.5, 'colsample_bytree': 0.5, 'gamma': 0.3, 'reg_alpha': 0, 'reg_lambda': 0} => RMSE: 3176933.5762, Relative RMSE: 0.0839\n",
      "Params: {'n_estimators': 100, 'max_depth': 7, 'learning_rate': 0.1, 'subsample': 0.5, 'colsample_bytree': 0.5, 'gamma': 0.3, 'reg_alpha': 0, 'reg_lambda': 0.1} => RMSE: 3088446.5108, Relative RMSE: 0.0816\n",
      "Params: {'n_estimators': 100, 'max_depth': 7, 'learning_rate': 0.1, 'subsample': 0.5, 'colsample_bytree': 0.5, 'gamma': 0.3, 'reg_alpha': 0, 'reg_lambda': 0.3} => RMSE: 3092126.5227, Relative RMSE: 0.0817\n",
      "Params: {'n_estimators': 100, 'max_depth': 7, 'learning_rate': 0.1, 'subsample': 0.5, 'colsample_bytree': 0.5, 'gamma': 0.3, 'reg_alpha': 0.1, 'reg_lambda': 0} => RMSE: 3176933.7325, Relative RMSE: 0.0839\n",
      "Params: {'n_estimators': 100, 'max_depth': 7, 'learning_rate': 0.1, 'subsample': 0.5, 'colsample_bytree': 0.5, 'gamma': 0.3, 'reg_alpha': 0.1, 'reg_lambda': 0.1} => RMSE: 3088446.5108, Relative RMSE: 0.0816\n",
      "Params: {'n_estimators': 100, 'max_depth': 7, 'learning_rate': 0.1, 'subsample': 0.5, 'colsample_bytree': 0.5, 'gamma': 0.3, 'reg_alpha': 0.1, 'reg_lambda': 0.3} => RMSE: 3092126.2264, Relative RMSE: 0.0817\n",
      "Params: {'n_estimators': 100, 'max_depth': 7, 'learning_rate': 0.1, 'subsample': 0.5, 'colsample_bytree': 0.5, 'gamma': 0.3, 'reg_alpha': 0.3, 'reg_lambda': 0} => RMSE: 3176933.4526, Relative RMSE: 0.0839\n",
      "Params: {'n_estimators': 100, 'max_depth': 7, 'learning_rate': 0.1, 'subsample': 0.5, 'colsample_bytree': 0.5, 'gamma': 0.3, 'reg_alpha': 0.3, 'reg_lambda': 0.1} => RMSE: 3088446.5108, Relative RMSE: 0.0816\n",
      "Params: {'n_estimators': 100, 'max_depth': 7, 'learning_rate': 0.1, 'subsample': 0.5, 'colsample_bytree': 0.5, 'gamma': 0.3, 'reg_alpha': 0.3, 'reg_lambda': 0.3} => RMSE: 3092126.2264, Relative RMSE: 0.0817\n",
      "Params: {'n_estimators': 100, 'max_depth': 7, 'learning_rate': 0.1, 'subsample': 0.5, 'colsample_bytree': 0.7, 'gamma': 0, 'reg_alpha': 0, 'reg_lambda': 0} => RMSE: 2857805.7831, Relative RMSE: 0.0755\n",
      "Params: {'n_estimators': 100, 'max_depth': 7, 'learning_rate': 0.1, 'subsample': 0.5, 'colsample_bytree': 0.7, 'gamma': 0, 'reg_alpha': 0, 'reg_lambda': 0.1} => RMSE: 2996784.4509, Relative RMSE: 0.0792\n",
      "Params: {'n_estimators': 100, 'max_depth': 7, 'learning_rate': 0.1, 'subsample': 0.5, 'colsample_bytree': 0.7, 'gamma': 0, 'reg_alpha': 0, 'reg_lambda': 0.3} => RMSE: 2905677.4092, Relative RMSE: 0.0768\n",
      "Params: {'n_estimators': 100, 'max_depth': 7, 'learning_rate': 0.1, 'subsample': 0.5, 'colsample_bytree': 0.7, 'gamma': 0, 'reg_alpha': 0.1, 'reg_lambda': 0} => RMSE: 2857806.5325, Relative RMSE: 0.0755\n",
      "Params: {'n_estimators': 100, 'max_depth': 7, 'learning_rate': 0.1, 'subsample': 0.5, 'colsample_bytree': 0.7, 'gamma': 0, 'reg_alpha': 0.1, 'reg_lambda': 0.1} => RMSE: 2996783.7553, Relative RMSE: 0.0792\n",
      "Params: {'n_estimators': 100, 'max_depth': 7, 'learning_rate': 0.1, 'subsample': 0.5, 'colsample_bytree': 0.7, 'gamma': 0, 'reg_alpha': 0.1, 'reg_lambda': 0.3} => RMSE: 2905677.4092, Relative RMSE: 0.0768\n",
      "Params: {'n_estimators': 100, 'max_depth': 7, 'learning_rate': 0.1, 'subsample': 0.5, 'colsample_bytree': 0.7, 'gamma': 0, 'reg_alpha': 0.3, 'reg_lambda': 0} => RMSE: 2857809.2726, Relative RMSE: 0.0755\n",
      "Params: {'n_estimators': 100, 'max_depth': 7, 'learning_rate': 0.1, 'subsample': 0.5, 'colsample_bytree': 0.7, 'gamma': 0, 'reg_alpha': 0.3, 'reg_lambda': 0.1} => RMSE: 2996783.7553, Relative RMSE: 0.0792\n",
      "Params: {'n_estimators': 100, 'max_depth': 7, 'learning_rate': 0.1, 'subsample': 0.5, 'colsample_bytree': 0.7, 'gamma': 0, 'reg_alpha': 0.3, 'reg_lambda': 0.3} => RMSE: 2905675.0752, Relative RMSE: 0.0768\n",
      "Params: {'n_estimators': 100, 'max_depth': 7, 'learning_rate': 0.1, 'subsample': 0.5, 'colsample_bytree': 0.7, 'gamma': 0.1, 'reg_alpha': 0, 'reg_lambda': 0} => RMSE: 2857805.7831, Relative RMSE: 0.0755\n",
      "Params: {'n_estimators': 100, 'max_depth': 7, 'learning_rate': 0.1, 'subsample': 0.5, 'colsample_bytree': 0.7, 'gamma': 0.1, 'reg_alpha': 0, 'reg_lambda': 0.1} => RMSE: 2996784.4509, Relative RMSE: 0.0792\n",
      "Params: {'n_estimators': 100, 'max_depth': 7, 'learning_rate': 0.1, 'subsample': 0.5, 'colsample_bytree': 0.7, 'gamma': 0.1, 'reg_alpha': 0, 'reg_lambda': 0.3} => RMSE: 2905677.4092, Relative RMSE: 0.0768\n",
      "Params: {'n_estimators': 100, 'max_depth': 7, 'learning_rate': 0.1, 'subsample': 0.5, 'colsample_bytree': 0.7, 'gamma': 0.1, 'reg_alpha': 0.1, 'reg_lambda': 0} => RMSE: 2857806.5325, Relative RMSE: 0.0755\n",
      "Params: {'n_estimators': 100, 'max_depth': 7, 'learning_rate': 0.1, 'subsample': 0.5, 'colsample_bytree': 0.7, 'gamma': 0.1, 'reg_alpha': 0.1, 'reg_lambda': 0.1} => RMSE: 2996783.7553, Relative RMSE: 0.0792\n",
      "Params: {'n_estimators': 100, 'max_depth': 7, 'learning_rate': 0.1, 'subsample': 0.5, 'colsample_bytree': 0.7, 'gamma': 0.1, 'reg_alpha': 0.1, 'reg_lambda': 0.3} => RMSE: 2905677.4092, Relative RMSE: 0.0768\n",
      "Params: {'n_estimators': 100, 'max_depth': 7, 'learning_rate': 0.1, 'subsample': 0.5, 'colsample_bytree': 0.7, 'gamma': 0.1, 'reg_alpha': 0.3, 'reg_lambda': 0} => RMSE: 2857809.2726, Relative RMSE: 0.0755\n",
      "Params: {'n_estimators': 100, 'max_depth': 7, 'learning_rate': 0.1, 'subsample': 0.5, 'colsample_bytree': 0.7, 'gamma': 0.1, 'reg_alpha': 0.3, 'reg_lambda': 0.1} => RMSE: 2996783.7553, Relative RMSE: 0.0792\n",
      "Params: {'n_estimators': 100, 'max_depth': 7, 'learning_rate': 0.1, 'subsample': 0.5, 'colsample_bytree': 0.7, 'gamma': 0.1, 'reg_alpha': 0.3, 'reg_lambda': 0.3} => RMSE: 2905675.0752, Relative RMSE: 0.0768\n",
      "Params: {'n_estimators': 100, 'max_depth': 7, 'learning_rate': 0.1, 'subsample': 0.5, 'colsample_bytree': 0.7, 'gamma': 0.3, 'reg_alpha': 0, 'reg_lambda': 0} => RMSE: 2857805.7831, Relative RMSE: 0.0755\n",
      "Params: {'n_estimators': 100, 'max_depth': 7, 'learning_rate': 0.1, 'subsample': 0.5, 'colsample_bytree': 0.7, 'gamma': 0.3, 'reg_alpha': 0, 'reg_lambda': 0.1} => RMSE: 2996784.4509, Relative RMSE: 0.0792\n",
      "Params: {'n_estimators': 100, 'max_depth': 7, 'learning_rate': 0.1, 'subsample': 0.5, 'colsample_bytree': 0.7, 'gamma': 0.3, 'reg_alpha': 0, 'reg_lambda': 0.3} => RMSE: 2905677.4092, Relative RMSE: 0.0768\n",
      "Params: {'n_estimators': 100, 'max_depth': 7, 'learning_rate': 0.1, 'subsample': 0.5, 'colsample_bytree': 0.7, 'gamma': 0.3, 'reg_alpha': 0.1, 'reg_lambda': 0} => RMSE: 2857806.5325, Relative RMSE: 0.0755\n",
      "Params: {'n_estimators': 100, 'max_depth': 7, 'learning_rate': 0.1, 'subsample': 0.5, 'colsample_bytree': 0.7, 'gamma': 0.3, 'reg_alpha': 0.1, 'reg_lambda': 0.1} => RMSE: 2996783.7553, Relative RMSE: 0.0792\n",
      "Params: {'n_estimators': 100, 'max_depth': 7, 'learning_rate': 0.1, 'subsample': 0.5, 'colsample_bytree': 0.7, 'gamma': 0.3, 'reg_alpha': 0.1, 'reg_lambda': 0.3} => RMSE: 2905677.4092, Relative RMSE: 0.0768\n",
      "Params: {'n_estimators': 100, 'max_depth': 7, 'learning_rate': 0.1, 'subsample': 0.5, 'colsample_bytree': 0.7, 'gamma': 0.3, 'reg_alpha': 0.3, 'reg_lambda': 0} => RMSE: 2857809.2726, Relative RMSE: 0.0755\n",
      "Params: {'n_estimators': 100, 'max_depth': 7, 'learning_rate': 0.1, 'subsample': 0.5, 'colsample_bytree': 0.7, 'gamma': 0.3, 'reg_alpha': 0.3, 'reg_lambda': 0.1} => RMSE: 2996783.7553, Relative RMSE: 0.0792\n",
      "Params: {'n_estimators': 100, 'max_depth': 7, 'learning_rate': 0.1, 'subsample': 0.5, 'colsample_bytree': 0.7, 'gamma': 0.3, 'reg_alpha': 0.3, 'reg_lambda': 0.3} => RMSE: 2905675.0752, Relative RMSE: 0.0768\n",
      "Params: {'n_estimators': 100, 'max_depth': 7, 'learning_rate': 0.1, 'subsample': 0.5, 'colsample_bytree': 1, 'gamma': 0, 'reg_alpha': 0, 'reg_lambda': 0} => RMSE: 2521725.2890, Relative RMSE: 0.0666\n",
      "Params: {'n_estimators': 100, 'max_depth': 7, 'learning_rate': 0.1, 'subsample': 0.5, 'colsample_bytree': 1, 'gamma': 0, 'reg_alpha': 0, 'reg_lambda': 0.1} => RMSE: 2459854.4522, Relative RMSE: 0.0650\n",
      "Params: {'n_estimators': 100, 'max_depth': 7, 'learning_rate': 0.1, 'subsample': 0.5, 'colsample_bytree': 1, 'gamma': 0, 'reg_alpha': 0, 'reg_lambda': 0.3} => RMSE: 2646490.3303, Relative RMSE: 0.0699\n",
      "Params: {'n_estimators': 100, 'max_depth': 7, 'learning_rate': 0.1, 'subsample': 0.5, 'colsample_bytree': 1, 'gamma': 0, 'reg_alpha': 0.1, 'reg_lambda': 0} => RMSE: 2521724.4041, Relative RMSE: 0.0666\n",
      "Params: {'n_estimators': 100, 'max_depth': 7, 'learning_rate': 0.1, 'subsample': 0.5, 'colsample_bytree': 1, 'gamma': 0, 'reg_alpha': 0.1, 'reg_lambda': 0.1} => RMSE: 2459855.4633, Relative RMSE: 0.0650\n",
      "Params: {'n_estimators': 100, 'max_depth': 7, 'learning_rate': 0.1, 'subsample': 0.5, 'colsample_bytree': 1, 'gamma': 0, 'reg_alpha': 0.1, 'reg_lambda': 0.3} => RMSE: 2646489.9092, Relative RMSE: 0.0699\n",
      "Params: {'n_estimators': 100, 'max_depth': 7, 'learning_rate': 0.1, 'subsample': 0.5, 'colsample_bytree': 1, 'gamma': 0, 'reg_alpha': 0.3, 'reg_lambda': 0} => RMSE: 2521724.4726, Relative RMSE: 0.0666\n",
      "Params: {'n_estimators': 100, 'max_depth': 7, 'learning_rate': 0.1, 'subsample': 0.5, 'colsample_bytree': 1, 'gamma': 0, 'reg_alpha': 0.3, 'reg_lambda': 0.1} => RMSE: 2459854.8896, Relative RMSE: 0.0650\n",
      "Params: {'n_estimators': 100, 'max_depth': 7, 'learning_rate': 0.1, 'subsample': 0.5, 'colsample_bytree': 1, 'gamma': 0, 'reg_alpha': 0.3, 'reg_lambda': 0.3} => RMSE: 2646489.9092, Relative RMSE: 0.0699\n",
      "Params: {'n_estimators': 100, 'max_depth': 7, 'learning_rate': 0.1, 'subsample': 0.5, 'colsample_bytree': 1, 'gamma': 0.1, 'reg_alpha': 0, 'reg_lambda': 0} => RMSE: 2521725.2890, Relative RMSE: 0.0666\n",
      "Params: {'n_estimators': 100, 'max_depth': 7, 'learning_rate': 0.1, 'subsample': 0.5, 'colsample_bytree': 1, 'gamma': 0.1, 'reg_alpha': 0, 'reg_lambda': 0.1} => RMSE: 2459854.4522, Relative RMSE: 0.0650\n",
      "Params: {'n_estimators': 100, 'max_depth': 7, 'learning_rate': 0.1, 'subsample': 0.5, 'colsample_bytree': 1, 'gamma': 0.1, 'reg_alpha': 0, 'reg_lambda': 0.3} => RMSE: 2646490.3303, Relative RMSE: 0.0699\n",
      "Params: {'n_estimators': 100, 'max_depth': 7, 'learning_rate': 0.1, 'subsample': 0.5, 'colsample_bytree': 1, 'gamma': 0.1, 'reg_alpha': 0.1, 'reg_lambda': 0} => RMSE: 2521724.4041, Relative RMSE: 0.0666\n",
      "Params: {'n_estimators': 100, 'max_depth': 7, 'learning_rate': 0.1, 'subsample': 0.5, 'colsample_bytree': 1, 'gamma': 0.1, 'reg_alpha': 0.1, 'reg_lambda': 0.1} => RMSE: 2459855.4633, Relative RMSE: 0.0650\n",
      "Params: {'n_estimators': 100, 'max_depth': 7, 'learning_rate': 0.1, 'subsample': 0.5, 'colsample_bytree': 1, 'gamma': 0.1, 'reg_alpha': 0.1, 'reg_lambda': 0.3} => RMSE: 2646489.9092, Relative RMSE: 0.0699\n",
      "Params: {'n_estimators': 100, 'max_depth': 7, 'learning_rate': 0.1, 'subsample': 0.5, 'colsample_bytree': 1, 'gamma': 0.1, 'reg_alpha': 0.3, 'reg_lambda': 0} => RMSE: 2521724.4726, Relative RMSE: 0.0666\n",
      "Params: {'n_estimators': 100, 'max_depth': 7, 'learning_rate': 0.1, 'subsample': 0.5, 'colsample_bytree': 1, 'gamma': 0.1, 'reg_alpha': 0.3, 'reg_lambda': 0.1} => RMSE: 2459854.8896, Relative RMSE: 0.0650\n",
      "Params: {'n_estimators': 100, 'max_depth': 7, 'learning_rate': 0.1, 'subsample': 0.5, 'colsample_bytree': 1, 'gamma': 0.1, 'reg_alpha': 0.3, 'reg_lambda': 0.3} => RMSE: 2646489.9092, Relative RMSE: 0.0699\n",
      "Params: {'n_estimators': 100, 'max_depth': 7, 'learning_rate': 0.1, 'subsample': 0.5, 'colsample_bytree': 1, 'gamma': 0.3, 'reg_alpha': 0, 'reg_lambda': 0} => RMSE: 2521725.2890, Relative RMSE: 0.0666\n",
      "Params: {'n_estimators': 100, 'max_depth': 7, 'learning_rate': 0.1, 'subsample': 0.5, 'colsample_bytree': 1, 'gamma': 0.3, 'reg_alpha': 0, 'reg_lambda': 0.1} => RMSE: 2459854.4522, Relative RMSE: 0.0650\n",
      "Params: {'n_estimators': 100, 'max_depth': 7, 'learning_rate': 0.1, 'subsample': 0.5, 'colsample_bytree': 1, 'gamma': 0.3, 'reg_alpha': 0, 'reg_lambda': 0.3} => RMSE: 2646490.3303, Relative RMSE: 0.0699\n",
      "Params: {'n_estimators': 100, 'max_depth': 7, 'learning_rate': 0.1, 'subsample': 0.5, 'colsample_bytree': 1, 'gamma': 0.3, 'reg_alpha': 0.1, 'reg_lambda': 0} => RMSE: 2521724.4041, Relative RMSE: 0.0666\n",
      "Params: {'n_estimators': 100, 'max_depth': 7, 'learning_rate': 0.1, 'subsample': 0.5, 'colsample_bytree': 1, 'gamma': 0.3, 'reg_alpha': 0.1, 'reg_lambda': 0.1} => RMSE: 2459855.4633, Relative RMSE: 0.0650\n",
      "Params: {'n_estimators': 100, 'max_depth': 7, 'learning_rate': 0.1, 'subsample': 0.5, 'colsample_bytree': 1, 'gamma': 0.3, 'reg_alpha': 0.1, 'reg_lambda': 0.3} => RMSE: 2646489.9092, Relative RMSE: 0.0699\n",
      "Params: {'n_estimators': 100, 'max_depth': 7, 'learning_rate': 0.1, 'subsample': 0.5, 'colsample_bytree': 1, 'gamma': 0.3, 'reg_alpha': 0.3, 'reg_lambda': 0} => RMSE: 2521724.4726, Relative RMSE: 0.0666\n",
      "Params: {'n_estimators': 100, 'max_depth': 7, 'learning_rate': 0.1, 'subsample': 0.5, 'colsample_bytree': 1, 'gamma': 0.3, 'reg_alpha': 0.3, 'reg_lambda': 0.1} => RMSE: 2459854.8896, Relative RMSE: 0.0650\n",
      "Params: {'n_estimators': 100, 'max_depth': 7, 'learning_rate': 0.1, 'subsample': 0.5, 'colsample_bytree': 1, 'gamma': 0.3, 'reg_alpha': 0.3, 'reg_lambda': 0.3} => RMSE: 2646489.9092, Relative RMSE: 0.0699\n",
      "Params: {'n_estimators': 100, 'max_depth': 7, 'learning_rate': 0.1, 'subsample': 0.7, 'colsample_bytree': 0.5, 'gamma': 0, 'reg_alpha': 0, 'reg_lambda': 0} => RMSE: 2943027.2478, Relative RMSE: 0.0777\n",
      "Params: {'n_estimators': 100, 'max_depth': 7, 'learning_rate': 0.1, 'subsample': 0.7, 'colsample_bytree': 0.5, 'gamma': 0, 'reg_alpha': 0, 'reg_lambda': 0.1} => RMSE: 2957584.2502, Relative RMSE: 0.0781\n",
      "Params: {'n_estimators': 100, 'max_depth': 7, 'learning_rate': 0.1, 'subsample': 0.7, 'colsample_bytree': 0.5, 'gamma': 0, 'reg_alpha': 0, 'reg_lambda': 0.3} => RMSE: 2984193.4582, Relative RMSE: 0.0788\n",
      "Params: {'n_estimators': 100, 'max_depth': 7, 'learning_rate': 0.1, 'subsample': 0.7, 'colsample_bytree': 0.5, 'gamma': 0, 'reg_alpha': 0.1, 'reg_lambda': 0} => RMSE: 2943025.7261, Relative RMSE: 0.0777\n",
      "Params: {'n_estimators': 100, 'max_depth': 7, 'learning_rate': 0.1, 'subsample': 0.7, 'colsample_bytree': 0.5, 'gamma': 0, 'reg_alpha': 0.1, 'reg_lambda': 0.1} => RMSE: 2957583.8992, Relative RMSE: 0.0781\n",
      "Params: {'n_estimators': 100, 'max_depth': 7, 'learning_rate': 0.1, 'subsample': 0.7, 'colsample_bytree': 0.5, 'gamma': 0, 'reg_alpha': 0.1, 'reg_lambda': 0.3} => RMSE: 2984193.6439, Relative RMSE: 0.0788\n",
      "Params: {'n_estimators': 100, 'max_depth': 7, 'learning_rate': 0.1, 'subsample': 0.7, 'colsample_bytree': 0.5, 'gamma': 0, 'reg_alpha': 0.3, 'reg_lambda': 0} => RMSE: 2943026.5166, Relative RMSE: 0.0777\n",
      "Params: {'n_estimators': 100, 'max_depth': 7, 'learning_rate': 0.1, 'subsample': 0.7, 'colsample_bytree': 0.5, 'gamma': 0, 'reg_alpha': 0.3, 'reg_lambda': 0.1} => RMSE: 2957583.8992, Relative RMSE: 0.0781\n",
      "Params: {'n_estimators': 100, 'max_depth': 7, 'learning_rate': 0.1, 'subsample': 0.7, 'colsample_bytree': 0.5, 'gamma': 0, 'reg_alpha': 0.3, 'reg_lambda': 0.3} => RMSE: 2984193.6439, Relative RMSE: 0.0788\n",
      "Params: {'n_estimators': 100, 'max_depth': 7, 'learning_rate': 0.1, 'subsample': 0.7, 'colsample_bytree': 0.5, 'gamma': 0.1, 'reg_alpha': 0, 'reg_lambda': 0} => RMSE: 2943027.2478, Relative RMSE: 0.0777\n",
      "Params: {'n_estimators': 100, 'max_depth': 7, 'learning_rate': 0.1, 'subsample': 0.7, 'colsample_bytree': 0.5, 'gamma': 0.1, 'reg_alpha': 0, 'reg_lambda': 0.1} => RMSE: 2957584.2502, Relative RMSE: 0.0781\n",
      "Params: {'n_estimators': 100, 'max_depth': 7, 'learning_rate': 0.1, 'subsample': 0.7, 'colsample_bytree': 0.5, 'gamma': 0.1, 'reg_alpha': 0, 'reg_lambda': 0.3} => RMSE: 2984193.4582, Relative RMSE: 0.0788\n",
      "Params: {'n_estimators': 100, 'max_depth': 7, 'learning_rate': 0.1, 'subsample': 0.7, 'colsample_bytree': 0.5, 'gamma': 0.1, 'reg_alpha': 0.1, 'reg_lambda': 0} => RMSE: 2943025.7261, Relative RMSE: 0.0777\n",
      "Params: {'n_estimators': 100, 'max_depth': 7, 'learning_rate': 0.1, 'subsample': 0.7, 'colsample_bytree': 0.5, 'gamma': 0.1, 'reg_alpha': 0.1, 'reg_lambda': 0.1} => RMSE: 2957583.8992, Relative RMSE: 0.0781\n",
      "Params: {'n_estimators': 100, 'max_depth': 7, 'learning_rate': 0.1, 'subsample': 0.7, 'colsample_bytree': 0.5, 'gamma': 0.1, 'reg_alpha': 0.1, 'reg_lambda': 0.3} => RMSE: 2984193.6439, Relative RMSE: 0.0788\n",
      "Params: {'n_estimators': 100, 'max_depth': 7, 'learning_rate': 0.1, 'subsample': 0.7, 'colsample_bytree': 0.5, 'gamma': 0.1, 'reg_alpha': 0.3, 'reg_lambda': 0} => RMSE: 2943026.5166, Relative RMSE: 0.0777\n",
      "Params: {'n_estimators': 100, 'max_depth': 7, 'learning_rate': 0.1, 'subsample': 0.7, 'colsample_bytree': 0.5, 'gamma': 0.1, 'reg_alpha': 0.3, 'reg_lambda': 0.1} => RMSE: 2957583.8992, Relative RMSE: 0.0781\n",
      "Params: {'n_estimators': 100, 'max_depth': 7, 'learning_rate': 0.1, 'subsample': 0.7, 'colsample_bytree': 0.5, 'gamma': 0.1, 'reg_alpha': 0.3, 'reg_lambda': 0.3} => RMSE: 2984193.6439, Relative RMSE: 0.0788\n",
      "Params: {'n_estimators': 100, 'max_depth': 7, 'learning_rate': 0.1, 'subsample': 0.7, 'colsample_bytree': 0.5, 'gamma': 0.3, 'reg_alpha': 0, 'reg_lambda': 0} => RMSE: 2943027.2478, Relative RMSE: 0.0777\n",
      "Params: {'n_estimators': 100, 'max_depth': 7, 'learning_rate': 0.1, 'subsample': 0.7, 'colsample_bytree': 0.5, 'gamma': 0.3, 'reg_alpha': 0, 'reg_lambda': 0.1} => RMSE: 2957584.2502, Relative RMSE: 0.0781\n",
      "Params: {'n_estimators': 100, 'max_depth': 7, 'learning_rate': 0.1, 'subsample': 0.7, 'colsample_bytree': 0.5, 'gamma': 0.3, 'reg_alpha': 0, 'reg_lambda': 0.3} => RMSE: 2984193.4582, Relative RMSE: 0.0788\n",
      "Params: {'n_estimators': 100, 'max_depth': 7, 'learning_rate': 0.1, 'subsample': 0.7, 'colsample_bytree': 0.5, 'gamma': 0.3, 'reg_alpha': 0.1, 'reg_lambda': 0} => RMSE: 2943025.7261, Relative RMSE: 0.0777\n",
      "Params: {'n_estimators': 100, 'max_depth': 7, 'learning_rate': 0.1, 'subsample': 0.7, 'colsample_bytree': 0.5, 'gamma': 0.3, 'reg_alpha': 0.1, 'reg_lambda': 0.1} => RMSE: 2957583.8992, Relative RMSE: 0.0781\n",
      "Params: {'n_estimators': 100, 'max_depth': 7, 'learning_rate': 0.1, 'subsample': 0.7, 'colsample_bytree': 0.5, 'gamma': 0.3, 'reg_alpha': 0.1, 'reg_lambda': 0.3} => RMSE: 2984193.6439, Relative RMSE: 0.0788\n",
      "Params: {'n_estimators': 100, 'max_depth': 7, 'learning_rate': 0.1, 'subsample': 0.7, 'colsample_bytree': 0.5, 'gamma': 0.3, 'reg_alpha': 0.3, 'reg_lambda': 0} => RMSE: 2943026.5166, Relative RMSE: 0.0777\n",
      "Params: {'n_estimators': 100, 'max_depth': 7, 'learning_rate': 0.1, 'subsample': 0.7, 'colsample_bytree': 0.5, 'gamma': 0.3, 'reg_alpha': 0.3, 'reg_lambda': 0.1} => RMSE: 2957583.8992, Relative RMSE: 0.0781\n",
      "Params: {'n_estimators': 100, 'max_depth': 7, 'learning_rate': 0.1, 'subsample': 0.7, 'colsample_bytree': 0.5, 'gamma': 0.3, 'reg_alpha': 0.3, 'reg_lambda': 0.3} => RMSE: 2984193.6439, Relative RMSE: 0.0788\n",
      "Params: {'n_estimators': 100, 'max_depth': 7, 'learning_rate': 0.1, 'subsample': 0.7, 'colsample_bytree': 0.7, 'gamma': 0, 'reg_alpha': 0, 'reg_lambda': 0} => RMSE: 3244764.7463, Relative RMSE: 0.0857\n",
      "Params: {'n_estimators': 100, 'max_depth': 7, 'learning_rate': 0.1, 'subsample': 0.7, 'colsample_bytree': 0.7, 'gamma': 0, 'reg_alpha': 0, 'reg_lambda': 0.1} => RMSE: 2996898.8828, Relative RMSE: 0.0792\n",
      "Params: {'n_estimators': 100, 'max_depth': 7, 'learning_rate': 0.1, 'subsample': 0.7, 'colsample_bytree': 0.7, 'gamma': 0, 'reg_alpha': 0, 'reg_lambda': 0.3} => RMSE: 3040123.6699, Relative RMSE: 0.0803\n",
      "Params: {'n_estimators': 100, 'max_depth': 7, 'learning_rate': 0.1, 'subsample': 0.7, 'colsample_bytree': 0.7, 'gamma': 0, 'reg_alpha': 0.1, 'reg_lambda': 0} => RMSE: 3245024.3455, Relative RMSE: 0.0857\n",
      "Params: {'n_estimators': 100, 'max_depth': 7, 'learning_rate': 0.1, 'subsample': 0.7, 'colsample_bytree': 0.7, 'gamma': 0, 'reg_alpha': 0.1, 'reg_lambda': 0.1} => RMSE: 2996898.5702, Relative RMSE: 0.0792\n",
      "Params: {'n_estimators': 100, 'max_depth': 7, 'learning_rate': 0.1, 'subsample': 0.7, 'colsample_bytree': 0.7, 'gamma': 0, 'reg_alpha': 0.1, 'reg_lambda': 0.3} => RMSE: 3040122.4938, Relative RMSE: 0.0803\n",
      "Params: {'n_estimators': 100, 'max_depth': 7, 'learning_rate': 0.1, 'subsample': 0.7, 'colsample_bytree': 0.7, 'gamma': 0, 'reg_alpha': 0.3, 'reg_lambda': 0} => RMSE: 3245018.5033, Relative RMSE: 0.0857\n",
      "Params: {'n_estimators': 100, 'max_depth': 7, 'learning_rate': 0.1, 'subsample': 0.7, 'colsample_bytree': 0.7, 'gamma': 0, 'reg_alpha': 0.3, 'reg_lambda': 0.1} => RMSE: 2996898.5702, Relative RMSE: 0.0792\n",
      "Params: {'n_estimators': 100, 'max_depth': 7, 'learning_rate': 0.1, 'subsample': 0.7, 'colsample_bytree': 0.7, 'gamma': 0, 'reg_alpha': 0.3, 'reg_lambda': 0.3} => RMSE: 3040122.4938, Relative RMSE: 0.0803\n",
      "Params: {'n_estimators': 100, 'max_depth': 7, 'learning_rate': 0.1, 'subsample': 0.7, 'colsample_bytree': 0.7, 'gamma': 0.1, 'reg_alpha': 0, 'reg_lambda': 0} => RMSE: 3244764.7463, Relative RMSE: 0.0857\n",
      "Params: {'n_estimators': 100, 'max_depth': 7, 'learning_rate': 0.1, 'subsample': 0.7, 'colsample_bytree': 0.7, 'gamma': 0.1, 'reg_alpha': 0, 'reg_lambda': 0.1} => RMSE: 2996898.8828, Relative RMSE: 0.0792\n",
      "Params: {'n_estimators': 100, 'max_depth': 7, 'learning_rate': 0.1, 'subsample': 0.7, 'colsample_bytree': 0.7, 'gamma': 0.1, 'reg_alpha': 0, 'reg_lambda': 0.3} => RMSE: 3040123.6699, Relative RMSE: 0.0803\n",
      "Params: {'n_estimators': 100, 'max_depth': 7, 'learning_rate': 0.1, 'subsample': 0.7, 'colsample_bytree': 0.7, 'gamma': 0.1, 'reg_alpha': 0.1, 'reg_lambda': 0} => RMSE: 3245024.3455, Relative RMSE: 0.0857\n",
      "Params: {'n_estimators': 100, 'max_depth': 7, 'learning_rate': 0.1, 'subsample': 0.7, 'colsample_bytree': 0.7, 'gamma': 0.1, 'reg_alpha': 0.1, 'reg_lambda': 0.1} => RMSE: 2996898.5702, Relative RMSE: 0.0792\n",
      "Params: {'n_estimators': 100, 'max_depth': 7, 'learning_rate': 0.1, 'subsample': 0.7, 'colsample_bytree': 0.7, 'gamma': 0.1, 'reg_alpha': 0.1, 'reg_lambda': 0.3} => RMSE: 3040122.4938, Relative RMSE: 0.0803\n",
      "Params: {'n_estimators': 100, 'max_depth': 7, 'learning_rate': 0.1, 'subsample': 0.7, 'colsample_bytree': 0.7, 'gamma': 0.1, 'reg_alpha': 0.3, 'reg_lambda': 0} => RMSE: 3245018.5033, Relative RMSE: 0.0857\n",
      "Params: {'n_estimators': 100, 'max_depth': 7, 'learning_rate': 0.1, 'subsample': 0.7, 'colsample_bytree': 0.7, 'gamma': 0.1, 'reg_alpha': 0.3, 'reg_lambda': 0.1} => RMSE: 2996898.5702, Relative RMSE: 0.0792\n",
      "Params: {'n_estimators': 100, 'max_depth': 7, 'learning_rate': 0.1, 'subsample': 0.7, 'colsample_bytree': 0.7, 'gamma': 0.1, 'reg_alpha': 0.3, 'reg_lambda': 0.3} => RMSE: 3040122.4938, Relative RMSE: 0.0803\n",
      "Params: {'n_estimators': 100, 'max_depth': 7, 'learning_rate': 0.1, 'subsample': 0.7, 'colsample_bytree': 0.7, 'gamma': 0.3, 'reg_alpha': 0, 'reg_lambda': 0} => RMSE: 3244764.7463, Relative RMSE: 0.0857\n",
      "Params: {'n_estimators': 100, 'max_depth': 7, 'learning_rate': 0.1, 'subsample': 0.7, 'colsample_bytree': 0.7, 'gamma': 0.3, 'reg_alpha': 0, 'reg_lambda': 0.1} => RMSE: 2996898.8828, Relative RMSE: 0.0792\n",
      "Params: {'n_estimators': 100, 'max_depth': 7, 'learning_rate': 0.1, 'subsample': 0.7, 'colsample_bytree': 0.7, 'gamma': 0.3, 'reg_alpha': 0, 'reg_lambda': 0.3} => RMSE: 3040123.6699, Relative RMSE: 0.0803\n",
      "Params: {'n_estimators': 100, 'max_depth': 7, 'learning_rate': 0.1, 'subsample': 0.7, 'colsample_bytree': 0.7, 'gamma': 0.3, 'reg_alpha': 0.1, 'reg_lambda': 0} => RMSE: 3245024.3455, Relative RMSE: 0.0857\n",
      "Params: {'n_estimators': 100, 'max_depth': 7, 'learning_rate': 0.1, 'subsample': 0.7, 'colsample_bytree': 0.7, 'gamma': 0.3, 'reg_alpha': 0.1, 'reg_lambda': 0.1} => RMSE: 2996898.5702, Relative RMSE: 0.0792\n",
      "Params: {'n_estimators': 100, 'max_depth': 7, 'learning_rate': 0.1, 'subsample': 0.7, 'colsample_bytree': 0.7, 'gamma': 0.3, 'reg_alpha': 0.1, 'reg_lambda': 0.3} => RMSE: 3040122.4938, Relative RMSE: 0.0803\n",
      "Params: {'n_estimators': 100, 'max_depth': 7, 'learning_rate': 0.1, 'subsample': 0.7, 'colsample_bytree': 0.7, 'gamma': 0.3, 'reg_alpha': 0.3, 'reg_lambda': 0} => RMSE: 3245018.5033, Relative RMSE: 0.0857\n",
      "Params: {'n_estimators': 100, 'max_depth': 7, 'learning_rate': 0.1, 'subsample': 0.7, 'colsample_bytree': 0.7, 'gamma': 0.3, 'reg_alpha': 0.3, 'reg_lambda': 0.1} => RMSE: 2996898.5702, Relative RMSE: 0.0792\n",
      "Params: {'n_estimators': 100, 'max_depth': 7, 'learning_rate': 0.1, 'subsample': 0.7, 'colsample_bytree': 0.7, 'gamma': 0.3, 'reg_alpha': 0.3, 'reg_lambda': 0.3} => RMSE: 3040122.4938, Relative RMSE: 0.0803\n",
      "Params: {'n_estimators': 100, 'max_depth': 7, 'learning_rate': 0.1, 'subsample': 0.7, 'colsample_bytree': 1, 'gamma': 0, 'reg_alpha': 0, 'reg_lambda': 0} => RMSE: 2694140.1472, Relative RMSE: 0.0712\n",
      "Params: {'n_estimators': 100, 'max_depth': 7, 'learning_rate': 0.1, 'subsample': 0.7, 'colsample_bytree': 1, 'gamma': 0, 'reg_alpha': 0, 'reg_lambda': 0.1} => RMSE: 2598953.0753, Relative RMSE: 0.0687\n",
      "Params: {'n_estimators': 100, 'max_depth': 7, 'learning_rate': 0.1, 'subsample': 0.7, 'colsample_bytree': 1, 'gamma': 0, 'reg_alpha': 0, 'reg_lambda': 0.3} => RMSE: 2835337.2139, Relative RMSE: 0.0749\n",
      "Params: {'n_estimators': 100, 'max_depth': 7, 'learning_rate': 0.1, 'subsample': 0.7, 'colsample_bytree': 1, 'gamma': 0, 'reg_alpha': 0.1, 'reg_lambda': 0} => RMSE: 2694142.5764, Relative RMSE: 0.0712\n",
      "Params: {'n_estimators': 100, 'max_depth': 7, 'learning_rate': 0.1, 'subsample': 0.7, 'colsample_bytree': 1, 'gamma': 0, 'reg_alpha': 0.1, 'reg_lambda': 0.1} => RMSE: 2598952.0776, Relative RMSE: 0.0687\n",
      "Params: {'n_estimators': 100, 'max_depth': 7, 'learning_rate': 0.1, 'subsample': 0.7, 'colsample_bytree': 1, 'gamma': 0, 'reg_alpha': 0.1, 'reg_lambda': 0.3} => RMSE: 2834560.1021, Relative RMSE: 0.0749\n",
      "Params: {'n_estimators': 100, 'max_depth': 7, 'learning_rate': 0.1, 'subsample': 0.7, 'colsample_bytree': 1, 'gamma': 0, 'reg_alpha': 0.3, 'reg_lambda': 0} => RMSE: 2694142.5764, Relative RMSE: 0.0712\n",
      "Params: {'n_estimators': 100, 'max_depth': 7, 'learning_rate': 0.1, 'subsample': 0.7, 'colsample_bytree': 1, 'gamma': 0, 'reg_alpha': 0.3, 'reg_lambda': 0.1} => RMSE: 2598952.0776, Relative RMSE: 0.0687\n",
      "Params: {'n_estimators': 100, 'max_depth': 7, 'learning_rate': 0.1, 'subsample': 0.7, 'colsample_bytree': 1, 'gamma': 0, 'reg_alpha': 0.3, 'reg_lambda': 0.3} => RMSE: 2834560.1021, Relative RMSE: 0.0749\n",
      "Params: {'n_estimators': 100, 'max_depth': 7, 'learning_rate': 0.1, 'subsample': 0.7, 'colsample_bytree': 1, 'gamma': 0.1, 'reg_alpha': 0, 'reg_lambda': 0} => RMSE: 2694140.1472, Relative RMSE: 0.0712\n",
      "Params: {'n_estimators': 100, 'max_depth': 7, 'learning_rate': 0.1, 'subsample': 0.7, 'colsample_bytree': 1, 'gamma': 0.1, 'reg_alpha': 0, 'reg_lambda': 0.1} => RMSE: 2598953.0753, Relative RMSE: 0.0687\n",
      "Params: {'n_estimators': 100, 'max_depth': 7, 'learning_rate': 0.1, 'subsample': 0.7, 'colsample_bytree': 1, 'gamma': 0.1, 'reg_alpha': 0, 'reg_lambda': 0.3} => RMSE: 2835337.2139, Relative RMSE: 0.0749\n",
      "Params: {'n_estimators': 100, 'max_depth': 7, 'learning_rate': 0.1, 'subsample': 0.7, 'colsample_bytree': 1, 'gamma': 0.1, 'reg_alpha': 0.1, 'reg_lambda': 0} => RMSE: 2694142.5764, Relative RMSE: 0.0712\n",
      "Params: {'n_estimators': 100, 'max_depth': 7, 'learning_rate': 0.1, 'subsample': 0.7, 'colsample_bytree': 1, 'gamma': 0.1, 'reg_alpha': 0.1, 'reg_lambda': 0.1} => RMSE: 2598952.0776, Relative RMSE: 0.0687\n",
      "Params: {'n_estimators': 100, 'max_depth': 7, 'learning_rate': 0.1, 'subsample': 0.7, 'colsample_bytree': 1, 'gamma': 0.1, 'reg_alpha': 0.1, 'reg_lambda': 0.3} => RMSE: 2834560.1021, Relative RMSE: 0.0749\n",
      "Params: {'n_estimators': 100, 'max_depth': 7, 'learning_rate': 0.1, 'subsample': 0.7, 'colsample_bytree': 1, 'gamma': 0.1, 'reg_alpha': 0.3, 'reg_lambda': 0} => RMSE: 2694142.5764, Relative RMSE: 0.0712\n",
      "Params: {'n_estimators': 100, 'max_depth': 7, 'learning_rate': 0.1, 'subsample': 0.7, 'colsample_bytree': 1, 'gamma': 0.1, 'reg_alpha': 0.3, 'reg_lambda': 0.1} => RMSE: 2598952.0776, Relative RMSE: 0.0687\n",
      "Params: {'n_estimators': 100, 'max_depth': 7, 'learning_rate': 0.1, 'subsample': 0.7, 'colsample_bytree': 1, 'gamma': 0.1, 'reg_alpha': 0.3, 'reg_lambda': 0.3} => RMSE: 2834560.1021, Relative RMSE: 0.0749\n",
      "Params: {'n_estimators': 100, 'max_depth': 7, 'learning_rate': 0.1, 'subsample': 0.7, 'colsample_bytree': 1, 'gamma': 0.3, 'reg_alpha': 0, 'reg_lambda': 0} => RMSE: 2694140.1472, Relative RMSE: 0.0712\n",
      "Params: {'n_estimators': 100, 'max_depth': 7, 'learning_rate': 0.1, 'subsample': 0.7, 'colsample_bytree': 1, 'gamma': 0.3, 'reg_alpha': 0, 'reg_lambda': 0.1} => RMSE: 2598953.0753, Relative RMSE: 0.0687\n",
      "Params: {'n_estimators': 100, 'max_depth': 7, 'learning_rate': 0.1, 'subsample': 0.7, 'colsample_bytree': 1, 'gamma': 0.3, 'reg_alpha': 0, 'reg_lambda': 0.3} => RMSE: 2835337.2139, Relative RMSE: 0.0749\n",
      "Params: {'n_estimators': 100, 'max_depth': 7, 'learning_rate': 0.1, 'subsample': 0.7, 'colsample_bytree': 1, 'gamma': 0.3, 'reg_alpha': 0.1, 'reg_lambda': 0} => RMSE: 2694142.5764, Relative RMSE: 0.0712\n",
      "Params: {'n_estimators': 100, 'max_depth': 7, 'learning_rate': 0.1, 'subsample': 0.7, 'colsample_bytree': 1, 'gamma': 0.3, 'reg_alpha': 0.1, 'reg_lambda': 0.1} => RMSE: 2598952.0776, Relative RMSE: 0.0687\n",
      "Params: {'n_estimators': 100, 'max_depth': 7, 'learning_rate': 0.1, 'subsample': 0.7, 'colsample_bytree': 1, 'gamma': 0.3, 'reg_alpha': 0.1, 'reg_lambda': 0.3} => RMSE: 2834560.1021, Relative RMSE: 0.0749\n",
      "Params: {'n_estimators': 100, 'max_depth': 7, 'learning_rate': 0.1, 'subsample': 0.7, 'colsample_bytree': 1, 'gamma': 0.3, 'reg_alpha': 0.3, 'reg_lambda': 0} => RMSE: 2694142.5764, Relative RMSE: 0.0712\n",
      "Params: {'n_estimators': 100, 'max_depth': 7, 'learning_rate': 0.1, 'subsample': 0.7, 'colsample_bytree': 1, 'gamma': 0.3, 'reg_alpha': 0.3, 'reg_lambda': 0.1} => RMSE: 2598952.0776, Relative RMSE: 0.0687\n",
      "Params: {'n_estimators': 100, 'max_depth': 7, 'learning_rate': 0.1, 'subsample': 0.7, 'colsample_bytree': 1, 'gamma': 0.3, 'reg_alpha': 0.3, 'reg_lambda': 0.3} => RMSE: 2834560.1021, Relative RMSE: 0.0749\n",
      "Params: {'n_estimators': 100, 'max_depth': 7, 'learning_rate': 0.3, 'subsample': 0.5, 'colsample_bytree': 0.5, 'gamma': 0, 'reg_alpha': 0, 'reg_lambda': 0} => RMSE: 3065713.2241, Relative RMSE: 0.0810\n",
      "Params: {'n_estimators': 100, 'max_depth': 7, 'learning_rate': 0.3, 'subsample': 0.5, 'colsample_bytree': 0.5, 'gamma': 0, 'reg_alpha': 0, 'reg_lambda': 0.1} => RMSE: 3268939.9284, Relative RMSE: 0.0863\n",
      "Params: {'n_estimators': 100, 'max_depth': 7, 'learning_rate': 0.3, 'subsample': 0.5, 'colsample_bytree': 0.5, 'gamma': 0, 'reg_alpha': 0, 'reg_lambda': 0.3} => RMSE: 2946617.8134, Relative RMSE: 0.0778\n",
      "Params: {'n_estimators': 100, 'max_depth': 7, 'learning_rate': 0.3, 'subsample': 0.5, 'colsample_bytree': 0.5, 'gamma': 0, 'reg_alpha': 0.1, 'reg_lambda': 0} => RMSE: 3065720.6453, Relative RMSE: 0.0810\n",
      "Params: {'n_estimators': 100, 'max_depth': 7, 'learning_rate': 0.3, 'subsample': 0.5, 'colsample_bytree': 0.5, 'gamma': 0, 'reg_alpha': 0.1, 'reg_lambda': 0.1} => RMSE: 3268535.8363, Relative RMSE: 0.0863\n",
      "Params: {'n_estimators': 100, 'max_depth': 7, 'learning_rate': 0.3, 'subsample': 0.5, 'colsample_bytree': 0.5, 'gamma': 0, 'reg_alpha': 0.1, 'reg_lambda': 0.3} => RMSE: 2946617.8134, Relative RMSE: 0.0778\n",
      "Params: {'n_estimators': 100, 'max_depth': 7, 'learning_rate': 0.3, 'subsample': 0.5, 'colsample_bytree': 0.5, 'gamma': 0, 'reg_alpha': 0.3, 'reg_lambda': 0} => RMSE: 3065718.2695, Relative RMSE: 0.0810\n",
      "Params: {'n_estimators': 100, 'max_depth': 7, 'learning_rate': 0.3, 'subsample': 0.5, 'colsample_bytree': 0.5, 'gamma': 0, 'reg_alpha': 0.3, 'reg_lambda': 0.1} => RMSE: 3268743.8431, Relative RMSE: 0.0863\n",
      "Params: {'n_estimators': 100, 'max_depth': 7, 'learning_rate': 0.3, 'subsample': 0.5, 'colsample_bytree': 0.5, 'gamma': 0, 'reg_alpha': 0.3, 'reg_lambda': 0.3} => RMSE: 2946617.8134, Relative RMSE: 0.0778\n",
      "Params: {'n_estimators': 100, 'max_depth': 7, 'learning_rate': 0.3, 'subsample': 0.5, 'colsample_bytree': 0.5, 'gamma': 0.1, 'reg_alpha': 0, 'reg_lambda': 0} => RMSE: 3065713.2241, Relative RMSE: 0.0810\n",
      "Params: {'n_estimators': 100, 'max_depth': 7, 'learning_rate': 0.3, 'subsample': 0.5, 'colsample_bytree': 0.5, 'gamma': 0.1, 'reg_alpha': 0, 'reg_lambda': 0.1} => RMSE: 3268939.9284, Relative RMSE: 0.0863\n",
      "Params: {'n_estimators': 100, 'max_depth': 7, 'learning_rate': 0.3, 'subsample': 0.5, 'colsample_bytree': 0.5, 'gamma': 0.1, 'reg_alpha': 0, 'reg_lambda': 0.3} => RMSE: 2946617.8134, Relative RMSE: 0.0778\n",
      "Params: {'n_estimators': 100, 'max_depth': 7, 'learning_rate': 0.3, 'subsample': 0.5, 'colsample_bytree': 0.5, 'gamma': 0.1, 'reg_alpha': 0.1, 'reg_lambda': 0} => RMSE: 3065720.6453, Relative RMSE: 0.0810\n",
      "Params: {'n_estimators': 100, 'max_depth': 7, 'learning_rate': 0.3, 'subsample': 0.5, 'colsample_bytree': 0.5, 'gamma': 0.1, 'reg_alpha': 0.1, 'reg_lambda': 0.1} => RMSE: 3268535.8363, Relative RMSE: 0.0863\n",
      "Params: {'n_estimators': 100, 'max_depth': 7, 'learning_rate': 0.3, 'subsample': 0.5, 'colsample_bytree': 0.5, 'gamma': 0.1, 'reg_alpha': 0.1, 'reg_lambda': 0.3} => RMSE: 2946617.8134, Relative RMSE: 0.0778\n",
      "Params: {'n_estimators': 100, 'max_depth': 7, 'learning_rate': 0.3, 'subsample': 0.5, 'colsample_bytree': 0.5, 'gamma': 0.1, 'reg_alpha': 0.3, 'reg_lambda': 0} => RMSE: 3065718.2695, Relative RMSE: 0.0810\n",
      "Params: {'n_estimators': 100, 'max_depth': 7, 'learning_rate': 0.3, 'subsample': 0.5, 'colsample_bytree': 0.5, 'gamma': 0.1, 'reg_alpha': 0.3, 'reg_lambda': 0.1} => RMSE: 3268743.8431, Relative RMSE: 0.0863\n",
      "Params: {'n_estimators': 100, 'max_depth': 7, 'learning_rate': 0.3, 'subsample': 0.5, 'colsample_bytree': 0.5, 'gamma': 0.1, 'reg_alpha': 0.3, 'reg_lambda': 0.3} => RMSE: 2946617.8134, Relative RMSE: 0.0778\n",
      "Params: {'n_estimators': 100, 'max_depth': 7, 'learning_rate': 0.3, 'subsample': 0.5, 'colsample_bytree': 0.5, 'gamma': 0.3, 'reg_alpha': 0, 'reg_lambda': 0} => RMSE: 3065713.2241, Relative RMSE: 0.0810\n",
      "Params: {'n_estimators': 100, 'max_depth': 7, 'learning_rate': 0.3, 'subsample': 0.5, 'colsample_bytree': 0.5, 'gamma': 0.3, 'reg_alpha': 0, 'reg_lambda': 0.1} => RMSE: 3268939.9284, Relative RMSE: 0.0863\n",
      "Params: {'n_estimators': 100, 'max_depth': 7, 'learning_rate': 0.3, 'subsample': 0.5, 'colsample_bytree': 0.5, 'gamma': 0.3, 'reg_alpha': 0, 'reg_lambda': 0.3} => RMSE: 2946617.8134, Relative RMSE: 0.0778\n",
      "Params: {'n_estimators': 100, 'max_depth': 7, 'learning_rate': 0.3, 'subsample': 0.5, 'colsample_bytree': 0.5, 'gamma': 0.3, 'reg_alpha': 0.1, 'reg_lambda': 0} => RMSE: 3065720.6453, Relative RMSE: 0.0810\n",
      "Params: {'n_estimators': 100, 'max_depth': 7, 'learning_rate': 0.3, 'subsample': 0.5, 'colsample_bytree': 0.5, 'gamma': 0.3, 'reg_alpha': 0.1, 'reg_lambda': 0.1} => RMSE: 3268535.8363, Relative RMSE: 0.0863\n",
      "Params: {'n_estimators': 100, 'max_depth': 7, 'learning_rate': 0.3, 'subsample': 0.5, 'colsample_bytree': 0.5, 'gamma': 0.3, 'reg_alpha': 0.1, 'reg_lambda': 0.3} => RMSE: 2946617.8134, Relative RMSE: 0.0778\n",
      "Params: {'n_estimators': 100, 'max_depth': 7, 'learning_rate': 0.3, 'subsample': 0.5, 'colsample_bytree': 0.5, 'gamma': 0.3, 'reg_alpha': 0.3, 'reg_lambda': 0} => RMSE: 3065718.2695, Relative RMSE: 0.0810\n",
      "Params: {'n_estimators': 100, 'max_depth': 7, 'learning_rate': 0.3, 'subsample': 0.5, 'colsample_bytree': 0.5, 'gamma': 0.3, 'reg_alpha': 0.3, 'reg_lambda': 0.1} => RMSE: 3268743.8431, Relative RMSE: 0.0863\n",
      "Params: {'n_estimators': 100, 'max_depth': 7, 'learning_rate': 0.3, 'subsample': 0.5, 'colsample_bytree': 0.5, 'gamma': 0.3, 'reg_alpha': 0.3, 'reg_lambda': 0.3} => RMSE: 2946617.8134, Relative RMSE: 0.0778\n",
      "Params: {'n_estimators': 100, 'max_depth': 7, 'learning_rate': 0.3, 'subsample': 0.5, 'colsample_bytree': 0.7, 'gamma': 0, 'reg_alpha': 0, 'reg_lambda': 0} => RMSE: 3466230.8864, Relative RMSE: 0.0916\n",
      "Params: {'n_estimators': 100, 'max_depth': 7, 'learning_rate': 0.3, 'subsample': 0.5, 'colsample_bytree': 0.7, 'gamma': 0, 'reg_alpha': 0, 'reg_lambda': 0.1} => RMSE: 3331987.7490, Relative RMSE: 0.0880\n",
      "Params: {'n_estimators': 100, 'max_depth': 7, 'learning_rate': 0.3, 'subsample': 0.5, 'colsample_bytree': 0.7, 'gamma': 0, 'reg_alpha': 0, 'reg_lambda': 0.3} => RMSE: 3188577.0418, Relative RMSE: 0.0842\n",
      "Params: {'n_estimators': 100, 'max_depth': 7, 'learning_rate': 0.3, 'subsample': 0.5, 'colsample_bytree': 0.7, 'gamma': 0, 'reg_alpha': 0.1, 'reg_lambda': 0} => RMSE: 3466297.8736, Relative RMSE: 0.0916\n",
      "Params: {'n_estimators': 100, 'max_depth': 7, 'learning_rate': 0.3, 'subsample': 0.5, 'colsample_bytree': 0.7, 'gamma': 0, 'reg_alpha': 0.1, 'reg_lambda': 0.1} => RMSE: 3331894.7159, Relative RMSE: 0.0880\n",
      "Params: {'n_estimators': 100, 'max_depth': 7, 'learning_rate': 0.3, 'subsample': 0.5, 'colsample_bytree': 0.7, 'gamma': 0, 'reg_alpha': 0.1, 'reg_lambda': 0.3} => RMSE: 3188571.5182, Relative RMSE: 0.0842\n",
      "Params: {'n_estimators': 100, 'max_depth': 7, 'learning_rate': 0.3, 'subsample': 0.5, 'colsample_bytree': 0.7, 'gamma': 0, 'reg_alpha': 0.3, 'reg_lambda': 0} => RMSE: 3466250.4351, Relative RMSE: 0.0916\n",
      "Params: {'n_estimators': 100, 'max_depth': 7, 'learning_rate': 0.3, 'subsample': 0.5, 'colsample_bytree': 0.7, 'gamma': 0, 'reg_alpha': 0.3, 'reg_lambda': 0.1} => RMSE: 3331896.9724, Relative RMSE: 0.0880\n",
      "Params: {'n_estimators': 100, 'max_depth': 7, 'learning_rate': 0.3, 'subsample': 0.5, 'colsample_bytree': 0.7, 'gamma': 0, 'reg_alpha': 0.3, 'reg_lambda': 0.3} => RMSE: 3188571.5182, Relative RMSE: 0.0842\n",
      "Params: {'n_estimators': 100, 'max_depth': 7, 'learning_rate': 0.3, 'subsample': 0.5, 'colsample_bytree': 0.7, 'gamma': 0.1, 'reg_alpha': 0, 'reg_lambda': 0} => RMSE: 3466230.8864, Relative RMSE: 0.0916\n",
      "Params: {'n_estimators': 100, 'max_depth': 7, 'learning_rate': 0.3, 'subsample': 0.5, 'colsample_bytree': 0.7, 'gamma': 0.1, 'reg_alpha': 0, 'reg_lambda': 0.1} => RMSE: 3331987.7490, Relative RMSE: 0.0880\n",
      "Params: {'n_estimators': 100, 'max_depth': 7, 'learning_rate': 0.3, 'subsample': 0.5, 'colsample_bytree': 0.7, 'gamma': 0.1, 'reg_alpha': 0, 'reg_lambda': 0.3} => RMSE: 3188577.0418, Relative RMSE: 0.0842\n",
      "Params: {'n_estimators': 100, 'max_depth': 7, 'learning_rate': 0.3, 'subsample': 0.5, 'colsample_bytree': 0.7, 'gamma': 0.1, 'reg_alpha': 0.1, 'reg_lambda': 0} => RMSE: 3466297.8736, Relative RMSE: 0.0916\n",
      "Params: {'n_estimators': 100, 'max_depth': 7, 'learning_rate': 0.3, 'subsample': 0.5, 'colsample_bytree': 0.7, 'gamma': 0.1, 'reg_alpha': 0.1, 'reg_lambda': 0.1} => RMSE: 3331894.7159, Relative RMSE: 0.0880\n",
      "Params: {'n_estimators': 100, 'max_depth': 7, 'learning_rate': 0.3, 'subsample': 0.5, 'colsample_bytree': 0.7, 'gamma': 0.1, 'reg_alpha': 0.1, 'reg_lambda': 0.3} => RMSE: 3188571.5182, Relative RMSE: 0.0842\n",
      "Params: {'n_estimators': 100, 'max_depth': 7, 'learning_rate': 0.3, 'subsample': 0.5, 'colsample_bytree': 0.7, 'gamma': 0.1, 'reg_alpha': 0.3, 'reg_lambda': 0} => RMSE: 3466250.4351, Relative RMSE: 0.0916\n",
      "Params: {'n_estimators': 100, 'max_depth': 7, 'learning_rate': 0.3, 'subsample': 0.5, 'colsample_bytree': 0.7, 'gamma': 0.1, 'reg_alpha': 0.3, 'reg_lambda': 0.1} => RMSE: 3331896.9724, Relative RMSE: 0.0880\n",
      "Params: {'n_estimators': 100, 'max_depth': 7, 'learning_rate': 0.3, 'subsample': 0.5, 'colsample_bytree': 0.7, 'gamma': 0.1, 'reg_alpha': 0.3, 'reg_lambda': 0.3} => RMSE: 3188571.5182, Relative RMSE: 0.0842\n",
      "Params: {'n_estimators': 100, 'max_depth': 7, 'learning_rate': 0.3, 'subsample': 0.5, 'colsample_bytree': 0.7, 'gamma': 0.3, 'reg_alpha': 0, 'reg_lambda': 0} => RMSE: 3466230.8864, Relative RMSE: 0.0916\n",
      "Params: {'n_estimators': 100, 'max_depth': 7, 'learning_rate': 0.3, 'subsample': 0.5, 'colsample_bytree': 0.7, 'gamma': 0.3, 'reg_alpha': 0, 'reg_lambda': 0.1} => RMSE: 3331987.7490, Relative RMSE: 0.0880\n",
      "Params: {'n_estimators': 100, 'max_depth': 7, 'learning_rate': 0.3, 'subsample': 0.5, 'colsample_bytree': 0.7, 'gamma': 0.3, 'reg_alpha': 0, 'reg_lambda': 0.3} => RMSE: 3188577.0418, Relative RMSE: 0.0842\n",
      "Params: {'n_estimators': 100, 'max_depth': 7, 'learning_rate': 0.3, 'subsample': 0.5, 'colsample_bytree': 0.7, 'gamma': 0.3, 'reg_alpha': 0.1, 'reg_lambda': 0} => RMSE: 3466297.8736, Relative RMSE: 0.0916\n",
      "Params: {'n_estimators': 100, 'max_depth': 7, 'learning_rate': 0.3, 'subsample': 0.5, 'colsample_bytree': 0.7, 'gamma': 0.3, 'reg_alpha': 0.1, 'reg_lambda': 0.1} => RMSE: 3331894.7159, Relative RMSE: 0.0880\n",
      "Params: {'n_estimators': 100, 'max_depth': 7, 'learning_rate': 0.3, 'subsample': 0.5, 'colsample_bytree': 0.7, 'gamma': 0.3, 'reg_alpha': 0.1, 'reg_lambda': 0.3} => RMSE: 3188571.5182, Relative RMSE: 0.0842\n",
      "Params: {'n_estimators': 100, 'max_depth': 7, 'learning_rate': 0.3, 'subsample': 0.5, 'colsample_bytree': 0.7, 'gamma': 0.3, 'reg_alpha': 0.3, 'reg_lambda': 0} => RMSE: 3466250.4351, Relative RMSE: 0.0916\n",
      "Params: {'n_estimators': 100, 'max_depth': 7, 'learning_rate': 0.3, 'subsample': 0.5, 'colsample_bytree': 0.7, 'gamma': 0.3, 'reg_alpha': 0.3, 'reg_lambda': 0.1} => RMSE: 3331896.9724, Relative RMSE: 0.0880\n",
      "Params: {'n_estimators': 100, 'max_depth': 7, 'learning_rate': 0.3, 'subsample': 0.5, 'colsample_bytree': 0.7, 'gamma': 0.3, 'reg_alpha': 0.3, 'reg_lambda': 0.3} => RMSE: 3188571.5182, Relative RMSE: 0.0842\n",
      "Params: {'n_estimators': 100, 'max_depth': 7, 'learning_rate': 0.3, 'subsample': 0.5, 'colsample_bytree': 1, 'gamma': 0, 'reg_alpha': 0, 'reg_lambda': 0} => RMSE: 2448301.2988, Relative RMSE: 0.0647\n",
      "Params: {'n_estimators': 100, 'max_depth': 7, 'learning_rate': 0.3, 'subsample': 0.5, 'colsample_bytree': 1, 'gamma': 0, 'reg_alpha': 0, 'reg_lambda': 0.1} => RMSE: 2635871.6911, Relative RMSE: 0.0696\n",
      "Params: {'n_estimators': 100, 'max_depth': 7, 'learning_rate': 0.3, 'subsample': 0.5, 'colsample_bytree': 1, 'gamma': 0, 'reg_alpha': 0, 'reg_lambda': 0.3} => RMSE: 2969460.9677, Relative RMSE: 0.0784\n",
      "Params: {'n_estimators': 100, 'max_depth': 7, 'learning_rate': 0.3, 'subsample': 0.5, 'colsample_bytree': 1, 'gamma': 0, 'reg_alpha': 0.1, 'reg_lambda': 0} => RMSE: 2447581.6861, Relative RMSE: 0.0647\n",
      "Params: {'n_estimators': 100, 'max_depth': 7, 'learning_rate': 0.3, 'subsample': 0.5, 'colsample_bytree': 1, 'gamma': 0, 'reg_alpha': 0.1, 'reg_lambda': 0.1} => RMSE: 2635794.9541, Relative RMSE: 0.0696\n",
      "Params: {'n_estimators': 100, 'max_depth': 7, 'learning_rate': 0.3, 'subsample': 0.5, 'colsample_bytree': 1, 'gamma': 0, 'reg_alpha': 0.1, 'reg_lambda': 0.3} => RMSE: 2969416.7594, Relative RMSE: 0.0784\n",
      "Params: {'n_estimators': 100, 'max_depth': 7, 'learning_rate': 0.3, 'subsample': 0.5, 'colsample_bytree': 1, 'gamma': 0, 'reg_alpha': 0.3, 'reg_lambda': 0} => RMSE: 2447538.8567, Relative RMSE: 0.0647\n",
      "Params: {'n_estimators': 100, 'max_depth': 7, 'learning_rate': 0.3, 'subsample': 0.5, 'colsample_bytree': 1, 'gamma': 0, 'reg_alpha': 0.3, 'reg_lambda': 0.1} => RMSE: 2636567.2404, Relative RMSE: 0.0696\n",
      "Params: {'n_estimators': 100, 'max_depth': 7, 'learning_rate': 0.3, 'subsample': 0.5, 'colsample_bytree': 1, 'gamma': 0, 'reg_alpha': 0.3, 'reg_lambda': 0.3} => RMSE: 2969458.3734, Relative RMSE: 0.0784\n",
      "Params: {'n_estimators': 100, 'max_depth': 7, 'learning_rate': 0.3, 'subsample': 0.5, 'colsample_bytree': 1, 'gamma': 0.1, 'reg_alpha': 0, 'reg_lambda': 0} => RMSE: 2448301.2988, Relative RMSE: 0.0647\n",
      "Params: {'n_estimators': 100, 'max_depth': 7, 'learning_rate': 0.3, 'subsample': 0.5, 'colsample_bytree': 1, 'gamma': 0.1, 'reg_alpha': 0, 'reg_lambda': 0.1} => RMSE: 2635871.6911, Relative RMSE: 0.0696\n",
      "Params: {'n_estimators': 100, 'max_depth': 7, 'learning_rate': 0.3, 'subsample': 0.5, 'colsample_bytree': 1, 'gamma': 0.1, 'reg_alpha': 0, 'reg_lambda': 0.3} => RMSE: 2969460.9677, Relative RMSE: 0.0784\n",
      "Params: {'n_estimators': 100, 'max_depth': 7, 'learning_rate': 0.3, 'subsample': 0.5, 'colsample_bytree': 1, 'gamma': 0.1, 'reg_alpha': 0.1, 'reg_lambda': 0} => RMSE: 2447581.6861, Relative RMSE: 0.0647\n",
      "Params: {'n_estimators': 100, 'max_depth': 7, 'learning_rate': 0.3, 'subsample': 0.5, 'colsample_bytree': 1, 'gamma': 0.1, 'reg_alpha': 0.1, 'reg_lambda': 0.1} => RMSE: 2635794.9541, Relative RMSE: 0.0696\n",
      "Params: {'n_estimators': 100, 'max_depth': 7, 'learning_rate': 0.3, 'subsample': 0.5, 'colsample_bytree': 1, 'gamma': 0.1, 'reg_alpha': 0.1, 'reg_lambda': 0.3} => RMSE: 2969416.7594, Relative RMSE: 0.0784\n",
      "Params: {'n_estimators': 100, 'max_depth': 7, 'learning_rate': 0.3, 'subsample': 0.5, 'colsample_bytree': 1, 'gamma': 0.1, 'reg_alpha': 0.3, 'reg_lambda': 0} => RMSE: 2447538.8567, Relative RMSE: 0.0647\n",
      "Params: {'n_estimators': 100, 'max_depth': 7, 'learning_rate': 0.3, 'subsample': 0.5, 'colsample_bytree': 1, 'gamma': 0.1, 'reg_alpha': 0.3, 'reg_lambda': 0.1} => RMSE: 2636567.2404, Relative RMSE: 0.0696\n",
      "Params: {'n_estimators': 100, 'max_depth': 7, 'learning_rate': 0.3, 'subsample': 0.5, 'colsample_bytree': 1, 'gamma': 0.1, 'reg_alpha': 0.3, 'reg_lambda': 0.3} => RMSE: 2969458.3734, Relative RMSE: 0.0784\n",
      "Params: {'n_estimators': 100, 'max_depth': 7, 'learning_rate': 0.3, 'subsample': 0.5, 'colsample_bytree': 1, 'gamma': 0.3, 'reg_alpha': 0, 'reg_lambda': 0} => RMSE: 2448301.2988, Relative RMSE: 0.0647\n",
      "Params: {'n_estimators': 100, 'max_depth': 7, 'learning_rate': 0.3, 'subsample': 0.5, 'colsample_bytree': 1, 'gamma': 0.3, 'reg_alpha': 0, 'reg_lambda': 0.1} => RMSE: 2635871.6911, Relative RMSE: 0.0696\n",
      "Params: {'n_estimators': 100, 'max_depth': 7, 'learning_rate': 0.3, 'subsample': 0.5, 'colsample_bytree': 1, 'gamma': 0.3, 'reg_alpha': 0, 'reg_lambda': 0.3} => RMSE: 2969460.9677, Relative RMSE: 0.0784\n",
      "Params: {'n_estimators': 100, 'max_depth': 7, 'learning_rate': 0.3, 'subsample': 0.5, 'colsample_bytree': 1, 'gamma': 0.3, 'reg_alpha': 0.1, 'reg_lambda': 0} => RMSE: 2447581.6861, Relative RMSE: 0.0647\n",
      "Params: {'n_estimators': 100, 'max_depth': 7, 'learning_rate': 0.3, 'subsample': 0.5, 'colsample_bytree': 1, 'gamma': 0.3, 'reg_alpha': 0.1, 'reg_lambda': 0.1} => RMSE: 2635794.9541, Relative RMSE: 0.0696\n",
      "Params: {'n_estimators': 100, 'max_depth': 7, 'learning_rate': 0.3, 'subsample': 0.5, 'colsample_bytree': 1, 'gamma': 0.3, 'reg_alpha': 0.1, 'reg_lambda': 0.3} => RMSE: 2969416.7594, Relative RMSE: 0.0784\n",
      "Params: {'n_estimators': 100, 'max_depth': 7, 'learning_rate': 0.3, 'subsample': 0.5, 'colsample_bytree': 1, 'gamma': 0.3, 'reg_alpha': 0.3, 'reg_lambda': 0} => RMSE: 2447538.8567, Relative RMSE: 0.0647\n",
      "Params: {'n_estimators': 100, 'max_depth': 7, 'learning_rate': 0.3, 'subsample': 0.5, 'colsample_bytree': 1, 'gamma': 0.3, 'reg_alpha': 0.3, 'reg_lambda': 0.1} => RMSE: 2636567.2404, Relative RMSE: 0.0696\n",
      "Params: {'n_estimators': 100, 'max_depth': 7, 'learning_rate': 0.3, 'subsample': 0.5, 'colsample_bytree': 1, 'gamma': 0.3, 'reg_alpha': 0.3, 'reg_lambda': 0.3} => RMSE: 2969458.3734, Relative RMSE: 0.0784\n",
      "Params: {'n_estimators': 100, 'max_depth': 7, 'learning_rate': 0.3, 'subsample': 0.7, 'colsample_bytree': 0.5, 'gamma': 0, 'reg_alpha': 0, 'reg_lambda': 0} => RMSE: 3425386.3677, Relative RMSE: 0.0905\n",
      "Params: {'n_estimators': 100, 'max_depth': 7, 'learning_rate': 0.3, 'subsample': 0.7, 'colsample_bytree': 0.5, 'gamma': 0, 'reg_alpha': 0, 'reg_lambda': 0.1} => RMSE: 3273638.4482, Relative RMSE: 0.0865\n",
      "Params: {'n_estimators': 100, 'max_depth': 7, 'learning_rate': 0.3, 'subsample': 0.7, 'colsample_bytree': 0.5, 'gamma': 0, 'reg_alpha': 0, 'reg_lambda': 0.3} => RMSE: 3360596.4592, Relative RMSE: 0.0888\n",
      "Params: {'n_estimators': 100, 'max_depth': 7, 'learning_rate': 0.3, 'subsample': 0.7, 'colsample_bytree': 0.5, 'gamma': 0, 'reg_alpha': 0.1, 'reg_lambda': 0} => RMSE: 3425376.1949, Relative RMSE: 0.0905\n",
      "Params: {'n_estimators': 100, 'max_depth': 7, 'learning_rate': 0.3, 'subsample': 0.7, 'colsample_bytree': 0.5, 'gamma': 0, 'reg_alpha': 0.1, 'reg_lambda': 0.1} => RMSE: 3273626.5436, Relative RMSE: 0.0865\n",
      "Params: {'n_estimators': 100, 'max_depth': 7, 'learning_rate': 0.3, 'subsample': 0.7, 'colsample_bytree': 0.5, 'gamma': 0, 'reg_alpha': 0.1, 'reg_lambda': 0.3} => RMSE: 3360593.0814, Relative RMSE: 0.0888\n",
      "Params: {'n_estimators': 100, 'max_depth': 7, 'learning_rate': 0.3, 'subsample': 0.7, 'colsample_bytree': 0.5, 'gamma': 0, 'reg_alpha': 0.3, 'reg_lambda': 0} => RMSE: 3425415.0020, Relative RMSE: 0.0905\n",
      "Params: {'n_estimators': 100, 'max_depth': 7, 'learning_rate': 0.3, 'subsample': 0.7, 'colsample_bytree': 0.5, 'gamma': 0, 'reg_alpha': 0.3, 'reg_lambda': 0.1} => RMSE: 3273629.1209, Relative RMSE: 0.0865\n",
      "Params: {'n_estimators': 100, 'max_depth': 7, 'learning_rate': 0.3, 'subsample': 0.7, 'colsample_bytree': 0.5, 'gamma': 0, 'reg_alpha': 0.3, 'reg_lambda': 0.3} => RMSE: 3360589.7151, Relative RMSE: 0.0888\n",
      "Params: {'n_estimators': 100, 'max_depth': 7, 'learning_rate': 0.3, 'subsample': 0.7, 'colsample_bytree': 0.5, 'gamma': 0.1, 'reg_alpha': 0, 'reg_lambda': 0} => RMSE: 3425386.3677, Relative RMSE: 0.0905\n",
      "Params: {'n_estimators': 100, 'max_depth': 7, 'learning_rate': 0.3, 'subsample': 0.7, 'colsample_bytree': 0.5, 'gamma': 0.1, 'reg_alpha': 0, 'reg_lambda': 0.1} => RMSE: 3273638.4482, Relative RMSE: 0.0865\n",
      "Params: {'n_estimators': 100, 'max_depth': 7, 'learning_rate': 0.3, 'subsample': 0.7, 'colsample_bytree': 0.5, 'gamma': 0.1, 'reg_alpha': 0, 'reg_lambda': 0.3} => RMSE: 3360596.4592, Relative RMSE: 0.0888\n",
      "Params: {'n_estimators': 100, 'max_depth': 7, 'learning_rate': 0.3, 'subsample': 0.7, 'colsample_bytree': 0.5, 'gamma': 0.1, 'reg_alpha': 0.1, 'reg_lambda': 0} => RMSE: 3425376.1949, Relative RMSE: 0.0905\n",
      "Params: {'n_estimators': 100, 'max_depth': 7, 'learning_rate': 0.3, 'subsample': 0.7, 'colsample_bytree': 0.5, 'gamma': 0.1, 'reg_alpha': 0.1, 'reg_lambda': 0.1} => RMSE: 3273626.5436, Relative RMSE: 0.0865\n",
      "Params: {'n_estimators': 100, 'max_depth': 7, 'learning_rate': 0.3, 'subsample': 0.7, 'colsample_bytree': 0.5, 'gamma': 0.1, 'reg_alpha': 0.1, 'reg_lambda': 0.3} => RMSE: 3360593.0814, Relative RMSE: 0.0888\n",
      "Params: {'n_estimators': 100, 'max_depth': 7, 'learning_rate': 0.3, 'subsample': 0.7, 'colsample_bytree': 0.5, 'gamma': 0.1, 'reg_alpha': 0.3, 'reg_lambda': 0} => RMSE: 3425415.0020, Relative RMSE: 0.0905\n",
      "Params: {'n_estimators': 100, 'max_depth': 7, 'learning_rate': 0.3, 'subsample': 0.7, 'colsample_bytree': 0.5, 'gamma': 0.1, 'reg_alpha': 0.3, 'reg_lambda': 0.1} => RMSE: 3273629.1209, Relative RMSE: 0.0865\n",
      "Params: {'n_estimators': 100, 'max_depth': 7, 'learning_rate': 0.3, 'subsample': 0.7, 'colsample_bytree': 0.5, 'gamma': 0.1, 'reg_alpha': 0.3, 'reg_lambda': 0.3} => RMSE: 3360590.5963, Relative RMSE: 0.0888\n",
      "Params: {'n_estimators': 100, 'max_depth': 7, 'learning_rate': 0.3, 'subsample': 0.7, 'colsample_bytree': 0.5, 'gamma': 0.3, 'reg_alpha': 0, 'reg_lambda': 0} => RMSE: 3425386.3677, Relative RMSE: 0.0905\n",
      "Params: {'n_estimators': 100, 'max_depth': 7, 'learning_rate': 0.3, 'subsample': 0.7, 'colsample_bytree': 0.5, 'gamma': 0.3, 'reg_alpha': 0, 'reg_lambda': 0.1} => RMSE: 3273638.4482, Relative RMSE: 0.0865\n",
      "Params: {'n_estimators': 100, 'max_depth': 7, 'learning_rate': 0.3, 'subsample': 0.7, 'colsample_bytree': 0.5, 'gamma': 0.3, 'reg_alpha': 0, 'reg_lambda': 0.3} => RMSE: 3360596.4592, Relative RMSE: 0.0888\n",
      "Params: {'n_estimators': 100, 'max_depth': 7, 'learning_rate': 0.3, 'subsample': 0.7, 'colsample_bytree': 0.5, 'gamma': 0.3, 'reg_alpha': 0.1, 'reg_lambda': 0} => RMSE: 3425376.1949, Relative RMSE: 0.0905\n",
      "Params: {'n_estimators': 100, 'max_depth': 7, 'learning_rate': 0.3, 'subsample': 0.7, 'colsample_bytree': 0.5, 'gamma': 0.3, 'reg_alpha': 0.1, 'reg_lambda': 0.1} => RMSE: 3273626.5436, Relative RMSE: 0.0865\n",
      "Params: {'n_estimators': 100, 'max_depth': 7, 'learning_rate': 0.3, 'subsample': 0.7, 'colsample_bytree': 0.5, 'gamma': 0.3, 'reg_alpha': 0.1, 'reg_lambda': 0.3} => RMSE: 3360593.3847, Relative RMSE: 0.0888\n",
      "Params: {'n_estimators': 100, 'max_depth': 7, 'learning_rate': 0.3, 'subsample': 0.7, 'colsample_bytree': 0.5, 'gamma': 0.3, 'reg_alpha': 0.3, 'reg_lambda': 0} => RMSE: 3425415.0020, Relative RMSE: 0.0905\n",
      "Params: {'n_estimators': 100, 'max_depth': 7, 'learning_rate': 0.3, 'subsample': 0.7, 'colsample_bytree': 0.5, 'gamma': 0.3, 'reg_alpha': 0.3, 'reg_lambda': 0.1} => RMSE: 3273629.1209, Relative RMSE: 0.0865\n",
      "Params: {'n_estimators': 100, 'max_depth': 7, 'learning_rate': 0.3, 'subsample': 0.7, 'colsample_bytree': 0.5, 'gamma': 0.3, 'reg_alpha': 0.3, 'reg_lambda': 0.3} => RMSE: 3360590.5963, Relative RMSE: 0.0888\n",
      "Params: {'n_estimators': 100, 'max_depth': 7, 'learning_rate': 0.3, 'subsample': 0.7, 'colsample_bytree': 0.7, 'gamma': 0, 'reg_alpha': 0, 'reg_lambda': 0} => RMSE: 3384790.6163, Relative RMSE: 0.0894\n",
      "Params: {'n_estimators': 100, 'max_depth': 7, 'learning_rate': 0.3, 'subsample': 0.7, 'colsample_bytree': 0.7, 'gamma': 0, 'reg_alpha': 0, 'reg_lambda': 0.1} => RMSE: 3260574.1277, Relative RMSE: 0.0861\n",
      "Params: {'n_estimators': 100, 'max_depth': 7, 'learning_rate': 0.3, 'subsample': 0.7, 'colsample_bytree': 0.7, 'gamma': 0, 'reg_alpha': 0, 'reg_lambda': 0.3} => RMSE: 3267042.6287, Relative RMSE: 0.0863\n",
      "Params: {'n_estimators': 100, 'max_depth': 7, 'learning_rate': 0.3, 'subsample': 0.7, 'colsample_bytree': 0.7, 'gamma': 0, 'reg_alpha': 0.1, 'reg_lambda': 0} => RMSE: 3384779.7374, Relative RMSE: 0.0894\n",
      "Params: {'n_estimators': 100, 'max_depth': 7, 'learning_rate': 0.3, 'subsample': 0.7, 'colsample_bytree': 0.7, 'gamma': 0, 'reg_alpha': 0.1, 'reg_lambda': 0.1} => RMSE: 3260582.8366, Relative RMSE: 0.0861\n",
      "Params: {'n_estimators': 100, 'max_depth': 7, 'learning_rate': 0.3, 'subsample': 0.7, 'colsample_bytree': 0.7, 'gamma': 0, 'reg_alpha': 0.1, 'reg_lambda': 0.3} => RMSE: 3267042.6093, Relative RMSE: 0.0863\n",
      "Params: {'n_estimators': 100, 'max_depth': 7, 'learning_rate': 0.3, 'subsample': 0.7, 'colsample_bytree': 0.7, 'gamma': 0, 'reg_alpha': 0.3, 'reg_lambda': 0} => RMSE: 3384789.9085, Relative RMSE: 0.0894\n",
      "Params: {'n_estimators': 100, 'max_depth': 7, 'learning_rate': 0.3, 'subsample': 0.7, 'colsample_bytree': 0.7, 'gamma': 0, 'reg_alpha': 0.3, 'reg_lambda': 0.1} => RMSE: 3260584.3224, Relative RMSE: 0.0861\n",
      "Params: {'n_estimators': 100, 'max_depth': 7, 'learning_rate': 0.3, 'subsample': 0.7, 'colsample_bytree': 0.7, 'gamma': 0, 'reg_alpha': 0.3, 'reg_lambda': 0.3} => RMSE: 3267046.0965, Relative RMSE: 0.0863\n",
      "Params: {'n_estimators': 100, 'max_depth': 7, 'learning_rate': 0.3, 'subsample': 0.7, 'colsample_bytree': 0.7, 'gamma': 0.1, 'reg_alpha': 0, 'reg_lambda': 0} => RMSE: 3384790.6163, Relative RMSE: 0.0894\n",
      "Params: {'n_estimators': 100, 'max_depth': 7, 'learning_rate': 0.3, 'subsample': 0.7, 'colsample_bytree': 0.7, 'gamma': 0.1, 'reg_alpha': 0, 'reg_lambda': 0.1} => RMSE: 3260574.1277, Relative RMSE: 0.0861\n",
      "Params: {'n_estimators': 100, 'max_depth': 7, 'learning_rate': 0.3, 'subsample': 0.7, 'colsample_bytree': 0.7, 'gamma': 0.1, 'reg_alpha': 0, 'reg_lambda': 0.3} => RMSE: 3267042.6287, Relative RMSE: 0.0863\n",
      "Params: {'n_estimators': 100, 'max_depth': 7, 'learning_rate': 0.3, 'subsample': 0.7, 'colsample_bytree': 0.7, 'gamma': 0.1, 'reg_alpha': 0.1, 'reg_lambda': 0} => RMSE: 3384779.7374, Relative RMSE: 0.0894\n",
      "Params: {'n_estimators': 100, 'max_depth': 7, 'learning_rate': 0.3, 'subsample': 0.7, 'colsample_bytree': 0.7, 'gamma': 0.1, 'reg_alpha': 0.1, 'reg_lambda': 0.1} => RMSE: 3260582.8366, Relative RMSE: 0.0861\n",
      "Params: {'n_estimators': 100, 'max_depth': 7, 'learning_rate': 0.3, 'subsample': 0.7, 'colsample_bytree': 0.7, 'gamma': 0.1, 'reg_alpha': 0.1, 'reg_lambda': 0.3} => RMSE: 3267042.6093, Relative RMSE: 0.0863\n",
      "Params: {'n_estimators': 100, 'max_depth': 7, 'learning_rate': 0.3, 'subsample': 0.7, 'colsample_bytree': 0.7, 'gamma': 0.1, 'reg_alpha': 0.3, 'reg_lambda': 0} => RMSE: 3384789.9085, Relative RMSE: 0.0894\n",
      "Params: {'n_estimators': 100, 'max_depth': 7, 'learning_rate': 0.3, 'subsample': 0.7, 'colsample_bytree': 0.7, 'gamma': 0.1, 'reg_alpha': 0.3, 'reg_lambda': 0.1} => RMSE: 3260584.2334, Relative RMSE: 0.0861\n",
      "Params: {'n_estimators': 100, 'max_depth': 7, 'learning_rate': 0.3, 'subsample': 0.7, 'colsample_bytree': 0.7, 'gamma': 0.1, 'reg_alpha': 0.3, 'reg_lambda': 0.3} => RMSE: 3267046.0965, Relative RMSE: 0.0863\n",
      "Params: {'n_estimators': 100, 'max_depth': 7, 'learning_rate': 0.3, 'subsample': 0.7, 'colsample_bytree': 0.7, 'gamma': 0.3, 'reg_alpha': 0, 'reg_lambda': 0} => RMSE: 3384790.6163, Relative RMSE: 0.0894\n",
      "Params: {'n_estimators': 100, 'max_depth': 7, 'learning_rate': 0.3, 'subsample': 0.7, 'colsample_bytree': 0.7, 'gamma': 0.3, 'reg_alpha': 0, 'reg_lambda': 0.1} => RMSE: 3260574.1277, Relative RMSE: 0.0861\n",
      "Params: {'n_estimators': 100, 'max_depth': 7, 'learning_rate': 0.3, 'subsample': 0.7, 'colsample_bytree': 0.7, 'gamma': 0.3, 'reg_alpha': 0, 'reg_lambda': 0.3} => RMSE: 3267042.6287, Relative RMSE: 0.0863\n",
      "Params: {'n_estimators': 100, 'max_depth': 7, 'learning_rate': 0.3, 'subsample': 0.7, 'colsample_bytree': 0.7, 'gamma': 0.3, 'reg_alpha': 0.1, 'reg_lambda': 0} => RMSE: 3384779.7374, Relative RMSE: 0.0894\n",
      "Params: {'n_estimators': 100, 'max_depth': 7, 'learning_rate': 0.3, 'subsample': 0.7, 'colsample_bytree': 0.7, 'gamma': 0.3, 'reg_alpha': 0.1, 'reg_lambda': 0.1} => RMSE: 3260582.8366, Relative RMSE: 0.0861\n",
      "Params: {'n_estimators': 100, 'max_depth': 7, 'learning_rate': 0.3, 'subsample': 0.7, 'colsample_bytree': 0.7, 'gamma': 0.3, 'reg_alpha': 0.1, 'reg_lambda': 0.3} => RMSE: 3267042.6093, Relative RMSE: 0.0863\n",
      "Params: {'n_estimators': 100, 'max_depth': 7, 'learning_rate': 0.3, 'subsample': 0.7, 'colsample_bytree': 0.7, 'gamma': 0.3, 'reg_alpha': 0.3, 'reg_lambda': 0} => RMSE: 3384789.9085, Relative RMSE: 0.0894\n",
      "Params: {'n_estimators': 100, 'max_depth': 7, 'learning_rate': 0.3, 'subsample': 0.7, 'colsample_bytree': 0.7, 'gamma': 0.3, 'reg_alpha': 0.3, 'reg_lambda': 0.1} => RMSE: 3260584.2334, Relative RMSE: 0.0861\n",
      "Params: {'n_estimators': 100, 'max_depth': 7, 'learning_rate': 0.3, 'subsample': 0.7, 'colsample_bytree': 0.7, 'gamma': 0.3, 'reg_alpha': 0.3, 'reg_lambda': 0.3} => RMSE: 3267046.0965, Relative RMSE: 0.0863\n",
      "Params: {'n_estimators': 100, 'max_depth': 7, 'learning_rate': 0.3, 'subsample': 0.7, 'colsample_bytree': 1, 'gamma': 0, 'reg_alpha': 0, 'reg_lambda': 0} => RMSE: 3203802.4117, Relative RMSE: 0.0846\n",
      "Params: {'n_estimators': 100, 'max_depth': 7, 'learning_rate': 0.3, 'subsample': 0.7, 'colsample_bytree': 1, 'gamma': 0, 'reg_alpha': 0, 'reg_lambda': 0.1} => RMSE: 3034234.7125, Relative RMSE: 0.0801\n",
      "Params: {'n_estimators': 100, 'max_depth': 7, 'learning_rate': 0.3, 'subsample': 0.7, 'colsample_bytree': 1, 'gamma': 0, 'reg_alpha': 0, 'reg_lambda': 0.3} => RMSE: 3148154.4112, Relative RMSE: 0.0832\n",
      "Params: {'n_estimators': 100, 'max_depth': 7, 'learning_rate': 0.3, 'subsample': 0.7, 'colsample_bytree': 1, 'gamma': 0, 'reg_alpha': 0.1, 'reg_lambda': 0} => RMSE: 3203737.2624, Relative RMSE: 0.0846\n",
      "Params: {'n_estimators': 100, 'max_depth': 7, 'learning_rate': 0.3, 'subsample': 0.7, 'colsample_bytree': 1, 'gamma': 0, 'reg_alpha': 0.1, 'reg_lambda': 0.1} => RMSE: 3034237.2419, Relative RMSE: 0.0801\n",
      "Params: {'n_estimators': 100, 'max_depth': 7, 'learning_rate': 0.3, 'subsample': 0.7, 'colsample_bytree': 1, 'gamma': 0, 'reg_alpha': 0.1, 'reg_lambda': 0.3} => RMSE: 3148188.7446, Relative RMSE: 0.0832\n",
      "Params: {'n_estimators': 100, 'max_depth': 7, 'learning_rate': 0.3, 'subsample': 0.7, 'colsample_bytree': 1, 'gamma': 0, 'reg_alpha': 0.3, 'reg_lambda': 0} => RMSE: 3203807.2294, Relative RMSE: 0.0846\n",
      "Params: {'n_estimators': 100, 'max_depth': 7, 'learning_rate': 0.3, 'subsample': 0.7, 'colsample_bytree': 1, 'gamma': 0, 'reg_alpha': 0.3, 'reg_lambda': 0.1} => RMSE: 3034232.7325, Relative RMSE: 0.0801\n",
      "Params: {'n_estimators': 100, 'max_depth': 7, 'learning_rate': 0.3, 'subsample': 0.7, 'colsample_bytree': 1, 'gamma': 0, 'reg_alpha': 0.3, 'reg_lambda': 0.3} => RMSE: 3148188.5127, Relative RMSE: 0.0832\n",
      "Params: {'n_estimators': 100, 'max_depth': 7, 'learning_rate': 0.3, 'subsample': 0.7, 'colsample_bytree': 1, 'gamma': 0.1, 'reg_alpha': 0, 'reg_lambda': 0} => RMSE: 3203802.4117, Relative RMSE: 0.0846\n",
      "Params: {'n_estimators': 100, 'max_depth': 7, 'learning_rate': 0.3, 'subsample': 0.7, 'colsample_bytree': 1, 'gamma': 0.1, 'reg_alpha': 0, 'reg_lambda': 0.1} => RMSE: 3034234.7125, Relative RMSE: 0.0801\n",
      "Params: {'n_estimators': 100, 'max_depth': 7, 'learning_rate': 0.3, 'subsample': 0.7, 'colsample_bytree': 1, 'gamma': 0.1, 'reg_alpha': 0, 'reg_lambda': 0.3} => RMSE: 3148154.4112, Relative RMSE: 0.0832\n",
      "Params: {'n_estimators': 100, 'max_depth': 7, 'learning_rate': 0.3, 'subsample': 0.7, 'colsample_bytree': 1, 'gamma': 0.1, 'reg_alpha': 0.1, 'reg_lambda': 0} => RMSE: 3203737.2624, Relative RMSE: 0.0846\n",
      "Params: {'n_estimators': 100, 'max_depth': 7, 'learning_rate': 0.3, 'subsample': 0.7, 'colsample_bytree': 1, 'gamma': 0.1, 'reg_alpha': 0.1, 'reg_lambda': 0.1} => RMSE: 3034237.2419, Relative RMSE: 0.0801\n",
      "Params: {'n_estimators': 100, 'max_depth': 7, 'learning_rate': 0.3, 'subsample': 0.7, 'colsample_bytree': 1, 'gamma': 0.1, 'reg_alpha': 0.1, 'reg_lambda': 0.3} => RMSE: 3148188.7446, Relative RMSE: 0.0832\n",
      "Params: {'n_estimators': 100, 'max_depth': 7, 'learning_rate': 0.3, 'subsample': 0.7, 'colsample_bytree': 1, 'gamma': 0.1, 'reg_alpha': 0.3, 'reg_lambda': 0} => RMSE: 3203807.2294, Relative RMSE: 0.0846\n",
      "Params: {'n_estimators': 100, 'max_depth': 7, 'learning_rate': 0.3, 'subsample': 0.7, 'colsample_bytree': 1, 'gamma': 0.1, 'reg_alpha': 0.3, 'reg_lambda': 0.1} => RMSE: 3034232.7325, Relative RMSE: 0.0801\n",
      "Params: {'n_estimators': 100, 'max_depth': 7, 'learning_rate': 0.3, 'subsample': 0.7, 'colsample_bytree': 1, 'gamma': 0.1, 'reg_alpha': 0.3, 'reg_lambda': 0.3} => RMSE: 3148188.0740, Relative RMSE: 0.0832\n",
      "Params: {'n_estimators': 100, 'max_depth': 7, 'learning_rate': 0.3, 'subsample': 0.7, 'colsample_bytree': 1, 'gamma': 0.3, 'reg_alpha': 0, 'reg_lambda': 0} => RMSE: 3203802.4117, Relative RMSE: 0.0846\n",
      "Params: {'n_estimators': 100, 'max_depth': 7, 'learning_rate': 0.3, 'subsample': 0.7, 'colsample_bytree': 1, 'gamma': 0.3, 'reg_alpha': 0, 'reg_lambda': 0.1} => RMSE: 3034234.7125, Relative RMSE: 0.0801\n",
      "Params: {'n_estimators': 100, 'max_depth': 7, 'learning_rate': 0.3, 'subsample': 0.7, 'colsample_bytree': 1, 'gamma': 0.3, 'reg_alpha': 0, 'reg_lambda': 0.3} => RMSE: 3148154.4112, Relative RMSE: 0.0832\n",
      "Params: {'n_estimators': 100, 'max_depth': 7, 'learning_rate': 0.3, 'subsample': 0.7, 'colsample_bytree': 1, 'gamma': 0.3, 'reg_alpha': 0.1, 'reg_lambda': 0} => RMSE: 3203737.2624, Relative RMSE: 0.0846\n",
      "Params: {'n_estimators': 100, 'max_depth': 7, 'learning_rate': 0.3, 'subsample': 0.7, 'colsample_bytree': 1, 'gamma': 0.3, 'reg_alpha': 0.1, 'reg_lambda': 0.1} => RMSE: 3034237.2419, Relative RMSE: 0.0801\n",
      "Params: {'n_estimators': 100, 'max_depth': 7, 'learning_rate': 0.3, 'subsample': 0.7, 'colsample_bytree': 1, 'gamma': 0.3, 'reg_alpha': 0.1, 'reg_lambda': 0.3} => RMSE: 3148190.6730, Relative RMSE: 0.0832\n",
      "Params: {'n_estimators': 100, 'max_depth': 7, 'learning_rate': 0.3, 'subsample': 0.7, 'colsample_bytree': 1, 'gamma': 0.3, 'reg_alpha': 0.3, 'reg_lambda': 0} => RMSE: 3203807.2294, Relative RMSE: 0.0846\n",
      "Params: {'n_estimators': 100, 'max_depth': 7, 'learning_rate': 0.3, 'subsample': 0.7, 'colsample_bytree': 1, 'gamma': 0.3, 'reg_alpha': 0.3, 'reg_lambda': 0.1} => RMSE: 3034232.7325, Relative RMSE: 0.0801\n",
      "Params: {'n_estimators': 100, 'max_depth': 7, 'learning_rate': 0.3, 'subsample': 0.7, 'colsample_bytree': 1, 'gamma': 0.3, 'reg_alpha': 0.3, 'reg_lambda': 0.3} => RMSE: 3148188.0740, Relative RMSE: 0.0832\n",
      "Params: {'n_estimators': 200, 'max_depth': 5, 'learning_rate': 0.01, 'subsample': 0.5, 'colsample_bytree': 0.5, 'gamma': 0, 'reg_alpha': 0, 'reg_lambda': 0} => RMSE: 3029153.3596, Relative RMSE: 0.0800\n",
      "Params: {'n_estimators': 200, 'max_depth': 5, 'learning_rate': 0.01, 'subsample': 0.5, 'colsample_bytree': 0.5, 'gamma': 0, 'reg_alpha': 0, 'reg_lambda': 0.1} => RMSE: 3067394.1445, Relative RMSE: 0.0810\n",
      "Params: {'n_estimators': 200, 'max_depth': 5, 'learning_rate': 0.01, 'subsample': 0.5, 'colsample_bytree': 0.5, 'gamma': 0, 'reg_alpha': 0, 'reg_lambda': 0.3} => RMSE: 3187028.6485, Relative RMSE: 0.0842\n",
      "Params: {'n_estimators': 200, 'max_depth': 5, 'learning_rate': 0.01, 'subsample': 0.5, 'colsample_bytree': 0.5, 'gamma': 0, 'reg_alpha': 0.1, 'reg_lambda': 0} => RMSE: 3029153.4035, Relative RMSE: 0.0800\n",
      "Params: {'n_estimators': 200, 'max_depth': 5, 'learning_rate': 0.01, 'subsample': 0.5, 'colsample_bytree': 0.5, 'gamma': 0, 'reg_alpha': 0.1, 'reg_lambda': 0.1} => RMSE: 3067394.1445, Relative RMSE: 0.0810\n",
      "Params: {'n_estimators': 200, 'max_depth': 5, 'learning_rate': 0.01, 'subsample': 0.5, 'colsample_bytree': 0.5, 'gamma': 0, 'reg_alpha': 0.1, 'reg_lambda': 0.3} => RMSE: 3187029.4435, Relative RMSE: 0.0842\n",
      "Params: {'n_estimators': 200, 'max_depth': 5, 'learning_rate': 0.01, 'subsample': 0.5, 'colsample_bytree': 0.5, 'gamma': 0, 'reg_alpha': 0.3, 'reg_lambda': 0} => RMSE: 3029153.1911, Relative RMSE: 0.0800\n",
      "Params: {'n_estimators': 200, 'max_depth': 5, 'learning_rate': 0.01, 'subsample': 0.5, 'colsample_bytree': 0.5, 'gamma': 0, 'reg_alpha': 0.3, 'reg_lambda': 0.1} => RMSE: 3067394.1445, Relative RMSE: 0.0810\n",
      "Params: {'n_estimators': 200, 'max_depth': 5, 'learning_rate': 0.01, 'subsample': 0.5, 'colsample_bytree': 0.5, 'gamma': 0, 'reg_alpha': 0.3, 'reg_lambda': 0.3} => RMSE: 3187029.0585, Relative RMSE: 0.0842\n",
      "Params: {'n_estimators': 200, 'max_depth': 5, 'learning_rate': 0.01, 'subsample': 0.5, 'colsample_bytree': 0.5, 'gamma': 0.1, 'reg_alpha': 0, 'reg_lambda': 0} => RMSE: 3029153.3596, Relative RMSE: 0.0800\n",
      "Params: {'n_estimators': 200, 'max_depth': 5, 'learning_rate': 0.01, 'subsample': 0.5, 'colsample_bytree': 0.5, 'gamma': 0.1, 'reg_alpha': 0, 'reg_lambda': 0.1} => RMSE: 3067394.1445, Relative RMSE: 0.0810\n",
      "Params: {'n_estimators': 200, 'max_depth': 5, 'learning_rate': 0.01, 'subsample': 0.5, 'colsample_bytree': 0.5, 'gamma': 0.1, 'reg_alpha': 0, 'reg_lambda': 0.3} => RMSE: 3187028.6485, Relative RMSE: 0.0842\n",
      "Params: {'n_estimators': 200, 'max_depth': 5, 'learning_rate': 0.01, 'subsample': 0.5, 'colsample_bytree': 0.5, 'gamma': 0.1, 'reg_alpha': 0.1, 'reg_lambda': 0} => RMSE: 3029153.4035, Relative RMSE: 0.0800\n",
      "Params: {'n_estimators': 200, 'max_depth': 5, 'learning_rate': 0.01, 'subsample': 0.5, 'colsample_bytree': 0.5, 'gamma': 0.1, 'reg_alpha': 0.1, 'reg_lambda': 0.1} => RMSE: 3067394.1445, Relative RMSE: 0.0810\n",
      "Params: {'n_estimators': 200, 'max_depth': 5, 'learning_rate': 0.01, 'subsample': 0.5, 'colsample_bytree': 0.5, 'gamma': 0.1, 'reg_alpha': 0.1, 'reg_lambda': 0.3} => RMSE: 3187029.4435, Relative RMSE: 0.0842\n",
      "Params: {'n_estimators': 200, 'max_depth': 5, 'learning_rate': 0.01, 'subsample': 0.5, 'colsample_bytree': 0.5, 'gamma': 0.1, 'reg_alpha': 0.3, 'reg_lambda': 0} => RMSE: 3029153.1911, Relative RMSE: 0.0800\n",
      "Params: {'n_estimators': 200, 'max_depth': 5, 'learning_rate': 0.01, 'subsample': 0.5, 'colsample_bytree': 0.5, 'gamma': 0.1, 'reg_alpha': 0.3, 'reg_lambda': 0.1} => RMSE: 3067394.1445, Relative RMSE: 0.0810\n",
      "Params: {'n_estimators': 200, 'max_depth': 5, 'learning_rate': 0.01, 'subsample': 0.5, 'colsample_bytree': 0.5, 'gamma': 0.1, 'reg_alpha': 0.3, 'reg_lambda': 0.3} => RMSE: 3187029.0585, Relative RMSE: 0.0842\n",
      "Params: {'n_estimators': 200, 'max_depth': 5, 'learning_rate': 0.01, 'subsample': 0.5, 'colsample_bytree': 0.5, 'gamma': 0.3, 'reg_alpha': 0, 'reg_lambda': 0} => RMSE: 3029153.3596, Relative RMSE: 0.0800\n",
      "Params: {'n_estimators': 200, 'max_depth': 5, 'learning_rate': 0.01, 'subsample': 0.5, 'colsample_bytree': 0.5, 'gamma': 0.3, 'reg_alpha': 0, 'reg_lambda': 0.1} => RMSE: 3067394.1445, Relative RMSE: 0.0810\n",
      "Params: {'n_estimators': 200, 'max_depth': 5, 'learning_rate': 0.01, 'subsample': 0.5, 'colsample_bytree': 0.5, 'gamma': 0.3, 'reg_alpha': 0, 'reg_lambda': 0.3} => RMSE: 3187028.6485, Relative RMSE: 0.0842\n",
      "Params: {'n_estimators': 200, 'max_depth': 5, 'learning_rate': 0.01, 'subsample': 0.5, 'colsample_bytree': 0.5, 'gamma': 0.3, 'reg_alpha': 0.1, 'reg_lambda': 0} => RMSE: 3029153.4035, Relative RMSE: 0.0800\n",
      "Params: {'n_estimators': 200, 'max_depth': 5, 'learning_rate': 0.01, 'subsample': 0.5, 'colsample_bytree': 0.5, 'gamma': 0.3, 'reg_alpha': 0.1, 'reg_lambda': 0.1} => RMSE: 3067394.1445, Relative RMSE: 0.0810\n",
      "Params: {'n_estimators': 200, 'max_depth': 5, 'learning_rate': 0.01, 'subsample': 0.5, 'colsample_bytree': 0.5, 'gamma': 0.3, 'reg_alpha': 0.1, 'reg_lambda': 0.3} => RMSE: 3187029.4435, Relative RMSE: 0.0842\n",
      "Params: {'n_estimators': 200, 'max_depth': 5, 'learning_rate': 0.01, 'subsample': 0.5, 'colsample_bytree': 0.5, 'gamma': 0.3, 'reg_alpha': 0.3, 'reg_lambda': 0} => RMSE: 3029153.1911, Relative RMSE: 0.0800\n",
      "Params: {'n_estimators': 200, 'max_depth': 5, 'learning_rate': 0.01, 'subsample': 0.5, 'colsample_bytree': 0.5, 'gamma': 0.3, 'reg_alpha': 0.3, 'reg_lambda': 0.1} => RMSE: 3067394.1445, Relative RMSE: 0.0810\n",
      "Params: {'n_estimators': 200, 'max_depth': 5, 'learning_rate': 0.01, 'subsample': 0.5, 'colsample_bytree': 0.5, 'gamma': 0.3, 'reg_alpha': 0.3, 'reg_lambda': 0.3} => RMSE: 3187029.0585, Relative RMSE: 0.0842\n",
      "Params: {'n_estimators': 200, 'max_depth': 5, 'learning_rate': 0.01, 'subsample': 0.5, 'colsample_bytree': 0.7, 'gamma': 0, 'reg_alpha': 0, 'reg_lambda': 0} => RMSE: 2985738.8785, Relative RMSE: 0.0789\n",
      "Params: {'n_estimators': 200, 'max_depth': 5, 'learning_rate': 0.01, 'subsample': 0.5, 'colsample_bytree': 0.7, 'gamma': 0, 'reg_alpha': 0, 'reg_lambda': 0.1} => RMSE: 3026820.9347, Relative RMSE: 0.0800\n",
      "Params: {'n_estimators': 200, 'max_depth': 5, 'learning_rate': 0.01, 'subsample': 0.5, 'colsample_bytree': 0.7, 'gamma': 0, 'reg_alpha': 0, 'reg_lambda': 0.3} => RMSE: 3171671.1934, Relative RMSE: 0.0838\n",
      "Params: {'n_estimators': 200, 'max_depth': 5, 'learning_rate': 0.01, 'subsample': 0.5, 'colsample_bytree': 0.7, 'gamma': 0, 'reg_alpha': 0.1, 'reg_lambda': 0} => RMSE: 2985738.2926, Relative RMSE: 0.0789\n",
      "Params: {'n_estimators': 200, 'max_depth': 5, 'learning_rate': 0.01, 'subsample': 0.5, 'colsample_bytree': 0.7, 'gamma': 0, 'reg_alpha': 0.1, 'reg_lambda': 0.1} => RMSE: 3026821.0589, Relative RMSE: 0.0800\n",
      "Params: {'n_estimators': 200, 'max_depth': 5, 'learning_rate': 0.01, 'subsample': 0.5, 'colsample_bytree': 0.7, 'gamma': 0, 'reg_alpha': 0.1, 'reg_lambda': 0.3} => RMSE: 3171670.3454, Relative RMSE: 0.0838\n",
      "Params: {'n_estimators': 200, 'max_depth': 5, 'learning_rate': 0.01, 'subsample': 0.5, 'colsample_bytree': 0.7, 'gamma': 0, 'reg_alpha': 0.3, 'reg_lambda': 0} => RMSE: 2985741.5076, Relative RMSE: 0.0789\n",
      "Params: {'n_estimators': 200, 'max_depth': 5, 'learning_rate': 0.01, 'subsample': 0.5, 'colsample_bytree': 0.7, 'gamma': 0, 'reg_alpha': 0.3, 'reg_lambda': 0.1} => RMSE: 3026821.1601, Relative RMSE: 0.0800\n",
      "Params: {'n_estimators': 200, 'max_depth': 5, 'learning_rate': 0.01, 'subsample': 0.5, 'colsample_bytree': 0.7, 'gamma': 0, 'reg_alpha': 0.3, 'reg_lambda': 0.3} => RMSE: 3171670.5668, Relative RMSE: 0.0838\n",
      "Params: {'n_estimators': 200, 'max_depth': 5, 'learning_rate': 0.01, 'subsample': 0.5, 'colsample_bytree': 0.7, 'gamma': 0.1, 'reg_alpha': 0, 'reg_lambda': 0} => RMSE: 2985738.8785, Relative RMSE: 0.0789\n",
      "Params: {'n_estimators': 200, 'max_depth': 5, 'learning_rate': 0.01, 'subsample': 0.5, 'colsample_bytree': 0.7, 'gamma': 0.1, 'reg_alpha': 0, 'reg_lambda': 0.1} => RMSE: 3026820.9347, Relative RMSE: 0.0800\n",
      "Params: {'n_estimators': 200, 'max_depth': 5, 'learning_rate': 0.01, 'subsample': 0.5, 'colsample_bytree': 0.7, 'gamma': 0.1, 'reg_alpha': 0, 'reg_lambda': 0.3} => RMSE: 3171671.1934, Relative RMSE: 0.0838\n",
      "Params: {'n_estimators': 200, 'max_depth': 5, 'learning_rate': 0.01, 'subsample': 0.5, 'colsample_bytree': 0.7, 'gamma': 0.1, 'reg_alpha': 0.1, 'reg_lambda': 0} => RMSE: 2985738.2926, Relative RMSE: 0.0789\n",
      "Params: {'n_estimators': 200, 'max_depth': 5, 'learning_rate': 0.01, 'subsample': 0.5, 'colsample_bytree': 0.7, 'gamma': 0.1, 'reg_alpha': 0.1, 'reg_lambda': 0.1} => RMSE: 3026821.0589, Relative RMSE: 0.0800\n",
      "Params: {'n_estimators': 200, 'max_depth': 5, 'learning_rate': 0.01, 'subsample': 0.5, 'colsample_bytree': 0.7, 'gamma': 0.1, 'reg_alpha': 0.1, 'reg_lambda': 0.3} => RMSE: 3171670.3454, Relative RMSE: 0.0838\n",
      "Params: {'n_estimators': 200, 'max_depth': 5, 'learning_rate': 0.01, 'subsample': 0.5, 'colsample_bytree': 0.7, 'gamma': 0.1, 'reg_alpha': 0.3, 'reg_lambda': 0} => RMSE: 2985741.5076, Relative RMSE: 0.0789\n",
      "Params: {'n_estimators': 200, 'max_depth': 5, 'learning_rate': 0.01, 'subsample': 0.5, 'colsample_bytree': 0.7, 'gamma': 0.1, 'reg_alpha': 0.3, 'reg_lambda': 0.1} => RMSE: 3026821.1601, Relative RMSE: 0.0800\n",
      "Params: {'n_estimators': 200, 'max_depth': 5, 'learning_rate': 0.01, 'subsample': 0.5, 'colsample_bytree': 0.7, 'gamma': 0.1, 'reg_alpha': 0.3, 'reg_lambda': 0.3} => RMSE: 3171670.5668, Relative RMSE: 0.0838\n",
      "Params: {'n_estimators': 200, 'max_depth': 5, 'learning_rate': 0.01, 'subsample': 0.5, 'colsample_bytree': 0.7, 'gamma': 0.3, 'reg_alpha': 0, 'reg_lambda': 0} => RMSE: 2985738.8785, Relative RMSE: 0.0789\n",
      "Params: {'n_estimators': 200, 'max_depth': 5, 'learning_rate': 0.01, 'subsample': 0.5, 'colsample_bytree': 0.7, 'gamma': 0.3, 'reg_alpha': 0, 'reg_lambda': 0.1} => RMSE: 3026820.9347, Relative RMSE: 0.0800\n",
      "Params: {'n_estimators': 200, 'max_depth': 5, 'learning_rate': 0.01, 'subsample': 0.5, 'colsample_bytree': 0.7, 'gamma': 0.3, 'reg_alpha': 0, 'reg_lambda': 0.3} => RMSE: 3171671.1934, Relative RMSE: 0.0838\n",
      "Params: {'n_estimators': 200, 'max_depth': 5, 'learning_rate': 0.01, 'subsample': 0.5, 'colsample_bytree': 0.7, 'gamma': 0.3, 'reg_alpha': 0.1, 'reg_lambda': 0} => RMSE: 2985738.2926, Relative RMSE: 0.0789\n",
      "Params: {'n_estimators': 200, 'max_depth': 5, 'learning_rate': 0.01, 'subsample': 0.5, 'colsample_bytree': 0.7, 'gamma': 0.3, 'reg_alpha': 0.1, 'reg_lambda': 0.1} => RMSE: 3026821.0589, Relative RMSE: 0.0800\n",
      "Params: {'n_estimators': 200, 'max_depth': 5, 'learning_rate': 0.01, 'subsample': 0.5, 'colsample_bytree': 0.7, 'gamma': 0.3, 'reg_alpha': 0.1, 'reg_lambda': 0.3} => RMSE: 3171670.3454, Relative RMSE: 0.0838\n",
      "Params: {'n_estimators': 200, 'max_depth': 5, 'learning_rate': 0.01, 'subsample': 0.5, 'colsample_bytree': 0.7, 'gamma': 0.3, 'reg_alpha': 0.3, 'reg_lambda': 0} => RMSE: 2985741.5076, Relative RMSE: 0.0789\n",
      "Params: {'n_estimators': 200, 'max_depth': 5, 'learning_rate': 0.01, 'subsample': 0.5, 'colsample_bytree': 0.7, 'gamma': 0.3, 'reg_alpha': 0.3, 'reg_lambda': 0.1} => RMSE: 3026821.1601, Relative RMSE: 0.0800\n",
      "Params: {'n_estimators': 200, 'max_depth': 5, 'learning_rate': 0.01, 'subsample': 0.5, 'colsample_bytree': 0.7, 'gamma': 0.3, 'reg_alpha': 0.3, 'reg_lambda': 0.3} => RMSE: 3171670.5668, Relative RMSE: 0.0838\n",
      "Params: {'n_estimators': 200, 'max_depth': 5, 'learning_rate': 0.01, 'subsample': 0.5, 'colsample_bytree': 1, 'gamma': 0, 'reg_alpha': 0, 'reg_lambda': 0} => RMSE: 2700167.4503, Relative RMSE: 0.0713\n",
      "Params: {'n_estimators': 200, 'max_depth': 5, 'learning_rate': 0.01, 'subsample': 0.5, 'colsample_bytree': 1, 'gamma': 0, 'reg_alpha': 0, 'reg_lambda': 0.1} => RMSE: 2739934.0122, Relative RMSE: 0.0724\n",
      "Params: {'n_estimators': 200, 'max_depth': 5, 'learning_rate': 0.01, 'subsample': 0.5, 'colsample_bytree': 1, 'gamma': 0, 'reg_alpha': 0, 'reg_lambda': 0.3} => RMSE: 2865838.0607, Relative RMSE: 0.0757\n",
      "Params: {'n_estimators': 200, 'max_depth': 5, 'learning_rate': 0.01, 'subsample': 0.5, 'colsample_bytree': 1, 'gamma': 0, 'reg_alpha': 0.1, 'reg_lambda': 0} => RMSE: 2700165.7026, Relative RMSE: 0.0713\n",
      "Params: {'n_estimators': 200, 'max_depth': 5, 'learning_rate': 0.01, 'subsample': 0.5, 'colsample_bytree': 1, 'gamma': 0, 'reg_alpha': 0.1, 'reg_lambda': 0.1} => RMSE: 2739932.8595, Relative RMSE: 0.0724\n",
      "Params: {'n_estimators': 200, 'max_depth': 5, 'learning_rate': 0.01, 'subsample': 0.5, 'colsample_bytree': 1, 'gamma': 0, 'reg_alpha': 0.1, 'reg_lambda': 0.3} => RMSE: 2865838.0607, Relative RMSE: 0.0757\n",
      "Params: {'n_estimators': 200, 'max_depth': 5, 'learning_rate': 0.01, 'subsample': 0.5, 'colsample_bytree': 1, 'gamma': 0, 'reg_alpha': 0.3, 'reg_lambda': 0} => RMSE: 2700166.5631, Relative RMSE: 0.0713\n",
      "Params: {'n_estimators': 200, 'max_depth': 5, 'learning_rate': 0.01, 'subsample': 0.5, 'colsample_bytree': 1, 'gamma': 0, 'reg_alpha': 0.3, 'reg_lambda': 0.1} => RMSE: 2739933.1299, Relative RMSE: 0.0724\n",
      "Params: {'n_estimators': 200, 'max_depth': 5, 'learning_rate': 0.01, 'subsample': 0.5, 'colsample_bytree': 1, 'gamma': 0, 'reg_alpha': 0.3, 'reg_lambda': 0.3} => RMSE: 2865838.0607, Relative RMSE: 0.0757\n",
      "Params: {'n_estimators': 200, 'max_depth': 5, 'learning_rate': 0.01, 'subsample': 0.5, 'colsample_bytree': 1, 'gamma': 0.1, 'reg_alpha': 0, 'reg_lambda': 0} => RMSE: 2700167.4503, Relative RMSE: 0.0713\n",
      "Params: {'n_estimators': 200, 'max_depth': 5, 'learning_rate': 0.01, 'subsample': 0.5, 'colsample_bytree': 1, 'gamma': 0.1, 'reg_alpha': 0, 'reg_lambda': 0.1} => RMSE: 2739934.0122, Relative RMSE: 0.0724\n",
      "Params: {'n_estimators': 200, 'max_depth': 5, 'learning_rate': 0.01, 'subsample': 0.5, 'colsample_bytree': 1, 'gamma': 0.1, 'reg_alpha': 0, 'reg_lambda': 0.3} => RMSE: 2865838.0607, Relative RMSE: 0.0757\n",
      "Params: {'n_estimators': 200, 'max_depth': 5, 'learning_rate': 0.01, 'subsample': 0.5, 'colsample_bytree': 1, 'gamma': 0.1, 'reg_alpha': 0.1, 'reg_lambda': 0} => RMSE: 2700165.7026, Relative RMSE: 0.0713\n",
      "Params: {'n_estimators': 200, 'max_depth': 5, 'learning_rate': 0.01, 'subsample': 0.5, 'colsample_bytree': 1, 'gamma': 0.1, 'reg_alpha': 0.1, 'reg_lambda': 0.1} => RMSE: 2739932.8595, Relative RMSE: 0.0724\n",
      "Params: {'n_estimators': 200, 'max_depth': 5, 'learning_rate': 0.01, 'subsample': 0.5, 'colsample_bytree': 1, 'gamma': 0.1, 'reg_alpha': 0.1, 'reg_lambda': 0.3} => RMSE: 2865838.0607, Relative RMSE: 0.0757\n",
      "Params: {'n_estimators': 200, 'max_depth': 5, 'learning_rate': 0.01, 'subsample': 0.5, 'colsample_bytree': 1, 'gamma': 0.1, 'reg_alpha': 0.3, 'reg_lambda': 0} => RMSE: 2700166.5631, Relative RMSE: 0.0713\n",
      "Params: {'n_estimators': 200, 'max_depth': 5, 'learning_rate': 0.01, 'subsample': 0.5, 'colsample_bytree': 1, 'gamma': 0.1, 'reg_alpha': 0.3, 'reg_lambda': 0.1} => RMSE: 2739933.1299, Relative RMSE: 0.0724\n",
      "Params: {'n_estimators': 200, 'max_depth': 5, 'learning_rate': 0.01, 'subsample': 0.5, 'colsample_bytree': 1, 'gamma': 0.1, 'reg_alpha': 0.3, 'reg_lambda': 0.3} => RMSE: 2865838.0607, Relative RMSE: 0.0757\n",
      "Params: {'n_estimators': 200, 'max_depth': 5, 'learning_rate': 0.01, 'subsample': 0.5, 'colsample_bytree': 1, 'gamma': 0.3, 'reg_alpha': 0, 'reg_lambda': 0} => RMSE: 2700167.4503, Relative RMSE: 0.0713\n",
      "Params: {'n_estimators': 200, 'max_depth': 5, 'learning_rate': 0.01, 'subsample': 0.5, 'colsample_bytree': 1, 'gamma': 0.3, 'reg_alpha': 0, 'reg_lambda': 0.1} => RMSE: 2739934.0122, Relative RMSE: 0.0724\n",
      "Params: {'n_estimators': 200, 'max_depth': 5, 'learning_rate': 0.01, 'subsample': 0.5, 'colsample_bytree': 1, 'gamma': 0.3, 'reg_alpha': 0, 'reg_lambda': 0.3} => RMSE: 2865838.0607, Relative RMSE: 0.0757\n",
      "Params: {'n_estimators': 200, 'max_depth': 5, 'learning_rate': 0.01, 'subsample': 0.5, 'colsample_bytree': 1, 'gamma': 0.3, 'reg_alpha': 0.1, 'reg_lambda': 0} => RMSE: 2700165.7026, Relative RMSE: 0.0713\n",
      "Params: {'n_estimators': 200, 'max_depth': 5, 'learning_rate': 0.01, 'subsample': 0.5, 'colsample_bytree': 1, 'gamma': 0.3, 'reg_alpha': 0.1, 'reg_lambda': 0.1} => RMSE: 2739932.8595, Relative RMSE: 0.0724\n",
      "Params: {'n_estimators': 200, 'max_depth': 5, 'learning_rate': 0.01, 'subsample': 0.5, 'colsample_bytree': 1, 'gamma': 0.3, 'reg_alpha': 0.1, 'reg_lambda': 0.3} => RMSE: 2865838.0607, Relative RMSE: 0.0757\n",
      "Params: {'n_estimators': 200, 'max_depth': 5, 'learning_rate': 0.01, 'subsample': 0.5, 'colsample_bytree': 1, 'gamma': 0.3, 'reg_alpha': 0.3, 'reg_lambda': 0} => RMSE: 2700166.5631, Relative RMSE: 0.0713\n",
      "Params: {'n_estimators': 200, 'max_depth': 5, 'learning_rate': 0.01, 'subsample': 0.5, 'colsample_bytree': 1, 'gamma': 0.3, 'reg_alpha': 0.3, 'reg_lambda': 0.1} => RMSE: 2739933.1299, Relative RMSE: 0.0724\n",
      "Params: {'n_estimators': 200, 'max_depth': 5, 'learning_rate': 0.01, 'subsample': 0.5, 'colsample_bytree': 1, 'gamma': 0.3, 'reg_alpha': 0.3, 'reg_lambda': 0.3} => RMSE: 2865838.0607, Relative RMSE: 0.0757\n",
      "Params: {'n_estimators': 200, 'max_depth': 5, 'learning_rate': 0.01, 'subsample': 0.7, 'colsample_bytree': 0.5, 'gamma': 0, 'reg_alpha': 0, 'reg_lambda': 0} => RMSE: 3016965.0920, Relative RMSE: 0.0797\n",
      "Params: {'n_estimators': 200, 'max_depth': 5, 'learning_rate': 0.01, 'subsample': 0.7, 'colsample_bytree': 0.5, 'gamma': 0, 'reg_alpha': 0, 'reg_lambda': 0.1} => RMSE: 3047734.4009, Relative RMSE: 0.0805\n",
      "Params: {'n_estimators': 200, 'max_depth': 5, 'learning_rate': 0.01, 'subsample': 0.7, 'colsample_bytree': 0.5, 'gamma': 0, 'reg_alpha': 0, 'reg_lambda': 0.3} => RMSE: 3089470.0952, Relative RMSE: 0.0816\n",
      "Params: {'n_estimators': 200, 'max_depth': 5, 'learning_rate': 0.01, 'subsample': 0.7, 'colsample_bytree': 0.5, 'gamma': 0, 'reg_alpha': 0.1, 'reg_lambda': 0} => RMSE: 3016965.6348, Relative RMSE: 0.0797\n",
      "Params: {'n_estimators': 200, 'max_depth': 5, 'learning_rate': 0.01, 'subsample': 0.7, 'colsample_bytree': 0.5, 'gamma': 0, 'reg_alpha': 0.1, 'reg_lambda': 0.1} => RMSE: 3047734.7467, Relative RMSE: 0.0805\n",
      "Params: {'n_estimators': 200, 'max_depth': 5, 'learning_rate': 0.01, 'subsample': 0.7, 'colsample_bytree': 0.5, 'gamma': 0, 'reg_alpha': 0.1, 'reg_lambda': 0.3} => RMSE: 3089469.6029, Relative RMSE: 0.0816\n",
      "Params: {'n_estimators': 200, 'max_depth': 5, 'learning_rate': 0.01, 'subsample': 0.7, 'colsample_bytree': 0.5, 'gamma': 0, 'reg_alpha': 0.3, 'reg_lambda': 0} => RMSE: 3016965.4836, Relative RMSE: 0.0797\n",
      "Params: {'n_estimators': 200, 'max_depth': 5, 'learning_rate': 0.01, 'subsample': 0.7, 'colsample_bytree': 0.5, 'gamma': 0, 'reg_alpha': 0.3, 'reg_lambda': 0.1} => RMSE: 3047734.7467, Relative RMSE: 0.0805\n",
      "Params: {'n_estimators': 200, 'max_depth': 5, 'learning_rate': 0.01, 'subsample': 0.7, 'colsample_bytree': 0.5, 'gamma': 0, 'reg_alpha': 0.3, 'reg_lambda': 0.3} => RMSE: 3089470.5259, Relative RMSE: 0.0816\n",
      "Params: {'n_estimators': 200, 'max_depth': 5, 'learning_rate': 0.01, 'subsample': 0.7, 'colsample_bytree': 0.5, 'gamma': 0.1, 'reg_alpha': 0, 'reg_lambda': 0} => RMSE: 3016965.0920, Relative RMSE: 0.0797\n",
      "Params: {'n_estimators': 200, 'max_depth': 5, 'learning_rate': 0.01, 'subsample': 0.7, 'colsample_bytree': 0.5, 'gamma': 0.1, 'reg_alpha': 0, 'reg_lambda': 0.1} => RMSE: 3047734.4009, Relative RMSE: 0.0805\n",
      "Params: {'n_estimators': 200, 'max_depth': 5, 'learning_rate': 0.01, 'subsample': 0.7, 'colsample_bytree': 0.5, 'gamma': 0.1, 'reg_alpha': 0, 'reg_lambda': 0.3} => RMSE: 3089470.0952, Relative RMSE: 0.0816\n",
      "Params: {'n_estimators': 200, 'max_depth': 5, 'learning_rate': 0.01, 'subsample': 0.7, 'colsample_bytree': 0.5, 'gamma': 0.1, 'reg_alpha': 0.1, 'reg_lambda': 0} => RMSE: 3016965.6348, Relative RMSE: 0.0797\n",
      "Params: {'n_estimators': 200, 'max_depth': 5, 'learning_rate': 0.01, 'subsample': 0.7, 'colsample_bytree': 0.5, 'gamma': 0.1, 'reg_alpha': 0.1, 'reg_lambda': 0.1} => RMSE: 3047734.7467, Relative RMSE: 0.0805\n",
      "Params: {'n_estimators': 200, 'max_depth': 5, 'learning_rate': 0.01, 'subsample': 0.7, 'colsample_bytree': 0.5, 'gamma': 0.1, 'reg_alpha': 0.1, 'reg_lambda': 0.3} => RMSE: 3089469.6029, Relative RMSE: 0.0816\n",
      "Params: {'n_estimators': 200, 'max_depth': 5, 'learning_rate': 0.01, 'subsample': 0.7, 'colsample_bytree': 0.5, 'gamma': 0.1, 'reg_alpha': 0.3, 'reg_lambda': 0} => RMSE: 3016965.4836, Relative RMSE: 0.0797\n",
      "Params: {'n_estimators': 200, 'max_depth': 5, 'learning_rate': 0.01, 'subsample': 0.7, 'colsample_bytree': 0.5, 'gamma': 0.1, 'reg_alpha': 0.3, 'reg_lambda': 0.1} => RMSE: 3047734.7467, Relative RMSE: 0.0805\n",
      "Params: {'n_estimators': 200, 'max_depth': 5, 'learning_rate': 0.01, 'subsample': 0.7, 'colsample_bytree': 0.5, 'gamma': 0.1, 'reg_alpha': 0.3, 'reg_lambda': 0.3} => RMSE: 3089470.5259, Relative RMSE: 0.0816\n",
      "Params: {'n_estimators': 200, 'max_depth': 5, 'learning_rate': 0.01, 'subsample': 0.7, 'colsample_bytree': 0.5, 'gamma': 0.3, 'reg_alpha': 0, 'reg_lambda': 0} => RMSE: 3016965.0920, Relative RMSE: 0.0797\n",
      "Params: {'n_estimators': 200, 'max_depth': 5, 'learning_rate': 0.01, 'subsample': 0.7, 'colsample_bytree': 0.5, 'gamma': 0.3, 'reg_alpha': 0, 'reg_lambda': 0.1} => RMSE: 3047734.4009, Relative RMSE: 0.0805\n",
      "Params: {'n_estimators': 200, 'max_depth': 5, 'learning_rate': 0.01, 'subsample': 0.7, 'colsample_bytree': 0.5, 'gamma': 0.3, 'reg_alpha': 0, 'reg_lambda': 0.3} => RMSE: 3089470.0952, Relative RMSE: 0.0816\n",
      "Params: {'n_estimators': 200, 'max_depth': 5, 'learning_rate': 0.01, 'subsample': 0.7, 'colsample_bytree': 0.5, 'gamma': 0.3, 'reg_alpha': 0.1, 'reg_lambda': 0} => RMSE: 3016965.6348, Relative RMSE: 0.0797\n",
      "Params: {'n_estimators': 200, 'max_depth': 5, 'learning_rate': 0.01, 'subsample': 0.7, 'colsample_bytree': 0.5, 'gamma': 0.3, 'reg_alpha': 0.1, 'reg_lambda': 0.1} => RMSE: 3047734.7467, Relative RMSE: 0.0805\n",
      "Params: {'n_estimators': 200, 'max_depth': 5, 'learning_rate': 0.01, 'subsample': 0.7, 'colsample_bytree': 0.5, 'gamma': 0.3, 'reg_alpha': 0.1, 'reg_lambda': 0.3} => RMSE: 3089469.6029, Relative RMSE: 0.0816\n",
      "Params: {'n_estimators': 200, 'max_depth': 5, 'learning_rate': 0.01, 'subsample': 0.7, 'colsample_bytree': 0.5, 'gamma': 0.3, 'reg_alpha': 0.3, 'reg_lambda': 0} => RMSE: 3016965.4836, Relative RMSE: 0.0797\n",
      "Params: {'n_estimators': 200, 'max_depth': 5, 'learning_rate': 0.01, 'subsample': 0.7, 'colsample_bytree': 0.5, 'gamma': 0.3, 'reg_alpha': 0.3, 'reg_lambda': 0.1} => RMSE: 3047734.7467, Relative RMSE: 0.0805\n",
      "Params: {'n_estimators': 200, 'max_depth': 5, 'learning_rate': 0.01, 'subsample': 0.7, 'colsample_bytree': 0.5, 'gamma': 0.3, 'reg_alpha': 0.3, 'reg_lambda': 0.3} => RMSE: 3089470.5259, Relative RMSE: 0.0816\n",
      "Params: {'n_estimators': 200, 'max_depth': 5, 'learning_rate': 0.01, 'subsample': 0.7, 'colsample_bytree': 0.7, 'gamma': 0, 'reg_alpha': 0, 'reg_lambda': 0} => RMSE: 2828304.9900, Relative RMSE: 0.0747\n",
      "Params: {'n_estimators': 200, 'max_depth': 5, 'learning_rate': 0.01, 'subsample': 0.7, 'colsample_bytree': 0.7, 'gamma': 0, 'reg_alpha': 0, 'reg_lambda': 0.1} => RMSE: 2841680.9524, Relative RMSE: 0.0751\n",
      "Params: {'n_estimators': 200, 'max_depth': 5, 'learning_rate': 0.01, 'subsample': 0.7, 'colsample_bytree': 0.7, 'gamma': 0, 'reg_alpha': 0, 'reg_lambda': 0.3} => RMSE: 2903216.4382, Relative RMSE: 0.0767\n",
      "Params: {'n_estimators': 200, 'max_depth': 5, 'learning_rate': 0.01, 'subsample': 0.7, 'colsample_bytree': 0.7, 'gamma': 0, 'reg_alpha': 0.1, 'reg_lambda': 0} => RMSE: 2828304.3999, Relative RMSE: 0.0747\n",
      "Params: {'n_estimators': 200, 'max_depth': 5, 'learning_rate': 0.01, 'subsample': 0.7, 'colsample_bytree': 0.7, 'gamma': 0, 'reg_alpha': 0.1, 'reg_lambda': 0.1} => RMSE: 2841681.0435, Relative RMSE: 0.0751\n",
      "Params: {'n_estimators': 200, 'max_depth': 5, 'learning_rate': 0.01, 'subsample': 0.7, 'colsample_bytree': 0.7, 'gamma': 0, 'reg_alpha': 0.1, 'reg_lambda': 0.3} => RMSE: 2903216.4382, Relative RMSE: 0.0767\n",
      "Params: {'n_estimators': 200, 'max_depth': 5, 'learning_rate': 0.01, 'subsample': 0.7, 'colsample_bytree': 0.7, 'gamma': 0, 'reg_alpha': 0.3, 'reg_lambda': 0} => RMSE: 2828304.6734, Relative RMSE: 0.0747\n",
      "Params: {'n_estimators': 200, 'max_depth': 5, 'learning_rate': 0.01, 'subsample': 0.7, 'colsample_bytree': 0.7, 'gamma': 0, 'reg_alpha': 0.3, 'reg_lambda': 0.1} => RMSE: 2841680.8730, Relative RMSE: 0.0751\n",
      "Params: {'n_estimators': 200, 'max_depth': 5, 'learning_rate': 0.01, 'subsample': 0.7, 'colsample_bytree': 0.7, 'gamma': 0, 'reg_alpha': 0.3, 'reg_lambda': 0.3} => RMSE: 2903216.4382, Relative RMSE: 0.0767\n",
      "Params: {'n_estimators': 200, 'max_depth': 5, 'learning_rate': 0.01, 'subsample': 0.7, 'colsample_bytree': 0.7, 'gamma': 0.1, 'reg_alpha': 0, 'reg_lambda': 0} => RMSE: 2828304.9900, Relative RMSE: 0.0747\n",
      "Params: {'n_estimators': 200, 'max_depth': 5, 'learning_rate': 0.01, 'subsample': 0.7, 'colsample_bytree': 0.7, 'gamma': 0.1, 'reg_alpha': 0, 'reg_lambda': 0.1} => RMSE: 2841680.9524, Relative RMSE: 0.0751\n",
      "Params: {'n_estimators': 200, 'max_depth': 5, 'learning_rate': 0.01, 'subsample': 0.7, 'colsample_bytree': 0.7, 'gamma': 0.1, 'reg_alpha': 0, 'reg_lambda': 0.3} => RMSE: 2903216.4382, Relative RMSE: 0.0767\n",
      "Params: {'n_estimators': 200, 'max_depth': 5, 'learning_rate': 0.01, 'subsample': 0.7, 'colsample_bytree': 0.7, 'gamma': 0.1, 'reg_alpha': 0.1, 'reg_lambda': 0} => RMSE: 2828304.3999, Relative RMSE: 0.0747\n",
      "Params: {'n_estimators': 200, 'max_depth': 5, 'learning_rate': 0.01, 'subsample': 0.7, 'colsample_bytree': 0.7, 'gamma': 0.1, 'reg_alpha': 0.1, 'reg_lambda': 0.1} => RMSE: 2841681.0435, Relative RMSE: 0.0751\n",
      "Params: {'n_estimators': 200, 'max_depth': 5, 'learning_rate': 0.01, 'subsample': 0.7, 'colsample_bytree': 0.7, 'gamma': 0.1, 'reg_alpha': 0.1, 'reg_lambda': 0.3} => RMSE: 2903216.4382, Relative RMSE: 0.0767\n",
      "Params: {'n_estimators': 200, 'max_depth': 5, 'learning_rate': 0.01, 'subsample': 0.7, 'colsample_bytree': 0.7, 'gamma': 0.1, 'reg_alpha': 0.3, 'reg_lambda': 0} => RMSE: 2828304.6734, Relative RMSE: 0.0747\n",
      "Params: {'n_estimators': 200, 'max_depth': 5, 'learning_rate': 0.01, 'subsample': 0.7, 'colsample_bytree': 0.7, 'gamma': 0.1, 'reg_alpha': 0.3, 'reg_lambda': 0.1} => RMSE: 2841680.8730, Relative RMSE: 0.0751\n",
      "Params: {'n_estimators': 200, 'max_depth': 5, 'learning_rate': 0.01, 'subsample': 0.7, 'colsample_bytree': 0.7, 'gamma': 0.1, 'reg_alpha': 0.3, 'reg_lambda': 0.3} => RMSE: 2903216.4382, Relative RMSE: 0.0767\n",
      "Params: {'n_estimators': 200, 'max_depth': 5, 'learning_rate': 0.01, 'subsample': 0.7, 'colsample_bytree': 0.7, 'gamma': 0.3, 'reg_alpha': 0, 'reg_lambda': 0} => RMSE: 2828304.9900, Relative RMSE: 0.0747\n",
      "Params: {'n_estimators': 200, 'max_depth': 5, 'learning_rate': 0.01, 'subsample': 0.7, 'colsample_bytree': 0.7, 'gamma': 0.3, 'reg_alpha': 0, 'reg_lambda': 0.1} => RMSE: 2841680.9524, Relative RMSE: 0.0751\n",
      "Params: {'n_estimators': 200, 'max_depth': 5, 'learning_rate': 0.01, 'subsample': 0.7, 'colsample_bytree': 0.7, 'gamma': 0.3, 'reg_alpha': 0, 'reg_lambda': 0.3} => RMSE: 2903216.4382, Relative RMSE: 0.0767\n",
      "Params: {'n_estimators': 200, 'max_depth': 5, 'learning_rate': 0.01, 'subsample': 0.7, 'colsample_bytree': 0.7, 'gamma': 0.3, 'reg_alpha': 0.1, 'reg_lambda': 0} => RMSE: 2828304.3999, Relative RMSE: 0.0747\n",
      "Params: {'n_estimators': 200, 'max_depth': 5, 'learning_rate': 0.01, 'subsample': 0.7, 'colsample_bytree': 0.7, 'gamma': 0.3, 'reg_alpha': 0.1, 'reg_lambda': 0.1} => RMSE: 2841681.0435, Relative RMSE: 0.0751\n",
      "Params: {'n_estimators': 200, 'max_depth': 5, 'learning_rate': 0.01, 'subsample': 0.7, 'colsample_bytree': 0.7, 'gamma': 0.3, 'reg_alpha': 0.1, 'reg_lambda': 0.3} => RMSE: 2903216.4382, Relative RMSE: 0.0767\n",
      "Params: {'n_estimators': 200, 'max_depth': 5, 'learning_rate': 0.01, 'subsample': 0.7, 'colsample_bytree': 0.7, 'gamma': 0.3, 'reg_alpha': 0.3, 'reg_lambda': 0} => RMSE: 2828304.6734, Relative RMSE: 0.0747\n",
      "Params: {'n_estimators': 200, 'max_depth': 5, 'learning_rate': 0.01, 'subsample': 0.7, 'colsample_bytree': 0.7, 'gamma': 0.3, 'reg_alpha': 0.3, 'reg_lambda': 0.1} => RMSE: 2841680.8730, Relative RMSE: 0.0751\n",
      "Params: {'n_estimators': 200, 'max_depth': 5, 'learning_rate': 0.01, 'subsample': 0.7, 'colsample_bytree': 0.7, 'gamma': 0.3, 'reg_alpha': 0.3, 'reg_lambda': 0.3} => RMSE: 2903216.4382, Relative RMSE: 0.0767\n",
      "Params: {'n_estimators': 200, 'max_depth': 5, 'learning_rate': 0.01, 'subsample': 0.7, 'colsample_bytree': 1, 'gamma': 0, 'reg_alpha': 0, 'reg_lambda': 0} => RMSE: 2488710.1499, Relative RMSE: 0.0657\n",
      "Params: {'n_estimators': 200, 'max_depth': 5, 'learning_rate': 0.01, 'subsample': 0.7, 'colsample_bytree': 1, 'gamma': 0, 'reg_alpha': 0, 'reg_lambda': 0.1} => RMSE: 2518058.4989, Relative RMSE: 0.0665\n",
      "Params: {'n_estimators': 200, 'max_depth': 5, 'learning_rate': 0.01, 'subsample': 0.7, 'colsample_bytree': 1, 'gamma': 0, 'reg_alpha': 0, 'reg_lambda': 0.3} => RMSE: 2649343.5190, Relative RMSE: 0.0700\n",
      "Params: {'n_estimators': 200, 'max_depth': 5, 'learning_rate': 0.01, 'subsample': 0.7, 'colsample_bytree': 1, 'gamma': 0, 'reg_alpha': 0.1, 'reg_lambda': 0} => RMSE: 2488710.1499, Relative RMSE: 0.0657\n",
      "Params: {'n_estimators': 200, 'max_depth': 5, 'learning_rate': 0.01, 'subsample': 0.7, 'colsample_bytree': 1, 'gamma': 0, 'reg_alpha': 0.1, 'reg_lambda': 0.1} => RMSE: 2518058.4050, Relative RMSE: 0.0665\n",
      "Params: {'n_estimators': 200, 'max_depth': 5, 'learning_rate': 0.01, 'subsample': 0.7, 'colsample_bytree': 1, 'gamma': 0, 'reg_alpha': 0.1, 'reg_lambda': 0.3} => RMSE: 2649342.8140, Relative RMSE: 0.0700\n",
      "Params: {'n_estimators': 200, 'max_depth': 5, 'learning_rate': 0.01, 'subsample': 0.7, 'colsample_bytree': 1, 'gamma': 0, 'reg_alpha': 0.3, 'reg_lambda': 0} => RMSE: 2488710.1499, Relative RMSE: 0.0657\n",
      "Params: {'n_estimators': 200, 'max_depth': 5, 'learning_rate': 0.01, 'subsample': 0.7, 'colsample_bytree': 1, 'gamma': 0, 'reg_alpha': 0.3, 'reg_lambda': 0.1} => RMSE: 2518059.3253, Relative RMSE: 0.0665\n",
      "Params: {'n_estimators': 200, 'max_depth': 5, 'learning_rate': 0.01, 'subsample': 0.7, 'colsample_bytree': 1, 'gamma': 0, 'reg_alpha': 0.3, 'reg_lambda': 0.3} => RMSE: 2649342.9533, Relative RMSE: 0.0700\n",
      "Params: {'n_estimators': 200, 'max_depth': 5, 'learning_rate': 0.01, 'subsample': 0.7, 'colsample_bytree': 1, 'gamma': 0.1, 'reg_alpha': 0, 'reg_lambda': 0} => RMSE: 2488710.1499, Relative RMSE: 0.0657\n",
      "Params: {'n_estimators': 200, 'max_depth': 5, 'learning_rate': 0.01, 'subsample': 0.7, 'colsample_bytree': 1, 'gamma': 0.1, 'reg_alpha': 0, 'reg_lambda': 0.1} => RMSE: 2518058.4989, Relative RMSE: 0.0665\n",
      "Params: {'n_estimators': 200, 'max_depth': 5, 'learning_rate': 0.01, 'subsample': 0.7, 'colsample_bytree': 1, 'gamma': 0.1, 'reg_alpha': 0, 'reg_lambda': 0.3} => RMSE: 2649343.5190, Relative RMSE: 0.0700\n",
      "Params: {'n_estimators': 200, 'max_depth': 5, 'learning_rate': 0.01, 'subsample': 0.7, 'colsample_bytree': 1, 'gamma': 0.1, 'reg_alpha': 0.1, 'reg_lambda': 0} => RMSE: 2488710.1499, Relative RMSE: 0.0657\n",
      "Params: {'n_estimators': 200, 'max_depth': 5, 'learning_rate': 0.01, 'subsample': 0.7, 'colsample_bytree': 1, 'gamma': 0.1, 'reg_alpha': 0.1, 'reg_lambda': 0.1} => RMSE: 2518058.4050, Relative RMSE: 0.0665\n",
      "Params: {'n_estimators': 200, 'max_depth': 5, 'learning_rate': 0.01, 'subsample': 0.7, 'colsample_bytree': 1, 'gamma': 0.1, 'reg_alpha': 0.1, 'reg_lambda': 0.3} => RMSE: 2649342.8140, Relative RMSE: 0.0700\n",
      "Params: {'n_estimators': 200, 'max_depth': 5, 'learning_rate': 0.01, 'subsample': 0.7, 'colsample_bytree': 1, 'gamma': 0.1, 'reg_alpha': 0.3, 'reg_lambda': 0} => RMSE: 2488710.1499, Relative RMSE: 0.0657\n",
      "Params: {'n_estimators': 200, 'max_depth': 5, 'learning_rate': 0.01, 'subsample': 0.7, 'colsample_bytree': 1, 'gamma': 0.1, 'reg_alpha': 0.3, 'reg_lambda': 0.1} => RMSE: 2518059.3253, Relative RMSE: 0.0665\n",
      "Params: {'n_estimators': 200, 'max_depth': 5, 'learning_rate': 0.01, 'subsample': 0.7, 'colsample_bytree': 1, 'gamma': 0.1, 'reg_alpha': 0.3, 'reg_lambda': 0.3} => RMSE: 2649342.9533, Relative RMSE: 0.0700\n",
      "Params: {'n_estimators': 200, 'max_depth': 5, 'learning_rate': 0.01, 'subsample': 0.7, 'colsample_bytree': 1, 'gamma': 0.3, 'reg_alpha': 0, 'reg_lambda': 0} => RMSE: 2488710.1499, Relative RMSE: 0.0657\n",
      "Params: {'n_estimators': 200, 'max_depth': 5, 'learning_rate': 0.01, 'subsample': 0.7, 'colsample_bytree': 1, 'gamma': 0.3, 'reg_alpha': 0, 'reg_lambda': 0.1} => RMSE: 2518058.4989, Relative RMSE: 0.0665\n",
      "Params: {'n_estimators': 200, 'max_depth': 5, 'learning_rate': 0.01, 'subsample': 0.7, 'colsample_bytree': 1, 'gamma': 0.3, 'reg_alpha': 0, 'reg_lambda': 0.3} => RMSE: 2649343.5190, Relative RMSE: 0.0700\n",
      "Params: {'n_estimators': 200, 'max_depth': 5, 'learning_rate': 0.01, 'subsample': 0.7, 'colsample_bytree': 1, 'gamma': 0.3, 'reg_alpha': 0.1, 'reg_lambda': 0} => RMSE: 2488710.1499, Relative RMSE: 0.0657\n",
      "Params: {'n_estimators': 200, 'max_depth': 5, 'learning_rate': 0.01, 'subsample': 0.7, 'colsample_bytree': 1, 'gamma': 0.3, 'reg_alpha': 0.1, 'reg_lambda': 0.1} => RMSE: 2518058.4050, Relative RMSE: 0.0665\n",
      "Params: {'n_estimators': 200, 'max_depth': 5, 'learning_rate': 0.01, 'subsample': 0.7, 'colsample_bytree': 1, 'gamma': 0.3, 'reg_alpha': 0.1, 'reg_lambda': 0.3} => RMSE: 2649342.8140, Relative RMSE: 0.0700\n",
      "Params: {'n_estimators': 200, 'max_depth': 5, 'learning_rate': 0.01, 'subsample': 0.7, 'colsample_bytree': 1, 'gamma': 0.3, 'reg_alpha': 0.3, 'reg_lambda': 0} => RMSE: 2488710.1499, Relative RMSE: 0.0657\n",
      "Params: {'n_estimators': 200, 'max_depth': 5, 'learning_rate': 0.01, 'subsample': 0.7, 'colsample_bytree': 1, 'gamma': 0.3, 'reg_alpha': 0.3, 'reg_lambda': 0.1} => RMSE: 2518059.3253, Relative RMSE: 0.0665\n",
      "Params: {'n_estimators': 200, 'max_depth': 5, 'learning_rate': 0.01, 'subsample': 0.7, 'colsample_bytree': 1, 'gamma': 0.3, 'reg_alpha': 0.3, 'reg_lambda': 0.3} => RMSE: 2649342.9533, Relative RMSE: 0.0700\n",
      "Params: {'n_estimators': 200, 'max_depth': 5, 'learning_rate': 0.1, 'subsample': 0.5, 'colsample_bytree': 0.5, 'gamma': 0, 'reg_alpha': 0, 'reg_lambda': 0} => RMSE: 2990368.0724, Relative RMSE: 0.0790\n",
      "Params: {'n_estimators': 200, 'max_depth': 5, 'learning_rate': 0.1, 'subsample': 0.5, 'colsample_bytree': 0.5, 'gamma': 0, 'reg_alpha': 0, 'reg_lambda': 0.1} => RMSE: 3094603.1785, Relative RMSE: 0.0817\n",
      "Params: {'n_estimators': 200, 'max_depth': 5, 'learning_rate': 0.1, 'subsample': 0.5, 'colsample_bytree': 0.5, 'gamma': 0, 'reg_alpha': 0, 'reg_lambda': 0.3} => RMSE: 3186322.0426, Relative RMSE: 0.0842\n",
      "Params: {'n_estimators': 200, 'max_depth': 5, 'learning_rate': 0.1, 'subsample': 0.5, 'colsample_bytree': 0.5, 'gamma': 0, 'reg_alpha': 0.1, 'reg_lambda': 0} => RMSE: 2990438.5715, Relative RMSE: 0.0790\n",
      "Params: {'n_estimators': 200, 'max_depth': 5, 'learning_rate': 0.1, 'subsample': 0.5, 'colsample_bytree': 0.5, 'gamma': 0, 'reg_alpha': 0.1, 'reg_lambda': 0.1} => RMSE: 3094534.1483, Relative RMSE: 0.0817\n",
      "Params: {'n_estimators': 200, 'max_depth': 5, 'learning_rate': 0.1, 'subsample': 0.5, 'colsample_bytree': 0.5, 'gamma': 0, 'reg_alpha': 0.1, 'reg_lambda': 0.3} => RMSE: 3186323.2589, Relative RMSE: 0.0842\n",
      "Params: {'n_estimators': 200, 'max_depth': 5, 'learning_rate': 0.1, 'subsample': 0.5, 'colsample_bytree': 0.5, 'gamma': 0, 'reg_alpha': 0.3, 'reg_lambda': 0} => RMSE: 2990441.2532, Relative RMSE: 0.0790\n",
      "Params: {'n_estimators': 200, 'max_depth': 5, 'learning_rate': 0.1, 'subsample': 0.5, 'colsample_bytree': 0.5, 'gamma': 0, 'reg_alpha': 0.3, 'reg_lambda': 0.1} => RMSE: 3094534.1483, Relative RMSE: 0.0817\n",
      "Params: {'n_estimators': 200, 'max_depth': 5, 'learning_rate': 0.1, 'subsample': 0.5, 'colsample_bytree': 0.5, 'gamma': 0, 'reg_alpha': 0.3, 'reg_lambda': 0.3} => RMSE: 3186320.9137, Relative RMSE: 0.0842\n",
      "Params: {'n_estimators': 200, 'max_depth': 5, 'learning_rate': 0.1, 'subsample': 0.5, 'colsample_bytree': 0.5, 'gamma': 0.1, 'reg_alpha': 0, 'reg_lambda': 0} => RMSE: 2990368.0724, Relative RMSE: 0.0790\n",
      "Params: {'n_estimators': 200, 'max_depth': 5, 'learning_rate': 0.1, 'subsample': 0.5, 'colsample_bytree': 0.5, 'gamma': 0.1, 'reg_alpha': 0, 'reg_lambda': 0.1} => RMSE: 3094603.1785, Relative RMSE: 0.0817\n",
      "Params: {'n_estimators': 200, 'max_depth': 5, 'learning_rate': 0.1, 'subsample': 0.5, 'colsample_bytree': 0.5, 'gamma': 0.1, 'reg_alpha': 0, 'reg_lambda': 0.3} => RMSE: 3186322.0426, Relative RMSE: 0.0842\n",
      "Params: {'n_estimators': 200, 'max_depth': 5, 'learning_rate': 0.1, 'subsample': 0.5, 'colsample_bytree': 0.5, 'gamma': 0.1, 'reg_alpha': 0.1, 'reg_lambda': 0} => RMSE: 2990438.5715, Relative RMSE: 0.0790\n",
      "Params: {'n_estimators': 200, 'max_depth': 5, 'learning_rate': 0.1, 'subsample': 0.5, 'colsample_bytree': 0.5, 'gamma': 0.1, 'reg_alpha': 0.1, 'reg_lambda': 0.1} => RMSE: 3094534.1483, Relative RMSE: 0.0817\n",
      "Params: {'n_estimators': 200, 'max_depth': 5, 'learning_rate': 0.1, 'subsample': 0.5, 'colsample_bytree': 0.5, 'gamma': 0.1, 'reg_alpha': 0.1, 'reg_lambda': 0.3} => RMSE: 3186323.2589, Relative RMSE: 0.0842\n",
      "Params: {'n_estimators': 200, 'max_depth': 5, 'learning_rate': 0.1, 'subsample': 0.5, 'colsample_bytree': 0.5, 'gamma': 0.1, 'reg_alpha': 0.3, 'reg_lambda': 0} => RMSE: 2990441.2532, Relative RMSE: 0.0790\n",
      "Params: {'n_estimators': 200, 'max_depth': 5, 'learning_rate': 0.1, 'subsample': 0.5, 'colsample_bytree': 0.5, 'gamma': 0.1, 'reg_alpha': 0.3, 'reg_lambda': 0.1} => RMSE: 3094534.1483, Relative RMSE: 0.0817\n",
      "Params: {'n_estimators': 200, 'max_depth': 5, 'learning_rate': 0.1, 'subsample': 0.5, 'colsample_bytree': 0.5, 'gamma': 0.1, 'reg_alpha': 0.3, 'reg_lambda': 0.3} => RMSE: 3186320.9137, Relative RMSE: 0.0842\n",
      "Params: {'n_estimators': 200, 'max_depth': 5, 'learning_rate': 0.1, 'subsample': 0.5, 'colsample_bytree': 0.5, 'gamma': 0.3, 'reg_alpha': 0, 'reg_lambda': 0} => RMSE: 2990368.0724, Relative RMSE: 0.0790\n",
      "Params: {'n_estimators': 200, 'max_depth': 5, 'learning_rate': 0.1, 'subsample': 0.5, 'colsample_bytree': 0.5, 'gamma': 0.3, 'reg_alpha': 0, 'reg_lambda': 0.1} => RMSE: 3094603.1785, Relative RMSE: 0.0817\n",
      "Params: {'n_estimators': 200, 'max_depth': 5, 'learning_rate': 0.1, 'subsample': 0.5, 'colsample_bytree': 0.5, 'gamma': 0.3, 'reg_alpha': 0, 'reg_lambda': 0.3} => RMSE: 3186322.0426, Relative RMSE: 0.0842\n",
      "Params: {'n_estimators': 200, 'max_depth': 5, 'learning_rate': 0.1, 'subsample': 0.5, 'colsample_bytree': 0.5, 'gamma': 0.3, 'reg_alpha': 0.1, 'reg_lambda': 0} => RMSE: 2990438.5715, Relative RMSE: 0.0790\n",
      "Params: {'n_estimators': 200, 'max_depth': 5, 'learning_rate': 0.1, 'subsample': 0.5, 'colsample_bytree': 0.5, 'gamma': 0.3, 'reg_alpha': 0.1, 'reg_lambda': 0.1} => RMSE: 3094534.1483, Relative RMSE: 0.0817\n",
      "Params: {'n_estimators': 200, 'max_depth': 5, 'learning_rate': 0.1, 'subsample': 0.5, 'colsample_bytree': 0.5, 'gamma': 0.3, 'reg_alpha': 0.1, 'reg_lambda': 0.3} => RMSE: 3186323.2589, Relative RMSE: 0.0842\n",
      "Params: {'n_estimators': 200, 'max_depth': 5, 'learning_rate': 0.1, 'subsample': 0.5, 'colsample_bytree': 0.5, 'gamma': 0.3, 'reg_alpha': 0.3, 'reg_lambda': 0} => RMSE: 2990441.2532, Relative RMSE: 0.0790\n",
      "Params: {'n_estimators': 200, 'max_depth': 5, 'learning_rate': 0.1, 'subsample': 0.5, 'colsample_bytree': 0.5, 'gamma': 0.3, 'reg_alpha': 0.3, 'reg_lambda': 0.1} => RMSE: 3094534.1483, Relative RMSE: 0.0817\n",
      "Params: {'n_estimators': 200, 'max_depth': 5, 'learning_rate': 0.1, 'subsample': 0.5, 'colsample_bytree': 0.5, 'gamma': 0.3, 'reg_alpha': 0.3, 'reg_lambda': 0.3} => RMSE: 3186320.9137, Relative RMSE: 0.0842\n",
      "Params: {'n_estimators': 200, 'max_depth': 5, 'learning_rate': 0.1, 'subsample': 0.5, 'colsample_bytree': 0.7, 'gamma': 0, 'reg_alpha': 0, 'reg_lambda': 0} => RMSE: 2844080.2565, Relative RMSE: 0.0751\n",
      "Params: {'n_estimators': 200, 'max_depth': 5, 'learning_rate': 0.1, 'subsample': 0.5, 'colsample_bytree': 0.7, 'gamma': 0, 'reg_alpha': 0, 'reg_lambda': 0.1} => RMSE: 2814468.0202, Relative RMSE: 0.0743\n",
      "Params: {'n_estimators': 200, 'max_depth': 5, 'learning_rate': 0.1, 'subsample': 0.5, 'colsample_bytree': 0.7, 'gamma': 0, 'reg_alpha': 0, 'reg_lambda': 0.3} => RMSE: 2964895.9025, Relative RMSE: 0.0783\n",
      "Params: {'n_estimators': 200, 'max_depth': 5, 'learning_rate': 0.1, 'subsample': 0.5, 'colsample_bytree': 0.7, 'gamma': 0, 'reg_alpha': 0.1, 'reg_lambda': 0} => RMSE: 2843577.9520, Relative RMSE: 0.0751\n",
      "Params: {'n_estimators': 200, 'max_depth': 5, 'learning_rate': 0.1, 'subsample': 0.5, 'colsample_bytree': 0.7, 'gamma': 0, 'reg_alpha': 0.1, 'reg_lambda': 0.1} => RMSE: 2814468.7209, Relative RMSE: 0.0743\n",
      "Params: {'n_estimators': 200, 'max_depth': 5, 'learning_rate': 0.1, 'subsample': 0.5, 'colsample_bytree': 0.7, 'gamma': 0, 'reg_alpha': 0.1, 'reg_lambda': 0.3} => RMSE: 2964896.9261, Relative RMSE: 0.0783\n",
      "Params: {'n_estimators': 200, 'max_depth': 5, 'learning_rate': 0.1, 'subsample': 0.5, 'colsample_bytree': 0.7, 'gamma': 0, 'reg_alpha': 0.3, 'reg_lambda': 0} => RMSE: 2843434.8209, Relative RMSE: 0.0751\n",
      "Params: {'n_estimators': 200, 'max_depth': 5, 'learning_rate': 0.1, 'subsample': 0.5, 'colsample_bytree': 0.7, 'gamma': 0, 'reg_alpha': 0.3, 'reg_lambda': 0.1} => RMSE: 2814468.3587, Relative RMSE: 0.0743\n",
      "Params: {'n_estimators': 200, 'max_depth': 5, 'learning_rate': 0.1, 'subsample': 0.5, 'colsample_bytree': 0.7, 'gamma': 0, 'reg_alpha': 0.3, 'reg_lambda': 0.3} => RMSE: 2964895.6207, Relative RMSE: 0.0783\n",
      "Params: {'n_estimators': 200, 'max_depth': 5, 'learning_rate': 0.1, 'subsample': 0.5, 'colsample_bytree': 0.7, 'gamma': 0.1, 'reg_alpha': 0, 'reg_lambda': 0} => RMSE: 2844080.2565, Relative RMSE: 0.0751\n",
      "Params: {'n_estimators': 200, 'max_depth': 5, 'learning_rate': 0.1, 'subsample': 0.5, 'colsample_bytree': 0.7, 'gamma': 0.1, 'reg_alpha': 0, 'reg_lambda': 0.1} => RMSE: 2814468.0202, Relative RMSE: 0.0743\n",
      "Params: {'n_estimators': 200, 'max_depth': 5, 'learning_rate': 0.1, 'subsample': 0.5, 'colsample_bytree': 0.7, 'gamma': 0.1, 'reg_alpha': 0, 'reg_lambda': 0.3} => RMSE: 2964895.9025, Relative RMSE: 0.0783\n",
      "Params: {'n_estimators': 200, 'max_depth': 5, 'learning_rate': 0.1, 'subsample': 0.5, 'colsample_bytree': 0.7, 'gamma': 0.1, 'reg_alpha': 0.1, 'reg_lambda': 0} => RMSE: 2843577.9520, Relative RMSE: 0.0751\n",
      "Params: {'n_estimators': 200, 'max_depth': 5, 'learning_rate': 0.1, 'subsample': 0.5, 'colsample_bytree': 0.7, 'gamma': 0.1, 'reg_alpha': 0.1, 'reg_lambda': 0.1} => RMSE: 2814468.7209, Relative RMSE: 0.0743\n",
      "Params: {'n_estimators': 200, 'max_depth': 5, 'learning_rate': 0.1, 'subsample': 0.5, 'colsample_bytree': 0.7, 'gamma': 0.1, 'reg_alpha': 0.1, 'reg_lambda': 0.3} => RMSE: 2964896.9261, Relative RMSE: 0.0783\n",
      "Params: {'n_estimators': 200, 'max_depth': 5, 'learning_rate': 0.1, 'subsample': 0.5, 'colsample_bytree': 0.7, 'gamma': 0.1, 'reg_alpha': 0.3, 'reg_lambda': 0} => RMSE: 2843434.8209, Relative RMSE: 0.0751\n",
      "Params: {'n_estimators': 200, 'max_depth': 5, 'learning_rate': 0.1, 'subsample': 0.5, 'colsample_bytree': 0.7, 'gamma': 0.1, 'reg_alpha': 0.3, 'reg_lambda': 0.1} => RMSE: 2814468.3587, Relative RMSE: 0.0743\n",
      "Params: {'n_estimators': 200, 'max_depth': 5, 'learning_rate': 0.1, 'subsample': 0.5, 'colsample_bytree': 0.7, 'gamma': 0.1, 'reg_alpha': 0.3, 'reg_lambda': 0.3} => RMSE: 2964895.6207, Relative RMSE: 0.0783\n",
      "Params: {'n_estimators': 200, 'max_depth': 5, 'learning_rate': 0.1, 'subsample': 0.5, 'colsample_bytree': 0.7, 'gamma': 0.3, 'reg_alpha': 0, 'reg_lambda': 0} => RMSE: 2844080.2565, Relative RMSE: 0.0751\n",
      "Params: {'n_estimators': 200, 'max_depth': 5, 'learning_rate': 0.1, 'subsample': 0.5, 'colsample_bytree': 0.7, 'gamma': 0.3, 'reg_alpha': 0, 'reg_lambda': 0.1} => RMSE: 2814468.0202, Relative RMSE: 0.0743\n",
      "Params: {'n_estimators': 200, 'max_depth': 5, 'learning_rate': 0.1, 'subsample': 0.5, 'colsample_bytree': 0.7, 'gamma': 0.3, 'reg_alpha': 0, 'reg_lambda': 0.3} => RMSE: 2964895.9025, Relative RMSE: 0.0783\n",
      "Params: {'n_estimators': 200, 'max_depth': 5, 'learning_rate': 0.1, 'subsample': 0.5, 'colsample_bytree': 0.7, 'gamma': 0.3, 'reg_alpha': 0.1, 'reg_lambda': 0} => RMSE: 2843577.9520, Relative RMSE: 0.0751\n",
      "Params: {'n_estimators': 200, 'max_depth': 5, 'learning_rate': 0.1, 'subsample': 0.5, 'colsample_bytree': 0.7, 'gamma': 0.3, 'reg_alpha': 0.1, 'reg_lambda': 0.1} => RMSE: 2814468.7209, Relative RMSE: 0.0743\n",
      "Params: {'n_estimators': 200, 'max_depth': 5, 'learning_rate': 0.1, 'subsample': 0.5, 'colsample_bytree': 0.7, 'gamma': 0.3, 'reg_alpha': 0.1, 'reg_lambda': 0.3} => RMSE: 2964896.9261, Relative RMSE: 0.0783\n",
      "Params: {'n_estimators': 200, 'max_depth': 5, 'learning_rate': 0.1, 'subsample': 0.5, 'colsample_bytree': 0.7, 'gamma': 0.3, 'reg_alpha': 0.3, 'reg_lambda': 0} => RMSE: 2843434.8209, Relative RMSE: 0.0751\n",
      "Params: {'n_estimators': 200, 'max_depth': 5, 'learning_rate': 0.1, 'subsample': 0.5, 'colsample_bytree': 0.7, 'gamma': 0.3, 'reg_alpha': 0.3, 'reg_lambda': 0.1} => RMSE: 2814468.3587, Relative RMSE: 0.0743\n",
      "Params: {'n_estimators': 200, 'max_depth': 5, 'learning_rate': 0.1, 'subsample': 0.5, 'colsample_bytree': 0.7, 'gamma': 0.3, 'reg_alpha': 0.3, 'reg_lambda': 0.3} => RMSE: 2964895.6207, Relative RMSE: 0.0783\n",
      "Params: {'n_estimators': 200, 'max_depth': 5, 'learning_rate': 0.1, 'subsample': 0.5, 'colsample_bytree': 1, 'gamma': 0, 'reg_alpha': 0, 'reg_lambda': 0} => RMSE: 2381984.4102, Relative RMSE: 0.0629\n",
      "Params: {'n_estimators': 200, 'max_depth': 5, 'learning_rate': 0.1, 'subsample': 0.5, 'colsample_bytree': 1, 'gamma': 0, 'reg_alpha': 0, 'reg_lambda': 0.1} => RMSE: 2502465.1387, Relative RMSE: 0.0661\n",
      "Params: {'n_estimators': 200, 'max_depth': 5, 'learning_rate': 0.1, 'subsample': 0.5, 'colsample_bytree': 1, 'gamma': 0, 'reg_alpha': 0, 'reg_lambda': 0.3} => RMSE: 2779734.0115, Relative RMSE: 0.0734\n",
      "Params: {'n_estimators': 200, 'max_depth': 5, 'learning_rate': 0.1, 'subsample': 0.5, 'colsample_bytree': 1, 'gamma': 0, 'reg_alpha': 0.1, 'reg_lambda': 0} => RMSE: 2381592.1636, Relative RMSE: 0.0629\n",
      "Params: {'n_estimators': 200, 'max_depth': 5, 'learning_rate': 0.1, 'subsample': 0.5, 'colsample_bytree': 1, 'gamma': 0, 'reg_alpha': 0.1, 'reg_lambda': 0.1} => RMSE: 2502462.7205, Relative RMSE: 0.0661\n",
      "Params: {'n_estimators': 200, 'max_depth': 5, 'learning_rate': 0.1, 'subsample': 0.5, 'colsample_bytree': 1, 'gamma': 0, 'reg_alpha': 0.1, 'reg_lambda': 0.3} => RMSE: 2779735.0071, Relative RMSE: 0.0734\n",
      "Params: {'n_estimators': 200, 'max_depth': 5, 'learning_rate': 0.1, 'subsample': 0.5, 'colsample_bytree': 1, 'gamma': 0, 'reg_alpha': 0.3, 'reg_lambda': 0} => RMSE: 2381589.9846, Relative RMSE: 0.0629\n",
      "Params: {'n_estimators': 200, 'max_depth': 5, 'learning_rate': 0.1, 'subsample': 0.5, 'colsample_bytree': 1, 'gamma': 0, 'reg_alpha': 0.3, 'reg_lambda': 0.1} => RMSE: 2502462.7205, Relative RMSE: 0.0661\n",
      "Params: {'n_estimators': 200, 'max_depth': 5, 'learning_rate': 0.1, 'subsample': 0.5, 'colsample_bytree': 1, 'gamma': 0, 'reg_alpha': 0.3, 'reg_lambda': 0.3} => RMSE: 2779736.0283, Relative RMSE: 0.0734\n",
      "Params: {'n_estimators': 200, 'max_depth': 5, 'learning_rate': 0.1, 'subsample': 0.5, 'colsample_bytree': 1, 'gamma': 0.1, 'reg_alpha': 0, 'reg_lambda': 0} => RMSE: 2381984.4102, Relative RMSE: 0.0629\n",
      "Params: {'n_estimators': 200, 'max_depth': 5, 'learning_rate': 0.1, 'subsample': 0.5, 'colsample_bytree': 1, 'gamma': 0.1, 'reg_alpha': 0, 'reg_lambda': 0.1} => RMSE: 2502465.1387, Relative RMSE: 0.0661\n",
      "Params: {'n_estimators': 200, 'max_depth': 5, 'learning_rate': 0.1, 'subsample': 0.5, 'colsample_bytree': 1, 'gamma': 0.1, 'reg_alpha': 0, 'reg_lambda': 0.3} => RMSE: 2779734.0115, Relative RMSE: 0.0734\n",
      "Params: {'n_estimators': 200, 'max_depth': 5, 'learning_rate': 0.1, 'subsample': 0.5, 'colsample_bytree': 1, 'gamma': 0.1, 'reg_alpha': 0.1, 'reg_lambda': 0} => RMSE: 2381592.1636, Relative RMSE: 0.0629\n",
      "Params: {'n_estimators': 200, 'max_depth': 5, 'learning_rate': 0.1, 'subsample': 0.5, 'colsample_bytree': 1, 'gamma': 0.1, 'reg_alpha': 0.1, 'reg_lambda': 0.1} => RMSE: 2502462.7205, Relative RMSE: 0.0661\n",
      "Params: {'n_estimators': 200, 'max_depth': 5, 'learning_rate': 0.1, 'subsample': 0.5, 'colsample_bytree': 1, 'gamma': 0.1, 'reg_alpha': 0.1, 'reg_lambda': 0.3} => RMSE: 2779735.0071, Relative RMSE: 0.0734\n",
      "Params: {'n_estimators': 200, 'max_depth': 5, 'learning_rate': 0.1, 'subsample': 0.5, 'colsample_bytree': 1, 'gamma': 0.1, 'reg_alpha': 0.3, 'reg_lambda': 0} => RMSE: 2381589.9846, Relative RMSE: 0.0629\n",
      "Params: {'n_estimators': 200, 'max_depth': 5, 'learning_rate': 0.1, 'subsample': 0.5, 'colsample_bytree': 1, 'gamma': 0.1, 'reg_alpha': 0.3, 'reg_lambda': 0.1} => RMSE: 2502462.7205, Relative RMSE: 0.0661\n",
      "Params: {'n_estimators': 200, 'max_depth': 5, 'learning_rate': 0.1, 'subsample': 0.5, 'colsample_bytree': 1, 'gamma': 0.1, 'reg_alpha': 0.3, 'reg_lambda': 0.3} => RMSE: 2779736.0283, Relative RMSE: 0.0734\n",
      "Params: {'n_estimators': 200, 'max_depth': 5, 'learning_rate': 0.1, 'subsample': 0.5, 'colsample_bytree': 1, 'gamma': 0.3, 'reg_alpha': 0, 'reg_lambda': 0} => RMSE: 2381984.4102, Relative RMSE: 0.0629\n",
      "Params: {'n_estimators': 200, 'max_depth': 5, 'learning_rate': 0.1, 'subsample': 0.5, 'colsample_bytree': 1, 'gamma': 0.3, 'reg_alpha': 0, 'reg_lambda': 0.1} => RMSE: 2502465.1387, Relative RMSE: 0.0661\n",
      "Params: {'n_estimators': 200, 'max_depth': 5, 'learning_rate': 0.1, 'subsample': 0.5, 'colsample_bytree': 1, 'gamma': 0.3, 'reg_alpha': 0, 'reg_lambda': 0.3} => RMSE: 2779734.0115, Relative RMSE: 0.0734\n",
      "Params: {'n_estimators': 200, 'max_depth': 5, 'learning_rate': 0.1, 'subsample': 0.5, 'colsample_bytree': 1, 'gamma': 0.3, 'reg_alpha': 0.1, 'reg_lambda': 0} => RMSE: 2381592.1636, Relative RMSE: 0.0629\n",
      "Params: {'n_estimators': 200, 'max_depth': 5, 'learning_rate': 0.1, 'subsample': 0.5, 'colsample_bytree': 1, 'gamma': 0.3, 'reg_alpha': 0.1, 'reg_lambda': 0.1} => RMSE: 2502462.7205, Relative RMSE: 0.0661\n",
      "Params: {'n_estimators': 200, 'max_depth': 5, 'learning_rate': 0.1, 'subsample': 0.5, 'colsample_bytree': 1, 'gamma': 0.3, 'reg_alpha': 0.1, 'reg_lambda': 0.3} => RMSE: 2779735.0071, Relative RMSE: 0.0734\n",
      "Params: {'n_estimators': 200, 'max_depth': 5, 'learning_rate': 0.1, 'subsample': 0.5, 'colsample_bytree': 1, 'gamma': 0.3, 'reg_alpha': 0.3, 'reg_lambda': 0} => RMSE: 2381589.9846, Relative RMSE: 0.0629\n",
      "Params: {'n_estimators': 200, 'max_depth': 5, 'learning_rate': 0.1, 'subsample': 0.5, 'colsample_bytree': 1, 'gamma': 0.3, 'reg_alpha': 0.3, 'reg_lambda': 0.1} => RMSE: 2502462.7205, Relative RMSE: 0.0661\n",
      "Params: {'n_estimators': 200, 'max_depth': 5, 'learning_rate': 0.1, 'subsample': 0.5, 'colsample_bytree': 1, 'gamma': 0.3, 'reg_alpha': 0.3, 'reg_lambda': 0.3} => RMSE: 2779736.0283, Relative RMSE: 0.0734\n",
      "Params: {'n_estimators': 200, 'max_depth': 5, 'learning_rate': 0.1, 'subsample': 0.7, 'colsample_bytree': 0.5, 'gamma': 0, 'reg_alpha': 0, 'reg_lambda': 0} => RMSE: 3037267.7912, Relative RMSE: 0.0802\n",
      "Params: {'n_estimators': 200, 'max_depth': 5, 'learning_rate': 0.1, 'subsample': 0.7, 'colsample_bytree': 0.5, 'gamma': 0, 'reg_alpha': 0, 'reg_lambda': 0.1} => RMSE: 3035536.7660, Relative RMSE: 0.0802\n",
      "Params: {'n_estimators': 200, 'max_depth': 5, 'learning_rate': 0.1, 'subsample': 0.7, 'colsample_bytree': 0.5, 'gamma': 0, 'reg_alpha': 0, 'reg_lambda': 0.3} => RMSE: 3158471.0692, Relative RMSE: 0.0834\n",
      "Params: {'n_estimators': 200, 'max_depth': 5, 'learning_rate': 0.1, 'subsample': 0.7, 'colsample_bytree': 0.5, 'gamma': 0, 'reg_alpha': 0.1, 'reg_lambda': 0} => RMSE: 3037279.0708, Relative RMSE: 0.0802\n",
      "Params: {'n_estimators': 200, 'max_depth': 5, 'learning_rate': 0.1, 'subsample': 0.7, 'colsample_bytree': 0.5, 'gamma': 0, 'reg_alpha': 0.1, 'reg_lambda': 0.1} => RMSE: 3035536.2321, Relative RMSE: 0.0802\n",
      "Params: {'n_estimators': 200, 'max_depth': 5, 'learning_rate': 0.1, 'subsample': 0.7, 'colsample_bytree': 0.5, 'gamma': 0, 'reg_alpha': 0.1, 'reg_lambda': 0.3} => RMSE: 3158406.1494, Relative RMSE: 0.0834\n",
      "Params: {'n_estimators': 200, 'max_depth': 5, 'learning_rate': 0.1, 'subsample': 0.7, 'colsample_bytree': 0.5, 'gamma': 0, 'reg_alpha': 0.3, 'reg_lambda': 0} => RMSE: 3037266.1044, Relative RMSE: 0.0802\n",
      "Params: {'n_estimators': 200, 'max_depth': 5, 'learning_rate': 0.1, 'subsample': 0.7, 'colsample_bytree': 0.5, 'gamma': 0, 'reg_alpha': 0.3, 'reg_lambda': 0.1} => RMSE: 3035536.2321, Relative RMSE: 0.0802\n",
      "Params: {'n_estimators': 200, 'max_depth': 5, 'learning_rate': 0.1, 'subsample': 0.7, 'colsample_bytree': 0.5, 'gamma': 0, 'reg_alpha': 0.3, 'reg_lambda': 0.3} => RMSE: 3158406.1494, Relative RMSE: 0.0834\n",
      "Params: {'n_estimators': 200, 'max_depth': 5, 'learning_rate': 0.1, 'subsample': 0.7, 'colsample_bytree': 0.5, 'gamma': 0.1, 'reg_alpha': 0, 'reg_lambda': 0} => RMSE: 3037267.7912, Relative RMSE: 0.0802\n",
      "Params: {'n_estimators': 200, 'max_depth': 5, 'learning_rate': 0.1, 'subsample': 0.7, 'colsample_bytree': 0.5, 'gamma': 0.1, 'reg_alpha': 0, 'reg_lambda': 0.1} => RMSE: 3035536.7660, Relative RMSE: 0.0802\n",
      "Params: {'n_estimators': 200, 'max_depth': 5, 'learning_rate': 0.1, 'subsample': 0.7, 'colsample_bytree': 0.5, 'gamma': 0.1, 'reg_alpha': 0, 'reg_lambda': 0.3} => RMSE: 3158471.0692, Relative RMSE: 0.0834\n",
      "Params: {'n_estimators': 200, 'max_depth': 5, 'learning_rate': 0.1, 'subsample': 0.7, 'colsample_bytree': 0.5, 'gamma': 0.1, 'reg_alpha': 0.1, 'reg_lambda': 0} => RMSE: 3037279.0708, Relative RMSE: 0.0802\n",
      "Params: {'n_estimators': 200, 'max_depth': 5, 'learning_rate': 0.1, 'subsample': 0.7, 'colsample_bytree': 0.5, 'gamma': 0.1, 'reg_alpha': 0.1, 'reg_lambda': 0.1} => RMSE: 3035536.2321, Relative RMSE: 0.0802\n",
      "Params: {'n_estimators': 200, 'max_depth': 5, 'learning_rate': 0.1, 'subsample': 0.7, 'colsample_bytree': 0.5, 'gamma': 0.1, 'reg_alpha': 0.1, 'reg_lambda': 0.3} => RMSE: 3158406.1494, Relative RMSE: 0.0834\n",
      "Params: {'n_estimators': 200, 'max_depth': 5, 'learning_rate': 0.1, 'subsample': 0.7, 'colsample_bytree': 0.5, 'gamma': 0.1, 'reg_alpha': 0.3, 'reg_lambda': 0} => RMSE: 3037266.1044, Relative RMSE: 0.0802\n",
      "Params: {'n_estimators': 200, 'max_depth': 5, 'learning_rate': 0.1, 'subsample': 0.7, 'colsample_bytree': 0.5, 'gamma': 0.1, 'reg_alpha': 0.3, 'reg_lambda': 0.1} => RMSE: 3035536.2321, Relative RMSE: 0.0802\n",
      "Params: {'n_estimators': 200, 'max_depth': 5, 'learning_rate': 0.1, 'subsample': 0.7, 'colsample_bytree': 0.5, 'gamma': 0.1, 'reg_alpha': 0.3, 'reg_lambda': 0.3} => RMSE: 3158406.1494, Relative RMSE: 0.0834\n",
      "Params: {'n_estimators': 200, 'max_depth': 5, 'learning_rate': 0.1, 'subsample': 0.7, 'colsample_bytree': 0.5, 'gamma': 0.3, 'reg_alpha': 0, 'reg_lambda': 0} => RMSE: 3037267.7912, Relative RMSE: 0.0802\n",
      "Params: {'n_estimators': 200, 'max_depth': 5, 'learning_rate': 0.1, 'subsample': 0.7, 'colsample_bytree': 0.5, 'gamma': 0.3, 'reg_alpha': 0, 'reg_lambda': 0.1} => RMSE: 3035536.7660, Relative RMSE: 0.0802\n",
      "Params: {'n_estimators': 200, 'max_depth': 5, 'learning_rate': 0.1, 'subsample': 0.7, 'colsample_bytree': 0.5, 'gamma': 0.3, 'reg_alpha': 0, 'reg_lambda': 0.3} => RMSE: 3158471.0692, Relative RMSE: 0.0834\n",
      "Params: {'n_estimators': 200, 'max_depth': 5, 'learning_rate': 0.1, 'subsample': 0.7, 'colsample_bytree': 0.5, 'gamma': 0.3, 'reg_alpha': 0.1, 'reg_lambda': 0} => RMSE: 3037279.0708, Relative RMSE: 0.0802\n",
      "Params: {'n_estimators': 200, 'max_depth': 5, 'learning_rate': 0.1, 'subsample': 0.7, 'colsample_bytree': 0.5, 'gamma': 0.3, 'reg_alpha': 0.1, 'reg_lambda': 0.1} => RMSE: 3035536.2321, Relative RMSE: 0.0802\n",
      "Params: {'n_estimators': 200, 'max_depth': 5, 'learning_rate': 0.1, 'subsample': 0.7, 'colsample_bytree': 0.5, 'gamma': 0.3, 'reg_alpha': 0.1, 'reg_lambda': 0.3} => RMSE: 3158406.1494, Relative RMSE: 0.0834\n",
      "Params: {'n_estimators': 200, 'max_depth': 5, 'learning_rate': 0.1, 'subsample': 0.7, 'colsample_bytree': 0.5, 'gamma': 0.3, 'reg_alpha': 0.3, 'reg_lambda': 0} => RMSE: 3037266.1044, Relative RMSE: 0.0802\n",
      "Params: {'n_estimators': 200, 'max_depth': 5, 'learning_rate': 0.1, 'subsample': 0.7, 'colsample_bytree': 0.5, 'gamma': 0.3, 'reg_alpha': 0.3, 'reg_lambda': 0.1} => RMSE: 3035536.2321, Relative RMSE: 0.0802\n",
      "Params: {'n_estimators': 200, 'max_depth': 5, 'learning_rate': 0.1, 'subsample': 0.7, 'colsample_bytree': 0.5, 'gamma': 0.3, 'reg_alpha': 0.3, 'reg_lambda': 0.3} => RMSE: 3158406.1494, Relative RMSE: 0.0834\n",
      "Params: {'n_estimators': 200, 'max_depth': 5, 'learning_rate': 0.1, 'subsample': 0.7, 'colsample_bytree': 0.7, 'gamma': 0, 'reg_alpha': 0, 'reg_lambda': 0} => RMSE: 2959082.5180, Relative RMSE: 0.0782\n",
      "Params: {'n_estimators': 200, 'max_depth': 5, 'learning_rate': 0.1, 'subsample': 0.7, 'colsample_bytree': 0.7, 'gamma': 0, 'reg_alpha': 0, 'reg_lambda': 0.1} => RMSE: 2976416.3600, Relative RMSE: 0.0786\n",
      "Params: {'n_estimators': 200, 'max_depth': 5, 'learning_rate': 0.1, 'subsample': 0.7, 'colsample_bytree': 0.7, 'gamma': 0, 'reg_alpha': 0, 'reg_lambda': 0.3} => RMSE: 2875564.6751, Relative RMSE: 0.0760\n",
      "Params: {'n_estimators': 200, 'max_depth': 5, 'learning_rate': 0.1, 'subsample': 0.7, 'colsample_bytree': 0.7, 'gamma': 0, 'reg_alpha': 0.1, 'reg_lambda': 0} => RMSE: 2959094.2368, Relative RMSE: 0.0782\n",
      "Params: {'n_estimators': 200, 'max_depth': 5, 'learning_rate': 0.1, 'subsample': 0.7, 'colsample_bytree': 0.7, 'gamma': 0, 'reg_alpha': 0.1, 'reg_lambda': 0.1} => RMSE: 2975787.7836, Relative RMSE: 0.0786\n",
      "Params: {'n_estimators': 200, 'max_depth': 5, 'learning_rate': 0.1, 'subsample': 0.7, 'colsample_bytree': 0.7, 'gamma': 0, 'reg_alpha': 0.1, 'reg_lambda': 0.3} => RMSE: 2874440.0131, Relative RMSE: 0.0759\n",
      "Params: {'n_estimators': 200, 'max_depth': 5, 'learning_rate': 0.1, 'subsample': 0.7, 'colsample_bytree': 0.7, 'gamma': 0, 'reg_alpha': 0.3, 'reg_lambda': 0} => RMSE: 2959095.9957, Relative RMSE: 0.0782\n",
      "Params: {'n_estimators': 200, 'max_depth': 5, 'learning_rate': 0.1, 'subsample': 0.7, 'colsample_bytree': 0.7, 'gamma': 0, 'reg_alpha': 0.3, 'reg_lambda': 0.1} => RMSE: 2975768.9457, Relative RMSE: 0.0786\n",
      "Params: {'n_estimators': 200, 'max_depth': 5, 'learning_rate': 0.1, 'subsample': 0.7, 'colsample_bytree': 0.7, 'gamma': 0, 'reg_alpha': 0.3, 'reg_lambda': 0.3} => RMSE: 2874462.9941, Relative RMSE: 0.0759\n",
      "Params: {'n_estimators': 200, 'max_depth': 5, 'learning_rate': 0.1, 'subsample': 0.7, 'colsample_bytree': 0.7, 'gamma': 0.1, 'reg_alpha': 0, 'reg_lambda': 0} => RMSE: 2959082.5180, Relative RMSE: 0.0782\n",
      "Params: {'n_estimators': 200, 'max_depth': 5, 'learning_rate': 0.1, 'subsample': 0.7, 'colsample_bytree': 0.7, 'gamma': 0.1, 'reg_alpha': 0, 'reg_lambda': 0.1} => RMSE: 2976416.3600, Relative RMSE: 0.0786\n",
      "Params: {'n_estimators': 200, 'max_depth': 5, 'learning_rate': 0.1, 'subsample': 0.7, 'colsample_bytree': 0.7, 'gamma': 0.1, 'reg_alpha': 0, 'reg_lambda': 0.3} => RMSE: 2875564.6751, Relative RMSE: 0.0760\n",
      "Params: {'n_estimators': 200, 'max_depth': 5, 'learning_rate': 0.1, 'subsample': 0.7, 'colsample_bytree': 0.7, 'gamma': 0.1, 'reg_alpha': 0.1, 'reg_lambda': 0} => RMSE: 2959094.2368, Relative RMSE: 0.0782\n",
      "Params: {'n_estimators': 200, 'max_depth': 5, 'learning_rate': 0.1, 'subsample': 0.7, 'colsample_bytree': 0.7, 'gamma': 0.1, 'reg_alpha': 0.1, 'reg_lambda': 0.1} => RMSE: 2975787.7836, Relative RMSE: 0.0786\n",
      "Params: {'n_estimators': 200, 'max_depth': 5, 'learning_rate': 0.1, 'subsample': 0.7, 'colsample_bytree': 0.7, 'gamma': 0.1, 'reg_alpha': 0.1, 'reg_lambda': 0.3} => RMSE: 2874440.0131, Relative RMSE: 0.0759\n",
      "Params: {'n_estimators': 200, 'max_depth': 5, 'learning_rate': 0.1, 'subsample': 0.7, 'colsample_bytree': 0.7, 'gamma': 0.1, 'reg_alpha': 0.3, 'reg_lambda': 0} => RMSE: 2959095.9957, Relative RMSE: 0.0782\n",
      "Params: {'n_estimators': 200, 'max_depth': 5, 'learning_rate': 0.1, 'subsample': 0.7, 'colsample_bytree': 0.7, 'gamma': 0.1, 'reg_alpha': 0.3, 'reg_lambda': 0.1} => RMSE: 2975768.9457, Relative RMSE: 0.0786\n",
      "Params: {'n_estimators': 200, 'max_depth': 5, 'learning_rate': 0.1, 'subsample': 0.7, 'colsample_bytree': 0.7, 'gamma': 0.1, 'reg_alpha': 0.3, 'reg_lambda': 0.3} => RMSE: 2874462.9941, Relative RMSE: 0.0759\n",
      "Params: {'n_estimators': 200, 'max_depth': 5, 'learning_rate': 0.1, 'subsample': 0.7, 'colsample_bytree': 0.7, 'gamma': 0.3, 'reg_alpha': 0, 'reg_lambda': 0} => RMSE: 2959082.5180, Relative RMSE: 0.0782\n",
      "Params: {'n_estimators': 200, 'max_depth': 5, 'learning_rate': 0.1, 'subsample': 0.7, 'colsample_bytree': 0.7, 'gamma': 0.3, 'reg_alpha': 0, 'reg_lambda': 0.1} => RMSE: 2976416.3600, Relative RMSE: 0.0786\n",
      "Params: {'n_estimators': 200, 'max_depth': 5, 'learning_rate': 0.1, 'subsample': 0.7, 'colsample_bytree': 0.7, 'gamma': 0.3, 'reg_alpha': 0, 'reg_lambda': 0.3} => RMSE: 2875564.6751, Relative RMSE: 0.0760\n",
      "Params: {'n_estimators': 200, 'max_depth': 5, 'learning_rate': 0.1, 'subsample': 0.7, 'colsample_bytree': 0.7, 'gamma': 0.3, 'reg_alpha': 0.1, 'reg_lambda': 0} => RMSE: 2959094.2368, Relative RMSE: 0.0782\n",
      "Params: {'n_estimators': 200, 'max_depth': 5, 'learning_rate': 0.1, 'subsample': 0.7, 'colsample_bytree': 0.7, 'gamma': 0.3, 'reg_alpha': 0.1, 'reg_lambda': 0.1} => RMSE: 2975787.7836, Relative RMSE: 0.0786\n",
      "Params: {'n_estimators': 200, 'max_depth': 5, 'learning_rate': 0.1, 'subsample': 0.7, 'colsample_bytree': 0.7, 'gamma': 0.3, 'reg_alpha': 0.1, 'reg_lambda': 0.3} => RMSE: 2874440.0131, Relative RMSE: 0.0759\n",
      "Params: {'n_estimators': 200, 'max_depth': 5, 'learning_rate': 0.1, 'subsample': 0.7, 'colsample_bytree': 0.7, 'gamma': 0.3, 'reg_alpha': 0.3, 'reg_lambda': 0} => RMSE: 2959095.9957, Relative RMSE: 0.0782\n",
      "Params: {'n_estimators': 200, 'max_depth': 5, 'learning_rate': 0.1, 'subsample': 0.7, 'colsample_bytree': 0.7, 'gamma': 0.3, 'reg_alpha': 0.3, 'reg_lambda': 0.1} => RMSE: 2975768.9457, Relative RMSE: 0.0786\n",
      "Params: {'n_estimators': 200, 'max_depth': 5, 'learning_rate': 0.1, 'subsample': 0.7, 'colsample_bytree': 0.7, 'gamma': 0.3, 'reg_alpha': 0.3, 'reg_lambda': 0.3} => RMSE: 2874462.9941, Relative RMSE: 0.0759\n",
      "Params: {'n_estimators': 200, 'max_depth': 5, 'learning_rate': 0.1, 'subsample': 0.7, 'colsample_bytree': 1, 'gamma': 0, 'reg_alpha': 0, 'reg_lambda': 0} => RMSE: 2650194.6540, Relative RMSE: 0.0700\n",
      "Params: {'n_estimators': 200, 'max_depth': 5, 'learning_rate': 0.1, 'subsample': 0.7, 'colsample_bytree': 1, 'gamma': 0, 'reg_alpha': 0, 'reg_lambda': 0.1} => RMSE: 2539343.3629, Relative RMSE: 0.0671\n",
      "Params: {'n_estimators': 200, 'max_depth': 5, 'learning_rate': 0.1, 'subsample': 0.7, 'colsample_bytree': 1, 'gamma': 0, 'reg_alpha': 0, 'reg_lambda': 0.3} => RMSE: 2686118.3779, Relative RMSE: 0.0710\n",
      "Params: {'n_estimators': 200, 'max_depth': 5, 'learning_rate': 0.1, 'subsample': 0.7, 'colsample_bytree': 1, 'gamma': 0, 'reg_alpha': 0.1, 'reg_lambda': 0} => RMSE: 2649113.8316, Relative RMSE: 0.0700\n",
      "Params: {'n_estimators': 200, 'max_depth': 5, 'learning_rate': 0.1, 'subsample': 0.7, 'colsample_bytree': 1, 'gamma': 0, 'reg_alpha': 0.1, 'reg_lambda': 0.1} => RMSE: 2539342.1290, Relative RMSE: 0.0671\n",
      "Params: {'n_estimators': 200, 'max_depth': 5, 'learning_rate': 0.1, 'subsample': 0.7, 'colsample_bytree': 1, 'gamma': 0, 'reg_alpha': 0.1, 'reg_lambda': 0.3} => RMSE: 2686119.4385, Relative RMSE: 0.0710\n",
      "Params: {'n_estimators': 200, 'max_depth': 5, 'learning_rate': 0.1, 'subsample': 0.7, 'colsample_bytree': 1, 'gamma': 0, 'reg_alpha': 0.3, 'reg_lambda': 0} => RMSE: 2648964.8411, Relative RMSE: 0.0700\n",
      "Params: {'n_estimators': 200, 'max_depth': 5, 'learning_rate': 0.1, 'subsample': 0.7, 'colsample_bytree': 1, 'gamma': 0, 'reg_alpha': 0.3, 'reg_lambda': 0.1} => RMSE: 2539339.6910, Relative RMSE: 0.0671\n",
      "Params: {'n_estimators': 200, 'max_depth': 5, 'learning_rate': 0.1, 'subsample': 0.7, 'colsample_bytree': 1, 'gamma': 0, 'reg_alpha': 0.3, 'reg_lambda': 0.3} => RMSE: 2686119.4385, Relative RMSE: 0.0710\n",
      "Params: {'n_estimators': 200, 'max_depth': 5, 'learning_rate': 0.1, 'subsample': 0.7, 'colsample_bytree': 1, 'gamma': 0.1, 'reg_alpha': 0, 'reg_lambda': 0} => RMSE: 2650194.6540, Relative RMSE: 0.0700\n",
      "Params: {'n_estimators': 200, 'max_depth': 5, 'learning_rate': 0.1, 'subsample': 0.7, 'colsample_bytree': 1, 'gamma': 0.1, 'reg_alpha': 0, 'reg_lambda': 0.1} => RMSE: 2539343.3629, Relative RMSE: 0.0671\n",
      "Params: {'n_estimators': 200, 'max_depth': 5, 'learning_rate': 0.1, 'subsample': 0.7, 'colsample_bytree': 1, 'gamma': 0.1, 'reg_alpha': 0, 'reg_lambda': 0.3} => RMSE: 2686118.3779, Relative RMSE: 0.0710\n",
      "Params: {'n_estimators': 200, 'max_depth': 5, 'learning_rate': 0.1, 'subsample': 0.7, 'colsample_bytree': 1, 'gamma': 0.1, 'reg_alpha': 0.1, 'reg_lambda': 0} => RMSE: 2649113.8316, Relative RMSE: 0.0700\n",
      "Params: {'n_estimators': 200, 'max_depth': 5, 'learning_rate': 0.1, 'subsample': 0.7, 'colsample_bytree': 1, 'gamma': 0.1, 'reg_alpha': 0.1, 'reg_lambda': 0.1} => RMSE: 2539342.1290, Relative RMSE: 0.0671\n",
      "Params: {'n_estimators': 200, 'max_depth': 5, 'learning_rate': 0.1, 'subsample': 0.7, 'colsample_bytree': 1, 'gamma': 0.1, 'reg_alpha': 0.1, 'reg_lambda': 0.3} => RMSE: 2686119.4385, Relative RMSE: 0.0710\n",
      "Params: {'n_estimators': 200, 'max_depth': 5, 'learning_rate': 0.1, 'subsample': 0.7, 'colsample_bytree': 1, 'gamma': 0.1, 'reg_alpha': 0.3, 'reg_lambda': 0} => RMSE: 2648964.8411, Relative RMSE: 0.0700\n",
      "Params: {'n_estimators': 200, 'max_depth': 5, 'learning_rate': 0.1, 'subsample': 0.7, 'colsample_bytree': 1, 'gamma': 0.1, 'reg_alpha': 0.3, 'reg_lambda': 0.1} => RMSE: 2539339.6910, Relative RMSE: 0.0671\n",
      "Params: {'n_estimators': 200, 'max_depth': 5, 'learning_rate': 0.1, 'subsample': 0.7, 'colsample_bytree': 1, 'gamma': 0.1, 'reg_alpha': 0.3, 'reg_lambda': 0.3} => RMSE: 2686119.4385, Relative RMSE: 0.0710\n",
      "Params: {'n_estimators': 200, 'max_depth': 5, 'learning_rate': 0.1, 'subsample': 0.7, 'colsample_bytree': 1, 'gamma': 0.3, 'reg_alpha': 0, 'reg_lambda': 0} => RMSE: 2650194.6540, Relative RMSE: 0.0700\n",
      "Params: {'n_estimators': 200, 'max_depth': 5, 'learning_rate': 0.1, 'subsample': 0.7, 'colsample_bytree': 1, 'gamma': 0.3, 'reg_alpha': 0, 'reg_lambda': 0.1} => RMSE: 2539343.3629, Relative RMSE: 0.0671\n",
      "Params: {'n_estimators': 200, 'max_depth': 5, 'learning_rate': 0.1, 'subsample': 0.7, 'colsample_bytree': 1, 'gamma': 0.3, 'reg_alpha': 0, 'reg_lambda': 0.3} => RMSE: 2686118.3779, Relative RMSE: 0.0710\n",
      "Params: {'n_estimators': 200, 'max_depth': 5, 'learning_rate': 0.1, 'subsample': 0.7, 'colsample_bytree': 1, 'gamma': 0.3, 'reg_alpha': 0.1, 'reg_lambda': 0} => RMSE: 2649113.8316, Relative RMSE: 0.0700\n",
      "Params: {'n_estimators': 200, 'max_depth': 5, 'learning_rate': 0.1, 'subsample': 0.7, 'colsample_bytree': 1, 'gamma': 0.3, 'reg_alpha': 0.1, 'reg_lambda': 0.1} => RMSE: 2539342.1290, Relative RMSE: 0.0671\n",
      "Params: {'n_estimators': 200, 'max_depth': 5, 'learning_rate': 0.1, 'subsample': 0.7, 'colsample_bytree': 1, 'gamma': 0.3, 'reg_alpha': 0.1, 'reg_lambda': 0.3} => RMSE: 2686119.4385, Relative RMSE: 0.0710\n",
      "Params: {'n_estimators': 200, 'max_depth': 5, 'learning_rate': 0.1, 'subsample': 0.7, 'colsample_bytree': 1, 'gamma': 0.3, 'reg_alpha': 0.3, 'reg_lambda': 0} => RMSE: 2648964.8411, Relative RMSE: 0.0700\n",
      "Params: {'n_estimators': 200, 'max_depth': 5, 'learning_rate': 0.1, 'subsample': 0.7, 'colsample_bytree': 1, 'gamma': 0.3, 'reg_alpha': 0.3, 'reg_lambda': 0.1} => RMSE: 2539339.6910, Relative RMSE: 0.0671\n",
      "Params: {'n_estimators': 200, 'max_depth': 5, 'learning_rate': 0.1, 'subsample': 0.7, 'colsample_bytree': 1, 'gamma': 0.3, 'reg_alpha': 0.3, 'reg_lambda': 0.3} => RMSE: 2686119.4385, Relative RMSE: 0.0710\n",
      "Params: {'n_estimators': 200, 'max_depth': 5, 'learning_rate': 0.3, 'subsample': 0.5, 'colsample_bytree': 0.5, 'gamma': 0, 'reg_alpha': 0, 'reg_lambda': 0} => RMSE: 3069792.4778, Relative RMSE: 0.0811\n",
      "Params: {'n_estimators': 200, 'max_depth': 5, 'learning_rate': 0.3, 'subsample': 0.5, 'colsample_bytree': 0.5, 'gamma': 0, 'reg_alpha': 0, 'reg_lambda': 0.1} => RMSE: 2929905.7569, Relative RMSE: 0.0774\n",
      "Params: {'n_estimators': 200, 'max_depth': 5, 'learning_rate': 0.3, 'subsample': 0.5, 'colsample_bytree': 0.5, 'gamma': 0, 'reg_alpha': 0, 'reg_lambda': 0.3} => RMSE: 2849445.9468, Relative RMSE: 0.0753\n",
      "Params: {'n_estimators': 200, 'max_depth': 5, 'learning_rate': 0.3, 'subsample': 0.5, 'colsample_bytree': 0.5, 'gamma': 0, 'reg_alpha': 0.1, 'reg_lambda': 0} => RMSE: 3069756.4460, Relative RMSE: 0.0811\n",
      "Params: {'n_estimators': 200, 'max_depth': 5, 'learning_rate': 0.3, 'subsample': 0.5, 'colsample_bytree': 0.5, 'gamma': 0, 'reg_alpha': 0.1, 'reg_lambda': 0.1} => RMSE: 2929899.1554, Relative RMSE: 0.0774\n",
      "Params: {'n_estimators': 200, 'max_depth': 5, 'learning_rate': 0.3, 'subsample': 0.5, 'colsample_bytree': 0.5, 'gamma': 0, 'reg_alpha': 0.1, 'reg_lambda': 0.3} => RMSE: 2849512.9990, Relative RMSE: 0.0753\n",
      "Params: {'n_estimators': 200, 'max_depth': 5, 'learning_rate': 0.3, 'subsample': 0.5, 'colsample_bytree': 0.5, 'gamma': 0, 'reg_alpha': 0.3, 'reg_lambda': 0} => RMSE: 3069820.4583, Relative RMSE: 0.0811\n",
      "Params: {'n_estimators': 200, 'max_depth': 5, 'learning_rate': 0.3, 'subsample': 0.5, 'colsample_bytree': 0.5, 'gamma': 0, 'reg_alpha': 0.3, 'reg_lambda': 0.1} => RMSE: 2929896.3005, Relative RMSE: 0.0774\n",
      "Params: {'n_estimators': 200, 'max_depth': 5, 'learning_rate': 0.3, 'subsample': 0.5, 'colsample_bytree': 0.5, 'gamma': 0, 'reg_alpha': 0.3, 'reg_lambda': 0.3} => RMSE: 2846022.2990, Relative RMSE: 0.0752\n",
      "Params: {'n_estimators': 200, 'max_depth': 5, 'learning_rate': 0.3, 'subsample': 0.5, 'colsample_bytree': 0.5, 'gamma': 0.1, 'reg_alpha': 0, 'reg_lambda': 0} => RMSE: 3069792.4778, Relative RMSE: 0.0811\n",
      "Params: {'n_estimators': 200, 'max_depth': 5, 'learning_rate': 0.3, 'subsample': 0.5, 'colsample_bytree': 0.5, 'gamma': 0.1, 'reg_alpha': 0, 'reg_lambda': 0.1} => RMSE: 2929905.6648, Relative RMSE: 0.0774\n",
      "Params: {'n_estimators': 200, 'max_depth': 5, 'learning_rate': 0.3, 'subsample': 0.5, 'colsample_bytree': 0.5, 'gamma': 0.1, 'reg_alpha': 0, 'reg_lambda': 0.3} => RMSE: 2849445.9468, Relative RMSE: 0.0753\n",
      "Params: {'n_estimators': 200, 'max_depth': 5, 'learning_rate': 0.3, 'subsample': 0.5, 'colsample_bytree': 0.5, 'gamma': 0.1, 'reg_alpha': 0.1, 'reg_lambda': 0} => RMSE: 3069756.4460, Relative RMSE: 0.0811\n",
      "Params: {'n_estimators': 200, 'max_depth': 5, 'learning_rate': 0.3, 'subsample': 0.5, 'colsample_bytree': 0.5, 'gamma': 0.1, 'reg_alpha': 0.1, 'reg_lambda': 0.1} => RMSE: 2929899.1554, Relative RMSE: 0.0774\n",
      "Params: {'n_estimators': 200, 'max_depth': 5, 'learning_rate': 0.3, 'subsample': 0.5, 'colsample_bytree': 0.5, 'gamma': 0.1, 'reg_alpha': 0.1, 'reg_lambda': 0.3} => RMSE: 2849512.9990, Relative RMSE: 0.0753\n",
      "Params: {'n_estimators': 200, 'max_depth': 5, 'learning_rate': 0.3, 'subsample': 0.5, 'colsample_bytree': 0.5, 'gamma': 0.1, 'reg_alpha': 0.3, 'reg_lambda': 0} => RMSE: 3069820.4583, Relative RMSE: 0.0811\n",
      "Params: {'n_estimators': 200, 'max_depth': 5, 'learning_rate': 0.3, 'subsample': 0.5, 'colsample_bytree': 0.5, 'gamma': 0.1, 'reg_alpha': 0.3, 'reg_lambda': 0.1} => RMSE: 2929896.3005, Relative RMSE: 0.0774\n",
      "Params: {'n_estimators': 200, 'max_depth': 5, 'learning_rate': 0.3, 'subsample': 0.5, 'colsample_bytree': 0.5, 'gamma': 0.1, 'reg_alpha': 0.3, 'reg_lambda': 0.3} => RMSE: 2846020.7575, Relative RMSE: 0.0752\n",
      "Params: {'n_estimators': 200, 'max_depth': 5, 'learning_rate': 0.3, 'subsample': 0.5, 'colsample_bytree': 0.5, 'gamma': 0.3, 'reg_alpha': 0, 'reg_lambda': 0} => RMSE: 3069792.4778, Relative RMSE: 0.0811\n",
      "Params: {'n_estimators': 200, 'max_depth': 5, 'learning_rate': 0.3, 'subsample': 0.5, 'colsample_bytree': 0.5, 'gamma': 0.3, 'reg_alpha': 0, 'reg_lambda': 0.1} => RMSE: 2929905.6648, Relative RMSE: 0.0774\n",
      "Params: {'n_estimators': 200, 'max_depth': 5, 'learning_rate': 0.3, 'subsample': 0.5, 'colsample_bytree': 0.5, 'gamma': 0.3, 'reg_alpha': 0, 'reg_lambda': 0.3} => RMSE: 2849445.9468, Relative RMSE: 0.0753\n",
      "Params: {'n_estimators': 200, 'max_depth': 5, 'learning_rate': 0.3, 'subsample': 0.5, 'colsample_bytree': 0.5, 'gamma': 0.3, 'reg_alpha': 0.1, 'reg_lambda': 0} => RMSE: 3069756.4460, Relative RMSE: 0.0811\n",
      "Params: {'n_estimators': 200, 'max_depth': 5, 'learning_rate': 0.3, 'subsample': 0.5, 'colsample_bytree': 0.5, 'gamma': 0.3, 'reg_alpha': 0.1, 'reg_lambda': 0.1} => RMSE: 2929899.1554, Relative RMSE: 0.0774\n",
      "Params: {'n_estimators': 200, 'max_depth': 5, 'learning_rate': 0.3, 'subsample': 0.5, 'colsample_bytree': 0.5, 'gamma': 0.3, 'reg_alpha': 0.1, 'reg_lambda': 0.3} => RMSE: 2849512.9990, Relative RMSE: 0.0753\n",
      "Params: {'n_estimators': 200, 'max_depth': 5, 'learning_rate': 0.3, 'subsample': 0.5, 'colsample_bytree': 0.5, 'gamma': 0.3, 'reg_alpha': 0.3, 'reg_lambda': 0} => RMSE: 3069820.4583, Relative RMSE: 0.0811\n",
      "Params: {'n_estimators': 200, 'max_depth': 5, 'learning_rate': 0.3, 'subsample': 0.5, 'colsample_bytree': 0.5, 'gamma': 0.3, 'reg_alpha': 0.3, 'reg_lambda': 0.1} => RMSE: 2929896.3005, Relative RMSE: 0.0774\n",
      "Params: {'n_estimators': 200, 'max_depth': 5, 'learning_rate': 0.3, 'subsample': 0.5, 'colsample_bytree': 0.5, 'gamma': 0.3, 'reg_alpha': 0.3, 'reg_lambda': 0.3} => RMSE: 2846020.7575, Relative RMSE: 0.0752\n",
      "Params: {'n_estimators': 200, 'max_depth': 5, 'learning_rate': 0.3, 'subsample': 0.5, 'colsample_bytree': 0.7, 'gamma': 0, 'reg_alpha': 0, 'reg_lambda': 0} => RMSE: 3014064.9868, Relative RMSE: 0.0796\n",
      "Params: {'n_estimators': 200, 'max_depth': 5, 'learning_rate': 0.3, 'subsample': 0.5, 'colsample_bytree': 0.7, 'gamma': 0, 'reg_alpha': 0, 'reg_lambda': 0.1} => RMSE: 3244096.9737, Relative RMSE: 0.0857\n",
      "Params: {'n_estimators': 200, 'max_depth': 5, 'learning_rate': 0.3, 'subsample': 0.5, 'colsample_bytree': 0.7, 'gamma': 0, 'reg_alpha': 0, 'reg_lambda': 0.3} => RMSE: 3090100.9886, Relative RMSE: 0.0816\n",
      "Params: {'n_estimators': 200, 'max_depth': 5, 'learning_rate': 0.3, 'subsample': 0.5, 'colsample_bytree': 0.7, 'gamma': 0, 'reg_alpha': 0.1, 'reg_lambda': 0} => RMSE: 3013996.0688, Relative RMSE: 0.0796\n",
      "Params: {'n_estimators': 200, 'max_depth': 5, 'learning_rate': 0.3, 'subsample': 0.5, 'colsample_bytree': 0.7, 'gamma': 0, 'reg_alpha': 0.1, 'reg_lambda': 0.1} => RMSE: 3244086.9445, Relative RMSE: 0.0857\n",
      "Params: {'n_estimators': 200, 'max_depth': 5, 'learning_rate': 0.3, 'subsample': 0.5, 'colsample_bytree': 0.7, 'gamma': 0, 'reg_alpha': 0.1, 'reg_lambda': 0.3} => RMSE: 3090088.1852, Relative RMSE: 0.0816\n",
      "Params: {'n_estimators': 200, 'max_depth': 5, 'learning_rate': 0.3, 'subsample': 0.5, 'colsample_bytree': 0.7, 'gamma': 0, 'reg_alpha': 0.3, 'reg_lambda': 0} => RMSE: 3013977.0515, Relative RMSE: 0.0796\n",
      "Params: {'n_estimators': 200, 'max_depth': 5, 'learning_rate': 0.3, 'subsample': 0.5, 'colsample_bytree': 0.7, 'gamma': 0, 'reg_alpha': 0.3, 'reg_lambda': 0.1} => RMSE: 3244104.7061, Relative RMSE: 0.0857\n",
      "Params: {'n_estimators': 200, 'max_depth': 5, 'learning_rate': 0.3, 'subsample': 0.5, 'colsample_bytree': 0.7, 'gamma': 0, 'reg_alpha': 0.3, 'reg_lambda': 0.3} => RMSE: 3090089.1907, Relative RMSE: 0.0816\n",
      "Params: {'n_estimators': 200, 'max_depth': 5, 'learning_rate': 0.3, 'subsample': 0.5, 'colsample_bytree': 0.7, 'gamma': 0.1, 'reg_alpha': 0, 'reg_lambda': 0} => RMSE: 3014064.9868, Relative RMSE: 0.0796\n",
      "Params: {'n_estimators': 200, 'max_depth': 5, 'learning_rate': 0.3, 'subsample': 0.5, 'colsample_bytree': 0.7, 'gamma': 0.1, 'reg_alpha': 0, 'reg_lambda': 0.1} => RMSE: 3244096.9737, Relative RMSE: 0.0857\n",
      "Params: {'n_estimators': 200, 'max_depth': 5, 'learning_rate': 0.3, 'subsample': 0.5, 'colsample_bytree': 0.7, 'gamma': 0.1, 'reg_alpha': 0, 'reg_lambda': 0.3} => RMSE: 3090100.9886, Relative RMSE: 0.0816\n",
      "Params: {'n_estimators': 200, 'max_depth': 5, 'learning_rate': 0.3, 'subsample': 0.5, 'colsample_bytree': 0.7, 'gamma': 0.1, 'reg_alpha': 0.1, 'reg_lambda': 0} => RMSE: 3013996.0688, Relative RMSE: 0.0796\n",
      "Params: {'n_estimators': 200, 'max_depth': 5, 'learning_rate': 0.3, 'subsample': 0.5, 'colsample_bytree': 0.7, 'gamma': 0.1, 'reg_alpha': 0.1, 'reg_lambda': 0.1} => RMSE: 3244086.9445, Relative RMSE: 0.0857\n",
      "Params: {'n_estimators': 200, 'max_depth': 5, 'learning_rate': 0.3, 'subsample': 0.5, 'colsample_bytree': 0.7, 'gamma': 0.1, 'reg_alpha': 0.1, 'reg_lambda': 0.3} => RMSE: 3090088.1852, Relative RMSE: 0.0816\n",
      "Params: {'n_estimators': 200, 'max_depth': 5, 'learning_rate': 0.3, 'subsample': 0.5, 'colsample_bytree': 0.7, 'gamma': 0.1, 'reg_alpha': 0.3, 'reg_lambda': 0} => RMSE: 3013977.0515, Relative RMSE: 0.0796\n",
      "Params: {'n_estimators': 200, 'max_depth': 5, 'learning_rate': 0.3, 'subsample': 0.5, 'colsample_bytree': 0.7, 'gamma': 0.1, 'reg_alpha': 0.3, 'reg_lambda': 0.1} => RMSE: 3244104.7061, Relative RMSE: 0.0857\n",
      "Params: {'n_estimators': 200, 'max_depth': 5, 'learning_rate': 0.3, 'subsample': 0.5, 'colsample_bytree': 0.7, 'gamma': 0.1, 'reg_alpha': 0.3, 'reg_lambda': 0.3} => RMSE: 3090089.0569, Relative RMSE: 0.0816\n",
      "Params: {'n_estimators': 200, 'max_depth': 5, 'learning_rate': 0.3, 'subsample': 0.5, 'colsample_bytree': 0.7, 'gamma': 0.3, 'reg_alpha': 0, 'reg_lambda': 0} => RMSE: 3014064.9868, Relative RMSE: 0.0796\n",
      "Params: {'n_estimators': 200, 'max_depth': 5, 'learning_rate': 0.3, 'subsample': 0.5, 'colsample_bytree': 0.7, 'gamma': 0.3, 'reg_alpha': 0, 'reg_lambda': 0.1} => RMSE: 3244096.9737, Relative RMSE: 0.0857\n",
      "Params: {'n_estimators': 200, 'max_depth': 5, 'learning_rate': 0.3, 'subsample': 0.5, 'colsample_bytree': 0.7, 'gamma': 0.3, 'reg_alpha': 0, 'reg_lambda': 0.3} => RMSE: 3090100.9886, Relative RMSE: 0.0816\n",
      "Params: {'n_estimators': 200, 'max_depth': 5, 'learning_rate': 0.3, 'subsample': 0.5, 'colsample_bytree': 0.7, 'gamma': 0.3, 'reg_alpha': 0.1, 'reg_lambda': 0} => RMSE: 3013996.0688, Relative RMSE: 0.0796\n",
      "Params: {'n_estimators': 200, 'max_depth': 5, 'learning_rate': 0.3, 'subsample': 0.5, 'colsample_bytree': 0.7, 'gamma': 0.3, 'reg_alpha': 0.1, 'reg_lambda': 0.1} => RMSE: 3244086.9445, Relative RMSE: 0.0857\n",
      "Params: {'n_estimators': 200, 'max_depth': 5, 'learning_rate': 0.3, 'subsample': 0.5, 'colsample_bytree': 0.7, 'gamma': 0.3, 'reg_alpha': 0.1, 'reg_lambda': 0.3} => RMSE: 3090087.4708, Relative RMSE: 0.0816\n",
      "Params: {'n_estimators': 200, 'max_depth': 5, 'learning_rate': 0.3, 'subsample': 0.5, 'colsample_bytree': 0.7, 'gamma': 0.3, 'reg_alpha': 0.3, 'reg_lambda': 0} => RMSE: 3013977.0515, Relative RMSE: 0.0796\n",
      "Params: {'n_estimators': 200, 'max_depth': 5, 'learning_rate': 0.3, 'subsample': 0.5, 'colsample_bytree': 0.7, 'gamma': 0.3, 'reg_alpha': 0.3, 'reg_lambda': 0.1} => RMSE: 3244104.7061, Relative RMSE: 0.0857\n",
      "Params: {'n_estimators': 200, 'max_depth': 5, 'learning_rate': 0.3, 'subsample': 0.5, 'colsample_bytree': 0.7, 'gamma': 0.3, 'reg_alpha': 0.3, 'reg_lambda': 0.3} => RMSE: 3090089.0569, Relative RMSE: 0.0816\n",
      "Params: {'n_estimators': 200, 'max_depth': 5, 'learning_rate': 0.3, 'subsample': 0.5, 'colsample_bytree': 1, 'gamma': 0, 'reg_alpha': 0, 'reg_lambda': 0} => RMSE: 2816231.2372, Relative RMSE: 0.0744\n",
      "Params: {'n_estimators': 200, 'max_depth': 5, 'learning_rate': 0.3, 'subsample': 0.5, 'colsample_bytree': 1, 'gamma': 0, 'reg_alpha': 0, 'reg_lambda': 0.1} => RMSE: 2662034.1546, Relative RMSE: 0.0703\n",
      "Params: {'n_estimators': 200, 'max_depth': 5, 'learning_rate': 0.3, 'subsample': 0.5, 'colsample_bytree': 1, 'gamma': 0, 'reg_alpha': 0, 'reg_lambda': 0.3} => RMSE: 2893099.0829, Relative RMSE: 0.0764\n",
      "Params: {'n_estimators': 200, 'max_depth': 5, 'learning_rate': 0.3, 'subsample': 0.5, 'colsample_bytree': 1, 'gamma': 0, 'reg_alpha': 0.1, 'reg_lambda': 0} => RMSE: 2816203.8360, Relative RMSE: 0.0744\n",
      "Params: {'n_estimators': 200, 'max_depth': 5, 'learning_rate': 0.3, 'subsample': 0.5, 'colsample_bytree': 1, 'gamma': 0, 'reg_alpha': 0.1, 'reg_lambda': 0.1} => RMSE: 2662015.1241, Relative RMSE: 0.0703\n",
      "Params: {'n_estimators': 200, 'max_depth': 5, 'learning_rate': 0.3, 'subsample': 0.5, 'colsample_bytree': 1, 'gamma': 0, 'reg_alpha': 0.1, 'reg_lambda': 0.3} => RMSE: 2893046.5297, Relative RMSE: 0.0764\n",
      "Params: {'n_estimators': 200, 'max_depth': 5, 'learning_rate': 0.3, 'subsample': 0.5, 'colsample_bytree': 1, 'gamma': 0, 'reg_alpha': 0.3, 'reg_lambda': 0} => RMSE: 2816218.0603, Relative RMSE: 0.0744\n",
      "Params: {'n_estimators': 200, 'max_depth': 5, 'learning_rate': 0.3, 'subsample': 0.5, 'colsample_bytree': 1, 'gamma': 0, 'reg_alpha': 0.3, 'reg_lambda': 0.1} => RMSE: 2662009.3531, Relative RMSE: 0.0703\n",
      "Params: {'n_estimators': 200, 'max_depth': 5, 'learning_rate': 0.3, 'subsample': 0.5, 'colsample_bytree': 1, 'gamma': 0, 'reg_alpha': 0.3, 'reg_lambda': 0.3} => RMSE: 2893051.7616, Relative RMSE: 0.0764\n",
      "Params: {'n_estimators': 200, 'max_depth': 5, 'learning_rate': 0.3, 'subsample': 0.5, 'colsample_bytree': 1, 'gamma': 0.1, 'reg_alpha': 0, 'reg_lambda': 0} => RMSE: 2816231.2372, Relative RMSE: 0.0744\n",
      "Params: {'n_estimators': 200, 'max_depth': 5, 'learning_rate': 0.3, 'subsample': 0.5, 'colsample_bytree': 1, 'gamma': 0.1, 'reg_alpha': 0, 'reg_lambda': 0.1} => RMSE: 2662034.6864, Relative RMSE: 0.0703\n",
      "Params: {'n_estimators': 200, 'max_depth': 5, 'learning_rate': 0.3, 'subsample': 0.5, 'colsample_bytree': 1, 'gamma': 0.1, 'reg_alpha': 0, 'reg_lambda': 0.3} => RMSE: 2893099.0829, Relative RMSE: 0.0764\n",
      "Params: {'n_estimators': 200, 'max_depth': 5, 'learning_rate': 0.3, 'subsample': 0.5, 'colsample_bytree': 1, 'gamma': 0.1, 'reg_alpha': 0.1, 'reg_lambda': 0} => RMSE: 2816203.8360, Relative RMSE: 0.0744\n",
      "Params: {'n_estimators': 200, 'max_depth': 5, 'learning_rate': 0.3, 'subsample': 0.5, 'colsample_bytree': 1, 'gamma': 0.1, 'reg_alpha': 0.1, 'reg_lambda': 0.1} => RMSE: 2662015.1241, Relative RMSE: 0.0703\n",
      "Params: {'n_estimators': 200, 'max_depth': 5, 'learning_rate': 0.3, 'subsample': 0.5, 'colsample_bytree': 1, 'gamma': 0.1, 'reg_alpha': 0.1, 'reg_lambda': 0.3} => RMSE: 2893046.5297, Relative RMSE: 0.0764\n",
      "Params: {'n_estimators': 200, 'max_depth': 5, 'learning_rate': 0.3, 'subsample': 0.5, 'colsample_bytree': 1, 'gamma': 0.1, 'reg_alpha': 0.3, 'reg_lambda': 0} => RMSE: 2816218.0603, Relative RMSE: 0.0744\n",
      "Params: {'n_estimators': 200, 'max_depth': 5, 'learning_rate': 0.3, 'subsample': 0.5, 'colsample_bytree': 1, 'gamma': 0.1, 'reg_alpha': 0.3, 'reg_lambda': 0.1} => RMSE: 2662009.3531, Relative RMSE: 0.0703\n",
      "Params: {'n_estimators': 200, 'max_depth': 5, 'learning_rate': 0.3, 'subsample': 0.5, 'colsample_bytree': 1, 'gamma': 0.1, 'reg_alpha': 0.3, 'reg_lambda': 0.3} => RMSE: 2893060.3034, Relative RMSE: 0.0764\n",
      "Params: {'n_estimators': 200, 'max_depth': 5, 'learning_rate': 0.3, 'subsample': 0.5, 'colsample_bytree': 1, 'gamma': 0.3, 'reg_alpha': 0, 'reg_lambda': 0} => RMSE: 2816231.2372, Relative RMSE: 0.0744\n",
      "Params: {'n_estimators': 200, 'max_depth': 5, 'learning_rate': 0.3, 'subsample': 0.5, 'colsample_bytree': 1, 'gamma': 0.3, 'reg_alpha': 0, 'reg_lambda': 0.1} => RMSE: 2662034.6864, Relative RMSE: 0.0703\n",
      "Params: {'n_estimators': 200, 'max_depth': 5, 'learning_rate': 0.3, 'subsample': 0.5, 'colsample_bytree': 1, 'gamma': 0.3, 'reg_alpha': 0, 'reg_lambda': 0.3} => RMSE: 2893099.0829, Relative RMSE: 0.0764\n",
      "Params: {'n_estimators': 200, 'max_depth': 5, 'learning_rate': 0.3, 'subsample': 0.5, 'colsample_bytree': 1, 'gamma': 0.3, 'reg_alpha': 0.1, 'reg_lambda': 0} => RMSE: 2816203.8360, Relative RMSE: 0.0744\n",
      "Params: {'n_estimators': 200, 'max_depth': 5, 'learning_rate': 0.3, 'subsample': 0.5, 'colsample_bytree': 1, 'gamma': 0.3, 'reg_alpha': 0.1, 'reg_lambda': 0.1} => RMSE: 2662015.1241, Relative RMSE: 0.0703\n",
      "Params: {'n_estimators': 200, 'max_depth': 5, 'learning_rate': 0.3, 'subsample': 0.5, 'colsample_bytree': 1, 'gamma': 0.3, 'reg_alpha': 0.1, 'reg_lambda': 0.3} => RMSE: 2893046.5297, Relative RMSE: 0.0764\n",
      "Params: {'n_estimators': 200, 'max_depth': 5, 'learning_rate': 0.3, 'subsample': 0.5, 'colsample_bytree': 1, 'gamma': 0.3, 'reg_alpha': 0.3, 'reg_lambda': 0} => RMSE: 2816218.0603, Relative RMSE: 0.0744\n",
      "Params: {'n_estimators': 200, 'max_depth': 5, 'learning_rate': 0.3, 'subsample': 0.5, 'colsample_bytree': 1, 'gamma': 0.3, 'reg_alpha': 0.3, 'reg_lambda': 0.1} => RMSE: 2662009.3531, Relative RMSE: 0.0703\n",
      "Params: {'n_estimators': 200, 'max_depth': 5, 'learning_rate': 0.3, 'subsample': 0.5, 'colsample_bytree': 1, 'gamma': 0.3, 'reg_alpha': 0.3, 'reg_lambda': 0.3} => RMSE: 2893060.3034, Relative RMSE: 0.0764\n",
      "Params: {'n_estimators': 200, 'max_depth': 5, 'learning_rate': 0.3, 'subsample': 0.7, 'colsample_bytree': 0.5, 'gamma': 0, 'reg_alpha': 0, 'reg_lambda': 0} => RMSE: 3443587.8787, Relative RMSE: 0.0910\n",
      "Params: {'n_estimators': 200, 'max_depth': 5, 'learning_rate': 0.3, 'subsample': 0.7, 'colsample_bytree': 0.5, 'gamma': 0, 'reg_alpha': 0, 'reg_lambda': 0.1} => RMSE: 3404418.9610, Relative RMSE: 0.0899\n",
      "Params: {'n_estimators': 200, 'max_depth': 5, 'learning_rate': 0.3, 'subsample': 0.7, 'colsample_bytree': 0.5, 'gamma': 0, 'reg_alpha': 0, 'reg_lambda': 0.3} => RMSE: 3530467.5206, Relative RMSE: 0.0933\n",
      "Params: {'n_estimators': 200, 'max_depth': 5, 'learning_rate': 0.3, 'subsample': 0.7, 'colsample_bytree': 0.5, 'gamma': 0, 'reg_alpha': 0.1, 'reg_lambda': 0} => RMSE: 3443536.3624, Relative RMSE: 0.0910\n",
      "Params: {'n_estimators': 200, 'max_depth': 5, 'learning_rate': 0.3, 'subsample': 0.7, 'colsample_bytree': 0.5, 'gamma': 0, 'reg_alpha': 0.1, 'reg_lambda': 0.1} => RMSE: 3404422.8734, Relative RMSE: 0.0899\n",
      "Params: {'n_estimators': 200, 'max_depth': 5, 'learning_rate': 0.3, 'subsample': 0.7, 'colsample_bytree': 0.5, 'gamma': 0, 'reg_alpha': 0.1, 'reg_lambda': 0.3} => RMSE: 3530473.6777, Relative RMSE: 0.0933\n",
      "Params: {'n_estimators': 200, 'max_depth': 5, 'learning_rate': 0.3, 'subsample': 0.7, 'colsample_bytree': 0.5, 'gamma': 0, 'reg_alpha': 0.3, 'reg_lambda': 0} => RMSE: 3443536.7476, Relative RMSE: 0.0910\n",
      "Params: {'n_estimators': 200, 'max_depth': 5, 'learning_rate': 0.3, 'subsample': 0.7, 'colsample_bytree': 0.5, 'gamma': 0, 'reg_alpha': 0.3, 'reg_lambda': 0.1} => RMSE: 3404420.8255, Relative RMSE: 0.0899\n",
      "Params: {'n_estimators': 200, 'max_depth': 5, 'learning_rate': 0.3, 'subsample': 0.7, 'colsample_bytree': 0.5, 'gamma': 0, 'reg_alpha': 0.3, 'reg_lambda': 0.3} => RMSE: 3530469.1780, Relative RMSE: 0.0933\n",
      "Params: {'n_estimators': 200, 'max_depth': 5, 'learning_rate': 0.3, 'subsample': 0.7, 'colsample_bytree': 0.5, 'gamma': 0.1, 'reg_alpha': 0, 'reg_lambda': 0} => RMSE: 3443587.8787, Relative RMSE: 0.0910\n",
      "Params: {'n_estimators': 200, 'max_depth': 5, 'learning_rate': 0.3, 'subsample': 0.7, 'colsample_bytree': 0.5, 'gamma': 0.1, 'reg_alpha': 0, 'reg_lambda': 0.1} => RMSE: 3404418.9610, Relative RMSE: 0.0899\n",
      "Params: {'n_estimators': 200, 'max_depth': 5, 'learning_rate': 0.3, 'subsample': 0.7, 'colsample_bytree': 0.5, 'gamma': 0.1, 'reg_alpha': 0, 'reg_lambda': 0.3} => RMSE: 3530467.5206, Relative RMSE: 0.0933\n",
      "Params: {'n_estimators': 200, 'max_depth': 5, 'learning_rate': 0.3, 'subsample': 0.7, 'colsample_bytree': 0.5, 'gamma': 0.1, 'reg_alpha': 0.1, 'reg_lambda': 0} => RMSE: 3443536.3624, Relative RMSE: 0.0910\n",
      "Params: {'n_estimators': 200, 'max_depth': 5, 'learning_rate': 0.3, 'subsample': 0.7, 'colsample_bytree': 0.5, 'gamma': 0.1, 'reg_alpha': 0.1, 'reg_lambda': 0.1} => RMSE: 3404422.8734, Relative RMSE: 0.0899\n",
      "Params: {'n_estimators': 200, 'max_depth': 5, 'learning_rate': 0.3, 'subsample': 0.7, 'colsample_bytree': 0.5, 'gamma': 0.1, 'reg_alpha': 0.1, 'reg_lambda': 0.3} => RMSE: 3530473.6777, Relative RMSE: 0.0933\n",
      "Params: {'n_estimators': 200, 'max_depth': 5, 'learning_rate': 0.3, 'subsample': 0.7, 'colsample_bytree': 0.5, 'gamma': 0.1, 'reg_alpha': 0.3, 'reg_lambda': 0} => RMSE: 3443536.7476, Relative RMSE: 0.0910\n",
      "Params: {'n_estimators': 200, 'max_depth': 5, 'learning_rate': 0.3, 'subsample': 0.7, 'colsample_bytree': 0.5, 'gamma': 0.1, 'reg_alpha': 0.3, 'reg_lambda': 0.1} => RMSE: 3404420.8255, Relative RMSE: 0.0899\n",
      "Params: {'n_estimators': 200, 'max_depth': 5, 'learning_rate': 0.3, 'subsample': 0.7, 'colsample_bytree': 0.5, 'gamma': 0.1, 'reg_alpha': 0.3, 'reg_lambda': 0.3} => RMSE: 3530469.1780, Relative RMSE: 0.0933\n",
      "Params: {'n_estimators': 200, 'max_depth': 5, 'learning_rate': 0.3, 'subsample': 0.7, 'colsample_bytree': 0.5, 'gamma': 0.3, 'reg_alpha': 0, 'reg_lambda': 0} => RMSE: 3443587.8787, Relative RMSE: 0.0910\n",
      "Params: {'n_estimators': 200, 'max_depth': 5, 'learning_rate': 0.3, 'subsample': 0.7, 'colsample_bytree': 0.5, 'gamma': 0.3, 'reg_alpha': 0, 'reg_lambda': 0.1} => RMSE: 3404418.9610, Relative RMSE: 0.0899\n",
      "Params: {'n_estimators': 200, 'max_depth': 5, 'learning_rate': 0.3, 'subsample': 0.7, 'colsample_bytree': 0.5, 'gamma': 0.3, 'reg_alpha': 0, 'reg_lambda': 0.3} => RMSE: 3530467.5206, Relative RMSE: 0.0933\n",
      "Params: {'n_estimators': 200, 'max_depth': 5, 'learning_rate': 0.3, 'subsample': 0.7, 'colsample_bytree': 0.5, 'gamma': 0.3, 'reg_alpha': 0.1, 'reg_lambda': 0} => RMSE: 3443536.3624, Relative RMSE: 0.0910\n",
      "Params: {'n_estimators': 200, 'max_depth': 5, 'learning_rate': 0.3, 'subsample': 0.7, 'colsample_bytree': 0.5, 'gamma': 0.3, 'reg_alpha': 0.1, 'reg_lambda': 0.1} => RMSE: 3404428.1882, Relative RMSE: 0.0899\n",
      "Params: {'n_estimators': 200, 'max_depth': 5, 'learning_rate': 0.3, 'subsample': 0.7, 'colsample_bytree': 0.5, 'gamma': 0.3, 'reg_alpha': 0.1, 'reg_lambda': 0.3} => RMSE: 3530473.6777, Relative RMSE: 0.0933\n",
      "Params: {'n_estimators': 200, 'max_depth': 5, 'learning_rate': 0.3, 'subsample': 0.7, 'colsample_bytree': 0.5, 'gamma': 0.3, 'reg_alpha': 0.3, 'reg_lambda': 0} => RMSE: 3443536.7476, Relative RMSE: 0.0910\n",
      "Params: {'n_estimators': 200, 'max_depth': 5, 'learning_rate': 0.3, 'subsample': 0.7, 'colsample_bytree': 0.5, 'gamma': 0.3, 'reg_alpha': 0.3, 'reg_lambda': 0.1} => RMSE: 3404420.8255, Relative RMSE: 0.0899\n",
      "Params: {'n_estimators': 200, 'max_depth': 5, 'learning_rate': 0.3, 'subsample': 0.7, 'colsample_bytree': 0.5, 'gamma': 0.3, 'reg_alpha': 0.3, 'reg_lambda': 0.3} => RMSE: 3530469.1780, Relative RMSE: 0.0933\n",
      "Params: {'n_estimators': 200, 'max_depth': 5, 'learning_rate': 0.3, 'subsample': 0.7, 'colsample_bytree': 0.7, 'gamma': 0, 'reg_alpha': 0, 'reg_lambda': 0} => RMSE: 3421724.1668, Relative RMSE: 0.0904\n",
      "Params: {'n_estimators': 200, 'max_depth': 5, 'learning_rate': 0.3, 'subsample': 0.7, 'colsample_bytree': 0.7, 'gamma': 0, 'reg_alpha': 0, 'reg_lambda': 0.1} => RMSE: 3398628.6245, Relative RMSE: 0.0898\n",
      "Params: {'n_estimators': 200, 'max_depth': 5, 'learning_rate': 0.3, 'subsample': 0.7, 'colsample_bytree': 0.7, 'gamma': 0, 'reg_alpha': 0, 'reg_lambda': 0.3} => RMSE: 3398734.4889, Relative RMSE: 0.0898\n",
      "Params: {'n_estimators': 200, 'max_depth': 5, 'learning_rate': 0.3, 'subsample': 0.7, 'colsample_bytree': 0.7, 'gamma': 0, 'reg_alpha': 0.1, 'reg_lambda': 0} => RMSE: 3421821.1025, Relative RMSE: 0.0904\n",
      "Params: {'n_estimators': 200, 'max_depth': 5, 'learning_rate': 0.3, 'subsample': 0.7, 'colsample_bytree': 0.7, 'gamma': 0, 'reg_alpha': 0.1, 'reg_lambda': 0.1} => RMSE: 3398644.1119, Relative RMSE: 0.0898\n",
      "Params: {'n_estimators': 200, 'max_depth': 5, 'learning_rate': 0.3, 'subsample': 0.7, 'colsample_bytree': 0.7, 'gamma': 0, 'reg_alpha': 0.1, 'reg_lambda': 0.3} => RMSE: 3398650.5886, Relative RMSE: 0.0898\n",
      "Params: {'n_estimators': 200, 'max_depth': 5, 'learning_rate': 0.3, 'subsample': 0.7, 'colsample_bytree': 0.7, 'gamma': 0, 'reg_alpha': 0.3, 'reg_lambda': 0} => RMSE: 3421831.2440, Relative RMSE: 0.0904\n",
      "Params: {'n_estimators': 200, 'max_depth': 5, 'learning_rate': 0.3, 'subsample': 0.7, 'colsample_bytree': 0.7, 'gamma': 0, 'reg_alpha': 0.3, 'reg_lambda': 0.1} => RMSE: 3398643.4080, Relative RMSE: 0.0898\n",
      "Params: {'n_estimators': 200, 'max_depth': 5, 'learning_rate': 0.3, 'subsample': 0.7, 'colsample_bytree': 0.7, 'gamma': 0, 'reg_alpha': 0.3, 'reg_lambda': 0.3} => RMSE: 3398721.8206, Relative RMSE: 0.0898\n",
      "Params: {'n_estimators': 200, 'max_depth': 5, 'learning_rate': 0.3, 'subsample': 0.7, 'colsample_bytree': 0.7, 'gamma': 0.1, 'reg_alpha': 0, 'reg_lambda': 0} => RMSE: 3421724.1668, Relative RMSE: 0.0904\n",
      "Params: {'n_estimators': 200, 'max_depth': 5, 'learning_rate': 0.3, 'subsample': 0.7, 'colsample_bytree': 0.7, 'gamma': 0.1, 'reg_alpha': 0, 'reg_lambda': 0.1} => RMSE: 3398628.6245, Relative RMSE: 0.0898\n",
      "Params: {'n_estimators': 200, 'max_depth': 5, 'learning_rate': 0.3, 'subsample': 0.7, 'colsample_bytree': 0.7, 'gamma': 0.1, 'reg_alpha': 0, 'reg_lambda': 0.3} => RMSE: 3398734.4889, Relative RMSE: 0.0898\n",
      "Params: {'n_estimators': 200, 'max_depth': 5, 'learning_rate': 0.3, 'subsample': 0.7, 'colsample_bytree': 0.7, 'gamma': 0.1, 'reg_alpha': 0.1, 'reg_lambda': 0} => RMSE: 3421821.1025, Relative RMSE: 0.0904\n",
      "Params: {'n_estimators': 200, 'max_depth': 5, 'learning_rate': 0.3, 'subsample': 0.7, 'colsample_bytree': 0.7, 'gamma': 0.1, 'reg_alpha': 0.1, 'reg_lambda': 0.1} => RMSE: 3398644.1119, Relative RMSE: 0.0898\n",
      "Params: {'n_estimators': 200, 'max_depth': 5, 'learning_rate': 0.3, 'subsample': 0.7, 'colsample_bytree': 0.7, 'gamma': 0.1, 'reg_alpha': 0.1, 'reg_lambda': 0.3} => RMSE: 3398650.5886, Relative RMSE: 0.0898\n",
      "Params: {'n_estimators': 200, 'max_depth': 5, 'learning_rate': 0.3, 'subsample': 0.7, 'colsample_bytree': 0.7, 'gamma': 0.1, 'reg_alpha': 0.3, 'reg_lambda': 0} => RMSE: 3421831.2440, Relative RMSE: 0.0904\n",
      "Params: {'n_estimators': 200, 'max_depth': 5, 'learning_rate': 0.3, 'subsample': 0.7, 'colsample_bytree': 0.7, 'gamma': 0.1, 'reg_alpha': 0.3, 'reg_lambda': 0.1} => RMSE: 3398643.4080, Relative RMSE: 0.0898\n",
      "Params: {'n_estimators': 200, 'max_depth': 5, 'learning_rate': 0.3, 'subsample': 0.7, 'colsample_bytree': 0.7, 'gamma': 0.1, 'reg_alpha': 0.3, 'reg_lambda': 0.3} => RMSE: 3398720.9205, Relative RMSE: 0.0898\n",
      "Params: {'n_estimators': 200, 'max_depth': 5, 'learning_rate': 0.3, 'subsample': 0.7, 'colsample_bytree': 0.7, 'gamma': 0.3, 'reg_alpha': 0, 'reg_lambda': 0} => RMSE: 3421724.1668, Relative RMSE: 0.0904\n",
      "Params: {'n_estimators': 200, 'max_depth': 5, 'learning_rate': 0.3, 'subsample': 0.7, 'colsample_bytree': 0.7, 'gamma': 0.3, 'reg_alpha': 0, 'reg_lambda': 0.1} => RMSE: 3398628.6245, Relative RMSE: 0.0898\n",
      "Params: {'n_estimators': 200, 'max_depth': 5, 'learning_rate': 0.3, 'subsample': 0.7, 'colsample_bytree': 0.7, 'gamma': 0.3, 'reg_alpha': 0, 'reg_lambda': 0.3} => RMSE: 3398734.4889, Relative RMSE: 0.0898\n",
      "Params: {'n_estimators': 200, 'max_depth': 5, 'learning_rate': 0.3, 'subsample': 0.7, 'colsample_bytree': 0.7, 'gamma': 0.3, 'reg_alpha': 0.1, 'reg_lambda': 0} => RMSE: 3421821.1025, Relative RMSE: 0.0904\n",
      "Params: {'n_estimators': 200, 'max_depth': 5, 'learning_rate': 0.3, 'subsample': 0.7, 'colsample_bytree': 0.7, 'gamma': 0.3, 'reg_alpha': 0.1, 'reg_lambda': 0.1} => RMSE: 3398644.1119, Relative RMSE: 0.0898\n",
      "Params: {'n_estimators': 200, 'max_depth': 5, 'learning_rate': 0.3, 'subsample': 0.7, 'colsample_bytree': 0.7, 'gamma': 0.3, 'reg_alpha': 0.1, 'reg_lambda': 0.3} => RMSE: 3398650.8418, Relative RMSE: 0.0898\n",
      "Params: {'n_estimators': 200, 'max_depth': 5, 'learning_rate': 0.3, 'subsample': 0.7, 'colsample_bytree': 0.7, 'gamma': 0.3, 'reg_alpha': 0.3, 'reg_lambda': 0} => RMSE: 3421831.2440, Relative RMSE: 0.0904\n",
      "Params: {'n_estimators': 200, 'max_depth': 5, 'learning_rate': 0.3, 'subsample': 0.7, 'colsample_bytree': 0.7, 'gamma': 0.3, 'reg_alpha': 0.3, 'reg_lambda': 0.1} => RMSE: 3398643.4080, Relative RMSE: 0.0898\n",
      "Params: {'n_estimators': 200, 'max_depth': 5, 'learning_rate': 0.3, 'subsample': 0.7, 'colsample_bytree': 0.7, 'gamma': 0.3, 'reg_alpha': 0.3, 'reg_lambda': 0.3} => RMSE: 3398720.9205, Relative RMSE: 0.0898\n",
      "Params: {'n_estimators': 200, 'max_depth': 5, 'learning_rate': 0.3, 'subsample': 0.7, 'colsample_bytree': 1, 'gamma': 0, 'reg_alpha': 0, 'reg_lambda': 0} => RMSE: 3058553.7103, Relative RMSE: 0.0808\n",
      "Params: {'n_estimators': 200, 'max_depth': 5, 'learning_rate': 0.3, 'subsample': 0.7, 'colsample_bytree': 1, 'gamma': 0, 'reg_alpha': 0, 'reg_lambda': 0.1} => RMSE: 3276391.1745, Relative RMSE: 0.0865\n",
      "Params: {'n_estimators': 200, 'max_depth': 5, 'learning_rate': 0.3, 'subsample': 0.7, 'colsample_bytree': 1, 'gamma': 0, 'reg_alpha': 0, 'reg_lambda': 0.3} => RMSE: 3176399.1159, Relative RMSE: 0.0839\n",
      "Params: {'n_estimators': 200, 'max_depth': 5, 'learning_rate': 0.3, 'subsample': 0.7, 'colsample_bytree': 1, 'gamma': 0, 'reg_alpha': 0.1, 'reg_lambda': 0} => RMSE: 3058578.8803, Relative RMSE: 0.0808\n",
      "Params: {'n_estimators': 200, 'max_depth': 5, 'learning_rate': 0.3, 'subsample': 0.7, 'colsample_bytree': 1, 'gamma': 0, 'reg_alpha': 0.1, 'reg_lambda': 0.1} => RMSE: 3276156.4986, Relative RMSE: 0.0865\n",
      "Params: {'n_estimators': 200, 'max_depth': 5, 'learning_rate': 0.3, 'subsample': 0.7, 'colsample_bytree': 1, 'gamma': 0, 'reg_alpha': 0.1, 'reg_lambda': 0.3} => RMSE: 3176377.3457, Relative RMSE: 0.0839\n",
      "Params: {'n_estimators': 200, 'max_depth': 5, 'learning_rate': 0.3, 'subsample': 0.7, 'colsample_bytree': 1, 'gamma': 0, 'reg_alpha': 0.3, 'reg_lambda': 0} => RMSE: 3058581.7142, Relative RMSE: 0.0808\n",
      "Params: {'n_estimators': 200, 'max_depth': 5, 'learning_rate': 0.3, 'subsample': 0.7, 'colsample_bytree': 1, 'gamma': 0, 'reg_alpha': 0.3, 'reg_lambda': 0.1} => RMSE: 3276396.8028, Relative RMSE: 0.0865\n",
      "Params: {'n_estimators': 200, 'max_depth': 5, 'learning_rate': 0.3, 'subsample': 0.7, 'colsample_bytree': 1, 'gamma': 0, 'reg_alpha': 0.3, 'reg_lambda': 0.3} => RMSE: 3176375.4217, Relative RMSE: 0.0839\n",
      "Params: {'n_estimators': 200, 'max_depth': 5, 'learning_rate': 0.3, 'subsample': 0.7, 'colsample_bytree': 1, 'gamma': 0.1, 'reg_alpha': 0, 'reg_lambda': 0} => RMSE: 3058553.7103, Relative RMSE: 0.0808\n",
      "Params: {'n_estimators': 200, 'max_depth': 5, 'learning_rate': 0.3, 'subsample': 0.7, 'colsample_bytree': 1, 'gamma': 0.1, 'reg_alpha': 0, 'reg_lambda': 0.1} => RMSE: 3276391.1745, Relative RMSE: 0.0865\n",
      "Params: {'n_estimators': 200, 'max_depth': 5, 'learning_rate': 0.3, 'subsample': 0.7, 'colsample_bytree': 1, 'gamma': 0.1, 'reg_alpha': 0, 'reg_lambda': 0.3} => RMSE: 3176399.1159, Relative RMSE: 0.0839\n",
      "Params: {'n_estimators': 200, 'max_depth': 5, 'learning_rate': 0.3, 'subsample': 0.7, 'colsample_bytree': 1, 'gamma': 0.1, 'reg_alpha': 0.1, 'reg_lambda': 0} => RMSE: 3058578.8803, Relative RMSE: 0.0808\n",
      "Params: {'n_estimators': 200, 'max_depth': 5, 'learning_rate': 0.3, 'subsample': 0.7, 'colsample_bytree': 1, 'gamma': 0.1, 'reg_alpha': 0.1, 'reg_lambda': 0.1} => RMSE: 3276156.4986, Relative RMSE: 0.0865\n",
      "Params: {'n_estimators': 200, 'max_depth': 5, 'learning_rate': 0.3, 'subsample': 0.7, 'colsample_bytree': 1, 'gamma': 0.1, 'reg_alpha': 0.1, 'reg_lambda': 0.3} => RMSE: 3176377.3457, Relative RMSE: 0.0839\n",
      "Params: {'n_estimators': 200, 'max_depth': 5, 'learning_rate': 0.3, 'subsample': 0.7, 'colsample_bytree': 1, 'gamma': 0.1, 'reg_alpha': 0.3, 'reg_lambda': 0} => RMSE: 3058581.7142, Relative RMSE: 0.0808\n",
      "Params: {'n_estimators': 200, 'max_depth': 5, 'learning_rate': 0.3, 'subsample': 0.7, 'colsample_bytree': 1, 'gamma': 0.1, 'reg_alpha': 0.3, 'reg_lambda': 0.1} => RMSE: 3276396.8028, Relative RMSE: 0.0865\n",
      "Params: {'n_estimators': 200, 'max_depth': 5, 'learning_rate': 0.3, 'subsample': 0.7, 'colsample_bytree': 1, 'gamma': 0.1, 'reg_alpha': 0.3, 'reg_lambda': 0.3} => RMSE: 3176375.4217, Relative RMSE: 0.0839\n",
      "Params: {'n_estimators': 200, 'max_depth': 5, 'learning_rate': 0.3, 'subsample': 0.7, 'colsample_bytree': 1, 'gamma': 0.3, 'reg_alpha': 0, 'reg_lambda': 0} => RMSE: 3058553.7103, Relative RMSE: 0.0808\n",
      "Params: {'n_estimators': 200, 'max_depth': 5, 'learning_rate': 0.3, 'subsample': 0.7, 'colsample_bytree': 1, 'gamma': 0.3, 'reg_alpha': 0, 'reg_lambda': 0.1} => RMSE: 3276391.1745, Relative RMSE: 0.0865\n",
      "Params: {'n_estimators': 200, 'max_depth': 5, 'learning_rate': 0.3, 'subsample': 0.7, 'colsample_bytree': 1, 'gamma': 0.3, 'reg_alpha': 0, 'reg_lambda': 0.3} => RMSE: 3176399.1159, Relative RMSE: 0.0839\n",
      "Params: {'n_estimators': 200, 'max_depth': 5, 'learning_rate': 0.3, 'subsample': 0.7, 'colsample_bytree': 1, 'gamma': 0.3, 'reg_alpha': 0.1, 'reg_lambda': 0} => RMSE: 3058578.8803, Relative RMSE: 0.0808\n",
      "Params: {'n_estimators': 200, 'max_depth': 5, 'learning_rate': 0.3, 'subsample': 0.7, 'colsample_bytree': 1, 'gamma': 0.3, 'reg_alpha': 0.1, 'reg_lambda': 0.1} => RMSE: 3276156.4986, Relative RMSE: 0.0865\n",
      "Params: {'n_estimators': 200, 'max_depth': 5, 'learning_rate': 0.3, 'subsample': 0.7, 'colsample_bytree': 1, 'gamma': 0.3, 'reg_alpha': 0.1, 'reg_lambda': 0.3} => RMSE: 3176377.3457, Relative RMSE: 0.0839\n",
      "Params: {'n_estimators': 200, 'max_depth': 5, 'learning_rate': 0.3, 'subsample': 0.7, 'colsample_bytree': 1, 'gamma': 0.3, 'reg_alpha': 0.3, 'reg_lambda': 0} => RMSE: 3058581.7142, Relative RMSE: 0.0808\n",
      "Params: {'n_estimators': 200, 'max_depth': 5, 'learning_rate': 0.3, 'subsample': 0.7, 'colsample_bytree': 1, 'gamma': 0.3, 'reg_alpha': 0.3, 'reg_lambda': 0.1} => RMSE: 3276396.8028, Relative RMSE: 0.0865\n",
      "Params: {'n_estimators': 200, 'max_depth': 5, 'learning_rate': 0.3, 'subsample': 0.7, 'colsample_bytree': 1, 'gamma': 0.3, 'reg_alpha': 0.3, 'reg_lambda': 0.3} => RMSE: 3176375.4217, Relative RMSE: 0.0839\n",
      "Params: {'n_estimators': 200, 'max_depth': 7, 'learning_rate': 0.01, 'subsample': 0.5, 'colsample_bytree': 0.5, 'gamma': 0, 'reg_alpha': 0, 'reg_lambda': 0} => RMSE: 3021882.9824, Relative RMSE: 0.0798\n",
      "Params: {'n_estimators': 200, 'max_depth': 7, 'learning_rate': 0.01, 'subsample': 0.5, 'colsample_bytree': 0.5, 'gamma': 0, 'reg_alpha': 0, 'reg_lambda': 0.1} => RMSE: 3049900.5647, Relative RMSE: 0.0806\n",
      "Params: {'n_estimators': 200, 'max_depth': 7, 'learning_rate': 0.01, 'subsample': 0.5, 'colsample_bytree': 0.5, 'gamma': 0, 'reg_alpha': 0, 'reg_lambda': 0.3} => RMSE: 3188984.4904, Relative RMSE: 0.0842\n",
      "Params: {'n_estimators': 200, 'max_depth': 7, 'learning_rate': 0.01, 'subsample': 0.5, 'colsample_bytree': 0.5, 'gamma': 0, 'reg_alpha': 0.1, 'reg_lambda': 0} => RMSE: 3021884.6555, Relative RMSE: 0.0798\n",
      "Params: {'n_estimators': 200, 'max_depth': 7, 'learning_rate': 0.01, 'subsample': 0.5, 'colsample_bytree': 0.5, 'gamma': 0, 'reg_alpha': 0.1, 'reg_lambda': 0.1} => RMSE: 3049899.6086, Relative RMSE: 0.0806\n",
      "Params: {'n_estimators': 200, 'max_depth': 7, 'learning_rate': 0.01, 'subsample': 0.5, 'colsample_bytree': 0.5, 'gamma': 0, 'reg_alpha': 0.1, 'reg_lambda': 0.3} => RMSE: 3188983.5099, Relative RMSE: 0.0842\n",
      "Params: {'n_estimators': 200, 'max_depth': 7, 'learning_rate': 0.01, 'subsample': 0.5, 'colsample_bytree': 0.5, 'gamma': 0, 'reg_alpha': 0.3, 'reg_lambda': 0} => RMSE: 3021883.4295, Relative RMSE: 0.0798\n",
      "Params: {'n_estimators': 200, 'max_depth': 7, 'learning_rate': 0.01, 'subsample': 0.5, 'colsample_bytree': 0.5, 'gamma': 0, 'reg_alpha': 0.3, 'reg_lambda': 0.1} => RMSE: 3049899.5981, Relative RMSE: 0.0806\n",
      "Params: {'n_estimators': 200, 'max_depth': 7, 'learning_rate': 0.01, 'subsample': 0.5, 'colsample_bytree': 0.5, 'gamma': 0, 'reg_alpha': 0.3, 'reg_lambda': 0.3} => RMSE: 3188983.5099, Relative RMSE: 0.0842\n",
      "Params: {'n_estimators': 200, 'max_depth': 7, 'learning_rate': 0.01, 'subsample': 0.5, 'colsample_bytree': 0.5, 'gamma': 0.1, 'reg_alpha': 0, 'reg_lambda': 0} => RMSE: 3021882.9824, Relative RMSE: 0.0798\n",
      "Params: {'n_estimators': 200, 'max_depth': 7, 'learning_rate': 0.01, 'subsample': 0.5, 'colsample_bytree': 0.5, 'gamma': 0.1, 'reg_alpha': 0, 'reg_lambda': 0.1} => RMSE: 3049900.5647, Relative RMSE: 0.0806\n",
      "Params: {'n_estimators': 200, 'max_depth': 7, 'learning_rate': 0.01, 'subsample': 0.5, 'colsample_bytree': 0.5, 'gamma': 0.1, 'reg_alpha': 0, 'reg_lambda': 0.3} => RMSE: 3188984.4904, Relative RMSE: 0.0842\n",
      "Params: {'n_estimators': 200, 'max_depth': 7, 'learning_rate': 0.01, 'subsample': 0.5, 'colsample_bytree': 0.5, 'gamma': 0.1, 'reg_alpha': 0.1, 'reg_lambda': 0} => RMSE: 3021884.6555, Relative RMSE: 0.0798\n",
      "Params: {'n_estimators': 200, 'max_depth': 7, 'learning_rate': 0.01, 'subsample': 0.5, 'colsample_bytree': 0.5, 'gamma': 0.1, 'reg_alpha': 0.1, 'reg_lambda': 0.1} => RMSE: 3049899.6086, Relative RMSE: 0.0806\n",
      "Params: {'n_estimators': 200, 'max_depth': 7, 'learning_rate': 0.01, 'subsample': 0.5, 'colsample_bytree': 0.5, 'gamma': 0.1, 'reg_alpha': 0.1, 'reg_lambda': 0.3} => RMSE: 3188983.5099, Relative RMSE: 0.0842\n",
      "Params: {'n_estimators': 200, 'max_depth': 7, 'learning_rate': 0.01, 'subsample': 0.5, 'colsample_bytree': 0.5, 'gamma': 0.1, 'reg_alpha': 0.3, 'reg_lambda': 0} => RMSE: 3021883.4295, Relative RMSE: 0.0798\n",
      "Params: {'n_estimators': 200, 'max_depth': 7, 'learning_rate': 0.01, 'subsample': 0.5, 'colsample_bytree': 0.5, 'gamma': 0.1, 'reg_alpha': 0.3, 'reg_lambda': 0.1} => RMSE: 3049899.5981, Relative RMSE: 0.0806\n",
      "Params: {'n_estimators': 200, 'max_depth': 7, 'learning_rate': 0.01, 'subsample': 0.5, 'colsample_bytree': 0.5, 'gamma': 0.1, 'reg_alpha': 0.3, 'reg_lambda': 0.3} => RMSE: 3188983.5099, Relative RMSE: 0.0842\n",
      "Params: {'n_estimators': 200, 'max_depth': 7, 'learning_rate': 0.01, 'subsample': 0.5, 'colsample_bytree': 0.5, 'gamma': 0.3, 'reg_alpha': 0, 'reg_lambda': 0} => RMSE: 3021882.9824, Relative RMSE: 0.0798\n",
      "Params: {'n_estimators': 200, 'max_depth': 7, 'learning_rate': 0.01, 'subsample': 0.5, 'colsample_bytree': 0.5, 'gamma': 0.3, 'reg_alpha': 0, 'reg_lambda': 0.1} => RMSE: 3049900.5647, Relative RMSE: 0.0806\n",
      "Params: {'n_estimators': 200, 'max_depth': 7, 'learning_rate': 0.01, 'subsample': 0.5, 'colsample_bytree': 0.5, 'gamma': 0.3, 'reg_alpha': 0, 'reg_lambda': 0.3} => RMSE: 3188984.4904, Relative RMSE: 0.0842\n",
      "Params: {'n_estimators': 200, 'max_depth': 7, 'learning_rate': 0.01, 'subsample': 0.5, 'colsample_bytree': 0.5, 'gamma': 0.3, 'reg_alpha': 0.1, 'reg_lambda': 0} => RMSE: 3021884.6555, Relative RMSE: 0.0798\n",
      "Params: {'n_estimators': 200, 'max_depth': 7, 'learning_rate': 0.01, 'subsample': 0.5, 'colsample_bytree': 0.5, 'gamma': 0.3, 'reg_alpha': 0.1, 'reg_lambda': 0.1} => RMSE: 3049899.6086, Relative RMSE: 0.0806\n",
      "Params: {'n_estimators': 200, 'max_depth': 7, 'learning_rate': 0.01, 'subsample': 0.5, 'colsample_bytree': 0.5, 'gamma': 0.3, 'reg_alpha': 0.1, 'reg_lambda': 0.3} => RMSE: 3188983.5099, Relative RMSE: 0.0842\n",
      "Params: {'n_estimators': 200, 'max_depth': 7, 'learning_rate': 0.01, 'subsample': 0.5, 'colsample_bytree': 0.5, 'gamma': 0.3, 'reg_alpha': 0.3, 'reg_lambda': 0} => RMSE: 3021883.4295, Relative RMSE: 0.0798\n",
      "Params: {'n_estimators': 200, 'max_depth': 7, 'learning_rate': 0.01, 'subsample': 0.5, 'colsample_bytree': 0.5, 'gamma': 0.3, 'reg_alpha': 0.3, 'reg_lambda': 0.1} => RMSE: 3049899.5981, Relative RMSE: 0.0806\n",
      "Params: {'n_estimators': 200, 'max_depth': 7, 'learning_rate': 0.01, 'subsample': 0.5, 'colsample_bytree': 0.5, 'gamma': 0.3, 'reg_alpha': 0.3, 'reg_lambda': 0.3} => RMSE: 3188983.5099, Relative RMSE: 0.0842\n",
      "Params: {'n_estimators': 200, 'max_depth': 7, 'learning_rate': 0.01, 'subsample': 0.5, 'colsample_bytree': 0.7, 'gamma': 0, 'reg_alpha': 0, 'reg_lambda': 0} => RMSE: 2974387.8498, Relative RMSE: 0.0786\n",
      "Params: {'n_estimators': 200, 'max_depth': 7, 'learning_rate': 0.01, 'subsample': 0.5, 'colsample_bytree': 0.7, 'gamma': 0, 'reg_alpha': 0, 'reg_lambda': 0.1} => RMSE: 3040504.1183, Relative RMSE: 0.0803\n",
      "Params: {'n_estimators': 200, 'max_depth': 7, 'learning_rate': 0.01, 'subsample': 0.5, 'colsample_bytree': 0.7, 'gamma': 0, 'reg_alpha': 0, 'reg_lambda': 0.3} => RMSE: 3175559.8969, Relative RMSE: 0.0839\n",
      "Params: {'n_estimators': 200, 'max_depth': 7, 'learning_rate': 0.01, 'subsample': 0.5, 'colsample_bytree': 0.7, 'gamma': 0, 'reg_alpha': 0.1, 'reg_lambda': 0} => RMSE: 2974388.7154, Relative RMSE: 0.0786\n",
      "Params: {'n_estimators': 200, 'max_depth': 7, 'learning_rate': 0.01, 'subsample': 0.5, 'colsample_bytree': 0.7, 'gamma': 0, 'reg_alpha': 0.1, 'reg_lambda': 0.1} => RMSE: 3040503.4583, Relative RMSE: 0.0803\n",
      "Params: {'n_estimators': 200, 'max_depth': 7, 'learning_rate': 0.01, 'subsample': 0.5, 'colsample_bytree': 0.7, 'gamma': 0, 'reg_alpha': 0.1, 'reg_lambda': 0.3} => RMSE: 3175561.5278, Relative RMSE: 0.0839\n",
      "Params: {'n_estimators': 200, 'max_depth': 7, 'learning_rate': 0.01, 'subsample': 0.5, 'colsample_bytree': 0.7, 'gamma': 0, 'reg_alpha': 0.3, 'reg_lambda': 0} => RMSE: 2974388.9421, Relative RMSE: 0.0786\n",
      "Params: {'n_estimators': 200, 'max_depth': 7, 'learning_rate': 0.01, 'subsample': 0.5, 'colsample_bytree': 0.7, 'gamma': 0, 'reg_alpha': 0.3, 'reg_lambda': 0.1} => RMSE: 3040503.8495, Relative RMSE: 0.0803\n",
      "Params: {'n_estimators': 200, 'max_depth': 7, 'learning_rate': 0.01, 'subsample': 0.5, 'colsample_bytree': 0.7, 'gamma': 0, 'reg_alpha': 0.3, 'reg_lambda': 0.3} => RMSE: 3175561.3912, Relative RMSE: 0.0839\n",
      "Params: {'n_estimators': 200, 'max_depth': 7, 'learning_rate': 0.01, 'subsample': 0.5, 'colsample_bytree': 0.7, 'gamma': 0.1, 'reg_alpha': 0, 'reg_lambda': 0} => RMSE: 2974387.8498, Relative RMSE: 0.0786\n",
      "Params: {'n_estimators': 200, 'max_depth': 7, 'learning_rate': 0.01, 'subsample': 0.5, 'colsample_bytree': 0.7, 'gamma': 0.1, 'reg_alpha': 0, 'reg_lambda': 0.1} => RMSE: 3040504.1183, Relative RMSE: 0.0803\n",
      "Params: {'n_estimators': 200, 'max_depth': 7, 'learning_rate': 0.01, 'subsample': 0.5, 'colsample_bytree': 0.7, 'gamma': 0.1, 'reg_alpha': 0, 'reg_lambda': 0.3} => RMSE: 3175559.8969, Relative RMSE: 0.0839\n",
      "Params: {'n_estimators': 200, 'max_depth': 7, 'learning_rate': 0.01, 'subsample': 0.5, 'colsample_bytree': 0.7, 'gamma': 0.1, 'reg_alpha': 0.1, 'reg_lambda': 0} => RMSE: 2974388.7154, Relative RMSE: 0.0786\n",
      "Params: {'n_estimators': 200, 'max_depth': 7, 'learning_rate': 0.01, 'subsample': 0.5, 'colsample_bytree': 0.7, 'gamma': 0.1, 'reg_alpha': 0.1, 'reg_lambda': 0.1} => RMSE: 3040503.4583, Relative RMSE: 0.0803\n",
      "Params: {'n_estimators': 200, 'max_depth': 7, 'learning_rate': 0.01, 'subsample': 0.5, 'colsample_bytree': 0.7, 'gamma': 0.1, 'reg_alpha': 0.1, 'reg_lambda': 0.3} => RMSE: 3175561.5278, Relative RMSE: 0.0839\n",
      "Params: {'n_estimators': 200, 'max_depth': 7, 'learning_rate': 0.01, 'subsample': 0.5, 'colsample_bytree': 0.7, 'gamma': 0.1, 'reg_alpha': 0.3, 'reg_lambda': 0} => RMSE: 2974388.9421, Relative RMSE: 0.0786\n",
      "Params: {'n_estimators': 200, 'max_depth': 7, 'learning_rate': 0.01, 'subsample': 0.5, 'colsample_bytree': 0.7, 'gamma': 0.1, 'reg_alpha': 0.3, 'reg_lambda': 0.1} => RMSE: 3040503.8495, Relative RMSE: 0.0803\n",
      "Params: {'n_estimators': 200, 'max_depth': 7, 'learning_rate': 0.01, 'subsample': 0.5, 'colsample_bytree': 0.7, 'gamma': 0.1, 'reg_alpha': 0.3, 'reg_lambda': 0.3} => RMSE: 3175561.3912, Relative RMSE: 0.0839\n",
      "Params: {'n_estimators': 200, 'max_depth': 7, 'learning_rate': 0.01, 'subsample': 0.5, 'colsample_bytree': 0.7, 'gamma': 0.3, 'reg_alpha': 0, 'reg_lambda': 0} => RMSE: 2974387.8498, Relative RMSE: 0.0786\n",
      "Params: {'n_estimators': 200, 'max_depth': 7, 'learning_rate': 0.01, 'subsample': 0.5, 'colsample_bytree': 0.7, 'gamma': 0.3, 'reg_alpha': 0, 'reg_lambda': 0.1} => RMSE: 3040504.1183, Relative RMSE: 0.0803\n",
      "Params: {'n_estimators': 200, 'max_depth': 7, 'learning_rate': 0.01, 'subsample': 0.5, 'colsample_bytree': 0.7, 'gamma': 0.3, 'reg_alpha': 0, 'reg_lambda': 0.3} => RMSE: 3175559.8969, Relative RMSE: 0.0839\n",
      "Params: {'n_estimators': 200, 'max_depth': 7, 'learning_rate': 0.01, 'subsample': 0.5, 'colsample_bytree': 0.7, 'gamma': 0.3, 'reg_alpha': 0.1, 'reg_lambda': 0} => RMSE: 2974388.7154, Relative RMSE: 0.0786\n",
      "Params: {'n_estimators': 200, 'max_depth': 7, 'learning_rate': 0.01, 'subsample': 0.5, 'colsample_bytree': 0.7, 'gamma': 0.3, 'reg_alpha': 0.1, 'reg_lambda': 0.1} => RMSE: 3040503.4583, Relative RMSE: 0.0803\n",
      "Params: {'n_estimators': 200, 'max_depth': 7, 'learning_rate': 0.01, 'subsample': 0.5, 'colsample_bytree': 0.7, 'gamma': 0.3, 'reg_alpha': 0.1, 'reg_lambda': 0.3} => RMSE: 3175561.5278, Relative RMSE: 0.0839\n",
      "Params: {'n_estimators': 200, 'max_depth': 7, 'learning_rate': 0.01, 'subsample': 0.5, 'colsample_bytree': 0.7, 'gamma': 0.3, 'reg_alpha': 0.3, 'reg_lambda': 0} => RMSE: 2974388.9421, Relative RMSE: 0.0786\n",
      "Params: {'n_estimators': 200, 'max_depth': 7, 'learning_rate': 0.01, 'subsample': 0.5, 'colsample_bytree': 0.7, 'gamma': 0.3, 'reg_alpha': 0.3, 'reg_lambda': 0.1} => RMSE: 3040503.8495, Relative RMSE: 0.0803\n",
      "Params: {'n_estimators': 200, 'max_depth': 7, 'learning_rate': 0.01, 'subsample': 0.5, 'colsample_bytree': 0.7, 'gamma': 0.3, 'reg_alpha': 0.3, 'reg_lambda': 0.3} => RMSE: 3175561.3912, Relative RMSE: 0.0839\n",
      "Params: {'n_estimators': 200, 'max_depth': 7, 'learning_rate': 0.01, 'subsample': 0.5, 'colsample_bytree': 1, 'gamma': 0, 'reg_alpha': 0, 'reg_lambda': 0} => RMSE: 2698844.5963, Relative RMSE: 0.0713\n",
      "Params: {'n_estimators': 200, 'max_depth': 7, 'learning_rate': 0.01, 'subsample': 0.5, 'colsample_bytree': 1, 'gamma': 0, 'reg_alpha': 0, 'reg_lambda': 0.1} => RMSE: 2706785.6794, Relative RMSE: 0.0715\n",
      "Params: {'n_estimators': 200, 'max_depth': 7, 'learning_rate': 0.01, 'subsample': 0.5, 'colsample_bytree': 1, 'gamma': 0, 'reg_alpha': 0, 'reg_lambda': 0.3} => RMSE: 2899956.1500, Relative RMSE: 0.0766\n",
      "Params: {'n_estimators': 200, 'max_depth': 7, 'learning_rate': 0.01, 'subsample': 0.5, 'colsample_bytree': 1, 'gamma': 0, 'reg_alpha': 0.1, 'reg_lambda': 0} => RMSE: 2698844.6596, Relative RMSE: 0.0713\n",
      "Params: {'n_estimators': 200, 'max_depth': 7, 'learning_rate': 0.01, 'subsample': 0.5, 'colsample_bytree': 1, 'gamma': 0, 'reg_alpha': 0.1, 'reg_lambda': 0.1} => RMSE: 2706784.7597, Relative RMSE: 0.0715\n",
      "Params: {'n_estimators': 200, 'max_depth': 7, 'learning_rate': 0.01, 'subsample': 0.5, 'colsample_bytree': 1, 'gamma': 0, 'reg_alpha': 0.1, 'reg_lambda': 0.3} => RMSE: 2899958.1939, Relative RMSE: 0.0766\n",
      "Params: {'n_estimators': 200, 'max_depth': 7, 'learning_rate': 0.01, 'subsample': 0.5, 'colsample_bytree': 1, 'gamma': 0, 'reg_alpha': 0.3, 'reg_lambda': 0} => RMSE: 2698845.4185, Relative RMSE: 0.0713\n",
      "Params: {'n_estimators': 200, 'max_depth': 7, 'learning_rate': 0.01, 'subsample': 0.5, 'colsample_bytree': 1, 'gamma': 0, 'reg_alpha': 0.3, 'reg_lambda': 0.1} => RMSE: 2706785.9101, Relative RMSE: 0.0715\n",
      "Params: {'n_estimators': 200, 'max_depth': 7, 'learning_rate': 0.01, 'subsample': 0.5, 'colsample_bytree': 1, 'gamma': 0, 'reg_alpha': 0.3, 'reg_lambda': 0.3} => RMSE: 2899959.4096, Relative RMSE: 0.0766\n",
      "Params: {'n_estimators': 200, 'max_depth': 7, 'learning_rate': 0.01, 'subsample': 0.5, 'colsample_bytree': 1, 'gamma': 0.1, 'reg_alpha': 0, 'reg_lambda': 0} => RMSE: 2698844.5963, Relative RMSE: 0.0713\n",
      "Params: {'n_estimators': 200, 'max_depth': 7, 'learning_rate': 0.01, 'subsample': 0.5, 'colsample_bytree': 1, 'gamma': 0.1, 'reg_alpha': 0, 'reg_lambda': 0.1} => RMSE: 2706785.6794, Relative RMSE: 0.0715\n",
      "Params: {'n_estimators': 200, 'max_depth': 7, 'learning_rate': 0.01, 'subsample': 0.5, 'colsample_bytree': 1, 'gamma': 0.1, 'reg_alpha': 0, 'reg_lambda': 0.3} => RMSE: 2899956.1500, Relative RMSE: 0.0766\n",
      "Params: {'n_estimators': 200, 'max_depth': 7, 'learning_rate': 0.01, 'subsample': 0.5, 'colsample_bytree': 1, 'gamma': 0.1, 'reg_alpha': 0.1, 'reg_lambda': 0} => RMSE: 2698844.6596, Relative RMSE: 0.0713\n",
      "Params: {'n_estimators': 200, 'max_depth': 7, 'learning_rate': 0.01, 'subsample': 0.5, 'colsample_bytree': 1, 'gamma': 0.1, 'reg_alpha': 0.1, 'reg_lambda': 0.1} => RMSE: 2706784.7597, Relative RMSE: 0.0715\n",
      "Params: {'n_estimators': 200, 'max_depth': 7, 'learning_rate': 0.01, 'subsample': 0.5, 'colsample_bytree': 1, 'gamma': 0.1, 'reg_alpha': 0.1, 'reg_lambda': 0.3} => RMSE: 2899958.1939, Relative RMSE: 0.0766\n",
      "Params: {'n_estimators': 200, 'max_depth': 7, 'learning_rate': 0.01, 'subsample': 0.5, 'colsample_bytree': 1, 'gamma': 0.1, 'reg_alpha': 0.3, 'reg_lambda': 0} => RMSE: 2698845.4185, Relative RMSE: 0.0713\n",
      "Params: {'n_estimators': 200, 'max_depth': 7, 'learning_rate': 0.01, 'subsample': 0.5, 'colsample_bytree': 1, 'gamma': 0.1, 'reg_alpha': 0.3, 'reg_lambda': 0.1} => RMSE: 2706785.9101, Relative RMSE: 0.0715\n",
      "Params: {'n_estimators': 200, 'max_depth': 7, 'learning_rate': 0.01, 'subsample': 0.5, 'colsample_bytree': 1, 'gamma': 0.1, 'reg_alpha': 0.3, 'reg_lambda': 0.3} => RMSE: 2899959.4096, Relative RMSE: 0.0766\n",
      "Params: {'n_estimators': 200, 'max_depth': 7, 'learning_rate': 0.01, 'subsample': 0.5, 'colsample_bytree': 1, 'gamma': 0.3, 'reg_alpha': 0, 'reg_lambda': 0} => RMSE: 2698844.5963, Relative RMSE: 0.0713\n",
      "Params: {'n_estimators': 200, 'max_depth': 7, 'learning_rate': 0.01, 'subsample': 0.5, 'colsample_bytree': 1, 'gamma': 0.3, 'reg_alpha': 0, 'reg_lambda': 0.1} => RMSE: 2706785.6794, Relative RMSE: 0.0715\n",
      "Params: {'n_estimators': 200, 'max_depth': 7, 'learning_rate': 0.01, 'subsample': 0.5, 'colsample_bytree': 1, 'gamma': 0.3, 'reg_alpha': 0, 'reg_lambda': 0.3} => RMSE: 2899956.1500, Relative RMSE: 0.0766\n",
      "Params: {'n_estimators': 200, 'max_depth': 7, 'learning_rate': 0.01, 'subsample': 0.5, 'colsample_bytree': 1, 'gamma': 0.3, 'reg_alpha': 0.1, 'reg_lambda': 0} => RMSE: 2698844.6596, Relative RMSE: 0.0713\n",
      "Params: {'n_estimators': 200, 'max_depth': 7, 'learning_rate': 0.01, 'subsample': 0.5, 'colsample_bytree': 1, 'gamma': 0.3, 'reg_alpha': 0.1, 'reg_lambda': 0.1} => RMSE: 2706784.7597, Relative RMSE: 0.0715\n",
      "Params: {'n_estimators': 200, 'max_depth': 7, 'learning_rate': 0.01, 'subsample': 0.5, 'colsample_bytree': 1, 'gamma': 0.3, 'reg_alpha': 0.1, 'reg_lambda': 0.3} => RMSE: 2899958.1939, Relative RMSE: 0.0766\n",
      "Params: {'n_estimators': 200, 'max_depth': 7, 'learning_rate': 0.01, 'subsample': 0.5, 'colsample_bytree': 1, 'gamma': 0.3, 'reg_alpha': 0.3, 'reg_lambda': 0} => RMSE: 2698845.4185, Relative RMSE: 0.0713\n",
      "Params: {'n_estimators': 200, 'max_depth': 7, 'learning_rate': 0.01, 'subsample': 0.5, 'colsample_bytree': 1, 'gamma': 0.3, 'reg_alpha': 0.3, 'reg_lambda': 0.1} => RMSE: 2706785.9101, Relative RMSE: 0.0715\n",
      "Params: {'n_estimators': 200, 'max_depth': 7, 'learning_rate': 0.01, 'subsample': 0.5, 'colsample_bytree': 1, 'gamma': 0.3, 'reg_alpha': 0.3, 'reg_lambda': 0.3} => RMSE: 2899959.4096, Relative RMSE: 0.0766\n",
      "Params: {'n_estimators': 200, 'max_depth': 7, 'learning_rate': 0.01, 'subsample': 0.7, 'colsample_bytree': 0.5, 'gamma': 0, 'reg_alpha': 0, 'reg_lambda': 0} => RMSE: 2980914.3917, Relative RMSE: 0.0787\n",
      "Params: {'n_estimators': 200, 'max_depth': 7, 'learning_rate': 0.01, 'subsample': 0.7, 'colsample_bytree': 0.5, 'gamma': 0, 'reg_alpha': 0, 'reg_lambda': 0.1} => RMSE: 3018753.2787, Relative RMSE: 0.0797\n",
      "Params: {'n_estimators': 200, 'max_depth': 7, 'learning_rate': 0.01, 'subsample': 0.7, 'colsample_bytree': 0.5, 'gamma': 0, 'reg_alpha': 0, 'reg_lambda': 0.3} => RMSE: 3083938.6058, Relative RMSE: 0.0815\n",
      "Params: {'n_estimators': 200, 'max_depth': 7, 'learning_rate': 0.01, 'subsample': 0.7, 'colsample_bytree': 0.5, 'gamma': 0, 'reg_alpha': 0.1, 'reg_lambda': 0} => RMSE: 2980914.3366, Relative RMSE: 0.0787\n",
      "Params: {'n_estimators': 200, 'max_depth': 7, 'learning_rate': 0.01, 'subsample': 0.7, 'colsample_bytree': 0.5, 'gamma': 0, 'reg_alpha': 0.1, 'reg_lambda': 0.1} => RMSE: 3018752.1160, Relative RMSE: 0.0797\n",
      "Params: {'n_estimators': 200, 'max_depth': 7, 'learning_rate': 0.01, 'subsample': 0.7, 'colsample_bytree': 0.5, 'gamma': 0, 'reg_alpha': 0.1, 'reg_lambda': 0.3} => RMSE: 3083936.7671, Relative RMSE: 0.0815\n",
      "Params: {'n_estimators': 200, 'max_depth': 7, 'learning_rate': 0.01, 'subsample': 0.7, 'colsample_bytree': 0.5, 'gamma': 0, 'reg_alpha': 0.3, 'reg_lambda': 0} => RMSE: 2980914.2434, Relative RMSE: 0.0787\n",
      "Params: {'n_estimators': 200, 'max_depth': 7, 'learning_rate': 0.01, 'subsample': 0.7, 'colsample_bytree': 0.5, 'gamma': 0, 'reg_alpha': 0.3, 'reg_lambda': 0.1} => RMSE: 3018752.1160, Relative RMSE: 0.0797\n",
      "Params: {'n_estimators': 200, 'max_depth': 7, 'learning_rate': 0.01, 'subsample': 0.7, 'colsample_bytree': 0.5, 'gamma': 0, 'reg_alpha': 0.3, 'reg_lambda': 0.3} => RMSE: 3083936.7671, Relative RMSE: 0.0815\n",
      "Params: {'n_estimators': 200, 'max_depth': 7, 'learning_rate': 0.01, 'subsample': 0.7, 'colsample_bytree': 0.5, 'gamma': 0.1, 'reg_alpha': 0, 'reg_lambda': 0} => RMSE: 2980914.3917, Relative RMSE: 0.0787\n",
      "Params: {'n_estimators': 200, 'max_depth': 7, 'learning_rate': 0.01, 'subsample': 0.7, 'colsample_bytree': 0.5, 'gamma': 0.1, 'reg_alpha': 0, 'reg_lambda': 0.1} => RMSE: 3018753.2787, Relative RMSE: 0.0797\n",
      "Params: {'n_estimators': 200, 'max_depth': 7, 'learning_rate': 0.01, 'subsample': 0.7, 'colsample_bytree': 0.5, 'gamma': 0.1, 'reg_alpha': 0, 'reg_lambda': 0.3} => RMSE: 3083938.6058, Relative RMSE: 0.0815\n",
      "Params: {'n_estimators': 200, 'max_depth': 7, 'learning_rate': 0.01, 'subsample': 0.7, 'colsample_bytree': 0.5, 'gamma': 0.1, 'reg_alpha': 0.1, 'reg_lambda': 0} => RMSE: 2980914.3366, Relative RMSE: 0.0787\n",
      "Params: {'n_estimators': 200, 'max_depth': 7, 'learning_rate': 0.01, 'subsample': 0.7, 'colsample_bytree': 0.5, 'gamma': 0.1, 'reg_alpha': 0.1, 'reg_lambda': 0.1} => RMSE: 3018752.1160, Relative RMSE: 0.0797\n",
      "Params: {'n_estimators': 200, 'max_depth': 7, 'learning_rate': 0.01, 'subsample': 0.7, 'colsample_bytree': 0.5, 'gamma': 0.1, 'reg_alpha': 0.1, 'reg_lambda': 0.3} => RMSE: 3083936.7671, Relative RMSE: 0.0815\n",
      "Params: {'n_estimators': 200, 'max_depth': 7, 'learning_rate': 0.01, 'subsample': 0.7, 'colsample_bytree': 0.5, 'gamma': 0.1, 'reg_alpha': 0.3, 'reg_lambda': 0} => RMSE: 2980914.2434, Relative RMSE: 0.0787\n",
      "Params: {'n_estimators': 200, 'max_depth': 7, 'learning_rate': 0.01, 'subsample': 0.7, 'colsample_bytree': 0.5, 'gamma': 0.1, 'reg_alpha': 0.3, 'reg_lambda': 0.1} => RMSE: 3018752.1160, Relative RMSE: 0.0797\n",
      "Params: {'n_estimators': 200, 'max_depth': 7, 'learning_rate': 0.01, 'subsample': 0.7, 'colsample_bytree': 0.5, 'gamma': 0.1, 'reg_alpha': 0.3, 'reg_lambda': 0.3} => RMSE: 3083936.7671, Relative RMSE: 0.0815\n",
      "Params: {'n_estimators': 200, 'max_depth': 7, 'learning_rate': 0.01, 'subsample': 0.7, 'colsample_bytree': 0.5, 'gamma': 0.3, 'reg_alpha': 0, 'reg_lambda': 0} => RMSE: 2980914.3917, Relative RMSE: 0.0787\n",
      "Params: {'n_estimators': 200, 'max_depth': 7, 'learning_rate': 0.01, 'subsample': 0.7, 'colsample_bytree': 0.5, 'gamma': 0.3, 'reg_alpha': 0, 'reg_lambda': 0.1} => RMSE: 3018753.2787, Relative RMSE: 0.0797\n",
      "Params: {'n_estimators': 200, 'max_depth': 7, 'learning_rate': 0.01, 'subsample': 0.7, 'colsample_bytree': 0.5, 'gamma': 0.3, 'reg_alpha': 0, 'reg_lambda': 0.3} => RMSE: 3083938.6058, Relative RMSE: 0.0815\n",
      "Params: {'n_estimators': 200, 'max_depth': 7, 'learning_rate': 0.01, 'subsample': 0.7, 'colsample_bytree': 0.5, 'gamma': 0.3, 'reg_alpha': 0.1, 'reg_lambda': 0} => RMSE: 2980914.3366, Relative RMSE: 0.0787\n",
      "Params: {'n_estimators': 200, 'max_depth': 7, 'learning_rate': 0.01, 'subsample': 0.7, 'colsample_bytree': 0.5, 'gamma': 0.3, 'reg_alpha': 0.1, 'reg_lambda': 0.1} => RMSE: 3018752.1160, Relative RMSE: 0.0797\n",
      "Params: {'n_estimators': 200, 'max_depth': 7, 'learning_rate': 0.01, 'subsample': 0.7, 'colsample_bytree': 0.5, 'gamma': 0.3, 'reg_alpha': 0.1, 'reg_lambda': 0.3} => RMSE: 3083936.7671, Relative RMSE: 0.0815\n",
      "Params: {'n_estimators': 200, 'max_depth': 7, 'learning_rate': 0.01, 'subsample': 0.7, 'colsample_bytree': 0.5, 'gamma': 0.3, 'reg_alpha': 0.3, 'reg_lambda': 0} => RMSE: 2980914.2434, Relative RMSE: 0.0787\n",
      "Params: {'n_estimators': 200, 'max_depth': 7, 'learning_rate': 0.01, 'subsample': 0.7, 'colsample_bytree': 0.5, 'gamma': 0.3, 'reg_alpha': 0.3, 'reg_lambda': 0.1} => RMSE: 3018752.1160, Relative RMSE: 0.0797\n",
      "Params: {'n_estimators': 200, 'max_depth': 7, 'learning_rate': 0.01, 'subsample': 0.7, 'colsample_bytree': 0.5, 'gamma': 0.3, 'reg_alpha': 0.3, 'reg_lambda': 0.3} => RMSE: 3083936.7671, Relative RMSE: 0.0815\n",
      "Params: {'n_estimators': 200, 'max_depth': 7, 'learning_rate': 0.01, 'subsample': 0.7, 'colsample_bytree': 0.7, 'gamma': 0, 'reg_alpha': 0, 'reg_lambda': 0} => RMSE: 2807693.0976, Relative RMSE: 0.0742\n",
      "Params: {'n_estimators': 200, 'max_depth': 7, 'learning_rate': 0.01, 'subsample': 0.7, 'colsample_bytree': 0.7, 'gamma': 0, 'reg_alpha': 0, 'reg_lambda': 0.1} => RMSE: 2844040.7818, Relative RMSE: 0.0751\n",
      "Params: {'n_estimators': 200, 'max_depth': 7, 'learning_rate': 0.01, 'subsample': 0.7, 'colsample_bytree': 0.7, 'gamma': 0, 'reg_alpha': 0, 'reg_lambda': 0.3} => RMSE: 2908236.1748, Relative RMSE: 0.0768\n",
      "Params: {'n_estimators': 200, 'max_depth': 7, 'learning_rate': 0.01, 'subsample': 0.7, 'colsample_bytree': 0.7, 'gamma': 0, 'reg_alpha': 0.1, 'reg_lambda': 0} => RMSE: 2807693.4460, Relative RMSE: 0.0742\n",
      "Params: {'n_estimators': 200, 'max_depth': 7, 'learning_rate': 0.01, 'subsample': 0.7, 'colsample_bytree': 0.7, 'gamma': 0, 'reg_alpha': 0.1, 'reg_lambda': 0.1} => RMSE: 2844040.6666, Relative RMSE: 0.0751\n",
      "Params: {'n_estimators': 200, 'max_depth': 7, 'learning_rate': 0.01, 'subsample': 0.7, 'colsample_bytree': 0.7, 'gamma': 0, 'reg_alpha': 0.1, 'reg_lambda': 0.3} => RMSE: 2908236.1748, Relative RMSE: 0.0768\n",
      "Params: {'n_estimators': 200, 'max_depth': 7, 'learning_rate': 0.01, 'subsample': 0.7, 'colsample_bytree': 0.7, 'gamma': 0, 'reg_alpha': 0.3, 'reg_lambda': 0} => RMSE: 2807692.6667, Relative RMSE: 0.0742\n",
      "Params: {'n_estimators': 200, 'max_depth': 7, 'learning_rate': 0.01, 'subsample': 0.7, 'colsample_bytree': 0.7, 'gamma': 0, 'reg_alpha': 0.3, 'reg_lambda': 0.1} => RMSE: 2844040.5477, Relative RMSE: 0.0751\n",
      "Params: {'n_estimators': 200, 'max_depth': 7, 'learning_rate': 0.01, 'subsample': 0.7, 'colsample_bytree': 0.7, 'gamma': 0, 'reg_alpha': 0.3, 'reg_lambda': 0.3} => RMSE: 2908236.1748, Relative RMSE: 0.0768\n",
      "Params: {'n_estimators': 200, 'max_depth': 7, 'learning_rate': 0.01, 'subsample': 0.7, 'colsample_bytree': 0.7, 'gamma': 0.1, 'reg_alpha': 0, 'reg_lambda': 0} => RMSE: 2807693.0976, Relative RMSE: 0.0742\n",
      "Params: {'n_estimators': 200, 'max_depth': 7, 'learning_rate': 0.01, 'subsample': 0.7, 'colsample_bytree': 0.7, 'gamma': 0.1, 'reg_alpha': 0, 'reg_lambda': 0.1} => RMSE: 2844040.7818, Relative RMSE: 0.0751\n",
      "Params: {'n_estimators': 200, 'max_depth': 7, 'learning_rate': 0.01, 'subsample': 0.7, 'colsample_bytree': 0.7, 'gamma': 0.1, 'reg_alpha': 0, 'reg_lambda': 0.3} => RMSE: 2908236.1748, Relative RMSE: 0.0768\n",
      "Params: {'n_estimators': 200, 'max_depth': 7, 'learning_rate': 0.01, 'subsample': 0.7, 'colsample_bytree': 0.7, 'gamma': 0.1, 'reg_alpha': 0.1, 'reg_lambda': 0} => RMSE: 2807693.4460, Relative RMSE: 0.0742\n",
      "Params: {'n_estimators': 200, 'max_depth': 7, 'learning_rate': 0.01, 'subsample': 0.7, 'colsample_bytree': 0.7, 'gamma': 0.1, 'reg_alpha': 0.1, 'reg_lambda': 0.1} => RMSE: 2844040.6666, Relative RMSE: 0.0751\n",
      "Params: {'n_estimators': 200, 'max_depth': 7, 'learning_rate': 0.01, 'subsample': 0.7, 'colsample_bytree': 0.7, 'gamma': 0.1, 'reg_alpha': 0.1, 'reg_lambda': 0.3} => RMSE: 2908236.1748, Relative RMSE: 0.0768\n",
      "Params: {'n_estimators': 200, 'max_depth': 7, 'learning_rate': 0.01, 'subsample': 0.7, 'colsample_bytree': 0.7, 'gamma': 0.1, 'reg_alpha': 0.3, 'reg_lambda': 0} => RMSE: 2807692.6667, Relative RMSE: 0.0742\n",
      "Params: {'n_estimators': 200, 'max_depth': 7, 'learning_rate': 0.01, 'subsample': 0.7, 'colsample_bytree': 0.7, 'gamma': 0.1, 'reg_alpha': 0.3, 'reg_lambda': 0.1} => RMSE: 2844040.5477, Relative RMSE: 0.0751\n",
      "Params: {'n_estimators': 200, 'max_depth': 7, 'learning_rate': 0.01, 'subsample': 0.7, 'colsample_bytree': 0.7, 'gamma': 0.1, 'reg_alpha': 0.3, 'reg_lambda': 0.3} => RMSE: 2908236.1748, Relative RMSE: 0.0768\n",
      "Params: {'n_estimators': 200, 'max_depth': 7, 'learning_rate': 0.01, 'subsample': 0.7, 'colsample_bytree': 0.7, 'gamma': 0.3, 'reg_alpha': 0, 'reg_lambda': 0} => RMSE: 2807693.0976, Relative RMSE: 0.0742\n",
      "Params: {'n_estimators': 200, 'max_depth': 7, 'learning_rate': 0.01, 'subsample': 0.7, 'colsample_bytree': 0.7, 'gamma': 0.3, 'reg_alpha': 0, 'reg_lambda': 0.1} => RMSE: 2844040.7818, Relative RMSE: 0.0751\n",
      "Params: {'n_estimators': 200, 'max_depth': 7, 'learning_rate': 0.01, 'subsample': 0.7, 'colsample_bytree': 0.7, 'gamma': 0.3, 'reg_alpha': 0, 'reg_lambda': 0.3} => RMSE: 2908236.1748, Relative RMSE: 0.0768\n",
      "Params: {'n_estimators': 200, 'max_depth': 7, 'learning_rate': 0.01, 'subsample': 0.7, 'colsample_bytree': 0.7, 'gamma': 0.3, 'reg_alpha': 0.1, 'reg_lambda': 0} => RMSE: 2807693.4460, Relative RMSE: 0.0742\n",
      "Params: {'n_estimators': 200, 'max_depth': 7, 'learning_rate': 0.01, 'subsample': 0.7, 'colsample_bytree': 0.7, 'gamma': 0.3, 'reg_alpha': 0.1, 'reg_lambda': 0.1} => RMSE: 2844040.6666, Relative RMSE: 0.0751\n",
      "Params: {'n_estimators': 200, 'max_depth': 7, 'learning_rate': 0.01, 'subsample': 0.7, 'colsample_bytree': 0.7, 'gamma': 0.3, 'reg_alpha': 0.1, 'reg_lambda': 0.3} => RMSE: 2908236.1748, Relative RMSE: 0.0768\n",
      "Params: {'n_estimators': 200, 'max_depth': 7, 'learning_rate': 0.01, 'subsample': 0.7, 'colsample_bytree': 0.7, 'gamma': 0.3, 'reg_alpha': 0.3, 'reg_lambda': 0} => RMSE: 2807692.6667, Relative RMSE: 0.0742\n",
      "Params: {'n_estimators': 200, 'max_depth': 7, 'learning_rate': 0.01, 'subsample': 0.7, 'colsample_bytree': 0.7, 'gamma': 0.3, 'reg_alpha': 0.3, 'reg_lambda': 0.1} => RMSE: 2844040.5477, Relative RMSE: 0.0751\n",
      "Params: {'n_estimators': 200, 'max_depth': 7, 'learning_rate': 0.01, 'subsample': 0.7, 'colsample_bytree': 0.7, 'gamma': 0.3, 'reg_alpha': 0.3, 'reg_lambda': 0.3} => RMSE: 2908236.1748, Relative RMSE: 0.0768\n",
      "Params: {'n_estimators': 200, 'max_depth': 7, 'learning_rate': 0.01, 'subsample': 0.7, 'colsample_bytree': 1, 'gamma': 0, 'reg_alpha': 0, 'reg_lambda': 0} => RMSE: 2473771.9521, Relative RMSE: 0.0653\n",
      "Params: {'n_estimators': 200, 'max_depth': 7, 'learning_rate': 0.01, 'subsample': 0.7, 'colsample_bytree': 1, 'gamma': 0, 'reg_alpha': 0, 'reg_lambda': 0.1} => RMSE: 2504341.2042, Relative RMSE: 0.0662\n",
      "Params: {'n_estimators': 200, 'max_depth': 7, 'learning_rate': 0.01, 'subsample': 0.7, 'colsample_bytree': 1, 'gamma': 0, 'reg_alpha': 0, 'reg_lambda': 0.3} => RMSE: 2636621.1626, Relative RMSE: 0.0696\n",
      "Params: {'n_estimators': 200, 'max_depth': 7, 'learning_rate': 0.01, 'subsample': 0.7, 'colsample_bytree': 1, 'gamma': 0, 'reg_alpha': 0.1, 'reg_lambda': 0} => RMSE: 2473770.7392, Relative RMSE: 0.0653\n",
      "Params: {'n_estimators': 200, 'max_depth': 7, 'learning_rate': 0.01, 'subsample': 0.7, 'colsample_bytree': 1, 'gamma': 0, 'reg_alpha': 0.1, 'reg_lambda': 0.1} => RMSE: 2504341.4724, Relative RMSE: 0.0662\n",
      "Params: {'n_estimators': 200, 'max_depth': 7, 'learning_rate': 0.01, 'subsample': 0.7, 'colsample_bytree': 1, 'gamma': 0, 'reg_alpha': 0.1, 'reg_lambda': 0.3} => RMSE: 2636620.2974, Relative RMSE: 0.0696\n",
      "Params: {'n_estimators': 200, 'max_depth': 7, 'learning_rate': 0.01, 'subsample': 0.7, 'colsample_bytree': 1, 'gamma': 0, 'reg_alpha': 0.3, 'reg_lambda': 0} => RMSE: 2473771.0022, Relative RMSE: 0.0653\n",
      "Params: {'n_estimators': 200, 'max_depth': 7, 'learning_rate': 0.01, 'subsample': 0.7, 'colsample_bytree': 1, 'gamma': 0, 'reg_alpha': 0.3, 'reg_lambda': 0.1} => RMSE: 2504341.4724, Relative RMSE: 0.0662\n",
      "Params: {'n_estimators': 200, 'max_depth': 7, 'learning_rate': 0.01, 'subsample': 0.7, 'colsample_bytree': 1, 'gamma': 0, 'reg_alpha': 0.3, 'reg_lambda': 0.3} => RMSE: 2636620.2974, Relative RMSE: 0.0696\n",
      "Params: {'n_estimators': 200, 'max_depth': 7, 'learning_rate': 0.01, 'subsample': 0.7, 'colsample_bytree': 1, 'gamma': 0.1, 'reg_alpha': 0, 'reg_lambda': 0} => RMSE: 2473771.9521, Relative RMSE: 0.0653\n",
      "Params: {'n_estimators': 200, 'max_depth': 7, 'learning_rate': 0.01, 'subsample': 0.7, 'colsample_bytree': 1, 'gamma': 0.1, 'reg_alpha': 0, 'reg_lambda': 0.1} => RMSE: 2504341.2042, Relative RMSE: 0.0662\n",
      "Params: {'n_estimators': 200, 'max_depth': 7, 'learning_rate': 0.01, 'subsample': 0.7, 'colsample_bytree': 1, 'gamma': 0.1, 'reg_alpha': 0, 'reg_lambda': 0.3} => RMSE: 2636621.1626, Relative RMSE: 0.0696\n",
      "Params: {'n_estimators': 200, 'max_depth': 7, 'learning_rate': 0.01, 'subsample': 0.7, 'colsample_bytree': 1, 'gamma': 0.1, 'reg_alpha': 0.1, 'reg_lambda': 0} => RMSE: 2473770.7392, Relative RMSE: 0.0653\n",
      "Params: {'n_estimators': 200, 'max_depth': 7, 'learning_rate': 0.01, 'subsample': 0.7, 'colsample_bytree': 1, 'gamma': 0.1, 'reg_alpha': 0.1, 'reg_lambda': 0.1} => RMSE: 2504341.4724, Relative RMSE: 0.0662\n",
      "Params: {'n_estimators': 200, 'max_depth': 7, 'learning_rate': 0.01, 'subsample': 0.7, 'colsample_bytree': 1, 'gamma': 0.1, 'reg_alpha': 0.1, 'reg_lambda': 0.3} => RMSE: 2636620.2974, Relative RMSE: 0.0696\n",
      "Params: {'n_estimators': 200, 'max_depth': 7, 'learning_rate': 0.01, 'subsample': 0.7, 'colsample_bytree': 1, 'gamma': 0.1, 'reg_alpha': 0.3, 'reg_lambda': 0} => RMSE: 2473771.0022, Relative RMSE: 0.0653\n",
      "Params: {'n_estimators': 200, 'max_depth': 7, 'learning_rate': 0.01, 'subsample': 0.7, 'colsample_bytree': 1, 'gamma': 0.1, 'reg_alpha': 0.3, 'reg_lambda': 0.1} => RMSE: 2504341.4724, Relative RMSE: 0.0662\n",
      "Params: {'n_estimators': 200, 'max_depth': 7, 'learning_rate': 0.01, 'subsample': 0.7, 'colsample_bytree': 1, 'gamma': 0.1, 'reg_alpha': 0.3, 'reg_lambda': 0.3} => RMSE: 2636620.2974, Relative RMSE: 0.0696\n",
      "Params: {'n_estimators': 200, 'max_depth': 7, 'learning_rate': 0.01, 'subsample': 0.7, 'colsample_bytree': 1, 'gamma': 0.3, 'reg_alpha': 0, 'reg_lambda': 0} => RMSE: 2473771.9521, Relative RMSE: 0.0653\n",
      "Params: {'n_estimators': 200, 'max_depth': 7, 'learning_rate': 0.01, 'subsample': 0.7, 'colsample_bytree': 1, 'gamma': 0.3, 'reg_alpha': 0, 'reg_lambda': 0.1} => RMSE: 2504341.2042, Relative RMSE: 0.0662\n",
      "Params: {'n_estimators': 200, 'max_depth': 7, 'learning_rate': 0.01, 'subsample': 0.7, 'colsample_bytree': 1, 'gamma': 0.3, 'reg_alpha': 0, 'reg_lambda': 0.3} => RMSE: 2636621.1626, Relative RMSE: 0.0696\n",
      "Params: {'n_estimators': 200, 'max_depth': 7, 'learning_rate': 0.01, 'subsample': 0.7, 'colsample_bytree': 1, 'gamma': 0.3, 'reg_alpha': 0.1, 'reg_lambda': 0} => RMSE: 2473770.7392, Relative RMSE: 0.0653\n",
      "Params: {'n_estimators': 200, 'max_depth': 7, 'learning_rate': 0.01, 'subsample': 0.7, 'colsample_bytree': 1, 'gamma': 0.3, 'reg_alpha': 0.1, 'reg_lambda': 0.1} => RMSE: 2504341.4724, Relative RMSE: 0.0662\n",
      "Params: {'n_estimators': 200, 'max_depth': 7, 'learning_rate': 0.01, 'subsample': 0.7, 'colsample_bytree': 1, 'gamma': 0.3, 'reg_alpha': 0.1, 'reg_lambda': 0.3} => RMSE: 2636620.2974, Relative RMSE: 0.0696\n",
      "Params: {'n_estimators': 200, 'max_depth': 7, 'learning_rate': 0.01, 'subsample': 0.7, 'colsample_bytree': 1, 'gamma': 0.3, 'reg_alpha': 0.3, 'reg_lambda': 0} => RMSE: 2473771.0022, Relative RMSE: 0.0653\n",
      "Params: {'n_estimators': 200, 'max_depth': 7, 'learning_rate': 0.01, 'subsample': 0.7, 'colsample_bytree': 1, 'gamma': 0.3, 'reg_alpha': 0.3, 'reg_lambda': 0.1} => RMSE: 2504341.4724, Relative RMSE: 0.0662\n",
      "Params: {'n_estimators': 200, 'max_depth': 7, 'learning_rate': 0.01, 'subsample': 0.7, 'colsample_bytree': 1, 'gamma': 0.3, 'reg_alpha': 0.3, 'reg_lambda': 0.3} => RMSE: 2636620.2974, Relative RMSE: 0.0696\n",
      "Params: {'n_estimators': 200, 'max_depth': 7, 'learning_rate': 0.1, 'subsample': 0.5, 'colsample_bytree': 0.5, 'gamma': 0, 'reg_alpha': 0, 'reg_lambda': 0} => RMSE: 3179096.0424, Relative RMSE: 0.0840\n",
      "Params: {'n_estimators': 200, 'max_depth': 7, 'learning_rate': 0.1, 'subsample': 0.5, 'colsample_bytree': 0.5, 'gamma': 0, 'reg_alpha': 0, 'reg_lambda': 0.1} => RMSE: 3088957.3762, Relative RMSE: 0.0816\n",
      "Params: {'n_estimators': 200, 'max_depth': 7, 'learning_rate': 0.1, 'subsample': 0.5, 'colsample_bytree': 0.5, 'gamma': 0, 'reg_alpha': 0, 'reg_lambda': 0.3} => RMSE: 3093464.8631, Relative RMSE: 0.0817\n",
      "Params: {'n_estimators': 200, 'max_depth': 7, 'learning_rate': 0.1, 'subsample': 0.5, 'colsample_bytree': 0.5, 'gamma': 0, 'reg_alpha': 0.1, 'reg_lambda': 0} => RMSE: 3179090.3346, Relative RMSE: 0.0840\n",
      "Params: {'n_estimators': 200, 'max_depth': 7, 'learning_rate': 0.1, 'subsample': 0.5, 'colsample_bytree': 0.5, 'gamma': 0, 'reg_alpha': 0.1, 'reg_lambda': 0.1} => RMSE: 3088948.7284, Relative RMSE: 0.0816\n",
      "Params: {'n_estimators': 200, 'max_depth': 7, 'learning_rate': 0.1, 'subsample': 0.5, 'colsample_bytree': 0.5, 'gamma': 0, 'reg_alpha': 0.1, 'reg_lambda': 0.3} => RMSE: 3093463.5811, Relative RMSE: 0.0817\n",
      "Params: {'n_estimators': 200, 'max_depth': 7, 'learning_rate': 0.1, 'subsample': 0.5, 'colsample_bytree': 0.5, 'gamma': 0, 'reg_alpha': 0.3, 'reg_lambda': 0} => RMSE: 3179089.5132, Relative RMSE: 0.0840\n",
      "Params: {'n_estimators': 200, 'max_depth': 7, 'learning_rate': 0.1, 'subsample': 0.5, 'colsample_bytree': 0.5, 'gamma': 0, 'reg_alpha': 0.3, 'reg_lambda': 0.1} => RMSE: 3088948.7284, Relative RMSE: 0.0816\n",
      "Params: {'n_estimators': 200, 'max_depth': 7, 'learning_rate': 0.1, 'subsample': 0.5, 'colsample_bytree': 0.5, 'gamma': 0, 'reg_alpha': 0.3, 'reg_lambda': 0.3} => RMSE: 3093463.5811, Relative RMSE: 0.0817\n",
      "Params: {'n_estimators': 200, 'max_depth': 7, 'learning_rate': 0.1, 'subsample': 0.5, 'colsample_bytree': 0.5, 'gamma': 0.1, 'reg_alpha': 0, 'reg_lambda': 0} => RMSE: 3179096.0424, Relative RMSE: 0.0840\n",
      "Params: {'n_estimators': 200, 'max_depth': 7, 'learning_rate': 0.1, 'subsample': 0.5, 'colsample_bytree': 0.5, 'gamma': 0.1, 'reg_alpha': 0, 'reg_lambda': 0.1} => RMSE: 3088957.3762, Relative RMSE: 0.0816\n",
      "Params: {'n_estimators': 200, 'max_depth': 7, 'learning_rate': 0.1, 'subsample': 0.5, 'colsample_bytree': 0.5, 'gamma': 0.1, 'reg_alpha': 0, 'reg_lambda': 0.3} => RMSE: 3093464.8631, Relative RMSE: 0.0817\n",
      "Params: {'n_estimators': 200, 'max_depth': 7, 'learning_rate': 0.1, 'subsample': 0.5, 'colsample_bytree': 0.5, 'gamma': 0.1, 'reg_alpha': 0.1, 'reg_lambda': 0} => RMSE: 3179090.3346, Relative RMSE: 0.0840\n",
      "Params: {'n_estimators': 200, 'max_depth': 7, 'learning_rate': 0.1, 'subsample': 0.5, 'colsample_bytree': 0.5, 'gamma': 0.1, 'reg_alpha': 0.1, 'reg_lambda': 0.1} => RMSE: 3088948.7284, Relative RMSE: 0.0816\n",
      "Params: {'n_estimators': 200, 'max_depth': 7, 'learning_rate': 0.1, 'subsample': 0.5, 'colsample_bytree': 0.5, 'gamma': 0.1, 'reg_alpha': 0.1, 'reg_lambda': 0.3} => RMSE: 3093463.5811, Relative RMSE: 0.0817\n",
      "Params: {'n_estimators': 200, 'max_depth': 7, 'learning_rate': 0.1, 'subsample': 0.5, 'colsample_bytree': 0.5, 'gamma': 0.1, 'reg_alpha': 0.3, 'reg_lambda': 0} => RMSE: 3179089.5132, Relative RMSE: 0.0840\n",
      "Params: {'n_estimators': 200, 'max_depth': 7, 'learning_rate': 0.1, 'subsample': 0.5, 'colsample_bytree': 0.5, 'gamma': 0.1, 'reg_alpha': 0.3, 'reg_lambda': 0.1} => RMSE: 3088948.7284, Relative RMSE: 0.0816\n",
      "Params: {'n_estimators': 200, 'max_depth': 7, 'learning_rate': 0.1, 'subsample': 0.5, 'colsample_bytree': 0.5, 'gamma': 0.1, 'reg_alpha': 0.3, 'reg_lambda': 0.3} => RMSE: 3093463.5811, Relative RMSE: 0.0817\n",
      "Params: {'n_estimators': 200, 'max_depth': 7, 'learning_rate': 0.1, 'subsample': 0.5, 'colsample_bytree': 0.5, 'gamma': 0.3, 'reg_alpha': 0, 'reg_lambda': 0} => RMSE: 3179096.0424, Relative RMSE: 0.0840\n",
      "Params: {'n_estimators': 200, 'max_depth': 7, 'learning_rate': 0.1, 'subsample': 0.5, 'colsample_bytree': 0.5, 'gamma': 0.3, 'reg_alpha': 0, 'reg_lambda': 0.1} => RMSE: 3088957.3762, Relative RMSE: 0.0816\n",
      "Params: {'n_estimators': 200, 'max_depth': 7, 'learning_rate': 0.1, 'subsample': 0.5, 'colsample_bytree': 0.5, 'gamma': 0.3, 'reg_alpha': 0, 'reg_lambda': 0.3} => RMSE: 3093464.8631, Relative RMSE: 0.0817\n",
      "Params: {'n_estimators': 200, 'max_depth': 7, 'learning_rate': 0.1, 'subsample': 0.5, 'colsample_bytree': 0.5, 'gamma': 0.3, 'reg_alpha': 0.1, 'reg_lambda': 0} => RMSE: 3179090.3346, Relative RMSE: 0.0840\n",
      "Params: {'n_estimators': 200, 'max_depth': 7, 'learning_rate': 0.1, 'subsample': 0.5, 'colsample_bytree': 0.5, 'gamma': 0.3, 'reg_alpha': 0.1, 'reg_lambda': 0.1} => RMSE: 3088948.7284, Relative RMSE: 0.0816\n",
      "Params: {'n_estimators': 200, 'max_depth': 7, 'learning_rate': 0.1, 'subsample': 0.5, 'colsample_bytree': 0.5, 'gamma': 0.3, 'reg_alpha': 0.1, 'reg_lambda': 0.3} => RMSE: 3093463.5811, Relative RMSE: 0.0817\n",
      "Params: {'n_estimators': 200, 'max_depth': 7, 'learning_rate': 0.1, 'subsample': 0.5, 'colsample_bytree': 0.5, 'gamma': 0.3, 'reg_alpha': 0.3, 'reg_lambda': 0} => RMSE: 3179089.5132, Relative RMSE: 0.0840\n",
      "Params: {'n_estimators': 200, 'max_depth': 7, 'learning_rate': 0.1, 'subsample': 0.5, 'colsample_bytree': 0.5, 'gamma': 0.3, 'reg_alpha': 0.3, 'reg_lambda': 0.1} => RMSE: 3088948.7284, Relative RMSE: 0.0816\n",
      "Params: {'n_estimators': 200, 'max_depth': 7, 'learning_rate': 0.1, 'subsample': 0.5, 'colsample_bytree': 0.5, 'gamma': 0.3, 'reg_alpha': 0.3, 'reg_lambda': 0.3} => RMSE: 3093463.5811, Relative RMSE: 0.0817\n",
      "Params: {'n_estimators': 200, 'max_depth': 7, 'learning_rate': 0.1, 'subsample': 0.5, 'colsample_bytree': 0.7, 'gamma': 0, 'reg_alpha': 0, 'reg_lambda': 0} => RMSE: 2856012.9823, Relative RMSE: 0.0754\n",
      "Params: {'n_estimators': 200, 'max_depth': 7, 'learning_rate': 0.1, 'subsample': 0.5, 'colsample_bytree': 0.7, 'gamma': 0, 'reg_alpha': 0, 'reg_lambda': 0.1} => RMSE: 2989304.7674, Relative RMSE: 0.0790\n",
      "Params: {'n_estimators': 200, 'max_depth': 7, 'learning_rate': 0.1, 'subsample': 0.5, 'colsample_bytree': 0.7, 'gamma': 0, 'reg_alpha': 0, 'reg_lambda': 0.3} => RMSE: 2906734.7224, Relative RMSE: 0.0768\n",
      "Params: {'n_estimators': 200, 'max_depth': 7, 'learning_rate': 0.1, 'subsample': 0.5, 'colsample_bytree': 0.7, 'gamma': 0, 'reg_alpha': 0.1, 'reg_lambda': 0} => RMSE: 2855917.5685, Relative RMSE: 0.0754\n",
      "Params: {'n_estimators': 200, 'max_depth': 7, 'learning_rate': 0.1, 'subsample': 0.5, 'colsample_bytree': 0.7, 'gamma': 0, 'reg_alpha': 0.1, 'reg_lambda': 0.1} => RMSE: 2989303.1940, Relative RMSE: 0.0790\n",
      "Params: {'n_estimators': 200, 'max_depth': 7, 'learning_rate': 0.1, 'subsample': 0.5, 'colsample_bytree': 0.7, 'gamma': 0, 'reg_alpha': 0.1, 'reg_lambda': 0.3} => RMSE: 2906734.2655, Relative RMSE: 0.0768\n",
      "Params: {'n_estimators': 200, 'max_depth': 7, 'learning_rate': 0.1, 'subsample': 0.5, 'colsample_bytree': 0.7, 'gamma': 0, 'reg_alpha': 0.3, 'reg_lambda': 0} => RMSE: 2855990.9196, Relative RMSE: 0.0754\n",
      "Params: {'n_estimators': 200, 'max_depth': 7, 'learning_rate': 0.1, 'subsample': 0.5, 'colsample_bytree': 0.7, 'gamma': 0, 'reg_alpha': 0.3, 'reg_lambda': 0.1} => RMSE: 2989303.1940, Relative RMSE: 0.0790\n",
      "Params: {'n_estimators': 200, 'max_depth': 7, 'learning_rate': 0.1, 'subsample': 0.5, 'colsample_bytree': 0.7, 'gamma': 0, 'reg_alpha': 0.3, 'reg_lambda': 0.3} => RMSE: 2906732.9272, Relative RMSE: 0.0768\n",
      "Params: {'n_estimators': 200, 'max_depth': 7, 'learning_rate': 0.1, 'subsample': 0.5, 'colsample_bytree': 0.7, 'gamma': 0.1, 'reg_alpha': 0, 'reg_lambda': 0} => RMSE: 2856012.9823, Relative RMSE: 0.0754\n",
      "Params: {'n_estimators': 200, 'max_depth': 7, 'learning_rate': 0.1, 'subsample': 0.5, 'colsample_bytree': 0.7, 'gamma': 0.1, 'reg_alpha': 0, 'reg_lambda': 0.1} => RMSE: 2989304.7674, Relative RMSE: 0.0790\n",
      "Params: {'n_estimators': 200, 'max_depth': 7, 'learning_rate': 0.1, 'subsample': 0.5, 'colsample_bytree': 0.7, 'gamma': 0.1, 'reg_alpha': 0, 'reg_lambda': 0.3} => RMSE: 2906734.7224, Relative RMSE: 0.0768\n",
      "Params: {'n_estimators': 200, 'max_depth': 7, 'learning_rate': 0.1, 'subsample': 0.5, 'colsample_bytree': 0.7, 'gamma': 0.1, 'reg_alpha': 0.1, 'reg_lambda': 0} => RMSE: 2855917.5685, Relative RMSE: 0.0754\n",
      "Params: {'n_estimators': 200, 'max_depth': 7, 'learning_rate': 0.1, 'subsample': 0.5, 'colsample_bytree': 0.7, 'gamma': 0.1, 'reg_alpha': 0.1, 'reg_lambda': 0.1} => RMSE: 2989303.1940, Relative RMSE: 0.0790\n",
      "Params: {'n_estimators': 200, 'max_depth': 7, 'learning_rate': 0.1, 'subsample': 0.5, 'colsample_bytree': 0.7, 'gamma': 0.1, 'reg_alpha': 0.1, 'reg_lambda': 0.3} => RMSE: 2906734.2655, Relative RMSE: 0.0768\n",
      "Params: {'n_estimators': 200, 'max_depth': 7, 'learning_rate': 0.1, 'subsample': 0.5, 'colsample_bytree': 0.7, 'gamma': 0.1, 'reg_alpha': 0.3, 'reg_lambda': 0} => RMSE: 2855990.9196, Relative RMSE: 0.0754\n",
      "Params: {'n_estimators': 200, 'max_depth': 7, 'learning_rate': 0.1, 'subsample': 0.5, 'colsample_bytree': 0.7, 'gamma': 0.1, 'reg_alpha': 0.3, 'reg_lambda': 0.1} => RMSE: 2989303.1940, Relative RMSE: 0.0790\n",
      "Params: {'n_estimators': 200, 'max_depth': 7, 'learning_rate': 0.1, 'subsample': 0.5, 'colsample_bytree': 0.7, 'gamma': 0.1, 'reg_alpha': 0.3, 'reg_lambda': 0.3} => RMSE: 2906732.9272, Relative RMSE: 0.0768\n",
      "Params: {'n_estimators': 200, 'max_depth': 7, 'learning_rate': 0.1, 'subsample': 0.5, 'colsample_bytree': 0.7, 'gamma': 0.3, 'reg_alpha': 0, 'reg_lambda': 0} => RMSE: 2856012.9823, Relative RMSE: 0.0754\n",
      "Params: {'n_estimators': 200, 'max_depth': 7, 'learning_rate': 0.1, 'subsample': 0.5, 'colsample_bytree': 0.7, 'gamma': 0.3, 'reg_alpha': 0, 'reg_lambda': 0.1} => RMSE: 2989304.7674, Relative RMSE: 0.0790\n",
      "Params: {'n_estimators': 200, 'max_depth': 7, 'learning_rate': 0.1, 'subsample': 0.5, 'colsample_bytree': 0.7, 'gamma': 0.3, 'reg_alpha': 0, 'reg_lambda': 0.3} => RMSE: 2906734.7224, Relative RMSE: 0.0768\n",
      "Params: {'n_estimators': 200, 'max_depth': 7, 'learning_rate': 0.1, 'subsample': 0.5, 'colsample_bytree': 0.7, 'gamma': 0.3, 'reg_alpha': 0.1, 'reg_lambda': 0} => RMSE: 2855917.5685, Relative RMSE: 0.0754\n",
      "Params: {'n_estimators': 200, 'max_depth': 7, 'learning_rate': 0.1, 'subsample': 0.5, 'colsample_bytree': 0.7, 'gamma': 0.3, 'reg_alpha': 0.1, 'reg_lambda': 0.1} => RMSE: 2989303.1940, Relative RMSE: 0.0790\n",
      "Params: {'n_estimators': 200, 'max_depth': 7, 'learning_rate': 0.1, 'subsample': 0.5, 'colsample_bytree': 0.7, 'gamma': 0.3, 'reg_alpha': 0.1, 'reg_lambda': 0.3} => RMSE: 2906734.2655, Relative RMSE: 0.0768\n",
      "Params: {'n_estimators': 200, 'max_depth': 7, 'learning_rate': 0.1, 'subsample': 0.5, 'colsample_bytree': 0.7, 'gamma': 0.3, 'reg_alpha': 0.3, 'reg_lambda': 0} => RMSE: 2855990.9196, Relative RMSE: 0.0754\n",
      "Params: {'n_estimators': 200, 'max_depth': 7, 'learning_rate': 0.1, 'subsample': 0.5, 'colsample_bytree': 0.7, 'gamma': 0.3, 'reg_alpha': 0.3, 'reg_lambda': 0.1} => RMSE: 2989303.1940, Relative RMSE: 0.0790\n",
      "Params: {'n_estimators': 200, 'max_depth': 7, 'learning_rate': 0.1, 'subsample': 0.5, 'colsample_bytree': 0.7, 'gamma': 0.3, 'reg_alpha': 0.3, 'reg_lambda': 0.3} => RMSE: 2906732.9272, Relative RMSE: 0.0768\n",
      "Params: {'n_estimators': 200, 'max_depth': 7, 'learning_rate': 0.1, 'subsample': 0.5, 'colsample_bytree': 1, 'gamma': 0, 'reg_alpha': 0, 'reg_lambda': 0} => RMSE: 2519514.3650, Relative RMSE: 0.0666\n",
      "Params: {'n_estimators': 200, 'max_depth': 7, 'learning_rate': 0.1, 'subsample': 0.5, 'colsample_bytree': 1, 'gamma': 0, 'reg_alpha': 0, 'reg_lambda': 0.1} => RMSE: 2462291.9712, Relative RMSE: 0.0650\n",
      "Params: {'n_estimators': 200, 'max_depth': 7, 'learning_rate': 0.1, 'subsample': 0.5, 'colsample_bytree': 1, 'gamma': 0, 'reg_alpha': 0, 'reg_lambda': 0.3} => RMSE: 2645148.5020, Relative RMSE: 0.0699\n",
      "Params: {'n_estimators': 200, 'max_depth': 7, 'learning_rate': 0.1, 'subsample': 0.5, 'colsample_bytree': 1, 'gamma': 0, 'reg_alpha': 0.1, 'reg_lambda': 0} => RMSE: 2519481.4960, Relative RMSE: 0.0666\n",
      "Params: {'n_estimators': 200, 'max_depth': 7, 'learning_rate': 0.1, 'subsample': 0.5, 'colsample_bytree': 1, 'gamma': 0, 'reg_alpha': 0.1, 'reg_lambda': 0.1} => RMSE: 2460774.4663, Relative RMSE: 0.0650\n",
      "Params: {'n_estimators': 200, 'max_depth': 7, 'learning_rate': 0.1, 'subsample': 0.5, 'colsample_bytree': 1, 'gamma': 0, 'reg_alpha': 0.1, 'reg_lambda': 0.3} => RMSE: 2645147.4403, Relative RMSE: 0.0699\n",
      "Params: {'n_estimators': 200, 'max_depth': 7, 'learning_rate': 0.1, 'subsample': 0.5, 'colsample_bytree': 1, 'gamma': 0, 'reg_alpha': 0.3, 'reg_lambda': 0} => RMSE: 2519176.6783, Relative RMSE: 0.0665\n",
      "Params: {'n_estimators': 200, 'max_depth': 7, 'learning_rate': 0.1, 'subsample': 0.5, 'colsample_bytree': 1, 'gamma': 0, 'reg_alpha': 0.3, 'reg_lambda': 0.1} => RMSE: 2460773.8982, Relative RMSE: 0.0650\n",
      "Params: {'n_estimators': 200, 'max_depth': 7, 'learning_rate': 0.1, 'subsample': 0.5, 'colsample_bytree': 1, 'gamma': 0, 'reg_alpha': 0.3, 'reg_lambda': 0.3} => RMSE: 2645418.7492, Relative RMSE: 0.0699\n",
      "Params: {'n_estimators': 200, 'max_depth': 7, 'learning_rate': 0.1, 'subsample': 0.5, 'colsample_bytree': 1, 'gamma': 0.1, 'reg_alpha': 0, 'reg_lambda': 0} => RMSE: 2519514.3650, Relative RMSE: 0.0666\n",
      "Params: {'n_estimators': 200, 'max_depth': 7, 'learning_rate': 0.1, 'subsample': 0.5, 'colsample_bytree': 1, 'gamma': 0.1, 'reg_alpha': 0, 'reg_lambda': 0.1} => RMSE: 2462291.9712, Relative RMSE: 0.0650\n",
      "Params: {'n_estimators': 200, 'max_depth': 7, 'learning_rate': 0.1, 'subsample': 0.5, 'colsample_bytree': 1, 'gamma': 0.1, 'reg_alpha': 0, 'reg_lambda': 0.3} => RMSE: 2645148.5020, Relative RMSE: 0.0699\n",
      "Params: {'n_estimators': 200, 'max_depth': 7, 'learning_rate': 0.1, 'subsample': 0.5, 'colsample_bytree': 1, 'gamma': 0.1, 'reg_alpha': 0.1, 'reg_lambda': 0} => RMSE: 2519481.4960, Relative RMSE: 0.0666\n",
      "Params: {'n_estimators': 200, 'max_depth': 7, 'learning_rate': 0.1, 'subsample': 0.5, 'colsample_bytree': 1, 'gamma': 0.1, 'reg_alpha': 0.1, 'reg_lambda': 0.1} => RMSE: 2460774.4663, Relative RMSE: 0.0650\n",
      "Params: {'n_estimators': 200, 'max_depth': 7, 'learning_rate': 0.1, 'subsample': 0.5, 'colsample_bytree': 1, 'gamma': 0.1, 'reg_alpha': 0.1, 'reg_lambda': 0.3} => RMSE: 2645147.4403, Relative RMSE: 0.0699\n",
      "Params: {'n_estimators': 200, 'max_depth': 7, 'learning_rate': 0.1, 'subsample': 0.5, 'colsample_bytree': 1, 'gamma': 0.1, 'reg_alpha': 0.3, 'reg_lambda': 0} => RMSE: 2519176.6783, Relative RMSE: 0.0665\n",
      "Params: {'n_estimators': 200, 'max_depth': 7, 'learning_rate': 0.1, 'subsample': 0.5, 'colsample_bytree': 1, 'gamma': 0.1, 'reg_alpha': 0.3, 'reg_lambda': 0.1} => RMSE: 2460773.8982, Relative RMSE: 0.0650\n",
      "Params: {'n_estimators': 200, 'max_depth': 7, 'learning_rate': 0.1, 'subsample': 0.5, 'colsample_bytree': 1, 'gamma': 0.1, 'reg_alpha': 0.3, 'reg_lambda': 0.3} => RMSE: 2645418.7492, Relative RMSE: 0.0699\n",
      "Params: {'n_estimators': 200, 'max_depth': 7, 'learning_rate': 0.1, 'subsample': 0.5, 'colsample_bytree': 1, 'gamma': 0.3, 'reg_alpha': 0, 'reg_lambda': 0} => RMSE: 2519514.3650, Relative RMSE: 0.0666\n",
      "Params: {'n_estimators': 200, 'max_depth': 7, 'learning_rate': 0.1, 'subsample': 0.5, 'colsample_bytree': 1, 'gamma': 0.3, 'reg_alpha': 0, 'reg_lambda': 0.1} => RMSE: 2462291.9712, Relative RMSE: 0.0650\n",
      "Params: {'n_estimators': 200, 'max_depth': 7, 'learning_rate': 0.1, 'subsample': 0.5, 'colsample_bytree': 1, 'gamma': 0.3, 'reg_alpha': 0, 'reg_lambda': 0.3} => RMSE: 2645148.5020, Relative RMSE: 0.0699\n",
      "Params: {'n_estimators': 200, 'max_depth': 7, 'learning_rate': 0.1, 'subsample': 0.5, 'colsample_bytree': 1, 'gamma': 0.3, 'reg_alpha': 0.1, 'reg_lambda': 0} => RMSE: 2519481.4960, Relative RMSE: 0.0666\n",
      "Params: {'n_estimators': 200, 'max_depth': 7, 'learning_rate': 0.1, 'subsample': 0.5, 'colsample_bytree': 1, 'gamma': 0.3, 'reg_alpha': 0.1, 'reg_lambda': 0.1} => RMSE: 2460774.4663, Relative RMSE: 0.0650\n",
      "Params: {'n_estimators': 200, 'max_depth': 7, 'learning_rate': 0.1, 'subsample': 0.5, 'colsample_bytree': 1, 'gamma': 0.3, 'reg_alpha': 0.1, 'reg_lambda': 0.3} => RMSE: 2645147.4403, Relative RMSE: 0.0699\n",
      "Params: {'n_estimators': 200, 'max_depth': 7, 'learning_rate': 0.1, 'subsample': 0.5, 'colsample_bytree': 1, 'gamma': 0.3, 'reg_alpha': 0.3, 'reg_lambda': 0} => RMSE: 2519176.6783, Relative RMSE: 0.0665\n",
      "Params: {'n_estimators': 200, 'max_depth': 7, 'learning_rate': 0.1, 'subsample': 0.5, 'colsample_bytree': 1, 'gamma': 0.3, 'reg_alpha': 0.3, 'reg_lambda': 0.1} => RMSE: 2460773.8982, Relative RMSE: 0.0650\n",
      "Params: {'n_estimators': 200, 'max_depth': 7, 'learning_rate': 0.1, 'subsample': 0.5, 'colsample_bytree': 1, 'gamma': 0.3, 'reg_alpha': 0.3, 'reg_lambda': 0.3} => RMSE: 2645418.7492, Relative RMSE: 0.0699\n",
      "Params: {'n_estimators': 200, 'max_depth': 7, 'learning_rate': 0.1, 'subsample': 0.7, 'colsample_bytree': 0.5, 'gamma': 0, 'reg_alpha': 0, 'reg_lambda': 0} => RMSE: 2942666.9858, Relative RMSE: 0.0777\n",
      "Params: {'n_estimators': 200, 'max_depth': 7, 'learning_rate': 0.1, 'subsample': 0.7, 'colsample_bytree': 0.5, 'gamma': 0, 'reg_alpha': 0, 'reg_lambda': 0.1} => RMSE: 2957001.3073, Relative RMSE: 0.0781\n",
      "Params: {'n_estimators': 200, 'max_depth': 7, 'learning_rate': 0.1, 'subsample': 0.7, 'colsample_bytree': 0.5, 'gamma': 0, 'reg_alpha': 0, 'reg_lambda': 0.3} => RMSE: 2982323.6642, Relative RMSE: 0.0788\n",
      "Params: {'n_estimators': 200, 'max_depth': 7, 'learning_rate': 0.1, 'subsample': 0.7, 'colsample_bytree': 0.5, 'gamma': 0, 'reg_alpha': 0.1, 'reg_lambda': 0} => RMSE: 2942666.8098, Relative RMSE: 0.0777\n",
      "Params: {'n_estimators': 200, 'max_depth': 7, 'learning_rate': 0.1, 'subsample': 0.7, 'colsample_bytree': 0.5, 'gamma': 0, 'reg_alpha': 0.1, 'reg_lambda': 0.1} => RMSE: 2957001.6144, Relative RMSE: 0.0781\n",
      "Params: {'n_estimators': 200, 'max_depth': 7, 'learning_rate': 0.1, 'subsample': 0.7, 'colsample_bytree': 0.5, 'gamma': 0, 'reg_alpha': 0.1, 'reg_lambda': 0.3} => RMSE: 2982421.9519, Relative RMSE: 0.0788\n",
      "Params: {'n_estimators': 200, 'max_depth': 7, 'learning_rate': 0.1, 'subsample': 0.7, 'colsample_bytree': 0.5, 'gamma': 0, 'reg_alpha': 0.3, 'reg_lambda': 0} => RMSE: 2942673.4621, Relative RMSE: 0.0777\n",
      "Params: {'n_estimators': 200, 'max_depth': 7, 'learning_rate': 0.1, 'subsample': 0.7, 'colsample_bytree': 0.5, 'gamma': 0, 'reg_alpha': 0.3, 'reg_lambda': 0.1} => RMSE: 2957005.3601, Relative RMSE: 0.0781\n",
      "Params: {'n_estimators': 200, 'max_depth': 7, 'learning_rate': 0.1, 'subsample': 0.7, 'colsample_bytree': 0.5, 'gamma': 0, 'reg_alpha': 0.3, 'reg_lambda': 0.3} => RMSE: 2982421.9519, Relative RMSE: 0.0788\n",
      "Params: {'n_estimators': 200, 'max_depth': 7, 'learning_rate': 0.1, 'subsample': 0.7, 'colsample_bytree': 0.5, 'gamma': 0.1, 'reg_alpha': 0, 'reg_lambda': 0} => RMSE: 2942666.9858, Relative RMSE: 0.0777\n",
      "Params: {'n_estimators': 200, 'max_depth': 7, 'learning_rate': 0.1, 'subsample': 0.7, 'colsample_bytree': 0.5, 'gamma': 0.1, 'reg_alpha': 0, 'reg_lambda': 0.1} => RMSE: 2957001.3073, Relative RMSE: 0.0781\n",
      "Params: {'n_estimators': 200, 'max_depth': 7, 'learning_rate': 0.1, 'subsample': 0.7, 'colsample_bytree': 0.5, 'gamma': 0.1, 'reg_alpha': 0, 'reg_lambda': 0.3} => RMSE: 2982323.6642, Relative RMSE: 0.0788\n",
      "Params: {'n_estimators': 200, 'max_depth': 7, 'learning_rate': 0.1, 'subsample': 0.7, 'colsample_bytree': 0.5, 'gamma': 0.1, 'reg_alpha': 0.1, 'reg_lambda': 0} => RMSE: 2942666.8098, Relative RMSE: 0.0777\n",
      "Params: {'n_estimators': 200, 'max_depth': 7, 'learning_rate': 0.1, 'subsample': 0.7, 'colsample_bytree': 0.5, 'gamma': 0.1, 'reg_alpha': 0.1, 'reg_lambda': 0.1} => RMSE: 2957001.6144, Relative RMSE: 0.0781\n",
      "Params: {'n_estimators': 200, 'max_depth': 7, 'learning_rate': 0.1, 'subsample': 0.7, 'colsample_bytree': 0.5, 'gamma': 0.1, 'reg_alpha': 0.1, 'reg_lambda': 0.3} => RMSE: 2982421.9519, Relative RMSE: 0.0788\n",
      "Params: {'n_estimators': 200, 'max_depth': 7, 'learning_rate': 0.1, 'subsample': 0.7, 'colsample_bytree': 0.5, 'gamma': 0.1, 'reg_alpha': 0.3, 'reg_lambda': 0} => RMSE: 2942673.4621, Relative RMSE: 0.0777\n",
      "Params: {'n_estimators': 200, 'max_depth': 7, 'learning_rate': 0.1, 'subsample': 0.7, 'colsample_bytree': 0.5, 'gamma': 0.1, 'reg_alpha': 0.3, 'reg_lambda': 0.1} => RMSE: 2957005.3601, Relative RMSE: 0.0781\n",
      "Params: {'n_estimators': 200, 'max_depth': 7, 'learning_rate': 0.1, 'subsample': 0.7, 'colsample_bytree': 0.5, 'gamma': 0.1, 'reg_alpha': 0.3, 'reg_lambda': 0.3} => RMSE: 2982421.9519, Relative RMSE: 0.0788\n",
      "Params: {'n_estimators': 200, 'max_depth': 7, 'learning_rate': 0.1, 'subsample': 0.7, 'colsample_bytree': 0.5, 'gamma': 0.3, 'reg_alpha': 0, 'reg_lambda': 0} => RMSE: 2942666.9858, Relative RMSE: 0.0777\n",
      "Params: {'n_estimators': 200, 'max_depth': 7, 'learning_rate': 0.1, 'subsample': 0.7, 'colsample_bytree': 0.5, 'gamma': 0.3, 'reg_alpha': 0, 'reg_lambda': 0.1} => RMSE: 2957001.3073, Relative RMSE: 0.0781\n",
      "Params: {'n_estimators': 200, 'max_depth': 7, 'learning_rate': 0.1, 'subsample': 0.7, 'colsample_bytree': 0.5, 'gamma': 0.3, 'reg_alpha': 0, 'reg_lambda': 0.3} => RMSE: 2982323.6642, Relative RMSE: 0.0788\n",
      "Params: {'n_estimators': 200, 'max_depth': 7, 'learning_rate': 0.1, 'subsample': 0.7, 'colsample_bytree': 0.5, 'gamma': 0.3, 'reg_alpha': 0.1, 'reg_lambda': 0} => RMSE: 2942666.8098, Relative RMSE: 0.0777\n",
      "Params: {'n_estimators': 200, 'max_depth': 7, 'learning_rate': 0.1, 'subsample': 0.7, 'colsample_bytree': 0.5, 'gamma': 0.3, 'reg_alpha': 0.1, 'reg_lambda': 0.1} => RMSE: 2957001.6144, Relative RMSE: 0.0781\n",
      "Params: {'n_estimators': 200, 'max_depth': 7, 'learning_rate': 0.1, 'subsample': 0.7, 'colsample_bytree': 0.5, 'gamma': 0.3, 'reg_alpha': 0.1, 'reg_lambda': 0.3} => RMSE: 2982421.9519, Relative RMSE: 0.0788\n",
      "Params: {'n_estimators': 200, 'max_depth': 7, 'learning_rate': 0.1, 'subsample': 0.7, 'colsample_bytree': 0.5, 'gamma': 0.3, 'reg_alpha': 0.3, 'reg_lambda': 0} => RMSE: 2942673.4621, Relative RMSE: 0.0777\n",
      "Params: {'n_estimators': 200, 'max_depth': 7, 'learning_rate': 0.1, 'subsample': 0.7, 'colsample_bytree': 0.5, 'gamma': 0.3, 'reg_alpha': 0.3, 'reg_lambda': 0.1} => RMSE: 2957005.3601, Relative RMSE: 0.0781\n",
      "Params: {'n_estimators': 200, 'max_depth': 7, 'learning_rate': 0.1, 'subsample': 0.7, 'colsample_bytree': 0.5, 'gamma': 0.3, 'reg_alpha': 0.3, 'reg_lambda': 0.3} => RMSE: 2982421.9519, Relative RMSE: 0.0788\n",
      "Params: {'n_estimators': 200, 'max_depth': 7, 'learning_rate': 0.1, 'subsample': 0.7, 'colsample_bytree': 0.7, 'gamma': 0, 'reg_alpha': 0, 'reg_lambda': 0} => RMSE: 3244627.7155, Relative RMSE: 0.0857\n",
      "Params: {'n_estimators': 200, 'max_depth': 7, 'learning_rate': 0.1, 'subsample': 0.7, 'colsample_bytree': 0.7, 'gamma': 0, 'reg_alpha': 0, 'reg_lambda': 0.1} => RMSE: 2997805.6366, Relative RMSE: 0.0792\n",
      "Params: {'n_estimators': 200, 'max_depth': 7, 'learning_rate': 0.1, 'subsample': 0.7, 'colsample_bytree': 0.7, 'gamma': 0, 'reg_alpha': 0, 'reg_lambda': 0.3} => RMSE: 3039551.0203, Relative RMSE: 0.0803\n",
      "Params: {'n_estimators': 200, 'max_depth': 7, 'learning_rate': 0.1, 'subsample': 0.7, 'colsample_bytree': 0.7, 'gamma': 0, 'reg_alpha': 0.1, 'reg_lambda': 0} => RMSE: 3245175.0697, Relative RMSE: 0.0857\n",
      "Params: {'n_estimators': 200, 'max_depth': 7, 'learning_rate': 0.1, 'subsample': 0.7, 'colsample_bytree': 0.7, 'gamma': 0, 'reg_alpha': 0.1, 'reg_lambda': 0.1} => RMSE: 2997794.0367, Relative RMSE: 0.0792\n",
      "Params: {'n_estimators': 200, 'max_depth': 7, 'learning_rate': 0.1, 'subsample': 0.7, 'colsample_bytree': 0.7, 'gamma': 0, 'reg_alpha': 0.1, 'reg_lambda': 0.3} => RMSE: 3039561.6518, Relative RMSE: 0.0803\n",
      "Params: {'n_estimators': 200, 'max_depth': 7, 'learning_rate': 0.1, 'subsample': 0.7, 'colsample_bytree': 0.7, 'gamma': 0, 'reg_alpha': 0.3, 'reg_lambda': 0} => RMSE: 3245157.0575, Relative RMSE: 0.0857\n",
      "Params: {'n_estimators': 200, 'max_depth': 7, 'learning_rate': 0.1, 'subsample': 0.7, 'colsample_bytree': 0.7, 'gamma': 0, 'reg_alpha': 0.3, 'reg_lambda': 0.1} => RMSE: 2997795.3517, Relative RMSE: 0.0792\n",
      "Params: {'n_estimators': 200, 'max_depth': 7, 'learning_rate': 0.1, 'subsample': 0.7, 'colsample_bytree': 0.7, 'gamma': 0, 'reg_alpha': 0.3, 'reg_lambda': 0.3} => RMSE: 3039561.6518, Relative RMSE: 0.0803\n",
      "Params: {'n_estimators': 200, 'max_depth': 7, 'learning_rate': 0.1, 'subsample': 0.7, 'colsample_bytree': 0.7, 'gamma': 0.1, 'reg_alpha': 0, 'reg_lambda': 0} => RMSE: 3244627.7155, Relative RMSE: 0.0857\n",
      "Params: {'n_estimators': 200, 'max_depth': 7, 'learning_rate': 0.1, 'subsample': 0.7, 'colsample_bytree': 0.7, 'gamma': 0.1, 'reg_alpha': 0, 'reg_lambda': 0.1} => RMSE: 2997805.6366, Relative RMSE: 0.0792\n",
      "Params: {'n_estimators': 200, 'max_depth': 7, 'learning_rate': 0.1, 'subsample': 0.7, 'colsample_bytree': 0.7, 'gamma': 0.1, 'reg_alpha': 0, 'reg_lambda': 0.3} => RMSE: 3039551.0203, Relative RMSE: 0.0803\n",
      "Params: {'n_estimators': 200, 'max_depth': 7, 'learning_rate': 0.1, 'subsample': 0.7, 'colsample_bytree': 0.7, 'gamma': 0.1, 'reg_alpha': 0.1, 'reg_lambda': 0} => RMSE: 3245175.0697, Relative RMSE: 0.0857\n",
      "Params: {'n_estimators': 200, 'max_depth': 7, 'learning_rate': 0.1, 'subsample': 0.7, 'colsample_bytree': 0.7, 'gamma': 0.1, 'reg_alpha': 0.1, 'reg_lambda': 0.1} => RMSE: 2997794.0367, Relative RMSE: 0.0792\n",
      "Params: {'n_estimators': 200, 'max_depth': 7, 'learning_rate': 0.1, 'subsample': 0.7, 'colsample_bytree': 0.7, 'gamma': 0.1, 'reg_alpha': 0.1, 'reg_lambda': 0.3} => RMSE: 3039561.6518, Relative RMSE: 0.0803\n",
      "Params: {'n_estimators': 200, 'max_depth': 7, 'learning_rate': 0.1, 'subsample': 0.7, 'colsample_bytree': 0.7, 'gamma': 0.1, 'reg_alpha': 0.3, 'reg_lambda': 0} => RMSE: 3245157.0575, Relative RMSE: 0.0857\n",
      "Params: {'n_estimators': 200, 'max_depth': 7, 'learning_rate': 0.1, 'subsample': 0.7, 'colsample_bytree': 0.7, 'gamma': 0.1, 'reg_alpha': 0.3, 'reg_lambda': 0.1} => RMSE: 2997795.3517, Relative RMSE: 0.0792\n",
      "Params: {'n_estimators': 200, 'max_depth': 7, 'learning_rate': 0.1, 'subsample': 0.7, 'colsample_bytree': 0.7, 'gamma': 0.1, 'reg_alpha': 0.3, 'reg_lambda': 0.3} => RMSE: 3039561.6518, Relative RMSE: 0.0803\n",
      "Params: {'n_estimators': 200, 'max_depth': 7, 'learning_rate': 0.1, 'subsample': 0.7, 'colsample_bytree': 0.7, 'gamma': 0.3, 'reg_alpha': 0, 'reg_lambda': 0} => RMSE: 3244627.7155, Relative RMSE: 0.0857\n",
      "Params: {'n_estimators': 200, 'max_depth': 7, 'learning_rate': 0.1, 'subsample': 0.7, 'colsample_bytree': 0.7, 'gamma': 0.3, 'reg_alpha': 0, 'reg_lambda': 0.1} => RMSE: 2997805.6366, Relative RMSE: 0.0792\n",
      "Params: {'n_estimators': 200, 'max_depth': 7, 'learning_rate': 0.1, 'subsample': 0.7, 'colsample_bytree': 0.7, 'gamma': 0.3, 'reg_alpha': 0, 'reg_lambda': 0.3} => RMSE: 3039551.0203, Relative RMSE: 0.0803\n",
      "Params: {'n_estimators': 200, 'max_depth': 7, 'learning_rate': 0.1, 'subsample': 0.7, 'colsample_bytree': 0.7, 'gamma': 0.3, 'reg_alpha': 0.1, 'reg_lambda': 0} => RMSE: 3245175.0697, Relative RMSE: 0.0857\n",
      "Params: {'n_estimators': 200, 'max_depth': 7, 'learning_rate': 0.1, 'subsample': 0.7, 'colsample_bytree': 0.7, 'gamma': 0.3, 'reg_alpha': 0.1, 'reg_lambda': 0.1} => RMSE: 2997794.0367, Relative RMSE: 0.0792\n",
      "Params: {'n_estimators': 200, 'max_depth': 7, 'learning_rate': 0.1, 'subsample': 0.7, 'colsample_bytree': 0.7, 'gamma': 0.3, 'reg_alpha': 0.1, 'reg_lambda': 0.3} => RMSE: 3039561.6518, Relative RMSE: 0.0803\n",
      "Params: {'n_estimators': 200, 'max_depth': 7, 'learning_rate': 0.1, 'subsample': 0.7, 'colsample_bytree': 0.7, 'gamma': 0.3, 'reg_alpha': 0.3, 'reg_lambda': 0} => RMSE: 3245157.0575, Relative RMSE: 0.0857\n",
      "Params: {'n_estimators': 200, 'max_depth': 7, 'learning_rate': 0.1, 'subsample': 0.7, 'colsample_bytree': 0.7, 'gamma': 0.3, 'reg_alpha': 0.3, 'reg_lambda': 0.1} => RMSE: 2997795.3517, Relative RMSE: 0.0792\n",
      "Params: {'n_estimators': 200, 'max_depth': 7, 'learning_rate': 0.1, 'subsample': 0.7, 'colsample_bytree': 0.7, 'gamma': 0.3, 'reg_alpha': 0.3, 'reg_lambda': 0.3} => RMSE: 3039561.6518, Relative RMSE: 0.0803\n",
      "Params: {'n_estimators': 200, 'max_depth': 7, 'learning_rate': 0.1, 'subsample': 0.7, 'colsample_bytree': 1, 'gamma': 0, 'reg_alpha': 0, 'reg_lambda': 0} => RMSE: 2694542.7196, Relative RMSE: 0.0712\n",
      "Params: {'n_estimators': 200, 'max_depth': 7, 'learning_rate': 0.1, 'subsample': 0.7, 'colsample_bytree': 1, 'gamma': 0, 'reg_alpha': 0, 'reg_lambda': 0.1} => RMSE: 2598937.0348, Relative RMSE: 0.0687\n",
      "Params: {'n_estimators': 200, 'max_depth': 7, 'learning_rate': 0.1, 'subsample': 0.7, 'colsample_bytree': 1, 'gamma': 0, 'reg_alpha': 0, 'reg_lambda': 0.3} => RMSE: 2833657.9000, Relative RMSE: 0.0749\n",
      "Params: {'n_estimators': 200, 'max_depth': 7, 'learning_rate': 0.1, 'subsample': 0.7, 'colsample_bytree': 1, 'gamma': 0, 'reg_alpha': 0.1, 'reg_lambda': 0} => RMSE: 2694525.7009, Relative RMSE: 0.0712\n",
      "Params: {'n_estimators': 200, 'max_depth': 7, 'learning_rate': 0.1, 'subsample': 0.7, 'colsample_bytree': 1, 'gamma': 0, 'reg_alpha': 0.1, 'reg_lambda': 0.1} => RMSE: 2598947.1141, Relative RMSE: 0.0687\n",
      "Params: {'n_estimators': 200, 'max_depth': 7, 'learning_rate': 0.1, 'subsample': 0.7, 'colsample_bytree': 1, 'gamma': 0, 'reg_alpha': 0.1, 'reg_lambda': 0.3} => RMSE: 2832869.7605, Relative RMSE: 0.0748\n",
      "Params: {'n_estimators': 200, 'max_depth': 7, 'learning_rate': 0.1, 'subsample': 0.7, 'colsample_bytree': 1, 'gamma': 0, 'reg_alpha': 0.3, 'reg_lambda': 0} => RMSE: 2694533.1029, Relative RMSE: 0.0712\n",
      "Params: {'n_estimators': 200, 'max_depth': 7, 'learning_rate': 0.1, 'subsample': 0.7, 'colsample_bytree': 1, 'gamma': 0, 'reg_alpha': 0.3, 'reg_lambda': 0.1} => RMSE: 2598916.4712, Relative RMSE: 0.0686\n",
      "Params: {'n_estimators': 200, 'max_depth': 7, 'learning_rate': 0.1, 'subsample': 0.7, 'colsample_bytree': 1, 'gamma': 0, 'reg_alpha': 0.3, 'reg_lambda': 0.3} => RMSE: 2832869.7605, Relative RMSE: 0.0748\n",
      "Params: {'n_estimators': 200, 'max_depth': 7, 'learning_rate': 0.1, 'subsample': 0.7, 'colsample_bytree': 1, 'gamma': 0.1, 'reg_alpha': 0, 'reg_lambda': 0} => RMSE: 2694542.7196, Relative RMSE: 0.0712\n",
      "Params: {'n_estimators': 200, 'max_depth': 7, 'learning_rate': 0.1, 'subsample': 0.7, 'colsample_bytree': 1, 'gamma': 0.1, 'reg_alpha': 0, 'reg_lambda': 0.1} => RMSE: 2598937.0348, Relative RMSE: 0.0687\n",
      "Params: {'n_estimators': 200, 'max_depth': 7, 'learning_rate': 0.1, 'subsample': 0.7, 'colsample_bytree': 1, 'gamma': 0.1, 'reg_alpha': 0, 'reg_lambda': 0.3} => RMSE: 2833657.9000, Relative RMSE: 0.0749\n",
      "Params: {'n_estimators': 200, 'max_depth': 7, 'learning_rate': 0.1, 'subsample': 0.7, 'colsample_bytree': 1, 'gamma': 0.1, 'reg_alpha': 0.1, 'reg_lambda': 0} => RMSE: 2694525.7009, Relative RMSE: 0.0712\n",
      "Params: {'n_estimators': 200, 'max_depth': 7, 'learning_rate': 0.1, 'subsample': 0.7, 'colsample_bytree': 1, 'gamma': 0.1, 'reg_alpha': 0.1, 'reg_lambda': 0.1} => RMSE: 2598947.1141, Relative RMSE: 0.0687\n",
      "Params: {'n_estimators': 200, 'max_depth': 7, 'learning_rate': 0.1, 'subsample': 0.7, 'colsample_bytree': 1, 'gamma': 0.1, 'reg_alpha': 0.1, 'reg_lambda': 0.3} => RMSE: 2832869.7605, Relative RMSE: 0.0748\n",
      "Params: {'n_estimators': 200, 'max_depth': 7, 'learning_rate': 0.1, 'subsample': 0.7, 'colsample_bytree': 1, 'gamma': 0.1, 'reg_alpha': 0.3, 'reg_lambda': 0} => RMSE: 2694533.1029, Relative RMSE: 0.0712\n",
      "Params: {'n_estimators': 200, 'max_depth': 7, 'learning_rate': 0.1, 'subsample': 0.7, 'colsample_bytree': 1, 'gamma': 0.1, 'reg_alpha': 0.3, 'reg_lambda': 0.1} => RMSE: 2598916.4712, Relative RMSE: 0.0686\n",
      "Params: {'n_estimators': 200, 'max_depth': 7, 'learning_rate': 0.1, 'subsample': 0.7, 'colsample_bytree': 1, 'gamma': 0.1, 'reg_alpha': 0.3, 'reg_lambda': 0.3} => RMSE: 2832869.7605, Relative RMSE: 0.0748\n",
      "Params: {'n_estimators': 200, 'max_depth': 7, 'learning_rate': 0.1, 'subsample': 0.7, 'colsample_bytree': 1, 'gamma': 0.3, 'reg_alpha': 0, 'reg_lambda': 0} => RMSE: 2694542.7196, Relative RMSE: 0.0712\n",
      "Params: {'n_estimators': 200, 'max_depth': 7, 'learning_rate': 0.1, 'subsample': 0.7, 'colsample_bytree': 1, 'gamma': 0.3, 'reg_alpha': 0, 'reg_lambda': 0.1} => RMSE: 2598937.0348, Relative RMSE: 0.0687\n",
      "Params: {'n_estimators': 200, 'max_depth': 7, 'learning_rate': 0.1, 'subsample': 0.7, 'colsample_bytree': 1, 'gamma': 0.3, 'reg_alpha': 0, 'reg_lambda': 0.3} => RMSE: 2833657.9000, Relative RMSE: 0.0749\n",
      "Params: {'n_estimators': 200, 'max_depth': 7, 'learning_rate': 0.1, 'subsample': 0.7, 'colsample_bytree': 1, 'gamma': 0.3, 'reg_alpha': 0.1, 'reg_lambda': 0} => RMSE: 2694525.7009, Relative RMSE: 0.0712\n",
      "Params: {'n_estimators': 200, 'max_depth': 7, 'learning_rate': 0.1, 'subsample': 0.7, 'colsample_bytree': 1, 'gamma': 0.3, 'reg_alpha': 0.1, 'reg_lambda': 0.1} => RMSE: 2598947.1141, Relative RMSE: 0.0687\n",
      "Params: {'n_estimators': 200, 'max_depth': 7, 'learning_rate': 0.1, 'subsample': 0.7, 'colsample_bytree': 1, 'gamma': 0.3, 'reg_alpha': 0.1, 'reg_lambda': 0.3} => RMSE: 2832869.7605, Relative RMSE: 0.0748\n",
      "Params: {'n_estimators': 200, 'max_depth': 7, 'learning_rate': 0.1, 'subsample': 0.7, 'colsample_bytree': 1, 'gamma': 0.3, 'reg_alpha': 0.3, 'reg_lambda': 0} => RMSE: 2694533.1029, Relative RMSE: 0.0712\n",
      "Params: {'n_estimators': 200, 'max_depth': 7, 'learning_rate': 0.1, 'subsample': 0.7, 'colsample_bytree': 1, 'gamma': 0.3, 'reg_alpha': 0.3, 'reg_lambda': 0.1} => RMSE: 2598916.4712, Relative RMSE: 0.0686\n",
      "Params: {'n_estimators': 200, 'max_depth': 7, 'learning_rate': 0.1, 'subsample': 0.7, 'colsample_bytree': 1, 'gamma': 0.3, 'reg_alpha': 0.3, 'reg_lambda': 0.3} => RMSE: 2832869.7605, Relative RMSE: 0.0748\n",
      "Params: {'n_estimators': 200, 'max_depth': 7, 'learning_rate': 0.3, 'subsample': 0.5, 'colsample_bytree': 0.5, 'gamma': 0, 'reg_alpha': 0, 'reg_lambda': 0} => RMSE: 3065733.5237, Relative RMSE: 0.0810\n",
      "Params: {'n_estimators': 200, 'max_depth': 7, 'learning_rate': 0.3, 'subsample': 0.5, 'colsample_bytree': 0.5, 'gamma': 0, 'reg_alpha': 0, 'reg_lambda': 0.1} => RMSE: 3268908.0422, Relative RMSE: 0.0863\n",
      "Params: {'n_estimators': 200, 'max_depth': 7, 'learning_rate': 0.3, 'subsample': 0.5, 'colsample_bytree': 0.5, 'gamma': 0, 'reg_alpha': 0, 'reg_lambda': 0.3} => RMSE: 2946541.4076, Relative RMSE: 0.0778\n",
      "Params: {'n_estimators': 200, 'max_depth': 7, 'learning_rate': 0.3, 'subsample': 0.5, 'colsample_bytree': 0.5, 'gamma': 0, 'reg_alpha': 0.1, 'reg_lambda': 0} => RMSE: 3065769.4547, Relative RMSE: 0.0810\n",
      "Params: {'n_estimators': 200, 'max_depth': 7, 'learning_rate': 0.3, 'subsample': 0.5, 'colsample_bytree': 0.5, 'gamma': 0, 'reg_alpha': 0.1, 'reg_lambda': 0.1} => RMSE: 3268545.6839, Relative RMSE: 0.0863\n",
      "Params: {'n_estimators': 200, 'max_depth': 7, 'learning_rate': 0.3, 'subsample': 0.5, 'colsample_bytree': 0.5, 'gamma': 0, 'reg_alpha': 0.1, 'reg_lambda': 0.3} => RMSE: 2946528.0056, Relative RMSE: 0.0778\n",
      "Params: {'n_estimators': 200, 'max_depth': 7, 'learning_rate': 0.3, 'subsample': 0.5, 'colsample_bytree': 0.5, 'gamma': 0, 'reg_alpha': 0.3, 'reg_lambda': 0} => RMSE: 3065775.4331, Relative RMSE: 0.0810\n",
      "Params: {'n_estimators': 200, 'max_depth': 7, 'learning_rate': 0.3, 'subsample': 0.5, 'colsample_bytree': 0.5, 'gamma': 0, 'reg_alpha': 0.3, 'reg_lambda': 0.1} => RMSE: 3268751.7175, Relative RMSE: 0.0863\n",
      "Params: {'n_estimators': 200, 'max_depth': 7, 'learning_rate': 0.3, 'subsample': 0.5, 'colsample_bytree': 0.5, 'gamma': 0, 'reg_alpha': 0.3, 'reg_lambda': 0.3} => RMSE: 2946538.3848, Relative RMSE: 0.0778\n",
      "Params: {'n_estimators': 200, 'max_depth': 7, 'learning_rate': 0.3, 'subsample': 0.5, 'colsample_bytree': 0.5, 'gamma': 0.1, 'reg_alpha': 0, 'reg_lambda': 0} => RMSE: 3065733.5237, Relative RMSE: 0.0810\n",
      "Params: {'n_estimators': 200, 'max_depth': 7, 'learning_rate': 0.3, 'subsample': 0.5, 'colsample_bytree': 0.5, 'gamma': 0.1, 'reg_alpha': 0, 'reg_lambda': 0.1} => RMSE: 3268908.0422, Relative RMSE: 0.0863\n",
      "Params: {'n_estimators': 200, 'max_depth': 7, 'learning_rate': 0.3, 'subsample': 0.5, 'colsample_bytree': 0.5, 'gamma': 0.1, 'reg_alpha': 0, 'reg_lambda': 0.3} => RMSE: 2946541.4076, Relative RMSE: 0.0778\n",
      "Params: {'n_estimators': 200, 'max_depth': 7, 'learning_rate': 0.3, 'subsample': 0.5, 'colsample_bytree': 0.5, 'gamma': 0.1, 'reg_alpha': 0.1, 'reg_lambda': 0} => RMSE: 3065769.4547, Relative RMSE: 0.0810\n",
      "Params: {'n_estimators': 200, 'max_depth': 7, 'learning_rate': 0.3, 'subsample': 0.5, 'colsample_bytree': 0.5, 'gamma': 0.1, 'reg_alpha': 0.1, 'reg_lambda': 0.1} => RMSE: 3268545.6839, Relative RMSE: 0.0863\n",
      "Params: {'n_estimators': 200, 'max_depth': 7, 'learning_rate': 0.3, 'subsample': 0.5, 'colsample_bytree': 0.5, 'gamma': 0.1, 'reg_alpha': 0.1, 'reg_lambda': 0.3} => RMSE: 2946528.0056, Relative RMSE: 0.0778\n",
      "Params: {'n_estimators': 200, 'max_depth': 7, 'learning_rate': 0.3, 'subsample': 0.5, 'colsample_bytree': 0.5, 'gamma': 0.1, 'reg_alpha': 0.3, 'reg_lambda': 0} => RMSE: 3065775.4331, Relative RMSE: 0.0810\n",
      "Params: {'n_estimators': 200, 'max_depth': 7, 'learning_rate': 0.3, 'subsample': 0.5, 'colsample_bytree': 0.5, 'gamma': 0.1, 'reg_alpha': 0.3, 'reg_lambda': 0.1} => RMSE: 3268751.7175, Relative RMSE: 0.0863\n",
      "Params: {'n_estimators': 200, 'max_depth': 7, 'learning_rate': 0.3, 'subsample': 0.5, 'colsample_bytree': 0.5, 'gamma': 0.1, 'reg_alpha': 0.3, 'reg_lambda': 0.3} => RMSE: 2946535.5821, Relative RMSE: 0.0778\n",
      "Params: {'n_estimators': 200, 'max_depth': 7, 'learning_rate': 0.3, 'subsample': 0.5, 'colsample_bytree': 0.5, 'gamma': 0.3, 'reg_alpha': 0, 'reg_lambda': 0} => RMSE: 3065733.5237, Relative RMSE: 0.0810\n",
      "Params: {'n_estimators': 200, 'max_depth': 7, 'learning_rate': 0.3, 'subsample': 0.5, 'colsample_bytree': 0.5, 'gamma': 0.3, 'reg_alpha': 0, 'reg_lambda': 0.1} => RMSE: 3268908.0422, Relative RMSE: 0.0863\n",
      "Params: {'n_estimators': 200, 'max_depth': 7, 'learning_rate': 0.3, 'subsample': 0.5, 'colsample_bytree': 0.5, 'gamma': 0.3, 'reg_alpha': 0, 'reg_lambda': 0.3} => RMSE: 2946541.4076, Relative RMSE: 0.0778\n",
      "Params: {'n_estimators': 200, 'max_depth': 7, 'learning_rate': 0.3, 'subsample': 0.5, 'colsample_bytree': 0.5, 'gamma': 0.3, 'reg_alpha': 0.1, 'reg_lambda': 0} => RMSE: 3065769.4547, Relative RMSE: 0.0810\n",
      "Params: {'n_estimators': 200, 'max_depth': 7, 'learning_rate': 0.3, 'subsample': 0.5, 'colsample_bytree': 0.5, 'gamma': 0.3, 'reg_alpha': 0.1, 'reg_lambda': 0.1} => RMSE: 3268546.1004, Relative RMSE: 0.0863\n",
      "Params: {'n_estimators': 200, 'max_depth': 7, 'learning_rate': 0.3, 'subsample': 0.5, 'colsample_bytree': 0.5, 'gamma': 0.3, 'reg_alpha': 0.1, 'reg_lambda': 0.3} => RMSE: 2946528.0056, Relative RMSE: 0.0778\n",
      "Params: {'n_estimators': 200, 'max_depth': 7, 'learning_rate': 0.3, 'subsample': 0.5, 'colsample_bytree': 0.5, 'gamma': 0.3, 'reg_alpha': 0.3, 'reg_lambda': 0} => RMSE: 3065775.4331, Relative RMSE: 0.0810\n",
      "Params: {'n_estimators': 200, 'max_depth': 7, 'learning_rate': 0.3, 'subsample': 0.5, 'colsample_bytree': 0.5, 'gamma': 0.3, 'reg_alpha': 0.3, 'reg_lambda': 0.1} => RMSE: 3268751.7175, Relative RMSE: 0.0863\n",
      "Params: {'n_estimators': 200, 'max_depth': 7, 'learning_rate': 0.3, 'subsample': 0.5, 'colsample_bytree': 0.5, 'gamma': 0.3, 'reg_alpha': 0.3, 'reg_lambda': 0.3} => RMSE: 2946535.5821, Relative RMSE: 0.0778\n",
      "Params: {'n_estimators': 200, 'max_depth': 7, 'learning_rate': 0.3, 'subsample': 0.5, 'colsample_bytree': 0.7, 'gamma': 0, 'reg_alpha': 0, 'reg_lambda': 0} => RMSE: 3466216.7633, Relative RMSE: 0.0916\n",
      "Params: {'n_estimators': 200, 'max_depth': 7, 'learning_rate': 0.3, 'subsample': 0.5, 'colsample_bytree': 0.7, 'gamma': 0, 'reg_alpha': 0, 'reg_lambda': 0.1} => RMSE: 3331979.6024, Relative RMSE: 0.0880\n",
      "Params: {'n_estimators': 200, 'max_depth': 7, 'learning_rate': 0.3, 'subsample': 0.5, 'colsample_bytree': 0.7, 'gamma': 0, 'reg_alpha': 0, 'reg_lambda': 0.3} => RMSE: 3188551.6557, Relative RMSE: 0.0842\n",
      "Params: {'n_estimators': 200, 'max_depth': 7, 'learning_rate': 0.3, 'subsample': 0.5, 'colsample_bytree': 0.7, 'gamma': 0, 'reg_alpha': 0.1, 'reg_lambda': 0} => RMSE: 3466278.8389, Relative RMSE: 0.0916\n",
      "Params: {'n_estimators': 200, 'max_depth': 7, 'learning_rate': 0.3, 'subsample': 0.5, 'colsample_bytree': 0.7, 'gamma': 0, 'reg_alpha': 0.1, 'reg_lambda': 0.1} => RMSE: 3331923.7672, Relative RMSE: 0.0880\n",
      "Params: {'n_estimators': 200, 'max_depth': 7, 'learning_rate': 0.3, 'subsample': 0.5, 'colsample_bytree': 0.7, 'gamma': 0, 'reg_alpha': 0.1, 'reg_lambda': 0.3} => RMSE: 3188568.5264, Relative RMSE: 0.0842\n",
      "Params: {'n_estimators': 200, 'max_depth': 7, 'learning_rate': 0.3, 'subsample': 0.5, 'colsample_bytree': 0.7, 'gamma': 0, 'reg_alpha': 0.3, 'reg_lambda': 0} => RMSE: 3466238.2274, Relative RMSE: 0.0916\n",
      "Params: {'n_estimators': 200, 'max_depth': 7, 'learning_rate': 0.3, 'subsample': 0.5, 'colsample_bytree': 0.7, 'gamma': 0, 'reg_alpha': 0.3, 'reg_lambda': 0.1} => RMSE: 3331905.0656, Relative RMSE: 0.0880\n",
      "Params: {'n_estimators': 200, 'max_depth': 7, 'learning_rate': 0.3, 'subsample': 0.5, 'colsample_bytree': 0.7, 'gamma': 0, 'reg_alpha': 0.3, 'reg_lambda': 0.3} => RMSE: 3188596.0212, Relative RMSE: 0.0842\n",
      "Params: {'n_estimators': 200, 'max_depth': 7, 'learning_rate': 0.3, 'subsample': 0.5, 'colsample_bytree': 0.7, 'gamma': 0.1, 'reg_alpha': 0, 'reg_lambda': 0} => RMSE: 3466216.7633, Relative RMSE: 0.0916\n",
      "Params: {'n_estimators': 200, 'max_depth': 7, 'learning_rate': 0.3, 'subsample': 0.5, 'colsample_bytree': 0.7, 'gamma': 0.1, 'reg_alpha': 0, 'reg_lambda': 0.1} => RMSE: 3331979.6024, Relative RMSE: 0.0880\n",
      "Params: {'n_estimators': 200, 'max_depth': 7, 'learning_rate': 0.3, 'subsample': 0.5, 'colsample_bytree': 0.7, 'gamma': 0.1, 'reg_alpha': 0, 'reg_lambda': 0.3} => RMSE: 3188551.6557, Relative RMSE: 0.0842\n",
      "Params: {'n_estimators': 200, 'max_depth': 7, 'learning_rate': 0.3, 'subsample': 0.5, 'colsample_bytree': 0.7, 'gamma': 0.1, 'reg_alpha': 0.1, 'reg_lambda': 0} => RMSE: 3466278.8389, Relative RMSE: 0.0916\n",
      "Params: {'n_estimators': 200, 'max_depth': 7, 'learning_rate': 0.3, 'subsample': 0.5, 'colsample_bytree': 0.7, 'gamma': 0.1, 'reg_alpha': 0.1, 'reg_lambda': 0.1} => RMSE: 3331923.7672, Relative RMSE: 0.0880\n",
      "Params: {'n_estimators': 200, 'max_depth': 7, 'learning_rate': 0.3, 'subsample': 0.5, 'colsample_bytree': 0.7, 'gamma': 0.1, 'reg_alpha': 0.1, 'reg_lambda': 0.3} => RMSE: 3188568.5264, Relative RMSE: 0.0842\n",
      "Params: {'n_estimators': 200, 'max_depth': 7, 'learning_rate': 0.3, 'subsample': 0.5, 'colsample_bytree': 0.7, 'gamma': 0.1, 'reg_alpha': 0.3, 'reg_lambda': 0} => RMSE: 3466238.2274, Relative RMSE: 0.0916\n",
      "Params: {'n_estimators': 200, 'max_depth': 7, 'learning_rate': 0.3, 'subsample': 0.5, 'colsample_bytree': 0.7, 'gamma': 0.1, 'reg_alpha': 0.3, 'reg_lambda': 0.1} => RMSE: 3331905.0656, Relative RMSE: 0.0880\n",
      "Params: {'n_estimators': 200, 'max_depth': 7, 'learning_rate': 0.3, 'subsample': 0.5, 'colsample_bytree': 0.7, 'gamma': 0.1, 'reg_alpha': 0.3, 'reg_lambda': 0.3} => RMSE: 3188597.1159, Relative RMSE: 0.0842\n",
      "Params: {'n_estimators': 200, 'max_depth': 7, 'learning_rate': 0.3, 'subsample': 0.5, 'colsample_bytree': 0.7, 'gamma': 0.3, 'reg_alpha': 0, 'reg_lambda': 0} => RMSE: 3466216.7633, Relative RMSE: 0.0916\n",
      "Params: {'n_estimators': 200, 'max_depth': 7, 'learning_rate': 0.3, 'subsample': 0.5, 'colsample_bytree': 0.7, 'gamma': 0.3, 'reg_alpha': 0, 'reg_lambda': 0.1} => RMSE: 3331979.6024, Relative RMSE: 0.0880\n",
      "Params: {'n_estimators': 200, 'max_depth': 7, 'learning_rate': 0.3, 'subsample': 0.5, 'colsample_bytree': 0.7, 'gamma': 0.3, 'reg_alpha': 0, 'reg_lambda': 0.3} => RMSE: 3188551.6557, Relative RMSE: 0.0842\n",
      "Params: {'n_estimators': 200, 'max_depth': 7, 'learning_rate': 0.3, 'subsample': 0.5, 'colsample_bytree': 0.7, 'gamma': 0.3, 'reg_alpha': 0.1, 'reg_lambda': 0} => RMSE: 3466278.8389, Relative RMSE: 0.0916\n",
      "Params: {'n_estimators': 200, 'max_depth': 7, 'learning_rate': 0.3, 'subsample': 0.5, 'colsample_bytree': 0.7, 'gamma': 0.3, 'reg_alpha': 0.1, 'reg_lambda': 0.1} => RMSE: 3331923.7672, Relative RMSE: 0.0880\n",
      "Params: {'n_estimators': 200, 'max_depth': 7, 'learning_rate': 0.3, 'subsample': 0.5, 'colsample_bytree': 0.7, 'gamma': 0.3, 'reg_alpha': 0.1, 'reg_lambda': 0.3} => RMSE: 3188568.5264, Relative RMSE: 0.0842\n",
      "Params: {'n_estimators': 200, 'max_depth': 7, 'learning_rate': 0.3, 'subsample': 0.5, 'colsample_bytree': 0.7, 'gamma': 0.3, 'reg_alpha': 0.3, 'reg_lambda': 0} => RMSE: 3466238.2274, Relative RMSE: 0.0916\n",
      "Params: {'n_estimators': 200, 'max_depth': 7, 'learning_rate': 0.3, 'subsample': 0.5, 'colsample_bytree': 0.7, 'gamma': 0.3, 'reg_alpha': 0.3, 'reg_lambda': 0.1} => RMSE: 3331905.0656, Relative RMSE: 0.0880\n",
      "Params: {'n_estimators': 200, 'max_depth': 7, 'learning_rate': 0.3, 'subsample': 0.5, 'colsample_bytree': 0.7, 'gamma': 0.3, 'reg_alpha': 0.3, 'reg_lambda': 0.3} => RMSE: 3188597.1159, Relative RMSE: 0.0842\n",
      "Params: {'n_estimators': 200, 'max_depth': 7, 'learning_rate': 0.3, 'subsample': 0.5, 'colsample_bytree': 1, 'gamma': 0, 'reg_alpha': 0, 'reg_lambda': 0} => RMSE: 2448272.4942, Relative RMSE: 0.0647\n",
      "Params: {'n_estimators': 200, 'max_depth': 7, 'learning_rate': 0.3, 'subsample': 0.5, 'colsample_bytree': 1, 'gamma': 0, 'reg_alpha': 0, 'reg_lambda': 0.1} => RMSE: 2635825.2652, Relative RMSE: 0.0696\n",
      "Params: {'n_estimators': 200, 'max_depth': 7, 'learning_rate': 0.3, 'subsample': 0.5, 'colsample_bytree': 1, 'gamma': 0, 'reg_alpha': 0, 'reg_lambda': 0.3} => RMSE: 2969399.4093, Relative RMSE: 0.0784\n",
      "Params: {'n_estimators': 200, 'max_depth': 7, 'learning_rate': 0.3, 'subsample': 0.5, 'colsample_bytree': 1, 'gamma': 0, 'reg_alpha': 0.1, 'reg_lambda': 0} => RMSE: 2447568.2917, Relative RMSE: 0.0647\n",
      "Params: {'n_estimators': 200, 'max_depth': 7, 'learning_rate': 0.3, 'subsample': 0.5, 'colsample_bytree': 1, 'gamma': 0, 'reg_alpha': 0.1, 'reg_lambda': 0.1} => RMSE: 2635812.1648, Relative RMSE: 0.0696\n",
      "Params: {'n_estimators': 200, 'max_depth': 7, 'learning_rate': 0.3, 'subsample': 0.5, 'colsample_bytree': 1, 'gamma': 0, 'reg_alpha': 0.1, 'reg_lambda': 0.3} => RMSE: 2969388.9316, Relative RMSE: 0.0784\n",
      "Params: {'n_estimators': 200, 'max_depth': 7, 'learning_rate': 0.3, 'subsample': 0.5, 'colsample_bytree': 1, 'gamma': 0, 'reg_alpha': 0.3, 'reg_lambda': 0} => RMSE: 2447553.3314, Relative RMSE: 0.0647\n",
      "Params: {'n_estimators': 200, 'max_depth': 7, 'learning_rate': 0.3, 'subsample': 0.5, 'colsample_bytree': 1, 'gamma': 0, 'reg_alpha': 0.3, 'reg_lambda': 0.1} => RMSE: 2636520.5421, Relative RMSE: 0.0696\n",
      "Params: {'n_estimators': 200, 'max_depth': 7, 'learning_rate': 0.3, 'subsample': 0.5, 'colsample_bytree': 1, 'gamma': 0, 'reg_alpha': 0.3, 'reg_lambda': 0.3} => RMSE: 2969324.2009, Relative RMSE: 0.0784\n",
      "Params: {'n_estimators': 200, 'max_depth': 7, 'learning_rate': 0.3, 'subsample': 0.5, 'colsample_bytree': 1, 'gamma': 0.1, 'reg_alpha': 0, 'reg_lambda': 0} => RMSE: 2448272.4942, Relative RMSE: 0.0647\n",
      "Params: {'n_estimators': 200, 'max_depth': 7, 'learning_rate': 0.3, 'subsample': 0.5, 'colsample_bytree': 1, 'gamma': 0.1, 'reg_alpha': 0, 'reg_lambda': 0.1} => RMSE: 2635825.2652, Relative RMSE: 0.0696\n",
      "Params: {'n_estimators': 200, 'max_depth': 7, 'learning_rate': 0.3, 'subsample': 0.5, 'colsample_bytree': 1, 'gamma': 0.1, 'reg_alpha': 0, 'reg_lambda': 0.3} => RMSE: 2969399.4093, Relative RMSE: 0.0784\n",
      "Params: {'n_estimators': 200, 'max_depth': 7, 'learning_rate': 0.3, 'subsample': 0.5, 'colsample_bytree': 1, 'gamma': 0.1, 'reg_alpha': 0.1, 'reg_lambda': 0} => RMSE: 2447568.2917, Relative RMSE: 0.0647\n",
      "Params: {'n_estimators': 200, 'max_depth': 7, 'learning_rate': 0.3, 'subsample': 0.5, 'colsample_bytree': 1, 'gamma': 0.1, 'reg_alpha': 0.1, 'reg_lambda': 0.1} => RMSE: 2635812.1648, Relative RMSE: 0.0696\n",
      "Params: {'n_estimators': 200, 'max_depth': 7, 'learning_rate': 0.3, 'subsample': 0.5, 'colsample_bytree': 1, 'gamma': 0.1, 'reg_alpha': 0.1, 'reg_lambda': 0.3} => RMSE: 2969388.9316, Relative RMSE: 0.0784\n",
      "Params: {'n_estimators': 200, 'max_depth': 7, 'learning_rate': 0.3, 'subsample': 0.5, 'colsample_bytree': 1, 'gamma': 0.1, 'reg_alpha': 0.3, 'reg_lambda': 0} => RMSE: 2447553.3314, Relative RMSE: 0.0647\n",
      "Params: {'n_estimators': 200, 'max_depth': 7, 'learning_rate': 0.3, 'subsample': 0.5, 'colsample_bytree': 1, 'gamma': 0.1, 'reg_alpha': 0.3, 'reg_lambda': 0.1} => RMSE: 2636520.5421, Relative RMSE: 0.0696\n",
      "Params: {'n_estimators': 200, 'max_depth': 7, 'learning_rate': 0.3, 'subsample': 0.5, 'colsample_bytree': 1, 'gamma': 0.1, 'reg_alpha': 0.3, 'reg_lambda': 0.3} => RMSE: 2969326.4343, Relative RMSE: 0.0784\n",
      "Params: {'n_estimators': 200, 'max_depth': 7, 'learning_rate': 0.3, 'subsample': 0.5, 'colsample_bytree': 1, 'gamma': 0.3, 'reg_alpha': 0, 'reg_lambda': 0} => RMSE: 2448272.4942, Relative RMSE: 0.0647\n",
      "Params: {'n_estimators': 200, 'max_depth': 7, 'learning_rate': 0.3, 'subsample': 0.5, 'colsample_bytree': 1, 'gamma': 0.3, 'reg_alpha': 0, 'reg_lambda': 0.1} => RMSE: 2635825.2652, Relative RMSE: 0.0696\n",
      "Params: {'n_estimators': 200, 'max_depth': 7, 'learning_rate': 0.3, 'subsample': 0.5, 'colsample_bytree': 1, 'gamma': 0.3, 'reg_alpha': 0, 'reg_lambda': 0.3} => RMSE: 2969399.4093, Relative RMSE: 0.0784\n",
      "Params: {'n_estimators': 200, 'max_depth': 7, 'learning_rate': 0.3, 'subsample': 0.5, 'colsample_bytree': 1, 'gamma': 0.3, 'reg_alpha': 0.1, 'reg_lambda': 0} => RMSE: 2447568.2917, Relative RMSE: 0.0647\n",
      "Params: {'n_estimators': 200, 'max_depth': 7, 'learning_rate': 0.3, 'subsample': 0.5, 'colsample_bytree': 1, 'gamma': 0.3, 'reg_alpha': 0.1, 'reg_lambda': 0.1} => RMSE: 2635812.1648, Relative RMSE: 0.0696\n",
      "Params: {'n_estimators': 200, 'max_depth': 7, 'learning_rate': 0.3, 'subsample': 0.5, 'colsample_bytree': 1, 'gamma': 0.3, 'reg_alpha': 0.1, 'reg_lambda': 0.3} => RMSE: 2969389.9845, Relative RMSE: 0.0784\n",
      "Params: {'n_estimators': 200, 'max_depth': 7, 'learning_rate': 0.3, 'subsample': 0.5, 'colsample_bytree': 1, 'gamma': 0.3, 'reg_alpha': 0.3, 'reg_lambda': 0} => RMSE: 2447553.3314, Relative RMSE: 0.0647\n",
      "Params: {'n_estimators': 200, 'max_depth': 7, 'learning_rate': 0.3, 'subsample': 0.5, 'colsample_bytree': 1, 'gamma': 0.3, 'reg_alpha': 0.3, 'reg_lambda': 0.1} => RMSE: 2636520.5421, Relative RMSE: 0.0696\n",
      "Params: {'n_estimators': 200, 'max_depth': 7, 'learning_rate': 0.3, 'subsample': 0.5, 'colsample_bytree': 1, 'gamma': 0.3, 'reg_alpha': 0.3, 'reg_lambda': 0.3} => RMSE: 2969326.4343, Relative RMSE: 0.0784\n",
      "Params: {'n_estimators': 200, 'max_depth': 7, 'learning_rate': 0.3, 'subsample': 0.7, 'colsample_bytree': 0.5, 'gamma': 0, 'reg_alpha': 0, 'reg_lambda': 0} => RMSE: 3425386.3677, Relative RMSE: 0.0905\n",
      "Params: {'n_estimators': 200, 'max_depth': 7, 'learning_rate': 0.3, 'subsample': 0.7, 'colsample_bytree': 0.5, 'gamma': 0, 'reg_alpha': 0, 'reg_lambda': 0.1} => RMSE: 3273638.4482, Relative RMSE: 0.0865\n",
      "Params: {'n_estimators': 200, 'max_depth': 7, 'learning_rate': 0.3, 'subsample': 0.7, 'colsample_bytree': 0.5, 'gamma': 0, 'reg_alpha': 0, 'reg_lambda': 0.3} => RMSE: 3360596.4592, Relative RMSE: 0.0888\n",
      "Params: {'n_estimators': 200, 'max_depth': 7, 'learning_rate': 0.3, 'subsample': 0.7, 'colsample_bytree': 0.5, 'gamma': 0, 'reg_alpha': 0.1, 'reg_lambda': 0} => RMSE: 3425376.1949, Relative RMSE: 0.0905\n",
      "Params: {'n_estimators': 200, 'max_depth': 7, 'learning_rate': 0.3, 'subsample': 0.7, 'colsample_bytree': 0.5, 'gamma': 0, 'reg_alpha': 0.1, 'reg_lambda': 0.1} => RMSE: 3273626.5436, Relative RMSE: 0.0865\n",
      "Params: {'n_estimators': 200, 'max_depth': 7, 'learning_rate': 0.3, 'subsample': 0.7, 'colsample_bytree': 0.5, 'gamma': 0, 'reg_alpha': 0.1, 'reg_lambda': 0.3} => RMSE: 3360593.0814, Relative RMSE: 0.0888\n",
      "Params: {'n_estimators': 200, 'max_depth': 7, 'learning_rate': 0.3, 'subsample': 0.7, 'colsample_bytree': 0.5, 'gamma': 0, 'reg_alpha': 0.3, 'reg_lambda': 0} => RMSE: 3425415.0020, Relative RMSE: 0.0905\n",
      "Params: {'n_estimators': 200, 'max_depth': 7, 'learning_rate': 0.3, 'subsample': 0.7, 'colsample_bytree': 0.5, 'gamma': 0, 'reg_alpha': 0.3, 'reg_lambda': 0.1} => RMSE: 3273629.1209, Relative RMSE: 0.0865\n",
      "Params: {'n_estimators': 200, 'max_depth': 7, 'learning_rate': 0.3, 'subsample': 0.7, 'colsample_bytree': 0.5, 'gamma': 0, 'reg_alpha': 0.3, 'reg_lambda': 0.3} => RMSE: 3360589.7151, Relative RMSE: 0.0888\n",
      "Params: {'n_estimators': 200, 'max_depth': 7, 'learning_rate': 0.3, 'subsample': 0.7, 'colsample_bytree': 0.5, 'gamma': 0.1, 'reg_alpha': 0, 'reg_lambda': 0} => RMSE: 3425386.3677, Relative RMSE: 0.0905\n",
      "Params: {'n_estimators': 200, 'max_depth': 7, 'learning_rate': 0.3, 'subsample': 0.7, 'colsample_bytree': 0.5, 'gamma': 0.1, 'reg_alpha': 0, 'reg_lambda': 0.1} => RMSE: 3273638.4482, Relative RMSE: 0.0865\n",
      "Params: {'n_estimators': 200, 'max_depth': 7, 'learning_rate': 0.3, 'subsample': 0.7, 'colsample_bytree': 0.5, 'gamma': 0.1, 'reg_alpha': 0, 'reg_lambda': 0.3} => RMSE: 3360596.4592, Relative RMSE: 0.0888\n",
      "Params: {'n_estimators': 200, 'max_depth': 7, 'learning_rate': 0.3, 'subsample': 0.7, 'colsample_bytree': 0.5, 'gamma': 0.1, 'reg_alpha': 0.1, 'reg_lambda': 0} => RMSE: 3425376.1949, Relative RMSE: 0.0905\n",
      "Params: {'n_estimators': 200, 'max_depth': 7, 'learning_rate': 0.3, 'subsample': 0.7, 'colsample_bytree': 0.5, 'gamma': 0.1, 'reg_alpha': 0.1, 'reg_lambda': 0.1} => RMSE: 3273626.5436, Relative RMSE: 0.0865\n",
      "Params: {'n_estimators': 200, 'max_depth': 7, 'learning_rate': 0.3, 'subsample': 0.7, 'colsample_bytree': 0.5, 'gamma': 0.1, 'reg_alpha': 0.1, 'reg_lambda': 0.3} => RMSE: 3360593.0814, Relative RMSE: 0.0888\n",
      "Params: {'n_estimators': 200, 'max_depth': 7, 'learning_rate': 0.3, 'subsample': 0.7, 'colsample_bytree': 0.5, 'gamma': 0.1, 'reg_alpha': 0.3, 'reg_lambda': 0} => RMSE: 3425415.0020, Relative RMSE: 0.0905\n",
      "Params: {'n_estimators': 200, 'max_depth': 7, 'learning_rate': 0.3, 'subsample': 0.7, 'colsample_bytree': 0.5, 'gamma': 0.1, 'reg_alpha': 0.3, 'reg_lambda': 0.1} => RMSE: 3273629.1209, Relative RMSE: 0.0865\n",
      "Params: {'n_estimators': 200, 'max_depth': 7, 'learning_rate': 0.3, 'subsample': 0.7, 'colsample_bytree': 0.5, 'gamma': 0.1, 'reg_alpha': 0.3, 'reg_lambda': 0.3} => RMSE: 3360590.5963, Relative RMSE: 0.0888\n",
      "Params: {'n_estimators': 200, 'max_depth': 7, 'learning_rate': 0.3, 'subsample': 0.7, 'colsample_bytree': 0.5, 'gamma': 0.3, 'reg_alpha': 0, 'reg_lambda': 0} => RMSE: 3425386.3677, Relative RMSE: 0.0905\n",
      "Params: {'n_estimators': 200, 'max_depth': 7, 'learning_rate': 0.3, 'subsample': 0.7, 'colsample_bytree': 0.5, 'gamma': 0.3, 'reg_alpha': 0, 'reg_lambda': 0.1} => RMSE: 3273638.4482, Relative RMSE: 0.0865\n",
      "Params: {'n_estimators': 200, 'max_depth': 7, 'learning_rate': 0.3, 'subsample': 0.7, 'colsample_bytree': 0.5, 'gamma': 0.3, 'reg_alpha': 0, 'reg_lambda': 0.3} => RMSE: 3360596.4592, Relative RMSE: 0.0888\n",
      "Params: {'n_estimators': 200, 'max_depth': 7, 'learning_rate': 0.3, 'subsample': 0.7, 'colsample_bytree': 0.5, 'gamma': 0.3, 'reg_alpha': 0.1, 'reg_lambda': 0} => RMSE: 3425376.1949, Relative RMSE: 0.0905\n",
      "Params: {'n_estimators': 200, 'max_depth': 7, 'learning_rate': 0.3, 'subsample': 0.7, 'colsample_bytree': 0.5, 'gamma': 0.3, 'reg_alpha': 0.1, 'reg_lambda': 0.1} => RMSE: 3273626.5436, Relative RMSE: 0.0865\n",
      "Params: {'n_estimators': 200, 'max_depth': 7, 'learning_rate': 0.3, 'subsample': 0.7, 'colsample_bytree': 0.5, 'gamma': 0.3, 'reg_alpha': 0.1, 'reg_lambda': 0.3} => RMSE: 3360593.3847, Relative RMSE: 0.0888\n",
      "Params: {'n_estimators': 200, 'max_depth': 7, 'learning_rate': 0.3, 'subsample': 0.7, 'colsample_bytree': 0.5, 'gamma': 0.3, 'reg_alpha': 0.3, 'reg_lambda': 0} => RMSE: 3425415.0020, Relative RMSE: 0.0905\n",
      "Params: {'n_estimators': 200, 'max_depth': 7, 'learning_rate': 0.3, 'subsample': 0.7, 'colsample_bytree': 0.5, 'gamma': 0.3, 'reg_alpha': 0.3, 'reg_lambda': 0.1} => RMSE: 3273629.1209, Relative RMSE: 0.0865\n",
      "Params: {'n_estimators': 200, 'max_depth': 7, 'learning_rate': 0.3, 'subsample': 0.7, 'colsample_bytree': 0.5, 'gamma': 0.3, 'reg_alpha': 0.3, 'reg_lambda': 0.3} => RMSE: 3360590.5963, Relative RMSE: 0.0888\n",
      "Params: {'n_estimators': 200, 'max_depth': 7, 'learning_rate': 0.3, 'subsample': 0.7, 'colsample_bytree': 0.7, 'gamma': 0, 'reg_alpha': 0, 'reg_lambda': 0} => RMSE: 3384790.6163, Relative RMSE: 0.0894\n",
      "Params: {'n_estimators': 200, 'max_depth': 7, 'learning_rate': 0.3, 'subsample': 0.7, 'colsample_bytree': 0.7, 'gamma': 0, 'reg_alpha': 0, 'reg_lambda': 0.1} => RMSE: 3260574.1277, Relative RMSE: 0.0861\n",
      "Params: {'n_estimators': 200, 'max_depth': 7, 'learning_rate': 0.3, 'subsample': 0.7, 'colsample_bytree': 0.7, 'gamma': 0, 'reg_alpha': 0, 'reg_lambda': 0.3} => RMSE: 3267042.6287, Relative RMSE: 0.0863\n",
      "Params: {'n_estimators': 200, 'max_depth': 7, 'learning_rate': 0.3, 'subsample': 0.7, 'colsample_bytree': 0.7, 'gamma': 0, 'reg_alpha': 0.1, 'reg_lambda': 0} => RMSE: 3384779.7374, Relative RMSE: 0.0894\n",
      "Params: {'n_estimators': 200, 'max_depth': 7, 'learning_rate': 0.3, 'subsample': 0.7, 'colsample_bytree': 0.7, 'gamma': 0, 'reg_alpha': 0.1, 'reg_lambda': 0.1} => RMSE: 3260582.0176, Relative RMSE: 0.0861\n",
      "Params: {'n_estimators': 200, 'max_depth': 7, 'learning_rate': 0.3, 'subsample': 0.7, 'colsample_bytree': 0.7, 'gamma': 0, 'reg_alpha': 0.1, 'reg_lambda': 0.3} => RMSE: 3267042.2051, Relative RMSE: 0.0863\n",
      "Params: {'n_estimators': 200, 'max_depth': 7, 'learning_rate': 0.3, 'subsample': 0.7, 'colsample_bytree': 0.7, 'gamma': 0, 'reg_alpha': 0.3, 'reg_lambda': 0} => RMSE: 3384789.9085, Relative RMSE: 0.0894\n",
      "Params: {'n_estimators': 200, 'max_depth': 7, 'learning_rate': 0.3, 'subsample': 0.7, 'colsample_bytree': 0.7, 'gamma': 0, 'reg_alpha': 0.3, 'reg_lambda': 0.1} => RMSE: 3260584.3224, Relative RMSE: 0.0861\n",
      "Params: {'n_estimators': 200, 'max_depth': 7, 'learning_rate': 0.3, 'subsample': 0.7, 'colsample_bytree': 0.7, 'gamma': 0, 'reg_alpha': 0.3, 'reg_lambda': 0.3} => RMSE: 3267046.2051, Relative RMSE: 0.0863\n",
      "Params: {'n_estimators': 200, 'max_depth': 7, 'learning_rate': 0.3, 'subsample': 0.7, 'colsample_bytree': 0.7, 'gamma': 0.1, 'reg_alpha': 0, 'reg_lambda': 0} => RMSE: 3384790.6163, Relative RMSE: 0.0894\n",
      "Params: {'n_estimators': 200, 'max_depth': 7, 'learning_rate': 0.3, 'subsample': 0.7, 'colsample_bytree': 0.7, 'gamma': 0.1, 'reg_alpha': 0, 'reg_lambda': 0.1} => RMSE: 3260574.1277, Relative RMSE: 0.0861\n",
      "Params: {'n_estimators': 200, 'max_depth': 7, 'learning_rate': 0.3, 'subsample': 0.7, 'colsample_bytree': 0.7, 'gamma': 0.1, 'reg_alpha': 0, 'reg_lambda': 0.3} => RMSE: 3267042.6287, Relative RMSE: 0.0863\n",
      "Params: {'n_estimators': 200, 'max_depth': 7, 'learning_rate': 0.3, 'subsample': 0.7, 'colsample_bytree': 0.7, 'gamma': 0.1, 'reg_alpha': 0.1, 'reg_lambda': 0} => RMSE: 3384779.7374, Relative RMSE: 0.0894\n",
      "Params: {'n_estimators': 200, 'max_depth': 7, 'learning_rate': 0.3, 'subsample': 0.7, 'colsample_bytree': 0.7, 'gamma': 0.1, 'reg_alpha': 0.1, 'reg_lambda': 0.1} => RMSE: 3260582.0176, Relative RMSE: 0.0861\n",
      "Params: {'n_estimators': 200, 'max_depth': 7, 'learning_rate': 0.3, 'subsample': 0.7, 'colsample_bytree': 0.7, 'gamma': 0.1, 'reg_alpha': 0.1, 'reg_lambda': 0.3} => RMSE: 3267042.2051, Relative RMSE: 0.0863\n",
      "Params: {'n_estimators': 200, 'max_depth': 7, 'learning_rate': 0.3, 'subsample': 0.7, 'colsample_bytree': 0.7, 'gamma': 0.1, 'reg_alpha': 0.3, 'reg_lambda': 0} => RMSE: 3384789.9085, Relative RMSE: 0.0894\n",
      "Params: {'n_estimators': 200, 'max_depth': 7, 'learning_rate': 0.3, 'subsample': 0.7, 'colsample_bytree': 0.7, 'gamma': 0.1, 'reg_alpha': 0.3, 'reg_lambda': 0.1} => RMSE: 3260584.2334, Relative RMSE: 0.0861\n",
      "Params: {'n_estimators': 200, 'max_depth': 7, 'learning_rate': 0.3, 'subsample': 0.7, 'colsample_bytree': 0.7, 'gamma': 0.1, 'reg_alpha': 0.3, 'reg_lambda': 0.3} => RMSE: 3267046.0965, Relative RMSE: 0.0863\n",
      "Params: {'n_estimators': 200, 'max_depth': 7, 'learning_rate': 0.3, 'subsample': 0.7, 'colsample_bytree': 0.7, 'gamma': 0.3, 'reg_alpha': 0, 'reg_lambda': 0} => RMSE: 3384790.6163, Relative RMSE: 0.0894\n",
      "Params: {'n_estimators': 200, 'max_depth': 7, 'learning_rate': 0.3, 'subsample': 0.7, 'colsample_bytree': 0.7, 'gamma': 0.3, 'reg_alpha': 0, 'reg_lambda': 0.1} => RMSE: 3260574.1277, Relative RMSE: 0.0861\n",
      "Params: {'n_estimators': 200, 'max_depth': 7, 'learning_rate': 0.3, 'subsample': 0.7, 'colsample_bytree': 0.7, 'gamma': 0.3, 'reg_alpha': 0, 'reg_lambda': 0.3} => RMSE: 3267042.6287, Relative RMSE: 0.0863\n",
      "Params: {'n_estimators': 200, 'max_depth': 7, 'learning_rate': 0.3, 'subsample': 0.7, 'colsample_bytree': 0.7, 'gamma': 0.3, 'reg_alpha': 0.1, 'reg_lambda': 0} => RMSE: 3384779.7374, Relative RMSE: 0.0894\n",
      "Params: {'n_estimators': 200, 'max_depth': 7, 'learning_rate': 0.3, 'subsample': 0.7, 'colsample_bytree': 0.7, 'gamma': 0.3, 'reg_alpha': 0.1, 'reg_lambda': 0.1} => RMSE: 3260582.0176, Relative RMSE: 0.0861\n",
      "Params: {'n_estimators': 200, 'max_depth': 7, 'learning_rate': 0.3, 'subsample': 0.7, 'colsample_bytree': 0.7, 'gamma': 0.3, 'reg_alpha': 0.1, 'reg_lambda': 0.3} => RMSE: 3267042.6093, Relative RMSE: 0.0863\n",
      "Params: {'n_estimators': 200, 'max_depth': 7, 'learning_rate': 0.3, 'subsample': 0.7, 'colsample_bytree': 0.7, 'gamma': 0.3, 'reg_alpha': 0.3, 'reg_lambda': 0} => RMSE: 3384789.9085, Relative RMSE: 0.0894\n",
      "Params: {'n_estimators': 200, 'max_depth': 7, 'learning_rate': 0.3, 'subsample': 0.7, 'colsample_bytree': 0.7, 'gamma': 0.3, 'reg_alpha': 0.3, 'reg_lambda': 0.1} => RMSE: 3260584.2334, Relative RMSE: 0.0861\n",
      "Params: {'n_estimators': 200, 'max_depth': 7, 'learning_rate': 0.3, 'subsample': 0.7, 'colsample_bytree': 0.7, 'gamma': 0.3, 'reg_alpha': 0.3, 'reg_lambda': 0.3} => RMSE: 3267046.0965, Relative RMSE: 0.0863\n",
      "Params: {'n_estimators': 200, 'max_depth': 7, 'learning_rate': 0.3, 'subsample': 0.7, 'colsample_bytree': 1, 'gamma': 0, 'reg_alpha': 0, 'reg_lambda': 0} => RMSE: 3203802.4117, Relative RMSE: 0.0846\n",
      "Params: {'n_estimators': 200, 'max_depth': 7, 'learning_rate': 0.3, 'subsample': 0.7, 'colsample_bytree': 1, 'gamma': 0, 'reg_alpha': 0, 'reg_lambda': 0.1} => RMSE: 3034234.7125, Relative RMSE: 0.0801\n",
      "Params: {'n_estimators': 200, 'max_depth': 7, 'learning_rate': 0.3, 'subsample': 0.7, 'colsample_bytree': 1, 'gamma': 0, 'reg_alpha': 0, 'reg_lambda': 0.3} => RMSE: 3148154.4112, Relative RMSE: 0.0832\n",
      "Params: {'n_estimators': 200, 'max_depth': 7, 'learning_rate': 0.3, 'subsample': 0.7, 'colsample_bytree': 1, 'gamma': 0, 'reg_alpha': 0.1, 'reg_lambda': 0} => RMSE: 3203737.2624, Relative RMSE: 0.0846\n",
      "Params: {'n_estimators': 200, 'max_depth': 7, 'learning_rate': 0.3, 'subsample': 0.7, 'colsample_bytree': 1, 'gamma': 0, 'reg_alpha': 0.1, 'reg_lambda': 0.1} => RMSE: 3034237.2419, Relative RMSE: 0.0801\n",
      "Params: {'n_estimators': 200, 'max_depth': 7, 'learning_rate': 0.3, 'subsample': 0.7, 'colsample_bytree': 1, 'gamma': 0, 'reg_alpha': 0.1, 'reg_lambda': 0.3} => RMSE: 3148188.9579, Relative RMSE: 0.0832\n",
      "Params: {'n_estimators': 200, 'max_depth': 7, 'learning_rate': 0.3, 'subsample': 0.7, 'colsample_bytree': 1, 'gamma': 0, 'reg_alpha': 0.3, 'reg_lambda': 0} => RMSE: 3203807.2294, Relative RMSE: 0.0846\n",
      "Params: {'n_estimators': 200, 'max_depth': 7, 'learning_rate': 0.3, 'subsample': 0.7, 'colsample_bytree': 1, 'gamma': 0, 'reg_alpha': 0.3, 'reg_lambda': 0.1} => RMSE: 3034232.7325, Relative RMSE: 0.0801\n",
      "Params: {'n_estimators': 200, 'max_depth': 7, 'learning_rate': 0.3, 'subsample': 0.7, 'colsample_bytree': 1, 'gamma': 0, 'reg_alpha': 0.3, 'reg_lambda': 0.3} => RMSE: 3148188.5127, Relative RMSE: 0.0832\n",
      "Params: {'n_estimators': 200, 'max_depth': 7, 'learning_rate': 0.3, 'subsample': 0.7, 'colsample_bytree': 1, 'gamma': 0.1, 'reg_alpha': 0, 'reg_lambda': 0} => RMSE: 3203802.4117, Relative RMSE: 0.0846\n",
      "Params: {'n_estimators': 200, 'max_depth': 7, 'learning_rate': 0.3, 'subsample': 0.7, 'colsample_bytree': 1, 'gamma': 0.1, 'reg_alpha': 0, 'reg_lambda': 0.1} => RMSE: 3034234.7125, Relative RMSE: 0.0801\n",
      "Params: {'n_estimators': 200, 'max_depth': 7, 'learning_rate': 0.3, 'subsample': 0.7, 'colsample_bytree': 1, 'gamma': 0.1, 'reg_alpha': 0, 'reg_lambda': 0.3} => RMSE: 3148154.4112, Relative RMSE: 0.0832\n",
      "Params: {'n_estimators': 200, 'max_depth': 7, 'learning_rate': 0.3, 'subsample': 0.7, 'colsample_bytree': 1, 'gamma': 0.1, 'reg_alpha': 0.1, 'reg_lambda': 0} => RMSE: 3203737.2624, Relative RMSE: 0.0846\n",
      "Params: {'n_estimators': 200, 'max_depth': 7, 'learning_rate': 0.3, 'subsample': 0.7, 'colsample_bytree': 1, 'gamma': 0.1, 'reg_alpha': 0.1, 'reg_lambda': 0.1} => RMSE: 3034237.2419, Relative RMSE: 0.0801\n",
      "Params: {'n_estimators': 200, 'max_depth': 7, 'learning_rate': 0.3, 'subsample': 0.7, 'colsample_bytree': 1, 'gamma': 0.1, 'reg_alpha': 0.1, 'reg_lambda': 0.3} => RMSE: 3148188.9579, Relative RMSE: 0.0832\n",
      "Params: {'n_estimators': 200, 'max_depth': 7, 'learning_rate': 0.3, 'subsample': 0.7, 'colsample_bytree': 1, 'gamma': 0.1, 'reg_alpha': 0.3, 'reg_lambda': 0} => RMSE: 3203807.2294, Relative RMSE: 0.0846\n",
      "Params: {'n_estimators': 200, 'max_depth': 7, 'learning_rate': 0.3, 'subsample': 0.7, 'colsample_bytree': 1, 'gamma': 0.1, 'reg_alpha': 0.3, 'reg_lambda': 0.1} => RMSE: 3034232.7325, Relative RMSE: 0.0801\n",
      "Params: {'n_estimators': 200, 'max_depth': 7, 'learning_rate': 0.3, 'subsample': 0.7, 'colsample_bytree': 1, 'gamma': 0.1, 'reg_alpha': 0.3, 'reg_lambda': 0.3} => RMSE: 3148188.0740, Relative RMSE: 0.0832\n",
      "Params: {'n_estimators': 200, 'max_depth': 7, 'learning_rate': 0.3, 'subsample': 0.7, 'colsample_bytree': 1, 'gamma': 0.3, 'reg_alpha': 0, 'reg_lambda': 0} => RMSE: 3203802.4117, Relative RMSE: 0.0846\n",
      "Params: {'n_estimators': 200, 'max_depth': 7, 'learning_rate': 0.3, 'subsample': 0.7, 'colsample_bytree': 1, 'gamma': 0.3, 'reg_alpha': 0, 'reg_lambda': 0.1} => RMSE: 3034234.7125, Relative RMSE: 0.0801\n",
      "Params: {'n_estimators': 200, 'max_depth': 7, 'learning_rate': 0.3, 'subsample': 0.7, 'colsample_bytree': 1, 'gamma': 0.3, 'reg_alpha': 0, 'reg_lambda': 0.3} => RMSE: 3148154.4112, Relative RMSE: 0.0832\n",
      "Params: {'n_estimators': 200, 'max_depth': 7, 'learning_rate': 0.3, 'subsample': 0.7, 'colsample_bytree': 1, 'gamma': 0.3, 'reg_alpha': 0.1, 'reg_lambda': 0} => RMSE: 3203737.2624, Relative RMSE: 0.0846\n",
      "Params: {'n_estimators': 200, 'max_depth': 7, 'learning_rate': 0.3, 'subsample': 0.7, 'colsample_bytree': 1, 'gamma': 0.3, 'reg_alpha': 0.1, 'reg_lambda': 0.1} => RMSE: 3034237.2419, Relative RMSE: 0.0801\n",
      "Params: {'n_estimators': 200, 'max_depth': 7, 'learning_rate': 0.3, 'subsample': 0.7, 'colsample_bytree': 1, 'gamma': 0.3, 'reg_alpha': 0.1, 'reg_lambda': 0.3} => RMSE: 3148190.6730, Relative RMSE: 0.0832\n",
      "Params: {'n_estimators': 200, 'max_depth': 7, 'learning_rate': 0.3, 'subsample': 0.7, 'colsample_bytree': 1, 'gamma': 0.3, 'reg_alpha': 0.3, 'reg_lambda': 0} => RMSE: 3203807.2294, Relative RMSE: 0.0846\n",
      "Params: {'n_estimators': 200, 'max_depth': 7, 'learning_rate': 0.3, 'subsample': 0.7, 'colsample_bytree': 1, 'gamma': 0.3, 'reg_alpha': 0.3, 'reg_lambda': 0.1} => RMSE: 3034232.7325, Relative RMSE: 0.0801\n",
      "Params: {'n_estimators': 200, 'max_depth': 7, 'learning_rate': 0.3, 'subsample': 0.7, 'colsample_bytree': 1, 'gamma': 0.3, 'reg_alpha': 0.3, 'reg_lambda': 0.3} => RMSE: 3148188.0740, Relative RMSE: 0.0832\n",
      "Best Params: {'n_estimators': 200, 'max_depth': 5, 'learning_rate': 0.1, 'subsample': 0.5, 'colsample_bytree': 1, 'gamma': 0, 'reg_alpha': 0.3, 'reg_lambda': 0}\n",
      "Validation RMSE: 2381589.984644291\n"
     ]
    }
   ],
   "source": [
    "X_train, X_val, y_train, y_val = train_val_split(sales_agg1, df_market_1, train_size = 0.8)\n",
    "\n",
    "X_val.info() \n",
    "\n",
    "xgboost_best_model_1, xgboost_best_params_1, xgboost_best_rmse_1 = model_evaluation_XGboost(X_train,\n",
    "                                                                                             y_train, \n",
    "                                                                                             X_val, y_val, \n",
    "                                                                                             xgboost_param_grid)\n",
    "\n",
    "print(\"Best Params:\", xgboost_best_params_1)\n",
    "print(\"Validation RMSE:\", xgboost_best_rmse_1)\n"
   ]
  },
  {
   "cell_type": "markdown",
   "metadata": {},
   "source": [
    "## Prophet"
   ]
  },
  {
   "cell_type": "code",
   "execution_count": 14,
   "metadata": {},
   "outputs": [
    {
     "name": "stderr",
     "output_type": "stream",
     "text": [
      "19:42:08 - cmdstanpy - INFO - Chain [1] start processing\n",
      "19:42:08 - cmdstanpy - INFO - Chain [1] done processing\n",
      "19:42:08 - cmdstanpy - INFO - Chain [1] start processing\n",
      "19:42:08 - cmdstanpy - INFO - Chain [1] done processing\n",
      "19:42:08 - cmdstanpy - INFO - Chain [1] start processing\n"
     ]
    },
    {
     "name": "stdout",
     "output_type": "stream",
     "text": [
      "Params: {'seasonality_mode': 'additive', 'yearly_seasonality': True, 'weekly_seasonality': True, 'daily_seasonality': True, 'seasonality_prior_scale': 0.1, 'changepoint_prior_scale': 0.01} => RMSE: 5503348.8019, Relative RMSE: 0.1454\n",
      "Params: {'seasonality_mode': 'additive', 'yearly_seasonality': True, 'weekly_seasonality': True, 'daily_seasonality': True, 'seasonality_prior_scale': 0.1, 'changepoint_prior_scale': 0.1} => RMSE: 10118173.9628, Relative RMSE: 0.2673\n"
     ]
    },
    {
     "name": "stderr",
     "output_type": "stream",
     "text": [
      "19:42:08 - cmdstanpy - INFO - Chain [1] done processing\n",
      "19:42:08 - cmdstanpy - INFO - Chain [1] start processing\n",
      "19:42:08 - cmdstanpy - INFO - Chain [1] done processing\n",
      "19:42:08 - cmdstanpy - INFO - Chain [1] start processing\n"
     ]
    },
    {
     "name": "stdout",
     "output_type": "stream",
     "text": [
      "Params: {'seasonality_mode': 'additive', 'yearly_seasonality': True, 'weekly_seasonality': True, 'daily_seasonality': True, 'seasonality_prior_scale': 0.1, 'changepoint_prior_scale': 0.5} => RMSE: 14585959.4522, Relative RMSE: 0.3853\n",
      "Params: {'seasonality_mode': 'additive', 'yearly_seasonality': True, 'weekly_seasonality': True, 'daily_seasonality': True, 'seasonality_prior_scale': 1.0, 'changepoint_prior_scale': 0.01} => RMSE: 17834572.8573, Relative RMSE: 0.4711\n"
     ]
    },
    {
     "name": "stderr",
     "output_type": "stream",
     "text": [
      "19:42:22 - cmdstanpy - INFO - Chain [1] done processing\n",
      "19:42:22 - cmdstanpy - INFO - Chain [1] start processing\n"
     ]
    },
    {
     "name": "stdout",
     "output_type": "stream",
     "text": [
      "Params: {'seasonality_mode': 'additive', 'yearly_seasonality': True, 'weekly_seasonality': True, 'daily_seasonality': True, 'seasonality_prior_scale': 1.0, 'changepoint_prior_scale': 0.1} => RMSE: 42617755.7143, Relative RMSE: 1.1257\n"
     ]
    },
    {
     "name": "stderr",
     "output_type": "stream",
     "text": [
      "19:42:36 - cmdstanpy - INFO - Chain [1] done processing\n",
      "19:42:36 - cmdstanpy - INFO - Chain [1] start processing\n",
      "19:42:36 - cmdstanpy - INFO - Chain [1] done processing\n",
      "19:42:36 - cmdstanpy - INFO - Chain [1] start processing\n"
     ]
    },
    {
     "name": "stdout",
     "output_type": "stream",
     "text": [
      "Params: {'seasonality_mode': 'additive', 'yearly_seasonality': True, 'weekly_seasonality': True, 'daily_seasonality': True, 'seasonality_prior_scale': 1.0, 'changepoint_prior_scale': 0.5} => RMSE: 39983941.2010, Relative RMSE: 1.0562\n",
      "Params: {'seasonality_mode': 'additive', 'yearly_seasonality': True, 'weekly_seasonality': True, 'daily_seasonality': True, 'seasonality_prior_scale': 10.0, 'changepoint_prior_scale': 0.01} => RMSE: 16756310.2723, Relative RMSE: 0.4426\n"
     ]
    },
    {
     "name": "stderr",
     "output_type": "stream",
     "text": [
      "19:42:48 - cmdstanpy - INFO - Chain [1] done processing\n",
      "19:42:48 - cmdstanpy - INFO - Chain [1] start processing\n"
     ]
    },
    {
     "name": "stdout",
     "output_type": "stream",
     "text": [
      "Params: {'seasonality_mode': 'additive', 'yearly_seasonality': True, 'weekly_seasonality': True, 'daily_seasonality': True, 'seasonality_prior_scale': 10.0, 'changepoint_prior_scale': 0.1} => RMSE: 48628394.2484, Relative RMSE: 1.2845\n"
     ]
    },
    {
     "name": "stderr",
     "output_type": "stream",
     "text": [
      "19:43:01 - cmdstanpy - INFO - Chain [1] done processing\n",
      "19:43:01 - cmdstanpy - INFO - Chain [1] start processing\n",
      "19:43:01 - cmdstanpy - INFO - Chain [1] done processing\n",
      "19:43:01 - cmdstanpy - INFO - Chain [1] start processing\n"
     ]
    },
    {
     "name": "stdout",
     "output_type": "stream",
     "text": [
      "Params: {'seasonality_mode': 'additive', 'yearly_seasonality': True, 'weekly_seasonality': True, 'daily_seasonality': True, 'seasonality_prior_scale': 10.0, 'changepoint_prior_scale': 0.5} => RMSE: 55715776.5224, Relative RMSE: 1.4717\n",
      "Params: {'seasonality_mode': 'additive', 'yearly_seasonality': True, 'weekly_seasonality': True, 'daily_seasonality': False, 'seasonality_prior_scale': 0.1, 'changepoint_prior_scale': 0.01} => RMSE: 5587228.6736, Relative RMSE: 0.1476\n"
     ]
    },
    {
     "name": "stderr",
     "output_type": "stream",
     "text": [
      "19:43:02 - cmdstanpy - INFO - Chain [1] done processing\n",
      "19:43:02 - cmdstanpy - INFO - Chain [1] start processing\n",
      "19:43:02 - cmdstanpy - INFO - Chain [1] done processing\n"
     ]
    },
    {
     "name": "stdout",
     "output_type": "stream",
     "text": [
      "Params: {'seasonality_mode': 'additive', 'yearly_seasonality': True, 'weekly_seasonality': True, 'daily_seasonality': False, 'seasonality_prior_scale': 0.1, 'changepoint_prior_scale': 0.1} => RMSE: 10109295.7400, Relative RMSE: 0.2670\n"
     ]
    },
    {
     "name": "stderr",
     "output_type": "stream",
     "text": [
      "19:43:02 - cmdstanpy - INFO - Chain [1] start processing\n",
      "19:43:02 - cmdstanpy - INFO - Chain [1] done processing\n",
      "19:43:02 - cmdstanpy - INFO - Chain [1] start processing\n"
     ]
    },
    {
     "name": "stdout",
     "output_type": "stream",
     "text": [
      "Params: {'seasonality_mode': 'additive', 'yearly_seasonality': True, 'weekly_seasonality': True, 'daily_seasonality': False, 'seasonality_prior_scale': 0.1, 'changepoint_prior_scale': 0.5} => RMSE: 14582884.2409, Relative RMSE: 0.3852\n",
      "Params: {'seasonality_mode': 'additive', 'yearly_seasonality': True, 'weekly_seasonality': True, 'daily_seasonality': False, 'seasonality_prior_scale': 1.0, 'changepoint_prior_scale': 0.01} => RMSE: 17801528.0934, Relative RMSE: 0.4702\n"
     ]
    },
    {
     "name": "stderr",
     "output_type": "stream",
     "text": [
      "19:43:13 - cmdstanpy - INFO - Chain [1] done processing\n",
      "19:43:13 - cmdstanpy - INFO - Chain [1] start processing\n"
     ]
    },
    {
     "name": "stdout",
     "output_type": "stream",
     "text": [
      "Params: {'seasonality_mode': 'additive', 'yearly_seasonality': True, 'weekly_seasonality': True, 'daily_seasonality': False, 'seasonality_prior_scale': 1.0, 'changepoint_prior_scale': 0.1} => RMSE: 48968079.8583, Relative RMSE: 1.2935\n"
     ]
    },
    {
     "name": "stderr",
     "output_type": "stream",
     "text": [
      "19:43:25 - cmdstanpy - INFO - Chain [1] done processing\n",
      "19:43:25 - cmdstanpy - INFO - Chain [1] start processing\n",
      "19:43:25 - cmdstanpy - INFO - Chain [1] done processing\n",
      "19:43:25 - cmdstanpy - INFO - Chain [1] start processing\n"
     ]
    },
    {
     "name": "stdout",
     "output_type": "stream",
     "text": [
      "Params: {'seasonality_mode': 'additive', 'yearly_seasonality': True, 'weekly_seasonality': True, 'daily_seasonality': False, 'seasonality_prior_scale': 1.0, 'changepoint_prior_scale': 0.5} => RMSE: 37037651.0248, Relative RMSE: 0.9783\n",
      "Params: {'seasonality_mode': 'additive', 'yearly_seasonality': True, 'weekly_seasonality': True, 'daily_seasonality': False, 'seasonality_prior_scale': 10.0, 'changepoint_prior_scale': 0.01} => RMSE: 16558112.6375, Relative RMSE: 0.4374\n"
     ]
    },
    {
     "name": "stderr",
     "output_type": "stream",
     "text": [
      "19:43:36 - cmdstanpy - INFO - Chain [1] done processing\n",
      "19:43:36 - cmdstanpy - INFO - Chain [1] start processing\n"
     ]
    },
    {
     "name": "stdout",
     "output_type": "stream",
     "text": [
      "Params: {'seasonality_mode': 'additive', 'yearly_seasonality': True, 'weekly_seasonality': True, 'daily_seasonality': False, 'seasonality_prior_scale': 10.0, 'changepoint_prior_scale': 0.1} => RMSE: 45811121.9210, Relative RMSE: 1.2101\n"
     ]
    },
    {
     "name": "stderr",
     "output_type": "stream",
     "text": [
      "19:43:48 - cmdstanpy - INFO - Chain [1] done processing\n",
      "19:43:48 - cmdstanpy - INFO - Chain [1] start processing\n",
      "19:43:48 - cmdstanpy - INFO - Chain [1] done processing\n",
      "19:43:48 - cmdstanpy - INFO - Chain [1] start processing\n"
     ]
    },
    {
     "name": "stdout",
     "output_type": "stream",
     "text": [
      "Params: {'seasonality_mode': 'additive', 'yearly_seasonality': True, 'weekly_seasonality': True, 'daily_seasonality': False, 'seasonality_prior_scale': 10.0, 'changepoint_prior_scale': 0.5} => RMSE: 68712759.7089, Relative RMSE: 1.8150\n",
      "Params: {'seasonality_mode': 'additive', 'yearly_seasonality': True, 'weekly_seasonality': False, 'daily_seasonality': True, 'seasonality_prior_scale': 0.1, 'changepoint_prior_scale': 0.01} => RMSE: 3787710.5697, Relative RMSE: 0.1001\n"
     ]
    },
    {
     "name": "stderr",
     "output_type": "stream",
     "text": [
      "19:43:48 - cmdstanpy - INFO - Chain [1] done processing\n",
      "19:43:48 - cmdstanpy - INFO - Chain [1] start processing\n"
     ]
    },
    {
     "name": "stdout",
     "output_type": "stream",
     "text": [
      "Params: {'seasonality_mode': 'additive', 'yearly_seasonality': True, 'weekly_seasonality': False, 'daily_seasonality': True, 'seasonality_prior_scale': 0.1, 'changepoint_prior_scale': 0.1} => RMSE: 3787384.5013, Relative RMSE: 0.1000\n"
     ]
    },
    {
     "name": "stderr",
     "output_type": "stream",
     "text": [
      "19:43:48 - cmdstanpy - INFO - Chain [1] done processing\n",
      "19:43:48 - cmdstanpy - INFO - Chain [1] start processing\n",
      "19:43:48 - cmdstanpy - INFO - Chain [1] done processing\n",
      "19:43:48 - cmdstanpy - INFO - Chain [1] start processing\n"
     ]
    },
    {
     "name": "stdout",
     "output_type": "stream",
     "text": [
      "Params: {'seasonality_mode': 'additive', 'yearly_seasonality': True, 'weekly_seasonality': False, 'daily_seasonality': True, 'seasonality_prior_scale': 0.1, 'changepoint_prior_scale': 0.5} => RMSE: 3682155.5436, Relative RMSE: 0.0973\n",
      "Params: {'seasonality_mode': 'additive', 'yearly_seasonality': True, 'weekly_seasonality': False, 'daily_seasonality': True, 'seasonality_prior_scale': 1.0, 'changepoint_prior_scale': 0.01} => RMSE: 8057011.6086, Relative RMSE: 0.2128\n"
     ]
    },
    {
     "name": "stderr",
     "output_type": "stream",
     "text": [
      "19:43:49 - cmdstanpy - INFO - Chain [1] done processing\n",
      "19:43:49 - cmdstanpy - INFO - Chain [1] start processing\n"
     ]
    },
    {
     "name": "stdout",
     "output_type": "stream",
     "text": [
      "Params: {'seasonality_mode': 'additive', 'yearly_seasonality': True, 'weekly_seasonality': False, 'daily_seasonality': True, 'seasonality_prior_scale': 1.0, 'changepoint_prior_scale': 0.1} => RMSE: 7692347.1117, Relative RMSE: 0.2032\n"
     ]
    },
    {
     "name": "stderr",
     "output_type": "stream",
     "text": [
      "19:43:49 - cmdstanpy - INFO - Chain [1] done processing\n",
      "19:43:49 - cmdstanpy - INFO - Chain [1] start processing\n",
      "19:43:49 - cmdstanpy - INFO - Chain [1] done processing\n",
      "19:43:49 - cmdstanpy - INFO - Chain [1] start processing\n"
     ]
    },
    {
     "name": "stdout",
     "output_type": "stream",
     "text": [
      "Params: {'seasonality_mode': 'additive', 'yearly_seasonality': True, 'weekly_seasonality': False, 'daily_seasonality': True, 'seasonality_prior_scale': 1.0, 'changepoint_prior_scale': 0.5} => RMSE: 9532713.2895, Relative RMSE: 0.2518\n",
      "Params: {'seasonality_mode': 'additive', 'yearly_seasonality': True, 'weekly_seasonality': False, 'daily_seasonality': True, 'seasonality_prior_scale': 10.0, 'changepoint_prior_scale': 0.01} => RMSE: 8283645.5582, Relative RMSE: 0.2188\n"
     ]
    },
    {
     "name": "stderr",
     "output_type": "stream",
     "text": [
      "19:43:49 - cmdstanpy - INFO - Chain [1] done processing\n",
      "19:43:49 - cmdstanpy - INFO - Chain [1] start processing\n"
     ]
    },
    {
     "name": "stdout",
     "output_type": "stream",
     "text": [
      "Params: {'seasonality_mode': 'additive', 'yearly_seasonality': True, 'weekly_seasonality': False, 'daily_seasonality': True, 'seasonality_prior_scale': 10.0, 'changepoint_prior_scale': 0.1} => RMSE: 7890956.8735, Relative RMSE: 0.2084\n"
     ]
    },
    {
     "name": "stderr",
     "output_type": "stream",
     "text": [
      "19:43:50 - cmdstanpy - INFO - Chain [1] done processing\n",
      "19:43:50 - cmdstanpy - INFO - Chain [1] start processing\n",
      "19:43:50 - cmdstanpy - INFO - Chain [1] done processing\n",
      "19:43:50 - cmdstanpy - INFO - Chain [1] start processing\n",
      "19:43:50 - cmdstanpy - INFO - Chain [1] done processing\n"
     ]
    },
    {
     "name": "stdout",
     "output_type": "stream",
     "text": [
      "Params: {'seasonality_mode': 'additive', 'yearly_seasonality': True, 'weekly_seasonality': False, 'daily_seasonality': True, 'seasonality_prior_scale': 10.0, 'changepoint_prior_scale': 0.5} => RMSE: 9728433.1384, Relative RMSE: 0.2570\n",
      "Params: {'seasonality_mode': 'additive', 'yearly_seasonality': True, 'weekly_seasonality': False, 'daily_seasonality': False, 'seasonality_prior_scale': 0.1, 'changepoint_prior_scale': 0.01} => RMSE: 3787641.9395, Relative RMSE: 0.1000\n"
     ]
    },
    {
     "name": "stderr",
     "output_type": "stream",
     "text": [
      "19:43:50 - cmdstanpy - INFO - Chain [1] start processing\n"
     ]
    },
    {
     "name": "stdout",
     "output_type": "stream",
     "text": [
      "Params: {'seasonality_mode': 'additive', 'yearly_seasonality': True, 'weekly_seasonality': False, 'daily_seasonality': False, 'seasonality_prior_scale': 0.1, 'changepoint_prior_scale': 0.1} => RMSE: 3789570.6226, Relative RMSE: 0.1001\n"
     ]
    },
    {
     "name": "stderr",
     "output_type": "stream",
     "text": [
      "19:43:50 - cmdstanpy - INFO - Chain [1] done processing\n",
      "19:43:50 - cmdstanpy - INFO - Chain [1] start processing\n",
      "19:43:50 - cmdstanpy - INFO - Chain [1] done processing\n",
      "19:43:50 - cmdstanpy - INFO - Chain [1] start processing\n"
     ]
    },
    {
     "name": "stdout",
     "output_type": "stream",
     "text": [
      "Params: {'seasonality_mode': 'additive', 'yearly_seasonality': True, 'weekly_seasonality': False, 'daily_seasonality': False, 'seasonality_prior_scale': 0.1, 'changepoint_prior_scale': 0.5} => RMSE: 3681982.2410, Relative RMSE: 0.0973\n",
      "Params: {'seasonality_mode': 'additive', 'yearly_seasonality': True, 'weekly_seasonality': False, 'daily_seasonality': False, 'seasonality_prior_scale': 1.0, 'changepoint_prior_scale': 0.01} => RMSE: 8032357.9068, Relative RMSE: 0.2122\n"
     ]
    },
    {
     "name": "stderr",
     "output_type": "stream",
     "text": [
      "19:43:50 - cmdstanpy - INFO - Chain [1] done processing\n",
      "19:43:50 - cmdstanpy - INFO - Chain [1] start processing\n"
     ]
    },
    {
     "name": "stdout",
     "output_type": "stream",
     "text": [
      "Params: {'seasonality_mode': 'additive', 'yearly_seasonality': True, 'weekly_seasonality': False, 'daily_seasonality': False, 'seasonality_prior_scale': 1.0, 'changepoint_prior_scale': 0.1} => RMSE: 8405306.7856, Relative RMSE: 0.2220\n"
     ]
    },
    {
     "name": "stderr",
     "output_type": "stream",
     "text": [
      "19:43:51 - cmdstanpy - INFO - Chain [1] done processing\n",
      "19:43:51 - cmdstanpy - INFO - Chain [1] start processing\n",
      "19:43:51 - cmdstanpy - INFO - Chain [1] done processing\n",
      "19:43:51 - cmdstanpy - INFO - Chain [1] start processing\n"
     ]
    },
    {
     "name": "stdout",
     "output_type": "stream",
     "text": [
      "Params: {'seasonality_mode': 'additive', 'yearly_seasonality': True, 'weekly_seasonality': False, 'daily_seasonality': False, 'seasonality_prior_scale': 1.0, 'changepoint_prior_scale': 0.5} => RMSE: 9543803.0328, Relative RMSE: 0.2521\n",
      "Params: {'seasonality_mode': 'additive', 'yearly_seasonality': True, 'weekly_seasonality': False, 'daily_seasonality': False, 'seasonality_prior_scale': 10.0, 'changepoint_prior_scale': 0.01} => RMSE: 8355816.4945, Relative RMSE: 0.2207\n"
     ]
    },
    {
     "name": "stderr",
     "output_type": "stream",
     "text": [
      "19:43:51 - cmdstanpy - INFO - Chain [1] done processing\n",
      "19:43:51 - cmdstanpy - INFO - Chain [1] start processing\n"
     ]
    },
    {
     "name": "stdout",
     "output_type": "stream",
     "text": [
      "Params: {'seasonality_mode': 'additive', 'yearly_seasonality': True, 'weekly_seasonality': False, 'daily_seasonality': False, 'seasonality_prior_scale': 10.0, 'changepoint_prior_scale': 0.1} => RMSE: 8566558.6171, Relative RMSE: 0.2263\n"
     ]
    },
    {
     "name": "stderr",
     "output_type": "stream",
     "text": [
      "19:43:51 - cmdstanpy - INFO - Chain [1] done processing\n",
      "19:43:51 - cmdstanpy - INFO - Chain [1] start processing\n",
      "19:43:51 - cmdstanpy - INFO - Chain [1] done processing\n",
      "19:43:51 - cmdstanpy - INFO - Chain [1] start processing\n",
      "19:43:51 - cmdstanpy - INFO - Chain [1] done processing\n",
      "19:43:51 - cmdstanpy - INFO - Chain [1] start processing\n"
     ]
    },
    {
     "name": "stdout",
     "output_type": "stream",
     "text": [
      "Params: {'seasonality_mode': 'additive', 'yearly_seasonality': True, 'weekly_seasonality': False, 'daily_seasonality': False, 'seasonality_prior_scale': 10.0, 'changepoint_prior_scale': 0.5} => RMSE: 9886883.0904, Relative RMSE: 0.2612\n",
      "Params: {'seasonality_mode': 'additive', 'yearly_seasonality': False, 'weekly_seasonality': True, 'daily_seasonality': True, 'seasonality_prior_scale': 0.1, 'changepoint_prior_scale': 0.01} => RMSE: 4114839.9213, Relative RMSE: 0.1087\n",
      "Params: {'seasonality_mode': 'additive', 'yearly_seasonality': False, 'weekly_seasonality': True, 'daily_seasonality': True, 'seasonality_prior_scale': 0.1, 'changepoint_prior_scale': 0.1} => RMSE: 4114734.4753, Relative RMSE: 0.1087\n"
     ]
    },
    {
     "name": "stderr",
     "output_type": "stream",
     "text": [
      "19:43:51 - cmdstanpy - INFO - Chain [1] done processing\n",
      "19:43:51 - cmdstanpy - INFO - Chain [1] start processing\n",
      "19:43:51 - cmdstanpy - INFO - Chain [1] done processing\n",
      "19:43:52 - cmdstanpy - INFO - Chain [1] start processing\n",
      "19:43:52 - cmdstanpy - INFO - Chain [1] done processing\n"
     ]
    },
    {
     "name": "stdout",
     "output_type": "stream",
     "text": [
      "Params: {'seasonality_mode': 'additive', 'yearly_seasonality': False, 'weekly_seasonality': True, 'daily_seasonality': True, 'seasonality_prior_scale': 0.1, 'changepoint_prior_scale': 0.5} => RMSE: 4335936.2044, Relative RMSE: 0.1145\n",
      "Params: {'seasonality_mode': 'additive', 'yearly_seasonality': False, 'weekly_seasonality': True, 'daily_seasonality': True, 'seasonality_prior_scale': 1.0, 'changepoint_prior_scale': 0.01} => RMSE: 4054388.3461, Relative RMSE: 0.1071\n"
     ]
    },
    {
     "name": "stderr",
     "output_type": "stream",
     "text": [
      "19:43:52 - cmdstanpy - INFO - Chain [1] start processing\n",
      "19:43:52 - cmdstanpy - INFO - Chain [1] done processing\n",
      "19:43:52 - cmdstanpy - INFO - Chain [1] start processing\n"
     ]
    },
    {
     "name": "stdout",
     "output_type": "stream",
     "text": [
      "Params: {'seasonality_mode': 'additive', 'yearly_seasonality': False, 'weekly_seasonality': True, 'daily_seasonality': True, 'seasonality_prior_scale': 1.0, 'changepoint_prior_scale': 0.1} => RMSE: 4157154.4672, Relative RMSE: 0.1098\n",
      "Params: {'seasonality_mode': 'additive', 'yearly_seasonality': False, 'weekly_seasonality': True, 'daily_seasonality': True, 'seasonality_prior_scale': 1.0, 'changepoint_prior_scale': 0.5} => RMSE: 4355096.4193, Relative RMSE: 0.1150\n"
     ]
    },
    {
     "name": "stderr",
     "output_type": "stream",
     "text": [
      "19:43:52 - cmdstanpy - INFO - Chain [1] done processing\n",
      "19:43:52 - cmdstanpy - INFO - Chain [1] start processing\n",
      "19:43:52 - cmdstanpy - INFO - Chain [1] done processing\n",
      "19:43:52 - cmdstanpy - INFO - Chain [1] start processing\n"
     ]
    },
    {
     "name": "stdout",
     "output_type": "stream",
     "text": [
      "Params: {'seasonality_mode': 'additive', 'yearly_seasonality': False, 'weekly_seasonality': True, 'daily_seasonality': True, 'seasonality_prior_scale': 10.0, 'changepoint_prior_scale': 0.01} => RMSE: 4097154.5129, Relative RMSE: 0.1082\n",
      "Params: {'seasonality_mode': 'additive', 'yearly_seasonality': False, 'weekly_seasonality': True, 'daily_seasonality': True, 'seasonality_prior_scale': 10.0, 'changepoint_prior_scale': 0.1} => RMSE: 4158550.8677, Relative RMSE: 0.1098\n"
     ]
    },
    {
     "name": "stderr",
     "output_type": "stream",
     "text": [
      "19:43:52 - cmdstanpy - INFO - Chain [1] done processing\n",
      "19:43:52 - cmdstanpy - INFO - Chain [1] start processing\n",
      "19:43:52 - cmdstanpy - INFO - Chain [1] done processing\n",
      "19:43:52 - cmdstanpy - INFO - Chain [1] start processing\n",
      "19:43:52 - cmdstanpy - INFO - Chain [1] done processing\n",
      "19:43:52 - cmdstanpy - INFO - Chain [1] start processing\n"
     ]
    },
    {
     "name": "stdout",
     "output_type": "stream",
     "text": [
      "Params: {'seasonality_mode': 'additive', 'yearly_seasonality': False, 'weekly_seasonality': True, 'daily_seasonality': True, 'seasonality_prior_scale': 10.0, 'changepoint_prior_scale': 0.5} => RMSE: 4354653.3870, Relative RMSE: 0.1150\n",
      "Params: {'seasonality_mode': 'additive', 'yearly_seasonality': False, 'weekly_seasonality': True, 'daily_seasonality': False, 'seasonality_prior_scale': 0.1, 'changepoint_prior_scale': 0.01} => RMSE: 4114837.4124, Relative RMSE: 0.1087\n",
      "Params: {'seasonality_mode': 'additive', 'yearly_seasonality': False, 'weekly_seasonality': True, 'daily_seasonality': False, 'seasonality_prior_scale': 0.1, 'changepoint_prior_scale': 0.1} => RMSE: 4114556.8089, Relative RMSE: 0.1087\n"
     ]
    },
    {
     "name": "stderr",
     "output_type": "stream",
     "text": [
      "19:43:53 - cmdstanpy - INFO - Chain [1] done processing\n",
      "19:43:53 - cmdstanpy - INFO - Chain [1] start processing\n",
      "19:43:53 - cmdstanpy - INFO - Chain [1] done processing\n",
      "19:43:53 - cmdstanpy - INFO - Chain [1] start processing\n"
     ]
    },
    {
     "name": "stdout",
     "output_type": "stream",
     "text": [
      "Params: {'seasonality_mode': 'additive', 'yearly_seasonality': False, 'weekly_seasonality': True, 'daily_seasonality': False, 'seasonality_prior_scale': 0.1, 'changepoint_prior_scale': 0.5} => RMSE: 4331429.8657, Relative RMSE: 0.1144\n",
      "Params: {'seasonality_mode': 'additive', 'yearly_seasonality': False, 'weekly_seasonality': True, 'daily_seasonality': False, 'seasonality_prior_scale': 1.0, 'changepoint_prior_scale': 0.01} => RMSE: 4033253.2643, Relative RMSE: 0.1065\n"
     ]
    },
    {
     "name": "stderr",
     "output_type": "stream",
     "text": [
      "19:43:53 - cmdstanpy - INFO - Chain [1] done processing\n",
      "19:43:53 - cmdstanpy - INFO - Chain [1] start processing\n",
      "19:43:53 - cmdstanpy - INFO - Chain [1] done processing\n",
      "19:43:53 - cmdstanpy - INFO - Chain [1] start processing\n"
     ]
    },
    {
     "name": "stdout",
     "output_type": "stream",
     "text": [
      "Params: {'seasonality_mode': 'additive', 'yearly_seasonality': False, 'weekly_seasonality': True, 'daily_seasonality': False, 'seasonality_prior_scale': 1.0, 'changepoint_prior_scale': 0.1} => RMSE: 4141162.7109, Relative RMSE: 0.1094\n",
      "Params: {'seasonality_mode': 'additive', 'yearly_seasonality': False, 'weekly_seasonality': True, 'daily_seasonality': False, 'seasonality_prior_scale': 1.0, 'changepoint_prior_scale': 0.5} => RMSE: 4355845.4438, Relative RMSE: 0.1151\n"
     ]
    },
    {
     "name": "stderr",
     "output_type": "stream",
     "text": [
      "19:43:53 - cmdstanpy - INFO - Chain [1] done processing\n",
      "19:43:53 - cmdstanpy - INFO - Chain [1] start processing\n",
      "19:43:53 - cmdstanpy - INFO - Chain [1] done processing\n",
      "19:43:53 - cmdstanpy - INFO - Chain [1] start processing\n"
     ]
    },
    {
     "name": "stdout",
     "output_type": "stream",
     "text": [
      "Params: {'seasonality_mode': 'additive', 'yearly_seasonality': False, 'weekly_seasonality': True, 'daily_seasonality': False, 'seasonality_prior_scale': 10.0, 'changepoint_prior_scale': 0.01} => RMSE: 4088668.9442, Relative RMSE: 0.1080\n",
      "Params: {'seasonality_mode': 'additive', 'yearly_seasonality': False, 'weekly_seasonality': True, 'daily_seasonality': False, 'seasonality_prior_scale': 10.0, 'changepoint_prior_scale': 0.1} => RMSE: 4128217.7928, Relative RMSE: 0.1090\n"
     ]
    },
    {
     "name": "stderr",
     "output_type": "stream",
     "text": [
      "19:43:53 - cmdstanpy - INFO - Chain [1] done processing\n",
      "19:43:53 - cmdstanpy - INFO - Chain [1] start processing\n",
      "19:43:54 - cmdstanpy - INFO - Chain [1] done processing\n",
      "19:43:54 - cmdstanpy - INFO - Chain [1] start processing\n"
     ]
    },
    {
     "name": "stdout",
     "output_type": "stream",
     "text": [
      "Params: {'seasonality_mode': 'additive', 'yearly_seasonality': False, 'weekly_seasonality': True, 'daily_seasonality': False, 'seasonality_prior_scale': 10.0, 'changepoint_prior_scale': 0.5} => RMSE: 4357342.3532, Relative RMSE: 0.1151\n",
      "Params: {'seasonality_mode': 'additive', 'yearly_seasonality': False, 'weekly_seasonality': False, 'daily_seasonality': True, 'seasonality_prior_scale': 0.1, 'changepoint_prior_scale': 0.01} => RMSE: 3689104.1436, Relative RMSE: 0.0974\n"
     ]
    },
    {
     "name": "stderr",
     "output_type": "stream",
     "text": [
      "19:43:54 - cmdstanpy - INFO - Chain [1] done processing\n",
      "19:43:54 - cmdstanpy - INFO - Chain [1] start processing\n",
      "19:43:54 - cmdstanpy - INFO - Chain [1] done processing\n",
      "19:43:54 - cmdstanpy - INFO - Chain [1] start processing\n",
      "19:43:54 - cmdstanpy - INFO - Chain [1] done processing\n"
     ]
    },
    {
     "name": "stdout",
     "output_type": "stream",
     "text": [
      "Params: {'seasonality_mode': 'additive', 'yearly_seasonality': False, 'weekly_seasonality': False, 'daily_seasonality': True, 'seasonality_prior_scale': 0.1, 'changepoint_prior_scale': 0.1} => RMSE: 3698558.5571, Relative RMSE: 0.0977\n",
      "Params: {'seasonality_mode': 'additive', 'yearly_seasonality': False, 'weekly_seasonality': False, 'daily_seasonality': True, 'seasonality_prior_scale': 0.1, 'changepoint_prior_scale': 0.5} => RMSE: 3670820.0652, Relative RMSE: 0.0970\n"
     ]
    },
    {
     "name": "stderr",
     "output_type": "stream",
     "text": [
      "19:43:54 - cmdstanpy - INFO - Chain [1] start processing\n",
      "19:43:54 - cmdstanpy - INFO - Chain [1] done processing\n",
      "19:43:54 - cmdstanpy - INFO - Chain [1] start processing\n",
      "19:43:54 - cmdstanpy - INFO - Chain [1] done processing\n"
     ]
    },
    {
     "name": "stdout",
     "output_type": "stream",
     "text": [
      "Params: {'seasonality_mode': 'additive', 'yearly_seasonality': False, 'weekly_seasonality': False, 'daily_seasonality': True, 'seasonality_prior_scale': 1.0, 'changepoint_prior_scale': 0.01} => RMSE: 3688992.3837, Relative RMSE: 0.0974\n",
      "Params: {'seasonality_mode': 'additive', 'yearly_seasonality': False, 'weekly_seasonality': False, 'daily_seasonality': True, 'seasonality_prior_scale': 1.0, 'changepoint_prior_scale': 0.1} => RMSE: 3698636.8288, Relative RMSE: 0.0977\n",
      "Params: {'seasonality_mode': 'additive', 'yearly_seasonality': False, 'weekly_seasonality': False, 'daily_seasonality': True, 'seasonality_prior_scale': 1.0, 'changepoint_prior_scale': 0.5} => RMSE: 3670185.5296, Relative RMSE: 0.0969\n"
     ]
    },
    {
     "name": "stderr",
     "output_type": "stream",
     "text": [
      "19:43:54 - cmdstanpy - INFO - Chain [1] start processing\n",
      "19:43:54 - cmdstanpy - INFO - Chain [1] done processing\n",
      "19:43:54 - cmdstanpy - INFO - Chain [1] start processing\n",
      "19:43:54 - cmdstanpy - INFO - Chain [1] done processing\n",
      "19:43:54 - cmdstanpy - INFO - Chain [1] start processing\n"
     ]
    },
    {
     "name": "stdout",
     "output_type": "stream",
     "text": [
      "Params: {'seasonality_mode': 'additive', 'yearly_seasonality': False, 'weekly_seasonality': False, 'daily_seasonality': True, 'seasonality_prior_scale': 10.0, 'changepoint_prior_scale': 0.01} => RMSE: 3700221.9203, Relative RMSE: 0.0977\n",
      "Params: {'seasonality_mode': 'additive', 'yearly_seasonality': False, 'weekly_seasonality': False, 'daily_seasonality': True, 'seasonality_prior_scale': 10.0, 'changepoint_prior_scale': 0.1} => RMSE: 3703571.6497, Relative RMSE: 0.0978\n"
     ]
    },
    {
     "name": "stderr",
     "output_type": "stream",
     "text": [
      "19:43:54 - cmdstanpy - INFO - Chain [1] done processing\n",
      "19:43:54 - cmdstanpy - INFO - Chain [1] start processing\n",
      "19:43:55 - cmdstanpy - INFO - Chain [1] done processing\n",
      "19:43:55 - cmdstanpy - INFO - Chain [1] start processing\n",
      "19:43:55 - cmdstanpy - INFO - Chain [1] done processing\n",
      "19:43:55 - cmdstanpy - INFO - Chain [1] start processing\n"
     ]
    },
    {
     "name": "stdout",
     "output_type": "stream",
     "text": [
      "Params: {'seasonality_mode': 'additive', 'yearly_seasonality': False, 'weekly_seasonality': False, 'daily_seasonality': True, 'seasonality_prior_scale': 10.0, 'changepoint_prior_scale': 0.5} => RMSE: 3670053.3696, Relative RMSE: 0.0969\n",
      "Params: {'seasonality_mode': 'additive', 'yearly_seasonality': False, 'weekly_seasonality': False, 'daily_seasonality': False, 'seasonality_prior_scale': 0.1, 'changepoint_prior_scale': 0.01} => RMSE: 3689102.8841, Relative RMSE: 0.0974\n",
      "Params: {'seasonality_mode': 'additive', 'yearly_seasonality': False, 'weekly_seasonality': False, 'daily_seasonality': False, 'seasonality_prior_scale': 0.1, 'changepoint_prior_scale': 0.1} => RMSE: 3697621.0274, Relative RMSE: 0.0977\n"
     ]
    },
    {
     "name": "stderr",
     "output_type": "stream",
     "text": [
      "19:43:55 - cmdstanpy - INFO - Chain [1] done processing\n",
      "19:43:55 - cmdstanpy - INFO - Chain [1] start processing\n",
      "19:43:55 - cmdstanpy - INFO - Chain [1] done processing\n",
      "19:43:55 - cmdstanpy - INFO - Chain [1] start processing\n",
      "19:43:55 - cmdstanpy - INFO - Chain [1] done processing\n",
      "19:43:55 - cmdstanpy - INFO - Chain [1] start processing\n"
     ]
    },
    {
     "name": "stdout",
     "output_type": "stream",
     "text": [
      "Params: {'seasonality_mode': 'additive', 'yearly_seasonality': False, 'weekly_seasonality': False, 'daily_seasonality': False, 'seasonality_prior_scale': 0.1, 'changepoint_prior_scale': 0.5} => RMSE: 3669936.6345, Relative RMSE: 0.0969\n",
      "Params: {'seasonality_mode': 'additive', 'yearly_seasonality': False, 'weekly_seasonality': False, 'daily_seasonality': False, 'seasonality_prior_scale': 1.0, 'changepoint_prior_scale': 0.01} => RMSE: 3689102.8841, Relative RMSE: 0.0974\n",
      "Params: {'seasonality_mode': 'additive', 'yearly_seasonality': False, 'weekly_seasonality': False, 'daily_seasonality': False, 'seasonality_prior_scale': 1.0, 'changepoint_prior_scale': 0.1} => RMSE: 3697621.0274, Relative RMSE: 0.0977\n"
     ]
    },
    {
     "name": "stderr",
     "output_type": "stream",
     "text": [
      "19:43:55 - cmdstanpy - INFO - Chain [1] done processing\n",
      "19:43:55 - cmdstanpy - INFO - Chain [1] start processing\n",
      "19:43:55 - cmdstanpy - INFO - Chain [1] done processing\n",
      "19:43:55 - cmdstanpy - INFO - Chain [1] start processing\n",
      "19:43:55 - cmdstanpy - INFO - Chain [1] done processing\n",
      "19:43:55 - cmdstanpy - INFO - Chain [1] start processing\n"
     ]
    },
    {
     "name": "stdout",
     "output_type": "stream",
     "text": [
      "Params: {'seasonality_mode': 'additive', 'yearly_seasonality': False, 'weekly_seasonality': False, 'daily_seasonality': False, 'seasonality_prior_scale': 1.0, 'changepoint_prior_scale': 0.5} => RMSE: 3669936.6345, Relative RMSE: 0.0969\n",
      "Params: {'seasonality_mode': 'additive', 'yearly_seasonality': False, 'weekly_seasonality': False, 'daily_seasonality': False, 'seasonality_prior_scale': 10.0, 'changepoint_prior_scale': 0.01} => RMSE: 3689102.8841, Relative RMSE: 0.0974\n",
      "Params: {'seasonality_mode': 'additive', 'yearly_seasonality': False, 'weekly_seasonality': False, 'daily_seasonality': False, 'seasonality_prior_scale': 10.0, 'changepoint_prior_scale': 0.1} => RMSE: 3697621.0274, Relative RMSE: 0.0977\n"
     ]
    },
    {
     "name": "stderr",
     "output_type": "stream",
     "text": [
      "19:43:55 - cmdstanpy - INFO - Chain [1] done processing\n",
      "19:43:55 - cmdstanpy - INFO - Chain [1] start processing\n",
      "19:43:56 - cmdstanpy - INFO - Chain [1] done processing\n",
      "19:43:56 - cmdstanpy - INFO - Chain [1] start processing\n"
     ]
    },
    {
     "name": "stdout",
     "output_type": "stream",
     "text": [
      "Params: {'seasonality_mode': 'additive', 'yearly_seasonality': False, 'weekly_seasonality': False, 'daily_seasonality': False, 'seasonality_prior_scale': 10.0, 'changepoint_prior_scale': 0.5} => RMSE: 3669936.6345, Relative RMSE: 0.0969\n",
      "Params: {'seasonality_mode': 'multiplicative', 'yearly_seasonality': True, 'weekly_seasonality': True, 'daily_seasonality': True, 'seasonality_prior_scale': 0.1, 'changepoint_prior_scale': 0.01} => RMSE: 5841316.7623, Relative RMSE: 0.1543\n"
     ]
    },
    {
     "name": "stderr",
     "output_type": "stream",
     "text": [
      "19:43:56 - cmdstanpy - INFO - Chain [1] done processing\n",
      "19:43:56 - cmdstanpy - INFO - Chain [1] start processing\n"
     ]
    },
    {
     "name": "stdout",
     "output_type": "stream",
     "text": [
      "Params: {'seasonality_mode': 'multiplicative', 'yearly_seasonality': True, 'weekly_seasonality': True, 'daily_seasonality': True, 'seasonality_prior_scale': 0.1, 'changepoint_prior_scale': 0.1} => RMSE: 7789618.3984, Relative RMSE: 0.2058\n"
     ]
    },
    {
     "name": "stderr",
     "output_type": "stream",
     "text": [
      "19:44:10 - cmdstanpy - INFO - Chain [1] done processing\n",
      "19:44:10 - cmdstanpy - INFO - Chain [1] start processing\n",
      "19:44:10 - cmdstanpy - INFO - Chain [1] done processing\n",
      "19:44:10 - cmdstanpy - INFO - Chain [1] start processing\n"
     ]
    },
    {
     "name": "stdout",
     "output_type": "stream",
     "text": [
      "Params: {'seasonality_mode': 'multiplicative', 'yearly_seasonality': True, 'weekly_seasonality': True, 'daily_seasonality': True, 'seasonality_prior_scale': 0.1, 'changepoint_prior_scale': 0.5} => RMSE: 39450102.0490, Relative RMSE: 1.0421\n",
      "Params: {'seasonality_mode': 'multiplicative', 'yearly_seasonality': True, 'weekly_seasonality': True, 'daily_seasonality': True, 'seasonality_prior_scale': 1.0, 'changepoint_prior_scale': 0.01} => RMSE: 17422697.5113, Relative RMSE: 0.4602\n"
     ]
    },
    {
     "name": "stderr",
     "output_type": "stream",
     "text": [
      "19:44:23 - cmdstanpy - INFO - Chain [1] done processing\n",
      "19:44:23 - cmdstanpy - INFO - Chain [1] start processing\n"
     ]
    },
    {
     "name": "stdout",
     "output_type": "stream",
     "text": [
      "Params: {'seasonality_mode': 'multiplicative', 'yearly_seasonality': True, 'weekly_seasonality': True, 'daily_seasonality': True, 'seasonality_prior_scale': 1.0, 'changepoint_prior_scale': 0.1} => RMSE: 51347156.6878, Relative RMSE: 1.3563\n"
     ]
    },
    {
     "name": "stderr",
     "output_type": "stream",
     "text": [
      "19:44:37 - cmdstanpy - INFO - Chain [1] done processing\n",
      "19:44:37 - cmdstanpy - INFO - Chain [1] start processing\n",
      "19:44:37 - cmdstanpy - INFO - Chain [1] done processing\n",
      "19:44:38 - cmdstanpy - INFO - Chain [1] start processing\n"
     ]
    },
    {
     "name": "stdout",
     "output_type": "stream",
     "text": [
      "Params: {'seasonality_mode': 'multiplicative', 'yearly_seasonality': True, 'weekly_seasonality': True, 'daily_seasonality': True, 'seasonality_prior_scale': 1.0, 'changepoint_prior_scale': 0.5} => RMSE: 55990228.8769, Relative RMSE: 1.4790\n",
      "Params: {'seasonality_mode': 'multiplicative', 'yearly_seasonality': True, 'weekly_seasonality': True, 'daily_seasonality': True, 'seasonality_prior_scale': 10.0, 'changepoint_prior_scale': 0.01} => RMSE: 17116808.9911, Relative RMSE: 0.4521\n"
     ]
    },
    {
     "name": "stderr",
     "output_type": "stream",
     "text": [
      "19:44:51 - cmdstanpy - INFO - Chain [1] done processing\n",
      "19:44:51 - cmdstanpy - INFO - Chain [1] start processing\n"
     ]
    },
    {
     "name": "stdout",
     "output_type": "stream",
     "text": [
      "Params: {'seasonality_mode': 'multiplicative', 'yearly_seasonality': True, 'weekly_seasonality': True, 'daily_seasonality': True, 'seasonality_prior_scale': 10.0, 'changepoint_prior_scale': 0.1} => RMSE: 53137652.4297, Relative RMSE: 1.4036\n"
     ]
    },
    {
     "name": "stderr",
     "output_type": "stream",
     "text": [
      "19:45:05 - cmdstanpy - INFO - Chain [1] done processing\n",
      "19:45:05 - cmdstanpy - INFO - Chain [1] start processing\n",
      "19:45:06 - cmdstanpy - INFO - Chain [1] done processing\n",
      "19:45:06 - cmdstanpy - INFO - Chain [1] start processing\n"
     ]
    },
    {
     "name": "stdout",
     "output_type": "stream",
     "text": [
      "Params: {'seasonality_mode': 'multiplicative', 'yearly_seasonality': True, 'weekly_seasonality': True, 'daily_seasonality': True, 'seasonality_prior_scale': 10.0, 'changepoint_prior_scale': 0.5} => RMSE: 57560279.9345, Relative RMSE: 1.5204\n",
      "Params: {'seasonality_mode': 'multiplicative', 'yearly_seasonality': True, 'weekly_seasonality': True, 'daily_seasonality': False, 'seasonality_prior_scale': 0.1, 'changepoint_prior_scale': 0.01} => RMSE: 5469356.5416, Relative RMSE: 0.1445\n"
     ]
    },
    {
     "name": "stderr",
     "output_type": "stream",
     "text": [
      "19:45:06 - cmdstanpy - INFO - Chain [1] done processing\n",
      "19:45:06 - cmdstanpy - INFO - Chain [1] start processing\n",
      "19:45:06 - cmdstanpy - INFO - Chain [1] done processing\n",
      "19:45:06 - cmdstanpy - INFO - Chain [1] start processing\n"
     ]
    },
    {
     "name": "stdout",
     "output_type": "stream",
     "text": [
      "Params: {'seasonality_mode': 'multiplicative', 'yearly_seasonality': True, 'weekly_seasonality': True, 'daily_seasonality': False, 'seasonality_prior_scale': 0.1, 'changepoint_prior_scale': 0.1} => RMSE: 7977471.9518, Relative RMSE: 0.2107\n",
      "Params: {'seasonality_mode': 'multiplicative', 'yearly_seasonality': True, 'weekly_seasonality': True, 'daily_seasonality': False, 'seasonality_prior_scale': 0.1, 'changepoint_prior_scale': 0.5} => RMSE: 10485449.6173, Relative RMSE: 0.2770\n"
     ]
    },
    {
     "name": "stderr",
     "output_type": "stream",
     "text": [
      "19:45:06 - cmdstanpy - INFO - Chain [1] done processing\n",
      "19:45:06 - cmdstanpy - INFO - Chain [1] start processing\n"
     ]
    },
    {
     "name": "stdout",
     "output_type": "stream",
     "text": [
      "Params: {'seasonality_mode': 'multiplicative', 'yearly_seasonality': True, 'weekly_seasonality': True, 'daily_seasonality': False, 'seasonality_prior_scale': 1.0, 'changepoint_prior_scale': 0.01} => RMSE: 18132434.2306, Relative RMSE: 0.4790\n"
     ]
    },
    {
     "name": "stderr",
     "output_type": "stream",
     "text": [
      "19:45:18 - cmdstanpy - INFO - Chain [1] done processing\n",
      "19:45:18 - cmdstanpy - INFO - Chain [1] start processing\n"
     ]
    },
    {
     "name": "stdout",
     "output_type": "stream",
     "text": [
      "Params: {'seasonality_mode': 'multiplicative', 'yearly_seasonality': True, 'weekly_seasonality': True, 'daily_seasonality': False, 'seasonality_prior_scale': 1.0, 'changepoint_prior_scale': 0.1} => RMSE: 53707610.4314, Relative RMSE: 1.4187\n"
     ]
    },
    {
     "name": "stderr",
     "output_type": "stream",
     "text": [
      "19:45:30 - cmdstanpy - INFO - Chain [1] done processing\n",
      "19:45:30 - cmdstanpy - INFO - Chain [1] start processing\n",
      "19:45:30 - cmdstanpy - INFO - Chain [1] done processing\n",
      "19:45:30 - cmdstanpy - INFO - Chain [1] start processing\n"
     ]
    },
    {
     "name": "stdout",
     "output_type": "stream",
     "text": [
      "Params: {'seasonality_mode': 'multiplicative', 'yearly_seasonality': True, 'weekly_seasonality': True, 'daily_seasonality': False, 'seasonality_prior_scale': 1.0, 'changepoint_prior_scale': 0.5} => RMSE: 48661728.0999, Relative RMSE: 1.2854\n",
      "Params: {'seasonality_mode': 'multiplicative', 'yearly_seasonality': True, 'weekly_seasonality': True, 'daily_seasonality': False, 'seasonality_prior_scale': 10.0, 'changepoint_prior_scale': 0.01} => RMSE: 17131215.0142, Relative RMSE: 0.4525\n"
     ]
    },
    {
     "name": "stderr",
     "output_type": "stream",
     "text": [
      "19:45:43 - cmdstanpy - INFO - Chain [1] done processing\n",
      "19:45:43 - cmdstanpy - INFO - Chain [1] start processing\n"
     ]
    },
    {
     "name": "stdout",
     "output_type": "stream",
     "text": [
      "Params: {'seasonality_mode': 'multiplicative', 'yearly_seasonality': True, 'weekly_seasonality': True, 'daily_seasonality': False, 'seasonality_prior_scale': 10.0, 'changepoint_prior_scale': 0.1} => RMSE: 55306283.1133, Relative RMSE: 1.4609\n"
     ]
    },
    {
     "name": "stderr",
     "output_type": "stream",
     "text": [
      "19:45:55 - cmdstanpy - INFO - Chain [1] done processing\n",
      "19:45:55 - cmdstanpy - INFO - Chain [1] start processing\n",
      "19:45:55 - cmdstanpy - INFO - Chain [1] done processing\n",
      "19:45:55 - cmdstanpy - INFO - Chain [1] start processing\n"
     ]
    },
    {
     "name": "stdout",
     "output_type": "stream",
     "text": [
      "Params: {'seasonality_mode': 'multiplicative', 'yearly_seasonality': True, 'weekly_seasonality': True, 'daily_seasonality': False, 'seasonality_prior_scale': 10.0, 'changepoint_prior_scale': 0.5} => RMSE: 54003582.3743, Relative RMSE: 1.4265\n",
      "Params: {'seasonality_mode': 'multiplicative', 'yearly_seasonality': True, 'weekly_seasonality': False, 'daily_seasonality': True, 'seasonality_prior_scale': 0.1, 'changepoint_prior_scale': 0.01} => RMSE: 3789578.4216, Relative RMSE: 0.1001\n"
     ]
    },
    {
     "name": "stderr",
     "output_type": "stream",
     "text": [
      "19:45:55 - cmdstanpy - INFO - Chain [1] done processing\n",
      "19:45:55 - cmdstanpy - INFO - Chain [1] start processing\n"
     ]
    },
    {
     "name": "stdout",
     "output_type": "stream",
     "text": [
      "Params: {'seasonality_mode': 'multiplicative', 'yearly_seasonality': True, 'weekly_seasonality': False, 'daily_seasonality': True, 'seasonality_prior_scale': 0.1, 'changepoint_prior_scale': 0.1} => RMSE: 3795284.9156, Relative RMSE: 0.1003\n"
     ]
    },
    {
     "name": "stderr",
     "output_type": "stream",
     "text": [
      "19:45:55 - cmdstanpy - INFO - Chain [1] done processing\n",
      "19:45:55 - cmdstanpy - INFO - Chain [1] start processing\n",
      "19:45:55 - cmdstanpy - INFO - Chain [1] done processing\n",
      "19:45:55 - cmdstanpy - INFO - Chain [1] start processing\n"
     ]
    },
    {
     "name": "stdout",
     "output_type": "stream",
     "text": [
      "Params: {'seasonality_mode': 'multiplicative', 'yearly_seasonality': True, 'weekly_seasonality': False, 'daily_seasonality': True, 'seasonality_prior_scale': 0.1, 'changepoint_prior_scale': 0.5} => RMSE: 3867574.5772, Relative RMSE: 0.1022\n",
      "Params: {'seasonality_mode': 'multiplicative', 'yearly_seasonality': True, 'weekly_seasonality': False, 'daily_seasonality': True, 'seasonality_prior_scale': 1.0, 'changepoint_prior_scale': 0.01} => RMSE: 8174645.5164, Relative RMSE: 0.2159\n"
     ]
    },
    {
     "name": "stderr",
     "output_type": "stream",
     "text": [
      "19:45:56 - cmdstanpy - INFO - Chain [1] done processing\n",
      "19:45:56 - cmdstanpy - INFO - Chain [1] start processing\n"
     ]
    },
    {
     "name": "stdout",
     "output_type": "stream",
     "text": [
      "Params: {'seasonality_mode': 'multiplicative', 'yearly_seasonality': True, 'weekly_seasonality': False, 'daily_seasonality': True, 'seasonality_prior_scale': 1.0, 'changepoint_prior_scale': 0.1} => RMSE: 8754931.0134, Relative RMSE: 0.2313\n"
     ]
    },
    {
     "name": "stderr",
     "output_type": "stream",
     "text": [
      "19:46:08 - cmdstanpy - INFO - Chain [1] done processing\n",
      "19:46:08 - cmdstanpy - INFO - Chain [1] start processing\n",
      "19:46:08 - cmdstanpy - INFO - Chain [1] done processing\n",
      "19:46:08 - cmdstanpy - INFO - Chain [1] start processing\n"
     ]
    },
    {
     "name": "stdout",
     "output_type": "stream",
     "text": [
      "Params: {'seasonality_mode': 'multiplicative', 'yearly_seasonality': True, 'weekly_seasonality': False, 'daily_seasonality': True, 'seasonality_prior_scale': 1.0, 'changepoint_prior_scale': 0.5} => RMSE: 4767698.6688, Relative RMSE: 0.1259\n",
      "Params: {'seasonality_mode': 'multiplicative', 'yearly_seasonality': True, 'weekly_seasonality': False, 'daily_seasonality': True, 'seasonality_prior_scale': 10.0, 'changepoint_prior_scale': 0.01} => RMSE: 8453335.6246, Relative RMSE: 0.2233\n"
     ]
    },
    {
     "name": "stderr",
     "output_type": "stream",
     "text": [
      "19:46:21 - cmdstanpy - INFO - Chain [1] done processing\n",
      "19:46:21 - cmdstanpy - INFO - Chain [1] start processing\n"
     ]
    },
    {
     "name": "stdout",
     "output_type": "stream",
     "text": [
      "Params: {'seasonality_mode': 'multiplicative', 'yearly_seasonality': True, 'weekly_seasonality': False, 'daily_seasonality': True, 'seasonality_prior_scale': 10.0, 'changepoint_prior_scale': 0.1} => RMSE: 8554713.3896, Relative RMSE: 0.2260\n"
     ]
    },
    {
     "name": "stderr",
     "output_type": "stream",
     "text": [
      "19:46:33 - cmdstanpy - INFO - Chain [1] done processing\n",
      "19:46:33 - cmdstanpy - INFO - Chain [1] start processing\n",
      "19:46:33 - cmdstanpy - INFO - Chain [1] done processing\n",
      "19:46:33 - cmdstanpy - INFO - Chain [1] start processing\n",
      "19:46:33 - cmdstanpy - INFO - Chain [1] done processing\n"
     ]
    },
    {
     "name": "stdout",
     "output_type": "stream",
     "text": [
      "Params: {'seasonality_mode': 'multiplicative', 'yearly_seasonality': True, 'weekly_seasonality': False, 'daily_seasonality': True, 'seasonality_prior_scale': 10.0, 'changepoint_prior_scale': 0.5} => RMSE: 5597710.1049, Relative RMSE: 0.1479\n",
      "Params: {'seasonality_mode': 'multiplicative', 'yearly_seasonality': True, 'weekly_seasonality': False, 'daily_seasonality': False, 'seasonality_prior_scale': 0.1, 'changepoint_prior_scale': 0.01} => RMSE: 3684744.4937, Relative RMSE: 0.0973\n"
     ]
    },
    {
     "name": "stderr",
     "output_type": "stream",
     "text": [
      "19:46:33 - cmdstanpy - INFO - Chain [1] start processing\n",
      "19:46:33 - cmdstanpy - INFO - Chain [1] done processing\n",
      "19:46:33 - cmdstanpy - INFO - Chain [1] start processing\n"
     ]
    },
    {
     "name": "stdout",
     "output_type": "stream",
     "text": [
      "Params: {'seasonality_mode': 'multiplicative', 'yearly_seasonality': True, 'weekly_seasonality': False, 'daily_seasonality': False, 'seasonality_prior_scale': 0.1, 'changepoint_prior_scale': 0.1} => RMSE: 3681532.1269, Relative RMSE: 0.0972\n",
      "Params: {'seasonality_mode': 'multiplicative', 'yearly_seasonality': True, 'weekly_seasonality': False, 'daily_seasonality': False, 'seasonality_prior_scale': 0.1, 'changepoint_prior_scale': 0.5} => RMSE: 3607775.0477, Relative RMSE: 0.0953\n"
     ]
    },
    {
     "name": "stderr",
     "output_type": "stream",
     "text": [
      "19:46:33 - cmdstanpy - INFO - Chain [1] done processing\n",
      "19:46:34 - cmdstanpy - INFO - Chain [1] start processing\n"
     ]
    },
    {
     "name": "stdout",
     "output_type": "stream",
     "text": [
      "Params: {'seasonality_mode': 'multiplicative', 'yearly_seasonality': True, 'weekly_seasonality': False, 'daily_seasonality': False, 'seasonality_prior_scale': 1.0, 'changepoint_prior_scale': 0.01} => RMSE: 8001598.0331, Relative RMSE: 0.2114\n"
     ]
    },
    {
     "name": "stderr",
     "output_type": "stream",
     "text": [
      "19:46:34 - cmdstanpy - INFO - Chain [1] done processing\n",
      "19:46:34 - cmdstanpy - INFO - Chain [1] start processing\n"
     ]
    },
    {
     "name": "stdout",
     "output_type": "stream",
     "text": [
      "Params: {'seasonality_mode': 'multiplicative', 'yearly_seasonality': True, 'weekly_seasonality': False, 'daily_seasonality': False, 'seasonality_prior_scale': 1.0, 'changepoint_prior_scale': 0.1} => RMSE: 9024136.6634, Relative RMSE: 0.2384\n"
     ]
    },
    {
     "name": "stderr",
     "output_type": "stream",
     "text": [
      "19:46:34 - cmdstanpy - INFO - Chain [1] done processing\n",
      "19:46:34 - cmdstanpy - INFO - Chain [1] start processing\n",
      "19:46:34 - cmdstanpy - INFO - Chain [1] done processing\n",
      "19:46:34 - cmdstanpy - INFO - Chain [1] start processing\n"
     ]
    },
    {
     "name": "stdout",
     "output_type": "stream",
     "text": [
      "Params: {'seasonality_mode': 'multiplicative', 'yearly_seasonality': True, 'weekly_seasonality': False, 'daily_seasonality': False, 'seasonality_prior_scale': 1.0, 'changepoint_prior_scale': 0.5} => RMSE: 10583075.8762, Relative RMSE: 0.2795\n",
      "Params: {'seasonality_mode': 'multiplicative', 'yearly_seasonality': True, 'weekly_seasonality': False, 'daily_seasonality': False, 'seasonality_prior_scale': 10.0, 'changepoint_prior_scale': 0.01} => RMSE: 8254398.5198, Relative RMSE: 0.2180\n"
     ]
    },
    {
     "name": "stderr",
     "output_type": "stream",
     "text": [
      "19:46:34 - cmdstanpy - INFO - Chain [1] done processing\n",
      "19:46:34 - cmdstanpy - INFO - Chain [1] start processing\n"
     ]
    },
    {
     "name": "stdout",
     "output_type": "stream",
     "text": [
      "Params: {'seasonality_mode': 'multiplicative', 'yearly_seasonality': True, 'weekly_seasonality': False, 'daily_seasonality': False, 'seasonality_prior_scale': 10.0, 'changepoint_prior_scale': 0.1} => RMSE: 8542672.0486, Relative RMSE: 0.2257\n"
     ]
    },
    {
     "name": "stderr",
     "output_type": "stream",
     "text": [
      "19:46:35 - cmdstanpy - INFO - Chain [1] done processing\n",
      "19:46:35 - cmdstanpy - INFO - Chain [1] start processing\n"
     ]
    },
    {
     "name": "stdout",
     "output_type": "stream",
     "text": [
      "Params: {'seasonality_mode': 'multiplicative', 'yearly_seasonality': True, 'weekly_seasonality': False, 'daily_seasonality': False, 'seasonality_prior_scale': 10.0, 'changepoint_prior_scale': 0.5} => RMSE: 10891279.0519, Relative RMSE: 0.2877\n"
     ]
    },
    {
     "name": "stderr",
     "output_type": "stream",
     "text": [
      "19:46:35 - cmdstanpy - INFO - Chain [1] done processing\n",
      "19:46:35 - cmdstanpy - INFO - Chain [1] start processing\n",
      "19:46:35 - cmdstanpy - INFO - Chain [1] done processing\n",
      "19:46:35 - cmdstanpy - INFO - Chain [1] start processing\n"
     ]
    },
    {
     "name": "stdout",
     "output_type": "stream",
     "text": [
      "Params: {'seasonality_mode': 'multiplicative', 'yearly_seasonality': False, 'weekly_seasonality': True, 'daily_seasonality': True, 'seasonality_prior_scale': 0.1, 'changepoint_prior_scale': 0.01} => RMSE: 4001016.8600, Relative RMSE: 0.1057\n",
      "Params: {'seasonality_mode': 'multiplicative', 'yearly_seasonality': False, 'weekly_seasonality': True, 'daily_seasonality': True, 'seasonality_prior_scale': 0.1, 'changepoint_prior_scale': 0.1} => RMSE: 4043114.9092, Relative RMSE: 0.1068\n"
     ]
    },
    {
     "name": "stderr",
     "output_type": "stream",
     "text": [
      "19:46:35 - cmdstanpy - INFO - Chain [1] done processing\n",
      "19:46:35 - cmdstanpy - INFO - Chain [1] start processing\n",
      "19:46:35 - cmdstanpy - INFO - Chain [1] done processing\n",
      "19:46:35 - cmdstanpy - INFO - Chain [1] start processing\n"
     ]
    },
    {
     "name": "stdout",
     "output_type": "stream",
     "text": [
      "Params: {'seasonality_mode': 'multiplicative', 'yearly_seasonality': False, 'weekly_seasonality': True, 'daily_seasonality': True, 'seasonality_prior_scale': 0.1, 'changepoint_prior_scale': 0.5} => RMSE: 4231788.4106, Relative RMSE: 0.1118\n",
      "Params: {'seasonality_mode': 'multiplicative', 'yearly_seasonality': False, 'weekly_seasonality': True, 'daily_seasonality': True, 'seasonality_prior_scale': 1.0, 'changepoint_prior_scale': 0.01} => RMSE: 3997836.6221, Relative RMSE: 0.1056\n"
     ]
    },
    {
     "name": "stderr",
     "output_type": "stream",
     "text": [
      "19:46:35 - cmdstanpy - INFO - Chain [1] done processing\n",
      "19:46:35 - cmdstanpy - INFO - Chain [1] start processing\n"
     ]
    },
    {
     "name": "stdout",
     "output_type": "stream",
     "text": [
      "Params: {'seasonality_mode': 'multiplicative', 'yearly_seasonality': False, 'weekly_seasonality': True, 'daily_seasonality': True, 'seasonality_prior_scale': 1.0, 'changepoint_prior_scale': 0.1} => RMSE: 4070528.2755, Relative RMSE: 0.1075\n"
     ]
    },
    {
     "name": "stderr",
     "output_type": "stream",
     "text": [
      "19:46:36 - cmdstanpy - INFO - Chain [1] done processing\n",
      "19:46:36 - cmdstanpy - INFO - Chain [1] start processing\n",
      "19:46:36 - cmdstanpy - INFO - Chain [1] done processing\n",
      "19:46:36 - cmdstanpy - INFO - Chain [1] start processing\n",
      "19:46:36 - cmdstanpy - INFO - Chain [1] done processing\n",
      "19:46:36 - cmdstanpy - INFO - Chain [1] start processing\n"
     ]
    },
    {
     "name": "stdout",
     "output_type": "stream",
     "text": [
      "Params: {'seasonality_mode': 'multiplicative', 'yearly_seasonality': False, 'weekly_seasonality': True, 'daily_seasonality': True, 'seasonality_prior_scale': 1.0, 'changepoint_prior_scale': 0.5} => RMSE: 3922568.5705, Relative RMSE: 0.1036\n",
      "Params: {'seasonality_mode': 'multiplicative', 'yearly_seasonality': False, 'weekly_seasonality': True, 'daily_seasonality': True, 'seasonality_prior_scale': 10.0, 'changepoint_prior_scale': 0.01} => RMSE: 4081269.5130, Relative RMSE: 0.1078\n",
      "Params: {'seasonality_mode': 'multiplicative', 'yearly_seasonality': False, 'weekly_seasonality': True, 'daily_seasonality': True, 'seasonality_prior_scale': 10.0, 'changepoint_prior_scale': 0.1} => RMSE: 4074304.7992, Relative RMSE: 0.1076\n"
     ]
    },
    {
     "name": "stderr",
     "output_type": "stream",
     "text": [
      "19:46:36 - cmdstanpy - INFO - Chain [1] done processing\n",
      "19:46:36 - cmdstanpy - INFO - Chain [1] start processing\n",
      "19:46:37 - cmdstanpy - INFO - Chain [1] done processing\n",
      "19:46:37 - cmdstanpy - INFO - Chain [1] start processing\n",
      "19:46:37 - cmdstanpy - INFO - Chain [1] done processing\n",
      "19:46:37 - cmdstanpy - INFO - Chain [1] start processing\n"
     ]
    },
    {
     "name": "stdout",
     "output_type": "stream",
     "text": [
      "Params: {'seasonality_mode': 'multiplicative', 'yearly_seasonality': False, 'weekly_seasonality': True, 'daily_seasonality': True, 'seasonality_prior_scale': 10.0, 'changepoint_prior_scale': 0.5} => RMSE: 9076969.6789, Relative RMSE: 0.2398\n",
      "Params: {'seasonality_mode': 'multiplicative', 'yearly_seasonality': False, 'weekly_seasonality': True, 'daily_seasonality': False, 'seasonality_prior_scale': 0.1, 'changepoint_prior_scale': 0.01} => RMSE: 4047243.4286, Relative RMSE: 0.1069\n",
      "Params: {'seasonality_mode': 'multiplicative', 'yearly_seasonality': False, 'weekly_seasonality': True, 'daily_seasonality': False, 'seasonality_prior_scale': 0.1, 'changepoint_prior_scale': 0.1} => RMSE: 4036535.4908, Relative RMSE: 0.1066\n"
     ]
    },
    {
     "name": "stderr",
     "output_type": "stream",
     "text": [
      "19:46:37 - cmdstanpy - INFO - Chain [1] done processing\n",
      "19:46:37 - cmdstanpy - INFO - Chain [1] start processing\n",
      "19:46:37 - cmdstanpy - INFO - Chain [1] done processing\n",
      "19:46:37 - cmdstanpy - INFO - Chain [1] start processing\n",
      "19:46:37 - cmdstanpy - INFO - Chain [1] done processing\n",
      "19:46:37 - cmdstanpy - INFO - Chain [1] start processing\n"
     ]
    },
    {
     "name": "stdout",
     "output_type": "stream",
     "text": [
      "Params: {'seasonality_mode': 'multiplicative', 'yearly_seasonality': False, 'weekly_seasonality': True, 'daily_seasonality': False, 'seasonality_prior_scale': 0.1, 'changepoint_prior_scale': 0.5} => RMSE: 4227560.4351, Relative RMSE: 0.1117\n",
      "Params: {'seasonality_mode': 'multiplicative', 'yearly_seasonality': False, 'weekly_seasonality': True, 'daily_seasonality': False, 'seasonality_prior_scale': 1.0, 'changepoint_prior_scale': 0.01} => RMSE: 4067187.8862, Relative RMSE: 0.1074\n",
      "Params: {'seasonality_mode': 'multiplicative', 'yearly_seasonality': False, 'weekly_seasonality': True, 'daily_seasonality': False, 'seasonality_prior_scale': 1.0, 'changepoint_prior_scale': 0.1} => RMSE: 4066757.3566, Relative RMSE: 0.1074\n"
     ]
    },
    {
     "name": "stderr",
     "output_type": "stream",
     "text": [
      "19:46:37 - cmdstanpy - INFO - Chain [1] done processing\n",
      "19:46:37 - cmdstanpy - INFO - Chain [1] start processing\n",
      "19:46:37 - cmdstanpy - INFO - Chain [1] done processing\n",
      "19:46:37 - cmdstanpy - INFO - Chain [1] start processing\n",
      "19:46:37 - cmdstanpy - INFO - Chain [1] done processing\n",
      "19:46:37 - cmdstanpy - INFO - Chain [1] start processing\n"
     ]
    },
    {
     "name": "stdout",
     "output_type": "stream",
     "text": [
      "Params: {'seasonality_mode': 'multiplicative', 'yearly_seasonality': False, 'weekly_seasonality': True, 'daily_seasonality': False, 'seasonality_prior_scale': 1.0, 'changepoint_prior_scale': 0.5} => RMSE: 4212299.8372, Relative RMSE: 0.1113\n",
      "Params: {'seasonality_mode': 'multiplicative', 'yearly_seasonality': False, 'weekly_seasonality': True, 'daily_seasonality': False, 'seasonality_prior_scale': 10.0, 'changepoint_prior_scale': 0.01} => RMSE: 4067296.0591, Relative RMSE: 0.1074\n",
      "Params: {'seasonality_mode': 'multiplicative', 'yearly_seasonality': False, 'weekly_seasonality': True, 'daily_seasonality': False, 'seasonality_prior_scale': 10.0, 'changepoint_prior_scale': 0.1} => RMSE: 4072332.8854, Relative RMSE: 0.1076\n"
     ]
    },
    {
     "name": "stderr",
     "output_type": "stream",
     "text": [
      "19:46:37 - cmdstanpy - INFO - Chain [1] done processing\n",
      "19:46:37 - cmdstanpy - INFO - Chain [1] start processing\n",
      "19:46:38 - cmdstanpy - INFO - Chain [1] done processing\n",
      "19:46:38 - cmdstanpy - INFO - Chain [1] start processing\n"
     ]
    },
    {
     "name": "stdout",
     "output_type": "stream",
     "text": [
      "Params: {'seasonality_mode': 'multiplicative', 'yearly_seasonality': False, 'weekly_seasonality': True, 'daily_seasonality': False, 'seasonality_prior_scale': 10.0, 'changepoint_prior_scale': 0.5} => RMSE: 4265524.0573, Relative RMSE: 0.1127\n",
      "Params: {'seasonality_mode': 'multiplicative', 'yearly_seasonality': False, 'weekly_seasonality': False, 'daily_seasonality': True, 'seasonality_prior_scale': 0.1, 'changepoint_prior_scale': 0.01} => RMSE: 3728069.8658, Relative RMSE: 0.0985\n"
     ]
    },
    {
     "name": "stderr",
     "output_type": "stream",
     "text": [
      "19:46:38 - cmdstanpy - INFO - Chain [1] done processing\n",
      "19:46:38 - cmdstanpy - INFO - Chain [1] start processing\n",
      "19:46:38 - cmdstanpy - INFO - Chain [1] done processing\n",
      "19:46:38 - cmdstanpy - INFO - Chain [1] start processing\n"
     ]
    },
    {
     "name": "stdout",
     "output_type": "stream",
     "text": [
      "Params: {'seasonality_mode': 'multiplicative', 'yearly_seasonality': False, 'weekly_seasonality': False, 'daily_seasonality': True, 'seasonality_prior_scale': 0.1, 'changepoint_prior_scale': 0.1} => RMSE: 3705900.1783, Relative RMSE: 0.0979\n",
      "Params: {'seasonality_mode': 'multiplicative', 'yearly_seasonality': False, 'weekly_seasonality': False, 'daily_seasonality': True, 'seasonality_prior_scale': 0.1, 'changepoint_prior_scale': 0.5} => RMSE: 3656788.3159, Relative RMSE: 0.0966\n"
     ]
    },
    {
     "name": "stderr",
     "output_type": "stream",
     "text": [
      "19:46:38 - cmdstanpy - INFO - Chain [1] done processing\n",
      "19:46:38 - cmdstanpy - INFO - Chain [1] start processing\n",
      "19:46:38 - cmdstanpy - INFO - Chain [1] done processing\n",
      "19:46:38 - cmdstanpy - INFO - Chain [1] start processing\n"
     ]
    },
    {
     "name": "stdout",
     "output_type": "stream",
     "text": [
      "Params: {'seasonality_mode': 'multiplicative', 'yearly_seasonality': False, 'weekly_seasonality': False, 'daily_seasonality': True, 'seasonality_prior_scale': 1.0, 'changepoint_prior_scale': 0.01} => RMSE: 3671661.9633, Relative RMSE: 0.0970\n",
      "Params: {'seasonality_mode': 'multiplicative', 'yearly_seasonality': False, 'weekly_seasonality': False, 'daily_seasonality': True, 'seasonality_prior_scale': 1.0, 'changepoint_prior_scale': 0.1} => RMSE: 3704101.7758, Relative RMSE: 0.0978\n"
     ]
    },
    {
     "name": "stderr",
     "output_type": "stream",
     "text": [
      "19:46:38 - cmdstanpy - INFO - Chain [1] done processing\n",
      "19:46:38 - cmdstanpy - INFO - Chain [1] start processing\n",
      "19:46:38 - cmdstanpy - INFO - Chain [1] done processing\n",
      "19:46:38 - cmdstanpy - INFO - Chain [1] start processing\n",
      "19:46:39 - cmdstanpy - INFO - Chain [1] done processing\n",
      "19:46:39 - cmdstanpy - INFO - Chain [1] start processing\n"
     ]
    },
    {
     "name": "stdout",
     "output_type": "stream",
     "text": [
      "Params: {'seasonality_mode': 'multiplicative', 'yearly_seasonality': False, 'weekly_seasonality': False, 'daily_seasonality': True, 'seasonality_prior_scale': 1.0, 'changepoint_prior_scale': 0.5} => RMSE: 3274042.5814, Relative RMSE: 0.0865\n",
      "Params: {'seasonality_mode': 'multiplicative', 'yearly_seasonality': False, 'weekly_seasonality': False, 'daily_seasonality': True, 'seasonality_prior_scale': 10.0, 'changepoint_prior_scale': 0.01} => RMSE: 3754385.6601, Relative RMSE: 0.0992\n",
      "Params: {'seasonality_mode': 'multiplicative', 'yearly_seasonality': False, 'weekly_seasonality': False, 'daily_seasonality': True, 'seasonality_prior_scale': 10.0, 'changepoint_prior_scale': 0.1} => RMSE: 3706528.1814, Relative RMSE: 0.0979\n"
     ]
    },
    {
     "name": "stderr",
     "output_type": "stream",
     "text": [
      "19:46:39 - cmdstanpy - INFO - Chain [1] done processing\n",
      "19:46:39 - cmdstanpy - INFO - Chain [1] start processing\n",
      "19:46:39 - cmdstanpy - INFO - Chain [1] done processing\n",
      "19:46:39 - cmdstanpy - INFO - Chain [1] start processing\n",
      "19:46:39 - cmdstanpy - INFO - Chain [1] done processing\n",
      "19:46:39 - cmdstanpy - INFO - Chain [1] start processing\n"
     ]
    },
    {
     "name": "stdout",
     "output_type": "stream",
     "text": [
      "Params: {'seasonality_mode': 'multiplicative', 'yearly_seasonality': False, 'weekly_seasonality': False, 'daily_seasonality': True, 'seasonality_prior_scale': 10.0, 'changepoint_prior_scale': 0.5} => RMSE: 3315835.4980, Relative RMSE: 0.0876\n",
      "Params: {'seasonality_mode': 'multiplicative', 'yearly_seasonality': False, 'weekly_seasonality': False, 'daily_seasonality': False, 'seasonality_prior_scale': 0.1, 'changepoint_prior_scale': 0.01} => RMSE: 3689102.8841, Relative RMSE: 0.0974\n",
      "Params: {'seasonality_mode': 'multiplicative', 'yearly_seasonality': False, 'weekly_seasonality': False, 'daily_seasonality': False, 'seasonality_prior_scale': 0.1, 'changepoint_prior_scale': 0.1} => RMSE: 3697621.0274, Relative RMSE: 0.0977\n"
     ]
    },
    {
     "name": "stderr",
     "output_type": "stream",
     "text": [
      "19:46:39 - cmdstanpy - INFO - Chain [1] done processing\n",
      "19:46:39 - cmdstanpy - INFO - Chain [1] start processing\n",
      "19:46:39 - cmdstanpy - INFO - Chain [1] done processing\n",
      "19:46:39 - cmdstanpy - INFO - Chain [1] start processing\n",
      "19:46:39 - cmdstanpy - INFO - Chain [1] done processing\n",
      "19:46:39 - cmdstanpy - INFO - Chain [1] start processing\n"
     ]
    },
    {
     "name": "stdout",
     "output_type": "stream",
     "text": [
      "Params: {'seasonality_mode': 'multiplicative', 'yearly_seasonality': False, 'weekly_seasonality': False, 'daily_seasonality': False, 'seasonality_prior_scale': 0.1, 'changepoint_prior_scale': 0.5} => RMSE: 3669936.6345, Relative RMSE: 0.0969\n",
      "Params: {'seasonality_mode': 'multiplicative', 'yearly_seasonality': False, 'weekly_seasonality': False, 'daily_seasonality': False, 'seasonality_prior_scale': 1.0, 'changepoint_prior_scale': 0.01} => RMSE: 3689102.8841, Relative RMSE: 0.0974\n",
      "Params: {'seasonality_mode': 'multiplicative', 'yearly_seasonality': False, 'weekly_seasonality': False, 'daily_seasonality': False, 'seasonality_prior_scale': 1.0, 'changepoint_prior_scale': 0.1} => RMSE: 3697621.0274, Relative RMSE: 0.0977\n"
     ]
    },
    {
     "name": "stderr",
     "output_type": "stream",
     "text": [
      "19:46:39 - cmdstanpy - INFO - Chain [1] done processing\n",
      "19:46:39 - cmdstanpy - INFO - Chain [1] start processing\n",
      "19:46:39 - cmdstanpy - INFO - Chain [1] done processing\n",
      "19:46:39 - cmdstanpy - INFO - Chain [1] start processing\n",
      "19:46:39 - cmdstanpy - INFO - Chain [1] done processing\n",
      "19:46:40 - cmdstanpy - INFO - Chain [1] start processing\n"
     ]
    },
    {
     "name": "stdout",
     "output_type": "stream",
     "text": [
      "Params: {'seasonality_mode': 'multiplicative', 'yearly_seasonality': False, 'weekly_seasonality': False, 'daily_seasonality': False, 'seasonality_prior_scale': 1.0, 'changepoint_prior_scale': 0.5} => RMSE: 3669936.6345, Relative RMSE: 0.0969\n",
      "Params: {'seasonality_mode': 'multiplicative', 'yearly_seasonality': False, 'weekly_seasonality': False, 'daily_seasonality': False, 'seasonality_prior_scale': 10.0, 'changepoint_prior_scale': 0.01} => RMSE: 3689102.8841, Relative RMSE: 0.0974\n",
      "Params: {'seasonality_mode': 'multiplicative', 'yearly_seasonality': False, 'weekly_seasonality': False, 'daily_seasonality': False, 'seasonality_prior_scale': 10.0, 'changepoint_prior_scale': 0.1} => RMSE: 3697621.0274, Relative RMSE: 0.0977\n"
     ]
    },
    {
     "name": "stderr",
     "output_type": "stream",
     "text": [
      "19:46:40 - cmdstanpy - INFO - Chain [1] done processing\n"
     ]
    },
    {
     "name": "stdout",
     "output_type": "stream",
     "text": [
      "Params: {'seasonality_mode': 'multiplicative', 'yearly_seasonality': False, 'weekly_seasonality': False, 'daily_seasonality': False, 'seasonality_prior_scale': 10.0, 'changepoint_prior_scale': 0.5} => RMSE: 3669936.6345, Relative RMSE: 0.0969\n",
      "Best Params: {'seasonality_mode': 'multiplicative', 'yearly_seasonality': False, 'weekly_seasonality': False, 'daily_seasonality': True, 'seasonality_prior_scale': 1.0, 'changepoint_prior_scale': 0.5}\n",
      "Validation RMSE: 3274042.581357753\n"
     ]
    }
   ],
   "source": [
    "prophet_best_model_1, prophet_best_params_1, prophet_best_rmse_1 = model_evaluation_prophet(X_train,\n",
    "                                                                                             y_train, \n",
    "                                                                                             X_val, \n",
    "                                                                                             y_val, \n",
    "                                                                                             prophet_param_grid)\n",
    "\n",
    "print(\"Best Params:\", prophet_best_params_1)\n",
    "\n",
    "print(\"Validation RMSE:\", prophet_best_rmse_1)"
   ]
  },
  {
   "cell_type": "markdown",
   "metadata": {},
   "source": [
    "## Final prediction"
   ]
  },
  {
   "cell_type": "code",
   "execution_count": null,
   "metadata": {},
   "outputs": [
    {
     "name": "stderr",
     "output_type": "stream",
     "text": [
      "19:49:23 - cmdstanpy - INFO - Chain [1] start processing\n"
     ]
    },
    {
     "name": "stdout",
     "output_type": "stream",
     "text": [
      "Best Model: Prophet\n",
      "Best Parameters: {'seasonality_mode': 'multiplicative', 'yearly_seasonality': False, 'weekly_seasonality': False, 'daily_seasonality': True, 'seasonality_prior_scale': 1.0, 'changepoint_prior_scale': 0.5}\n",
      "Best RMSE: 2381589.984644291\n"
     ]
    },
    {
     "name": "stderr",
     "output_type": "stream",
     "text": [
      "19:49:23 - cmdstanpy - INFO - Chain [1] done processing\n"
     ]
    },
    {
     "data": {
      "image/png": "[encoded data removed]",
      "text/plain": [
       "<Figure size 1200x600 with 1 Axes>"
      ]
     },
     "metadata": {},
     "output_type": "display_data"
    },
    {
     "ename": "KeyError",
     "evalue": "\"None of ['Month Year'] are in the columns\"",
     "output_type": "error",
     "traceback": [
      "\u001b[0;31m---------------------------------------------------------------------------\u001b[0m",
      "\u001b[0;31mKeyError\u001b[0m                                  Traceback (most recent call last)",
      "\u001b[0;32m/var/folders/z6/_vn8cndd4x5dmx2cpjfdkjdr0000gn/T/ipykernel_9149/3135346885.py\u001b[0m in \u001b[0;36m?\u001b[0;34m()\u001b[0m\n\u001b[1;32m     22\u001b[0m         \u001b[0mperiod\u001b[0m\u001b[0;34m=\u001b[0m\u001b[0;36m10\u001b[0m\u001b[0;34m,\u001b[0m\u001b[0;34m\u001b[0m\u001b[0;34m\u001b[0m\u001b[0m\n\u001b[1;32m     23\u001b[0m         \u001b[0mparam\u001b[0m \u001b[0;34m=\u001b[0m\u001b[0mbest_params\u001b[0m\u001b[0;34m,\u001b[0m\u001b[0;34m\u001b[0m\u001b[0;34m\u001b[0m\u001b[0m\n\u001b[1;32m     24\u001b[0m     \u001b[0;34m)\u001b[0m\u001b[0;34m\u001b[0m\u001b[0;34m\u001b[0m\u001b[0m\n\u001b[1;32m     25\u001b[0m \u001b[0mresults\u001b[0m\u001b[0;34m.\u001b[0m\u001b[0mset_index\u001b[0m\u001b[0;34m(\u001b[0m\u001b[0;34m'ds'\u001b[0m\u001b[0;34m,\u001b[0m\u001b[0minplace\u001b[0m \u001b[0;34m=\u001b[0m \u001b[0;32mTrue\u001b[0m\u001b[0;34m)\u001b[0m\u001b[0;34m\u001b[0m\u001b[0;34m\u001b[0m\u001b[0m\n\u001b[0;32m---> 26\u001b[0;31m \u001b[0mtest_set_1\u001b[0m\u001b[0;34m.\u001b[0m\u001b[0mset_index\u001b[0m\u001b[0;34m(\u001b[0m\u001b[0;34m'Month Year'\u001b[0m\u001b[0;34m,\u001b[0m \u001b[0minplace\u001b[0m \u001b[0;34m=\u001b[0m \u001b[0;32mTrue\u001b[0m\u001b[0;34m)\u001b[0m\u001b[0;34m\u001b[0m\u001b[0;34m\u001b[0m\u001b[0m\n\u001b[0m\u001b[1;32m     27\u001b[0m \u001b[0mtest_set_1\u001b[0m\u001b[0;34m[\u001b[0m\u001b[0;34m\"Sales_EUR\"\u001b[0m\u001b[0;34m]\u001b[0m \u001b[0;34m=\u001b[0m \u001b[0mresults\u001b[0m\u001b[0;34m[\u001b[0m\u001b[0;34m\"yhat\"\u001b[0m\u001b[0;34m]\u001b[0m\u001b[0;34m\u001b[0m\u001b[0;34m\u001b[0m\u001b[0m\n\u001b[1;32m     28\u001b[0m \u001b[0mtest_set_1\u001b[0m\u001b[0;34m.\u001b[0m\u001b[0mreset_index\u001b[0m\u001b[0;34m(\u001b[0m\u001b[0minplace\u001b[0m \u001b[0;34m=\u001b[0m \u001b[0;32mTrue\u001b[0m\u001b[0;34m)\u001b[0m\u001b[0;34m\u001b[0m\u001b[0;34m\u001b[0m\u001b[0m\n\u001b[1;32m     29\u001b[0m \u001b[0mtest_set_1\u001b[0m\u001b[0;34m\u001b[0m\u001b[0;34m\u001b[0m\u001b[0m\n",
      "\u001b[0;32m/opt/anaconda3/envs/DM2425/lib/python3.12/site-packages/pandas/core/frame.py\u001b[0m in \u001b[0;36m?\u001b[0;34m(self, keys, drop, append, inplace, verify_integrity)\u001b[0m\n\u001b[1;32m   6118\u001b[0m                     \u001b[0;32mif\u001b[0m \u001b[0;32mnot\u001b[0m \u001b[0mfound\u001b[0m\u001b[0;34m:\u001b[0m\u001b[0;34m\u001b[0m\u001b[0;34m\u001b[0m\u001b[0m\n\u001b[1;32m   6119\u001b[0m                         \u001b[0mmissing\u001b[0m\u001b[0;34m.\u001b[0m\u001b[0mappend\u001b[0m\u001b[0;34m(\u001b[0m\u001b[0mcol\u001b[0m\u001b[0;34m)\u001b[0m\u001b[0;34m\u001b[0m\u001b[0;34m\u001b[0m\u001b[0m\n\u001b[1;32m   6120\u001b[0m \u001b[0;34m\u001b[0m\u001b[0m\n\u001b[1;32m   6121\u001b[0m         \u001b[0;32mif\u001b[0m \u001b[0mmissing\u001b[0m\u001b[0;34m:\u001b[0m\u001b[0;34m\u001b[0m\u001b[0;34m\u001b[0m\u001b[0m\n\u001b[0;32m-> 6122\u001b[0;31m             \u001b[0;32mraise\u001b[0m \u001b[0mKeyError\u001b[0m\u001b[0;34m(\u001b[0m\u001b[0;34mf\"\u001b[0m\u001b[0;34mNone of \u001b[0m\u001b[0;34m{\u001b[0m\u001b[0mmissing\u001b[0m\u001b[0;34m}\u001b[0m\u001b[0;34m are in the columns\u001b[0m\u001b[0;34m\"\u001b[0m\u001b[0;34m)\u001b[0m\u001b[0;34m\u001b[0m\u001b[0;34m\u001b[0m\u001b[0m\n\u001b[0m\u001b[1;32m   6123\u001b[0m \u001b[0;34m\u001b[0m\u001b[0m\n\u001b[1;32m   6124\u001b[0m         \u001b[0;32mif\u001b[0m \u001b[0minplace\u001b[0m\u001b[0;34m:\u001b[0m\u001b[0;34m\u001b[0m\u001b[0;34m\u001b[0m\u001b[0m\n\u001b[1;32m   6125\u001b[0m             \u001b[0mframe\u001b[0m \u001b[0;34m=\u001b[0m \u001b[0mself\u001b[0m\u001b[0;34m\u001b[0m\u001b[0;34m\u001b[0m\u001b[0m\n",
      "\u001b[0;31mKeyError\u001b[0m: \"None of ['Month Year'] are in the columns\""
     ]
    }
   ],
   "source": [
    "best_model, best_params, best_rmse, best_model_name = select_best_model(\n",
    "    prophet_best_model_1, prophet_best_params_1, prophet_best_rmse_1, \"Prophet\",\n",
    "    xgboost_best_model_1, xgboost_best_params_1, xgboost_best_rmse_1, \"XGBoost\"\n",
    ")\n",
    "print(f\"Best Model: {best_model_name}\")\n",
    "print(\"Best Parameters:\", best_params)\n",
    "print(\"Best RMSE:\", best_rmse)\n",
    "\n",
    "if best_model_name == \"XGBoost\":\n",
    "    results = xgboost_forecast(\n",
    "        sales_agg1,\n",
    "        df_market_1,\n",
    "        period=10,\n",
    "        params =best_params,\n",
    "    )\n",
    "else:\n",
    "    results = prophet_forecast(\n",
    "        sales_agg1,\n",
    "        df_market_1,\n",
    "        period=10,\n",
    "        param =best_params,\n",
    "    )\n",
    "results.set_index('ds',inplace = True)\n",
    "test_set_1.set_index('Month Year', inplace = True)\n",
    "test_set_1[\"Sales_EUR\"] = results[\"yhat\"]\n",
    "test_set_1.reset_index(inplace = True)\n",
    "test_set_1"
   ]
  },
  {
   "cell_type": "markdown",
   "metadata": {},
   "source": [
    "# Product 3"
   ]
  },
  {
   "cell_type": "code",
   "execution_count": null,
   "metadata": {},
   "outputs": [],
   "source": [
    "# selecte only the features that are selected in the feature selection step\n",
    "test_set_3 = test_set[test_set['Mapped_GCK'] == '#3']\n",
    "df_market_3 = df_market[selected_features_3]\n",
    "df_market_3.head()"
   ]
  },
  {
   "cell_type": "markdown",
   "metadata": {},
   "source": [
    "## Xgboost"
   ]
  },
  {
   "cell_type": "code",
   "execution_count": null,
   "metadata": {},
   "outputs": [],
   "source": [
    "X_train, X_val, y_train, y_val = train_val_split(sales_agg3, df_market_3, train_size = 0.8)\n",
    "\n",
    "X_val.info() \n",
    "\n",
    "xgboost_best_model_3, xgboost_best_params_3, xgboost_best_rmse_3 = model_evaluation_XGboost(X_train,\n",
    "                                                                                             y_train, \n",
    "                                                                                             X_val, y_val, \n",
    "                                                                                             xgboost_param_grid)\n",
    "\n",
    "print(\"Best Params:\", xgboost_best_params_3)\n",
    "print(\"Validation RMSE:\", xgboost_best_rmse_3)"
   ]
  },
  {
   "cell_type": "markdown",
   "metadata": {},
   "source": [
    "## Prophet"
   ]
  },
  {
   "cell_type": "code",
   "execution_count": null,
   "metadata": {},
   "outputs": [],
   "source": [
    "prophet_best_model_3, prophet_best_params_3, prophet_best_rmse_3 = model_evaluation_prophet(X_train,\n",
    "                                                                                             y_train, \n",
    "                                                                                             X_val, \n",
    "                                                                                             y_val, \n",
    "                                                                                             prophet_param_grid)\n",
    "\n",
    "print(\"Best Params:\", prophet_best_params_3)\n",
    "\n",
    "print(\"Validation RMSE:\", prophet_best_rmse_3)"
   ]
  },
  {
   "cell_type": "markdown",
   "metadata": {},
   "source": [
    "## Final prediction"
   ]
  },
  {
   "cell_type": "code",
   "execution_count": null,
   "metadata": {},
   "outputs": [],
   "source": [
    "best_model, best_params, best_rmse, best_model_name = select_best_model(\n",
    "    prophet_best_model_3, prophet_best_params_3, prophet_best_rmse_3, \"Prophet\",\n",
    "    xgboost_best_model_3, xgboost_best_params_3, xgboost_best_rmse_3, \"XGBoost\"\n",
    ")\n",
    "\n",
    "print(f\"Best Model: {best_model_name}\")\n",
    "print(\"Best Parameters:\", best_params)\n",
    "print(\"Best RMSE:\", best_rmse)\n",
    "\n",
    "if best_model_name == \"XGBoost\":\n",
    "    results = xgboost_forecast(\n",
    "        sales_agg3,\n",
    "        df_market_3,\n",
    "        period=10,\n",
    "        params =best_params,\n",
    "    )\n",
    "else:\n",
    "    results = prophet_forecast(\n",
    "        sales_agg3,\n",
    "        df_market_3,\n",
    "        period=10,\n",
    "        param =best_params,\n",
    "    )\n",
    "results.set_index('ds',inplace = True)\n",
    "test_set_3.set_index('Month Year', inplace = True)\n",
    "test_set_3[\"Sales_EUR\"] = results[\"yhat\"]\n",
    "test_set_3"
   ]
  },
  {
   "cell_type": "markdown",
   "metadata": {},
   "source": [
    "# Product 4"
   ]
  },
  {
   "cell_type": "code",
   "execution_count": null,
   "metadata": {},
   "outputs": [],
   "source": [
    "test_set_4 = test_set[test_set['Mapped_GCK'] == '#4']\n",
    "df_market_4 = df_market[selected_features_4]\n",
    "df_market_4.head()"
   ]
  },
  {
   "cell_type": "markdown",
   "metadata": {},
   "source": [
    "## Xgboost"
   ]
  },
  {
   "cell_type": "code",
   "execution_count": null,
   "metadata": {},
   "outputs": [],
   "source": [
    "X_train, X_val, y_train, y_val = train_val_split(sales_agg4, df_market_4, train_size = 0.8)\n",
    "\n",
    "X_val.info() \n",
    "\n",
    "xgboost_best_model_4, xgboost_best_params_4, xgboost_best_rmse_4 = model_evaluation_XGboost(X_train,\n",
    "                                                                                             y_train, \n",
    "                                                                                             X_val, y_val, \n",
    "                                                                                             xgboost_param_grid)\n",
    "\n",
    "print(\"Best Params:\", xgboost_best_params_4)\n",
    "print(\"Validation RMSE:\", xgboost_best_rmse_4)"
   ]
  },
  {
   "cell_type": "markdown",
   "metadata": {},
   "source": [
    "## Prophet"
   ]
  },
  {
   "cell_type": "code",
   "execution_count": null,
   "metadata": {},
   "outputs": [],
   "source": [
    "prophet_best_model_4, prophet_best_params_4, prophet_best_rmse_4 = model_evaluation_prophet(X_train,\n",
    "                                                                                             y_train, \n",
    "                                                                                             X_val, \n",
    "                                                                                             y_val, \n",
    "                                                                                             prophet_param_grid)\n",
    "\n",
    "print(\"Best Params:\", prophet_best_params_4)\n",
    "\n",
    "print(\"Validation RMSE:\", prophet_best_rmse_4)"
   ]
  },
  {
   "cell_type": "code",
   "execution_count": null,
   "metadata": {},
   "outputs": [],
   "source": [
    "best_model, best_params, best_rmse, best_model_name = select_best_model(\n",
    "    prophet_best_model_4, prophet_best_params_4, prophet_best_rmse_4, \"Prophet\",\n",
    "    xgboost_best_model_4, xgboost_best_params_4, xgboost_best_rmse_4, \"XGBoost\"\n",
    ")\n",
    "\n",
    "print(f\"Best Model: {best_model_name}\")\n",
    "print(\"Best Parameters:\", best_params)\n",
    "print(\"Best RMSE:\", best_rmse)\n",
    "\n",
    "if best_model_name == \"XGBoost\":\n",
    "    results = xgboost_forecast(\n",
    "        sales_agg4,\n",
    "        df_market_4,\n",
    "        period=10,\n",
    "        params =best_params,\n",
    "    )\n",
    "else:\n",
    "    results = prophet_forecast(\n",
    "        sales_agg4,\n",
    "        df_market_4,\n",
    "        period=10,\n",
    "        param =best_params,\n",
    "    )\n",
    "results.set_index('ds',inplace = True)\n",
    "test_set_4.set_index('Month Year', inplace = True)\n",
    "test_set_4[\"Sales_EUR\"] = results[\"yhat\"]\n",
    "test_set_4"
   ]
  },
  {
   "cell_type": "markdown",
   "metadata": {},
   "source": [
    "# Product 5"
   ]
  },
  {
   "cell_type": "code",
   "execution_count": null,
   "metadata": {},
   "outputs": [],
   "source": [
    "# selecte only the features that are selected in the feature selection step\n",
    "test_set_5 = test_set[test_set['Mapped_GCK'] == '#5']\n",
    "df_market_5 = df_market[selected_features_5]\n",
    "df_market_5.head()"
   ]
  },
  {
   "cell_type": "markdown",
   "metadata": {},
   "source": [
    "## Xgboost"
   ]
  },
  {
   "cell_type": "code",
   "execution_count": null,
   "metadata": {},
   "outputs": [],
   "source": [
    "X_train, X_val, y_train, y_val = train_val_split(sales_agg5, df_market_5, train_size = 0.8)\n",
    "\n",
    "X_val.info() \n",
    "\n",
    "xgboost_best_model_5, xgboost_best_params_5, xgboost_best_rmse_5 = model_evaluation_XGboost(X_train,\n",
    "                                                                                             y_train, \n",
    "                                                                                             X_val, y_val, \n",
    "                                                                                             xgboost_param_grid)\n",
    "\n",
    "print(\"Best Params:\", xgboost_best_params_5)\n",
    "print(\"Validation RMSE:\", xgboost_best_rmse_5)"
   ]
  },
  {
   "cell_type": "markdown",
   "metadata": {},
   "source": [
    "## Prophet"
   ]
  },
  {
   "cell_type": "code",
   "execution_count": null,
   "metadata": {},
   "outputs": [],
   "source": [
    "prophet_best_model_5, prophet_best_params_5, prophet_best_rmse_5 = model_evaluation_prophet(X_train,\n",
    "                                                                                             y_train, \n",
    "                                                                                             X_val, \n",
    "                                                                                             y_val, \n",
    "                                                                                             prophet_param_grid)\n",
    "\n",
    "print(\"Best Params:\", prophet_best_params_5)\n",
    "\n",
    "print(\"Validation RMSE:\", prophet_best_rmse_5)"
   ]
  },
  {
   "cell_type": "markdown",
   "metadata": {},
   "source": [
    "## Final prediction"
   ]
  },
  {
   "cell_type": "code",
   "execution_count": null,
   "metadata": {},
   "outputs": [],
   "source": [
    "best_model, best_params, best_rmse, best_model_name = select_best_model(\n",
    "    prophet_best_model_5, prophet_best_params_5, prophet_best_rmse_5, \"Prophet\",\n",
    "    xgboost_best_model_5, xgboost_best_params_5, xgboost_best_rmse_5, \"XGBoost\"\n",
    ")\n",
    "\n",
    "print(f\"Best Model: {best_model_name}\")\n",
    "print(\"Best Parameters:\", best_params)\n",
    "print(\"Best RMSE:\", best_rmse)\n",
    "\n",
    "if best_model_name == \"XGBoost\":\n",
    "    results = xgboost_forecast(\n",
    "        sales_agg5,\n",
    "        df_market_5,\n",
    "        period=10,\n",
    "        params =best_params,\n",
    "    )\n",
    "else:\n",
    "    results = prophet_forecast(\n",
    "        sales_agg5,\n",
    "        df_market_5,\n",
    "        period=10,\n",
    "        param =best_params,\n",
    "    )\n",
    "results.set_index('ds',inplace = True)\n",
    "test_set_5.set_index('Month Year', inplace = True)\n",
    "test_set_5[\"Sales_EUR\"] = results[\"yhat\"]\n",
    "test_set_5"
   ]
  },
  {
   "cell_type": "markdown",
   "metadata": {},
   "source": [
    "# Product 6"
   ]
  },
  {
   "cell_type": "code",
   "execution_count": null,
   "metadata": {},
   "outputs": [],
   "source": [
    "# selecte only the features that are selected in the feature selection step\n",
    "test_set_6 = test_set[test_set['Mapped_GCK'] == '#6']\n",
    "df_market_6 = df_market[selected_features_6]\n",
    "df_market_6.head()"
   ]
  },
  {
   "cell_type": "markdown",
   "metadata": {},
   "source": [
    "## Xgboost"
   ]
  },
  {
   "cell_type": "code",
   "execution_count": null,
   "metadata": {},
   "outputs": [],
   "source": [
    "X_train, X_val, y_train, y_val = train_val_split(sales_agg6, df_market_6, train_size = 0.8)\n",
    "\n",
    "X_val.info() \n",
    "\n",
    "xgboost_best_model_6, xgboost_best_params_6, xgboost_best_rmse_6 = model_evaluation_XGboost(X_train,\n",
    "                                                                                             y_train, \n",
    "                                                                                             X_val, y_val, \n",
    "                                                                                             xgboost_param_grid)\n",
    "\n",
    "print(\"Best Params:\", xgboost_best_params_6)\n",
    "print(\"Validation RMSE:\", xgboost_best_rmse_6)\n"
   ]
  },
  {
   "cell_type": "markdown",
   "metadata": {},
   "source": [
    "## Prophet"
   ]
  },
  {
   "cell_type": "code",
   "execution_count": null,
   "metadata": {},
   "outputs": [],
   "source": [
    "prophet_best_model_6, prophet_best_params_6, prophet_best_rmse_6 = model_evaluation_prophet(X_train,\n",
    "                                                                                             y_train, \n",
    "                                                                                             X_val, \n",
    "                                                                                             y_val, \n",
    "                                                                                             prophet_param_grid)\n",
    "\n",
    "print(\"Best Params:\", prophet_best_params_6)\n",
    "\n",
    "print(\"Validation RMSE:\", prophet_best_rmse_6)"
   ]
  },
  {
   "cell_type": "markdown",
   "metadata": {},
   "source": [
    "## Final prediction"
   ]
  },
  {
   "cell_type": "code",
   "execution_count": null,
   "metadata": {},
   "outputs": [],
   "source": [
    "best_model, best_params, best_rmse, best_model_name = select_best_model(\n",
    "    prophet_best_model_6, prophet_best_params_6, prophet_best_rmse_6, \"Prophet\",\n",
    "    xgboost_best_model_6, xgboost_best_params_6, xgboost_best_rmse_6, \"XGBoost\"\n",
    ")\n",
    "\n",
    "print(f\"Best Model: {best_model_name}\")\n",
    "print(\"Best Parameters:\", best_params)\n",
    "print(\"Best RMSE:\", best_rmse)\n",
    "\n",
    "if best_model_name == \"XGBoost\":\n",
    "    results = xgboost_forecast(\n",
    "        sales_agg6,\n",
    "        df_market_6,\n",
    "        period=10,\n",
    "        params =best_params,\n",
    "    )\n",
    "else:\n",
    "    results = prophet_forecast(\n",
    "        sales_agg6,\n",
    "        df_market_6,\n",
    "        period=10,\n",
    "        param =best_params,\n",
    "    )\n",
    "results.set_index('ds',inplace = True)\n",
    "test_set_6.set_index('Month Year', inplace = True)\n",
    "test_set_6[\"Sales_EUR\"] = results[\"yhat\"]\n",
    "test_set_6"
   ]
  },
  {
   "cell_type": "markdown",
   "metadata": {},
   "source": [
    "# Product 8"
   ]
  },
  {
   "cell_type": "code",
   "execution_count": null,
   "metadata": {},
   "outputs": [],
   "source": [
    "# selecte only the features that are selected in the feature selection step\n",
    "test_set_8 = test_set[test_set['Mapped_GCK'] == '#8']\n",
    "df_market_8 = df_market[selected_features_8]\n",
    "df_market_8.head()"
   ]
  },
  {
   "cell_type": "markdown",
   "metadata": {},
   "source": [
    "## Xgboost"
   ]
  },
  {
   "cell_type": "code",
   "execution_count": null,
   "metadata": {},
   "outputs": [],
   "source": [
    "X_train, X_val, y_train, y_val = train_val_split(sales_agg8, df_market_8, train_size = 0.8)\n",
    "\n",
    "X_val.info() \n",
    "\n",
    "xgboost_best_model_8, xgboost_best_params_8, xgboost_best_rmse_8 = model_evaluation_XGboost(X_train,\n",
    "                                                                                             y_train, \n",
    "                                                                                             X_val, y_val, \n",
    "                                                                                             xgboost_param_grid)\n",
    "\n",
    "print(\"Best Params:\", xgboost_best_params_8)\n",
    "print(\"Validation RMSE:\", xgboost_best_rmse_8)"
   ]
  },
  {
   "cell_type": "markdown",
   "metadata": {},
   "source": [
    "## Prophet"
   ]
  },
  {
   "cell_type": "code",
   "execution_count": null,
   "metadata": {},
   "outputs": [],
   "source": [
    "prophet_best_model_8, prophet_best_params_8, prophet_best_rmse_8 = model_evaluation_prophet(X_train,\n",
    "                                                                                             y_train, \n",
    "                                                                                             X_val, \n",
    "                                                                                             y_val, \n",
    "                                                                                             prophet_param_grid)\n",
    "\n",
    "print(\"Best Params:\", prophet_best_params_8)\n",
    "\n",
    "print(\"Validation RMSE:\", prophet_best_rmse_8)"
   ]
  },
  {
   "cell_type": "markdown",
   "metadata": {},
   "source": [
    "## Final prediction"
   ]
  },
  {
   "cell_type": "code",
   "execution_count": null,
   "metadata": {},
   "outputs": [],
   "source": [
    "best_model, best_params, best_rmse, best_model_name = select_best_model(\n",
    "    prophet_best_model_8, prophet_best_params_8, prophet_best_rmse_8, \"Prophet\",\n",
    "    xgboost_best_model_8, xgboost_best_params_8, xgboost_best_rmse_8, \"XGBoost\"\n",
    ")\n",
    "\n",
    "print(f\"Best Model: {best_model_name}\")\n",
    "print(\"Best Parameters:\", best_params)\n",
    "print(\"Best RMSE:\", best_rmse)\n",
    "\n",
    "if best_model_name == \"XGBoost\":\n",
    "    results = xgboost_forecast(\n",
    "        sales_agg8,\n",
    "        df_market_8,\n",
    "        period=10,\n",
    "        params =best_params,\n",
    "    )\n",
    "else:\n",
    "    results = prophet_forecast(\n",
    "        sales_agg8,\n",
    "        df_market_8,\n",
    "        period=10,\n",
    "        param =best_params,\n",
    "    )\n",
    "results.set_index('ds',inplace = True)\n",
    "test_set_8.set_index('Month Year', inplace = True)\n",
    "test_set_8[\"Sales_EUR\"] = results[\"yhat\"]\n",
    "test_set_8"
   ]
  },
  {
   "cell_type": "markdown",
   "metadata": {},
   "source": [
    "# Product 9"
   ]
  },
  {
   "cell_type": "code",
   "execution_count": null,
   "metadata": {},
   "outputs": [],
   "source": [
    "# selecte only the features that are selected in the feature selection step\n",
    "test_set_9 = test_set[test_set['Mapped_GCK'] == '#9']\n",
    "df_market_9 = df_market[selected_features_9]\n",
    "df_market_9.head()"
   ]
  },
  {
   "cell_type": "markdown",
   "metadata": {},
   "source": [
    "## Xgboost "
   ]
  },
  {
   "cell_type": "code",
   "execution_count": null,
   "metadata": {},
   "outputs": [],
   "source": [
    "X_train, X_val, y_train, y_val = train_val_split(sales_agg9, df_market_9, train_size = 0.8)\n",
    "\n",
    "X_val.info() \n",
    "\n",
    "xgboost_best_model_9, xgboost_best_params_9, xgboost_best_rmse_9 = model_evaluation_XGboost(X_train,\n",
    "                                                                                             y_train, \n",
    "                                                                                             X_val, y_val, \n",
    "                                                                                             xgboost_param_grid)\n",
    "\n",
    "print(\"Best Params:\", xgboost_best_params_9)\n",
    "print(\"Validation RMSE:\", xgboost_best_rmse_9)"
   ]
  },
  {
   "cell_type": "markdown",
   "metadata": {},
   "source": [
    "## Prophet"
   ]
  },
  {
   "cell_type": "code",
   "execution_count": null,
   "metadata": {},
   "outputs": [],
   "source": [
    "prophet_best_model_9, prophet_best_params_9, prophet_best_rmse_9 = model_evaluation_prophet(X_train,\n",
    "                                                                                             y_train, \n",
    "                                                                                             X_val, \n",
    "                                                                                             y_val, \n",
    "                                                                                             prophet_param_grid)\n",
    "\n",
    "print(\"Best Params:\", prophet_best_params_9)\n",
    "\n",
    "print(\"Validation RMSE:\", prophet_best_rmse_9)"
   ]
  },
  {
   "cell_type": "markdown",
   "metadata": {},
   "source": [
    "## Final prediction "
   ]
  },
  {
   "cell_type": "code",
   "execution_count": null,
   "metadata": {},
   "outputs": [],
   "source": [
    "best_model, best_params, best_rmse, best_model_name = select_best_model(\n",
    "    prophet_best_model_9, prophet_best_params_9, prophet_best_rmse_9, \"Prophet\",\n",
    "    xgboost_best_model_9, xgboost_best_params_9, xgboost_best_rmse_9, \"XGBoost\"\n",
    ")\n",
    "\n",
    "print(f\"Best Model: {best_model_name}\")\n",
    "print(\"Best Parameters:\", best_params)\n",
    "print(\"Best RMSE:\", best_rmse)\n",
    "\n",
    "if best_model_name == \"XGBoost\":\n",
    "    results = xgboost_forecast(\n",
    "        sales_agg9,\n",
    "        df_market_9,\n",
    "        period=10,\n",
    "        params =best_params,\n",
    "    )\n",
    "else:\n",
    "    results = prophet_forecast(\n",
    "        sales_agg9,\n",
    "        df_market_9,\n",
    "        period=10,\n",
    "        param =best_params,\n",
    "    )\n",
    "results.set_index('ds',inplace = True)\n",
    "test_set_9.set_index('Month Year', inplace = True)\n",
    "test_set_9[\"Sales_EUR\"] = results[\"yhat\"]\n",
    "test_set_9"
   ]
  },
  {
   "cell_type": "markdown",
   "metadata": {},
   "source": [
    "# Product 11"
   ]
  },
  {
   "cell_type": "code",
   "execution_count": null,
   "metadata": {},
   "outputs": [],
   "source": [
    "# selecte only the features that are selected in the feature selection step\n",
    "test_set_11 = test_set[test_set['Mapped_GCK'] == '#11']\n",
    "df_market_11 = df_market[selected_features_11]\n",
    "df_market_11.head()"
   ]
  },
  {
   "cell_type": "markdown",
   "metadata": {},
   "source": [
    "## Xgboost"
   ]
  },
  {
   "cell_type": "code",
   "execution_count": null,
   "metadata": {},
   "outputs": [],
   "source": [
    "X_train, X_val, y_train, y_val = train_val_split(sales_agg11, df_market_11, train_size = 0.8)\n",
    "\n",
    "X_val.info() \n",
    "\n",
    "xgboost_best_model_11, xgboost_best_params_11, xgboost_best_rmse_11 = model_evaluation_XGboost(X_train,\n",
    "                                                                                             y_train, \n",
    "                                                                                             X_val, y_val, \n",
    "                                                                                             xgboost_param_grid)\n",
    "\n",
    "print(\"Best Params:\", xgboost_best_params_11)\n",
    "print(\"Validation RMSE:\", xgboost_best_rmse_11)"
   ]
  },
  {
   "cell_type": "markdown",
   "metadata": {},
   "source": [
    "## Prophet"
   ]
  },
  {
   "cell_type": "code",
   "execution_count": null,
   "metadata": {},
   "outputs": [],
   "source": [
    "prophet_best_model_11, prophet_best_params_11, prophet_best_rmse_11 = model_evaluation_prophet(X_train,\n",
    "                                                                                             y_train, \n",
    "                                                                                             X_val, \n",
    "                                                                                             y_val, \n",
    "                                                                                             prophet_param_grid)\n",
    "\n",
    "print(\"Best Params:\", prophet_best_params_11)\n",
    "\n",
    "print(\"Validation RMSE:\", prophet_best_rmse_11)"
   ]
  },
  {
   "cell_type": "markdown",
   "metadata": {},
   "source": [
    "## Final prediction "
   ]
  },
  {
   "cell_type": "code",
   "execution_count": null,
   "metadata": {},
   "outputs": [],
   "source": [
    "best_model, best_params, best_rmse, best_model_name = select_best_model(\n",
    "    prophet_best_model_11, prophet_best_params_11, prophet_best_rmse_11, \"Prophet\",\n",
    "    xgboost_best_model_11, xgboost_best_params_11, xgboost_best_rmse_11, \"XGBoost\"\n",
    ")\n",
    "\n",
    "print(f\"Best Model: {best_model_name}\")\n",
    "print(\"Best Parameters:\", best_params)\n",
    "print(\"Best RMSE:\", best_rmse)\n",
    "\n",
    "if best_model_name == \"XGBoost\":\n",
    "    results = xgboost_forecast(\n",
    "        sales_agg11,\n",
    "        df_market_11,\n",
    "        period=10,\n",
    "        params =best_params,\n",
    "    )\n",
    "else:\n",
    "    results = prophet_forecast(\n",
    "        sales_agg11,\n",
    "        df_market_11,\n",
    "        period=10,\n",
    "        param =best_params,\n",
    "    )\n",
    "results.set_index('ds',inplace = True)\n",
    "test_set_11.set_index('Month Year', inplace = True)\n",
    "test_set_11[\"Sales_EUR\"] = results[\"yhat\"]\n",
    "test_set_11"
   ]
  },
  {
   "cell_type": "markdown",
   "metadata": {},
   "source": [
    "# Product 12"
   ]
  },
  {
   "cell_type": "code",
   "execution_count": null,
   "metadata": {},
   "outputs": [],
   "source": [
    "# selecte only the features that are selected in the feature selection step\n",
    "test_set_12 = test_set[test_set['Mapped_GCK'] == '#12']\n",
    "df_market_12 = df_market[selected_features_12]\n",
    "df_market_12.head()"
   ]
  },
  {
   "cell_type": "markdown",
   "metadata": {},
   "source": [
    "## Xgboost"
   ]
  },
  {
   "cell_type": "code",
   "execution_count": null,
   "metadata": {},
   "outputs": [],
   "source": [
    "X_train, X_val, y_train, y_val = train_val_split(sales_agg12, df_market_12, train_size = 0.8)\n",
    "\n",
    "X_val.info() \n",
    "\n",
    "xgboost_best_model_12, xgboost_best_params_12, xgboost_best_rmse_12 = model_evaluation_XGboost(X_train,\n",
    "                                                                                             y_train, \n",
    "                                                                                             X_val, y_val, \n",
    "                                                                                             xgboost_param_grid)\n",
    "\n",
    "print(\"Best Params:\", xgboost_best_params_12)\n",
    "print(\"Validation RMSE:\", xgboost_best_rmse_12)"
   ]
  },
  {
   "cell_type": "markdown",
   "metadata": {},
   "source": [
    "## Prophet"
   ]
  },
  {
   "cell_type": "code",
   "execution_count": null,
   "metadata": {},
   "outputs": [],
   "source": [
    "prophet_best_model_12, prophet_best_params_12, prophet_best_rmse_12 = model_evaluation_prophet(X_train,\n",
    "                                                                                             y_train, \n",
    "                                                                                             X_val, \n",
    "                                                                                             y_val, \n",
    "                                                                                             prophet_param_grid)\n",
    "\n",
    "print(\"Best Params:\", prophet_best_params_12)\n",
    "\n",
    "print(\"Validation RMSE:\", prophet_best_rmse_12)"
   ]
  },
  {
   "cell_type": "markdown",
   "metadata": {},
   "source": [
    "## Final prediction"
   ]
  },
  {
   "cell_type": "code",
   "execution_count": null,
   "metadata": {},
   "outputs": [],
   "source": [
    "best_model, best_params, best_rmse, best_model_name = select_best_model(\n",
    "    prophet_best_model_12, prophet_best_params_12, prophet_best_rmse_12, \"Prophet\",\n",
    "    xgboost_best_model_12, xgboost_best_params_12, xgboost_best_rmse_12, \"XGBoost\"\n",
    ")\n",
    "\n",
    "print(f\"Best Model: {best_model_name}\")\n",
    "print(\"Best Parameters:\", best_params)\n",
    "print(\"Best RMSE:\", best_rmse)\n",
    "\n",
    "if best_model_name == \"XGBoost\":\n",
    "    results = xgboost_forecast(\n",
    "        sales_agg12,\n",
    "        df_market_12,\n",
    "        period=10,\n",
    "        params =best_params,\n",
    "    )\n",
    "else:\n",
    "    results = prophet_forecast(\n",
    "        sales_agg12,\n",
    "        df_market_12,\n",
    "        period=10,\n",
    "        param =best_params,\n",
    "    )\n",
    "results.set_index('ds',inplace = True)\n",
    "test_set_12.set_index('Month Year', inplace = True)\n",
    "test_set_12[\"Sales_EUR\"] = results[\"yhat\"]\n",
    "test_set_12"
   ]
  },
  {
   "cell_type": "markdown",
   "metadata": {},
   "source": [
    "# Product 13"
   ]
  },
  {
   "cell_type": "code",
   "execution_count": null,
   "metadata": {},
   "outputs": [],
   "source": [
    "# selecte only the features that are selected in the feature selection step\n",
    "test_set_13 = test_set[test_set['Mapped_GCK'] == '#13']\n",
    "df_market_13 = df_market[selected_features_13]\n",
    "df_market_13.head()"
   ]
  },
  {
   "cell_type": "markdown",
   "metadata": {},
   "source": [
    "## Xgboost"
   ]
  },
  {
   "cell_type": "code",
   "execution_count": null,
   "metadata": {},
   "outputs": [],
   "source": [
    "X_train, X_val, y_train, y_val = train_val_split(sales_agg13, df_market_13, train_size = 0.8)\n",
    "\n",
    "X_val.info() \n",
    "\n",
    "xgboost_best_model_13, xgboost_best_params_13, xgboost_best_rmse_13 = model_evaluation_XGboost(X_train,\n",
    "                                                                                             y_train, \n",
    "                                                                                             X_val, y_val, \n",
    "                                                                                             xgboost_param_grid)\n",
    "\n",
    "print(\"Best Params:\", xgboost_best_params_13)\n",
    "print(\"Validation RMSE:\", xgboost_best_rmse_13)"
   ]
  },
  {
   "cell_type": "markdown",
   "metadata": {},
   "source": [
    "## Prophet"
   ]
  },
  {
   "cell_type": "code",
   "execution_count": null,
   "metadata": {},
   "outputs": [],
   "source": [
    "prophet_best_model_13, prophet_best_params_13, prophet_best_rmse_13 = model_evaluation_prophet(X_train,\n",
    "                                                                                             y_train, \n",
    "                                                                                             X_val, \n",
    "                                                                                             y_val, \n",
    "                                                                                             prophet_param_grid)\n",
    "\n",
    "print(\"Best Params:\", prophet_best_params_13)\n",
    "\n",
    "print(\"Validation RMSE:\", prophet_best_rmse_13)"
   ]
  },
  {
   "cell_type": "markdown",
   "metadata": {},
   "source": [
    "## Final prediction "
   ]
  },
  {
   "cell_type": "code",
   "execution_count": null,
   "metadata": {},
   "outputs": [],
   "source": [
    "best_model, best_params, best_rmse, best_model_name = select_best_model(\n",
    "    prophet_best_model_13, prophet_best_params_13, prophet_best_rmse_13, \"Prophet\",\n",
    "    xgboost_best_model_13, xgboost_best_params_13, xgboost_best_rmse_13, \"XGBoost\"\n",
    ")\n",
    "\n",
    "print(f\"Best Model: {best_model_name}\")\n",
    "print(\"Best Parameters:\", best_params)\n",
    "print(\"Best RMSE:\", best_rmse)\n",
    "\n",
    "if best_model_name == \"XGBoost\":\n",
    "    results = xgboost_forecast(\n",
    "        sales_agg13,\n",
    "        df_market_13,\n",
    "        period=10,\n",
    "        params =best_params,\n",
    "    )\n",
    "else:\n",
    "    results = prophet_forecast(\n",
    "        sales_agg13,\n",
    "        df_market_13,\n",
    "        period=10,\n",
    "        param =best_params,\n",
    "    )\n",
    "results.set_index('ds',inplace = True)\n",
    "test_set_13.set_index('Month Year', inplace = True)\n",
    "test_set_13[\"Sales_EUR\"] = results[\"yhat\"]\n",
    "test_set_13"
   ]
  },
  {
   "cell_type": "markdown",
   "metadata": {},
   "source": [
    "# Product 14"
   ]
  },
  {
   "cell_type": "code",
   "execution_count": null,
   "metadata": {},
   "outputs": [],
   "source": [
    "# selecte only the features that are selected in the feature selection step\n",
    "test_set_14 = test_set[test_set['Mapped_GCK'] == '#14']\n",
    "df_market_14 = df_market[selected_features_14]\n",
    "df_market_14.head()"
   ]
  },
  {
   "cell_type": "markdown",
   "metadata": {},
   "source": [
    "## Xgboost"
   ]
  },
  {
   "cell_type": "code",
   "execution_count": null,
   "metadata": {},
   "outputs": [],
   "source": [
    "X_train, X_val, y_train, y_val = train_val_split(sales_agg14, df_market_14, train_size = 0.8)\n",
    "\n",
    "X_val.info() \n",
    "\n",
    "xgboost_best_model_14, xgboost_best_params_14, xgboost_best_rmse_14 = model_evaluation_XGboost(X_train,\n",
    "                                                                                             y_train, \n",
    "                                                                                             X_val, y_val, \n",
    "                                                                                             xgboost_param_grid)\n",
    "\n",
    "print(\"Best Params:\", xgboost_best_params_14)\n",
    "print(\"Validation RMSE:\", xgboost_best_rmse_14)"
   ]
  },
  {
   "cell_type": "markdown",
   "metadata": {},
   "source": [
    "## Prophet"
   ]
  },
  {
   "cell_type": "code",
   "execution_count": null,
   "metadata": {},
   "outputs": [],
   "source": [
    "prophet_best_model_14, prophet_best_params_14, prophet_best_rmse_14 = model_evaluation_prophet(X_train,\n",
    "                                                                                             y_train, \n",
    "                                                                                             X_val, \n",
    "                                                                                             y_val, \n",
    "                                                                                             prophet_param_grid)\n",
    "\n",
    "print(\"Best Params:\", prophet_best_params_14)\n",
    "\n",
    "print(\"Validation RMSE:\", prophet_best_rmse_14)"
   ]
  },
  {
   "cell_type": "markdown",
   "metadata": {},
   "source": [
    "## Final prediction "
   ]
  },
  {
   "cell_type": "code",
   "execution_count": null,
   "metadata": {},
   "outputs": [],
   "source": [
    "best_model, best_params, best_rmse, best_model_name = select_best_model(\n",
    "    prophet_best_model_14, prophet_best_params_14, prophet_best_rmse_14, \"Prophet\",\n",
    "    xgboost_best_model_14, xgboost_best_params_14, xgboost_best_rmse_14, \"XGBoost\"\n",
    ")\n",
    "\n",
    "print(f\"Best Model: {best_model_name}\")\n",
    "print(\"Best Parameters:\", best_params)\n",
    "print(\"Best RMSE:\", best_rmse)\n",
    "\n",
    "if best_model_name == \"XGBoost\":\n",
    "    results = xgboost_forecast(\n",
    "        sales_agg14,\n",
    "        df_market_14,\n",
    "        period=10,\n",
    "        params =best_params,\n",
    "    )\n",
    "else:\n",
    "    results = prophet_forecast(\n",
    "        sales_agg14,\n",
    "        df_market_14,\n",
    "        period=10,\n",
    "        param =best_params,\n",
    "    )\n",
    "results.set_index('ds',inplace = True)\n",
    "test_set_14.set_index('Month Year', inplace = True)\n",
    "test_set_14[\"Sales_EUR\"] = results[\"yhat\"]\n",
    "test_set_14"
   ]
  },
  {
   "cell_type": "markdown",
   "metadata": {},
   "source": [
    "# Product 16"
   ]
  },
  {
   "cell_type": "code",
   "execution_count": null,
   "metadata": {},
   "outputs": [],
   "source": [
    "# selecte only the features that are selected in the feature selection step\n",
    "test_set_16 = test_set[test_set['Mapped_GCK'] == '#16']\n",
    "df_market_16 = df_market[selected_features_16]\n",
    "df_market_16.head()"
   ]
  },
  {
   "cell_type": "markdown",
   "metadata": {},
   "source": [
    "## Xgboost"
   ]
  },
  {
   "cell_type": "code",
   "execution_count": null,
   "metadata": {},
   "outputs": [],
   "source": [
    "X_train, X_val, y_train, y_val = train_val_split(sales_agg16, df_market_16, train_size = 0.8)\n",
    "\n",
    "X_val.info() \n",
    "\n",
    "xgboost_best_model_16, xgboost_best_params_16, xgboost_best_rmse_16 = model_evaluation_XGboost(X_train,\n",
    "                                                                                             y_train, \n",
    "                                                                                             X_val, y_val, \n",
    "                                                                                             xgboost_param_grid)\n",
    "\n",
    "print(\"Best Params:\", xgboost_best_params_16)\n",
    "print(\"Validation RMSE:\", xgboost_best_rmse_16)"
   ]
  },
  {
   "cell_type": "markdown",
   "metadata": {},
   "source": [
    "## Prophet"
   ]
  },
  {
   "cell_type": "code",
   "execution_count": null,
   "metadata": {},
   "outputs": [],
   "source": [
    "prophet_best_model_16, prophet_best_params_16, prophet_best_rmse_16 = model_evaluation_prophet(X_train,\n",
    "                                                                                             y_train, \n",
    "                                                                                             X_val, \n",
    "                                                                                             y_val, \n",
    "                                                                                             prophet_param_grid)\n",
    "\n",
    "print(\"Best Params:\", prophet_best_params_16)\n",
    "\n",
    "print(\"Validation RMSE:\", prophet_best_rmse_16)"
   ]
  },
  {
   "cell_type": "markdown",
   "metadata": {},
   "source": [
    "## Final prediction "
   ]
  },
  {
   "cell_type": "code",
   "execution_count": null,
   "metadata": {},
   "outputs": [],
   "source": [
    "best_model, best_params, best_rmse, best_model_name = select_best_model(\n",
    "    prophet_best_model_16, prophet_best_params_16, prophet_best_rmse_16, \"Prophet\",\n",
    "    xgboost_best_model_16, xgboost_best_params_16, xgboost_best_rmse_16, \"XGBoost\"\n",
    ")\n",
    "\n",
    "print(f\"Best Model: {best_model_name}\")\n",
    "print(\"Best Parameters:\", best_params)\n",
    "print(\"Best RMSE:\", best_rmse)\n",
    "\n",
    "if best_model_name == \"XGBoost\":\n",
    "    results = xgboost_forecast(\n",
    "        sales_agg16,\n",
    "        df_market_16,\n",
    "        period=10,\n",
    "        params =best_params,\n",
    "    )\n",
    "else:\n",
    "    results = prophet_forecast(\n",
    "        sales_agg16,\n",
    "        df_market_16,\n",
    "        period=10,\n",
    "        param =best_params,\n",
    "    )\n",
    "results.set_index('ds',inplace = True)\n",
    "test_set_16.set_index('Month Year', inplace = True)\n",
    "test_set_16[\"Sales_EUR\"] = results[\"yhat\"]\n",
    "test_set_16"
   ]
  },
  {
   "cell_type": "markdown",
   "metadata": {},
   "source": [
    "# Product 20"
   ]
  },
  {
   "cell_type": "code",
   "execution_count": null,
   "metadata": {},
   "outputs": [],
   "source": [
    "# selecte only the features that are selected in the feature selection step\n",
    "test_set_20 = test_set[test_set['Mapped_GCK'] == '#20']\n",
    "df_market_20 = df_market[selected_features_20]\n",
    "df_market_20.head()"
   ]
  },
  {
   "cell_type": "markdown",
   "metadata": {},
   "source": [
    "## Xgboost"
   ]
  },
  {
   "cell_type": "code",
   "execution_count": null,
   "metadata": {},
   "outputs": [],
   "source": [
    "X_train, X_val, y_train, y_val = train_val_split(sales_agg20, df_market_20, train_size = 0.8)\n",
    "\n",
    "X_val.info() \n",
    "\n",
    "xgboost_best_model_20, xgboost_best_params_20, xgboost_best_rmse_20 = model_evaluation_XGboost(X_train,\n",
    "                                                                                             y_train, \n",
    "                                                                                             X_val, y_val, \n",
    "                                                                                             xgboost_param_grid)\n",
    "\n",
    "print(\"Best Params:\", xgboost_best_params_20)\n",
    "print(\"Validation RMSE:\", xgboost_best_rmse_20)\n"
   ]
  },
  {
   "cell_type": "markdown",
   "metadata": {},
   "source": [
    "## Prophet"
   ]
  },
  {
   "cell_type": "code",
   "execution_count": null,
   "metadata": {},
   "outputs": [],
   "source": [
    "prophet_best_model_20, prophet_best_params_20, prophet_best_rmse_20 = model_evaluation_prophet(X_train,\n",
    "                                                                                             y_train, \n",
    "                                                                                             X_val, \n",
    "                                                                                             y_val, \n",
    "                                                                                             prophet_param_grid)\n",
    "\n",
    "print(\"Best Params:\", prophet_best_params_20)\n",
    "\n",
    "print(\"Validation RMSE:\", prophet_best_rmse_20)"
   ]
  },
  {
   "cell_type": "markdown",
   "metadata": {},
   "source": [
    "## Final prediction"
   ]
  },
  {
   "cell_type": "code",
   "execution_count": null,
   "metadata": {},
   "outputs": [],
   "source": [
    "best_model, best_params, best_rmse, best_model_name = select_best_model(\n",
    "    prophet_best_model_20, prophet_best_params_20, prophet_best_rmse_20, \"Prophet\",\n",
    "    xgboost_best_model_20, xgboost_best_params_20, xgboost_best_rmse_20, \"XGBoost\"\n",
    ")\n",
    "\n",
    "print(f\"Best Model: {best_model_name}\")\n",
    "print(\"Best Parameters:\", best_params)\n",
    "print(\"Best RMSE:\", best_rmse)\n",
    "\n",
    "if best_model_name == \"XGBoost\":\n",
    "    results = xgboost_forecast(\n",
    "        sales_agg20,\n",
    "        df_market_20,\n",
    "        period=10,\n",
    "        params =best_params,\n",
    "    )\n",
    "else:\n",
    "    results = prophet_forecast(\n",
    "        sales_agg20,\n",
    "        df_market_20,\n",
    "        period=10,\n",
    "        param =best_params,\n",
    "    )\n",
    "results.set_index('ds',inplace = True)\n",
    "test_set_20.set_index('Month Year', inplace = True)\n",
    "test_set_20[\"Sales_EUR\"] = results[\"yhat\"]\n",
    "test_set_20"
   ]
  },
  {
   "cell_type": "markdown",
   "metadata": {},
   "source": [
    "# Product 36"
   ]
  },
  {
   "cell_type": "code",
   "execution_count": null,
   "metadata": {},
   "outputs": [],
   "source": [
    "# selecte only the features that are selected in the feature selection step\n",
    "test_set_36 = test_set[test_set['Mapped_GCK'] == '#36']\n",
    "df_market_36 = df_market[selected_features_36]\n",
    "df_market_36.head()"
   ]
  },
  {
   "cell_type": "markdown",
   "metadata": {},
   "source": [
    "## Xgboost"
   ]
  },
  {
   "cell_type": "code",
   "execution_count": null,
   "metadata": {},
   "outputs": [],
   "source": [
    "X_train, X_val, y_train, y_val = train_val_split(sales_agg36, df_market_36, train_size = 0.8)\n",
    "\n",
    "X_val.info() \n",
    "\n",
    "xgboost_best_model_36, xgboost_best_params_36, xgboost_best_rmse_36 = model_evaluation_XGboost(X_train,\n",
    "                                                                                             y_train, \n",
    "                                                                                             X_val, y_val, \n",
    "                                                                                             xgboost_param_grid)\n",
    "\n",
    "print(\"Best Params:\", xgboost_best_params_36)\n",
    "print(\"Validation RMSE:\", xgboost_best_rmse_36)\n"
   ]
  },
  {
   "cell_type": "markdown",
   "metadata": {},
   "source": [
    "## Prophet"
   ]
  },
  {
   "cell_type": "code",
   "execution_count": null,
   "metadata": {},
   "outputs": [],
   "source": [
    "prophet_best_model_36, prophet_best_params_36, prophet_best_rmse_36 = model_evaluation_prophet(X_train,\n",
    "                                                                                             y_train, \n",
    "                                                                                             X_val, \n",
    "                                                                                             y_val, \n",
    "                                                                                             prophet_param_grid)\n",
    "\n",
    "print(\"Best Params:\", prophet_best_params_36)\n",
    "\n",
    "print(\"Validation RMSE:\", prophet_best_rmse_36)"
   ]
  },
  {
   "cell_type": "markdown",
   "metadata": {},
   "source": [
    "## Final prediction"
   ]
  },
  {
   "cell_type": "code",
   "execution_count": null,
   "metadata": {},
   "outputs": [],
   "source": [
    "best_model, best_params, best_rmse, best_model_name = select_best_model(\n",
    "    prophet_best_model_36, prophet_best_params_36, prophet_best_rmse_36, \"Prophet\",\n",
    "    xgboost_best_model_36, xgboost_best_params_36, xgboost_best_rmse_36, \"XGBoost\"\n",
    ")\n",
    "\n",
    "print(f\"Best Model: {best_model_name}\")\n",
    "print(\"Best Parameters:\", best_params)\n",
    "print(\"Best RMSE:\", best_rmse)\n",
    "\n",
    "if best_model_name == \"XGBoost\":\n",
    "    results = xgboost_forecast(\n",
    "        sales_agg36,\n",
    "        df_market_36,\n",
    "        period=10,\n",
    "        params =best_params,\n",
    "    )\n",
    "else:\n",
    "    results = prophet_forecast(\n",
    "        sales_agg36,\n",
    "        df_market_36,\n",
    "        period=10,\n",
    "        param =best_params,\n",
    "    )\n",
    "results.set_index('ds',inplace = True)\n",
    "test_set_36.set_index('Month Year', inplace = True)\n",
    "test_set_36[\"Sales_EUR\"] = results[\"yhat\"]\n",
    "test_set_36"
   ]
  },
  {
   "cell_type": "markdown",
   "metadata": {},
   "source": [
    "# Exporting"
   ]
  },
  {
   "cell_type": "code",
   "execution_count": null,
   "metadata": {},
   "outputs": [],
   "source": [
    "\n",
    "\n",
    "test_set = pd.concat([test_set_1, test_set_3, test_set_4, test_set_5, test_set_6, test_set_8, test_set_9,\n",
    "                     test_set_11, test_set_12, test_set_13, test_set_14, test_set_16, test_set_20, test_set_36])\n",
    "\n",
    "def revert_month_year(date_obj):\n",
    "    reverse_month_map = {\n",
    "        1: \"Jan\",\n",
    "        2: \"Feb\",\n",
    "        3: \"Mar\",\n",
    "        4: \"Apr\",\n",
    "        5: \"Mai\",\n",
    "        6: \"Jun\",\n",
    "        7: \"Jul\",\n",
    "        8: \"Aug\",\n",
    "        9: \"Sep\",\n",
    "        10: \"Okt\",\n",
    "        11: \"Nov\",\n",
    "        12: \"Dez\"\n",
    "    }\n",
    "    # Format as e.g. \"Jan20\" (adjust the format if a space is needed)\n",
    "    return f\"{reverse_month_map[date_obj.month]} {date_obj.strftime('%y')}\"\n",
    "\n",
    "# Revert the conversion on the 'Month Year' column\n",
    "test_set['Month Year'] = test_set['Month Year'].apply(revert_month_year)\n",
    "\n",
    "test_set.to_csv('../data/test_set_predicted.csv', index=False)"
   ]
  }
 ],
 "metadata": {
  "kernelspec": {
   "display_name": "DM2425",
   "language": "python",
   "name": "python3"
  },
  "language_info": {
   "codemirror_mode": {
    "name": "ipython",
    "version": 3
   },
   "file_extension": ".py",
   "mimetype": "text/x-python",
   "name": "python",
   "nbconvert_exporter": "python",
   "pygments_lexer": "ipython3",
   "version": "3.12.7"
  }
 },
 "nbformat": 4,
 "nbformat_minor": 2
}
