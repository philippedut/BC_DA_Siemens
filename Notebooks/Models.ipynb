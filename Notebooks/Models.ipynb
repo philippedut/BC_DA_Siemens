{
 "cells": [
  {
   "cell_type": "markdown",
   "metadata": {},
   "source": [
    "# **BUSINESS CASE 2: SIEMENS ADVANTA SALES FORECASTING**  \n",
    "\n",
    "\n",
    "## 🎓 Master’s Program in Data Science & Advanced Analytics \n",
    "**Nova IMS** | March 2025   \n",
    "**Course:** Business Cases with Data Science\n",
    "\n",
    "## 👥 Team **Group A**  \n",
    "- **Alice Viegas** | 20240572  \n",
    "- **Bernardo Faria** | 20240579  \n",
    "- **Dinis Pinto** | 20240612  \n",
    "- **Daan van Holten** | 20240681\n",
    "- **Philippe Dutranoit** | 20240518"
   ]
  },
  {
   "cell_type": "markdown",
   "metadata": {},
   "source": [
    "## 📊 Goal of the notebook\n",
    "\n",
    "in this notebook we make the build and test the models for forcasting"
   ]
  },
  {
   "cell_type": "markdown",
   "metadata": {},
   "source": [
    "# Imports"
   ]
  },
  {
   "cell_type": "code",
   "execution_count": 6,
   "metadata": {},
   "outputs": [
    {
     "data": {
      "text/plain": [
       "<module 'Functions' from '/Users/philippedutranoit/document_ordi/nova/business_case_for_data_sciense/cases/BC_DA_Siemens/Notebooks/Functions.py'>"
      ]
     },
     "execution_count": 6,
     "metadata": {},
     "output_type": "execute_result"
    }
   ],
   "source": [
    "import os\n",
    "import numpy as np\n",
    "import pandas as pd\n",
    "import matplotlib.pyplot as plt\n",
    "from datetime import datetime\n",
    "\n",
    "from Functions import *\n",
    "\n",
    "import importlib\n",
    "imported_module = importlib.import_module(\"Functions\")\n",
    "importlib.reload(imported_module)\n"
   ]
  },
  {
   "cell_type": "code",
   "execution_count": 11,
   "metadata": {},
   "outputs": [],
   "source": [
    "sales_agg1 = pd.read_csv('../data/sales_agg1.csv')\n",
    "sales_agg3 = pd.read_csv('../data/sales_agg3.csv')\n",
    "sales_agg4 = pd.read_csv('../data/sales_agg4.csv')\n",
    "sales_agg5 = pd.read_csv('../data/sales_agg5.csv')\n",
    "sales_agg6 = pd.read_csv('../data/sales_agg6.csv')\n",
    "sales_agg8 = pd.read_csv('../data/sales_agg8.csv')\n",
    "sales_agg9 = pd.read_csv('../data/sales_agg9.csv')\n",
    "sales_agg11 = pd.read_csv('../data/sales_agg11.csv')\n",
    "sales_agg12 = pd.read_csv('../data/sales_agg12.csv')\n",
    "sales_agg13 = pd.read_csv('../data/sales_agg13.csv')\n",
    "sales_agg14 = pd.read_csv('../data/sales_agg14.csv')\n",
    "sales_agg16 = pd.read_csv('../data/sales_agg16.csv')\n",
    "sales_agg20 = pd.read_csv('../data/sales_agg20.csv')\n",
    "sales_agg36 = pd.read_csv('../data/sales_agg36.csv')\n",
    "\n",
    "test_set = pd.read_csv('../Data/Case2_Test Set Template.csv', sep=';')\n"
   ]
  },
  {
   "cell_type": "code",
   "execution_count": 12,
   "metadata": {},
   "outputs": [
    {
     "data": {
      "text/html": [
       "<div>\n",
       "<style scoped>\n",
       "    .dataframe tbody tr th:only-of-type {\n",
       "        vertical-align: middle;\n",
       "    }\n",
       "\n",
       "    .dataframe tbody tr th {\n",
       "        vertical-align: top;\n",
       "    }\n",
       "\n",
       "    .dataframe thead th {\n",
       "        text-align: right;\n",
       "    }\n",
       "</style>\n",
       "<table border=\"1\" class=\"dataframe\">\n",
       "  <thead>\n",
       "    <tr style=\"text-align: right;\">\n",
       "      <th></th>\n",
       "      <th>Month Year</th>\n",
       "      <th>Mapped_GCK</th>\n",
       "      <th>Sales_EUR</th>\n",
       "    </tr>\n",
       "  </thead>\n",
       "  <tbody>\n",
       "    <tr>\n",
       "      <th>0</th>\n",
       "      <td>Mai 22</td>\n",
       "      <td>#3</td>\n",
       "      <td>NaN</td>\n",
       "    </tr>\n",
       "    <tr>\n",
       "      <th>1</th>\n",
       "      <td>Jun 22</td>\n",
       "      <td>#3</td>\n",
       "      <td>NaN</td>\n",
       "    </tr>\n",
       "    <tr>\n",
       "      <th>2</th>\n",
       "      <td>Jul 22</td>\n",
       "      <td>#3</td>\n",
       "      <td>NaN</td>\n",
       "    </tr>\n",
       "    <tr>\n",
       "      <th>3</th>\n",
       "      <td>Aug 22</td>\n",
       "      <td>#3</td>\n",
       "      <td>NaN</td>\n",
       "    </tr>\n",
       "    <tr>\n",
       "      <th>4</th>\n",
       "      <td>Sep 22</td>\n",
       "      <td>#3</td>\n",
       "      <td>NaN</td>\n",
       "    </tr>\n",
       "    <tr>\n",
       "      <th>...</th>\n",
       "      <td>...</td>\n",
       "      <td>...</td>\n",
       "      <td>...</td>\n",
       "    </tr>\n",
       "    <tr>\n",
       "      <th>135</th>\n",
       "      <td>Okt 22</td>\n",
       "      <td>#1</td>\n",
       "      <td>NaN</td>\n",
       "    </tr>\n",
       "    <tr>\n",
       "      <th>136</th>\n",
       "      <td>Nov 22</td>\n",
       "      <td>#1</td>\n",
       "      <td>NaN</td>\n",
       "    </tr>\n",
       "    <tr>\n",
       "      <th>137</th>\n",
       "      <td>Dez 22</td>\n",
       "      <td>#1</td>\n",
       "      <td>NaN</td>\n",
       "    </tr>\n",
       "    <tr>\n",
       "      <th>138</th>\n",
       "      <td>Jan 23</td>\n",
       "      <td>#1</td>\n",
       "      <td>NaN</td>\n",
       "    </tr>\n",
       "    <tr>\n",
       "      <th>139</th>\n",
       "      <td>Feb 23</td>\n",
       "      <td>#1</td>\n",
       "      <td>NaN</td>\n",
       "    </tr>\n",
       "  </tbody>\n",
       "</table>\n",
       "<p>140 rows × 3 columns</p>\n",
       "</div>"
      ],
      "text/plain": [
       "    Month Year Mapped_GCK  Sales_EUR\n",
       "0       Mai 22         #3        NaN\n",
       "1       Jun 22         #3        NaN\n",
       "2       Jul 22         #3        NaN\n",
       "3       Aug 22         #3        NaN\n",
       "4       Sep 22         #3        NaN\n",
       "..         ...        ...        ...\n",
       "135     Okt 22         #1        NaN\n",
       "136     Nov 22         #1        NaN\n",
       "137     Dez 22         #1        NaN\n",
       "138     Jan 23         #1        NaN\n",
       "139     Feb 23         #1        NaN\n",
       "\n",
       "[140 rows x 3 columns]"
      ]
     },
     "execution_count": 12,
     "metadata": {},
     "output_type": "execute_result"
    }
   ],
   "source": [
    "test_set"
   ]
  },
  {
   "cell_type": "code",
   "execution_count": 13,
   "metadata": {},
   "outputs": [],
   "source": [
    "month_map = {\n",
    "    \"Jan\": 1,\n",
    "    \"Feb\": 2,\n",
    "    \"Mai\": 3,\n",
    "    \"Jun\": 6,\n",
    "    \"Jul\": 7,\n",
    "    \"Aug\": 8,\n",
    "    \"Sep\": 9,\n",
    "    \"Okt\": 10,\n",
    "    \"Nov\": 11,\n",
    "    \"Dez\": 12\n",
    "}\n",
    "def parse_month_year(date_string):\n",
    "    month_abbr = date_string[:3]\n",
    "    year_suffix = date_string[-2:]\n",
    "    month_num = month_map.get(month_abbr)\n",
    "\n",
    "    if not month_num:\n",
    "        raise ValueError(f\"Unknown month abbreviation: {month_abbr}\")\n",
    "    \n",
    "    return datetime.strptime(f\"{month_num} 01 {year_suffix}\", \"%m %d %y\").date()\n",
    "\n",
    "# Apply conversion safely\n",
    "test_set['Month Year'] = test_set['Month Year'].apply(parse_month_year)"
   ]
  }
 ],
 "metadata": {
  "kernelspec": {
   "display_name": "DM2425",
   "language": "python",
   "name": "python3"
  },
  "language_info": {
   "codemirror_mode": {
    "name": "ipython",
    "version": 3
   },
   "file_extension": ".py",
   "mimetype": "text/x-python",
   "name": "python",
   "nbconvert_exporter": "python",
   "pygments_lexer": "ipython3",
   "version": "3.12.7"
  }
 },
 "nbformat": 4,
 "nbformat_minor": 2
}
