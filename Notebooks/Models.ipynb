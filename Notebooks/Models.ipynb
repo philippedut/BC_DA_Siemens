{
 "cells": [
  {
   "cell_type": "markdown",
   "metadata": {},
   "source": [
    "# **BUSINESS CASE 2: SIEMENS ADVANTA SALES FORECASTING**  \n",
    "\n",
    "\n",
    "## 🎓 Master’s Program in Data Science & Advanced Analytics \n",
    "**Nova IMS** | March 2025   \n",
    "**Course:** Business Cases with Data Science\n",
    "\n",
    "## 👥 Team **Group A**  \n",
    "- **Alice Viegas** | 20240572  \n",
    "- **Bernardo Faria** | 20240579  \n",
    "- **Dinis Pinto** | 20240612  \n",
    "- **Daan van Holten** | 20240681\n",
    "- **Philippe Dutranoit** | 20240518"
   ]
  },
  {
   "cell_type": "markdown",
   "metadata": {},
   "source": [
    "## 📊 Goal of the notebook\n",
    "\n",
    "in this notebook we make the build and test the models for forcasting"
   ]
  },
  {
   "cell_type": "markdown",
   "metadata": {},
   "source": [
    "# Imports"
   ]
  },
  {
   "cell_type": "code",
   "execution_count": 23,
   "metadata": {},
   "outputs": [
    {
     "data": {
      "text/plain": [
       "<module 'Model_Functions' from '/Users/philippedutranoit/document_ordi/nova/business_case_for_data_sciense/cases/BC_DA_Siemens/Notebooks/Model_Functions.py'>"
      ]
     },
     "execution_count": 23,
     "metadata": {},
     "output_type": "execute_result"
    }
   ],
   "source": [
    "import os\n",
    "import numpy as np\n",
    "import pandas as pd\n",
    "import matplotlib.pyplot as plt\n",
    "from datetime import datetime\n",
    "from sklearn.model_selection import TimeSeriesSplit, GridSearchCV\n",
    "import itertools\n",
    "from sklearn.metrics import mean_squared_error\n",
    "from xgboost import XGBRegressor\n",
    "from prophet import Prophet\n",
    "\n",
    "\n",
    "from Model_Functions import *\n",
    "\n",
    "import importlib\n",
    "imported_module = importlib.import_module(\"Model_Functions\")\n",
    "importlib.reload(imported_module)\n"
   ]
  },
  {
   "cell_type": "code",
   "execution_count": 19,
   "metadata": {},
   "outputs": [
    {
     "name": "stdout",
     "output_type": "stream",
     "text": [
      "               Sales_EUR\n",
      "DATE                    \n",
      "2018-10-01  3.609892e+07\n",
      "2018-11-01  3.699427e+07\n",
      "2018-12-01  3.788961e+07\n",
      "2019-01-01  2.772815e+07\n",
      "2019-02-01  3.479316e+07\n"
     ]
    },
    {
     "data": {
      "text/html": [
       "<div>\n",
       "<style scoped>\n",
       "    .dataframe tbody tr th:only-of-type {\n",
       "        vertical-align: middle;\n",
       "    }\n",
       "\n",
       "    .dataframe tbody tr th {\n",
       "        vertical-align: top;\n",
       "    }\n",
       "\n",
       "    .dataframe thead th {\n",
       "        text-align: right;\n",
       "    }\n",
       "</style>\n",
       "<table border=\"1\" class=\"dataframe\">\n",
       "  <thead>\n",
       "    <tr style=\"text-align: right;\">\n",
       "      <th></th>\n",
       "      <th>MAB_ELE_PRO156</th>\n",
       "      <th>MAB_ELE_SHP156</th>\n",
       "      <th>MAB_ELE_PRO250</th>\n",
       "      <th>MAB_ELE_SHP250</th>\n",
       "      <th>MAB_ELE_PRO276</th>\n",
       "      <th>MAB_ELE_SHP276</th>\n",
       "      <th>MAB_ELE_PRO380</th>\n",
       "      <th>MAB_ELE_SHP380</th>\n",
       "      <th>MAB_ELE_PRO392</th>\n",
       "      <th>MAB_ELE_SHP392</th>\n",
       "      <th>...</th>\n",
       "      <th>PRO28250_org</th>\n",
       "      <th>PRO28276_org</th>\n",
       "      <th>PRO27840_org</th>\n",
       "      <th>PRO271000_org</th>\n",
       "      <th>PRO27756_org</th>\n",
       "      <th>PRO27826_org</th>\n",
       "      <th>PRO27380_org</th>\n",
       "      <th>PRO27392_org</th>\n",
       "      <th>PRO27250_org</th>\n",
       "      <th>PRO27276_org</th>\n",
       "    </tr>\n",
       "    <tr>\n",
       "      <th>date</th>\n",
       "      <th></th>\n",
       "      <th></th>\n",
       "      <th></th>\n",
       "      <th></th>\n",
       "      <th></th>\n",
       "      <th></th>\n",
       "      <th></th>\n",
       "      <th></th>\n",
       "      <th></th>\n",
       "      <th></th>\n",
       "      <th></th>\n",
       "      <th></th>\n",
       "      <th></th>\n",
       "      <th></th>\n",
       "      <th></th>\n",
       "      <th></th>\n",
       "      <th></th>\n",
       "      <th></th>\n",
       "      <th></th>\n",
       "      <th></th>\n",
       "      <th></th>\n",
       "    </tr>\n",
       "  </thead>\n",
       "  <tbody>\n",
       "    <tr>\n",
       "      <th>2004-02-01</th>\n",
       "      <td>16.940704</td>\n",
       "      <td>16.940704</td>\n",
       "      <td>112.091273</td>\n",
       "      <td>83.458866</td>\n",
       "      <td>82.623037</td>\n",
       "      <td>79.452532</td>\n",
       "      <td>124.289603</td>\n",
       "      <td>86.560493</td>\n",
       "      <td>109.334010</td>\n",
       "      <td>110.495272</td>\n",
       "      <td>...</td>\n",
       "      <td>118.274109</td>\n",
       "      <td>80.829010</td>\n",
       "      <td>117.723991</td>\n",
       "      <td>91.390440</td>\n",
       "      <td>68.677657</td>\n",
       "      <td>120.706516</td>\n",
       "      <td>141.510864</td>\n",
       "      <td>106.161262</td>\n",
       "      <td>102.077057</td>\n",
       "      <td>85.913200</td>\n",
       "    </tr>\n",
       "    <tr>\n",
       "      <th>2004-03-01</th>\n",
       "      <td>23.711852</td>\n",
       "      <td>23.711852</td>\n",
       "      <td>136.327976</td>\n",
       "      <td>106.168192</td>\n",
       "      <td>100.556582</td>\n",
       "      <td>97.012918</td>\n",
       "      <td>143.411662</td>\n",
       "      <td>106.344544</td>\n",
       "      <td>140.884616</td>\n",
       "      <td>144.686166</td>\n",
       "      <td>...</td>\n",
       "      <td>148.121841</td>\n",
       "      <td>102.130104</td>\n",
       "      <td>119.220779</td>\n",
       "      <td>91.511498</td>\n",
       "      <td>68.452548</td>\n",
       "      <td>138.309550</td>\n",
       "      <td>152.880234</td>\n",
       "      <td>140.288741</td>\n",
       "      <td>117.225685</td>\n",
       "      <td>97.670815</td>\n",
       "    </tr>\n",
       "    <tr>\n",
       "      <th>2004-04-01</th>\n",
       "      <td>24.435235</td>\n",
       "      <td>24.435235</td>\n",
       "      <td>117.791806</td>\n",
       "      <td>92.007646</td>\n",
       "      <td>89.653203</td>\n",
       "      <td>84.932358</td>\n",
       "      <td>129.083828</td>\n",
       "      <td>95.579673</td>\n",
       "      <td>105.853579</td>\n",
       "      <td>102.655769</td>\n",
       "      <td>...</td>\n",
       "      <td>125.482231</td>\n",
       "      <td>90.961426</td>\n",
       "      <td>117.441124</td>\n",
       "      <td>91.666790</td>\n",
       "      <td>68.203892</td>\n",
       "      <td>115.557330</td>\n",
       "      <td>137.796875</td>\n",
       "      <td>106.271197</td>\n",
       "      <td>105.335777</td>\n",
       "      <td>87.253983</td>\n",
       "    </tr>\n",
       "    <tr>\n",
       "      <th>2004-05-01</th>\n",
       "      <td>23.708115</td>\n",
       "      <td>23.708115</td>\n",
       "      <td>109.002541</td>\n",
       "      <td>85.696486</td>\n",
       "      <td>86.880571</td>\n",
       "      <td>82.372794</td>\n",
       "      <td>135.590391</td>\n",
       "      <td>100.087039</td>\n",
       "      <td>101.864777</td>\n",
       "      <td>100.305285</td>\n",
       "      <td>...</td>\n",
       "      <td>116.649750</td>\n",
       "      <td>88.082901</td>\n",
       "      <td>117.899216</td>\n",
       "      <td>91.861457</td>\n",
       "      <td>67.936322</td>\n",
       "      <td>119.269534</td>\n",
       "      <td>143.860535</td>\n",
       "      <td>101.608710</td>\n",
       "      <td>96.616508</td>\n",
       "      <td>84.675552</td>\n",
       "    </tr>\n",
       "    <tr>\n",
       "      <th>2004-06-01</th>\n",
       "      <td>27.009138</td>\n",
       "      <td>27.009138</td>\n",
       "      <td>133.785737</td>\n",
       "      <td>106.641482</td>\n",
       "      <td>99.010814</td>\n",
       "      <td>95.108740</td>\n",
       "      <td>136.424935</td>\n",
       "      <td>110.889719</td>\n",
       "      <td>120.332920</td>\n",
       "      <td>119.616380</td>\n",
       "      <td>...</td>\n",
       "      <td>143.248734</td>\n",
       "      <td>100.978699</td>\n",
       "      <td>119.499107</td>\n",
       "      <td>92.100289</td>\n",
       "      <td>67.655734</td>\n",
       "      <td>128.849416</td>\n",
       "      <td>144.315308</td>\n",
       "      <td>116.655248</td>\n",
       "      <td>118.458710</td>\n",
       "      <td>95.401802</td>\n",
       "    </tr>\n",
       "  </tbody>\n",
       "</table>\n",
       "<p>5 rows × 47 columns</p>\n",
       "</div>"
      ],
      "text/plain": [
       "            MAB_ELE_PRO156  MAB_ELE_SHP156  MAB_ELE_PRO250  MAB_ELE_SHP250  \\\n",
       "date                                                                         \n",
       "2004-02-01       16.940704       16.940704      112.091273       83.458866   \n",
       "2004-03-01       23.711852       23.711852      136.327976      106.168192   \n",
       "2004-04-01       24.435235       24.435235      117.791806       92.007646   \n",
       "2004-05-01       23.708115       23.708115      109.002541       85.696486   \n",
       "2004-06-01       27.009138       27.009138      133.785737      106.641482   \n",
       "\n",
       "            MAB_ELE_PRO276  MAB_ELE_SHP276  MAB_ELE_PRO380  MAB_ELE_SHP380  \\\n",
       "date                                                                         \n",
       "2004-02-01       82.623037       79.452532      124.289603       86.560493   \n",
       "2004-03-01      100.556582       97.012918      143.411662      106.344544   \n",
       "2004-04-01       89.653203       84.932358      129.083828       95.579673   \n",
       "2004-05-01       86.880571       82.372794      135.590391      100.087039   \n",
       "2004-06-01       99.010814       95.108740      136.424935      110.889719   \n",
       "\n",
       "            MAB_ELE_PRO392  MAB_ELE_SHP392  ...  PRO28250_org  PRO28276_org  \\\n",
       "date                                        ...                               \n",
       "2004-02-01      109.334010      110.495272  ...    118.274109     80.829010   \n",
       "2004-03-01      140.884616      144.686166  ...    148.121841    102.130104   \n",
       "2004-04-01      105.853579      102.655769  ...    125.482231     90.961426   \n",
       "2004-05-01      101.864777      100.305285  ...    116.649750     88.082901   \n",
       "2004-06-01      120.332920      119.616380  ...    143.248734    100.978699   \n",
       "\n",
       "            PRO27840_org  PRO271000_org  PRO27756_org  PRO27826_org  \\\n",
       "date                                                                  \n",
       "2004-02-01    117.723991      91.390440     68.677657    120.706516   \n",
       "2004-03-01    119.220779      91.511498     68.452548    138.309550   \n",
       "2004-04-01    117.441124      91.666790     68.203892    115.557330   \n",
       "2004-05-01    117.899216      91.861457     67.936322    119.269534   \n",
       "2004-06-01    119.499107      92.100289     67.655734    128.849416   \n",
       "\n",
       "            PRO27380_org  PRO27392_org  PRO27250_org  PRO27276_org  \n",
       "date                                                                \n",
       "2004-02-01    141.510864    106.161262    102.077057     85.913200  \n",
       "2004-03-01    152.880234    140.288741    117.225685     97.670815  \n",
       "2004-04-01    137.796875    106.271197    105.335777     87.253983  \n",
       "2004-05-01    143.860535    101.608710     96.616508     84.675552  \n",
       "2004-06-01    144.315308    116.655248    118.458710     95.401802  \n",
       "\n",
       "[5 rows x 47 columns]"
      ]
     },
     "execution_count": 19,
     "metadata": {},
     "output_type": "execute_result"
    }
   ],
   "source": [
    "sales_agg1 = pd.read_csv('../data/sales_agg1.csv').set_index('DATE')\n",
    "sales_agg3 = pd.read_csv('../data/sales_agg3.csv').set_index('DATE')\n",
    "sales_agg4 = pd.read_csv('../data/sales_agg4.csv').set_index('DATE')\n",
    "sales_agg5 = pd.read_csv('../data/sales_agg5.csv').set_index('DATE')\n",
    "sales_agg6 = pd.read_csv('../data/sales_agg6.csv').set_index('DATE')\n",
    "sales_agg8 = pd.read_csv('../data/sales_agg8.csv').set_index('DATE')\n",
    "sales_agg9 = pd.read_csv('../data/sales_agg9.csv').set_index('DATE')\n",
    "sales_agg11 = pd.read_csv('../data/sales_agg11.csv').set_index('DATE')\n",
    "sales_agg12 = pd.read_csv('../data/sales_agg12.csv').set_index('DATE')\n",
    "sales_agg13 = pd.read_csv('../data/sales_agg13.csv').set_index('DATE')\n",
    "sales_agg14 = pd.read_csv('../data/sales_agg14.csv').set_index('DATE')\n",
    "sales_agg16 = pd.read_csv('../data/sales_agg16.csv').set_index('DATE')\n",
    "sales_agg20 = pd.read_csv('../data/sales_agg20.csv').set_index('DATE')\n",
    "sales_agg36 = pd.read_csv('../data/sales_agg36.csv').set_index('DATE')\n",
    "\n",
    "df_market = pd.read_csv('../data/df_market.csv').set_index('date')\n",
    "test_set = pd.read_csv('../Data/Case2_Test Set Template.csv', sep=';')\n",
    "print(sales_agg1.head())\n",
    "df_market.head()\n",
    "\n"
   ]
  },
  {
   "cell_type": "code",
   "execution_count": 20,
   "metadata": {},
   "outputs": [
    {
     "data": {
      "text/html": [
       "<div>\n",
       "<style scoped>\n",
       "    .dataframe tbody tr th:only-of-type {\n",
       "        vertical-align: middle;\n",
       "    }\n",
       "\n",
       "    .dataframe tbody tr th {\n",
       "        vertical-align: top;\n",
       "    }\n",
       "\n",
       "    .dataframe thead th {\n",
       "        text-align: right;\n",
       "    }\n",
       "</style>\n",
       "<table border=\"1\" class=\"dataframe\">\n",
       "  <thead>\n",
       "    <tr style=\"text-align: right;\">\n",
       "      <th></th>\n",
       "      <th>Month Year</th>\n",
       "      <th>Mapped_GCK</th>\n",
       "      <th>Sales_EUR</th>\n",
       "    </tr>\n",
       "  </thead>\n",
       "  <tbody>\n",
       "    <tr>\n",
       "      <th>0</th>\n",
       "      <td>Mai 22</td>\n",
       "      <td>#3</td>\n",
       "      <td>NaN</td>\n",
       "    </tr>\n",
       "    <tr>\n",
       "      <th>1</th>\n",
       "      <td>Jun 22</td>\n",
       "      <td>#3</td>\n",
       "      <td>NaN</td>\n",
       "    </tr>\n",
       "    <tr>\n",
       "      <th>2</th>\n",
       "      <td>Jul 22</td>\n",
       "      <td>#3</td>\n",
       "      <td>NaN</td>\n",
       "    </tr>\n",
       "    <tr>\n",
       "      <th>3</th>\n",
       "      <td>Aug 22</td>\n",
       "      <td>#3</td>\n",
       "      <td>NaN</td>\n",
       "    </tr>\n",
       "    <tr>\n",
       "      <th>4</th>\n",
       "      <td>Sep 22</td>\n",
       "      <td>#3</td>\n",
       "      <td>NaN</td>\n",
       "    </tr>\n",
       "    <tr>\n",
       "      <th>...</th>\n",
       "      <td>...</td>\n",
       "      <td>...</td>\n",
       "      <td>...</td>\n",
       "    </tr>\n",
       "    <tr>\n",
       "      <th>135</th>\n",
       "      <td>Okt 22</td>\n",
       "      <td>#1</td>\n",
       "      <td>NaN</td>\n",
       "    </tr>\n",
       "    <tr>\n",
       "      <th>136</th>\n",
       "      <td>Nov 22</td>\n",
       "      <td>#1</td>\n",
       "      <td>NaN</td>\n",
       "    </tr>\n",
       "    <tr>\n",
       "      <th>137</th>\n",
       "      <td>Dez 22</td>\n",
       "      <td>#1</td>\n",
       "      <td>NaN</td>\n",
       "    </tr>\n",
       "    <tr>\n",
       "      <th>138</th>\n",
       "      <td>Jan 23</td>\n",
       "      <td>#1</td>\n",
       "      <td>NaN</td>\n",
       "    </tr>\n",
       "    <tr>\n",
       "      <th>139</th>\n",
       "      <td>Feb 23</td>\n",
       "      <td>#1</td>\n",
       "      <td>NaN</td>\n",
       "    </tr>\n",
       "  </tbody>\n",
       "</table>\n",
       "<p>140 rows × 3 columns</p>\n",
       "</div>"
      ],
      "text/plain": [
       "    Month Year Mapped_GCK  Sales_EUR\n",
       "0       Mai 22         #3        NaN\n",
       "1       Jun 22         #3        NaN\n",
       "2       Jul 22         #3        NaN\n",
       "3       Aug 22         #3        NaN\n",
       "4       Sep 22         #3        NaN\n",
       "..         ...        ...        ...\n",
       "135     Okt 22         #1        NaN\n",
       "136     Nov 22         #1        NaN\n",
       "137     Dez 22         #1        NaN\n",
       "138     Jan 23         #1        NaN\n",
       "139     Feb 23         #1        NaN\n",
       "\n",
       "[140 rows x 3 columns]"
      ]
     },
     "execution_count": 20,
     "metadata": {},
     "output_type": "execute_result"
    }
   ],
   "source": [
    "test_set"
   ]
  },
  {
   "cell_type": "code",
   "execution_count": 21,
   "metadata": {},
   "outputs": [],
   "source": [
    "month_map = {\n",
    "    \"Jan\": 1,\n",
    "    \"Feb\": 2,\n",
    "    \"Mai\": 3,\n",
    "    \"Jun\": 6,\n",
    "    \"Jul\": 7,\n",
    "    \"Aug\": 8,\n",
    "    \"Sep\": 9,\n",
    "    \"Okt\": 10,\n",
    "    \"Nov\": 11,\n",
    "    \"Dez\": 12\n",
    "}\n",
    "\n",
    "# Apply conversion safely\n",
    "test_set['Month Year'] = test_set['Month Year'].apply(parse_month_year)"
   ]
  },
  {
   "cell_type": "markdown",
   "metadata": {},
   "source": [
    "# preparation "
   ]
  },
  {
   "cell_type": "code",
   "execution_count": null,
   "metadata": {},
   "outputs": [
    {
     "name": "stdout",
     "output_type": "stream",
     "text": [
      "<class 'pandas.core.frame.DataFrame'>\n",
      "Index: 9 entries, 2021-08-01 to 2022-04-01\n",
      "Data columns (total 47 columns):\n",
      " #   Column                  Non-Null Count  Dtype  \n",
      "---  ------                  --------------  -----  \n",
      " 0   MAB_ELE_PRO156          9 non-null      float64\n",
      " 1   MAB_ELE_SHP156          9 non-null      float64\n",
      " 2   MAB_ELE_PRO250          9 non-null      float64\n",
      " 3   MAB_ELE_SHP250          9 non-null      float64\n",
      " 4   MAB_ELE_PRO276          9 non-null      float64\n",
      " 5   MAB_ELE_SHP276          9 non-null      float64\n",
      " 6   MAB_ELE_PRO380          9 non-null      float64\n",
      " 7   MAB_ELE_SHP380          9 non-null      float64\n",
      " 8   MAB_ELE_PRO392          9 non-null      float64\n",
      " 9   MAB_ELE_SHP392          9 non-null      float64\n",
      " 10  MAB_ELE_PRO756          9 non-null      float64\n",
      " 11  MAB_ELE_SHP756          9 non-null      float64\n",
      " 12  MAB_ELE_PRO826          9 non-null      float64\n",
      " 13  MAB_ELE_SHP826          9 non-null      float64\n",
      " 14  MAB_ELE_PRO840          9 non-null      float64\n",
      " 15  MAB_ELE_SHP840          9 non-null      float64\n",
      " 16  MAB_ELE_PRO1100         9 non-null      float64\n",
      " 17  MAB_ELE_SHP1100         9 non-null      float64\n",
      " 18  RohiBASEMET1000_org     9 non-null      float64\n",
      " 19  RohiENERGY1000_org      9 non-null      float64\n",
      " 20  RohiMETMIN1000_org      9 non-null      float64\n",
      " 21  RohiNATGAS1000_org      9 non-null      float64\n",
      " 22  RohCRUDE_PETRO1000_org  9 non-null      float64\n",
      " 23  RohCOPPER1000_org       9 non-null      float64\n",
      " 24  WKLWEUR840_org          9 non-null      float64\n",
      " 25  PRI27840_org            9 non-null      float64\n",
      " 26  PRI27826_org            9 non-null      float64\n",
      " 27  PRI27380_org            9 non-null      float64\n",
      " 28  PRI27250_org            9 non-null      float64\n",
      " 29  PRI27276_org            9 non-null      float64\n",
      " 30  PRI27156_org            9 non-null      float64\n",
      " 31  PRO28840_org            9 non-null      float64\n",
      " 32  PRO281000_org           9 non-null      float64\n",
      " 33  PRO28756_org            9 non-null      float64\n",
      " 34  PRO28826_org            9 non-null      float64\n",
      " 35  PRO28380_org            9 non-null      float64\n",
      " 36  PRO28392_org            9 non-null      float64\n",
      " 37  PRO28250_org            9 non-null      float64\n",
      " 38  PRO28276_org            9 non-null      float64\n",
      " 39  PRO27840_org            9 non-null      float64\n",
      " 40  PRO271000_org           9 non-null      float64\n",
      " 41  PRO27756_org            9 non-null      float64\n",
      " 42  PRO27826_org            9 non-null      float64\n",
      " 43  PRO27380_org            9 non-null      float64\n",
      " 44  PRO27392_org            9 non-null      float64\n",
      " 45  PRO27250_org            9 non-null      float64\n",
      " 46  PRO27276_org            9 non-null      float64\n",
      "dtypes: float64(47)\n",
      "memory usage: 3.4+ KB\n",
      "Params: {'n_estimators': 100, 'max_depth': 5, 'learning_rate': 0.01, 'subsample': 0.5, 'colsample_bytree': 0.5, 'gamma': 0, 'reg_alpha': 0, 'reg_lambda': 0} => RMSE: 3464112.6251\n",
      "Params: {'n_estimators': 100, 'max_depth': 5, 'learning_rate': 0.01, 'subsample': 0.5, 'colsample_bytree': 0.5, 'gamma': 0, 'reg_alpha': 0, 'reg_lambda': 0.1} => RMSE: 3459434.1709\n",
      "Params: {'n_estimators': 100, 'max_depth': 5, 'learning_rate': 0.01, 'subsample': 0.5, 'colsample_bytree': 0.5, 'gamma': 0, 'reg_alpha': 0, 'reg_lambda': 0.3} => RMSE: 3485049.7031\n",
      "Params: {'n_estimators': 100, 'max_depth': 5, 'learning_rate': 0.01, 'subsample': 0.5, 'colsample_bytree': 0.5, 'gamma': 0, 'reg_alpha': 0.1, 'reg_lambda': 0} => RMSE: 3464112.2490\n",
      "Params: {'n_estimators': 100, 'max_depth': 5, 'learning_rate': 0.01, 'subsample': 0.5, 'colsample_bytree': 0.5, 'gamma': 0, 'reg_alpha': 0.1, 'reg_lambda': 0.1} => RMSE: 3459434.0723\n",
      "Params: {'n_estimators': 100, 'max_depth': 5, 'learning_rate': 0.01, 'subsample': 0.5, 'colsample_bytree': 0.5, 'gamma': 0, 'reg_alpha': 0.1, 'reg_lambda': 0.3} => RMSE: 3485050.6941\n",
      "Params: {'n_estimators': 100, 'max_depth': 5, 'learning_rate': 0.01, 'subsample': 0.5, 'colsample_bytree': 0.5, 'gamma': 0, 'reg_alpha': 0.3, 'reg_lambda': 0} => RMSE: 3464115.1453\n",
      "Params: {'n_estimators': 100, 'max_depth': 5, 'learning_rate': 0.01, 'subsample': 0.5, 'colsample_bytree': 0.5, 'gamma': 0, 'reg_alpha': 0.3, 'reg_lambda': 0.1} => RMSE: 3459433.7300\n",
      "Params: {'n_estimators': 100, 'max_depth': 5, 'learning_rate': 0.01, 'subsample': 0.5, 'colsample_bytree': 0.5, 'gamma': 0, 'reg_alpha': 0.3, 'reg_lambda': 0.3} => RMSE: 3485050.6941\n",
      "Params: {'n_estimators': 100, 'max_depth': 5, 'learning_rate': 0.01, 'subsample': 0.5, 'colsample_bytree': 0.5, 'gamma': 0.1, 'reg_alpha': 0, 'reg_lambda': 0} => RMSE: 3464112.6251\n",
      "Params: {'n_estimators': 100, 'max_depth': 5, 'learning_rate': 0.01, 'subsample': 0.5, 'colsample_bytree': 0.5, 'gamma': 0.1, 'reg_alpha': 0, 'reg_lambda': 0.1} => RMSE: 3459434.1709\n",
      "Params: {'n_estimators': 100, 'max_depth': 5, 'learning_rate': 0.01, 'subsample': 0.5, 'colsample_bytree': 0.5, 'gamma': 0.1, 'reg_alpha': 0, 'reg_lambda': 0.3} => RMSE: 3485049.7031\n",
      "Params: {'n_estimators': 100, 'max_depth': 5, 'learning_rate': 0.01, 'subsample': 0.5, 'colsample_bytree': 0.5, 'gamma': 0.1, 'reg_alpha': 0.1, 'reg_lambda': 0} => RMSE: 3464112.2490\n",
      "Params: {'n_estimators': 100, 'max_depth': 5, 'learning_rate': 0.01, 'subsample': 0.5, 'colsample_bytree': 0.5, 'gamma': 0.1, 'reg_alpha': 0.1, 'reg_lambda': 0.1} => RMSE: 3459434.0723\n",
      "Params: {'n_estimators': 100, 'max_depth': 5, 'learning_rate': 0.01, 'subsample': 0.5, 'colsample_bytree': 0.5, 'gamma': 0.1, 'reg_alpha': 0.1, 'reg_lambda': 0.3} => RMSE: 3485050.6941\n",
      "Params: {'n_estimators': 100, 'max_depth': 5, 'learning_rate': 0.01, 'subsample': 0.5, 'colsample_bytree': 0.5, 'gamma': 0.1, 'reg_alpha': 0.3, 'reg_lambda': 0} => RMSE: 3464115.1453\n",
      "Params: {'n_estimators': 100, 'max_depth': 5, 'learning_rate': 0.01, 'subsample': 0.5, 'colsample_bytree': 0.5, 'gamma': 0.1, 'reg_alpha': 0.3, 'reg_lambda': 0.1} => RMSE: 3459433.7300\n",
      "Params: {'n_estimators': 100, 'max_depth': 5, 'learning_rate': 0.01, 'subsample': 0.5, 'colsample_bytree': 0.5, 'gamma': 0.1, 'reg_alpha': 0.3, 'reg_lambda': 0.3} => RMSE: 3485050.6941\n",
      "Params: {'n_estimators': 100, 'max_depth': 5, 'learning_rate': 0.01, 'subsample': 0.5, 'colsample_bytree': 0.5, 'gamma': 0.3, 'reg_alpha': 0, 'reg_lambda': 0} => RMSE: 3464112.6251\n",
      "Params: {'n_estimators': 100, 'max_depth': 5, 'learning_rate': 0.01, 'subsample': 0.5, 'colsample_bytree': 0.5, 'gamma': 0.3, 'reg_alpha': 0, 'reg_lambda': 0.1} => RMSE: 3459434.1709\n",
      "Params: {'n_estimators': 100, 'max_depth': 5, 'learning_rate': 0.01, 'subsample': 0.5, 'colsample_bytree': 0.5, 'gamma': 0.3, 'reg_alpha': 0, 'reg_lambda': 0.3} => RMSE: 3485049.7031\n",
      "Params: {'n_estimators': 100, 'max_depth': 5, 'learning_rate': 0.01, 'subsample': 0.5, 'colsample_bytree': 0.5, 'gamma': 0.3, 'reg_alpha': 0.1, 'reg_lambda': 0} => RMSE: 3464112.2490\n",
      "Params: {'n_estimators': 100, 'max_depth': 5, 'learning_rate': 0.01, 'subsample': 0.5, 'colsample_bytree': 0.5, 'gamma': 0.3, 'reg_alpha': 0.1, 'reg_lambda': 0.1} => RMSE: 3459434.0723\n",
      "Params: {'n_estimators': 100, 'max_depth': 5, 'learning_rate': 0.01, 'subsample': 0.5, 'colsample_bytree': 0.5, 'gamma': 0.3, 'reg_alpha': 0.1, 'reg_lambda': 0.3} => RMSE: 3485050.6941\n",
      "Params: {'n_estimators': 100, 'max_depth': 5, 'learning_rate': 0.01, 'subsample': 0.5, 'colsample_bytree': 0.5, 'gamma': 0.3, 'reg_alpha': 0.3, 'reg_lambda': 0} => RMSE: 3464115.1453\n",
      "Params: {'n_estimators': 100, 'max_depth': 5, 'learning_rate': 0.01, 'subsample': 0.5, 'colsample_bytree': 0.5, 'gamma': 0.3, 'reg_alpha': 0.3, 'reg_lambda': 0.1} => RMSE: 3459433.7300\n",
      "Params: {'n_estimators': 100, 'max_depth': 5, 'learning_rate': 0.01, 'subsample': 0.5, 'colsample_bytree': 0.5, 'gamma': 0.3, 'reg_alpha': 0.3, 'reg_lambda': 0.3} => RMSE: 3485050.6941\n",
      "Params: {'n_estimators': 100, 'max_depth': 5, 'learning_rate': 0.01, 'subsample': 0.5, 'colsample_bytree': 0.7, 'gamma': 0, 'reg_alpha': 0, 'reg_lambda': 0} => RMSE: 3437166.1334\n",
      "Params: {'n_estimators': 100, 'max_depth': 5, 'learning_rate': 0.01, 'subsample': 0.5, 'colsample_bytree': 0.7, 'gamma': 0, 'reg_alpha': 0, 'reg_lambda': 0.1} => RMSE: 3450402.6988\n",
      "Params: {'n_estimators': 100, 'max_depth': 5, 'learning_rate': 0.01, 'subsample': 0.5, 'colsample_bytree': 0.7, 'gamma': 0, 'reg_alpha': 0, 'reg_lambda': 0.3} => RMSE: 3500922.3520\n",
      "Params: {'n_estimators': 100, 'max_depth': 5, 'learning_rate': 0.01, 'subsample': 0.5, 'colsample_bytree': 0.7, 'gamma': 0, 'reg_alpha': 0.1, 'reg_lambda': 0} => RMSE: 3437166.1334\n",
      "Params: {'n_estimators': 100, 'max_depth': 5, 'learning_rate': 0.01, 'subsample': 0.5, 'colsample_bytree': 0.7, 'gamma': 0, 'reg_alpha': 0.1, 'reg_lambda': 0.1} => RMSE: 3450402.6988\n",
      "Params: {'n_estimators': 100, 'max_depth': 5, 'learning_rate': 0.01, 'subsample': 0.5, 'colsample_bytree': 0.7, 'gamma': 0, 'reg_alpha': 0.1, 'reg_lambda': 0.3} => RMSE: 3500922.3293\n",
      "Params: {'n_estimators': 100, 'max_depth': 5, 'learning_rate': 0.01, 'subsample': 0.5, 'colsample_bytree': 0.7, 'gamma': 0, 'reg_alpha': 0.3, 'reg_lambda': 0} => RMSE: 3437166.4439\n",
      "Params: {'n_estimators': 100, 'max_depth': 5, 'learning_rate': 0.01, 'subsample': 0.5, 'colsample_bytree': 0.7, 'gamma': 0, 'reg_alpha': 0.3, 'reg_lambda': 0.1} => RMSE: 3450402.3672\n",
      "Params: {'n_estimators': 100, 'max_depth': 5, 'learning_rate': 0.01, 'subsample': 0.5, 'colsample_bytree': 0.7, 'gamma': 0, 'reg_alpha': 0.3, 'reg_lambda': 0.3} => RMSE: 3500922.3293\n",
      "Params: {'n_estimators': 100, 'max_depth': 5, 'learning_rate': 0.01, 'subsample': 0.5, 'colsample_bytree': 0.7, 'gamma': 0.1, 'reg_alpha': 0, 'reg_lambda': 0} => RMSE: 3437166.1334\n",
      "Params: {'n_estimators': 100, 'max_depth': 5, 'learning_rate': 0.01, 'subsample': 0.5, 'colsample_bytree': 0.7, 'gamma': 0.1, 'reg_alpha': 0, 'reg_lambda': 0.1} => RMSE: 3450402.6988\n",
      "Params: {'n_estimators': 100, 'max_depth': 5, 'learning_rate': 0.01, 'subsample': 0.5, 'colsample_bytree': 0.7, 'gamma': 0.1, 'reg_alpha': 0, 'reg_lambda': 0.3} => RMSE: 3500922.3520\n",
      "Params: {'n_estimators': 100, 'max_depth': 5, 'learning_rate': 0.01, 'subsample': 0.5, 'colsample_bytree': 0.7, 'gamma': 0.1, 'reg_alpha': 0.1, 'reg_lambda': 0} => RMSE: 3437166.1334\n",
      "Params: {'n_estimators': 100, 'max_depth': 5, 'learning_rate': 0.01, 'subsample': 0.5, 'colsample_bytree': 0.7, 'gamma': 0.1, 'reg_alpha': 0.1, 'reg_lambda': 0.1} => RMSE: 3450402.6988\n",
      "Params: {'n_estimators': 100, 'max_depth': 5, 'learning_rate': 0.01, 'subsample': 0.5, 'colsample_bytree': 0.7, 'gamma': 0.1, 'reg_alpha': 0.1, 'reg_lambda': 0.3} => RMSE: 3500922.3293\n",
      "Params: {'n_estimators': 100, 'max_depth': 5, 'learning_rate': 0.01, 'subsample': 0.5, 'colsample_bytree': 0.7, 'gamma': 0.1, 'reg_alpha': 0.3, 'reg_lambda': 0} => RMSE: 3437166.4439\n",
      "Params: {'n_estimators': 100, 'max_depth': 5, 'learning_rate': 0.01, 'subsample': 0.5, 'colsample_bytree': 0.7, 'gamma': 0.1, 'reg_alpha': 0.3, 'reg_lambda': 0.1} => RMSE: 3450402.3672\n",
      "Params: {'n_estimators': 100, 'max_depth': 5, 'learning_rate': 0.01, 'subsample': 0.5, 'colsample_bytree': 0.7, 'gamma': 0.1, 'reg_alpha': 0.3, 'reg_lambda': 0.3} => RMSE: 3500922.3293\n",
      "Params: {'n_estimators': 100, 'max_depth': 5, 'learning_rate': 0.01, 'subsample': 0.5, 'colsample_bytree': 0.7, 'gamma': 0.3, 'reg_alpha': 0, 'reg_lambda': 0} => RMSE: 3437166.1334\n",
      "Params: {'n_estimators': 100, 'max_depth': 5, 'learning_rate': 0.01, 'subsample': 0.5, 'colsample_bytree': 0.7, 'gamma': 0.3, 'reg_alpha': 0, 'reg_lambda': 0.1} => RMSE: 3450402.6988\n",
      "Params: {'n_estimators': 100, 'max_depth': 5, 'learning_rate': 0.01, 'subsample': 0.5, 'colsample_bytree': 0.7, 'gamma': 0.3, 'reg_alpha': 0, 'reg_lambda': 0.3} => RMSE: 3500922.3520\n",
      "Params: {'n_estimators': 100, 'max_depth': 5, 'learning_rate': 0.01, 'subsample': 0.5, 'colsample_bytree': 0.7, 'gamma': 0.3, 'reg_alpha': 0.1, 'reg_lambda': 0} => RMSE: 3437166.1334\n",
      "Params: {'n_estimators': 100, 'max_depth': 5, 'learning_rate': 0.01, 'subsample': 0.5, 'colsample_bytree': 0.7, 'gamma': 0.3, 'reg_alpha': 0.1, 'reg_lambda': 0.1} => RMSE: 3450402.6988\n",
      "Params: {'n_estimators': 100, 'max_depth': 5, 'learning_rate': 0.01, 'subsample': 0.5, 'colsample_bytree': 0.7, 'gamma': 0.3, 'reg_alpha': 0.1, 'reg_lambda': 0.3} => RMSE: 3500922.3293\n",
      "Params: {'n_estimators': 100, 'max_depth': 5, 'learning_rate': 0.01, 'subsample': 0.5, 'colsample_bytree': 0.7, 'gamma': 0.3, 'reg_alpha': 0.3, 'reg_lambda': 0} => RMSE: 3437166.4439\n",
      "Params: {'n_estimators': 100, 'max_depth': 5, 'learning_rate': 0.01, 'subsample': 0.5, 'colsample_bytree': 0.7, 'gamma': 0.3, 'reg_alpha': 0.3, 'reg_lambda': 0.1} => RMSE: 3450402.3672\n",
      "Params: {'n_estimators': 100, 'max_depth': 5, 'learning_rate': 0.01, 'subsample': 0.5, 'colsample_bytree': 0.7, 'gamma': 0.3, 'reg_alpha': 0.3, 'reg_lambda': 0.3} => RMSE: 3500922.3293\n",
      "Params: {'n_estimators': 100, 'max_depth': 5, 'learning_rate': 0.01, 'subsample': 0.5, 'colsample_bytree': 1, 'gamma': 0, 'reg_alpha': 0, 'reg_lambda': 0} => RMSE: 3425446.5727\n",
      "Params: {'n_estimators': 100, 'max_depth': 5, 'learning_rate': 0.01, 'subsample': 0.5, 'colsample_bytree': 1, 'gamma': 0, 'reg_alpha': 0, 'reg_lambda': 0.1} => RMSE: 3433291.8724\n",
      "Params: {'n_estimators': 100, 'max_depth': 5, 'learning_rate': 0.01, 'subsample': 0.5, 'colsample_bytree': 1, 'gamma': 0, 'reg_alpha': 0, 'reg_lambda': 0.3} => RMSE: 3430440.9984\n",
      "Params: {'n_estimators': 100, 'max_depth': 5, 'learning_rate': 0.01, 'subsample': 0.5, 'colsample_bytree': 1, 'gamma': 0, 'reg_alpha': 0.1, 'reg_lambda': 0} => RMSE: 3425446.5401\n",
      "Params: {'n_estimators': 100, 'max_depth': 5, 'learning_rate': 0.01, 'subsample': 0.5, 'colsample_bytree': 1, 'gamma': 0, 'reg_alpha': 0.1, 'reg_lambda': 0.1} => RMSE: 3433292.1752\n",
      "Params: {'n_estimators': 100, 'max_depth': 5, 'learning_rate': 0.01, 'subsample': 0.5, 'colsample_bytree': 1, 'gamma': 0, 'reg_alpha': 0.1, 'reg_lambda': 0.3} => RMSE: 3430442.4082\n",
      "Params: {'n_estimators': 100, 'max_depth': 5, 'learning_rate': 0.01, 'subsample': 0.5, 'colsample_bytree': 1, 'gamma': 0, 'reg_alpha': 0.3, 'reg_lambda': 0} => RMSE: 3425446.5401\n",
      "Params: {'n_estimators': 100, 'max_depth': 5, 'learning_rate': 0.01, 'subsample': 0.5, 'colsample_bytree': 1, 'gamma': 0, 'reg_alpha': 0.3, 'reg_lambda': 0.1} => RMSE: 3433292.4842\n",
      "Params: {'n_estimators': 100, 'max_depth': 5, 'learning_rate': 0.01, 'subsample': 0.5, 'colsample_bytree': 1, 'gamma': 0, 'reg_alpha': 0.3, 'reg_lambda': 0.3} => RMSE: 3430442.4082\n",
      "Params: {'n_estimators': 100, 'max_depth': 5, 'learning_rate': 0.01, 'subsample': 0.5, 'colsample_bytree': 1, 'gamma': 0.1, 'reg_alpha': 0, 'reg_lambda': 0} => RMSE: 3425446.5727\n",
      "Params: {'n_estimators': 100, 'max_depth': 5, 'learning_rate': 0.01, 'subsample': 0.5, 'colsample_bytree': 1, 'gamma': 0.1, 'reg_alpha': 0, 'reg_lambda': 0.1} => RMSE: 3433291.8724\n",
      "Params: {'n_estimators': 100, 'max_depth': 5, 'learning_rate': 0.01, 'subsample': 0.5, 'colsample_bytree': 1, 'gamma': 0.1, 'reg_alpha': 0, 'reg_lambda': 0.3} => RMSE: 3430440.9984\n",
      "Params: {'n_estimators': 100, 'max_depth': 5, 'learning_rate': 0.01, 'subsample': 0.5, 'colsample_bytree': 1, 'gamma': 0.1, 'reg_alpha': 0.1, 'reg_lambda': 0} => RMSE: 3425446.5401\n",
      "Params: {'n_estimators': 100, 'max_depth': 5, 'learning_rate': 0.01, 'subsample': 0.5, 'colsample_bytree': 1, 'gamma': 0.1, 'reg_alpha': 0.1, 'reg_lambda': 0.1} => RMSE: 3433292.1752\n",
      "Params: {'n_estimators': 100, 'max_depth': 5, 'learning_rate': 0.01, 'subsample': 0.5, 'colsample_bytree': 1, 'gamma': 0.1, 'reg_alpha': 0.1, 'reg_lambda': 0.3} => RMSE: 3430442.4082\n",
      "Params: {'n_estimators': 100, 'max_depth': 5, 'learning_rate': 0.01, 'subsample': 0.5, 'colsample_bytree': 1, 'gamma': 0.1, 'reg_alpha': 0.3, 'reg_lambda': 0} => RMSE: 3425446.5401\n",
      "Params: {'n_estimators': 100, 'max_depth': 5, 'learning_rate': 0.01, 'subsample': 0.5, 'colsample_bytree': 1, 'gamma': 0.1, 'reg_alpha': 0.3, 'reg_lambda': 0.1} => RMSE: 3433292.4842\n",
      "Params: {'n_estimators': 100, 'max_depth': 5, 'learning_rate': 0.01, 'subsample': 0.5, 'colsample_bytree': 1, 'gamma': 0.1, 'reg_alpha': 0.3, 'reg_lambda': 0.3} => RMSE: 3430442.4082\n",
      "Params: {'n_estimators': 100, 'max_depth': 5, 'learning_rate': 0.01, 'subsample': 0.5, 'colsample_bytree': 1, 'gamma': 0.3, 'reg_alpha': 0, 'reg_lambda': 0} => RMSE: 3425446.5727\n",
      "Params: {'n_estimators': 100, 'max_depth': 5, 'learning_rate': 0.01, 'subsample': 0.5, 'colsample_bytree': 1, 'gamma': 0.3, 'reg_alpha': 0, 'reg_lambda': 0.1} => RMSE: 3433291.8724\n",
      "Params: {'n_estimators': 100, 'max_depth': 5, 'learning_rate': 0.01, 'subsample': 0.5, 'colsample_bytree': 1, 'gamma': 0.3, 'reg_alpha': 0, 'reg_lambda': 0.3} => RMSE: 3430440.9984\n",
      "Params: {'n_estimators': 100, 'max_depth': 5, 'learning_rate': 0.01, 'subsample': 0.5, 'colsample_bytree': 1, 'gamma': 0.3, 'reg_alpha': 0.1, 'reg_lambda': 0} => RMSE: 3425446.5401\n",
      "Params: {'n_estimators': 100, 'max_depth': 5, 'learning_rate': 0.01, 'subsample': 0.5, 'colsample_bytree': 1, 'gamma': 0.3, 'reg_alpha': 0.1, 'reg_lambda': 0.1} => RMSE: 3433292.1752\n",
      "Params: {'n_estimators': 100, 'max_depth': 5, 'learning_rate': 0.01, 'subsample': 0.5, 'colsample_bytree': 1, 'gamma': 0.3, 'reg_alpha': 0.1, 'reg_lambda': 0.3} => RMSE: 3430442.4082\n",
      "Params: {'n_estimators': 100, 'max_depth': 5, 'learning_rate': 0.01, 'subsample': 0.5, 'colsample_bytree': 1, 'gamma': 0.3, 'reg_alpha': 0.3, 'reg_lambda': 0} => RMSE: 3425446.5401\n",
      "Params: {'n_estimators': 100, 'max_depth': 5, 'learning_rate': 0.01, 'subsample': 0.5, 'colsample_bytree': 1, 'gamma': 0.3, 'reg_alpha': 0.3, 'reg_lambda': 0.1} => RMSE: 3433292.4842\n",
      "Params: {'n_estimators': 100, 'max_depth': 5, 'learning_rate': 0.01, 'subsample': 0.5, 'colsample_bytree': 1, 'gamma': 0.3, 'reg_alpha': 0.3, 'reg_lambda': 0.3} => RMSE: 3430442.4082\n",
      "Params: {'n_estimators': 100, 'max_depth': 5, 'learning_rate': 0.01, 'subsample': 0.7, 'colsample_bytree': 0.5, 'gamma': 0, 'reg_alpha': 0, 'reg_lambda': 0} => RMSE: 3432995.1132\n",
      "Params: {'n_estimators': 100, 'max_depth': 5, 'learning_rate': 0.01, 'subsample': 0.7, 'colsample_bytree': 0.5, 'gamma': 0, 'reg_alpha': 0, 'reg_lambda': 0.1} => RMSE: 3419353.9813\n",
      "Params: {'n_estimators': 100, 'max_depth': 5, 'learning_rate': 0.01, 'subsample': 0.7, 'colsample_bytree': 0.5, 'gamma': 0, 'reg_alpha': 0, 'reg_lambda': 0.3} => RMSE: 3419068.4568\n",
      "Params: {'n_estimators': 100, 'max_depth': 5, 'learning_rate': 0.01, 'subsample': 0.7, 'colsample_bytree': 0.5, 'gamma': 0, 'reg_alpha': 0.1, 'reg_lambda': 0} => RMSE: 3432994.8903\n",
      "Params: {'n_estimators': 100, 'max_depth': 5, 'learning_rate': 0.01, 'subsample': 0.7, 'colsample_bytree': 0.5, 'gamma': 0, 'reg_alpha': 0.1, 'reg_lambda': 0.1} => RMSE: 3419353.9813\n",
      "Params: {'n_estimators': 100, 'max_depth': 5, 'learning_rate': 0.01, 'subsample': 0.7, 'colsample_bytree': 0.5, 'gamma': 0, 'reg_alpha': 0.1, 'reg_lambda': 0.3} => RMSE: 3419067.9481\n",
      "Params: {'n_estimators': 100, 'max_depth': 5, 'learning_rate': 0.01, 'subsample': 0.7, 'colsample_bytree': 0.5, 'gamma': 0, 'reg_alpha': 0.3, 'reg_lambda': 0} => RMSE: 3432994.2486\n",
      "Params: {'n_estimators': 100, 'max_depth': 5, 'learning_rate': 0.01, 'subsample': 0.7, 'colsample_bytree': 0.5, 'gamma': 0, 'reg_alpha': 0.3, 'reg_lambda': 0.1} => RMSE: 3419353.9813\n",
      "Params: {'n_estimators': 100, 'max_depth': 5, 'learning_rate': 0.01, 'subsample': 0.7, 'colsample_bytree': 0.5, 'gamma': 0, 'reg_alpha': 0.3, 'reg_lambda': 0.3} => RMSE: 3419067.9481\n",
      "Params: {'n_estimators': 100, 'max_depth': 5, 'learning_rate': 0.01, 'subsample': 0.7, 'colsample_bytree': 0.5, 'gamma': 0.1, 'reg_alpha': 0, 'reg_lambda': 0} => RMSE: 3432995.1132\n",
      "Params: {'n_estimators': 100, 'max_depth': 5, 'learning_rate': 0.01, 'subsample': 0.7, 'colsample_bytree': 0.5, 'gamma': 0.1, 'reg_alpha': 0, 'reg_lambda': 0.1} => RMSE: 3419353.9813\n",
      "Params: {'n_estimators': 100, 'max_depth': 5, 'learning_rate': 0.01, 'subsample': 0.7, 'colsample_bytree': 0.5, 'gamma': 0.1, 'reg_alpha': 0, 'reg_lambda': 0.3} => RMSE: 3419068.4568\n",
      "Params: {'n_estimators': 100, 'max_depth': 5, 'learning_rate': 0.01, 'subsample': 0.7, 'colsample_bytree': 0.5, 'gamma': 0.1, 'reg_alpha': 0.1, 'reg_lambda': 0} => RMSE: 3432994.8903\n",
      "Params: {'n_estimators': 100, 'max_depth': 5, 'learning_rate': 0.01, 'subsample': 0.7, 'colsample_bytree': 0.5, 'gamma': 0.1, 'reg_alpha': 0.1, 'reg_lambda': 0.1} => RMSE: 3419353.9813\n",
      "Params: {'n_estimators': 100, 'max_depth': 5, 'learning_rate': 0.01, 'subsample': 0.7, 'colsample_bytree': 0.5, 'gamma': 0.1, 'reg_alpha': 0.1, 'reg_lambda': 0.3} => RMSE: 3419067.9481\n",
      "Params: {'n_estimators': 100, 'max_depth': 5, 'learning_rate': 0.01, 'subsample': 0.7, 'colsample_bytree': 0.5, 'gamma': 0.1, 'reg_alpha': 0.3, 'reg_lambda': 0} => RMSE: 3432994.2486\n",
      "Params: {'n_estimators': 100, 'max_depth': 5, 'learning_rate': 0.01, 'subsample': 0.7, 'colsample_bytree': 0.5, 'gamma': 0.1, 'reg_alpha': 0.3, 'reg_lambda': 0.1} => RMSE: 3419353.9813\n",
      "Params: {'n_estimators': 100, 'max_depth': 5, 'learning_rate': 0.01, 'subsample': 0.7, 'colsample_bytree': 0.5, 'gamma': 0.1, 'reg_alpha': 0.3, 'reg_lambda': 0.3} => RMSE: 3419067.9481\n",
      "Params: {'n_estimators': 100, 'max_depth': 5, 'learning_rate': 0.01, 'subsample': 0.7, 'colsample_bytree': 0.5, 'gamma': 0.3, 'reg_alpha': 0, 'reg_lambda': 0} => RMSE: 3432995.1132\n",
      "Params: {'n_estimators': 100, 'max_depth': 5, 'learning_rate': 0.01, 'subsample': 0.7, 'colsample_bytree': 0.5, 'gamma': 0.3, 'reg_alpha': 0, 'reg_lambda': 0.1} => RMSE: 3419353.9813\n",
      "Params: {'n_estimators': 100, 'max_depth': 5, 'learning_rate': 0.01, 'subsample': 0.7, 'colsample_bytree': 0.5, 'gamma': 0.3, 'reg_alpha': 0, 'reg_lambda': 0.3} => RMSE: 3419068.4568\n",
      "Params: {'n_estimators': 100, 'max_depth': 5, 'learning_rate': 0.01, 'subsample': 0.7, 'colsample_bytree': 0.5, 'gamma': 0.3, 'reg_alpha': 0.1, 'reg_lambda': 0} => RMSE: 3432994.8903\n",
      "Params: {'n_estimators': 100, 'max_depth': 5, 'learning_rate': 0.01, 'subsample': 0.7, 'colsample_bytree': 0.5, 'gamma': 0.3, 'reg_alpha': 0.1, 'reg_lambda': 0.1} => RMSE: 3419353.9813\n",
      "Params: {'n_estimators': 100, 'max_depth': 5, 'learning_rate': 0.01, 'subsample': 0.7, 'colsample_bytree': 0.5, 'gamma': 0.3, 'reg_alpha': 0.1, 'reg_lambda': 0.3} => RMSE: 3419067.9481\n",
      "Params: {'n_estimators': 100, 'max_depth': 5, 'learning_rate': 0.01, 'subsample': 0.7, 'colsample_bytree': 0.5, 'gamma': 0.3, 'reg_alpha': 0.3, 'reg_lambda': 0} => RMSE: 3432994.2486\n",
      "Params: {'n_estimators': 100, 'max_depth': 5, 'learning_rate': 0.01, 'subsample': 0.7, 'colsample_bytree': 0.5, 'gamma': 0.3, 'reg_alpha': 0.3, 'reg_lambda': 0.1} => RMSE: 3419353.9813\n",
      "Params: {'n_estimators': 100, 'max_depth': 5, 'learning_rate': 0.01, 'subsample': 0.7, 'colsample_bytree': 0.5, 'gamma': 0.3, 'reg_alpha': 0.3, 'reg_lambda': 0.3} => RMSE: 3419067.9481\n",
      "Params: {'n_estimators': 100, 'max_depth': 5, 'learning_rate': 0.01, 'subsample': 0.7, 'colsample_bytree': 0.7, 'gamma': 0, 'reg_alpha': 0, 'reg_lambda': 0} => RMSE: 3408627.4259\n",
      "Params: {'n_estimators': 100, 'max_depth': 5, 'learning_rate': 0.01, 'subsample': 0.7, 'colsample_bytree': 0.7, 'gamma': 0, 'reg_alpha': 0, 'reg_lambda': 0.1} => RMSE: 3388991.0009\n",
      "Params: {'n_estimators': 100, 'max_depth': 5, 'learning_rate': 0.01, 'subsample': 0.7, 'colsample_bytree': 0.7, 'gamma': 0, 'reg_alpha': 0, 'reg_lambda': 0.3} => RMSE: 3375294.1665\n",
      "Params: {'n_estimators': 100, 'max_depth': 5, 'learning_rate': 0.01, 'subsample': 0.7, 'colsample_bytree': 0.7, 'gamma': 0, 'reg_alpha': 0.1, 'reg_lambda': 0} => RMSE: 3408627.5688\n",
      "Params: {'n_estimators': 100, 'max_depth': 5, 'learning_rate': 0.01, 'subsample': 0.7, 'colsample_bytree': 0.7, 'gamma': 0, 'reg_alpha': 0.1, 'reg_lambda': 0.1} => RMSE: 3388989.9870\n",
      "Params: {'n_estimators': 100, 'max_depth': 5, 'learning_rate': 0.01, 'subsample': 0.7, 'colsample_bytree': 0.7, 'gamma': 0, 'reg_alpha': 0.1, 'reg_lambda': 0.3} => RMSE: 3375294.1665\n",
      "Params: {'n_estimators': 100, 'max_depth': 5, 'learning_rate': 0.01, 'subsample': 0.7, 'colsample_bytree': 0.7, 'gamma': 0, 'reg_alpha': 0.3, 'reg_lambda': 0} => RMSE: 3408627.4259\n",
      "Params: {'n_estimators': 100, 'max_depth': 5, 'learning_rate': 0.01, 'subsample': 0.7, 'colsample_bytree': 0.7, 'gamma': 0, 'reg_alpha': 0.3, 'reg_lambda': 0.1} => RMSE: 3388989.9870\n",
      "Params: {'n_estimators': 100, 'max_depth': 5, 'learning_rate': 0.01, 'subsample': 0.7, 'colsample_bytree': 0.7, 'gamma': 0, 'reg_alpha': 0.3, 'reg_lambda': 0.3} => RMSE: 3375294.1665\n",
      "Params: {'n_estimators': 100, 'max_depth': 5, 'learning_rate': 0.01, 'subsample': 0.7, 'colsample_bytree': 0.7, 'gamma': 0.1, 'reg_alpha': 0, 'reg_lambda': 0} => RMSE: 3408627.4259\n",
      "Params: {'n_estimators': 100, 'max_depth': 5, 'learning_rate': 0.01, 'subsample': 0.7, 'colsample_bytree': 0.7, 'gamma': 0.1, 'reg_alpha': 0, 'reg_lambda': 0.1} => RMSE: 3388991.0009\n",
      "Params: {'n_estimators': 100, 'max_depth': 5, 'learning_rate': 0.01, 'subsample': 0.7, 'colsample_bytree': 0.7, 'gamma': 0.1, 'reg_alpha': 0, 'reg_lambda': 0.3} => RMSE: 3375294.1665\n",
      "Params: {'n_estimators': 100, 'max_depth': 5, 'learning_rate': 0.01, 'subsample': 0.7, 'colsample_bytree': 0.7, 'gamma': 0.1, 'reg_alpha': 0.1, 'reg_lambda': 0} => RMSE: 3408627.5688\n",
      "Params: {'n_estimators': 100, 'max_depth': 5, 'learning_rate': 0.01, 'subsample': 0.7, 'colsample_bytree': 0.7, 'gamma': 0.1, 'reg_alpha': 0.1, 'reg_lambda': 0.1} => RMSE: 3388989.9870\n",
      "Params: {'n_estimators': 100, 'max_depth': 5, 'learning_rate': 0.01, 'subsample': 0.7, 'colsample_bytree': 0.7, 'gamma': 0.1, 'reg_alpha': 0.1, 'reg_lambda': 0.3} => RMSE: 3375294.1665\n",
      "Params: {'n_estimators': 100, 'max_depth': 5, 'learning_rate': 0.01, 'subsample': 0.7, 'colsample_bytree': 0.7, 'gamma': 0.1, 'reg_alpha': 0.3, 'reg_lambda': 0} => RMSE: 3408627.4259\n",
      "Params: {'n_estimators': 100, 'max_depth': 5, 'learning_rate': 0.01, 'subsample': 0.7, 'colsample_bytree': 0.7, 'gamma': 0.1, 'reg_alpha': 0.3, 'reg_lambda': 0.1} => RMSE: 3388989.9870\n",
      "Params: {'n_estimators': 100, 'max_depth': 5, 'learning_rate': 0.01, 'subsample': 0.7, 'colsample_bytree': 0.7, 'gamma': 0.1, 'reg_alpha': 0.3, 'reg_lambda': 0.3} => RMSE: 3375294.1665\n",
      "Params: {'n_estimators': 100, 'max_depth': 5, 'learning_rate': 0.01, 'subsample': 0.7, 'colsample_bytree': 0.7, 'gamma': 0.3, 'reg_alpha': 0, 'reg_lambda': 0} => RMSE: 3408627.4259\n",
      "Params: {'n_estimators': 100, 'max_depth': 5, 'learning_rate': 0.01, 'subsample': 0.7, 'colsample_bytree': 0.7, 'gamma': 0.3, 'reg_alpha': 0, 'reg_lambda': 0.1} => RMSE: 3388991.0009\n",
      "Params: {'n_estimators': 100, 'max_depth': 5, 'learning_rate': 0.01, 'subsample': 0.7, 'colsample_bytree': 0.7, 'gamma': 0.3, 'reg_alpha': 0, 'reg_lambda': 0.3} => RMSE: 3375294.1665\n",
      "Params: {'n_estimators': 100, 'max_depth': 5, 'learning_rate': 0.01, 'subsample': 0.7, 'colsample_bytree': 0.7, 'gamma': 0.3, 'reg_alpha': 0.1, 'reg_lambda': 0} => RMSE: 3408627.5688\n",
      "Params: {'n_estimators': 100, 'max_depth': 5, 'learning_rate': 0.01, 'subsample': 0.7, 'colsample_bytree': 0.7, 'gamma': 0.3, 'reg_alpha': 0.1, 'reg_lambda': 0.1} => RMSE: 3388989.9870\n",
      "Params: {'n_estimators': 100, 'max_depth': 5, 'learning_rate': 0.01, 'subsample': 0.7, 'colsample_bytree': 0.7, 'gamma': 0.3, 'reg_alpha': 0.1, 'reg_lambda': 0.3} => RMSE: 3375294.1665\n",
      "Params: {'n_estimators': 100, 'max_depth': 5, 'learning_rate': 0.01, 'subsample': 0.7, 'colsample_bytree': 0.7, 'gamma': 0.3, 'reg_alpha': 0.3, 'reg_lambda': 0} => RMSE: 3408627.4259\n",
      "Params: {'n_estimators': 100, 'max_depth': 5, 'learning_rate': 0.01, 'subsample': 0.7, 'colsample_bytree': 0.7, 'gamma': 0.3, 'reg_alpha': 0.3, 'reg_lambda': 0.1} => RMSE: 3388989.9870\n",
      "Params: {'n_estimators': 100, 'max_depth': 5, 'learning_rate': 0.01, 'subsample': 0.7, 'colsample_bytree': 0.7, 'gamma': 0.3, 'reg_alpha': 0.3, 'reg_lambda': 0.3} => RMSE: 3375294.1665\n",
      "Params: {'n_estimators': 100, 'max_depth': 5, 'learning_rate': 0.01, 'subsample': 0.7, 'colsample_bytree': 1, 'gamma': 0, 'reg_alpha': 0, 'reg_lambda': 0} => RMSE: 3413534.8851\n",
      "Params: {'n_estimators': 100, 'max_depth': 5, 'learning_rate': 0.01, 'subsample': 0.7, 'colsample_bytree': 1, 'gamma': 0, 'reg_alpha': 0, 'reg_lambda': 0.1} => RMSE: 3442706.0117\n",
      "Params: {'n_estimators': 100, 'max_depth': 5, 'learning_rate': 0.01, 'subsample': 0.7, 'colsample_bytree': 1, 'gamma': 0, 'reg_alpha': 0, 'reg_lambda': 0.3} => RMSE: 3440743.0837\n",
      "Params: {'n_estimators': 100, 'max_depth': 5, 'learning_rate': 0.01, 'subsample': 0.7, 'colsample_bytree': 1, 'gamma': 0, 'reg_alpha': 0.1, 'reg_lambda': 0} => RMSE: 3413535.2277\n",
      "Params: {'n_estimators': 100, 'max_depth': 5, 'learning_rate': 0.01, 'subsample': 0.7, 'colsample_bytree': 1, 'gamma': 0, 'reg_alpha': 0.1, 'reg_lambda': 0.1} => RMSE: 3442706.0117\n",
      "Params: {'n_estimators': 100, 'max_depth': 5, 'learning_rate': 0.01, 'subsample': 0.7, 'colsample_bytree': 1, 'gamma': 0, 'reg_alpha': 0.1, 'reg_lambda': 0.3} => RMSE: 3440743.0837\n",
      "Params: {'n_estimators': 100, 'max_depth': 5, 'learning_rate': 0.01, 'subsample': 0.7, 'colsample_bytree': 1, 'gamma': 0, 'reg_alpha': 0.3, 'reg_lambda': 0} => RMSE: 3413536.7201\n",
      "Params: {'n_estimators': 100, 'max_depth': 5, 'learning_rate': 0.01, 'subsample': 0.7, 'colsample_bytree': 1, 'gamma': 0, 'reg_alpha': 0.3, 'reg_lambda': 0.1} => RMSE: 3442706.0117\n",
      "Params: {'n_estimators': 100, 'max_depth': 5, 'learning_rate': 0.01, 'subsample': 0.7, 'colsample_bytree': 1, 'gamma': 0, 'reg_alpha': 0.3, 'reg_lambda': 0.3} => RMSE: 3440743.0837\n",
      "Params: {'n_estimators': 100, 'max_depth': 5, 'learning_rate': 0.01, 'subsample': 0.7, 'colsample_bytree': 1, 'gamma': 0.1, 'reg_alpha': 0, 'reg_lambda': 0} => RMSE: 3413534.8851\n",
      "Params: {'n_estimators': 100, 'max_depth': 5, 'learning_rate': 0.01, 'subsample': 0.7, 'colsample_bytree': 1, 'gamma': 0.1, 'reg_alpha': 0, 'reg_lambda': 0.1} => RMSE: 3442706.0117\n",
      "Params: {'n_estimators': 100, 'max_depth': 5, 'learning_rate': 0.01, 'subsample': 0.7, 'colsample_bytree': 1, 'gamma': 0.1, 'reg_alpha': 0, 'reg_lambda': 0.3} => RMSE: 3440743.0837\n",
      "Params: {'n_estimators': 100, 'max_depth': 5, 'learning_rate': 0.01, 'subsample': 0.7, 'colsample_bytree': 1, 'gamma': 0.1, 'reg_alpha': 0.1, 'reg_lambda': 0} => RMSE: 3413535.2277\n",
      "Params: {'n_estimators': 100, 'max_depth': 5, 'learning_rate': 0.01, 'subsample': 0.7, 'colsample_bytree': 1, 'gamma': 0.1, 'reg_alpha': 0.1, 'reg_lambda': 0.1} => RMSE: 3442706.0117\n",
      "Params: {'n_estimators': 100, 'max_depth': 5, 'learning_rate': 0.01, 'subsample': 0.7, 'colsample_bytree': 1, 'gamma': 0.1, 'reg_alpha': 0.1, 'reg_lambda': 0.3} => RMSE: 3440743.0837\n",
      "Params: {'n_estimators': 100, 'max_depth': 5, 'learning_rate': 0.01, 'subsample': 0.7, 'colsample_bytree': 1, 'gamma': 0.1, 'reg_alpha': 0.3, 'reg_lambda': 0} => RMSE: 3413536.7201\n",
      "Params: {'n_estimators': 100, 'max_depth': 5, 'learning_rate': 0.01, 'subsample': 0.7, 'colsample_bytree': 1, 'gamma': 0.1, 'reg_alpha': 0.3, 'reg_lambda': 0.1} => RMSE: 3442706.0117\n",
      "Params: {'n_estimators': 100, 'max_depth': 5, 'learning_rate': 0.01, 'subsample': 0.7, 'colsample_bytree': 1, 'gamma': 0.1, 'reg_alpha': 0.3, 'reg_lambda': 0.3} => RMSE: 3440743.0837\n",
      "Params: {'n_estimators': 100, 'max_depth': 5, 'learning_rate': 0.01, 'subsample': 0.7, 'colsample_bytree': 1, 'gamma': 0.3, 'reg_alpha': 0, 'reg_lambda': 0} => RMSE: 3413534.8851\n",
      "Params: {'n_estimators': 100, 'max_depth': 5, 'learning_rate': 0.01, 'subsample': 0.7, 'colsample_bytree': 1, 'gamma': 0.3, 'reg_alpha': 0, 'reg_lambda': 0.1} => RMSE: 3442706.0117\n",
      "Params: {'n_estimators': 100, 'max_depth': 5, 'learning_rate': 0.01, 'subsample': 0.7, 'colsample_bytree': 1, 'gamma': 0.3, 'reg_alpha': 0, 'reg_lambda': 0.3} => RMSE: 3440743.0837\n",
      "Params: {'n_estimators': 100, 'max_depth': 5, 'learning_rate': 0.01, 'subsample': 0.7, 'colsample_bytree': 1, 'gamma': 0.3, 'reg_alpha': 0.1, 'reg_lambda': 0} => RMSE: 3413535.2277\n",
      "Params: {'n_estimators': 100, 'max_depth': 5, 'learning_rate': 0.01, 'subsample': 0.7, 'colsample_bytree': 1, 'gamma': 0.3, 'reg_alpha': 0.1, 'reg_lambda': 0.1} => RMSE: 3442706.0117\n",
      "Params: {'n_estimators': 100, 'max_depth': 5, 'learning_rate': 0.01, 'subsample': 0.7, 'colsample_bytree': 1, 'gamma': 0.3, 'reg_alpha': 0.1, 'reg_lambda': 0.3} => RMSE: 3440743.0837\n",
      "Params: {'n_estimators': 100, 'max_depth': 5, 'learning_rate': 0.01, 'subsample': 0.7, 'colsample_bytree': 1, 'gamma': 0.3, 'reg_alpha': 0.3, 'reg_lambda': 0} => RMSE: 3413536.7201\n",
      "Params: {'n_estimators': 100, 'max_depth': 5, 'learning_rate': 0.01, 'subsample': 0.7, 'colsample_bytree': 1, 'gamma': 0.3, 'reg_alpha': 0.3, 'reg_lambda': 0.1} => RMSE: 3442706.0117\n",
      "Params: {'n_estimators': 100, 'max_depth': 5, 'learning_rate': 0.01, 'subsample': 0.7, 'colsample_bytree': 1, 'gamma': 0.3, 'reg_alpha': 0.3, 'reg_lambda': 0.3} => RMSE: 3440743.0837\n",
      "Params: {'n_estimators': 100, 'max_depth': 5, 'learning_rate': 0.1, 'subsample': 0.5, 'colsample_bytree': 0.5, 'gamma': 0, 'reg_alpha': 0, 'reg_lambda': 0} => RMSE: 3442591.8781\n",
      "Params: {'n_estimators': 100, 'max_depth': 5, 'learning_rate': 0.1, 'subsample': 0.5, 'colsample_bytree': 0.5, 'gamma': 0, 'reg_alpha': 0, 'reg_lambda': 0.1} => RMSE: 3537899.0298\n",
      "Params: {'n_estimators': 100, 'max_depth': 5, 'learning_rate': 0.1, 'subsample': 0.5, 'colsample_bytree': 0.5, 'gamma': 0, 'reg_alpha': 0, 'reg_lambda': 0.3} => RMSE: 3317244.0744\n",
      "Params: {'n_estimators': 100, 'max_depth': 5, 'learning_rate': 0.1, 'subsample': 0.5, 'colsample_bytree': 0.5, 'gamma': 0, 'reg_alpha': 0.1, 'reg_lambda': 0} => RMSE: 3442595.5842\n",
      "Params: {'n_estimators': 100, 'max_depth': 5, 'learning_rate': 0.1, 'subsample': 0.5, 'colsample_bytree': 0.5, 'gamma': 0, 'reg_alpha': 0.1, 'reg_lambda': 0.1} => RMSE: 3537899.0298\n",
      "Params: {'n_estimators': 100, 'max_depth': 5, 'learning_rate': 0.1, 'subsample': 0.5, 'colsample_bytree': 0.5, 'gamma': 0, 'reg_alpha': 0.1, 'reg_lambda': 0.3} => RMSE: 3317245.0490\n"
     ]
    },
    {
     "name": "stderr",
     "output_type": "stream",
     "text": [
      "Exception ignored on calling ctypes callback function: <bound method DataIter._next_wrapper of <xgboost.data.SingleBatchInternalIter object at 0x12b94c380>>\n",
      "Traceback (most recent call last):\n",
      "  File \"/opt/anaconda3/envs/DM2425/lib/python3.12/site-packages/xgboost/core.py\", line 582, in _next_wrapper\n",
      "    def _next_wrapper(self, this: None) -> int:  # pylint: disable=unused-argument\n",
      "\n",
      "KeyboardInterrupt: \n"
     ]
    },
    {
     "name": "stdout",
     "output_type": "stream",
     "text": [
      "Params: {'n_estimators': 100, 'max_depth': 5, 'learning_rate': 0.1, 'subsample': 0.5, 'colsample_bytree': 0.5, 'gamma': 0, 'reg_alpha': 0.3, 'reg_lambda': 0} => RMSE: 3442594.8428\n",
      "Params: {'n_estimators': 100, 'max_depth': 5, 'learning_rate': 0.1, 'subsample': 0.5, 'colsample_bytree': 0.5, 'gamma': 0, 'reg_alpha': 0.3, 'reg_lambda': 0.1} => RMSE: 3537897.7578\n",
      "Params: {'n_estimators': 100, 'max_depth': 5, 'learning_rate': 0.1, 'subsample': 0.5, 'colsample_bytree': 0.5, 'gamma': 0, 'reg_alpha': 0.3, 'reg_lambda': 0.3} => RMSE: 3317245.0490\n",
      "Params: {'n_estimators': 100, 'max_depth': 5, 'learning_rate': 0.1, 'subsample': 0.5, 'colsample_bytree': 0.5, 'gamma': 0.1, 'reg_alpha': 0, 'reg_lambda': 0} => RMSE: 3442591.8781\n",
      "Params: {'n_estimators': 100, 'max_depth': 5, 'learning_rate': 0.1, 'subsample': 0.5, 'colsample_bytree': 0.5, 'gamma': 0.1, 'reg_alpha': 0, 'reg_lambda': 0.1} => RMSE: 3537899.0298\n",
      "Params: {'n_estimators': 100, 'max_depth': 5, 'learning_rate': 0.1, 'subsample': 0.5, 'colsample_bytree': 0.5, 'gamma': 0.1, 'reg_alpha': 0, 'reg_lambda': 0.3} => RMSE: 3317244.0744\n",
      "Params: {'n_estimators': 100, 'max_depth': 5, 'learning_rate': 0.1, 'subsample': 0.5, 'colsample_bytree': 0.5, 'gamma': 0.1, 'reg_alpha': 0.1, 'reg_lambda': 0} => RMSE: 3442595.5842\n",
      "Params: {'n_estimators': 100, 'max_depth': 5, 'learning_rate': 0.1, 'subsample': 0.5, 'colsample_bytree': 0.5, 'gamma': 0.1, 'reg_alpha': 0.1, 'reg_lambda': 0.1} => RMSE: 3537899.0298\n",
      "Params: {'n_estimators': 100, 'max_depth': 5, 'learning_rate': 0.1, 'subsample': 0.5, 'colsample_bytree': 0.5, 'gamma': 0.1, 'reg_alpha': 0.1, 'reg_lambda': 0.3} => RMSE: 3317245.0490\n",
      "Params: {'n_estimators': 100, 'max_depth': 5, 'learning_rate': 0.1, 'subsample': 0.5, 'colsample_bytree': 0.5, 'gamma': 0.1, 'reg_alpha': 0.3, 'reg_lambda': 0} => RMSE: 3442594.8428\n",
      "Params: {'n_estimators': 100, 'max_depth': 5, 'learning_rate': 0.1, 'subsample': 0.5, 'colsample_bytree': 0.5, 'gamma': 0.1, 'reg_alpha': 0.3, 'reg_lambda': 0.1} => RMSE: 3537897.7578\n",
      "Params: {'n_estimators': 100, 'max_depth': 5, 'learning_rate': 0.1, 'subsample': 0.5, 'colsample_bytree': 0.5, 'gamma': 0.1, 'reg_alpha': 0.3, 'reg_lambda': 0.3} => RMSE: 3317245.0490\n",
      "Params: {'n_estimators': 100, 'max_depth': 5, 'learning_rate': 0.1, 'subsample': 0.5, 'colsample_bytree': 0.5, 'gamma': 0.3, 'reg_alpha': 0, 'reg_lambda': 0} => RMSE: 3442591.8781\n",
      "Params: {'n_estimators': 100, 'max_depth': 5, 'learning_rate': 0.1, 'subsample': 0.5, 'colsample_bytree': 0.5, 'gamma': 0.3, 'reg_alpha': 0, 'reg_lambda': 0.1} => RMSE: 3537899.0298\n",
      "Params: {'n_estimators': 100, 'max_depth': 5, 'learning_rate': 0.1, 'subsample': 0.5, 'colsample_bytree': 0.5, 'gamma': 0.3, 'reg_alpha': 0, 'reg_lambda': 0.3} => RMSE: 3317244.0744\n",
      "Params: {'n_estimators': 100, 'max_depth': 5, 'learning_rate': 0.1, 'subsample': 0.5, 'colsample_bytree': 0.5, 'gamma': 0.3, 'reg_alpha': 0.1, 'reg_lambda': 0} => RMSE: 3442595.5842\n",
      "Params: {'n_estimators': 100, 'max_depth': 5, 'learning_rate': 0.1, 'subsample': 0.5, 'colsample_bytree': 0.5, 'gamma': 0.3, 'reg_alpha': 0.1, 'reg_lambda': 0.1} => RMSE: 3537899.0298\n",
      "Params: {'n_estimators': 100, 'max_depth': 5, 'learning_rate': 0.1, 'subsample': 0.5, 'colsample_bytree': 0.5, 'gamma': 0.3, 'reg_alpha': 0.1, 'reg_lambda': 0.3} => RMSE: 3317245.0490\n",
      "Params: {'n_estimators': 100, 'max_depth': 5, 'learning_rate': 0.1, 'subsample': 0.5, 'colsample_bytree': 0.5, 'gamma': 0.3, 'reg_alpha': 0.3, 'reg_lambda': 0} => RMSE: 3442594.8428\n",
      "Params: {'n_estimators': 100, 'max_depth': 5, 'learning_rate': 0.1, 'subsample': 0.5, 'colsample_bytree': 0.5, 'gamma': 0.3, 'reg_alpha': 0.3, 'reg_lambda': 0.1} => RMSE: 3537897.7578\n",
      "Params: {'n_estimators': 100, 'max_depth': 5, 'learning_rate': 0.1, 'subsample': 0.5, 'colsample_bytree': 0.5, 'gamma': 0.3, 'reg_alpha': 0.3, 'reg_lambda': 0.3} => RMSE: 3317245.0490\n",
      "Params: {'n_estimators': 100, 'max_depth': 5, 'learning_rate': 0.1, 'subsample': 0.5, 'colsample_bytree': 0.7, 'gamma': 0, 'reg_alpha': 0, 'reg_lambda': 0} => RMSE: 3335569.8272\n",
      "Params: {'n_estimators': 100, 'max_depth': 5, 'learning_rate': 0.1, 'subsample': 0.5, 'colsample_bytree': 0.7, 'gamma': 0, 'reg_alpha': 0, 'reg_lambda': 0.1} => RMSE: 3592930.5930\n",
      "Params: {'n_estimators': 100, 'max_depth': 5, 'learning_rate': 0.1, 'subsample': 0.5, 'colsample_bytree': 0.7, 'gamma': 0, 'reg_alpha': 0, 'reg_lambda': 0.3} => RMSE: 3508392.4088\n",
      "Params: {'n_estimators': 100, 'max_depth': 5, 'learning_rate': 0.1, 'subsample': 0.5, 'colsample_bytree': 0.7, 'gamma': 0, 'reg_alpha': 0.1, 'reg_lambda': 0} => RMSE: 3335568.2822\n",
      "Params: {'n_estimators': 100, 'max_depth': 5, 'learning_rate': 0.1, 'subsample': 0.5, 'colsample_bytree': 0.7, 'gamma': 0, 'reg_alpha': 0.1, 'reg_lambda': 0.1} => RMSE: 3592930.9344\n",
      "Params: {'n_estimators': 100, 'max_depth': 5, 'learning_rate': 0.1, 'subsample': 0.5, 'colsample_bytree': 0.7, 'gamma': 0, 'reg_alpha': 0.1, 'reg_lambda': 0.3} => RMSE: 3508393.0857\n",
      "Params: {'n_estimators': 100, 'max_depth': 5, 'learning_rate': 0.1, 'subsample': 0.5, 'colsample_bytree': 0.7, 'gamma': 0, 'reg_alpha': 0.3, 'reg_lambda': 0} => RMSE: 3335555.3307\n",
      "Params: {'n_estimators': 100, 'max_depth': 5, 'learning_rate': 0.1, 'subsample': 0.5, 'colsample_bytree': 0.7, 'gamma': 0, 'reg_alpha': 0.3, 'reg_lambda': 0.1} => RMSE: 3592930.2415\n",
      "Params: {'n_estimators': 100, 'max_depth': 5, 'learning_rate': 0.1, 'subsample': 0.5, 'colsample_bytree': 0.7, 'gamma': 0, 'reg_alpha': 0.3, 'reg_lambda': 0.3} => RMSE: 3508394.9215\n"
     ]
    }
   ],
   "source": [
    "## EXAMPLE \n",
    "# XGboost\n",
    "\n",
    "X_train, X_val, y_train, y_val = train_val_split(sales_agg1, df_market, train_size = 0.8)\n",
    "\n",
    "X_val.info() \n",
    "\n",
    "param_grid = {\n",
    "    'n_estimators': [100, 200],\n",
    "    'max_depth': [5, 7],\n",
    "    'learning_rate': [0.01, 0.1, 0.3],\n",
    "    'subsample': [0.5, 0.7],\n",
    "    'colsample_bytree': [0.5, 0.7, 1],\n",
    "    'gamma': [0, 0.1, 0.3],\n",
    "    'reg_alpha': [0, 0.1, 0.3],\n",
    "    'reg_lambda': [0, 0.1, 0.3]\n",
    "}\n",
    "\n",
    "best_model, best_params, best_rmse = model_evaluation_XGboost(X_train, y_train, X_val, y_val, param_grid)\n",
    "\n",
    "print(\"Best Params:\", best_params)\n",
    "print(\"Validation RMSE:\", best_rmse)\n",
    "\n"
   ]
  },
  {
   "cell_type": "code",
   "execution_count": null,
   "metadata": {},
   "outputs": [
    {
     "name": "stderr",
     "output_type": "stream",
     "text": [
      "15:13:22 - cmdstanpy - INFO - Chain [1] start processing\n",
      "15:13:23 - cmdstanpy - INFO - Chain [1] done processing\n",
      "15:13:23 - cmdstanpy - INFO - Chain [1] start processing\n",
      "15:13:23 - cmdstanpy - INFO - Chain [1] done processing\n",
      "15:13:23 - cmdstanpy - INFO - Chain [1] start processing\n"
     ]
    },
    {
     "name": "stdout",
     "output_type": "stream",
     "text": [
      "Params: {'seasonality_mode': 'additive', 'yearly_seasonality': True, 'weekly_seasonality': True, 'daily_seasonality': True, 'seasonality_prior_scale': 0.1, 'changepoint_prior_scale': 0.01} => RMSE: 3357351.5431\n",
      "Params: {'seasonality_mode': 'additive', 'yearly_seasonality': True, 'weekly_seasonality': True, 'daily_seasonality': True, 'seasonality_prior_scale': 0.1, 'changepoint_prior_scale': 0.1} => RMSE: 3356405.4135\n"
     ]
    },
    {
     "name": "stderr",
     "output_type": "stream",
     "text": [
      "15:13:23 - cmdstanpy - INFO - Chain [1] done processing\n",
      "15:13:23 - cmdstanpy - INFO - Chain [1] start processing\n",
      "15:13:23 - cmdstanpy - INFO - Chain [1] done processing\n",
      "15:13:23 - cmdstanpy - INFO - Chain [1] start processing\n"
     ]
    },
    {
     "name": "stdout",
     "output_type": "stream",
     "text": [
      "Params: {'seasonality_mode': 'additive', 'yearly_seasonality': True, 'weekly_seasonality': True, 'daily_seasonality': True, 'seasonality_prior_scale': 0.1, 'changepoint_prior_scale': 0.5} => RMSE: 3854203.3100\n",
      "Params: {'seasonality_mode': 'additive', 'yearly_seasonality': True, 'weekly_seasonality': True, 'daily_seasonality': True, 'seasonality_prior_scale': 1.0, 'changepoint_prior_scale': 0.01} => RMSE: 69941639.1351\n"
     ]
    },
    {
     "name": "stderr",
     "output_type": "stream",
     "text": [
      "15:13:23 - cmdstanpy - INFO - Chain [1] done processing\n",
      "15:13:23 - cmdstanpy - INFO - Chain [1] start processing\n"
     ]
    },
    {
     "name": "stdout",
     "output_type": "stream",
     "text": [
      "Params: {'seasonality_mode': 'additive', 'yearly_seasonality': True, 'weekly_seasonality': True, 'daily_seasonality': True, 'seasonality_prior_scale': 1.0, 'changepoint_prior_scale': 0.1} => RMSE: 102925001.7832\n"
     ]
    },
    {
     "name": "stderr",
     "output_type": "stream",
     "text": [
      "15:13:37 - cmdstanpy - INFO - Chain [1] done processing\n",
      "15:13:37 - cmdstanpy - INFO - Chain [1] start processing\n",
      "15:13:37 - cmdstanpy - INFO - Chain [1] done processing\n",
      "15:13:37 - cmdstanpy - INFO - Chain [1] start processing\n"
     ]
    },
    {
     "name": "stdout",
     "output_type": "stream",
     "text": [
      "Params: {'seasonality_mode': 'additive', 'yearly_seasonality': True, 'weekly_seasonality': True, 'daily_seasonality': True, 'seasonality_prior_scale': 1.0, 'changepoint_prior_scale': 0.5} => RMSE: 135562195.9551\n",
      "Params: {'seasonality_mode': 'additive', 'yearly_seasonality': True, 'weekly_seasonality': True, 'daily_seasonality': True, 'seasonality_prior_scale': 10.0, 'changepoint_prior_scale': 0.01} => RMSE: 122432554.9034\n"
     ]
    },
    {
     "name": "stderr",
     "output_type": "stream",
     "text": [
      "15:13:37 - cmdstanpy - INFO - Chain [1] done processing\n",
      "15:13:37 - cmdstanpy - INFO - Chain [1] start processing\n"
     ]
    },
    {
     "name": "stdout",
     "output_type": "stream",
     "text": [
      "Params: {'seasonality_mode': 'additive', 'yearly_seasonality': True, 'weekly_seasonality': True, 'daily_seasonality': True, 'seasonality_prior_scale': 10.0, 'changepoint_prior_scale': 0.1} => RMSE: 124379968.6874\n"
     ]
    },
    {
     "name": "stderr",
     "output_type": "stream",
     "text": [
      "15:13:43 - cmdstanpy - INFO - Chain [1] done processing\n",
      "15:13:43 - cmdstanpy - INFO - Chain [1] start processing\n",
      "15:13:43 - cmdstanpy - INFO - Chain [1] done processing\n",
      "15:13:43 - cmdstanpy - INFO - Chain [1] start processing\n",
      "15:13:43 - cmdstanpy - INFO - Chain [1] done processing\n"
     ]
    },
    {
     "name": "stdout",
     "output_type": "stream",
     "text": [
      "Params: {'seasonality_mode': 'additive', 'yearly_seasonality': True, 'weekly_seasonality': True, 'daily_seasonality': True, 'seasonality_prior_scale': 10.0, 'changepoint_prior_scale': 0.5} => RMSE: 144384751.3436\n",
      "Params: {'seasonality_mode': 'additive', 'yearly_seasonality': True, 'weekly_seasonality': True, 'daily_seasonality': False, 'seasonality_prior_scale': 0.1, 'changepoint_prior_scale': 0.01} => RMSE: 3354791.0908\n"
     ]
    },
    {
     "name": "stderr",
     "output_type": "stream",
     "text": [
      "15:13:43 - cmdstanpy - INFO - Chain [1] start processing\n"
     ]
    },
    {
     "name": "stdout",
     "output_type": "stream",
     "text": [
      "Params: {'seasonality_mode': 'additive', 'yearly_seasonality': True, 'weekly_seasonality': True, 'daily_seasonality': False, 'seasonality_prior_scale': 0.1, 'changepoint_prior_scale': 0.1} => RMSE: 3355153.8151\n"
     ]
    },
    {
     "name": "stderr",
     "output_type": "stream",
     "text": [
      "15:13:43 - cmdstanpy - INFO - Chain [1] done processing\n",
      "15:13:43 - cmdstanpy - INFO - Chain [1] start processing\n",
      "15:13:43 - cmdstanpy - INFO - Chain [1] done processing\n",
      "15:13:43 - cmdstanpy - INFO - Chain [1] start processing\n"
     ]
    },
    {
     "name": "stdout",
     "output_type": "stream",
     "text": [
      "Params: {'seasonality_mode': 'additive', 'yearly_seasonality': True, 'weekly_seasonality': True, 'daily_seasonality': False, 'seasonality_prior_scale': 0.1, 'changepoint_prior_scale': 0.5} => RMSE: 3920354.0384\n",
      "Params: {'seasonality_mode': 'additive', 'yearly_seasonality': True, 'weekly_seasonality': True, 'daily_seasonality': False, 'seasonality_prior_scale': 1.0, 'changepoint_prior_scale': 0.01} => RMSE: 69677776.9585\n"
     ]
    },
    {
     "name": "stderr",
     "output_type": "stream",
     "text": [
      "15:13:43 - cmdstanpy - INFO - Chain [1] done processing\n",
      "15:13:43 - cmdstanpy - INFO - Chain [1] start processing\n"
     ]
    },
    {
     "name": "stdout",
     "output_type": "stream",
     "text": [
      "Params: {'seasonality_mode': 'additive', 'yearly_seasonality': True, 'weekly_seasonality': True, 'daily_seasonality': False, 'seasonality_prior_scale': 1.0, 'changepoint_prior_scale': 0.1} => RMSE: 101873330.2089\n"
     ]
    },
    {
     "name": "stderr",
     "output_type": "stream",
     "text": [
      "15:13:44 - cmdstanpy - INFO - Chain [1] done processing\n",
      "15:13:44 - cmdstanpy - INFO - Chain [1] start processing\n",
      "15:13:44 - cmdstanpy - INFO - Chain [1] done processing\n",
      "15:13:44 - cmdstanpy - INFO - Chain [1] start processing\n"
     ]
    },
    {
     "name": "stdout",
     "output_type": "stream",
     "text": [
      "Params: {'seasonality_mode': 'additive', 'yearly_seasonality': True, 'weekly_seasonality': True, 'daily_seasonality': False, 'seasonality_prior_scale': 1.0, 'changepoint_prior_scale': 0.5} => RMSE: 94244847.0923\n",
      "Params: {'seasonality_mode': 'additive', 'yearly_seasonality': True, 'weekly_seasonality': True, 'daily_seasonality': False, 'seasonality_prior_scale': 10.0, 'changepoint_prior_scale': 0.01} => RMSE: 122075621.8634\n"
     ]
    },
    {
     "name": "stderr",
     "output_type": "stream",
     "text": [
      "15:13:44 - cmdstanpy - INFO - Chain [1] done processing\n",
      "15:13:44 - cmdstanpy - INFO - Chain [1] start processing\n"
     ]
    },
    {
     "name": "stdout",
     "output_type": "stream",
     "text": [
      "Params: {'seasonality_mode': 'additive', 'yearly_seasonality': True, 'weekly_seasonality': True, 'daily_seasonality': False, 'seasonality_prior_scale': 10.0, 'changepoint_prior_scale': 0.1} => RMSE: 120501385.9930\n"
     ]
    },
    {
     "name": "stderr",
     "output_type": "stream",
     "text": [
      "15:13:56 - cmdstanpy - INFO - Chain [1] done processing\n",
      "15:13:56 - cmdstanpy - INFO - Chain [1] start processing\n",
      "15:13:56 - cmdstanpy - INFO - Chain [1] done processing\n",
      "15:13:56 - cmdstanpy - INFO - Chain [1] start processing\n"
     ]
    },
    {
     "name": "stdout",
     "output_type": "stream",
     "text": [
      "Params: {'seasonality_mode': 'additive', 'yearly_seasonality': True, 'weekly_seasonality': True, 'daily_seasonality': False, 'seasonality_prior_scale': 10.0, 'changepoint_prior_scale': 0.5} => RMSE: 166818672.7795\n",
      "Params: {'seasonality_mode': 'additive', 'yearly_seasonality': True, 'weekly_seasonality': False, 'daily_seasonality': True, 'seasonality_prior_scale': 0.1, 'changepoint_prior_scale': 0.01} => RMSE: 3262870.7409\n"
     ]
    },
    {
     "name": "stderr",
     "output_type": "stream",
     "text": [
      "15:13:56 - cmdstanpy - INFO - Chain [1] done processing\n",
      "15:13:56 - cmdstanpy - INFO - Chain [1] start processing\n"
     ]
    },
    {
     "name": "stdout",
     "output_type": "stream",
     "text": [
      "Params: {'seasonality_mode': 'additive', 'yearly_seasonality': True, 'weekly_seasonality': False, 'daily_seasonality': True, 'seasonality_prior_scale': 0.1, 'changepoint_prior_scale': 0.1} => RMSE: 3264154.3987\n"
     ]
    },
    {
     "name": "stderr",
     "output_type": "stream",
     "text": [
      "15:13:56 - cmdstanpy - INFO - Chain [1] done processing\n",
      "15:13:56 - cmdstanpy - INFO - Chain [1] start processing\n",
      "15:13:57 - cmdstanpy - INFO - Chain [1] done processing\n",
      "15:13:57 - cmdstanpy - INFO - Chain [1] start processing\n"
     ]
    },
    {
     "name": "stdout",
     "output_type": "stream",
     "text": [
      "Params: {'seasonality_mode': 'additive', 'yearly_seasonality': True, 'weekly_seasonality': False, 'daily_seasonality': True, 'seasonality_prior_scale': 0.1, 'changepoint_prior_scale': 0.5} => RMSE: 3708537.4677\n",
      "Params: {'seasonality_mode': 'additive', 'yearly_seasonality': True, 'weekly_seasonality': False, 'daily_seasonality': True, 'seasonality_prior_scale': 1.0, 'changepoint_prior_scale': 0.01} => RMSE: 5871559.9838\n"
     ]
    },
    {
     "name": "stderr",
     "output_type": "stream",
     "text": [
      "15:13:57 - cmdstanpy - INFO - Chain [1] done processing\n",
      "15:13:57 - cmdstanpy - INFO - Chain [1] start processing\n",
      "15:13:57 - cmdstanpy - INFO - Chain [1] done processing\n"
     ]
    },
    {
     "name": "stdout",
     "output_type": "stream",
     "text": [
      "Params: {'seasonality_mode': 'additive', 'yearly_seasonality': True, 'weekly_seasonality': False, 'daily_seasonality': True, 'seasonality_prior_scale': 1.0, 'changepoint_prior_scale': 0.1} => RMSE: 5882580.0616\n"
     ]
    },
    {
     "name": "stderr",
     "output_type": "stream",
     "text": [
      "15:13:57 - cmdstanpy - INFO - Chain [1] start processing\n",
      "15:13:57 - cmdstanpy - INFO - Chain [1] done processing\n",
      "15:13:57 - cmdstanpy - INFO - Chain [1] start processing\n"
     ]
    },
    {
     "name": "stdout",
     "output_type": "stream",
     "text": [
      "Params: {'seasonality_mode': 'additive', 'yearly_seasonality': True, 'weekly_seasonality': False, 'daily_seasonality': True, 'seasonality_prior_scale': 1.0, 'changepoint_prior_scale': 0.5} => RMSE: 5776863.8738\n",
      "Params: {'seasonality_mode': 'additive', 'yearly_seasonality': True, 'weekly_seasonality': False, 'daily_seasonality': True, 'seasonality_prior_scale': 10.0, 'changepoint_prior_scale': 0.01} => RMSE: 7226043.7567\n"
     ]
    },
    {
     "name": "stderr",
     "output_type": "stream",
     "text": [
      "15:13:57 - cmdstanpy - INFO - Chain [1] done processing\n",
      "15:13:57 - cmdstanpy - INFO - Chain [1] start processing\n"
     ]
    },
    {
     "name": "stdout",
     "output_type": "stream",
     "text": [
      "Params: {'seasonality_mode': 'additive', 'yearly_seasonality': True, 'weekly_seasonality': False, 'daily_seasonality': True, 'seasonality_prior_scale': 10.0, 'changepoint_prior_scale': 0.1} => RMSE: 7231404.9251\n"
     ]
    },
    {
     "name": "stderr",
     "output_type": "stream",
     "text": [
      "15:13:57 - cmdstanpy - INFO - Chain [1] done processing\n",
      "15:13:57 - cmdstanpy - INFO - Chain [1] start processing\n",
      "15:13:57 - cmdstanpy - INFO - Chain [1] done processing\n",
      "15:13:58 - cmdstanpy - INFO - Chain [1] start processing\n"
     ]
    },
    {
     "name": "stdout",
     "output_type": "stream",
     "text": [
      "Params: {'seasonality_mode': 'additive', 'yearly_seasonality': True, 'weekly_seasonality': False, 'daily_seasonality': True, 'seasonality_prior_scale': 10.0, 'changepoint_prior_scale': 0.5} => RMSE: 6779298.5666\n",
      "Params: {'seasonality_mode': 'additive', 'yearly_seasonality': True, 'weekly_seasonality': False, 'daily_seasonality': False, 'seasonality_prior_scale': 0.1, 'changepoint_prior_scale': 0.01} => RMSE: 3262998.1185\n"
     ]
    },
    {
     "name": "stderr",
     "output_type": "stream",
     "text": [
      "15:13:58 - cmdstanpy - INFO - Chain [1] done processing\n",
      "15:13:58 - cmdstanpy - INFO - Chain [1] start processing\n"
     ]
    },
    {
     "name": "stdout",
     "output_type": "stream",
     "text": [
      "Params: {'seasonality_mode': 'additive', 'yearly_seasonality': True, 'weekly_seasonality': False, 'daily_seasonality': False, 'seasonality_prior_scale': 0.1, 'changepoint_prior_scale': 0.1} => RMSE: 3263755.5994\n"
     ]
    },
    {
     "name": "stderr",
     "output_type": "stream",
     "text": [
      "15:13:58 - cmdstanpy - INFO - Chain [1] done processing\n",
      "15:13:58 - cmdstanpy - INFO - Chain [1] start processing\n",
      "15:13:58 - cmdstanpy - INFO - Chain [1] done processing\n",
      "15:13:58 - cmdstanpy - INFO - Chain [1] start processing\n",
      "15:13:58 - cmdstanpy - INFO - Chain [1] done processing\n"
     ]
    },
    {
     "name": "stdout",
     "output_type": "stream",
     "text": [
      "Params: {'seasonality_mode': 'additive', 'yearly_seasonality': True, 'weekly_seasonality': False, 'daily_seasonality': False, 'seasonality_prior_scale': 0.1, 'changepoint_prior_scale': 0.5} => RMSE: 3707329.9499\n",
      "Params: {'seasonality_mode': 'additive', 'yearly_seasonality': True, 'weekly_seasonality': False, 'daily_seasonality': False, 'seasonality_prior_scale': 1.0, 'changepoint_prior_scale': 0.01} => RMSE: 5889534.2470\n"
     ]
    },
    {
     "name": "stderr",
     "output_type": "stream",
     "text": [
      "15:13:58 - cmdstanpy - INFO - Chain [1] start processing\n",
      "15:13:58 - cmdstanpy - INFO - Chain [1] done processing\n",
      "15:13:58 - cmdstanpy - INFO - Chain [1] start processing\n"
     ]
    },
    {
     "name": "stdout",
     "output_type": "stream",
     "text": [
      "Params: {'seasonality_mode': 'additive', 'yearly_seasonality': True, 'weekly_seasonality': False, 'daily_seasonality': False, 'seasonality_prior_scale': 1.0, 'changepoint_prior_scale': 0.1} => RMSE: 5891513.4309\n",
      "Params: {'seasonality_mode': 'additive', 'yearly_seasonality': True, 'weekly_seasonality': False, 'daily_seasonality': False, 'seasonality_prior_scale': 1.0, 'changepoint_prior_scale': 0.5} => RMSE: 5943225.6115\n"
     ]
    },
    {
     "name": "stderr",
     "output_type": "stream",
     "text": [
      "15:13:58 - cmdstanpy - INFO - Chain [1] done processing\n",
      "15:13:58 - cmdstanpy - INFO - Chain [1] start processing\n",
      "15:13:59 - cmdstanpy - INFO - Chain [1] done processing\n",
      "15:13:59 - cmdstanpy - INFO - Chain [1] start processing\n"
     ]
    },
    {
     "name": "stdout",
     "output_type": "stream",
     "text": [
      "Params: {'seasonality_mode': 'additive', 'yearly_seasonality': True, 'weekly_seasonality': False, 'daily_seasonality': False, 'seasonality_prior_scale': 10.0, 'changepoint_prior_scale': 0.01} => RMSE: 7531909.3326\n",
      "Params: {'seasonality_mode': 'additive', 'yearly_seasonality': True, 'weekly_seasonality': False, 'daily_seasonality': False, 'seasonality_prior_scale': 10.0, 'changepoint_prior_scale': 0.1} => RMSE: 7228110.9222\n"
     ]
    },
    {
     "name": "stderr",
     "output_type": "stream",
     "text": [
      "15:13:59 - cmdstanpy - INFO - Chain [1] done processing\n",
      "15:13:59 - cmdstanpy - INFO - Chain [1] start processing\n",
      "15:13:59 - cmdstanpy - INFO - Chain [1] done processing\n",
      "15:13:59 - cmdstanpy - INFO - Chain [1] start processing\n"
     ]
    },
    {
     "name": "stdout",
     "output_type": "stream",
     "text": [
      "Params: {'seasonality_mode': 'additive', 'yearly_seasonality': True, 'weekly_seasonality': False, 'daily_seasonality': False, 'seasonality_prior_scale': 10.0, 'changepoint_prior_scale': 0.5} => RMSE: 6775543.4983\n",
      "Params: {'seasonality_mode': 'additive', 'yearly_seasonality': False, 'weekly_seasonality': True, 'daily_seasonality': True, 'seasonality_prior_scale': 0.1, 'changepoint_prior_scale': 0.01} => RMSE: 2911191.0510\n"
     ]
    },
    {
     "name": "stderr",
     "output_type": "stream",
     "text": [
      "15:13:59 - cmdstanpy - INFO - Chain [1] done processing\n",
      "15:13:59 - cmdstanpy - INFO - Chain [1] start processing\n",
      "15:13:59 - cmdstanpy - INFO - Chain [1] done processing\n",
      "15:13:59 - cmdstanpy - INFO - Chain [1] start processing\n"
     ]
    },
    {
     "name": "stdout",
     "output_type": "stream",
     "text": [
      "Params: {'seasonality_mode': 'additive', 'yearly_seasonality': False, 'weekly_seasonality': True, 'daily_seasonality': True, 'seasonality_prior_scale': 0.1, 'changepoint_prior_scale': 0.1} => RMSE: 2866894.4721\n",
      "Params: {'seasonality_mode': 'additive', 'yearly_seasonality': False, 'weekly_seasonality': True, 'daily_seasonality': True, 'seasonality_prior_scale': 0.1, 'changepoint_prior_scale': 0.5} => RMSE: 3557456.3760\n"
     ]
    },
    {
     "name": "stderr",
     "output_type": "stream",
     "text": [
      "15:13:59 - cmdstanpy - INFO - Chain [1] done processing\n",
      "15:13:59 - cmdstanpy - INFO - Chain [1] start processing\n",
      "15:13:59 - cmdstanpy - INFO - Chain [1] done processing\n",
      "15:13:59 - cmdstanpy - INFO - Chain [1] start processing\n"
     ]
    },
    {
     "name": "stdout",
     "output_type": "stream",
     "text": [
      "Params: {'seasonality_mode': 'additive', 'yearly_seasonality': False, 'weekly_seasonality': True, 'daily_seasonality': True, 'seasonality_prior_scale': 1.0, 'changepoint_prior_scale': 0.01} => RMSE: 2912636.9207\n",
      "Params: {'seasonality_mode': 'additive', 'yearly_seasonality': False, 'weekly_seasonality': True, 'daily_seasonality': True, 'seasonality_prior_scale': 1.0, 'changepoint_prior_scale': 0.1} => RMSE: 2885500.2613\n"
     ]
    },
    {
     "name": "stderr",
     "output_type": "stream",
     "text": [
      "15:14:00 - cmdstanpy - INFO - Chain [1] done processing\n",
      "15:14:00 - cmdstanpy - INFO - Chain [1] start processing\n",
      "15:14:00 - cmdstanpy - INFO - Chain [1] done processing\n",
      "15:14:00 - cmdstanpy - INFO - Chain [1] start processing\n",
      "15:14:00 - cmdstanpy - INFO - Chain [1] done processing\n"
     ]
    },
    {
     "name": "stdout",
     "output_type": "stream",
     "text": [
      "Params: {'seasonality_mode': 'additive', 'yearly_seasonality': False, 'weekly_seasonality': True, 'daily_seasonality': True, 'seasonality_prior_scale': 1.0, 'changepoint_prior_scale': 0.5} => RMSE: 3564483.8900\n",
      "Params: {'seasonality_mode': 'additive', 'yearly_seasonality': False, 'weekly_seasonality': True, 'daily_seasonality': True, 'seasonality_prior_scale': 10.0, 'changepoint_prior_scale': 0.01} => RMSE: 2905467.8077\n"
     ]
    },
    {
     "name": "stderr",
     "output_type": "stream",
     "text": [
      "15:14:00 - cmdstanpy - INFO - Chain [1] start processing\n",
      "15:14:00 - cmdstanpy - INFO - Chain [1] done processing\n",
      "15:14:00 - cmdstanpy - INFO - Chain [1] start processing\n"
     ]
    },
    {
     "name": "stdout",
     "output_type": "stream",
     "text": [
      "Params: {'seasonality_mode': 'additive', 'yearly_seasonality': False, 'weekly_seasonality': True, 'daily_seasonality': True, 'seasonality_prior_scale': 10.0, 'changepoint_prior_scale': 0.1} => RMSE: 2886028.0593\n",
      "Params: {'seasonality_mode': 'additive', 'yearly_seasonality': False, 'weekly_seasonality': True, 'daily_seasonality': True, 'seasonality_prior_scale': 10.0, 'changepoint_prior_scale': 0.5} => RMSE: 3571158.8936\n"
     ]
    },
    {
     "name": "stderr",
     "output_type": "stream",
     "text": [
      "15:14:00 - cmdstanpy - INFO - Chain [1] done processing\n",
      "15:14:00 - cmdstanpy - INFO - Chain [1] start processing\n",
      "15:14:00 - cmdstanpy - INFO - Chain [1] done processing\n",
      "15:14:00 - cmdstanpy - INFO - Chain [1] start processing\n"
     ]
    },
    {
     "name": "stdout",
     "output_type": "stream",
     "text": [
      "Params: {'seasonality_mode': 'additive', 'yearly_seasonality': False, 'weekly_seasonality': True, 'daily_seasonality': False, 'seasonality_prior_scale': 0.1, 'changepoint_prior_scale': 0.01} => RMSE: 2873269.4345\n",
      "Params: {'seasonality_mode': 'additive', 'yearly_seasonality': False, 'weekly_seasonality': True, 'daily_seasonality': False, 'seasonality_prior_scale': 0.1, 'changepoint_prior_scale': 0.1} => RMSE: 2867447.2433\n"
     ]
    },
    {
     "name": "stderr",
     "output_type": "stream",
     "text": [
      "15:14:00 - cmdstanpy - INFO - Chain [1] done processing\n",
      "15:14:00 - cmdstanpy - INFO - Chain [1] start processing\n",
      "15:14:00 - cmdstanpy - INFO - Chain [1] done processing\n",
      "15:14:00 - cmdstanpy - INFO - Chain [1] start processing\n"
     ]
    },
    {
     "name": "stdout",
     "output_type": "stream",
     "text": [
      "Params: {'seasonality_mode': 'additive', 'yearly_seasonality': False, 'weekly_seasonality': True, 'daily_seasonality': False, 'seasonality_prior_scale': 0.1, 'changepoint_prior_scale': 0.5} => RMSE: 3560015.6455\n",
      "Params: {'seasonality_mode': 'additive', 'yearly_seasonality': False, 'weekly_seasonality': True, 'daily_seasonality': False, 'seasonality_prior_scale': 1.0, 'changepoint_prior_scale': 0.01} => RMSE: 2884351.9088\n"
     ]
    },
    {
     "name": "stderr",
     "output_type": "stream",
     "text": [
      "15:14:00 - cmdstanpy - INFO - Chain [1] done processing\n",
      "15:14:01 - cmdstanpy - INFO - Chain [1] start processing\n",
      "15:14:01 - cmdstanpy - INFO - Chain [1] done processing\n",
      "15:14:01 - cmdstanpy - INFO - Chain [1] start processing\n"
     ]
    },
    {
     "name": "stdout",
     "output_type": "stream",
     "text": [
      "Params: {'seasonality_mode': 'additive', 'yearly_seasonality': False, 'weekly_seasonality': True, 'daily_seasonality': False, 'seasonality_prior_scale': 1.0, 'changepoint_prior_scale': 0.1} => RMSE: 2886474.5912\n",
      "Params: {'seasonality_mode': 'additive', 'yearly_seasonality': False, 'weekly_seasonality': True, 'daily_seasonality': False, 'seasonality_prior_scale': 1.0, 'changepoint_prior_scale': 0.5} => RMSE: 3575047.5054\n"
     ]
    },
    {
     "name": "stderr",
     "output_type": "stream",
     "text": [
      "15:14:01 - cmdstanpy - INFO - Chain [1] done processing\n",
      "15:14:01 - cmdstanpy - INFO - Chain [1] start processing\n",
      "15:14:01 - cmdstanpy - INFO - Chain [1] done processing\n",
      "15:14:01 - cmdstanpy - INFO - Chain [1] start processing\n"
     ]
    },
    {
     "name": "stdout",
     "output_type": "stream",
     "text": [
      "Params: {'seasonality_mode': 'additive', 'yearly_seasonality': False, 'weekly_seasonality': True, 'daily_seasonality': False, 'seasonality_prior_scale': 10.0, 'changepoint_prior_scale': 0.01} => RMSE: 2885248.5046\n",
      "Params: {'seasonality_mode': 'additive', 'yearly_seasonality': False, 'weekly_seasonality': True, 'daily_seasonality': False, 'seasonality_prior_scale': 10.0, 'changepoint_prior_scale': 0.1} => RMSE: 2886242.6608\n"
     ]
    },
    {
     "name": "stderr",
     "output_type": "stream",
     "text": [
      "15:14:01 - cmdstanpy - INFO - Chain [1] done processing\n",
      "15:14:01 - cmdstanpy - INFO - Chain [1] start processing\n",
      "15:14:01 - cmdstanpy - INFO - Chain [1] done processing\n",
      "15:14:01 - cmdstanpy - INFO - Chain [1] start processing\n",
      "15:14:01 - cmdstanpy - INFO - Chain [1] done processing\n",
      "15:14:01 - cmdstanpy - INFO - Chain [1] start processing\n"
     ]
    },
    {
     "name": "stdout",
     "output_type": "stream",
     "text": [
      "Params: {'seasonality_mode': 'additive', 'yearly_seasonality': False, 'weekly_seasonality': True, 'daily_seasonality': False, 'seasonality_prior_scale': 10.0, 'changepoint_prior_scale': 0.5} => RMSE: 3571002.4462\n",
      "Params: {'seasonality_mode': 'additive', 'yearly_seasonality': False, 'weekly_seasonality': False, 'daily_seasonality': True, 'seasonality_prior_scale': 0.1, 'changepoint_prior_scale': 0.01} => RMSE: 3259263.1200\n",
      "Params: {'seasonality_mode': 'additive', 'yearly_seasonality': False, 'weekly_seasonality': False, 'daily_seasonality': True, 'seasonality_prior_scale': 0.1, 'changepoint_prior_scale': 0.1} => RMSE: 3263920.0584\n"
     ]
    },
    {
     "name": "stderr",
     "output_type": "stream",
     "text": [
      "15:14:01 - cmdstanpy - INFO - Chain [1] done processing\n",
      "15:14:01 - cmdstanpy - INFO - Chain [1] start processing\n",
      "15:14:01 - cmdstanpy - INFO - Chain [1] done processing\n",
      "15:14:01 - cmdstanpy - INFO - Chain [1] start processing\n",
      "15:14:01 - cmdstanpy - INFO - Chain [1] done processing\n",
      "15:14:02 - cmdstanpy - INFO - Chain [1] start processing\n"
     ]
    },
    {
     "name": "stdout",
     "output_type": "stream",
     "text": [
      "Params: {'seasonality_mode': 'additive', 'yearly_seasonality': False, 'weekly_seasonality': False, 'daily_seasonality': True, 'seasonality_prior_scale': 0.1, 'changepoint_prior_scale': 0.5} => RMSE: 3848498.2198\n",
      "Params: {'seasonality_mode': 'additive', 'yearly_seasonality': False, 'weekly_seasonality': False, 'daily_seasonality': True, 'seasonality_prior_scale': 1.0, 'changepoint_prior_scale': 0.01} => RMSE: 3259239.8914\n",
      "Params: {'seasonality_mode': 'additive', 'yearly_seasonality': False, 'weekly_seasonality': False, 'daily_seasonality': True, 'seasonality_prior_scale': 1.0, 'changepoint_prior_scale': 0.1} => RMSE: 3263950.9196\n"
     ]
    },
    {
     "name": "stderr",
     "output_type": "stream",
     "text": [
      "15:14:02 - cmdstanpy - INFO - Chain [1] done processing\n",
      "15:14:02 - cmdstanpy - INFO - Chain [1] start processing\n",
      "15:14:02 - cmdstanpy - INFO - Chain [1] done processing\n",
      "15:14:02 - cmdstanpy - INFO - Chain [1] start processing\n",
      "15:14:02 - cmdstanpy - INFO - Chain [1] done processing\n"
     ]
    },
    {
     "name": "stdout",
     "output_type": "stream",
     "text": [
      "Params: {'seasonality_mode': 'additive', 'yearly_seasonality': False, 'weekly_seasonality': False, 'daily_seasonality': True, 'seasonality_prior_scale': 1.0, 'changepoint_prior_scale': 0.5} => RMSE: 3855552.5186\n",
      "Params: {'seasonality_mode': 'additive', 'yearly_seasonality': False, 'weekly_seasonality': False, 'daily_seasonality': True, 'seasonality_prior_scale': 10.0, 'changepoint_prior_scale': 0.01} => RMSE: 3259243.4834\n"
     ]
    },
    {
     "name": "stderr",
     "output_type": "stream",
     "text": [
      "15:14:02 - cmdstanpy - INFO - Chain [1] start processing\n",
      "15:14:02 - cmdstanpy - INFO - Chain [1] done processing\n",
      "15:14:02 - cmdstanpy - INFO - Chain [1] start processing\n",
      "15:14:02 - cmdstanpy - INFO - Chain [1] done processing\n",
      "15:14:02 - cmdstanpy - INFO - Chain [1] start processing\n"
     ]
    },
    {
     "name": "stdout",
     "output_type": "stream",
     "text": [
      "Params: {'seasonality_mode': 'additive', 'yearly_seasonality': False, 'weekly_seasonality': False, 'daily_seasonality': True, 'seasonality_prior_scale': 10.0, 'changepoint_prior_scale': 0.1} => RMSE: 3264036.3487\n",
      "Params: {'seasonality_mode': 'additive', 'yearly_seasonality': False, 'weekly_seasonality': False, 'daily_seasonality': True, 'seasonality_prior_scale': 10.0, 'changepoint_prior_scale': 0.5} => RMSE: 3852437.9409\n",
      "Params: {'seasonality_mode': 'additive', 'yearly_seasonality': False, 'weekly_seasonality': False, 'daily_seasonality': False, 'seasonality_prior_scale': 0.1, 'changepoint_prior_scale': 0.01} => RMSE: 3259864.6103\n"
     ]
    },
    {
     "name": "stderr",
     "output_type": "stream",
     "text": [
      "15:14:02 - cmdstanpy - INFO - Chain [1] done processing\n",
      "15:14:02 - cmdstanpy - INFO - Chain [1] start processing\n",
      "15:14:02 - cmdstanpy - INFO - Chain [1] done processing\n",
      "15:14:02 - cmdstanpy - INFO - Chain [1] start processing\n",
      "15:14:02 - cmdstanpy - INFO - Chain [1] done processing\n",
      "15:14:02 - cmdstanpy - INFO - Chain [1] start processing\n"
     ]
    },
    {
     "name": "stdout",
     "output_type": "stream",
     "text": [
      "Params: {'seasonality_mode': 'additive', 'yearly_seasonality': False, 'weekly_seasonality': False, 'daily_seasonality': False, 'seasonality_prior_scale': 0.1, 'changepoint_prior_scale': 0.1} => RMSE: 3264371.3843\n",
      "Params: {'seasonality_mode': 'additive', 'yearly_seasonality': False, 'weekly_seasonality': False, 'daily_seasonality': False, 'seasonality_prior_scale': 0.1, 'changepoint_prior_scale': 0.5} => RMSE: 3853678.4100\n",
      "Params: {'seasonality_mode': 'additive', 'yearly_seasonality': False, 'weekly_seasonality': False, 'daily_seasonality': False, 'seasonality_prior_scale': 1.0, 'changepoint_prior_scale': 0.01} => RMSE: 3259864.6103\n"
     ]
    },
    {
     "name": "stderr",
     "output_type": "stream",
     "text": [
      "15:14:02 - cmdstanpy - INFO - Chain [1] done processing\n",
      "15:14:02 - cmdstanpy - INFO - Chain [1] start processing\n",
      "15:14:03 - cmdstanpy - INFO - Chain [1] done processing\n",
      "15:14:03 - cmdstanpy - INFO - Chain [1] start processing\n",
      "15:14:03 - cmdstanpy - INFO - Chain [1] done processing\n",
      "15:14:03 - cmdstanpy - INFO - Chain [1] start processing\n"
     ]
    },
    {
     "name": "stdout",
     "output_type": "stream",
     "text": [
      "Params: {'seasonality_mode': 'additive', 'yearly_seasonality': False, 'weekly_seasonality': False, 'daily_seasonality': False, 'seasonality_prior_scale': 1.0, 'changepoint_prior_scale': 0.1} => RMSE: 3264371.3843\n",
      "Params: {'seasonality_mode': 'additive', 'yearly_seasonality': False, 'weekly_seasonality': False, 'daily_seasonality': False, 'seasonality_prior_scale': 1.0, 'changepoint_prior_scale': 0.5} => RMSE: 3853678.4100\n",
      "Params: {'seasonality_mode': 'additive', 'yearly_seasonality': False, 'weekly_seasonality': False, 'daily_seasonality': False, 'seasonality_prior_scale': 10.0, 'changepoint_prior_scale': 0.01} => RMSE: 3259864.6103\n"
     ]
    },
    {
     "name": "stderr",
     "output_type": "stream",
     "text": [
      "15:14:03 - cmdstanpy - INFO - Chain [1] done processing\n",
      "15:14:03 - cmdstanpy - INFO - Chain [1] start processing\n",
      "15:14:03 - cmdstanpy - INFO - Chain [1] done processing\n",
      "15:14:03 - cmdstanpy - INFO - Chain [1] start processing\n"
     ]
    },
    {
     "name": "stdout",
     "output_type": "stream",
     "text": [
      "Params: {'seasonality_mode': 'additive', 'yearly_seasonality': False, 'weekly_seasonality': False, 'daily_seasonality': False, 'seasonality_prior_scale': 10.0, 'changepoint_prior_scale': 0.1} => RMSE: 3264371.3843\n",
      "Params: {'seasonality_mode': 'additive', 'yearly_seasonality': False, 'weekly_seasonality': False, 'daily_seasonality': False, 'seasonality_prior_scale': 10.0, 'changepoint_prior_scale': 0.5} => RMSE: 3853678.4100\n"
     ]
    },
    {
     "name": "stderr",
     "output_type": "stream",
     "text": [
      "15:14:03 - cmdstanpy - INFO - Chain [1] done processing\n",
      "15:14:03 - cmdstanpy - INFO - Chain [1] start processing\n",
      "15:14:03 - cmdstanpy - INFO - Chain [1] done processing\n",
      "15:14:03 - cmdstanpy - INFO - Chain [1] start processing\n"
     ]
    },
    {
     "name": "stdout",
     "output_type": "stream",
     "text": [
      "Params: {'seasonality_mode': 'multiplicative', 'yearly_seasonality': True, 'weekly_seasonality': True, 'daily_seasonality': True, 'seasonality_prior_scale': 0.1, 'changepoint_prior_scale': 0.01} => RMSE: 3262153.1547\n",
      "Params: {'seasonality_mode': 'multiplicative', 'yearly_seasonality': True, 'weekly_seasonality': True, 'daily_seasonality': True, 'seasonality_prior_scale': 0.1, 'changepoint_prior_scale': 0.1} => RMSE: 3240750.3504\n"
     ]
    },
    {
     "name": "stderr",
     "output_type": "stream",
     "text": [
      "15:14:03 - cmdstanpy - INFO - Chain [1] done processing\n",
      "15:14:03 - cmdstanpy - INFO - Chain [1] start processing\n",
      "15:14:03 - cmdstanpy - INFO - Chain [1] done processing\n"
     ]
    },
    {
     "name": "stdout",
     "output_type": "stream",
     "text": [
      "Params: {'seasonality_mode': 'multiplicative', 'yearly_seasonality': True, 'weekly_seasonality': True, 'daily_seasonality': True, 'seasonality_prior_scale': 0.1, 'changepoint_prior_scale': 0.5} => RMSE: 4340481.8026\n"
     ]
    },
    {
     "name": "stderr",
     "output_type": "stream",
     "text": [
      "15:14:04 - cmdstanpy - INFO - Chain [1] start processing\n"
     ]
    },
    {
     "name": "stdout",
     "output_type": "stream",
     "text": [
      "Params: {'seasonality_mode': 'multiplicative', 'yearly_seasonality': True, 'weekly_seasonality': True, 'daily_seasonality': True, 'seasonality_prior_scale': 1.0, 'changepoint_prior_scale': 0.01} => RMSE: 145421673.9329\n"
     ]
    },
    {
     "name": "stderr",
     "output_type": "stream",
     "text": [
      "15:14:04 - cmdstanpy - INFO - Chain [1] done processing\n",
      "15:14:04 - cmdstanpy - INFO - Chain [1] start processing\n"
     ]
    },
    {
     "name": "stdout",
     "output_type": "stream",
     "text": [
      "Params: {'seasonality_mode': 'multiplicative', 'yearly_seasonality': True, 'weekly_seasonality': True, 'daily_seasonality': True, 'seasonality_prior_scale': 1.0, 'changepoint_prior_scale': 0.1} => RMSE: 146172862.2723\n"
     ]
    },
    {
     "name": "stderr",
     "output_type": "stream",
     "text": [
      "15:14:04 - cmdstanpy - INFO - Chain [1] done processing\n",
      "15:14:04 - cmdstanpy - INFO - Chain [1] start processing\n",
      "15:14:04 - cmdstanpy - INFO - Chain [1] done processing\n",
      "15:14:04 - cmdstanpy - INFO - Chain [1] start processing\n"
     ]
    },
    {
     "name": "stdout",
     "output_type": "stream",
     "text": [
      "Params: {'seasonality_mode': 'multiplicative', 'yearly_seasonality': True, 'weekly_seasonality': True, 'daily_seasonality': True, 'seasonality_prior_scale': 1.0, 'changepoint_prior_scale': 0.5} => RMSE: 147676273.0848\n",
      "Params: {'seasonality_mode': 'multiplicative', 'yearly_seasonality': True, 'weekly_seasonality': True, 'daily_seasonality': True, 'seasonality_prior_scale': 10.0, 'changepoint_prior_scale': 0.01} => RMSE: 148928111.2310\n"
     ]
    },
    {
     "name": "stderr",
     "output_type": "stream",
     "text": [
      "15:14:05 - cmdstanpy - INFO - Chain [1] done processing\n",
      "15:14:05 - cmdstanpy - INFO - Chain [1] start processing\n"
     ]
    },
    {
     "name": "stdout",
     "output_type": "stream",
     "text": [
      "Params: {'seasonality_mode': 'multiplicative', 'yearly_seasonality': True, 'weekly_seasonality': True, 'daily_seasonality': True, 'seasonality_prior_scale': 10.0, 'changepoint_prior_scale': 0.1} => RMSE: 152319451.2790\n"
     ]
    },
    {
     "name": "stderr",
     "output_type": "stream",
     "text": [
      "15:14:19 - cmdstanpy - INFO - Chain [1] done processing\n",
      "15:14:19 - cmdstanpy - INFO - Chain [1] start processing\n",
      "15:14:19 - cmdstanpy - INFO - Chain [1] done processing\n",
      "15:14:19 - cmdstanpy - INFO - Chain [1] start processing\n"
     ]
    },
    {
     "name": "stdout",
     "output_type": "stream",
     "text": [
      "Params: {'seasonality_mode': 'multiplicative', 'yearly_seasonality': True, 'weekly_seasonality': True, 'daily_seasonality': True, 'seasonality_prior_scale': 10.0, 'changepoint_prior_scale': 0.5} => RMSE: 224782896.6924\n",
      "Params: {'seasonality_mode': 'multiplicative', 'yearly_seasonality': True, 'weekly_seasonality': True, 'daily_seasonality': False, 'seasonality_prior_scale': 0.1, 'changepoint_prior_scale': 0.01} => RMSE: 3317485.5705\n"
     ]
    },
    {
     "name": "stderr",
     "output_type": "stream",
     "text": [
      "15:14:19 - cmdstanpy - INFO - Chain [1] done processing\n",
      "15:14:19 - cmdstanpy - INFO - Chain [1] start processing\n",
      "15:14:19 - cmdstanpy - INFO - Chain [1] done processing\n",
      "15:14:19 - cmdstanpy - INFO - Chain [1] start processing\n"
     ]
    },
    {
     "name": "stdout",
     "output_type": "stream",
     "text": [
      "Params: {'seasonality_mode': 'multiplicative', 'yearly_seasonality': True, 'weekly_seasonality': True, 'daily_seasonality': False, 'seasonality_prior_scale': 0.1, 'changepoint_prior_scale': 0.1} => RMSE: 3147561.8095\n",
      "Params: {'seasonality_mode': 'multiplicative', 'yearly_seasonality': True, 'weekly_seasonality': True, 'daily_seasonality': False, 'seasonality_prior_scale': 0.1, 'changepoint_prior_scale': 0.5} => RMSE: 4340778.6976\n"
     ]
    },
    {
     "name": "stderr",
     "output_type": "stream",
     "text": [
      "15:14:19 - cmdstanpy - INFO - Chain [1] done processing\n",
      "15:14:19 - cmdstanpy - INFO - Chain [1] start processing\n",
      "15:14:19 - cmdstanpy - INFO - Chain [1] done processing\n",
      "15:14:19 - cmdstanpy - INFO - Chain [1] start processing\n"
     ]
    },
    {
     "name": "stdout",
     "output_type": "stream",
     "text": [
      "Params: {'seasonality_mode': 'multiplicative', 'yearly_seasonality': True, 'weekly_seasonality': True, 'daily_seasonality': False, 'seasonality_prior_scale': 1.0, 'changepoint_prior_scale': 0.01} => RMSE: 59193663.8357\n",
      "Params: {'seasonality_mode': 'multiplicative', 'yearly_seasonality': True, 'weekly_seasonality': True, 'daily_seasonality': False, 'seasonality_prior_scale': 1.0, 'changepoint_prior_scale': 0.1} => RMSE: 58493121.8573\n"
     ]
    },
    {
     "name": "stderr",
     "output_type": "stream",
     "text": [
      "15:14:19 - cmdstanpy - INFO - Chain [1] done processing\n",
      "15:14:19 - cmdstanpy - INFO - Chain [1] start processing\n",
      "15:14:20 - cmdstanpy - INFO - Chain [1] done processing\n",
      "15:14:20 - cmdstanpy - INFO - Chain [1] start processing\n"
     ]
    },
    {
     "name": "stdout",
     "output_type": "stream",
     "text": [
      "Params: {'seasonality_mode': 'multiplicative', 'yearly_seasonality': True, 'weekly_seasonality': True, 'daily_seasonality': False, 'seasonality_prior_scale': 1.0, 'changepoint_prior_scale': 0.5} => RMSE: 94166260.5703\n",
      "Params: {'seasonality_mode': 'multiplicative', 'yearly_seasonality': True, 'weekly_seasonality': True, 'daily_seasonality': False, 'seasonality_prior_scale': 10.0, 'changepoint_prior_scale': 0.01} => RMSE: 148377795.8810\n"
     ]
    },
    {
     "name": "stderr",
     "output_type": "stream",
     "text": [
      "15:14:20 - cmdstanpy - INFO - Chain [1] done processing\n",
      "15:14:20 - cmdstanpy - INFO - Chain [1] start processing\n"
     ]
    },
    {
     "name": "stdout",
     "output_type": "stream",
     "text": [
      "Params: {'seasonality_mode': 'multiplicative', 'yearly_seasonality': True, 'weekly_seasonality': True, 'daily_seasonality': False, 'seasonality_prior_scale': 10.0, 'changepoint_prior_scale': 0.1} => RMSE: 166907801.4537\n"
     ]
    },
    {
     "name": "stderr",
     "output_type": "stream",
     "text": [
      "15:14:32 - cmdstanpy - INFO - Chain [1] done processing\n",
      "15:14:32 - cmdstanpy - INFO - Chain [1] start processing\n",
      "15:14:32 - cmdstanpy - INFO - Chain [1] done processing\n",
      "15:14:32 - cmdstanpy - INFO - Chain [1] start processing\n"
     ]
    },
    {
     "name": "stdout",
     "output_type": "stream",
     "text": [
      "Params: {'seasonality_mode': 'multiplicative', 'yearly_seasonality': True, 'weekly_seasonality': True, 'daily_seasonality': False, 'seasonality_prior_scale': 10.0, 'changepoint_prior_scale': 0.5} => RMSE: 209419408.2875\n",
      "Params: {'seasonality_mode': 'multiplicative', 'yearly_seasonality': True, 'weekly_seasonality': False, 'daily_seasonality': True, 'seasonality_prior_scale': 0.1, 'changepoint_prior_scale': 0.01} => RMSE: 3278867.1773\n"
     ]
    },
    {
     "name": "stderr",
     "output_type": "stream",
     "text": [
      "15:14:32 - cmdstanpy - INFO - Chain [1] done processing\n",
      "15:14:32 - cmdstanpy - INFO - Chain [1] start processing\n"
     ]
    },
    {
     "name": "stdout",
     "output_type": "stream",
     "text": [
      "Params: {'seasonality_mode': 'multiplicative', 'yearly_seasonality': True, 'weekly_seasonality': False, 'daily_seasonality': True, 'seasonality_prior_scale': 0.1, 'changepoint_prior_scale': 0.1} => RMSE: 3285520.7186\n"
     ]
    },
    {
     "name": "stderr",
     "output_type": "stream",
     "text": [
      "15:14:32 - cmdstanpy - INFO - Chain [1] done processing\n",
      "15:14:32 - cmdstanpy - INFO - Chain [1] start processing\n",
      "15:14:32 - cmdstanpy - INFO - Chain [1] done processing\n",
      "15:14:32 - cmdstanpy - INFO - Chain [1] start processing\n"
     ]
    },
    {
     "name": "stdout",
     "output_type": "stream",
     "text": [
      "Params: {'seasonality_mode': 'multiplicative', 'yearly_seasonality': True, 'weekly_seasonality': False, 'daily_seasonality': True, 'seasonality_prior_scale': 0.1, 'changepoint_prior_scale': 0.5} => RMSE: 3777162.7300\n",
      "Params: {'seasonality_mode': 'multiplicative', 'yearly_seasonality': True, 'weekly_seasonality': False, 'daily_seasonality': True, 'seasonality_prior_scale': 1.0, 'changepoint_prior_scale': 0.01} => RMSE: 6076711.0772\n"
     ]
    },
    {
     "name": "stderr",
     "output_type": "stream",
     "text": [
      "15:14:33 - cmdstanpy - INFO - Chain [1] done processing\n",
      "15:14:33 - cmdstanpy - INFO - Chain [1] start processing\n"
     ]
    },
    {
     "name": "stdout",
     "output_type": "stream",
     "text": [
      "Params: {'seasonality_mode': 'multiplicative', 'yearly_seasonality': True, 'weekly_seasonality': False, 'daily_seasonality': True, 'seasonality_prior_scale': 1.0, 'changepoint_prior_scale': 0.1} => RMSE: 6272104.3310\n"
     ]
    },
    {
     "name": "stderr",
     "output_type": "stream",
     "text": [
      "15:14:33 - cmdstanpy - INFO - Chain [1] done processing\n",
      "15:14:33 - cmdstanpy - INFO - Chain [1] start processing\n",
      "15:14:33 - cmdstanpy - INFO - Chain [1] done processing\n",
      "15:14:33 - cmdstanpy - INFO - Chain [1] start processing\n"
     ]
    },
    {
     "name": "stdout",
     "output_type": "stream",
     "text": [
      "Params: {'seasonality_mode': 'multiplicative', 'yearly_seasonality': True, 'weekly_seasonality': False, 'daily_seasonality': True, 'seasonality_prior_scale': 1.0, 'changepoint_prior_scale': 0.5} => RMSE: 4158629.6015\n",
      "Params: {'seasonality_mode': 'multiplicative', 'yearly_seasonality': True, 'weekly_seasonality': False, 'daily_seasonality': True, 'seasonality_prior_scale': 10.0, 'changepoint_prior_scale': 0.01} => RMSE: 6806330.0462\n"
     ]
    },
    {
     "name": "stderr",
     "output_type": "stream",
     "text": [
      "15:14:33 - cmdstanpy - INFO - Chain [1] done processing\n",
      "15:14:33 - cmdstanpy - INFO - Chain [1] start processing\n"
     ]
    },
    {
     "name": "stdout",
     "output_type": "stream",
     "text": [
      "Params: {'seasonality_mode': 'multiplicative', 'yearly_seasonality': True, 'weekly_seasonality': False, 'daily_seasonality': True, 'seasonality_prior_scale': 10.0, 'changepoint_prior_scale': 0.1} => RMSE: 6745065.5204\n"
     ]
    },
    {
     "name": "stderr",
     "output_type": "stream",
     "text": [
      "15:14:46 - cmdstanpy - INFO - Chain [1] done processing\n",
      "15:14:46 - cmdstanpy - INFO - Chain [1] start processing\n",
      "15:14:46 - cmdstanpy - INFO - Chain [1] done processing\n",
      "15:14:46 - cmdstanpy - INFO - Chain [1] start processing\n"
     ]
    },
    {
     "name": "stdout",
     "output_type": "stream",
     "text": [
      "Params: {'seasonality_mode': 'multiplicative', 'yearly_seasonality': True, 'weekly_seasonality': False, 'daily_seasonality': True, 'seasonality_prior_scale': 10.0, 'changepoint_prior_scale': 0.5} => RMSE: 12388131.5958\n",
      "Params: {'seasonality_mode': 'multiplicative', 'yearly_seasonality': True, 'weekly_seasonality': False, 'daily_seasonality': False, 'seasonality_prior_scale': 0.1, 'changepoint_prior_scale': 0.01} => RMSE: 3282108.9742\n"
     ]
    },
    {
     "name": "stderr",
     "output_type": "stream",
     "text": [
      "15:14:46 - cmdstanpy - INFO - Chain [1] done processing\n",
      "15:14:46 - cmdstanpy - INFO - Chain [1] start processing\n",
      "15:14:46 - cmdstanpy - INFO - Chain [1] done processing\n"
     ]
    },
    {
     "name": "stdout",
     "output_type": "stream",
     "text": [
      "Params: {'seasonality_mode': 'multiplicative', 'yearly_seasonality': True, 'weekly_seasonality': False, 'daily_seasonality': False, 'seasonality_prior_scale': 0.1, 'changepoint_prior_scale': 0.1} => RMSE: 3282981.9527\n",
      "Params: {'seasonality_mode': 'multiplicative', 'yearly_seasonality': True, 'weekly_seasonality': False, 'daily_seasonality': False, 'seasonality_prior_scale': 0.1, 'changepoint_prior_scale': 0.5} => RMSE: 3781132.7086\n"
     ]
    },
    {
     "name": "stderr",
     "output_type": "stream",
     "text": [
      "15:14:46 - cmdstanpy - INFO - Chain [1] start processing\n",
      "15:14:46 - cmdstanpy - INFO - Chain [1] done processing\n",
      "15:14:46 - cmdstanpy - INFO - Chain [1] start processing\n",
      "15:14:46 - cmdstanpy - INFO - Chain [1] done processing\n",
      "15:14:46 - cmdstanpy - INFO - Chain [1] start processing\n"
     ]
    },
    {
     "name": "stdout",
     "output_type": "stream",
     "text": [
      "Params: {'seasonality_mode': 'multiplicative', 'yearly_seasonality': True, 'weekly_seasonality': False, 'daily_seasonality': False, 'seasonality_prior_scale': 1.0, 'changepoint_prior_scale': 0.01} => RMSE: 5245854.5743\n",
      "Params: {'seasonality_mode': 'multiplicative', 'yearly_seasonality': True, 'weekly_seasonality': False, 'daily_seasonality': False, 'seasonality_prior_scale': 1.0, 'changepoint_prior_scale': 0.1} => RMSE: 5283820.6210\n"
     ]
    },
    {
     "name": "stderr",
     "output_type": "stream",
     "text": [
      "15:14:46 - cmdstanpy - INFO - Chain [1] done processing\n",
      "15:14:47 - cmdstanpy - INFO - Chain [1] start processing\n",
      "15:14:47 - cmdstanpy - INFO - Chain [1] done processing\n",
      "15:14:47 - cmdstanpy - INFO - Chain [1] start processing\n"
     ]
    },
    {
     "name": "stdout",
     "output_type": "stream",
     "text": [
      "Params: {'seasonality_mode': 'multiplicative', 'yearly_seasonality': True, 'weekly_seasonality': False, 'daily_seasonality': False, 'seasonality_prior_scale': 1.0, 'changepoint_prior_scale': 0.5} => RMSE: 5424544.5372\n",
      "Params: {'seasonality_mode': 'multiplicative', 'yearly_seasonality': True, 'weekly_seasonality': False, 'daily_seasonality': False, 'seasonality_prior_scale': 10.0, 'changepoint_prior_scale': 0.01} => RMSE: 6719760.4216\n"
     ]
    },
    {
     "name": "stderr",
     "output_type": "stream",
     "text": [
      "15:14:47 - cmdstanpy - INFO - Chain [1] done processing\n",
      "15:14:47 - cmdstanpy - INFO - Chain [1] start processing\n",
      "15:14:47 - cmdstanpy - INFO - Chain [1] done processing\n",
      "15:14:47 - cmdstanpy - INFO - Chain [1] start processing\n"
     ]
    },
    {
     "name": "stdout",
     "output_type": "stream",
     "text": [
      "Params: {'seasonality_mode': 'multiplicative', 'yearly_seasonality': True, 'weekly_seasonality': False, 'daily_seasonality': False, 'seasonality_prior_scale': 10.0, 'changepoint_prior_scale': 0.1} => RMSE: 6758399.7816\n",
      "Params: {'seasonality_mode': 'multiplicative', 'yearly_seasonality': True, 'weekly_seasonality': False, 'daily_seasonality': False, 'seasonality_prior_scale': 10.0, 'changepoint_prior_scale': 0.5} => RMSE: 6810776.8410\n"
     ]
    },
    {
     "name": "stderr",
     "output_type": "stream",
     "text": [
      "15:14:47 - cmdstanpy - INFO - Chain [1] done processing\n",
      "15:14:47 - cmdstanpy - INFO - Chain [1] start processing\n",
      "15:14:47 - cmdstanpy - INFO - Chain [1] done processing\n",
      "15:14:47 - cmdstanpy - INFO - Chain [1] start processing\n"
     ]
    },
    {
     "name": "stdout",
     "output_type": "stream",
     "text": [
      "Params: {'seasonality_mode': 'multiplicative', 'yearly_seasonality': False, 'weekly_seasonality': True, 'daily_seasonality': True, 'seasonality_prior_scale': 0.1, 'changepoint_prior_scale': 0.01} => RMSE: 2873315.2261\n",
      "Params: {'seasonality_mode': 'multiplicative', 'yearly_seasonality': False, 'weekly_seasonality': True, 'daily_seasonality': True, 'seasonality_prior_scale': 0.1, 'changepoint_prior_scale': 0.1} => RMSE: 2872597.3368\n"
     ]
    },
    {
     "name": "stderr",
     "output_type": "stream",
     "text": [
      "15:14:47 - cmdstanpy - INFO - Chain [1] done processing\n",
      "15:14:47 - cmdstanpy - INFO - Chain [1] start processing\n",
      "15:14:47 - cmdstanpy - INFO - Chain [1] done processing\n",
      "15:14:47 - cmdstanpy - INFO - Chain [1] start processing\n",
      "15:14:47 - cmdstanpy - INFO - Chain [1] done processing\n",
      "15:14:47 - cmdstanpy - INFO - Chain [1] start processing\n"
     ]
    },
    {
     "name": "stdout",
     "output_type": "stream",
     "text": [
      "Params: {'seasonality_mode': 'multiplicative', 'yearly_seasonality': False, 'weekly_seasonality': True, 'daily_seasonality': True, 'seasonality_prior_scale': 0.1, 'changepoint_prior_scale': 0.5} => RMSE: 3694110.9172\n",
      "Params: {'seasonality_mode': 'multiplicative', 'yearly_seasonality': False, 'weekly_seasonality': True, 'daily_seasonality': True, 'seasonality_prior_scale': 1.0, 'changepoint_prior_scale': 0.01} => RMSE: 2944571.8982\n",
      "Params: {'seasonality_mode': 'multiplicative', 'yearly_seasonality': False, 'weekly_seasonality': True, 'daily_seasonality': True, 'seasonality_prior_scale': 1.0, 'changepoint_prior_scale': 0.1} => RMSE: 2904811.1268\n"
     ]
    },
    {
     "name": "stderr",
     "output_type": "stream",
     "text": [
      "15:14:48 - cmdstanpy - INFO - Chain [1] done processing\n",
      "15:14:48 - cmdstanpy - INFO - Chain [1] start processing\n",
      "15:14:48 - cmdstanpy - INFO - Chain [1] done processing\n",
      "15:14:48 - cmdstanpy - INFO - Chain [1] start processing\n",
      "15:14:48 - cmdstanpy - INFO - Chain [1] done processing\n"
     ]
    },
    {
     "name": "stdout",
     "output_type": "stream",
     "text": [
      "Params: {'seasonality_mode': 'multiplicative', 'yearly_seasonality': False, 'weekly_seasonality': True, 'daily_seasonality': True, 'seasonality_prior_scale': 1.0, 'changepoint_prior_scale': 0.5} => RMSE: 3421519.8317\n",
      "Params: {'seasonality_mode': 'multiplicative', 'yearly_seasonality': False, 'weekly_seasonality': True, 'daily_seasonality': True, 'seasonality_prior_scale': 10.0, 'changepoint_prior_scale': 0.01} => RMSE: 2895698.8795\n"
     ]
    },
    {
     "name": "stderr",
     "output_type": "stream",
     "text": [
      "15:14:48 - cmdstanpy - INFO - Chain [1] start processing\n"
     ]
    },
    {
     "name": "stdout",
     "output_type": "stream",
     "text": [
      "Params: {'seasonality_mode': 'multiplicative', 'yearly_seasonality': False, 'weekly_seasonality': True, 'daily_seasonality': True, 'seasonality_prior_scale': 10.0, 'changepoint_prior_scale': 0.1} => RMSE: 2905416.1338\n"
     ]
    },
    {
     "name": "stderr",
     "output_type": "stream",
     "text": [
      "15:14:48 - cmdstanpy - INFO - Chain [1] done processing\n",
      "15:14:48 - cmdstanpy - INFO - Chain [1] start processing\n",
      "15:14:48 - cmdstanpy - INFO - Chain [1] done processing\n",
      "15:14:48 - cmdstanpy - INFO - Chain [1] start processing\n",
      "15:14:48 - cmdstanpy - INFO - Chain [1] done processing\n",
      "15:14:48 - cmdstanpy - INFO - Chain [1] start processing\n"
     ]
    },
    {
     "name": "stdout",
     "output_type": "stream",
     "text": [
      "Params: {'seasonality_mode': 'multiplicative', 'yearly_seasonality': False, 'weekly_seasonality': True, 'daily_seasonality': True, 'seasonality_prior_scale': 10.0, 'changepoint_prior_scale': 0.5} => RMSE: 9153967.1573\n",
      "Params: {'seasonality_mode': 'multiplicative', 'yearly_seasonality': False, 'weekly_seasonality': True, 'daily_seasonality': False, 'seasonality_prior_scale': 0.1, 'changepoint_prior_scale': 0.01} => RMSE: 2870723.8778\n",
      "Params: {'seasonality_mode': 'multiplicative', 'yearly_seasonality': False, 'weekly_seasonality': True, 'daily_seasonality': False, 'seasonality_prior_scale': 0.1, 'changepoint_prior_scale': 0.1} => RMSE: 2876960.4410\n"
     ]
    },
    {
     "name": "stderr",
     "output_type": "stream",
     "text": [
      "15:14:48 - cmdstanpy - INFO - Chain [1] done processing\n",
      "15:14:49 - cmdstanpy - INFO - Chain [1] start processing\n",
      "15:14:49 - cmdstanpy - INFO - Chain [1] done processing\n",
      "15:14:49 - cmdstanpy - INFO - Chain [1] start processing\n",
      "15:14:49 - cmdstanpy - INFO - Chain [1] done processing\n"
     ]
    },
    {
     "name": "stdout",
     "output_type": "stream",
     "text": [
      "Params: {'seasonality_mode': 'multiplicative', 'yearly_seasonality': False, 'weekly_seasonality': True, 'daily_seasonality': False, 'seasonality_prior_scale': 0.1, 'changepoint_prior_scale': 0.5} => RMSE: 3632546.3750\n",
      "Params: {'seasonality_mode': 'multiplicative', 'yearly_seasonality': False, 'weekly_seasonality': True, 'daily_seasonality': False, 'seasonality_prior_scale': 1.0, 'changepoint_prior_scale': 0.01} => RMSE: 2892167.6843\n"
     ]
    },
    {
     "name": "stderr",
     "output_type": "stream",
     "text": [
      "15:14:49 - cmdstanpy - INFO - Chain [1] start processing\n",
      "15:14:49 - cmdstanpy - INFO - Chain [1] done processing\n",
      "15:14:49 - cmdstanpy - INFO - Chain [1] start processing\n"
     ]
    },
    {
     "name": "stdout",
     "output_type": "stream",
     "text": [
      "Params: {'seasonality_mode': 'multiplicative', 'yearly_seasonality': False, 'weekly_seasonality': True, 'daily_seasonality': False, 'seasonality_prior_scale': 1.0, 'changepoint_prior_scale': 0.1} => RMSE: 2903846.1361\n",
      "Params: {'seasonality_mode': 'multiplicative', 'yearly_seasonality': False, 'weekly_seasonality': True, 'daily_seasonality': False, 'seasonality_prior_scale': 1.0, 'changepoint_prior_scale': 0.5} => RMSE: 3613898.7589\n"
     ]
    },
    {
     "name": "stderr",
     "output_type": "stream",
     "text": [
      "15:14:49 - cmdstanpy - INFO - Chain [1] done processing\n",
      "15:14:49 - cmdstanpy - INFO - Chain [1] start processing\n",
      "15:14:49 - cmdstanpy - INFO - Chain [1] done processing\n",
      "15:14:49 - cmdstanpy - INFO - Chain [1] start processing\n"
     ]
    },
    {
     "name": "stdout",
     "output_type": "stream",
     "text": [
      "Params: {'seasonality_mode': 'multiplicative', 'yearly_seasonality': False, 'weekly_seasonality': True, 'daily_seasonality': False, 'seasonality_prior_scale': 10.0, 'changepoint_prior_scale': 0.01} => RMSE: 2908387.6369\n",
      "Params: {'seasonality_mode': 'multiplicative', 'yearly_seasonality': False, 'weekly_seasonality': True, 'daily_seasonality': False, 'seasonality_prior_scale': 10.0, 'changepoint_prior_scale': 0.1} => RMSE: 2909923.1677\n"
     ]
    },
    {
     "name": "stderr",
     "output_type": "stream",
     "text": [
      "15:14:49 - cmdstanpy - INFO - Chain [1] done processing\n",
      "15:14:49 - cmdstanpy - INFO - Chain [1] start processing\n",
      "15:14:49 - cmdstanpy - INFO - Chain [1] done processing\n",
      "15:14:49 - cmdstanpy - INFO - Chain [1] start processing\n",
      "15:14:49 - cmdstanpy - INFO - Chain [1] done processing\n",
      "15:14:49 - cmdstanpy - INFO - Chain [1] start processing\n"
     ]
    },
    {
     "name": "stdout",
     "output_type": "stream",
     "text": [
      "Params: {'seasonality_mode': 'multiplicative', 'yearly_seasonality': False, 'weekly_seasonality': True, 'daily_seasonality': False, 'seasonality_prior_scale': 10.0, 'changepoint_prior_scale': 0.5} => RMSE: 3612973.6528\n",
      "Params: {'seasonality_mode': 'multiplicative', 'yearly_seasonality': False, 'weekly_seasonality': False, 'daily_seasonality': True, 'seasonality_prior_scale': 0.1, 'changepoint_prior_scale': 0.01} => RMSE: 3270237.3700\n",
      "Params: {'seasonality_mode': 'multiplicative', 'yearly_seasonality': False, 'weekly_seasonality': False, 'daily_seasonality': True, 'seasonality_prior_scale': 0.1, 'changepoint_prior_scale': 0.1} => RMSE: 3262853.3547\n"
     ]
    },
    {
     "name": "stderr",
     "output_type": "stream",
     "text": [
      "15:14:50 - cmdstanpy - INFO - Chain [1] done processing\n",
      "15:14:50 - cmdstanpy - INFO - Chain [1] start processing\n",
      "15:14:50 - cmdstanpy - INFO - Chain [1] done processing\n",
      "15:14:50 - cmdstanpy - INFO - Chain [1] start processing\n",
      "15:14:50 - cmdstanpy - INFO - Chain [1] done processing\n",
      "15:14:50 - cmdstanpy - INFO - Chain [1] start processing\n"
     ]
    },
    {
     "name": "stdout",
     "output_type": "stream",
     "text": [
      "Params: {'seasonality_mode': 'multiplicative', 'yearly_seasonality': False, 'weekly_seasonality': False, 'daily_seasonality': True, 'seasonality_prior_scale': 0.1, 'changepoint_prior_scale': 0.5} => RMSE: 3886890.2589\n",
      "Params: {'seasonality_mode': 'multiplicative', 'yearly_seasonality': False, 'weekly_seasonality': False, 'daily_seasonality': True, 'seasonality_prior_scale': 1.0, 'changepoint_prior_scale': 0.01} => RMSE: 3275437.2557\n",
      "Params: {'seasonality_mode': 'multiplicative', 'yearly_seasonality': False, 'weekly_seasonality': False, 'daily_seasonality': True, 'seasonality_prior_scale': 1.0, 'changepoint_prior_scale': 0.1} => RMSE: 3264549.6545\n"
     ]
    },
    {
     "name": "stderr",
     "output_type": "stream",
     "text": [
      "15:14:50 - cmdstanpy - INFO - Chain [1] done processing\n",
      "15:14:50 - cmdstanpy - INFO - Chain [1] start processing\n",
      "15:14:50 - cmdstanpy - INFO - Chain [1] done processing\n",
      "15:14:50 - cmdstanpy - INFO - Chain [1] start processing\n",
      "15:14:50 - cmdstanpy - INFO - Chain [1] done processing\n",
      "15:14:50 - cmdstanpy - INFO - Chain [1] start processing\n"
     ]
    },
    {
     "name": "stdout",
     "output_type": "stream",
     "text": [
      "Params: {'seasonality_mode': 'multiplicative', 'yearly_seasonality': False, 'weekly_seasonality': False, 'daily_seasonality': True, 'seasonality_prior_scale': 1.0, 'changepoint_prior_scale': 0.5} => RMSE: 3638184.2284\n",
      "Params: {'seasonality_mode': 'multiplicative', 'yearly_seasonality': False, 'weekly_seasonality': False, 'daily_seasonality': True, 'seasonality_prior_scale': 10.0, 'changepoint_prior_scale': 0.01} => RMSE: 3263295.1778\n",
      "Params: {'seasonality_mode': 'multiplicative', 'yearly_seasonality': False, 'weekly_seasonality': False, 'daily_seasonality': True, 'seasonality_prior_scale': 10.0, 'changepoint_prior_scale': 0.1} => RMSE: 3264787.2074\n"
     ]
    },
    {
     "name": "stderr",
     "output_type": "stream",
     "text": [
      "15:14:50 - cmdstanpy - INFO - Chain [1] done processing\n",
      "15:14:50 - cmdstanpy - INFO - Chain [1] start processing\n",
      "15:14:51 - cmdstanpy - INFO - Chain [1] done processing\n",
      "15:14:51 - cmdstanpy - INFO - Chain [1] start processing\n",
      "15:14:51 - cmdstanpy - INFO - Chain [1] done processing\n",
      "15:14:51 - cmdstanpy - INFO - Chain [1] start processing\n"
     ]
    },
    {
     "name": "stdout",
     "output_type": "stream",
     "text": [
      "Params: {'seasonality_mode': 'multiplicative', 'yearly_seasonality': False, 'weekly_seasonality': False, 'daily_seasonality': True, 'seasonality_prior_scale': 10.0, 'changepoint_prior_scale': 0.5} => RMSE: 3318515.5082\n",
      "Params: {'seasonality_mode': 'multiplicative', 'yearly_seasonality': False, 'weekly_seasonality': False, 'daily_seasonality': False, 'seasonality_prior_scale': 0.1, 'changepoint_prior_scale': 0.01} => RMSE: 3259864.6103\n",
      "Params: {'seasonality_mode': 'multiplicative', 'yearly_seasonality': False, 'weekly_seasonality': False, 'daily_seasonality': False, 'seasonality_prior_scale': 0.1, 'changepoint_prior_scale': 0.1} => RMSE: 3264371.3843\n"
     ]
    },
    {
     "name": "stderr",
     "output_type": "stream",
     "text": [
      "15:14:51 - cmdstanpy - INFO - Chain [1] done processing\n",
      "15:14:51 - cmdstanpy - INFO - Chain [1] start processing\n",
      "15:14:51 - cmdstanpy - INFO - Chain [1] done processing\n",
      "15:14:51 - cmdstanpy - INFO - Chain [1] start processing\n",
      "15:14:51 - cmdstanpy - INFO - Chain [1] done processing\n",
      "15:14:51 - cmdstanpy - INFO - Chain [1] start processing\n"
     ]
    },
    {
     "name": "stdout",
     "output_type": "stream",
     "text": [
      "Params: {'seasonality_mode': 'multiplicative', 'yearly_seasonality': False, 'weekly_seasonality': False, 'daily_seasonality': False, 'seasonality_prior_scale': 0.1, 'changepoint_prior_scale': 0.5} => RMSE: 3853678.4100\n",
      "Params: {'seasonality_mode': 'multiplicative', 'yearly_seasonality': False, 'weekly_seasonality': False, 'daily_seasonality': False, 'seasonality_prior_scale': 1.0, 'changepoint_prior_scale': 0.01} => RMSE: 3259864.6103\n",
      "Params: {'seasonality_mode': 'multiplicative', 'yearly_seasonality': False, 'weekly_seasonality': False, 'daily_seasonality': False, 'seasonality_prior_scale': 1.0, 'changepoint_prior_scale': 0.1} => RMSE: 3264371.3843\n"
     ]
    },
    {
     "name": "stderr",
     "output_type": "stream",
     "text": [
      "15:14:51 - cmdstanpy - INFO - Chain [1] done processing\n",
      "15:14:51 - cmdstanpy - INFO - Chain [1] start processing\n",
      "15:14:51 - cmdstanpy - INFO - Chain [1] done processing\n",
      "15:14:51 - cmdstanpy - INFO - Chain [1] start processing\n",
      "15:14:51 - cmdstanpy - INFO - Chain [1] done processing\n",
      "15:14:51 - cmdstanpy - INFO - Chain [1] start processing\n"
     ]
    },
    {
     "name": "stdout",
     "output_type": "stream",
     "text": [
      "Params: {'seasonality_mode': 'multiplicative', 'yearly_seasonality': False, 'weekly_seasonality': False, 'daily_seasonality': False, 'seasonality_prior_scale': 1.0, 'changepoint_prior_scale': 0.5} => RMSE: 3853678.4100\n",
      "Params: {'seasonality_mode': 'multiplicative', 'yearly_seasonality': False, 'weekly_seasonality': False, 'daily_seasonality': False, 'seasonality_prior_scale': 10.0, 'changepoint_prior_scale': 0.01} => RMSE: 3259864.6103\n",
      "Params: {'seasonality_mode': 'multiplicative', 'yearly_seasonality': False, 'weekly_seasonality': False, 'daily_seasonality': False, 'seasonality_prior_scale': 10.0, 'changepoint_prior_scale': 0.1} => RMSE: 3264371.3843\n"
     ]
    },
    {
     "name": "stderr",
     "output_type": "stream",
     "text": [
      "15:14:51 - cmdstanpy - INFO - Chain [1] done processing\n"
     ]
    },
    {
     "name": "stdout",
     "output_type": "stream",
     "text": [
      "Params: {'seasonality_mode': 'multiplicative', 'yearly_seasonality': False, 'weekly_seasonality': False, 'daily_seasonality': False, 'seasonality_prior_scale': 10.0, 'changepoint_prior_scale': 0.5} => RMSE: 3853678.4100\n",
      "Best Params: {'seasonality_mode': 'additive', 'yearly_seasonality': False, 'weekly_seasonality': True, 'daily_seasonality': True, 'seasonality_prior_scale': 0.1, 'changepoint_prior_scale': 0.1}\n",
      "Validation RMSE: 2866894.4721454247\n"
     ]
    }
   ],
   "source": [
    "# EXAMPLE\n",
    "# Prophet\n",
    "X_train, X_val, y_train, y_val = train_val_split(sales_agg1, df_market, train_size=0.8)\n",
    "\n",
    "param_grid = {\n",
    "    'seasonality_mode': ['additive', 'multiplicative'],\n",
    "    'yearly_seasonality': [True, False],\n",
    "    'weekly_seasonality': [True, False],\n",
    "    'daily_seasonality': [True, False],\n",
    "    'seasonality_prior_scale': [0.1, 1.0, 10.0],\n",
    "    'changepoint_prior_scale': [0.01, 0.1, 0.5]\n",
    "}\n",
    "\n",
    "best_model, best_params, best_rmse = model_evaluation_prophet(X_train, y_train, X_val, y_val, param_grid)\n",
    "\n",
    "print(\"Best Params:\", best_params)\n",
    "\n",
    "print(\"Validation RMSE:\", best_rmse)"
   ]
  }
 ],
 "metadata": {
  "kernelspec": {
   "display_name": "DM2425",
   "language": "python",
   "name": "python3"
  },
  "language_info": {
   "codemirror_mode": {
    "name": "ipython",
    "version": 3
   },
   "file_extension": ".py",
   "mimetype": "text/x-python",
   "name": "python",
   "nbconvert_exporter": "python",
   "pygments_lexer": "ipython3",
   "version": "3.12.7"
  }
 },
 "nbformat": 4,
 "nbformat_minor": 2
}
